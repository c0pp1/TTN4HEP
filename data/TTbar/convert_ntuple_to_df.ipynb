{
 "cells": [
  {
   "cell_type": "code",
   "execution_count": 4,
   "metadata": {},
   "outputs": [],
   "source": [
    "import pandas as pd\n",
    "\n",
    "import uproot\n",
    "import awkward as ak\n",
    "import vector\n",
    "vector.register_awkward()\n",
    "\n",
    "from argparse import ArgumentParser\n",
    "\n",
    "def get_jetconst_columns(jet_collection, n_const = 8):\n",
    "    ''' Get constituent column names '''\n",
    "\n",
    "    const_members = [\n",
    "        'pt','eta','phi',\n",
    "         'mass', # valid?\n",
    "        'pdgId', # reco Id by PF algo, not full pdgID, but reduced variety for hadrons - has inefficiency! and not to be used directly\n",
    "        'vz'\n",
    "    ]\n",
    "\n",
    "    const_columns = []\n",
    "\n",
    "    for idau in range(n_const):\n",
    "        const_columns += [jet_collection + \"_dau%i_%s\" %(idau,memb) for memb in const_members]\n",
    "\n",
    "    return const_columns\n",
    "\n",
    "def load_arrays(fname = \"data/perfNano_TTbar_PU200_GenParts_More.root\",\n",
    "                jet_collection = \"L1PuppiAK4Jets\",\n",
    "                n_const = 8,\n",
    "                ):\n",
    "    ''' Load arrays from ROOT file and return '''\n",
    "    print(\"Reading arrays from %s\" %fname)\n",
    "\n",
    "    # open ROOT file\n",
    "    tree = uproot.open(fname)[\"Events\"]\n",
    "\n",
    "    # get available jet collection names\n",
    "    avail_jet_collections = [b[:-3] for b in tree.keys(filter_name=\"*Jets_pt\")]\n",
    "\n",
    "    ## check jet collections are present\n",
    "    for colname in [\"GenJets\",jet_collection]:\n",
    "        if colname not in avail_jet_collections:\n",
    "            print(colname, \" not available in \", fname)\n",
    "            return 0\n",
    "\n",
    "    ## get GenPart and GenJets\n",
    "    gen_arrays = tree.arrays(library=\"ak\", how=\"zip\",\n",
    "                             filter_name = \"/(GenCands_|GenJets_)(pt|eta|phi|pdgId|status|partonFlavour|hadronFlavour)/\"\n",
    "                             )\n",
    "\n",
    "    genparts = ak.with_name(gen_arrays.GenCands, \"Momentum4D\")\n",
    "    genjets = ak.with_name(gen_arrays.GenJets, \"Momentum4D\")\n",
    "    print(\"Loaded: %i events\" %len(genjets))\n",
    "    print(\"Loaded: %i genjets\" %len(ak.flatten(genjets, axis = 1)))\n",
    "    print(\"Loaded: %i genparts\" %len(ak.flatten(genparts, axis = 1)))\n",
    "    # get jets array for collection of interest\n",
    "    if jet_collection == \"GenJets\":\n",
    "        # no need to load anything extra, use genjets as reco jets\n",
    "        l1jets = genjets\n",
    "    else:\n",
    "        jet_arrays = tree.arrays(library=\"ak\", how=\"zip\", filter_name = \"/(%s_)(pt|eta|phi)/\" %jet_collection )\n",
    "        l1jets = ak.with_name(jet_arrays[jet_collection], \"Momentum4D\")\n",
    "        print(\"Loaded: %i %s\" %(len(ak.flatten(l1jets, axis = 1)), jet_collection))\n",
    "\n",
    "    ## Load jet constituents\n",
    "    const_columns = get_jetconst_columns(jet_collection, n_const)\n",
    "    const_array = tree.arrays(library=\"ak\", how=\"zip\", filter_name = const_columns)\n",
    "    jet_consts = const_array[jet_collection]\n",
    "\n",
    "    return genparts, genjets, l1jets, jet_consts\n",
    "\n",
    "def match_genParts(l1jets, genparts):\n",
    "    ## The mapping of GenParts to be matched to\n",
    "    gen_sel_ids = {\n",
    "        ## light\n",
    "        \"g\": (abs(genparts.pdgId) == 21) & (abs(genparts.status) == 71),\n",
    "        \"q\": (abs(genparts.pdgId) < 5) & (abs(genparts.status) == 23),\n",
    "        \"b\": (abs(genparts.pdgId) == 5) & (abs(genparts.status) == 23),\n",
    "        ## heavy\n",
    "        \"t\": (abs(genparts.pdgId) == 6) & (abs(genparts.status) == 22),\n",
    "        \"W\": (abs(genparts.pdgId) == 24) & (abs(genparts.status) == 22),\n",
    "        ## leptons\n",
    "        \"e\": (abs(genparts.pdgId) == 11) & (abs(genparts.status) == 1),\n",
    "        \"mu\": (abs(genparts.pdgId) == 13) & (abs(genparts.status) == 1),\n",
    "        \"tau\": (abs(genparts.pdgId) == 15) & (abs(genparts.status) == 2),\n",
    "    }\n",
    "\n",
    "\n",
    "    ## matching to Gen Particles\n",
    "    for part_label, part_sel in gen_sel_ids.items():\n",
    "\n",
    "        jet_gen = ak.cartesian({\"jets\": l1jets, \"gen\": genparts[part_sel]}, nested=True)\n",
    "        js, gs = ak.unzip(jet_gen)\n",
    "        dR = js.deltaR(gs)\n",
    "\n",
    "        l1jets[\"min_dR_\" + part_label] = ak.min(dR, axis = -1)\n",
    "        print(part_label, ak.sum(l1jets[\"min_dR_\" + part_label] < 0.4))\n",
    "\n",
    "    return l1jets\n",
    "\n",
    "def match_genJets(l1jets, genjets):\n",
    "\n",
    "    jet_gen = ak.cartesian({\"jets\": l1jets, \"gen\": genjets}, nested=True)\n",
    "    js, gs = ak.unzip(jet_gen)\n",
    "    dR = js.deltaR(gs)\n",
    "\n",
    "    l1jets[\"min_dR_genjet\"] = ak.min(dR, axis = -1)\n",
    "    best_dR = ak.argmin(dR, axis=-1, keepdims=True)\n",
    "\n",
    "    l1jets[\"partonFlavour\"] = jet_gen[best_dR].gen.partonFlavour\n",
    "    l1jets[\"hadronFlavour\"] = jet_gen[best_dR].gen.hadronFlavour\n",
    "    print (l1jets[\"hadronFlavour\"])\n",
    "    return l1jets"
   ]
  },
  {
   "cell_type": "code",
   "execution_count": 2,
   "metadata": {},
   "outputs": [
    {
     "name": "stdout",
     "output_type": "stream",
     "text": [
      "Reading arrays from perfNano.root\n",
      "Loaded: 1000 events\n",
      "Loaded: 6661 genjets\n",
      "Loaded: 1713367 genparts\n",
      "Loaded: 15052 scPuppiCorrJets\n"
     ]
    }
   ],
   "source": [
    "genparts, genjets, l1jets, jet_consts = load_arrays('perfNano.root','scPuppiCorrJets',64)"
   ]
  },
  {
   "cell_type": "code",
   "execution_count": 3,
   "metadata": {},
   "outputs": [],
   "source": [
    "gen_sel_ids = {\n",
    "        ## light\n",
    "        \"g\": (abs(genparts.pdgId) == 21) & (abs(genparts.status) == 71),\n",
    "        \"q\": (abs(genparts.pdgId) < 5) & (abs(genparts.status) == 23),\n",
    "        \"b\": (abs(genparts.pdgId) == 5) & (abs(genparts.status) == 23),\n",
    "        ## heavy\n",
    "        \"t\": (abs(genparts.pdgId) == 6) & (abs(genparts.status) == 22),\n",
    "        \"W\": (abs(genparts.pdgId) == 24) & (abs(genparts.status) == 22),\n",
    "        ## leptons\n",
    "        \"e\": (abs(genparts.pdgId) == 11) & (abs(genparts.status) == 1),\n",
    "        \"mu\": (abs(genparts.pdgId) == 13) & (abs(genparts.status) == 1),\n",
    "        \"tau\": (abs(genparts.pdgId) == 15) & (abs(genparts.status) == 2),\n",
    "    }"
   ]
  },
  {
   "cell_type": "code",
   "execution_count": 4,
   "metadata": {},
   "outputs": [],
   "source": [
    "jet_gen = ak.cartesian({\"jets\": l1jets, \"gen\": genparts[gen_sel_ids['g']]}, nested=True)\n",
    "js, gs = ak.unzip(jet_gen)\n",
    "dR = js.deltaR(gs)"
   ]
  },
  {
   "cell_type": "code",
   "execution_count": 24,
   "metadata": {},
   "outputs": [
    {
     "data": {
      "text/html": [
       "<pre>[[6.12, 3.45, 3.8, 2.77, 2.72, 2.98, ..., 2.39, 3.01, 3.94, 2.86, 2.38, 2.69],\n",
       " [2.67, 2.4, 2.91, 3.15, 3.89, 3.82, ..., 7.8, 8.05, 8.96, 8.49, 8.94, 9.08],\n",
       " [3.11, 4.23, 4.33, 3.85, 3.37, 2.66, ..., 9.43, 8.79, 7.76, 7.39, 7.9, 6.83],\n",
       " [0.666, 0.852, 1.13, 0.915, 1.08, 2.17, ..., 1.15, 0.76, 0.994, 1.79, 5.28],\n",
       " [3.81, 2.47, 2.62, 3.11, 2.37, 4, ..., 2.11, 1.92, 1.53, 1.36, 0.673, 0.647],\n",
       " [4.99, 4.52, 5.38, 2.76, 2.26, 2.82, ..., 7.55, 6.87, 5.5, 1.8, 1.21, 3.13],\n",
       " [3.44, 2.79, 2.18, 1.37, 1.81, 0.894, ..., 5.81, 6.11, 5.72, 4.98, 5.04, 4.11],\n",
       " [2.68, 2.29, 2.42, 1.33, 1.84, 4.09, ..., 4.82, 4.72, 4.14, 4.3, 4.58, 4.38],\n",
       " [2.92, 3.94, 3.81, 5.84, 5.6, 5.27, ..., 7.64, 7.26, 6.96, 7.39, 6.93, 9.79],\n",
       " [2.11, 3.92, 3.26, 2.38, 6.95, 7.64, ..., 5.92, 7.1, 7.3, 8.1, 9.34, 10.5],\n",
       " ...,\n",
       " [3.76, 4.13, 0.4, 5.47, 3.06, 2.89, ..., 0.834, 2.18, 1.22, 4.4, 4.61, 5.2],\n",
       " [4.3, 3.37, 2.17, 1.03, 1.93, 3.34, ..., 6.04, 4.99, 4.87, 3.61, 3.81, 3.44],\n",
       " [4.49, 0.695, 0.618, 1.44, 1.9, 1.63, ..., 1.75, 1.66, 1.54, 8.89, 7.35, 7.34],\n",
       " [1.15, 0.7, 0.937, 2.47, 1.4, 2.47, ..., 5.39, 5.82, 6.65, 7.44, 4.6, 6.03],\n",
       " [1.38, 3.1, 3.16, 3.54, 4.22, 3.67, ..., 3.82, 3.9, 3.77, 3.7, 3.39, 2.94],\n",
       " [2.77, 1.43, 2.93, 2.8, 2.49, 2.55, 2.4, ..., 5.3, 7, 7.89, 9.1, 8.68, 6.54],\n",
       " [3.99, 4.09, 4.17, 3.33, 1.6, 2.45, ..., 5.3, 4.84, 4.59, 4.9, 4.02, 3.99],\n",
       " [1.92, 2.89, 2.06, 1.33, 0.967, 2.51, ..., 7.25, 3.49, 3.21, 2.34, 2.48, 2.21],\n",
       " [2.9, 2.51, 1.01, 0.822, 1.89, 5.09, ..., 0.895, 0.854, 0.987, 2.8, 3.92]]\n",
       "--------------------------------------------------------------------------------\n",
       "type: 1000 * var * float32</pre>"
      ],
      "text/plain": [
       "<Array [[6.12, 3.45, 3.8, ..., 2.38, 2.69], ...] type='1000 * var * float32'>"
      ]
     },
     "execution_count": 24,
     "metadata": {},
     "output_type": "execute_result"
    }
   ],
   "source": [
    "dR"
   ]
  },
  {
   "cell_type": "markdown",
   "metadata": {},
   "source": [
    "## Check what we lost from raw data"
   ]
  },
  {
   "cell_type": "code",
   "execution_count": 6,
   "metadata": {},
   "outputs": [
    {
     "data": {
      "text/html": [
       "<pre>[[0.13, 0.13, 0.5, 0.13, 0.13, 0.13, ..., 0, 0.13, 0.13, 0.13, 0.13, 0.13],\n",
       " [0.5, 0.13, 0.13, 0.13, 0.13, 0.13, ..., 0.13, 0.13, 0.13, 0.13, 0.13, 0.13],\n",
       " [0.105, 0, 0.13, 0, 0, 0.13, 0.13, ..., 0.13, 0.13, 0.13, 0.13, 0.13, 0.13],\n",
       " [0, 0.13, 0.105, 0.13, 0.5, 0.13, ..., 0.13, 0.13, 0.13, 0.13, 0.13, 0.13],\n",
       " [0, 0.13, 0, 0.105, 0, 0.13, 0.13, ..., 0.13, 0.13, 0.13, 0.105, 0.13, 0.13],\n",
       " [0.13, 0.5, 0.13, 0.13, 0.13, 0.13, ..., 0.13, 0.13, 0.13, 0.13, 0.13, 0],\n",
       " [0, 0.13, 0, 0.5, 0.5, 0.5, 0.13, ..., 0.005, 0.13, 0.13, 0.13, 0.13, 0.13],\n",
       " [0.13, 0.13, 0, 0.13, 0.13, 0.13, ..., 0.13, 0.13, 0.13, 0.13, 0.13, 0.13],\n",
       " [0.5, 0.13, 0.5, 0.13, 0.13, 0.13, ..., 0.13, 0.13, 0.13, 0.13, 0.13, 0.13],\n",
       " [0.13, 0.13, 0.13, 0.13, 0, 0.13, ..., 0.13, 0.13, 0.13, 0.13, 0.13, 0.13],\n",
       " ...,\n",
       " [0, 0.13, 0.13, 0.13, 0.13, 0.13, ..., 0.13, 0.13, 0.13, 0.13, 0.13, 0.13],\n",
       " [0.13, 0, 0.5, 0, 0.13, 0.13, 0.13, 0.5, 0.13, 0.105, 0.13, 0.13],\n",
       " [0, 0.13, 0.13, 0.13, 0.13, 0.13, 0.13, 0, 0.13],\n",
       " [0.13, 0.13, 0.13, 0.13, 0.13, 0, 0, ..., 0.13, 0.13, 0.13, 0.13, 0.13, 0.13],\n",
       " [0.13, 0.13, 0.13, 0.13, 0, 0.13, ..., 0.13, 0.13, 0.13, 0.13, 0.13, 0.13],\n",
       " [0, 0.13, 0, 0.13, 0.13, 0, 0.13],\n",
       " [0, 0.005, 0, 0.005, 0.105, 0, 0.13, 0.13],\n",
       " [0, 0.5, 0.13, 0.13, 0.13, 0.13, 0, ..., 0.13, 0.13, 0.13, 0.13, 0.13, 0.13],\n",
       " [0.13, 0.5, 0, 0.13, 0.13, 0.13, ..., 0.13, 0.13, 0.13, 0.13, 0.13, 0.13]]\n",
       "-------------------------------------------------------------------------------\n",
       "type: 1000 * var * float32</pre>"
      ],
      "text/plain": [
       "<Array [[0.13, 0.13, 0.5, ..., 0.13, 0.13], ...] type='1000 * var * float32'>"
      ]
     },
     "execution_count": 6,
     "metadata": {},
     "output_type": "execute_result"
    }
   ],
   "source": [
    "jet_consts.dau0_mass"
   ]
  },
  {
   "cell_type": "code",
   "execution_count": 5,
   "metadata": {},
   "outputs": [],
   "source": [
    "tree = uproot.open('perfNano.root')['Events']"
   ]
  },
  {
   "cell_type": "code",
   "execution_count": 30,
   "metadata": {},
   "outputs": [
    {
     "name": "stdout",
     "output_type": "stream",
     "text": [
      "? numberOfDaughters() > 0 ? daughter(0).pt : -1\n",
      "? numberOfDaughters() > 0 ? daughter(0).pt : -1\n",
      "pt of jet\n"
     ]
    }
   ],
   "source": [
    "print(tree['scPuppiCorrJets_dau0_pt'].title,\n",
    "      tree['GenJets_dau0_pt'].title,\n",
    "      tree['GenJets_pt'].title,\n",
    "      sep='\\n')"
   ]
  },
  {
   "cell_type": "code",
   "execution_count": 9,
   "metadata": {},
   "outputs": [
    {
     "data": {
      "text/html": [
       "<pre>{GenCands_mass: [173, 172, 3.81e-06, -1.79e-05, ..., 8.3e-08, 5.77e-08, 0.498]}\n",
       "-------------------------------------------------------------------------------\n",
       "type: {\n",
       "    GenCands_mass: var * float32\n",
       "}</pre>"
      ],
      "text/plain": [
       "<Record {GenCands_mass: [173, ..., 0.498]} type='{GenCands_mass: var * floa...'>"
      ]
     },
     "execution_count": 9,
     "metadata": {},
     "output_type": "execute_result"
    }
   ],
   "source": [
    "tree.arrays(filter_name='GenCands_mass')[0]"
   ]
  },
  {
   "cell_type": "code",
   "execution_count": 12,
   "metadata": {},
   "outputs": [
    {
     "data": {
      "text/html": [
       "<pre>[{GenCands_charge: [0, 0, 0, 0, 0, 0, 0, 0, ..., 0, 0, 0, 0, 0, 0, 0, 0]},\n",
       " {GenCands_charge: [0, 0, 0, 0, 0, 0, 0, 0, ..., 0, 0, 0, 0, 0, 0, 0, 0]},\n",
       " {GenCands_charge: [0, 0, 0, 0, 0, 0, 0, 0, ..., 0, 0, 0, 0, 0, 0, 0, 0]},\n",
       " {GenCands_charge: [0, 0, 0, 0, 0, 0, 0, 0, ..., 0, 0, 0, -1, 1, 0, 0, 0]},\n",
       " {GenCands_charge: [0, 0, 0, 0, 0, 0, 0, 0, ..., 0, 0, 0, 0, 1, 0, 0, 0]},\n",
       " {GenCands_charge: [0, 0, 0, 0, 0, 0, 0, 0, ..., 1, -1, 0, 0, 0, 0, 0, 0]},\n",
       " {GenCands_charge: [0, 0, 0, 0, 0, 0, 0, 0, ..., 0, 0, 0, 0, 0, 0, 0, 0]},\n",
       " {GenCands_charge: [0, 0, 0, 0, 0, 0, 0, 0, ..., 0, 0, 0, 0, 0, 0, -1, 1]},\n",
       " {GenCands_charge: [0, 0, 0, 0, 0, 0, 0, 0, ..., 0, 0, 0, 0, 0, 0, 0, 0]},\n",
       " {GenCands_charge: [0, 0, 0, 0, 0, 0, 0, 0, ..., -1, 1, -1, 0, 0, 1, -1]},\n",
       " ...,\n",
       " {GenCands_charge: [0, 0, 0, 0, 0, 0, 0, 0, ..., 0, 0, 0, 0, 0, 0, 0, 0]},\n",
       " {GenCands_charge: [0, 0, 0, 0, 0, 0, 0, 0, ..., -1, 0, 0, 0, 0, 0, 0, 0]},\n",
       " {GenCands_charge: [0, 0, 0, 0, 0, 0, 0, 0, ..., 1, 0, 0, 0, 0, 0, 0, 0]},\n",
       " {GenCands_charge: [0, 0, 0, 0, 0, 0, 0, 0, ..., -1, 0, 0, 0, 0, 0, 0, 0]},\n",
       " {GenCands_charge: [0, 0, 0, 0, 0, 0, 0, 0, ..., 1, 1, -1, 0, 0, 0, 0]},\n",
       " {GenCands_charge: [0, 0, 0, 0, 0, 0, 0, 0, ..., 0, 0, 0, 0, 0, -1, 0, 0]},\n",
       " {GenCands_charge: [0, 0, 0, 0, 0, 0, 0, 0, ..., 1, 0, -1, 1, 0, 0, 0, 0]},\n",
       " {GenCands_charge: [0, 0, 0, 0, 0, 0, 0, 0, ..., 0, 0, 0, 0, 0, 0, -1, 1]},\n",
       " {GenCands_charge: [0, 0, 0, 0, 0, 0, 0, 0, ..., 0, 0, 0, 0, 0, 0, 0, 0]}]\n",
       "---------------------------------------------------------------------------\n",
       "type: 1000 * {\n",
       "    GenCands_charge: var * float32\n",
       "}</pre>"
      ],
      "text/plain": [
       "<Array [{GenCands_charge: [0, ...]}, ...] type='1000 * {GenCands_charge: va...'>"
      ]
     },
     "execution_count": 12,
     "metadata": {},
     "output_type": "execute_result"
    }
   ],
   "source": [
    "tree.arrays(filter_name='GenCands_charge')"
   ]
  },
  {
   "cell_type": "code",
   "execution_count": 10,
   "metadata": {},
   "outputs": [
    {
     "data": {
      "text/html": [
       "<pre>{GenJets_mass: [15.4, 14.4, 8.67, 8.64, 9.23, 6.47, 2.37, 6.72]}\n",
       "----------------------------------------------------------------\n",
       "type: {\n",
       "    GenJets_mass: var * float32\n",
       "}</pre>"
      ],
      "text/plain": [
       "<Record {GenJets_mass: [15.4, ..., 6.72]} type='{GenJets_mass: var * float32}'>"
      ]
     },
     "execution_count": 10,
     "metadata": {},
     "output_type": "execute_result"
    }
   ],
   "source": [
    "tree.arrays(filter_name='GenJets_mass')[0]"
   ]
  },
  {
   "cell_type": "code",
   "execution_count": null,
   "metadata": {},
   "outputs": [],
   "source": []
  }
 ],
 "metadata": {
  "kernelspec": {
   "display_name": "proc",
   "language": "python",
   "name": "python3"
  },
  "language_info": {
   "codemirror_mode": {
    "name": "ipython",
    "version": 3
   },
   "file_extension": ".py",
   "mimetype": "text/x-python",
   "name": "python",
   "nbconvert_exporter": "python",
   "pygments_lexer": "ipython3",
   "version": "3.11.4"
  },
  "orig_nbformat": 4
 },
 "nbformat": 4,
 "nbformat_minor": 2
}
