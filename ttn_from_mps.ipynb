{
 "cells": [
  {
   "cell_type": "markdown",
   "metadata": {},
   "source": [
    "# Get TTN from trained MPS\n",
    "## Example from qtleaves"
   ]
  },
  {
   "cell_type": "code",
   "execution_count": 1,
   "metadata": {},
   "outputs": [],
   "source": [
    "import numpy as np\n",
    "import matplotlib.pyplot as plt\n",
    "from qtealeaves.emulator import MPS, TTN\n",
    "from qtealeaves.convergence_parameters import TNConvergenceParameters\n",
    "\n",
    "\n",
    "def generate_stripe_image(image_size, conv_params, vertical=True):\n",
    "    \"\"\"\n",
    "    Generate an image with stripes in MPS form\n",
    "\n",
    "    Parameters\n",
    "    ----------\n",
    "    image_size : tuple\n",
    "        Shape of the image\n",
    "    conv_params : TNConvergenceParameters\n",
    "        Convergence parameters of the MPS\n",
    "    vertical : bool, optional\n",
    "        Direction of the stripes, by default True\n",
    "\n",
    "    Returns\n",
    "    -------\n",
    "    MPS\n",
    "        MPS representation of the image\n",
    "    \"\"\"\n",
    "    image = np.zeros(image_size)\n",
    "\n",
    "    if vertical:\n",
    "        image[:, np.random.randint(0, image_size[1])] = 1\n",
    "    else:\n",
    "        image[np.random.randint(0, image_size[0]), :] = 1\n",
    "    image += np.random.normal(0, 0.1, np.prod(image_size)).reshape(image_size)\n",
    "    tensorlist = [\n",
    "        np.array([np.cos(pixel), np.sin(pixel)]).reshape(1, 2, 1)\n",
    "        for pixel in image.reshape(-1)\n",
    "    ]\n",
    "    mps_image = MPS.from_tensor_list(tensorlist, conv_params)\n",
    "    mps_image.right_canonize(0)\n",
    "    mps_image.normalize()\n",
    "\n",
    "    return mps_image\n",
    "\n",
    "def learning_rate(x_value):\n",
    "    \"\"\" Learning rate, exponentially decaying \"\"\"\n",
    "    return np.exp(-x_value)\n",
    "    "
   ]
  },
  {
   "cell_type": "code",
   "execution_count": 2,
   "metadata": {},
   "outputs": [
    {
     "data": {
      "image/png": "[encoded data removed]",
      "text/plain": [
       "<Figure size 640x480 with 2 Axes>"
      ]
     },
     "metadata": {},
     "output_type": "display_data"
    }
   ],
   "source": [
    "# show data\n",
    "image_size = (5, 5) \n",
    "image_v, image_o = np.zeros((2,)+image_size)\n",
    "image_o[np.random.randint(0, image_size[0]), :] = 1\n",
    "image_v[:, np.random.randint(0, image_size[1])] = 1\n",
    "image_o += np.random.normal(0, 0.1, np.prod(image_size)).reshape(image_size)\n",
    "image_v += np.random.normal(0, 0.1, np.prod(image_size)).reshape(image_size)\n",
    "\n",
    "# plot images\n",
    "fig, axs = plt.subplots(1, 2)\n",
    "axs[0].imshow(image_o, cmap=\"gray\")\n",
    "axs[0].set_title(\"Horizontal stripes\")\n",
    "axs[0].axis(\"off\")\n",
    "axs[1].imshow(image_v, cmap=\"gray\")\n",
    "axs[1].set_title(\"Vertical stripes\")\n",
    "axs[1].axis(\"off\")\n",
    "plt.tight_layout()\n",
    "plt.show()"
   ]
  },
  {
   "cell_type": "code",
   "execution_count": 5,
   "metadata": {},
   "outputs": [],
   "source": [
    "# generate a stripe images dataset in numpy arrays\n",
    "image_size = (5, 5)\n",
    "train_size = 10000\n",
    "test_size = 1000\n",
    "\n",
    "train_dataset = np.zeros((train_size,)+image_size)\n",
    "train_labels = np.zeros(train_size, dtype=np.int64)\n",
    "\n",
    "vertical_idx = np.random.choice(train_size, int(train_size/2), replace=False)\n",
    "horizontal_idx = np.array([ii for ii in range(train_size) if ii not in vertical_idx])\n",
    "vertical_stripes_idx = np.random.choice(image_size[1], int(train_size/2), replace=True)\n",
    "horizontal_stripes_idx = np.random.choice(image_size[0], int(train_size/2), replace=True)\n",
    "\n",
    "train_dataset[vertical_idx, :, vertical_stripes_idx] = 1\n",
    "train_dataset[horizontal_idx, horizontal_stripes_idx, :] = 1\n",
    "train_dataset += np.random.normal(0, 0.1, np.prod(image_size)*train_size).reshape(train_size, *image_size)\n",
    "train_labels[vertical_idx] = 1\n",
    "\n",
    "test_dataset = np.zeros((test_size,)+image_size)\n",
    "test_labels = np.zeros(test_size, dtype=np.int64)\n",
    "\n",
    "vertical_idx = np.random.choice(test_size, int(test_size/2), replace=False)\n",
    "horizontal_idx = np.array([ii for ii in range(test_size) if ii not in vertical_idx])\n",
    "vertical_stripes_idx = np.random.choice(image_size[1], int(test_size/2), replace=True)\n",
    "horizontal_stripes_idx = np.random.choice(image_size[0], int(test_size/2), replace=True)\n",
    "\n",
    "test_dataset[vertical_idx, :, vertical_stripes_idx] = 1\n",
    "test_dataset[horizontal_idx, horizontal_stripes_idx, :] = 1\n",
    "test_dataset += np.random.normal(0, 0.1, np.prod(image_size)*test_size).reshape(test_size, *image_size)\n",
    "test_labels[vertical_idx] = 1\n",
    "\n",
    "np.save(f\"data/stripeimages/{image_size[0]}train.npy\", train_dataset)\n",
    "np.save(f\"data/stripeimages/{image_size[0]}train_labels.npy\", train_labels)\n",
    "np.save(f\"data/stripeimages/{image_size[0]}test.npy\", test_dataset)\n",
    "np.save(f\"data/stripeimages/{image_size[0]}test_labels.npy\", test_labels)"
   ]
  },
  {
   "cell_type": "code",
   "execution_count": 10,
   "metadata": {},
   "outputs": [
    {
     "name": "stdout",
     "output_type": "stream",
     "text": [
      "==================== Sweep 0 started ====================\n",
      "Sweep loss: 2.5440238161833513\n",
      "==================== Sweep 1 started ====================\n",
      "Sweep loss: 1.1750190288429427\n",
      "==================== Sweep 2 started ====================\n",
      "Sweep loss: 1.377080758211696\n",
      "==================== Sweep 3 started ====================\n",
      "Sweep loss: 0.9346972033336115\n",
      "==================== Sweep 4 started ====================\n",
      "Sweep loss: -0.3873941090910938\n",
      "==================== Sweep 5 started ====================\n",
      "Sweep loss: -0.10098946237732749\n",
      "==================== Sweep 6 started ====================\n",
      "Sweep loss: -0.16884210183663195\n",
      "==================== Sweep 7 started ====================\n",
      "Sweep loss: 0.5644892491288707\n",
      "==================== Sweep 8 started ====================\n",
      "Sweep loss: 0.21998726826681203\n",
      "==================== Sweep 9 started ====================\n",
      "Sweep loss: 0.383932678350852\n",
      "==================== Sweep 10 started ====================\n",
      "Sweep loss: 0.05446985151151886\n",
      "==================== Sweep 11 started ====================\n",
      "Sweep loss: 0.725470564193251\n",
      "==================== Sweep 12 started ====================\n",
      "Sweep loss: 0.5720262842126316\n",
      "==================== Sweep 13 started ====================\n",
      "Sweep loss: -0.9746155587559413\n",
      "==================== Sweep 14 started ====================\n",
      "Sweep loss: -0.5507288187396308\n",
      "==================== Sweep 15 started ====================\n",
      "Sweep loss: -1.1337873738555018\n",
      "==================== Sweep 16 started ====================\n",
      "Sweep loss: -0.7732698892891744\n",
      "==================== Sweep 17 started ====================\n",
      "Sweep loss: -0.539124260973731\n",
      "==================== Sweep 18 started ====================\n",
      "Sweep loss: -0.41046186268145934\n",
      "==================== Sweep 19 started ====================\n",
      "Sweep loss: -0.228033000735254\n",
      "Train accuracy: 0.99\n",
      "Test accuracy: 1.0\n"
     ]
    }
   ],
   "source": [
    "image_size_ = (4, 4)\n",
    "train_size = 100\n",
    "test_size = 10\n",
    "batch_size_ = 20\n",
    "num_sweeps_ = 20\n",
    "conv_parameters = TNConvergenceParameters(max_bond_dimension=16)\n",
    "'''\n",
    "dataset = [\n",
    "    generate_stripe_image(image_size_, conv_parameters, ii % 2) for ii in range(train_size)\n",
    "]\n",
    "labels = np.array([ii % 2 for ii in range(train_size)])\n",
    "'''\n",
    "dataset = np.load(f\"data/stripeimages/{image_size_[0]}train.npy\")[:train_size]\n",
    "labels = np.load(f\"data/stripeimages/{image_size_[0]}train_labels.npy\")[:train_size]\n",
    "dataset = [MPS.from_tensor_list([np.stack([np.cos(pixel), np.sin(pixel)]).reshape(1,2,1) for pixel in image.reshape(-1)], conv_parameters) for image in dataset]\n",
    "classificator = MPS(np.prod(image_size_), conv_parameters)\n",
    "\n",
    "svd, losses = classificator.ml_optimize_mps(\n",
    "    dataset, labels, batch_size_, learning_rate, num_sweeps_, 6, True\n",
    ")\n",
    "\n",
    "predictions = classificator.ml_predict(dataset, 6)\n",
    "print(f\"Train accuracy: {np.sum(1-np.abs(labels-predictions))/train_size}\")\n",
    "\n",
    "test_dataset = [\n",
    "    generate_stripe_image(image_size_, conv_parameters, ii % 2) for ii in range(test_size)\n",
    "]\n",
    "test_labels = np.array([ii % 2 for ii in range(test_size)])\n",
    "\n",
    "predictions = classificator.ml_predict(test_dataset, 6)\n",
    "print(f\"Test accuracy: {np.sum(1-np.abs(test_labels-predictions))/test_size}\")\n"
   ]
  },
  {
   "cell_type": "code",
   "execution_count": 7,
   "metadata": {},
   "outputs": [
    {
     "data": {
      "image/png": "[encoded data removed]",
      "text/plain": [
       "<Figure size 640x480 with 2 Axes>"
      ]
     },
     "metadata": {},
     "output_type": "display_data"
    }
   ],
   "source": [
    "# plot images\n",
    "fig, axs = plt.subplots(1, 2)\n",
    "axs[0].imshow(train_dataset[train_labels==0][20], cmap=\"gray\")\n",
    "axs[0].set_title(\"Horizontal stripes\")\n",
    "axs[0].axis(\"off\")\n",
    "axs[1].imshow(train_dataset[train_labels==1][20], cmap=\"gray\")\n",
    "axs[1].set_title(\"Vertical stripes\")\n",
    "axs[1].axis(\"off\")\n",
    "plt.tight_layout()\n",
    "plt.show()"
   ]
  },
  {
   "cell_type": "markdown",
   "metadata": {},
   "source": [
    "## Adapt to MNIST test case\n",
    "### Generate dataset and convert to MPS"
   ]
  },
  {
   "cell_type": "code",
   "execution_count": 8,
   "metadata": {},
   "outputs": [
    {
     "data": {
      "image/png": "[encoded data removed]",
      "text/plain": [
       "<Figure size 640x480 with 4 Axes>"
      ]
     },
     "metadata": {},
     "output_type": "display_data"
    }
   ],
   "source": [
    "from PIL import Image\n",
    "\n",
    "image_size_ = (4, 4)\n",
    "\n",
    "def convert_to_mps(image, conv_params):\n",
    "    \"\"\" Convert an image to MPS \"\"\"\n",
    "    tensorlist = [\n",
    "        np.array([np.cos(pixel), np.sin(pixel)]).reshape(1, 2, 1)\n",
    "        for pixel in image.reshape(-1)\n",
    "    ]\n",
    "    mps_image = MPS.from_tensor_list(tensorlist, conv_params)\n",
    "    mps_image.right_canonize(0)\n",
    "    mps_image.normalize()\n",
    "    return mps_image\n",
    "\n",
    "with open(\"data/MNIST/raw/train-images-idx3-ubyte\", \"rb\") as f:\n",
    "    raw_train = f.read()\n",
    "train = np.frombuffer(raw_train, dtype=np.uint8, offset=16).reshape(-1, 28, 28)\n",
    "# resize images\n",
    "train = np.array([np.array(Image.fromarray(image).resize(image_size_)) for image in train]).astype(np.float64)\n",
    "\n",
    "with open(\"data/MNIST/raw/train-labels-idx1-ubyte\", \"rb\") as f:\n",
    "    raw_train_labels = f.read()\n",
    "train_labels = np.frombuffer(raw_train_labels, dtype=np.uint8, offset=8)\n",
    "\n",
    "with open(\"data/MNIST/raw/t10k-images-idx3-ubyte\", \"rb\") as f:\n",
    "    raw_test = f.read()\n",
    "test = np.frombuffer(raw_test, dtype=np.uint8, offset=16).reshape(-1, 28, 28)\n",
    "# resize images\n",
    "test = np.array([np.array(Image.fromarray(image).resize(image_size_)) for image in test]).astype(np.float64)\n",
    "\n",
    "with open(\"data/MNIST/raw/t10k-labels-idx1-ubyte\", \"rb\") as f:\n",
    "    raw_test_labels = f.read()\n",
    "test_labels = np.frombuffer(raw_test_labels, dtype=np.uint8, offset=8)\n",
    "\n",
    "# plot a few images\n",
    "fig, axs = plt.subplots(2, 2)\n",
    "for i, ax in enumerate(axs.flatten()):\n",
    "    ax.imshow(train[i], cmap=\"gray\")\n",
    "    ax.set_title(f\"Label: {train_labels[i]}\")\n",
    "    ax.axis(\"off\")\n",
    "plt.tight_layout()\n",
    "plt.show()"
   ]
  },
  {
   "cell_type": "code",
   "execution_count": 19,
   "metadata": {},
   "outputs": [],
   "source": [
    "# hyperparameters\n",
    "conv_parameters = TNConvergenceParameters(max_bond_dimension=16)\n",
    "labels_to_keep = [0, 1]\n",
    "TRAIN_SIZE = 100\n",
    "SWEEPS = 25\n",
    "BATCH_SIZE = None"
   ]
  },
  {
   "cell_type": "code",
   "execution_count": 20,
   "metadata": {},
   "outputs": [
    {
     "name": "stdout",
     "output_type": "stream",
     "text": [
      "Train size: 27\n",
      "Test size: 22\n"
     ]
    }
   ],
   "source": [
    "# convert to MPS ! this takes a minute to run !\n",
    "train_dataset = [(convert_to_mps(image, conv_parameters), label) for image, label in zip(train[:TRAIN_SIZE], train_labels[:TRAIN_SIZE]) if label in labels_to_keep]\n",
    "test_dataset = [(convert_to_mps(image, conv_parameters), label) for image, label in zip(test[:TRAIN_SIZE], test_labels[:TRAIN_SIZE]) if label in labels_to_keep]\n",
    "\n",
    "train_size = len(train_dataset)\n",
    "test_size = len(test_dataset)\n",
    "print(f\"Train size: {train_size}\", f\"Test size: {test_size}\", sep=\"\\n\")\n",
    "BATCH_SIZE = train_size"
   ]
  },
  {
   "cell_type": "code",
   "execution_count": 21,
   "metadata": {},
   "outputs": [
    {
     "name": "stdout",
     "output_type": "stream",
     "text": [
      "==================== Sweep 0 started ====================\n",
      "Sweep loss: 37.33137131831158\n",
      "==================== Sweep 1 started ====================\n",
      "Sweep loss: 41.99648742090557\n",
      "==================== Sweep 2 started ====================\n",
      "Sweep loss: 37.32708002262177\n",
      "==================== Sweep 3 started ====================\n",
      "Sweep loss: 35.00117014780204\n",
      "==================== Sweep 4 started ====================\n",
      "Sweep loss: 34.994701857381045\n",
      "==================== Sweep 5 started ====================\n",
      "Sweep loss: 25.65271476113529\n",
      "==================== Sweep 6 started ====================\n",
      "Sweep loss: 37.32800142060416\n",
      "==================== Sweep 7 started ====================\n",
      "Sweep loss: 27.987265498055848\n",
      "==================== Sweep 8 started ====================\n",
      "Sweep loss: 18.65488141875517\n",
      "==================== Sweep 9 started ====================\n",
      "Sweep loss: 37.30926523246498\n",
      "==================== Sweep 10 started ====================\n",
      "Sweep loss: 37.318556029288054\n",
      "==================== Sweep 11 started ====================\n",
      "Sweep loss: 39.651484728914674\n",
      "==================== Sweep 12 started ====================\n",
      "Sweep loss: 32.66141782133264\n",
      "==================== Sweep 13 started ====================\n",
      "Sweep loss: 34.99042527644786\n",
      "==================== Sweep 14 started ====================\n",
      "Sweep loss: 37.3285410062381\n",
      "==================== Sweep 15 started ====================\n",
      "Sweep loss: 32.656295614572514\n",
      "==================== Sweep 16 started ====================\n",
      "Sweep loss: 37.31966831095352\n",
      "==================== Sweep 17 started ====================\n",
      "Sweep loss: 28.001623154438676\n",
      "==================== Sweep 18 started ====================\n",
      "Sweep loss: 34.98317899114531\n",
      "==================== Sweep 19 started ====================\n",
      "Sweep loss: 37.3182228114223\n",
      "==================== Sweep 20 started ====================\n",
      "Sweep loss: 41.9904610819228\n",
      "==================== Sweep 21 started ====================\n",
      "Sweep loss: 27.982113048276865\n",
      "==================== Sweep 22 started ====================\n",
      "Sweep loss: 27.998181415797397\n",
      "==================== Sweep 23 started ====================\n",
      "Sweep loss: 39.66306944885263\n",
      "==================== Sweep 24 started ====================\n",
      "Sweep loss: 37.32485332016693\n",
      "Train accuracy: 0.48148148148148145\n"
     ]
    }
   ],
   "source": [
    "# train the MPS\n",
    "classificator = MPS(np.prod(image_size_), conv_parameters)\n",
    "\n",
    "data, labels = zip(*train_dataset)\n",
    "labels = np.array(labels)   # convert to numpy array as the classificator wants it\n",
    "svd, losses = classificator.ml_optimize_mps(\n",
    "    data, labels, BATCH_SIZE, learning_rate, SWEEPS, 6, True\n",
    ")\n",
    "\n",
    "predictions = classificator.ml_predict(data, 6)\n",
    "print(f\"Train accuracy: {np.sum(1-np.abs(labels-predictions))/train_size}\")"
   ]
  },
  {
   "cell_type": "code",
   "execution_count": 49,
   "metadata": {},
   "outputs": [
    {
     "name": "stdout",
     "output_type": "stream",
     "text": [
      "Test accuracy: 0.4028436018957346\n"
     ]
    }
   ],
   "source": [
    "# test the MPS\n",
    "data, labels = zip(*test_dataset)\n",
    "labels = np.array(labels)   # convert to numpy array as the classificator wants it\n",
    "predictions = classificator.ml_predict(data, 6)\n",
    "print(f\"Test accuracy: {np.sum(1-np.abs(labels-predictions))/test_size}\")"
   ]
  },
  {
   "cell_type": "code",
   "execution_count": 25,
   "metadata": {},
   "outputs": [
    {
     "data": {
      "image/png": "[encoded data removed]",
      "text/plain": [
       "<Figure size 640x480 with 2 Axes>"
      ]
     },
     "metadata": {},
     "output_type": "display_data"
    }
   ],
   "source": [
    "ttn = TTN.from_tensor_list(classificator.to_ttn())\n",
    "\n",
    "fig, ax = plt.subplots()\n",
    "ttn.plot(fig, ax, np.array([0, 1]))"
   ]
  },
  {
   "cell_type": "code",
   "execution_count": 36,
   "metadata": {},
   "outputs": [
    {
     "name": "stdout",
     "output_type": "stream",
     "text": [
      "number of tensors: 62\n"
     ]
    }
   ],
   "source": [
    "ttn_list = ttn.to_tensor_list()\n",
    "print(\"number of tensors:\", np.array([len(ttn) for ttn in ttn_list]).sum())"
   ]
  },
  {
   "cell_type": "code",
   "execution_count": null,
   "metadata": {},
   "outputs": [],
   "source": []
  }
 ],
 "metadata": {
  "kernelspec": {
   "display_name": ".qtl_env",
   "language": "python",
   "name": "python3"
  },
  "language_info": {
   "codemirror_mode": {
    "name": "ipython",
    "version": 3
   },
   "file_extension": ".py",
   "mimetype": "text/x-python",
   "name": "python",
   "nbconvert_exporter": "python",
   "pygments_lexer": "ipython3",
   "version": "3.11.6"
  }
 },
 "nbformat": 4,
 "nbformat_minor": 2
}
