{
 "cells": [
  {
   "cell_type": "markdown",
   "metadata": {},
   "source": [
    "# My TTN library\n",
    "In this notebook I try to develop my personal library to handle TTNs, their definition, properties, automatic contraction and training."
   ]
  },
  {
   "cell_type": "code",
   "execution_count": null,
   "metadata": {},
   "outputs": [],
   "source": [
    "%load_ext autoreload\n",
    "%autoreload 2"
   ]
  },
  {
   "cell_type": "code",
   "execution_count": 1,
   "metadata": {
    "metadata": {}
   },
   "outputs": [],
   "source": [
    "\n",
    "import torch\n",
    "import numpy as np\n",
    "import pandas as pd\n",
    "import arff\n",
    "from scipy.io.arff import loadarff\n",
    "import matplotlib.pyplot as plt\n",
    "import seaborn as sns\n",
    "import skunk\n",
    "from matplotlib import colormaps, patches\n",
    "from sklearn.metrics import roc_auc_score, roc_curve\n",
    "from timeit import timeit, repeat\n",
    "from datetime import datetime\n",
    "from itertools import combinations_with_replacement\n",
    "from IPython.display import display, SVG\n",
    "import graphviz\n",
    "\n",
    "from ttnml.ml import TTNModel\n",
    "from ttnml.tn import check_correct_init\n",
    "from ttnml.tn.algebra import contract_up\n",
    "from ttnml.utils import *\n",
    "from torchinfo import summary\n",
    "\n",
    "from tqdm.notebook import tqdm, trange\n",
    "FONTSIZE = 14"
   ]
  },
  {
   "cell_type": "code",
   "execution_count": 2,
   "metadata": {},
   "outputs": [],
   "source": [
    "import os\n",
    "os.environ['CUDA_LAUNCH_BLOCKING'] = \"1\"\n",
    "\n",
    "np.random.seed(42)"
   ]
  },
  {
   "cell_type": "markdown",
   "metadata": {},
   "source": [
    "# Tests"
   ]
  },
  {
   "cell_type": "code",
   "execution_count": null,
   "metadata": {},
   "outputs": [],
   "source": [
    "from ttnml.tn import TTN, TTNIndex, TIndex\n",
    "from typing import Sequence, ValuesView\n",
    "from string import ascii_letters\n",
    "from ttnml.utils.dataloaders import linearize"
   ]
  },
  {
   "cell_type": "code",
   "execution_count": null,
   "metadata": {},
   "outputs": [],
   "source": [
    "DEVICE = 'cpu'\n",
    "DTYPE = torch.double\n",
    "N_FEAT = 8\n",
    "ttn = TTN(N_FEAT, bond_dim=8, n_labels=2, device=DEVICE, dtype=DTYPE)\n",
    "ttn.draw()"
   ]
  },
  {
   "cell_type": "markdown",
   "metadata": {},
   "source": [
    "## Basic operations\n",
    "General purpose contraction, not optimized"
   ]
  },
  {
   "cell_type": "code",
   "execution_count": null,
   "metadata": {},
   "outputs": [],
   "source": [
    "def contract(\n",
    "        tensors : Sequence[torch.Tensor] | ValuesView[torch.Tensor], \n",
    "        tindices: Sequence[TTNIndex | TIndex], \n",
    "        keep    : Sequence[str] | None=None, \n",
    "        outname : str | None=None\n",
    "):\n",
    "    \"\"\"\n",
    "    Contract two tensors along the matching TIndices in indices, except for the indices in keep.\n",
    "    \"\"\"\n",
    "    if len(tindices) != len(tensors):\n",
    "        raise ValueError(f\"Expected tensors and tindices to have same lenght, got {len(tensors)} and {len(tindices)}\")\n",
    "\n",
    "    if keep is None:\n",
    "        keep = []\n",
    "    elif isinstance(keep, str):\n",
    "        keep = [keep]\n",
    "    elif not isinstance(keep, Sequence):\n",
    "        raise TypeError(f\"Expected keep to be None, str or Sequence, got {type(keep)}\")\n",
    "\n",
    "    keep = list(keep)\n",
    "    unique_inds, counts = np.unique(np.concatenate([tindex.indices for tindex in tindices]), return_counts=True)\n",
    "    if np.any(np.isin(keep, unique_inds, invert=True)):\n",
    "        raise ValueError(f\"keep contains indices that are not in tindices: {np.asarray(keep)[np.where(np.isin(keep, unique_inds, invert=True))[0]]}\")\n",
    "    if len(unique_inds) > len(ascii_letters):\n",
    "        raise ValueError(f\"Too many indices to contract: {len(unique_inds)} > {len(ascii_letters)}\")\n",
    "\n",
    "    # find output indices (all indices that are not contracted or kept)\n",
    "    output_inds = unique_inds[np.isin(unique_inds, keep) | (counts == 1)]\n",
    "    \n",
    "    # map indices to letters\n",
    "    idx_to_char_map = {tind: ascii_letters[i] for i, tind in enumerate(unique_inds)}\n",
    "    \n",
    "    # contraction strings\n",
    "    ## tensor indices\n",
    "    tindices_str = [\"...\"+\"\".join([idx_to_char_map[i] for i in tindex.indices]) for tindex in tindices] # the ellipsis is for batch dimension\n",
    "    ## output indices\n",
    "    outinds_str = \"...\"+\"\".join([idx_to_char_map[i] for i in output_inds])\n",
    "\n",
    "    #print(tindices_str,'\\n' ,outinds_str)\n",
    "    # contract\n",
    "    C = torch.einsum(f\"{','.join(tindices_str)}->{outinds_str}\", *tensors)\n",
    "\n",
    "    return C, TIndex(f\"{min(tindices)}\" if outname is None else outname, output_inds)\n",
    "\n",
    "    "
   ]
  },
  {
   "cell_type": "markdown",
   "metadata": {},
   "source": [
    "Let's exploit the TTN topology to optimize contractions, i.e. make them go from bottom to top"
   ]
  },
  {
   "cell_type": "code",
   "execution_count": null,
   "metadata": {},
   "outputs": [],
   "source": [
    "def contract_up_einsum(tensor: torch.Tensor, data_tensors: Sequence[torch.Tensor]):\n",
    "    # this function is the fundamental block for TTN contractions:\n",
    "    # it takes a ttn tensor and two data vectors and contracts them to a new vector\n",
    "\n",
    "    return torch.einsum('bi,bj,ijk->bk', data_tensors[0], data_tensors[1], tensor)"
   ]
  },
  {
   "cell_type": "code",
   "execution_count": null,
   "metadata": {},
   "outputs": [],
   "source": [
    "data = torch.rand(N_FEAT, 10, 2, dtype=DTYPE, device=DEVICE).unbind(0)\n",
    "data_indices = [TIndex(f\"{ttn.n_layers}.{i}\", [f\"data.{i}\"]) for i in range(N_FEAT)]\n",
    "\n",
    "time1 = timeit(lambda: contract_up(ttn.tensors[-1], data[:2]), number=10000)\n",
    "time2 = timeit(lambda: contract((ttn.tensors[-1],) + data[:2], [ttn.indices[-1]]+data_indices[:2]), number=10000)\n",
    "time3 = timeit(lambda: contract_up_einsum(ttn.tensors[-1], data[:2]), number=10000)\n",
    "time1, time2, time3"
   ]
  },
  {
   "cell_type": "code",
   "execution_count": null,
   "metadata": {},
   "outputs": [],
   "source": [
    "map_dim = [2, 4, 8, 16, 32]\n",
    "batch_dims = [10, 100, 1000, 10000]\n",
    "\n",
    "df_cpu = pd.DataFrame(columns=['contract_up', 'contract_up_einsum'], index=pd.MultiIndex.from_product([batch_dims, map_dim], names=['batch_dim', 'map_dim']))\n",
    "df_gpu = pd.DataFrame(columns=['contract_up', 'contract_up_einsum'], index=pd.MultiIndex.from_product([batch_dims, map_dim], names=['batch_dim', 'map_dim']))\n",
    "\n",
    "DTYPE = torch.double\n",
    "DEVICE = 'cpu'\n",
    "pbar = tqdm(total=len(batch_dims)*len(map_dim), desc='CPU')\n",
    "for bd in batch_dims:\n",
    "    for md in map_dim:\n",
    "        pbar.set_postfix({'batch_dim': bd, 'map_dim': md})\n",
    "        data = torch.rand(2, bd, md, dtype=DTYPE, device=DEVICE).unbind(0)\n",
    "        tensor = torch.rand(md, md, 16, dtype=DTYPE, device=DEVICE)\n",
    "\n",
    "        time1 = min(repeat(lambda: contract_up(tensor, data), number=100, repeat=10))\n",
    "        time2 = min(repeat(lambda: contract_up_einsum(tensor, data), number=100, repeat=10))\n",
    "        df_cpu.loc[(bd, md), 'contract_up'] = time1\n",
    "        df_cpu.loc[(bd, md), 'contract_up_einsum'] = time2\n",
    "        pbar.update(1)\n",
    "pbar.close()\n",
    "\n",
    "DEVICE = 'cuda'\n",
    "pbar = tqdm(total=len(batch_dims)*len(map_dim), desc='GPU')\n",
    "for bd in batch_dims:\n",
    "    for md in map_dim:\n",
    "        pbar.set_postfix({'batch_dim': bd, 'map_dim': md})\n",
    "        data = torch.rand(2, bd, md, dtype=DTYPE, device=DEVICE).unbind(0)\n",
    "        tensor = torch.rand(md, md, 16, dtype=DTYPE, device=DEVICE)\n",
    "\n",
    "        time1 = min(repeat(lambda: contract_up(tensor, data), number=1000, repeat=10))\n",
    "        time2 = min(repeat(lambda: contract_up_einsum(tensor, data), number=1000, repeat=10))\n",
    "        df_gpu.loc[(bd, md), 'contract_up'] = time1\n",
    "        df_gpu.loc[(bd, md), 'contract_up_einsum'] = time2\n",
    "        pbar.update(1)\n",
    "pbar.close()\n",
    "        \n"
   ]
  },
  {
   "cell_type": "code",
   "execution_count": null,
   "metadata": {},
   "outputs": [],
   "source": [
    "df_cpu['ratio'] = df_cpu['contract_up_einsum'] / df_cpu['contract_up']\n",
    "df_gpu['ratio'] = df_gpu['contract_up_einsum'] / df_gpu['contract_up']\n",
    "df_gpu['contract_up'] = df_gpu['contract_up'] / 10\n",
    "df_gpu['contract_up_einsum'] = df_gpu['contract_up_einsum'] / 10"
   ]
  },
  {
   "cell_type": "code",
   "execution_count": null,
   "metadata": {},
   "outputs": [],
   "source": [
    "df_cpu.pivot_table(index='map_dim', columns='batch_dim', values='ratio')"
   ]
  },
  {
   "cell_type": "code",
   "execution_count": null,
   "metadata": {},
   "outputs": [],
   "source": [
    "sns.set_theme(style=\"white\")\n",
    "fig, axes = plt.subplots(1, 2, figsize=(10, 4), sharey=True, sharex=True)\n",
    "\n",
    "sns.lineplot(data=df_cpu, x='map_dim', y='ratio', ax=axes[0], hue='batch_dim', palette='tab10')\n",
    "sns.lineplot(data=df_gpu, x='map_dim', y='ratio', ax=axes[1], hue='batch_dim', palette='tab10')\n",
    "axes[0].hlines(1, 2, 32, colors='k', linestyles='dashed', label='1')\n",
    "axes[1].hlines(1, 2, 32, colors='k', linestyles='dashed', label='1')\n",
    "\n",
    "axes[0].set_xscale('log')\n",
    "axes[0].set_xticks(map_dim, map_dim, fontsize=FONTSIZE-2)\n",
    "axes[0].set_title('CPU', fontsize=FONTSIZE+2)\n",
    "axes[1].set_title('GPU', fontsize=FONTSIZE+2)\n",
    "axes[0].set_ylabel('Speedup', fontsize=FONTSIZE)\n",
    "axes[0].set_xlabel('Bond dimension', fontsize=FONTSIZE)\n",
    "axes[1].set_xlabel('Bond dimension', fontsize=FONTSIZE)\n",
    "fig.suptitle('Speedup of matmul over einsum', fontsize=FONTSIZE+4)\n",
    "fig.tight_layout()\n",
    "fig.show()\n",
    "fig.savefig('images/speedup_matmul_einsum2.pdf')"
   ]
  },
  {
   "cell_type": "code",
   "execution_count": null,
   "metadata": {},
   "outputs": [],
   "source": [
    "data = torch.rand(N_FEAT, 64, 2, dtype=DTYPE, device=DEVICE).unbind(0)\n",
    "data_indices = [TIndex(f\"data.{i}\", [f\"data.{i}\"]) for i in range(N_FEAT)]\n",
    "i=1\n",
    "time1 = timeit(lambda: ttn._propagate_data_through_branch_(dict(zip(data_indices, data)), ttn.get_branch('1.0')), number=100)\n",
    "time2 = timeit(lambda: ttn._propagate_data_through_branch_(dict(zip(data_indices, data)), ttn.get_branch('1.0'), keep=True), number=100)\n",
    "time3 = timeit(lambda: contract(list(ttn.get_branch(f'1.{i}').values()) + list(data[16*i:16*(i+1)]), list(ttn.get_branch(f'1.{i}').keys())+data_indices[16*i:16*(i+1)]), number=100)\n",
    "print(time1, time2, time3)"
   ]
  },
  {
   "cell_type": "markdown",
   "metadata": {},
   "source": [
    "TEST the contraction scheme by a synthetic dataset and the TTN initialized to identities"
   ]
  },
  {
   "cell_type": "code",
   "execution_count": null,
   "metadata": {},
   "outputs": [],
   "source": [
    "def generate_i_state(n_sites, i, dtype=torch.double):\n",
    "    \"\"\"\n",
    "    Generates a separable state wich would be represented \n",
    "    as a vector with 1 at i-th position in the full form.\n",
    "    \"\"\"\n",
    "    sites = []\n",
    "    bin_str = f'{i:b}'\n",
    "    bin_str = '0'*(n_sites-len(bin_str)) + bin_str\n",
    "    for char in bin_str:\n",
    "        if char == '0':\n",
    "            sites.append(torch.as_tensor([1.0, 0.0], dtype=dtype))\n",
    "        else:\n",
    "            sites.append(torch.as_tensor([0.0, 1.0], dtype=dtype))\n",
    " \n",
    "    state = torch.stack(sites)\n",
    "\n",
    "    return state\n",
    "\n",
    "\n",
    "# create general purpose identity tensor\n",
    "# this is a 3d tensor with 1 on the diagonal\n",
    "ID = torch.zeros([4, 4, 4], dtype=DTYPE)\n",
    "for i in range(ID.shape[0]):\n",
    "    ID[i, i, i] = 1.0\n",
    "# create data\n",
    "# you can choose from different states\n",
    "I = 0 # position of 1 in the resulting state (starting from 0)\n",
    "test_states = {'up': [1, 0], 'down': [0, 1], 'plus': [1/(2**0.5), 1/(2**0.5)], 'minus': [1/(2**0.5), -1/(2**0.5)], 'i': generate_i_state(N_FEAT, I)}\n",
    "data = torch.expand_copy(torch.as_tensor(test_states['i'], dtype=DTYPE), [64, N_FEAT, 2])\n",
    "\n",
    "# transform to data dictionary to pass to _propagate_data_through_branch_\n",
    "data_dict = {TIndex(f\"data.{i}\", [f\"data.{i}\"]): datum for i, datum in enumerate(data.unbind(1))}\n",
    "# set TTN tensors to identity\n",
    "ttn.tensors = [torch.eye(tensor.shape[0]**2, dtype=DTYPE).reshape(*tensor.shape[:2], -1)[:,:,:tensor.shape[-1]] for tensor in ttn.tensors] #[ID[:tensor.shape[0], :tensor.shape[1], :tensor.shape[2]] for tensor in ttn.tensors]\n",
    "# contract\n",
    "pbar = tqdm(total=len(ttn.tensors), desc='ttn test', position=0)\n",
    "result = ttn._propagate_data_through_branch_(data_dict, ttn.get_branch('0.0'), keep=True, pbar=pbar)['0.0']\n",
    "pbar.close()\n",
    "result[0]"
   ]
  },
  {
   "cell_type": "code",
   "execution_count": null,
   "metadata": {},
   "outputs": [],
   "source": [
    "imsize = '16x16'\n",
    "\n",
    "train = np.load('../data/stripeimages/' + imsize + 'train.npy')\n",
    "test = np.load('../data/stripeimages/' + imsize + 'test.npy')\n",
    "\n",
    "train_linear = linearize(torch.tensor(train)).to(dtype=torch.float32)\n",
    "test_linear = linearize(torch.tensor(test)).to(dtype=torch.float32)\n",
    "\n",
    "np.save('../data/stripeimages/' + imsize + 'train_linear.npy', train_linear)\n",
    "np.save('../data/stripeimages/' + imsize + 'test_linear.npy', test_linear)"
   ]
  },
  {
   "cell_type": "code",
   "execution_count": null,
   "metadata": {},
   "outputs": [],
   "source": [
    "plt.imshow(train[0], cmap='gray')"
   ]
  },
  {
   "cell_type": "markdown",
   "metadata": {},
   "source": [
    "# Train Model"
   ]
  },
  {
   "cell_type": "markdown",
   "metadata": {},
   "source": [
    "## Load data and create model"
   ]
  },
  {
   "cell_type": "code",
   "execution_count": 3,
   "metadata": {
    "metadata": {}
   },
   "outputs": [],
   "source": [
    "h = 8\n",
    "features = h**2\n",
    "BATCH_SIZE = 5000\n",
    "DATASET = 'hls'\n",
    "MAPPING = 'spin'\n",
    "MAP_DIM = 2\n",
    "\n",
    "iris_features = ['SL', 'SW', 'PL', 'PW']\n",
    "\n",
    "if DATASET == 'mnist':\n",
    "    train_dl, test_dl, train_visual, features = get_mnist_data_loaders(h, batch_size=BATCH_SIZE, mapping=MAPPING, dim=MAP_DIM, labels=[0, 1])\n",
    "elif DATASET == 'stripe':\n",
    "    train_dl, test_dl, features = get_stripeimage_data_loaders(4, h, batch_size=BATCH_SIZE, mapping=MAPPING, dim=MAP_DIM)\n",
    "elif DATASET == 'iris':\n",
    "    # worst performance with iris-versicolor and iris-virginica\n",
    "    train_dl, test_dl, features = get_iris_data_loaders(batch_size=BATCH_SIZE, sel_labels=['Iris-setosa', 'Iris-virginica', 'Iris-versicolor'], mapping=MAPPING, dim=MAP_DIM)\n",
    "elif DATASET == 'higgs':\n",
    "    train_dl, test_dl, features = get_higgs_data_loaders(batch_size=BATCH_SIZE, mapping=MAPPING, dim=MAP_DIM)\n",
    "elif DATASET == 'titanic':\n",
    "    train_dl, test_dl, features = get_titanic_data_loaders(batch_size=BATCH_SIZE, scale=(0, 1), mapping=MAPPING, dim=MAP_DIM)   # scales different from (0, 1) are reasonable only in the poly mapping\n",
    "elif DATASET == 'bbdata':\n",
    "    train_dl, test_dl, features = get_bb_data_loaders(batch_size=BATCH_SIZE, mapping=MAPPING, dim=MAP_DIM, permutation=[0,1,5,7,10,12,13,15])#permutation=[0,1,5,7,10,12,14,15]\n",
    "elif DATASET == 'hls':\n",
    "    train_dl, test_dl, features = get_hls_data_loaders(batch_size=BATCH_SIZE, mapping=MAPPING, dim=MAP_DIM)\n",
    "else:\n",
    "    raise ValueError(f\"Unknown dataset: {DATASET}\")\n",
    "\n"
   ]
  },
  {
   "cell_type": "code",
   "execution_count": 4,
   "metadata": {
    "metadata": {}
   },
   "outputs": [
    {
     "data": {
      "text/plain": [
       "(644264, 161066, 16)"
      ]
     },
     "execution_count": 4,
     "metadata": {},
     "output_type": "execute_result"
    }
   ],
   "source": [
    "len(train_dl.dataset), len(test_dl.dataset), features"
   ]
  },
  {
   "cell_type": "code",
   "execution_count": 5,
   "metadata": {},
   "outputs": [],
   "source": [
    "DEVICE = 'cuda' if torch.cuda.is_available() else 'cpu'\n",
    "BOND_DIM = 10\n",
    "N_LABELS = 5"
   ]
  },
  {
   "cell_type": "markdown",
   "metadata": {},
   "source": [
    "### Normal"
   ]
  },
  {
   "cell_type": "code",
   "execution_count": null,
   "metadata": {
    "metadata": {}
   },
   "outputs": [
    {
     "data": {
      "image/svg+xml": [
       "<?xml version=\"1.0\" encoding=\"UTF-8\"?>\n",
       "<svg xmlns=\"http://www.w3.org/2000/svg\" xmlns:xlink=\"http://www.w3.org/1999/xlink\" width=\"503pt\" height=\"510pt\" viewBox=\"0 0 503 510\" version=\"1.1\">\n",
       "<defs>\n",
       "<g>\n",
       "<symbol overflow=\"visible\" id=\"glyph0-0\">\n",
       "<path style=\"stroke:none;\" d=\"M 0.546875 2 L 0.546875 -8 L 6.046875 -8 L 6.046875 2 Z M 1.171875 1 L 5.4375 1 L 5.4375 -7 L 1.171875 -7 Z M 1.171875 1 \"/>\n",
       "</symbol>\n",
       "<symbol overflow=\"visible\" id=\"glyph0-1\">\n",
       "<path style=\"stroke:none;\" d=\"M 3.5 -1 C 4.050781 -1 4.460938 -1.25 4.734375 -1.75 C 5.003906 -2.25 5.140625 -3 5.140625 -4 C 5.140625 -5.007812 5.003906 -5.757812 4.734375 -6.25 C 4.460938 -6.75 4.050781 -7 3.5 -7 C 2.945312 -7 2.535156 -6.75 2.265625 -6.25 C 1.992188 -5.757812 1.859375 -5.007812 1.859375 -4 C 1.859375 -3 1.992188 -2.25 2.265625 -1.75 C 2.535156 -1.25 2.945312 -1 3.5 -1 Z M 3.5 0 C 2.625 0 1.941406 -0.347656 1.453125 -1.046875 C 0.960938 -1.753906 0.71875 -2.738281 0.71875 -4 C 0.71875 -5.257812 0.960938 -6.238281 1.453125 -6.9375 C 1.941406 -7.644531 2.625 -8 3.5 -8 C 4.363281 -8 5.039062 -7.644531 5.53125 -6.9375 C 6.019531 -6.238281 6.265625 -5.257812 6.265625 -4 C 6.265625 -2.738281 6.019531 -1.753906 5.53125 -1.046875 C 5.039062 -0.347656 4.363281 0 3.5 0 Z M 3.5 0 \"/>\n",
       "</symbol>\n",
       "<symbol overflow=\"visible\" id=\"glyph0-2\">\n",
       "<path style=\"stroke:none;\" d=\"M 1.03125 -0.5 C 1.03125 -0.832031 1.097656 -1 1.234375 -1 C 1.367188 -1 1.539062 -1 1.75 -1 C 1.945312 -1 2.113281 -1 2.25 -1 C 2.394531 -1 2.46875 -0.832031 2.46875 -0.5 C 2.46875 -0.164062 2.394531 0 2.25 0 C 2.113281 0 1.945312 0 1.75 0 C 1.539062 0 1.367188 0 1.234375 0 C 1.097656 0 1.03125 -0.164062 1.03125 -0.5 Z M 1.03125 -0.5 \"/>\n",
       "</symbol>\n",
       "<symbol overflow=\"visible\" id=\"glyph0-3\">\n",
       "<path style=\"stroke:none;\" d=\"M 1.5625 0 L 1.5625 -1 L 2.953125 -1 L 2.953125 -7.265625 L 1.34375 -6.328125 L 1.34375 -7 L 3.296875 -8 L 4.046875 -8 L 4.046875 -1 L 5.4375 -1 L 5.4375 0 Z M 1.5625 0 \"/>\n",
       "</symbol>\n",
       "<symbol overflow=\"visible\" id=\"glyph0-4\">\n",
       "<path style=\"stroke:none;\" d=\"M 1.40625 -6 L 0.8125 -6 L 0.8125 -7 C 1.195312 -7.320312 1.582031 -7.566406 1.96875 -7.734375 C 2.351562 -7.910156 2.734375 -8 3.109375 -8 C 3.941406 -8 4.597656 -7.804688 5.078125 -7.421875 C 5.566406 -7.035156 5.8125 -6.507812 5.8125 -5.84375 C 5.8125 -5.09375 5.257812 -4.195312 4.15625 -3.15625 C 4.070312 -3.082031 4.007812 -3.023438 3.96875 -2.984375 L 1.9375 -1 L 5.296875 -1 L 5.296875 -2 L 5.921875 -2 L 5.921875 0 L 0.75 0 L 0.75 -0.59375 L 3.1875 -3.078125 C 3.71875 -3.535156 4.097656 -3.953125 4.328125 -4.328125 C 4.554688 -4.710938 4.671875 -5.113281 4.671875 -5.53125 C 4.671875 -5.988281 4.53125 -6.347656 4.25 -6.609375 C 3.96875 -6.867188 3.582031 -7 3.09375 -7 C 2.570312 -7 2.171875 -6.914062 1.890625 -6.75 C 1.617188 -6.582031 1.457031 -6.332031 1.40625 -6 Z M 1.40625 -6 \"/>\n",
       "</symbol>\n",
       "<symbol overflow=\"visible\" id=\"glyph0-5\">\n",
       "<path style=\"stroke:none;\" d=\"M 1.0625 -7 C 1.476562 -7.320312 1.878906 -7.566406 2.265625 -7.734375 C 2.648438 -7.910156 3.015625 -8 3.359375 -8 C 4.140625 -8 4.75 -7.84375 5.1875 -7.53125 C 5.632812 -7.226562 5.859375 -6.804688 5.859375 -6.265625 C 5.859375 -5.816406 5.707031 -5.445312 5.40625 -5.15625 C 5.101562 -4.863281 4.671875 -4.664062 4.109375 -4.5625 C 4.765625 -4.46875 5.273438 -4.226562 5.640625 -3.84375 C 6.003906 -3.457031 6.1875 -2.953125 6.1875 -2.328125 C 6.1875 -1.578125 5.929688 -1 5.421875 -0.59375 C 4.921875 -0.195312 4.203125 0 3.265625 0 C 2.835938 0 2.425781 -0.0820312 2.03125 -0.25 C 1.632812 -0.414062 1.238281 -0.664062 0.84375 -1 L 0.84375 -2 L 1.4375 -2 C 1.46875 -1.664062 1.640625 -1.414062 1.953125 -1.25 C 2.265625 -1.082031 2.707031 -1 3.28125 -1 C 3.820312 -1 4.25 -1.125 4.5625 -1.375 C 4.882812 -1.632812 5.046875 -1.988281 5.046875 -2.4375 C 5.046875 -2.945312 4.878906 -3.332031 4.546875 -3.59375 C 4.222656 -3.863281 3.75 -4 3.125 -4 L 2.609375 -4 L 2.609375 -5 L 2.890625 -5 C 3.515625 -5 3.984375 -5.082031 4.296875 -5.25 C 4.609375 -5.425781 4.765625 -5.6875 4.765625 -6.03125 C 4.765625 -6.34375 4.632812 -6.582031 4.375 -6.75 C 4.125 -6.914062 3.753906 -7 3.265625 -7 C 2.785156 -7 2.410156 -6.914062 2.140625 -6.75 C 1.867188 -6.582031 1.710938 -6.332031 1.671875 -6 L 1.0625 -6 Z M 1.0625 -7 \"/>\n",
       "</symbol>\n",
       "<symbol overflow=\"visible\" id=\"glyph0-6\">\n",
       "<path style=\"stroke:none;\" d=\"M 3.84375 -4 L 3.84375 -7.125 L 1.09375 -4 Z M 6.203125 0 L 2.546875 0 L 2.546875 -1 L 3.84375 -1 L 3.84375 -3 L 0.34375 -3 L 0.34375 -3.484375 L 3.859375 -8 L 4.921875 -8 L 4.921875 -4 L 6.453125 -4 L 6.453125 -3 L 4.921875 -3 L 4.921875 -1 L 6.203125 -1 Z M 6.203125 0 \"/>\n",
       "</symbol>\n",
       "<symbol overflow=\"visible\" id=\"glyph0-7\">\n",
       "<path style=\"stroke:none;\" d=\"M 5.53125 -8 L 5.53125 -7 L 1.859375 -7 L 1.859375 -4.265625 C 2.046875 -4.503906 2.265625 -4.6875 2.515625 -4.8125 C 2.765625 -4.9375 3.039062 -5 3.34375 -5 C 4.21875 -5 4.90625 -4.773438 5.40625 -4.328125 C 5.90625 -3.878906 6.15625 -3.269531 6.15625 -2.5 C 6.15625 -1.71875 5.898438 -1.101562 5.390625 -0.65625 C 4.890625 -0.21875 4.179688 0 3.265625 0 C 2.890625 0 2.507812 -0.0820312 2.125 -0.25 C 1.738281 -0.414062 1.34375 -0.664062 0.9375 -1 L 0.9375 -2 L 1.546875 -2 C 1.578125 -1.675781 1.738281 -1.425781 2.03125 -1.25 C 2.320312 -1.082031 2.726562 -1 3.25 -1 C 3.820312 -1 4.257812 -1.128906 4.5625 -1.390625 C 4.863281 -1.648438 5.015625 -2.019531 5.015625 -2.5 C 5.015625 -2.988281 4.863281 -3.359375 4.5625 -3.609375 C 4.257812 -3.867188 3.820312 -4 3.25 -4 C 2.925781 -4 2.640625 -3.914062 2.390625 -3.75 C 2.148438 -3.59375 1.9375 -3.34375 1.75 -3 L 1.296875 -3 L 1.296875 -8 Z M 5.53125 -8 \"/>\n",
       "</symbol>\n",
       "<symbol overflow=\"visible\" id=\"glyph0-8\">\n",
       "<path style=\"stroke:none;\" d=\"M 3.59375 -1 C 4.101562 -1 4.492188 -1.128906 4.765625 -1.390625 C 5.035156 -1.648438 5.171875 -2.019531 5.171875 -2.5 C 5.171875 -2.976562 5.035156 -3.347656 4.765625 -3.609375 C 4.492188 -3.867188 4.101562 -4 3.59375 -4 C 3.082031 -4 2.691406 -3.875 2.421875 -3.625 C 2.160156 -3.375 2.03125 -3.015625 2.03125 -2.546875 C 2.03125 -2.046875 2.164062 -1.660156 2.4375 -1.390625 C 2.707031 -1.128906 3.09375 -1 3.59375 -1 Z M 1.84375 -3.8125 C 2.082031 -4.207031 2.359375 -4.503906 2.671875 -4.703125 C 2.984375 -4.898438 3.332031 -5 3.71875 -5 C 4.519531 -5 5.148438 -4.773438 5.609375 -4.328125 C 6.078125 -3.878906 6.3125 -3.269531 6.3125 -2.5 C 6.3125 -1.738281 6.0625 -1.128906 5.5625 -0.671875 C 5.0625 -0.222656 4.394531 0 3.5625 0 C 2.65625 0 1.957031 -0.320312 1.46875 -0.96875 C 0.976562 -1.625 0.734375 -2.550781 0.734375 -3.75 C 0.734375 -5.101562 1.019531 -6.148438 1.59375 -6.890625 C 2.175781 -7.628906 2.992188 -8 4.046875 -8 C 4.328125 -8 4.625 -7.914062 4.9375 -7.75 C 5.25 -7.582031 5.566406 -7.332031 5.890625 -7 L 5.890625 -6 L 5.28125 -6 C 5.238281 -6.320312 5.097656 -6.566406 4.859375 -6.734375 C 4.628906 -6.910156 4.316406 -7 3.921875 -7 C 3.222656 -7 2.703125 -6.738281 2.359375 -6.21875 C 2.023438 -5.695312 1.851562 -4.894531 1.84375 -3.8125 Z M 1.84375 -3.8125 \"/>\n",
       "</symbol>\n",
       "<symbol overflow=\"visible\" id=\"glyph0-9\">\n",
       "<path style=\"stroke:none;\" d=\"M 6.203125 -7.453125 L 3.0625 0 L 2.265625 0 L 5.265625 -7 L 1.546875 -7 L 1.546875 -6.03125 L 0.921875 -6.03125 L 0.921875 -8 L 6.203125 -8 Z M 6.203125 -7.453125 \"/>\n",
       "</symbol>\n",
       "<symbol overflow=\"visible\" id=\"glyph1-0\">\n",
       "<path style=\"stroke:none;\" d=\"M 0.453125 2 L 0.453125 -6 L 4.953125 -6 L 4.953125 2 Z M 0.953125 1 L 4.453125 1 L 4.453125 -5 L 0.953125 -5 Z M 0.953125 1 \"/>\n",
       "</symbol>\n",
       "<symbol overflow=\"visible\" id=\"glyph1-1\">\n",
       "<path style=\"stroke:none;\" d=\"M 1.84375 -1 L 2.609375 -1 L 2.609375 0 L 0.265625 0 L 0.265625 -1 L 1.03125 -1 L 1.03125 -7 L 0.265625 -7 L 0.265625 -8 L 1.84375 -8 Z M 1.84375 -1 \"/>\n",
       "</symbol>\n",
       "<symbol overflow=\"visible\" id=\"glyph1-2\">\n",
       "<path style=\"stroke:none;\" d=\"M 3.578125 -1.5 L 3.578125 -2 L 2.546875 -2 C 2.140625 -2 1.835938 -1.957031 1.640625 -1.875 C 1.441406 -1.789062 1.34375 -1.664062 1.34375 -1.5 C 1.34375 -1.34375 1.441406 -1.21875 1.640625 -1.125 C 1.835938 -1.039062 2.109375 -1 2.453125 -1 C 2.785156 -1 3.054688 -1.046875 3.265625 -1.140625 C 3.472656 -1.234375 3.578125 -1.351562 3.578125 -1.5 Z M 4.390625 -2.984375 L 4.390625 -1 L 5.109375 -1 L 5.109375 0 L 3.578125 0 L 3.578125 -1.015625 C 3.398438 -0.671875 3.191406 -0.414062 2.953125 -0.25 C 2.722656 -0.0820312 2.453125 0 2.140625 0 C 1.617188 0 1.207031 -0.132812 0.90625 -0.40625 C 0.601562 -0.675781 0.453125 -1.039062 0.453125 -1.5 C 0.453125 -1.976562 0.625 -2.347656 0.96875 -2.609375 C 1.320312 -2.867188 1.816406 -3 2.453125 -3 L 3.578125 -3 L 3.578125 -4.125 C 3.578125 -4.082031 3.46875 -4.050781 3.25 -4.03125 C 3.039062 -4.007812 2.738281 -4 2.34375 -4 C 2.019531 -4 1.765625 -4.082031 1.578125 -4.25 C 1.390625 -4.414062 1.269531 -4.664062 1.21875 -5 L 0.8125 -5 C 1.09375 -5 1.363281 -5 1.625 -5 C 1.894531 -5 2.15625 -5 2.40625 -5 C 3.050781 -5 3.539062 -4.828125 3.875 -4.484375 C 4.21875 -4.140625 4.390625 -3.640625 4.390625 -2.984375 Z M 4.390625 -2.984375 \"/>\n",
       "</symbol>\n",
       "<symbol overflow=\"visible\" id=\"glyph1-3\">\n",
       "<path style=\"stroke:none;\" d=\"M 1.03125 -1 L 1.03125 -7 L 0.265625 -7 L 0.265625 -8 L 1.84375 -8 L 1.84375 -3.71875 C 2 -4.15625 2.195312 -4.476562 2.4375 -4.6875 C 2.6875 -4.894531 2.992188 -5 3.359375 -5 C 3.929688 -5 4.398438 -4.769531 4.765625 -4.3125 C 5.128906 -3.851562 5.3125 -3.25 5.3125 -2.5 C 5.3125 -1.757812 5.128906 -1.15625 4.765625 -0.6875 C 4.398438 -0.226562 3.929688 0 3.359375 0 C 2.992188 0 2.6875 -0.0976562 2.4375 -0.296875 C 2.195312 -0.492188 2 -0.796875 1.84375 -1.203125 L 1.84375 0 L 0.265625 0 L 0.265625 -1 Z M 1.84375 -2.28125 C 1.84375 -1.863281 1.945312 -1.546875 2.15625 -1.328125 C 2.375 -1.109375 2.691406 -1 3.109375 -1 C 3.515625 -1 3.820312 -1.125 4.03125 -1.375 C 4.25 -1.632812 4.359375 -2.007812 4.359375 -2.5 C 4.359375 -3 4.25 -3.375 4.03125 -3.625 C 3.820312 -3.875 3.515625 -4 3.109375 -4 C 2.691406 -4 2.375 -3.878906 2.15625 -3.640625 C 1.945312 -3.410156 1.84375 -3.078125 1.84375 -2.640625 Z M 1.84375 -2.28125 \"/>\n",
       "</symbol>\n",
       "<symbol overflow=\"visible\" id=\"glyph1-4\">\n",
       "<path style=\"stroke:none;\" d=\"M 4.875 -2 L 1.390625 -2 L 1.390625 -1.953125 C 1.390625 -1.640625 1.507812 -1.398438 1.75 -1.234375 C 1.988281 -1.078125 2.335938 -1 2.796875 -1 C 3.148438 -1 3.441406 -1 3.671875 -1 C 3.898438 -1 4.0625 -1 4.15625 -1 L 4.796875 -1 C 4.671875 -0.664062 4.429688 -0.414062 4.078125 -0.25 C 3.734375 -0.0820312 3.28125 0 2.71875 0 C 2.03125 0 1.476562 -0.226562 1.0625 -0.6875 C 0.65625 -1.144531 0.453125 -1.75 0.453125 -2.5 C 0.453125 -3.25 0.65625 -3.851562 1.0625 -4.3125 C 1.46875 -4.769531 2 -5 2.65625 -5 C 3.363281 -5 3.90625 -4.742188 4.28125 -4.234375 C 4.664062 -3.722656 4.863281 -2.976562 4.875 -2 Z M 3.921875 -3 C 3.898438 -3.332031 3.785156 -3.582031 3.578125 -3.75 C 3.367188 -3.914062 3.0625 -4 2.65625 -4 C 2.289062 -4 2 -3.914062 1.78125 -3.75 C 1.570312 -3.582031 1.441406 -3.332031 1.390625 -3 Z M 3.921875 -3 \"/>\n",
       "</symbol>\n",
       "<symbol overflow=\"visible\" id=\"glyph1-5\">\n",
       "<path style=\"stroke:none;\" d=\"M 1.28125 0 L 1.28125 -1 L 2.421875 -1 L 2.421875 -6.265625 L 1.09375 -5.4375 L 1.09375 -6 L 2.703125 -7 L 3.3125 -7 L 3.3125 -1 L 4.453125 -1 L 4.453125 0 Z M 1.28125 0 \"/>\n",
       "</symbol>\n",
       "<symbol overflow=\"visible\" id=\"glyph1-6\">\n",
       "<path style=\"stroke:none;\" d=\"M 0.84375 -0.5 C 0.84375 -0.832031 0.898438 -1 1.015625 -1 C 1.128906 -1 1.269531 -1 1.4375 -1 C 1.59375 -1 1.726562 -1 1.84375 -1 C 1.957031 -1 2.015625 -0.832031 2.015625 -0.5 C 2.015625 -0.164062 1.957031 0 1.84375 0 C 1.726562 0 1.59375 0 1.4375 0 C 1.269531 0 1.128906 0 1.015625 0 C 0.898438 0 0.84375 -0.164062 0.84375 -0.5 Z M 0.84375 -0.5 \"/>\n",
       "</symbol>\n",
       "<symbol overflow=\"visible\" id=\"glyph1-7\">\n",
       "<path style=\"stroke:none;\" d=\"M 2.859375 -1 C 3.304688 -1 3.640625 -1.207031 3.859375 -1.625 C 4.085938 -2.039062 4.203125 -2.664062 4.203125 -3.5 C 4.203125 -4.332031 4.085938 -4.957031 3.859375 -5.375 C 3.640625 -5.789062 3.304688 -6 2.859375 -6 C 2.410156 -6 2.070312 -5.789062 1.84375 -5.375 C 1.625 -4.957031 1.515625 -4.332031 1.515625 -3.5 C 1.515625 -2.664062 1.625 -2.039062 1.84375 -1.625 C 2.070312 -1.207031 2.410156 -1 2.859375 -1 Z M 2.859375 0 C 2.148438 0 1.59375 -0.304688 1.1875 -0.921875 C 0.789062 -1.535156 0.59375 -2.394531 0.59375 -3.5 C 0.59375 -4.601562 0.789062 -5.460938 1.1875 -6.078125 C 1.59375 -6.691406 2.148438 -7 2.859375 -7 C 3.578125 -7 4.132812 -6.691406 4.53125 -6.078125 C 4.925781 -5.460938 5.125 -4.601562 5.125 -3.5 C 5.125 -2.394531 4.925781 -1.535156 4.53125 -0.921875 C 4.132812 -0.304688 3.578125 0 2.859375 0 Z M 2.859375 0 \"/>\n",
       "</symbol>\n",
       "<symbol overflow=\"visible\" id=\"glyph1-8\">\n",
       "<path style=\"stroke:none;\" d=\"\"/>\n",
       "</symbol>\n",
       "<symbol overflow=\"visible\" id=\"glyph1-9\">\n",
       "<path style=\"stroke:none;\" d=\"M 0.78125 -8 L 2.8125 -8 L 2.8125 -7 L 1.609375 -7 L 1.609375 -1 L 2.8125 -1 L 2.8125 0 L 0.78125 0 Z M 0.78125 -8 \"/>\n",
       "</symbol>\n",
       "<symbol overflow=\"visible\" id=\"glyph1-10\">\n",
       "<path style=\"stroke:none;\" d=\"M 2.734375 -8 L 2.734375 0 L 0.6875 0 L 0.6875 -1 L 1.90625 -1 L 1.90625 -7 L 0.6875 -7 L 0.6875 -8 Z M 2.734375 -8 \"/>\n",
       "</symbol>\n",
       "<symbol overflow=\"visible\" id=\"glyph1-11\">\n",
       "<path style=\"stroke:none;\" d=\"M 1.15625 -5 L 0.65625 -5 L 0.65625 -6 C 0.96875 -6.320312 1.28125 -6.566406 1.59375 -6.734375 C 1.914062 -6.910156 2.226562 -7 2.53125 -7 C 3.21875 -7 3.757812 -6.832031 4.15625 -6.5 C 4.550781 -6.175781 4.75 -5.734375 4.75 -5.171875 C 4.75 -4.535156 4.300781 -3.773438 3.40625 -2.890625 C 3.332031 -2.816406 3.28125 -2.765625 3.25 -2.734375 L 1.59375 -1 L 4.328125 -1 L 4.328125 -2 L 4.84375 -2 L 4.84375 0 L 0.609375 0 L 0.609375 -0.546875 L 2.609375 -2.8125 C 3.046875 -3.1875 3.359375 -3.523438 3.546875 -3.828125 C 3.734375 -4.140625 3.828125 -4.46875 3.828125 -4.8125 C 3.828125 -5.1875 3.710938 -5.476562 3.484375 -5.6875 C 3.253906 -5.894531 2.9375 -6 2.53125 -6 C 2.113281 -6 1.789062 -5.914062 1.5625 -5.75 C 1.332031 -5.582031 1.195312 -5.332031 1.15625 -5 Z M 1.15625 -5 \"/>\n",
       "</symbol>\n",
       "<symbol overflow=\"visible\" id=\"glyph1-12\">\n",
       "<path style=\"stroke:none;\" d=\"M 0.875 -6 C 1.21875 -6.320312 1.546875 -6.566406 1.859375 -6.734375 C 2.179688 -6.910156 2.476562 -7 2.75 -7 C 3.394531 -7 3.894531 -6.84375 4.25 -6.53125 C 4.613281 -6.226562 4.796875 -5.804688 4.796875 -5.265625 C 4.796875 -4.816406 4.671875 -4.445312 4.421875 -4.15625 C 4.171875 -3.863281 3.816406 -3.664062 3.359375 -3.5625 C 3.898438 -3.488281 4.316406 -3.300781 4.609375 -3 C 4.910156 -2.695312 5.0625 -2.304688 5.0625 -1.828125 C 5.0625 -1.234375 4.851562 -0.78125 4.4375 -0.46875 C 4.03125 -0.15625 3.441406 0 2.671875 0 C 2.328125 0 1.988281 -0.0820312 1.65625 -0.25 C 1.332031 -0.414062 1.007812 -0.664062 0.6875 -1 L 0.6875 -2 L 1.171875 -2 C 1.203125 -1.664062 1.34375 -1.414062 1.59375 -1.25 C 1.851562 -1.082031 2.210938 -1 2.671875 -1 C 3.117188 -1 3.472656 -1.082031 3.734375 -1.25 C 3.992188 -1.425781 4.125 -1.664062 4.125 -1.96875 C 4.125 -2.300781 3.988281 -2.554688 3.71875 -2.734375 C 3.457031 -2.910156 3.070312 -3 2.5625 -3 L 2.140625 -3 L 2.140625 -4 L 2.359375 -4 C 2.867188 -4 3.25 -4.082031 3.5 -4.25 C 3.757812 -4.425781 3.890625 -4.6875 3.890625 -5.03125 C 3.890625 -5.34375 3.785156 -5.582031 3.578125 -5.75 C 3.367188 -5.914062 3.066406 -6 2.671875 -6 C 2.273438 -6 1.96875 -5.914062 1.75 -5.75 C 1.53125 -5.582031 1.398438 -5.332031 1.359375 -5 L 0.875 -5 Z M 0.875 -6 \"/>\n",
       "</symbol>\n",
       "<symbol overflow=\"visible\" id=\"glyph1-13\">\n",
       "<path style=\"stroke:none;\" d=\"M 3.140625 -3 L 3.140625 -6.125 L 0.90625 -3 Z M 5.078125 0 L 2.09375 0 L 2.09375 -1 L 3.140625 -1 L 3.140625 -2 L 0.28125 -2 L 0.28125 -2.484375 L 3.140625 -7 L 4.015625 -7 L 4.015625 -3 L 5.28125 -3 L 5.28125 -2 L 4.015625 -2 L 4.015625 -1 L 5.078125 -1 Z M 5.078125 0 \"/>\n",
       "</symbol>\n",
       "<symbol overflow=\"visible\" id=\"glyph1-14\">\n",
       "<path style=\"stroke:none;\" d=\"M 4.53125 -7 L 4.53125 -6 L 1.515625 -6 L 1.515625 -3.265625 C 1.671875 -3.503906 1.847656 -3.6875 2.046875 -3.8125 C 2.253906 -3.9375 2.484375 -4 2.734375 -4 C 3.441406 -4 4 -3.820312 4.40625 -3.46875 C 4.820312 -3.113281 5.03125 -2.625 5.03125 -2 C 5.03125 -1.375 4.820312 -0.882812 4.40625 -0.53125 C 3.988281 -0.175781 3.40625 0 2.65625 0 C 2.363281 0 2.054688 -0.0820312 1.734375 -0.25 C 1.421875 -0.414062 1.097656 -0.664062 0.765625 -1 L 0.765625 -2 L 1.265625 -2 C 1.296875 -1.675781 1.425781 -1.425781 1.65625 -1.25 C 1.894531 -1.082031 2.234375 -1 2.671875 -1 C 3.128906 -1 3.484375 -1.082031 3.734375 -1.25 C 3.984375 -1.425781 4.109375 -1.675781 4.109375 -2 C 4.109375 -2.320312 3.984375 -2.566406 3.734375 -2.734375 C 3.484375 -2.910156 3.128906 -3 2.671875 -3 C 2.398438 -3 2.164062 -3 1.96875 -3 C 1.769531 -3 1.59375 -3 1.4375 -3 L 1.0625 -3 L 1.0625 -7 Z M 4.53125 -7 \"/>\n",
       "</symbol>\n",
       "<symbol overflow=\"visible\" id=\"glyph1-15\">\n",
       "<path style=\"stroke:none;\" d=\"M 2.953125 -1 C 3.359375 -1 3.671875 -1.082031 3.890625 -1.25 C 4.117188 -1.425781 4.234375 -1.675781 4.234375 -2 C 4.234375 -2.320312 4.117188 -2.566406 3.890625 -2.734375 C 3.671875 -2.910156 3.359375 -3 2.953125 -3 C 2.523438 -3 2.203125 -2.914062 1.984375 -2.75 C 1.765625 -2.582031 1.65625 -2.34375 1.65625 -2.03125 C 1.65625 -1.695312 1.765625 -1.441406 1.984375 -1.265625 C 2.210938 -1.085938 2.535156 -1 2.953125 -1 Z M 1.515625 -2.875 C 1.710938 -3.25 1.9375 -3.53125 2.1875 -3.71875 C 2.4375 -3.90625 2.722656 -4 3.046875 -4 C 3.691406 -4 4.203125 -3.816406 4.578125 -3.453125 C 4.960938 -3.097656 5.15625 -2.613281 5.15625 -2 C 5.15625 -1.394531 4.953125 -0.910156 4.546875 -0.546875 C 4.140625 -0.179688 3.59375 0 2.90625 0 C 2.164062 0 1.597656 -0.28125 1.203125 -0.84375 C 0.804688 -1.414062 0.609375 -2.226562 0.609375 -3.28125 C 0.609375 -4.46875 0.84375 -5.382812 1.3125 -6.03125 C 1.78125 -6.675781 2.445312 -7 3.3125 -7 C 3.539062 -7 3.78125 -6.914062 4.03125 -6.75 C 4.28125 -6.582031 4.539062 -6.332031 4.8125 -6 L 4.8125 -5 L 4.3125 -5 C 4.28125 -5.320312 4.164062 -5.566406 3.96875 -5.734375 C 3.78125 -5.910156 3.523438 -6 3.203125 -6 C 2.640625 -6 2.21875 -5.742188 1.9375 -5.234375 C 1.664062 -4.722656 1.523438 -3.9375 1.515625 -2.875 Z M 1.515625 -2.875 \"/>\n",
       "</symbol>\n",
       "<symbol overflow=\"visible\" id=\"glyph1-16\">\n",
       "<path style=\"stroke:none;\" d=\"M 5.078125 -6.515625 L 2.515625 0 L 1.859375 0 L 4.296875 -6 L 1.265625 -6 L 1.265625 -5.171875 L 0.75 -5.171875 L 0.75 -7 L 5.078125 -7 Z M 5.078125 -6.515625 \"/>\n",
       "</symbol>\n",
       "<symbol overflow=\"visible\" id=\"glyph1-17\">\n",
       "<path style=\"stroke:none;\" d=\"M 4.71875 -1 L 5.5 -1 L 5.5 0 L 3.921875 0 L 3.921875 -1.203125 C 3.765625 -0.796875 3.5625 -0.492188 3.3125 -0.296875 C 3.070312 -0.0976562 2.769531 0 2.40625 0 C 1.832031 0 1.363281 -0.226562 1 -0.6875 C 0.632812 -1.15625 0.453125 -1.757812 0.453125 -2.5 C 0.453125 -3.25 0.632812 -3.851562 1 -4.3125 C 1.363281 -4.769531 1.832031 -5 2.40625 -5 C 2.769531 -5 3.070312 -4.894531 3.3125 -4.6875 C 3.5625 -4.476562 3.765625 -4.15625 3.921875 -3.71875 L 3.921875 -7 L 3.15625 -7 L 3.15625 -8 L 4.71875 -8 Z M 3.921875 -2.28125 L 3.921875 -2.640625 C 3.921875 -3.078125 3.8125 -3.410156 3.59375 -3.640625 C 3.382812 -3.878906 3.070312 -4 2.65625 -4 C 2.238281 -4 1.921875 -3.875 1.703125 -3.625 C 1.492188 -3.375 1.390625 -3 1.390625 -2.5 C 1.390625 -2.007812 1.492188 -1.632812 1.703125 -1.375 C 1.921875 -1.125 2.238281 -1 2.65625 -1 C 3.070312 -1 3.382812 -1.109375 3.59375 -1.328125 C 3.8125 -1.546875 3.921875 -1.863281 3.921875 -2.28125 Z M 3.921875 -2.28125 \"/>\n",
       "</symbol>\n",
       "<symbol overflow=\"visible\" id=\"glyph1-18\">\n",
       "<path style=\"stroke:none;\" d=\"M 0.96875 -4 L 0.265625 -4 L 0.265625 -5 L 0.96875 -5 L 0.96875 -6 L 1.78125 -6 L 1.78125 -5 L 3.3125 -5 L 3.3125 -4 L 1.78125 -4 L 1.78125 -2.09375 C 1.78125 -1.625 1.816406 -1.320312 1.890625 -1.1875 C 1.972656 -1.0625 2.113281 -1 2.3125 -1 C 2.53125 -1 2.6875 -1.078125 2.78125 -1.234375 C 2.875 -1.390625 2.925781 -1.644531 2.9375 -2 L 3.546875 -2 C 3.523438 -1.300781 3.410156 -0.789062 3.203125 -0.46875 C 2.992188 -0.15625 2.675781 0 2.25 0 C 1.78125 0 1.445312 -0.15625 1.25 -0.46875 C 1.0625 -0.789062 0.96875 -1.332031 0.96875 -2.09375 Z M 0.96875 -4 \"/>\n",
       "</symbol>\n",
       "<symbol overflow=\"visible\" id=\"glyph1-19\">\n",
       "<path style=\"stroke:none;\" d=\"M 4.1875 -2 C 4.1875 -2.3125 4.066406 -2.554688 3.828125 -2.734375 C 3.597656 -2.910156 3.273438 -3 2.859375 -3 C 2.441406 -3 2.113281 -2.910156 1.875 -2.734375 C 1.644531 -2.554688 1.53125 -2.3125 1.53125 -2 C 1.53125 -1.6875 1.644531 -1.441406 1.875 -1.265625 C 2.113281 -1.085938 2.441406 -1 2.859375 -1 C 3.273438 -1 3.597656 -1.085938 3.828125 -1.265625 C 4.066406 -1.441406 4.1875 -1.6875 4.1875 -2 Z M 4.015625 -5 C 4.015625 -5.3125 3.910156 -5.554688 3.703125 -5.734375 C 3.503906 -5.910156 3.222656 -6 2.859375 -6 C 2.492188 -6 2.207031 -5.910156 2 -5.734375 C 1.800781 -5.554688 1.703125 -5.3125 1.703125 -5 C 1.703125 -4.6875 1.800781 -4.441406 2 -4.265625 C 2.207031 -4.085938 2.492188 -4 2.859375 -4 C 3.222656 -4 3.503906 -4.085938 3.703125 -4.265625 C 3.910156 -4.441406 4.015625 -4.6875 4.015625 -5 Z M 3.53125 -3.5 C 4.03125 -3.4375 4.421875 -3.257812 4.703125 -2.96875 C 4.984375 -2.675781 5.125 -2.304688 5.125 -1.859375 C 5.125 -1.265625 4.925781 -0.804688 4.53125 -0.484375 C 4.144531 -0.160156 3.585938 0 2.859375 0 C 2.140625 0 1.582031 -0.160156 1.1875 -0.484375 C 0.800781 -0.804688 0.609375 -1.265625 0.609375 -1.859375 C 0.609375 -2.304688 0.742188 -2.675781 1.015625 -2.96875 C 1.296875 -3.257812 1.6875 -3.4375 2.1875 -3.5 C 1.738281 -3.582031 1.394531 -3.765625 1.15625 -4.046875 C 0.925781 -4.328125 0.8125 -4.6875 0.8125 -5.125 C 0.8125 -5.707031 0.992188 -6.164062 1.359375 -6.5 C 1.722656 -6.832031 2.222656 -7 2.859375 -7 C 3.492188 -7 3.992188 -6.832031 4.359375 -6.5 C 4.722656 -6.164062 4.90625 -5.707031 4.90625 -5.125 C 4.90625 -4.6875 4.785156 -4.328125 4.546875 -4.046875 C 4.304688 -3.765625 3.96875 -3.582031 3.53125 -3.5 Z M 3.53125 -3.5 \"/>\n",
       "</symbol>\n",
       "<symbol overflow=\"visible\" id=\"glyph1-20\">\n",
       "<path style=\"stroke:none;\" d=\"M 4.203125 -4.125 C 4.003906 -3.75 3.773438 -3.46875 3.515625 -3.28125 C 3.265625 -3.09375 2.984375 -3 2.671875 -3 C 2.015625 -3 1.5 -3.175781 1.125 -3.53125 C 0.75 -3.894531 0.5625 -4.382812 0.5625 -5 C 0.5625 -5.601562 0.765625 -6.085938 1.171875 -6.453125 C 1.585938 -6.816406 2.132812 -7 2.8125 -7 C 3.5625 -7 4.132812 -6.710938 4.53125 -6.140625 C 4.925781 -5.578125 5.125 -4.769531 5.125 -3.71875 C 5.125 -2.53125 4.882812 -1.613281 4.40625 -0.96875 C 3.9375 -0.320312 3.273438 0 2.421875 0 C 2.191406 0 1.945312 -0.0820312 1.6875 -0.25 C 1.4375 -0.414062 1.175781 -0.664062 0.90625 -1 L 0.90625 -2 L 1.40625 -2 C 1.445312 -1.675781 1.5625 -1.425781 1.75 -1.25 C 1.9375 -1.082031 2.191406 -1 2.515625 -1 C 3.078125 -1 3.5 -1.253906 3.78125 -1.765625 C 4.0625 -2.273438 4.203125 -3.0625 4.203125 -4.125 Z M 2.78125 -6 C 2.363281 -6 2.046875 -5.910156 1.828125 -5.734375 C 1.609375 -5.566406 1.5 -5.320312 1.5 -5 C 1.5 -4.675781 1.609375 -4.425781 1.828125 -4.25 C 2.046875 -4.082031 2.363281 -4 2.78125 -4 C 3.195312 -4 3.515625 -4.082031 3.734375 -4.25 C 3.953125 -4.414062 4.0625 -4.65625 4.0625 -4.96875 C 4.0625 -5.300781 3.945312 -5.554688 3.71875 -5.734375 C 3.5 -5.910156 3.1875 -6 2.78125 -6 Z M 2.78125 -6 \"/>\n",
       "</symbol>\n",
       "</g>\n",
       "</defs>\n",
       "<g id=\"surface1\">\n",
       "<path style=\"fill-rule:nonzero;fill:rgb(25.490196%,26.666667%,52.941176%);fill-opacity:1;stroke-width:4;stroke-linecap:butt;stroke-linejoin:miter;stroke:rgb(20.392157%,21.176471%,42.352941%);stroke-opacity:1;stroke-miterlimit:10;\" d=\"M 411 -269.5 C 411 -262.597656 405.402344 -257 398.5 -257 C 391.597656 -257 386 -262.597656 386 -269.5 C 386 -276.402344 391.597656 -282 398.5 -282 C 405.402344 -282 411 -276.402344 411 -269.5 \" transform=\"matrix(1,0,0,1,4,506)\"/>\n",
       "<g style=\"fill:rgb(0%,0%,0%);fill-opacity:1;\">\n",
       "  <use xlink:href=\"#glyph0-1\" x=\"393.5\" y=\"239.300781\"/>\n",
       "  <use xlink:href=\"#glyph0-2\" x=\"400.25\" y=\"239.300781\"/>\n",
       "  <use xlink:href=\"#glyph0-1\" x=\"404\" y=\"239.300781\"/>\n",
       "</g>\n",
       "<path style=\"fill:none;stroke-width:1;stroke-linecap:butt;stroke-linejoin:miter;stroke:rgb(74.901961%,74.901961%,74.901961%);stroke-opacity:1;stroke-miterlimit:10;\" d=\"M 411.25 -269.5 C 423.792969 -269.5 443.957031 -269.5 459.472656 -269.5 \" transform=\"matrix(1,0,0,1,4,506)\"/>\n",
       "<path style=\"fill-rule:nonzero;fill:rgb(74.901961%,74.901961%,74.901961%);fill-opacity:1;stroke-width:1;stroke-linecap:butt;stroke-linejoin:miter;stroke:rgb(74.901961%,74.901961%,74.901961%);stroke-opacity:1;stroke-miterlimit:10;\" d=\"M 459.773438 -273 L 469.773438 -269.5 L 459.773438 -266 Z M 459.773438 -273 \" transform=\"matrix(1,0,0,1,4,506)\"/>\n",
       "<g style=\"fill:rgb(0%,0%,0%);fill-opacity:1;\">\n",
       "  <use xlink:href=\"#glyph1-1\" x=\"433\" y=\"233.699219\"/>\n",
       "  <use xlink:href=\"#glyph1-2\" x=\"436\" y=\"233.699219\"/>\n",
       "  <use xlink:href=\"#glyph1-3\" x=\"441.25\" y=\"233.699219\"/>\n",
       "  <use xlink:href=\"#glyph1-4\" x=\"447.25\" y=\"233.699219\"/>\n",
       "  <use xlink:href=\"#glyph1-1\" x=\"452.5\" y=\"233.699219\"/>\n",
       "</g>\n",
       "<path style=\"fill-rule:nonzero;fill:rgb(13.72549%,53.333333%,55.686275%);fill-opacity:1;stroke-width:4;stroke-linecap:butt;stroke-linejoin:miter;stroke:rgb(10.980392%,42.745098%,44.313725%);stroke-opacity:1;stroke-miterlimit:10;\" d=\"M 312 -343.5 C 312 -336.597656 306.402344 -331 299.5 -331 C 292.597656 -331 287 -336.597656 287 -343.5 C 287 -350.402344 292.597656 -356 299.5 -356 C 306.402344 -356 312 -350.402344 312 -343.5 \" transform=\"matrix(1,0,0,1,4,506)\"/>\n",
       "<g style=\"fill:rgb(0%,0%,0%);fill-opacity:1;\">\n",
       "  <use xlink:href=\"#glyph0-3\" x=\"294.5\" y=\"165.300781\"/>\n",
       "  <use xlink:href=\"#glyph0-2\" x=\"301.25\" y=\"165.300781\"/>\n",
       "  <use xlink:href=\"#glyph0-1\" x=\"305\" y=\"165.300781\"/>\n",
       "</g>\n",
       "<path style=\"fill:none;stroke-width:1;stroke-linecap:butt;stroke-linejoin:miter;stroke:rgb(74.901961%,74.901961%,74.901961%);stroke-opacity:1;stroke-miterlimit:10;\" d=\"M 309.800781 -336.40625 C 325.910156 -324.113281 359.253906 -298.679688 379.867188 -282.953125 \" transform=\"matrix(1,0,0,1,4,506)\"/>\n",
       "<path style=\"fill-rule:nonzero;fill:rgb(74.901961%,74.901961%,74.901961%);fill-opacity:1;stroke-width:1;stroke-linecap:butt;stroke-linejoin:miter;stroke:rgb(74.901961%,74.901961%,74.901961%);stroke-opacity:1;stroke-miterlimit:10;\" d=\"M 382.257812 -285.53125 L 388.085938 -276.683594 L 378.011719 -279.964844 Z M 382.257812 -285.53125 \" transform=\"matrix(1,0,0,1,4,506)\"/>\n",
       "<g style=\"fill:rgb(0%,0%,0%);fill-opacity:1;\">\n",
       "  <use xlink:href=\"#glyph1-5\" x=\"334\" y=\"183.699219\"/>\n",
       "  <use xlink:href=\"#glyph1-6\" x=\"340\" y=\"183.699219\"/>\n",
       "  <use xlink:href=\"#glyph1-7\" x=\"343\" y=\"183.699219\"/>\n",
       "  <use xlink:href=\"#glyph1-8\" x=\"349\" y=\"183.699219\"/>\n",
       "  <use xlink:href=\"#glyph1-9\" x=\"352\" y=\"183.699219\"/>\n",
       "  <use xlink:href=\"#glyph1-5\" x=\"355.75\" y=\"183.699219\"/>\n",
       "  <use xlink:href=\"#glyph1-7\" x=\"361.75\" y=\"183.699219\"/>\n",
       "  <use xlink:href=\"#glyph1-10\" x=\"367.75\" y=\"183.699219\"/>\n",
       "</g>\n",
       "<path style=\"fill-rule:nonzero;fill:rgb(13.72549%,53.333333%,55.686275%);fill-opacity:1;stroke-width:4;stroke-linecap:butt;stroke-linejoin:miter;stroke:rgb(10.980392%,42.745098%,44.313725%);stroke-opacity:1;stroke-miterlimit:10;\" d=\"M 312 -158.5 C 312 -151.597656 306.402344 -146 299.5 -146 C 292.597656 -146 287 -151.597656 287 -158.5 C 287 -165.402344 292.597656 -171 299.5 -171 C 306.402344 -171 312 -165.402344 312 -158.5 \" transform=\"matrix(1,0,0,1,4,506)\"/>\n",
       "<g style=\"fill:rgb(0%,0%,0%);fill-opacity:1;\">\n",
       "  <use xlink:href=\"#glyph0-3\" x=\"294.5\" y=\"350.300781\"/>\n",
       "  <use xlink:href=\"#glyph0-2\" x=\"301.25\" y=\"350.300781\"/>\n",
       "  <use xlink:href=\"#glyph0-3\" x=\"305\" y=\"350.300781\"/>\n",
       "</g>\n",
       "<path style=\"fill:none;stroke-width:1;stroke-linecap:butt;stroke-linejoin:miter;stroke:rgb(74.901961%,74.901961%,74.901961%);stroke-opacity:1;stroke-miterlimit:10;\" d=\"M 308.4375 -167.582031 C 324.707031 -186.203125 362.058594 -228.941406 382.851562 -252.734375 \" transform=\"matrix(1,0,0,1,4,506)\"/>\n",
       "<path style=\"fill-rule:nonzero;fill:rgb(74.901961%,74.901961%,74.901961%);fill-opacity:1;stroke-width:1;stroke-linecap:butt;stroke-linejoin:miter;stroke:rgb(74.901961%,74.901961%,74.901961%);stroke-opacity:1;stroke-miterlimit:10;\" d=\"M 380.238281 -255.0625 L 389.453125 -260.289062 L 385.507812 -250.457031 Z M 380.238281 -255.0625 \" transform=\"matrix(1,0,0,1,4,506)\"/>\n",
       "<g style=\"fill:rgb(0%,0%,0%);fill-opacity:1;\">\n",
       "  <use xlink:href=\"#glyph1-5\" x=\"334\" y=\"269.699219\"/>\n",
       "  <use xlink:href=\"#glyph1-6\" x=\"340\" y=\"269.699219\"/>\n",
       "  <use xlink:href=\"#glyph1-5\" x=\"343\" y=\"269.699219\"/>\n",
       "  <use xlink:href=\"#glyph1-8\" x=\"349\" y=\"269.699219\"/>\n",
       "  <use xlink:href=\"#glyph1-9\" x=\"352\" y=\"269.699219\"/>\n",
       "  <use xlink:href=\"#glyph1-5\" x=\"355.75\" y=\"269.699219\"/>\n",
       "  <use xlink:href=\"#glyph1-7\" x=\"361.75\" y=\"269.699219\"/>\n",
       "  <use xlink:href=\"#glyph1-10\" x=\"367.75\" y=\"269.699219\"/>\n",
       "</g>\n",
       "<path style=\"fill-rule:nonzero;fill:rgb(32.941176%,77.254902%,40.784314%);fill-opacity:1;stroke-width:4;stroke-linecap:butt;stroke-linejoin:miter;stroke:rgb(22.352941%,65.882353%,29.803922%);stroke-opacity:1;stroke-miterlimit:10;\" d=\"M 213 -422.5 C 213 -415.597656 207.402344 -410 200.5 -410 C 193.597656 -410 188 -415.597656 188 -422.5 C 188 -429.402344 193.597656 -435 200.5 -435 C 207.402344 -435 213 -429.402344 213 -422.5 \" transform=\"matrix(1,0,0,1,4,506)\"/>\n",
       "<g style=\"fill:rgb(0%,0%,0%);fill-opacity:1;\">\n",
       "  <use xlink:href=\"#glyph0-4\" x=\"195.5\" y=\"86.300781\"/>\n",
       "  <use xlink:href=\"#glyph0-2\" x=\"202.25\" y=\"86.300781\"/>\n",
       "  <use xlink:href=\"#glyph0-1\" x=\"206\" y=\"86.300781\"/>\n",
       "</g>\n",
       "<path style=\"fill:none;stroke-width:1;stroke-linecap:butt;stroke-linejoin:miter;stroke:rgb(74.901961%,74.901961%,74.901961%);stroke-opacity:1;stroke-miterlimit:10;\" d=\"M 210.800781 -414.925781 C 227.066406 -401.679688 260.898438 -374.125 281.460938 -357.378906 \" transform=\"matrix(1,0,0,1,4,506)\"/>\n",
       "<path style=\"fill-rule:nonzero;fill:rgb(74.901961%,74.901961%,74.901961%);fill-opacity:1;stroke-width:1;stroke-linecap:butt;stroke-linejoin:miter;stroke:rgb(74.901961%,74.901961%,74.901961%);stroke-opacity:1;stroke-miterlimit:10;\" d=\"M 283.824219 -359.964844 L 289.367188 -350.9375 L 279.40625 -354.539062 Z M 283.824219 -359.964844 \" transform=\"matrix(1,0,0,1,4,506)\"/>\n",
       "<g style=\"fill:rgb(0%,0%,0%);fill-opacity:1;\">\n",
       "  <use xlink:href=\"#glyph1-11\" x=\"235\" y=\"106.699219\"/>\n",
       "  <use xlink:href=\"#glyph1-6\" x=\"241\" y=\"106.699219\"/>\n",
       "  <use xlink:href=\"#glyph1-7\" x=\"244\" y=\"106.699219\"/>\n",
       "  <use xlink:href=\"#glyph1-8\" x=\"250\" y=\"106.699219\"/>\n",
       "  <use xlink:href=\"#glyph1-9\" x=\"253\" y=\"106.699219\"/>\n",
       "  <use xlink:href=\"#glyph1-5\" x=\"256.75\" y=\"106.699219\"/>\n",
       "  <use xlink:href=\"#glyph1-7\" x=\"262.75\" y=\"106.699219\"/>\n",
       "  <use xlink:href=\"#glyph1-10\" x=\"268.75\" y=\"106.699219\"/>\n",
       "</g>\n",
       "<path style=\"fill-rule:nonzero;fill:rgb(32.941176%,77.254902%,40.784314%);fill-opacity:1;stroke-width:4;stroke-linecap:butt;stroke-linejoin:miter;stroke:rgb(22.352941%,65.882353%,29.803922%);stroke-opacity:1;stroke-miterlimit:10;\" d=\"M 213 -343.5 C 213 -336.597656 207.402344 -331 200.5 -331 C 193.597656 -331 188 -336.597656 188 -343.5 C 188 -350.402344 193.597656 -356 200.5 -356 C 207.402344 -356 213 -350.402344 213 -343.5 \" transform=\"matrix(1,0,0,1,4,506)\"/>\n",
       "<g style=\"fill:rgb(0%,0%,0%);fill-opacity:1;\">\n",
       "  <use xlink:href=\"#glyph0-4\" x=\"195.5\" y=\"165.300781\"/>\n",
       "  <use xlink:href=\"#glyph0-2\" x=\"202.25\" y=\"165.300781\"/>\n",
       "  <use xlink:href=\"#glyph0-3\" x=\"206\" y=\"165.300781\"/>\n",
       "</g>\n",
       "<path style=\"fill:none;stroke-width:1;stroke-linecap:butt;stroke-linejoin:miter;stroke:rgb(74.901961%,74.901961%,74.901961%);stroke-opacity:1;stroke-miterlimit:10;\" d=\"M 213.007812 -343.5 C 228.601562 -343.5 256.757812 -343.5 276.484375 -343.5 \" transform=\"matrix(1,0,0,1,4,506)\"/>\n",
       "<path style=\"fill-rule:nonzero;fill:rgb(74.901961%,74.901961%,74.901961%);fill-opacity:1;stroke-width:1;stroke-linecap:butt;stroke-linejoin:miter;stroke:rgb(74.901961%,74.901961%,74.901961%);stroke-opacity:1;stroke-miterlimit:10;\" d=\"M 276.703125 -347 L 286.703125 -343.5 L 276.703125 -340 Z M 276.703125 -347 \" transform=\"matrix(1,0,0,1,4,506)\"/>\n",
       "<g style=\"fill:rgb(0%,0%,0%);fill-opacity:1;\">\n",
       "  <use xlink:href=\"#glyph1-11\" x=\"235\" y=\"159.699219\"/>\n",
       "  <use xlink:href=\"#glyph1-6\" x=\"241\" y=\"159.699219\"/>\n",
       "  <use xlink:href=\"#glyph1-5\" x=\"244\" y=\"159.699219\"/>\n",
       "  <use xlink:href=\"#glyph1-8\" x=\"250\" y=\"159.699219\"/>\n",
       "  <use xlink:href=\"#glyph1-9\" x=\"253\" y=\"159.699219\"/>\n",
       "  <use xlink:href=\"#glyph1-5\" x=\"256.75\" y=\"159.699219\"/>\n",
       "  <use xlink:href=\"#glyph1-7\" x=\"262.75\" y=\"159.699219\"/>\n",
       "  <use xlink:href=\"#glyph1-10\" x=\"268.75\" y=\"159.699219\"/>\n",
       "</g>\n",
       "<path style=\"fill-rule:nonzero;fill:rgb(32.941176%,77.254902%,40.784314%);fill-opacity:1;stroke-width:4;stroke-linecap:butt;stroke-linejoin:miter;stroke:rgb(22.352941%,65.882353%,29.803922%);stroke-opacity:1;stroke-miterlimit:10;\" d=\"M 213 -158.5 C 213 -151.597656 207.402344 -146 200.5 -146 C 193.597656 -146 188 -151.597656 188 -158.5 C 188 -165.402344 193.597656 -171 200.5 -171 C 207.402344 -171 213 -165.402344 213 -158.5 \" transform=\"matrix(1,0,0,1,4,506)\"/>\n",
       "<g style=\"fill:rgb(0%,0%,0%);fill-opacity:1;\">\n",
       "  <use xlink:href=\"#glyph0-4\" x=\"195.5\" y=\"350.300781\"/>\n",
       "  <use xlink:href=\"#glyph0-2\" x=\"202.25\" y=\"350.300781\"/>\n",
       "  <use xlink:href=\"#glyph0-4\" x=\"206\" y=\"350.300781\"/>\n",
       "</g>\n",
       "<path style=\"fill:none;stroke-width:1;stroke-linecap:butt;stroke-linejoin:miter;stroke:rgb(74.901961%,74.901961%,74.901961%);stroke-opacity:1;stroke-miterlimit:10;\" d=\"M 213.007812 -158.5 C 228.601562 -158.5 256.757812 -158.5 276.484375 -158.5 \" transform=\"matrix(1,0,0,1,4,506)\"/>\n",
       "<path style=\"fill-rule:nonzero;fill:rgb(74.901961%,74.901961%,74.901961%);fill-opacity:1;stroke-width:1;stroke-linecap:butt;stroke-linejoin:miter;stroke:rgb(74.901961%,74.901961%,74.901961%);stroke-opacity:1;stroke-miterlimit:10;\" d=\"M 276.703125 -162 L 286.703125 -158.5 L 276.703125 -155 Z M 276.703125 -162 \" transform=\"matrix(1,0,0,1,4,506)\"/>\n",
       "<g style=\"fill:rgb(0%,0%,0%);fill-opacity:1;\">\n",
       "  <use xlink:href=\"#glyph1-11\" x=\"235\" y=\"344.699219\"/>\n",
       "  <use xlink:href=\"#glyph1-6\" x=\"241\" y=\"344.699219\"/>\n",
       "  <use xlink:href=\"#glyph1-11\" x=\"244\" y=\"344.699219\"/>\n",
       "  <use xlink:href=\"#glyph1-8\" x=\"250\" y=\"344.699219\"/>\n",
       "  <use xlink:href=\"#glyph1-9\" x=\"253\" y=\"344.699219\"/>\n",
       "  <use xlink:href=\"#glyph1-5\" x=\"256.75\" y=\"344.699219\"/>\n",
       "  <use xlink:href=\"#glyph1-7\" x=\"262.75\" y=\"344.699219\"/>\n",
       "  <use xlink:href=\"#glyph1-10\" x=\"268.75\" y=\"344.699219\"/>\n",
       "</g>\n",
       "<path style=\"fill-rule:nonzero;fill:rgb(32.941176%,77.254902%,40.784314%);fill-opacity:1;stroke-width:4;stroke-linecap:butt;stroke-linejoin:miter;stroke:rgb(22.352941%,65.882353%,29.803922%);stroke-opacity:1;stroke-miterlimit:10;\" d=\"M 213 -79.5 C 213 -72.597656 207.402344 -67 200.5 -67 C 193.597656 -67 188 -72.597656 188 -79.5 C 188 -86.402344 193.597656 -92 200.5 -92 C 207.402344 -92 213 -86.402344 213 -79.5 \" transform=\"matrix(1,0,0,1,4,506)\"/>\n",
       "<g style=\"fill:rgb(0%,0%,0%);fill-opacity:1;\">\n",
       "  <use xlink:href=\"#glyph0-4\" x=\"195.5\" y=\"429.300781\"/>\n",
       "  <use xlink:href=\"#glyph0-2\" x=\"202.25\" y=\"429.300781\"/>\n",
       "  <use xlink:href=\"#glyph0-5\" x=\"206\" y=\"429.300781\"/>\n",
       "</g>\n",
       "<path style=\"fill:none;stroke-width:1;stroke-linecap:butt;stroke-linejoin:miter;stroke:rgb(74.901961%,74.901961%,74.901961%);stroke-opacity:1;stroke-miterlimit:10;\" d=\"M 210.800781 -87.074219 C 227.066406 -100.320312 260.898438 -127.875 281.460938 -144.621094 \" transform=\"matrix(1,0,0,1,4,506)\"/>\n",
       "<path style=\"fill-rule:nonzero;fill:rgb(74.901961%,74.901961%,74.901961%);fill-opacity:1;stroke-width:1;stroke-linecap:butt;stroke-linejoin:miter;stroke:rgb(74.901961%,74.901961%,74.901961%);stroke-opacity:1;stroke-miterlimit:10;\" d=\"M 279.40625 -147.460938 L 289.367188 -151.0625 L 283.824219 -142.035156 Z M 279.40625 -147.460938 \" transform=\"matrix(1,0,0,1,4,506)\"/>\n",
       "<g style=\"fill:rgb(0%,0%,0%);fill-opacity:1;\">\n",
       "  <use xlink:href=\"#glyph1-11\" x=\"235\" y=\"370.699219\"/>\n",
       "  <use xlink:href=\"#glyph1-6\" x=\"241\" y=\"370.699219\"/>\n",
       "  <use xlink:href=\"#glyph1-12\" x=\"244\" y=\"370.699219\"/>\n",
       "  <use xlink:href=\"#glyph1-8\" x=\"250\" y=\"370.699219\"/>\n",
       "  <use xlink:href=\"#glyph1-9\" x=\"253\" y=\"370.699219\"/>\n",
       "  <use xlink:href=\"#glyph1-5\" x=\"256.75\" y=\"370.699219\"/>\n",
       "  <use xlink:href=\"#glyph1-7\" x=\"262.75\" y=\"370.699219\"/>\n",
       "  <use xlink:href=\"#glyph1-10\" x=\"268.75\" y=\"370.699219\"/>\n",
       "</g>\n",
       "<path style=\"fill-rule:nonzero;fill:rgb(99.215686%,90.588235%,14.509804%);fill-opacity:1;stroke-width:4;stroke-linecap:butt;stroke-linejoin:miter;stroke:rgb(90.196078%,81.176471%,0.784314%);stroke-opacity:1;stroke-miterlimit:10;\" d=\"M 120 -465.5 C 120 -458.597656 114.402344 -453 107.5 -453 C 100.597656 -453 95 -458.597656 95 -465.5 C 95 -472.402344 100.597656 -478 107.5 -478 C 114.402344 -478 120 -472.402344 120 -465.5 \" transform=\"matrix(1,0,0,1,4,506)\"/>\n",
       "<g style=\"fill:rgb(0%,0%,0%);fill-opacity:1;\">\n",
       "  <use xlink:href=\"#glyph0-5\" x=\"102.5\" y=\"43.300781\"/>\n",
       "  <use xlink:href=\"#glyph0-2\" x=\"109.25\" y=\"43.300781\"/>\n",
       "  <use xlink:href=\"#glyph0-1\" x=\"113\" y=\"43.300781\"/>\n",
       "</g>\n",
       "<path style=\"fill:none;stroke-width:1;stroke-linecap:butt;stroke-linejoin:miter;stroke:rgb(74.901961%,74.901961%,74.901961%);stroke-opacity:1;stroke-miterlimit:10;\" d=\"M 119.296875 -460.398438 C 134.152344 -453.378906 161.164062 -440.617188 179.703125 -431.855469 \" transform=\"matrix(1,0,0,1,4,506)\"/>\n",
       "<path style=\"fill-rule:nonzero;fill:rgb(74.901961%,74.901961%,74.901961%);fill-opacity:1;stroke-width:1;stroke-linecap:butt;stroke-linejoin:miter;stroke:rgb(74.901961%,74.901961%,74.901961%);stroke-opacity:1;stroke-miterlimit:10;\" d=\"M 181.453125 -434.898438 L 189 -427.460938 L 178.460938 -428.570312 Z M 181.453125 -434.898438 \" transform=\"matrix(1,0,0,1,4,506)\"/>\n",
       "<g style=\"fill:rgb(0%,0%,0%);fill-opacity:1;\">\n",
       "  <use xlink:href=\"#glyph1-12\" x=\"142\" y=\"52.699219\"/>\n",
       "  <use xlink:href=\"#glyph1-6\" x=\"148\" y=\"52.699219\"/>\n",
       "  <use xlink:href=\"#glyph1-7\" x=\"151\" y=\"52.699219\"/>\n",
       "  <use xlink:href=\"#glyph1-8\" x=\"157\" y=\"52.699219\"/>\n",
       "  <use xlink:href=\"#glyph1-9\" x=\"160\" y=\"52.699219\"/>\n",
       "  <use xlink:href=\"#glyph1-13\" x=\"163.75\" y=\"52.699219\"/>\n",
       "  <use xlink:href=\"#glyph1-10\" x=\"169.75\" y=\"52.699219\"/>\n",
       "</g>\n",
       "<path style=\"fill-rule:nonzero;fill:rgb(99.215686%,90.588235%,14.509804%);fill-opacity:1;stroke-width:4;stroke-linecap:butt;stroke-linejoin:miter;stroke:rgb(90.196078%,81.176471%,0.784314%);stroke-opacity:1;stroke-miterlimit:10;\" d=\"M 120 -422.5 C 120 -415.597656 114.402344 -410 107.5 -410 C 100.597656 -410 95 -415.597656 95 -422.5 C 95 -429.402344 100.597656 -435 107.5 -435 C 114.402344 -435 120 -429.402344 120 -422.5 \" transform=\"matrix(1,0,0,1,4,506)\"/>\n",
       "<g style=\"fill:rgb(0%,0%,0%);fill-opacity:1;\">\n",
       "  <use xlink:href=\"#glyph0-5\" x=\"102.5\" y=\"86.300781\"/>\n",
       "  <use xlink:href=\"#glyph0-2\" x=\"109.25\" y=\"86.300781\"/>\n",
       "  <use xlink:href=\"#glyph0-3\" x=\"113\" y=\"86.300781\"/>\n",
       "</g>\n",
       "<path style=\"fill:none;stroke-width:1;stroke-linecap:butt;stroke-linejoin:miter;stroke:rgb(74.901961%,74.901961%,74.901961%);stroke-opacity:1;stroke-miterlimit:10;\" d=\"M 120.023438 -422.5 C 134.441406 -422.5 159.429688 -422.5 177.546875 -422.5 \" transform=\"matrix(1,0,0,1,4,506)\"/>\n",
       "<path style=\"fill-rule:nonzero;fill:rgb(74.901961%,74.901961%,74.901961%);fill-opacity:1;stroke-width:1;stroke-linecap:butt;stroke-linejoin:miter;stroke:rgb(74.901961%,74.901961%,74.901961%);stroke-opacity:1;stroke-miterlimit:10;\" d=\"M 177.78125 -426 L 187.78125 -422.5 L 177.78125 -419 Z M 177.78125 -426 \" transform=\"matrix(1,0,0,1,4,506)\"/>\n",
       "<g style=\"fill:rgb(0%,0%,0%);fill-opacity:1;\">\n",
       "  <use xlink:href=\"#glyph1-12\" x=\"142\" y=\"80.699219\"/>\n",
       "  <use xlink:href=\"#glyph1-6\" x=\"148\" y=\"80.699219\"/>\n",
       "  <use xlink:href=\"#glyph1-5\" x=\"151\" y=\"80.699219\"/>\n",
       "  <use xlink:href=\"#glyph1-8\" x=\"157\" y=\"80.699219\"/>\n",
       "  <use xlink:href=\"#glyph1-9\" x=\"160\" y=\"80.699219\"/>\n",
       "  <use xlink:href=\"#glyph1-13\" x=\"163.75\" y=\"80.699219\"/>\n",
       "  <use xlink:href=\"#glyph1-10\" x=\"169.75\" y=\"80.699219\"/>\n",
       "</g>\n",
       "<path style=\"fill-rule:nonzero;fill:rgb(99.215686%,90.588235%,14.509804%);fill-opacity:1;stroke-width:4;stroke-linecap:butt;stroke-linejoin:miter;stroke:rgb(90.196078%,81.176471%,0.784314%);stroke-opacity:1;stroke-miterlimit:10;\" d=\"M 120 -343.5 C 120 -336.597656 114.402344 -331 107.5 -331 C 100.597656 -331 95 -336.597656 95 -343.5 C 95 -350.402344 100.597656 -356 107.5 -356 C 114.402344 -356 120 -350.402344 120 -343.5 \" transform=\"matrix(1,0,0,1,4,506)\"/>\n",
       "<g style=\"fill:rgb(0%,0%,0%);fill-opacity:1;\">\n",
       "  <use xlink:href=\"#glyph0-5\" x=\"102.5\" y=\"165.300781\"/>\n",
       "  <use xlink:href=\"#glyph0-2\" x=\"109.25\" y=\"165.300781\"/>\n",
       "  <use xlink:href=\"#glyph0-4\" x=\"113\" y=\"165.300781\"/>\n",
       "</g>\n",
       "<path style=\"fill:none;stroke-width:1;stroke-linecap:butt;stroke-linejoin:miter;stroke:rgb(74.901961%,74.901961%,74.901961%);stroke-opacity:1;stroke-miterlimit:10;\" d=\"M 120.023438 -343.5 C 134.441406 -343.5 159.429688 -343.5 177.546875 -343.5 \" transform=\"matrix(1,0,0,1,4,506)\"/>\n",
       "<path style=\"fill-rule:nonzero;fill:rgb(74.901961%,74.901961%,74.901961%);fill-opacity:1;stroke-width:1;stroke-linecap:butt;stroke-linejoin:miter;stroke:rgb(74.901961%,74.901961%,74.901961%);stroke-opacity:1;stroke-miterlimit:10;\" d=\"M 177.78125 -347 L 187.78125 -343.5 L 177.78125 -340 Z M 177.78125 -347 \" transform=\"matrix(1,0,0,1,4,506)\"/>\n",
       "<g style=\"fill:rgb(0%,0%,0%);fill-opacity:1;\">\n",
       "  <use xlink:href=\"#glyph1-12\" x=\"142\" y=\"159.699219\"/>\n",
       "  <use xlink:href=\"#glyph1-6\" x=\"148\" y=\"159.699219\"/>\n",
       "  <use xlink:href=\"#glyph1-11\" x=\"151\" y=\"159.699219\"/>\n",
       "  <use xlink:href=\"#glyph1-8\" x=\"157\" y=\"159.699219\"/>\n",
       "  <use xlink:href=\"#glyph1-9\" x=\"160\" y=\"159.699219\"/>\n",
       "  <use xlink:href=\"#glyph1-13\" x=\"163.75\" y=\"159.699219\"/>\n",
       "  <use xlink:href=\"#glyph1-10\" x=\"169.75\" y=\"159.699219\"/>\n",
       "</g>\n",
       "<path style=\"fill-rule:nonzero;fill:rgb(99.215686%,90.588235%,14.509804%);fill-opacity:1;stroke-width:4;stroke-linecap:butt;stroke-linejoin:miter;stroke:rgb(90.196078%,81.176471%,0.784314%);stroke-opacity:1;stroke-miterlimit:10;\" d=\"M 120 -300.5 C 120 -293.597656 114.402344 -288 107.5 -288 C 100.597656 -288 95 -293.597656 95 -300.5 C 95 -307.402344 100.597656 -313 107.5 -313 C 114.402344 -313 120 -307.402344 120 -300.5 \" transform=\"matrix(1,0,0,1,4,506)\"/>\n",
       "<g style=\"fill:rgb(0%,0%,0%);fill-opacity:1;\">\n",
       "  <use xlink:href=\"#glyph0-5\" x=\"102.5\" y=\"208.300781\"/>\n",
       "  <use xlink:href=\"#glyph0-2\" x=\"109.25\" y=\"208.300781\"/>\n",
       "  <use xlink:href=\"#glyph0-5\" x=\"113\" y=\"208.300781\"/>\n",
       "</g>\n",
       "<path style=\"fill:none;stroke-width:1;stroke-linecap:butt;stroke-linejoin:miter;stroke:rgb(74.901961%,74.901961%,74.901961%);stroke-opacity:1;stroke-miterlimit:10;\" d=\"M 119.296875 -305.601562 C 134.152344 -312.621094 161.164062 -325.382812 179.703125 -334.144531 \" transform=\"matrix(1,0,0,1,4,506)\"/>\n",
       "<path style=\"fill-rule:nonzero;fill:rgb(74.901961%,74.901961%,74.901961%);fill-opacity:1;stroke-width:1;stroke-linecap:butt;stroke-linejoin:miter;stroke:rgb(74.901961%,74.901961%,74.901961%);stroke-opacity:1;stroke-miterlimit:10;\" d=\"M 178.460938 -337.429688 L 189 -338.539062 L 181.453125 -331.101562 Z M 178.460938 -337.429688 \" transform=\"matrix(1,0,0,1,4,506)\"/>\n",
       "<g style=\"fill:rgb(0%,0%,0%);fill-opacity:1;\">\n",
       "  <use xlink:href=\"#glyph1-12\" x=\"142\" y=\"173.699219\"/>\n",
       "  <use xlink:href=\"#glyph1-6\" x=\"148\" y=\"173.699219\"/>\n",
       "  <use xlink:href=\"#glyph1-12\" x=\"151\" y=\"173.699219\"/>\n",
       "  <use xlink:href=\"#glyph1-8\" x=\"157\" y=\"173.699219\"/>\n",
       "  <use xlink:href=\"#glyph1-9\" x=\"160\" y=\"173.699219\"/>\n",
       "  <use xlink:href=\"#glyph1-13\" x=\"163.75\" y=\"173.699219\"/>\n",
       "  <use xlink:href=\"#glyph1-10\" x=\"169.75\" y=\"173.699219\"/>\n",
       "</g>\n",
       "<path style=\"fill-rule:nonzero;fill:rgb(99.215686%,90.588235%,14.509804%);fill-opacity:1;stroke-width:4;stroke-linecap:butt;stroke-linejoin:miter;stroke:rgb(90.196078%,81.176471%,0.784314%);stroke-opacity:1;stroke-miterlimit:10;\" d=\"M 120 -201.5 C 120 -194.597656 114.402344 -189 107.5 -189 C 100.597656 -189 95 -194.597656 95 -201.5 C 95 -208.402344 100.597656 -214 107.5 -214 C 114.402344 -214 120 -208.402344 120 -201.5 \" transform=\"matrix(1,0,0,1,4,506)\"/>\n",
       "<g style=\"fill:rgb(0%,0%,0%);fill-opacity:1;\">\n",
       "  <use xlink:href=\"#glyph0-5\" x=\"102.5\" y=\"307.300781\"/>\n",
       "  <use xlink:href=\"#glyph0-2\" x=\"109.25\" y=\"307.300781\"/>\n",
       "  <use xlink:href=\"#glyph0-6\" x=\"113\" y=\"307.300781\"/>\n",
       "</g>\n",
       "<path style=\"fill:none;stroke-width:1;stroke-linecap:butt;stroke-linejoin:miter;stroke:rgb(74.901961%,74.901961%,74.901961%);stroke-opacity:1;stroke-miterlimit:10;\" d=\"M 119.296875 -196.398438 C 134.152344 -189.378906 161.164062 -176.617188 179.703125 -167.855469 \" transform=\"matrix(1,0,0,1,4,506)\"/>\n",
       "<path style=\"fill-rule:nonzero;fill:rgb(74.901961%,74.901961%,74.901961%);fill-opacity:1;stroke-width:1;stroke-linecap:butt;stroke-linejoin:miter;stroke:rgb(74.901961%,74.901961%,74.901961%);stroke-opacity:1;stroke-miterlimit:10;\" d=\"M 181.453125 -170.898438 L 189 -163.460938 L 178.460938 -164.570312 Z M 181.453125 -170.898438 \" transform=\"matrix(1,0,0,1,4,506)\"/>\n",
       "<g style=\"fill:rgb(0%,0%,0%);fill-opacity:1;\">\n",
       "  <use xlink:href=\"#glyph1-12\" x=\"142\" y=\"316.699219\"/>\n",
       "  <use xlink:href=\"#glyph1-6\" x=\"148\" y=\"316.699219\"/>\n",
       "  <use xlink:href=\"#glyph1-13\" x=\"151\" y=\"316.699219\"/>\n",
       "  <use xlink:href=\"#glyph1-8\" x=\"157\" y=\"316.699219\"/>\n",
       "  <use xlink:href=\"#glyph1-9\" x=\"160\" y=\"316.699219\"/>\n",
       "  <use xlink:href=\"#glyph1-13\" x=\"163.75\" y=\"316.699219\"/>\n",
       "  <use xlink:href=\"#glyph1-10\" x=\"169.75\" y=\"316.699219\"/>\n",
       "</g>\n",
       "<path style=\"fill-rule:nonzero;fill:rgb(99.215686%,90.588235%,14.509804%);fill-opacity:1;stroke-width:4;stroke-linecap:butt;stroke-linejoin:miter;stroke:rgb(90.196078%,81.176471%,0.784314%);stroke-opacity:1;stroke-miterlimit:10;\" d=\"M 120 -158.5 C 120 -151.597656 114.402344 -146 107.5 -146 C 100.597656 -146 95 -151.597656 95 -158.5 C 95 -165.402344 100.597656 -171 107.5 -171 C 114.402344 -171 120 -165.402344 120 -158.5 \" transform=\"matrix(1,0,0,1,4,506)\"/>\n",
       "<g style=\"fill:rgb(0%,0%,0%);fill-opacity:1;\">\n",
       "  <use xlink:href=\"#glyph0-5\" x=\"102.5\" y=\"350.300781\"/>\n",
       "  <use xlink:href=\"#glyph0-2\" x=\"109.25\" y=\"350.300781\"/>\n",
       "  <use xlink:href=\"#glyph0-7\" x=\"113\" y=\"350.300781\"/>\n",
       "</g>\n",
       "<path style=\"fill:none;stroke-width:1;stroke-linecap:butt;stroke-linejoin:miter;stroke:rgb(74.901961%,74.901961%,74.901961%);stroke-opacity:1;stroke-miterlimit:10;\" d=\"M 120.023438 -158.5 C 134.441406 -158.5 159.429688 -158.5 177.546875 -158.5 \" transform=\"matrix(1,0,0,1,4,506)\"/>\n",
       "<path style=\"fill-rule:nonzero;fill:rgb(74.901961%,74.901961%,74.901961%);fill-opacity:1;stroke-width:1;stroke-linecap:butt;stroke-linejoin:miter;stroke:rgb(74.901961%,74.901961%,74.901961%);stroke-opacity:1;stroke-miterlimit:10;\" d=\"M 177.78125 -162 L 187.78125 -158.5 L 177.78125 -155 Z M 177.78125 -162 \" transform=\"matrix(1,0,0,1,4,506)\"/>\n",
       "<g style=\"fill:rgb(0%,0%,0%);fill-opacity:1;\">\n",
       "  <use xlink:href=\"#glyph1-12\" x=\"142\" y=\"344.699219\"/>\n",
       "  <use xlink:href=\"#glyph1-6\" x=\"148\" y=\"344.699219\"/>\n",
       "  <use xlink:href=\"#glyph1-14\" x=\"151\" y=\"344.699219\"/>\n",
       "  <use xlink:href=\"#glyph1-8\" x=\"157\" y=\"344.699219\"/>\n",
       "  <use xlink:href=\"#glyph1-9\" x=\"160\" y=\"344.699219\"/>\n",
       "  <use xlink:href=\"#glyph1-13\" x=\"163.75\" y=\"344.699219\"/>\n",
       "  <use xlink:href=\"#glyph1-10\" x=\"169.75\" y=\"344.699219\"/>\n",
       "</g>\n",
       "<path style=\"fill-rule:nonzero;fill:rgb(99.215686%,90.588235%,14.509804%);fill-opacity:1;stroke-width:4;stroke-linecap:butt;stroke-linejoin:miter;stroke:rgb(90.196078%,81.176471%,0.784314%);stroke-opacity:1;stroke-miterlimit:10;\" d=\"M 120 -79.5 C 120 -72.597656 114.402344 -67 107.5 -67 C 100.597656 -67 95 -72.597656 95 -79.5 C 95 -86.402344 100.597656 -92 107.5 -92 C 114.402344 -92 120 -86.402344 120 -79.5 \" transform=\"matrix(1,0,0,1,4,506)\"/>\n",
       "<g style=\"fill:rgb(0%,0%,0%);fill-opacity:1;\">\n",
       "  <use xlink:href=\"#glyph0-5\" x=\"102.5\" y=\"429.300781\"/>\n",
       "  <use xlink:href=\"#glyph0-2\" x=\"109.25\" y=\"429.300781\"/>\n",
       "  <use xlink:href=\"#glyph0-8\" x=\"113\" y=\"429.300781\"/>\n",
       "</g>\n",
       "<path style=\"fill:none;stroke-width:1;stroke-linecap:butt;stroke-linejoin:miter;stroke:rgb(74.901961%,74.901961%,74.901961%);stroke-opacity:1;stroke-miterlimit:10;\" d=\"M 120.023438 -79.5 C 134.441406 -79.5 159.429688 -79.5 177.546875 -79.5 \" transform=\"matrix(1,0,0,1,4,506)\"/>\n",
       "<path style=\"fill-rule:nonzero;fill:rgb(74.901961%,74.901961%,74.901961%);fill-opacity:1;stroke-width:1;stroke-linecap:butt;stroke-linejoin:miter;stroke:rgb(74.901961%,74.901961%,74.901961%);stroke-opacity:1;stroke-miterlimit:10;\" d=\"M 177.78125 -83 L 187.78125 -79.5 L 177.78125 -76 Z M 177.78125 -83 \" transform=\"matrix(1,0,0,1,4,506)\"/>\n",
       "<g style=\"fill:rgb(0%,0%,0%);fill-opacity:1;\">\n",
       "  <use xlink:href=\"#glyph1-12\" x=\"142\" y=\"423.699219\"/>\n",
       "  <use xlink:href=\"#glyph1-6\" x=\"148\" y=\"423.699219\"/>\n",
       "  <use xlink:href=\"#glyph1-15\" x=\"151\" y=\"423.699219\"/>\n",
       "  <use xlink:href=\"#glyph1-8\" x=\"157\" y=\"423.699219\"/>\n",
       "  <use xlink:href=\"#glyph1-9\" x=\"160\" y=\"423.699219\"/>\n",
       "  <use xlink:href=\"#glyph1-13\" x=\"163.75\" y=\"423.699219\"/>\n",
       "  <use xlink:href=\"#glyph1-10\" x=\"169.75\" y=\"423.699219\"/>\n",
       "</g>\n",
       "<path style=\"fill-rule:nonzero;fill:rgb(99.215686%,90.588235%,14.509804%);fill-opacity:1;stroke-width:4;stroke-linecap:butt;stroke-linejoin:miter;stroke:rgb(90.196078%,81.176471%,0.784314%);stroke-opacity:1;stroke-miterlimit:10;\" d=\"M 120 -36.5 C 120 -29.597656 114.402344 -24 107.5 -24 C 100.597656 -24 95 -29.597656 95 -36.5 C 95 -43.402344 100.597656 -49 107.5 -49 C 114.402344 -49 120 -43.402344 120 -36.5 \" transform=\"matrix(1,0,0,1,4,506)\"/>\n",
       "<g style=\"fill:rgb(0%,0%,0%);fill-opacity:1;\">\n",
       "  <use xlink:href=\"#glyph0-5\" x=\"102.5\" y=\"472.300781\"/>\n",
       "  <use xlink:href=\"#glyph0-2\" x=\"109.25\" y=\"472.300781\"/>\n",
       "  <use xlink:href=\"#glyph0-9\" x=\"113\" y=\"472.300781\"/>\n",
       "</g>\n",
       "<path style=\"fill:none;stroke-width:1;stroke-linecap:butt;stroke-linejoin:miter;stroke:rgb(74.901961%,74.901961%,74.901961%);stroke-opacity:1;stroke-miterlimit:10;\" d=\"M 119.296875 -41.601562 C 134.152344 -48.621094 161.164062 -61.382812 179.703125 -70.144531 \" transform=\"matrix(1,0,0,1,4,506)\"/>\n",
       "<path style=\"fill-rule:nonzero;fill:rgb(74.901961%,74.901961%,74.901961%);fill-opacity:1;stroke-width:1;stroke-linecap:butt;stroke-linejoin:miter;stroke:rgb(74.901961%,74.901961%,74.901961%);stroke-opacity:1;stroke-miterlimit:10;\" d=\"M 178.460938 -73.429688 L 189 -74.539062 L 181.453125 -67.101562 Z M 178.460938 -73.429688 \" transform=\"matrix(1,0,0,1,4,506)\"/>\n",
       "<g style=\"fill:rgb(0%,0%,0%);fill-opacity:1;\">\n",
       "  <use xlink:href=\"#glyph1-12\" x=\"142\" y=\"437.699219\"/>\n",
       "  <use xlink:href=\"#glyph1-6\" x=\"148\" y=\"437.699219\"/>\n",
       "  <use xlink:href=\"#glyph1-16\" x=\"151\" y=\"437.699219\"/>\n",
       "  <use xlink:href=\"#glyph1-8\" x=\"157\" y=\"437.699219\"/>\n",
       "  <use xlink:href=\"#glyph1-9\" x=\"160\" y=\"437.699219\"/>\n",
       "  <use xlink:href=\"#glyph1-13\" x=\"163.75\" y=\"437.699219\"/>\n",
       "  <use xlink:href=\"#glyph1-10\" x=\"169.75\" y=\"437.699219\"/>\n",
       "</g>\n",
       "<path style=\"fill:none;stroke-width:1;stroke-linecap:butt;stroke-linejoin:miter;stroke:rgb(74.901961%,74.901961%,74.901961%);stroke-opacity:1;stroke-miterlimit:10;\" d=\"M 7.019531 -497.683594 C 17.699219 -494.230469 59.828125 -480.597656 85.714844 -472.222656 \" transform=\"matrix(1,0,0,1,4,506)\"/>\n",
       "<path style=\"fill-rule:nonzero;fill:rgb(74.901961%,74.901961%,74.901961%);fill-opacity:1;stroke-width:1;stroke-linecap:butt;stroke-linejoin:miter;stroke:rgb(74.901961%,74.901961%,74.901961%);stroke-opacity:1;stroke-miterlimit:10;\" d=\"M 86.929688 -475.511719 L 95.367188 -469.101562 L 84.773438 -468.851562 Z M 86.929688 -475.511719 \" transform=\"matrix(1,0,0,1,4,506)\"/>\n",
       "<g style=\"fill:rgb(0%,0%,0%);fill-opacity:1;\">\n",
       "  <use xlink:href=\"#glyph1-17\" x=\"32\" y=\"11.699219\"/>\n",
       "  <use xlink:href=\"#glyph1-2\" x=\"38\" y=\"11.699219\"/>\n",
       "  <use xlink:href=\"#glyph1-18\" x=\"43.25\" y=\"11.699219\"/>\n",
       "  <use xlink:href=\"#glyph1-2\" x=\"47\" y=\"11.699219\"/>\n",
       "  <use xlink:href=\"#glyph1-6\" x=\"52.25\" y=\"11.699219\"/>\n",
       "  <use xlink:href=\"#glyph1-7\" x=\"55.25\" y=\"11.699219\"/>\n",
       "  <use xlink:href=\"#glyph1-8\" x=\"61.25\" y=\"11.699219\"/>\n",
       "  <use xlink:href=\"#glyph1-9\" x=\"64.25\" y=\"11.699219\"/>\n",
       "  <use xlink:href=\"#glyph1-11\" x=\"68\" y=\"11.699219\"/>\n",
       "  <use xlink:href=\"#glyph1-10\" x=\"74\" y=\"11.699219\"/>\n",
       "</g>\n",
       "<path style=\"fill:none;stroke-width:1;stroke-linecap:butt;stroke-linejoin:miter;stroke:rgb(74.901961%,74.901961%,74.901961%);stroke-opacity:1;stroke-miterlimit:10;\" d=\"M 7.019531 -465.5 C 17.542969 -465.5 58.613281 -465.5 84.578125 -465.5 \" transform=\"matrix(1,0,0,1,4,506)\"/>\n",
       "<path style=\"fill-rule:nonzero;fill:rgb(74.901961%,74.901961%,74.901961%);fill-opacity:1;stroke-width:1;stroke-linecap:butt;stroke-linejoin:miter;stroke:rgb(74.901961%,74.901961%,74.901961%);stroke-opacity:1;stroke-miterlimit:10;\" d=\"M 84.648438 -469 L 94.648438 -465.5 L 84.648438 -462 Z M 84.648438 -469 \" transform=\"matrix(1,0,0,1,4,506)\"/>\n",
       "<g style=\"fill:rgb(0%,0%,0%);fill-opacity:1;\">\n",
       "  <use xlink:href=\"#glyph1-17\" x=\"32\" y=\"37.699219\"/>\n",
       "  <use xlink:href=\"#glyph1-2\" x=\"38\" y=\"37.699219\"/>\n",
       "  <use xlink:href=\"#glyph1-18\" x=\"43.25\" y=\"37.699219\"/>\n",
       "  <use xlink:href=\"#glyph1-2\" x=\"47\" y=\"37.699219\"/>\n",
       "  <use xlink:href=\"#glyph1-6\" x=\"52.25\" y=\"37.699219\"/>\n",
       "  <use xlink:href=\"#glyph1-5\" x=\"55.25\" y=\"37.699219\"/>\n",
       "  <use xlink:href=\"#glyph1-8\" x=\"61.25\" y=\"37.699219\"/>\n",
       "  <use xlink:href=\"#glyph1-9\" x=\"64.25\" y=\"37.699219\"/>\n",
       "  <use xlink:href=\"#glyph1-11\" x=\"68\" y=\"37.699219\"/>\n",
       "  <use xlink:href=\"#glyph1-10\" x=\"74\" y=\"37.699219\"/>\n",
       "</g>\n",
       "<path style=\"fill:none;stroke-width:1;stroke-linecap:butt;stroke-linejoin:miter;stroke:rgb(74.901961%,74.901961%,74.901961%);stroke-opacity:1;stroke-miterlimit:10;\" d=\"M 7.019531 -432.253906 C 17.597656 -431.214844 59.035156 -427.152344 84.976562 -424.609375 \" transform=\"matrix(1,0,0,1,4,506)\"/>\n",
       "<path style=\"fill-rule:nonzero;fill:rgb(74.901961%,74.901961%,74.901961%);fill-opacity:1;stroke-width:1;stroke-linecap:butt;stroke-linejoin:miter;stroke:rgb(74.901961%,74.901961%,74.901961%);stroke-opacity:1;stroke-miterlimit:10;\" d=\"M 85.398438 -428.085938 L 95.011719 -423.625 L 84.714844 -421.117188 Z M 85.398438 -428.085938 \" transform=\"matrix(1,0,0,1,4,506)\"/>\n",
       "<g style=\"fill:rgb(0%,0%,0%);fill-opacity:1;\">\n",
       "  <use xlink:href=\"#glyph1-17\" x=\"32\" y=\"73.699219\"/>\n",
       "  <use xlink:href=\"#glyph1-2\" x=\"38\" y=\"73.699219\"/>\n",
       "  <use xlink:href=\"#glyph1-18\" x=\"43.25\" y=\"73.699219\"/>\n",
       "  <use xlink:href=\"#glyph1-2\" x=\"47\" y=\"73.699219\"/>\n",
       "  <use xlink:href=\"#glyph1-6\" x=\"52.25\" y=\"73.699219\"/>\n",
       "  <use xlink:href=\"#glyph1-11\" x=\"55.25\" y=\"73.699219\"/>\n",
       "  <use xlink:href=\"#glyph1-8\" x=\"61.25\" y=\"73.699219\"/>\n",
       "  <use xlink:href=\"#glyph1-9\" x=\"64.25\" y=\"73.699219\"/>\n",
       "  <use xlink:href=\"#glyph1-11\" x=\"68\" y=\"73.699219\"/>\n",
       "  <use xlink:href=\"#glyph1-10\" x=\"74\" y=\"73.699219\"/>\n",
       "</g>\n",
       "<path style=\"fill:none;stroke-width:1;stroke-linecap:butt;stroke-linejoin:miter;stroke:rgb(74.901961%,74.901961%,74.901961%);stroke-opacity:1;stroke-miterlimit:10;\" d=\"M 7.019531 -400.070312 C 17.597656 -402.453125 59.035156 -411.796875 84.976562 -417.644531 \" transform=\"matrix(1,0,0,1,4,506)\"/>\n",
       "<path style=\"fill-rule:nonzero;fill:rgb(74.901961%,74.901961%,74.901961%);fill-opacity:1;stroke-width:1;stroke-linecap:butt;stroke-linejoin:miter;stroke:rgb(74.901961%,74.901961%,74.901961%);stroke-opacity:1;stroke-miterlimit:10;\" d=\"M 84.484375 -421.125 L 95.011719 -419.910156 L 86.023438 -414.296875 Z M 84.484375 -421.125 \" transform=\"matrix(1,0,0,1,4,506)\"/>\n",
       "<g style=\"fill:rgb(0%,0%,0%);fill-opacity:1;\">\n",
       "  <use xlink:href=\"#glyph1-17\" x=\"32\" y=\"92.699219\"/>\n",
       "  <use xlink:href=\"#glyph1-2\" x=\"38\" y=\"92.699219\"/>\n",
       "  <use xlink:href=\"#glyph1-18\" x=\"43.25\" y=\"92.699219\"/>\n",
       "  <use xlink:href=\"#glyph1-2\" x=\"47\" y=\"92.699219\"/>\n",
       "  <use xlink:href=\"#glyph1-6\" x=\"52.25\" y=\"92.699219\"/>\n",
       "  <use xlink:href=\"#glyph1-12\" x=\"55.25\" y=\"92.699219\"/>\n",
       "  <use xlink:href=\"#glyph1-8\" x=\"61.25\" y=\"92.699219\"/>\n",
       "  <use xlink:href=\"#glyph1-9\" x=\"64.25\" y=\"92.699219\"/>\n",
       "  <use xlink:href=\"#glyph1-11\" x=\"68\" y=\"92.699219\"/>\n",
       "  <use xlink:href=\"#glyph1-10\" x=\"74\" y=\"92.699219\"/>\n",
       "</g>\n",
       "<path style=\"fill:none;stroke-width:1;stroke-linecap:butt;stroke-linejoin:miter;stroke:rgb(74.901961%,74.901961%,74.901961%);stroke-opacity:1;stroke-miterlimit:10;\" d=\"M 7.019531 -365.929688 C 17.597656 -363.546875 59.035156 -354.203125 84.976562 -348.355469 \" transform=\"matrix(1,0,0,1,4,506)\"/>\n",
       "<path style=\"fill-rule:nonzero;fill:rgb(74.901961%,74.901961%,74.901961%);fill-opacity:1;stroke-width:1;stroke-linecap:butt;stroke-linejoin:miter;stroke:rgb(74.901961%,74.901961%,74.901961%);stroke-opacity:1;stroke-miterlimit:10;\" d=\"M 86.023438 -351.703125 L 95.011719 -346.089844 L 84.484375 -344.875 Z M 86.023438 -351.703125 \" transform=\"matrix(1,0,0,1,4,506)\"/>\n",
       "<g style=\"fill:rgb(0%,0%,0%);fill-opacity:1;\">\n",
       "  <use xlink:href=\"#glyph1-17\" x=\"32\" y=\"141.699219\"/>\n",
       "  <use xlink:href=\"#glyph1-2\" x=\"38\" y=\"141.699219\"/>\n",
       "  <use xlink:href=\"#glyph1-18\" x=\"43.25\" y=\"141.699219\"/>\n",
       "  <use xlink:href=\"#glyph1-2\" x=\"47\" y=\"141.699219\"/>\n",
       "  <use xlink:href=\"#glyph1-6\" x=\"52.25\" y=\"141.699219\"/>\n",
       "  <use xlink:href=\"#glyph1-13\" x=\"55.25\" y=\"141.699219\"/>\n",
       "  <use xlink:href=\"#glyph1-8\" x=\"61.25\" y=\"141.699219\"/>\n",
       "  <use xlink:href=\"#glyph1-9\" x=\"64.25\" y=\"141.699219\"/>\n",
       "  <use xlink:href=\"#glyph1-11\" x=\"68\" y=\"141.699219\"/>\n",
       "  <use xlink:href=\"#glyph1-10\" x=\"74\" y=\"141.699219\"/>\n",
       "</g>\n",
       "<path style=\"fill:none;stroke-width:1;stroke-linecap:butt;stroke-linejoin:miter;stroke:rgb(74.901961%,74.901961%,74.901961%);stroke-opacity:1;stroke-miterlimit:10;\" d=\"M 7.019531 -333.746094 C 17.597656 -334.785156 59.035156 -338.847656 84.976562 -341.390625 \" transform=\"matrix(1,0,0,1,4,506)\"/>\n",
       "<path style=\"fill-rule:nonzero;fill:rgb(74.901961%,74.901961%,74.901961%);fill-opacity:1;stroke-width:1;stroke-linecap:butt;stroke-linejoin:miter;stroke:rgb(74.901961%,74.901961%,74.901961%);stroke-opacity:1;stroke-miterlimit:10;\" d=\"M 84.714844 -344.882812 L 95.011719 -342.375 L 85.398438 -337.914062 Z M 84.714844 -344.882812 \" transform=\"matrix(1,0,0,1,4,506)\"/>\n",
       "<g style=\"fill:rgb(0%,0%,0%);fill-opacity:1;\">\n",
       "  <use xlink:href=\"#glyph1-17\" x=\"32\" y=\"168.699219\"/>\n",
       "  <use xlink:href=\"#glyph1-2\" x=\"38\" y=\"168.699219\"/>\n",
       "  <use xlink:href=\"#glyph1-18\" x=\"43.25\" y=\"168.699219\"/>\n",
       "  <use xlink:href=\"#glyph1-2\" x=\"47\" y=\"168.699219\"/>\n",
       "  <use xlink:href=\"#glyph1-6\" x=\"52.25\" y=\"168.699219\"/>\n",
       "  <use xlink:href=\"#glyph1-14\" x=\"55.25\" y=\"168.699219\"/>\n",
       "  <use xlink:href=\"#glyph1-8\" x=\"61.25\" y=\"168.699219\"/>\n",
       "  <use xlink:href=\"#glyph1-9\" x=\"64.25\" y=\"168.699219\"/>\n",
       "  <use xlink:href=\"#glyph1-11\" x=\"68\" y=\"168.699219\"/>\n",
       "  <use xlink:href=\"#glyph1-10\" x=\"74\" y=\"168.699219\"/>\n",
       "</g>\n",
       "<path style=\"fill:none;stroke-width:1;stroke-linecap:butt;stroke-linejoin:miter;stroke:rgb(74.901961%,74.901961%,74.901961%);stroke-opacity:1;stroke-miterlimit:10;\" d=\"M 7.019531 -300.5 C 17.542969 -300.5 58.613281 -300.5 84.578125 -300.5 \" transform=\"matrix(1,0,0,1,4,506)\"/>\n",
       "<path style=\"fill-rule:nonzero;fill:rgb(74.901961%,74.901961%,74.901961%);fill-opacity:1;stroke-width:1;stroke-linecap:butt;stroke-linejoin:miter;stroke:rgb(74.901961%,74.901961%,74.901961%);stroke-opacity:1;stroke-miterlimit:10;\" d=\"M 84.648438 -304 L 94.648438 -300.5 L 84.648438 -297 Z M 84.648438 -304 \" transform=\"matrix(1,0,0,1,4,506)\"/>\n",
       "<g style=\"fill:rgb(0%,0%,0%);fill-opacity:1;\">\n",
       "  <use xlink:href=\"#glyph1-17\" x=\"32\" y=\"202.699219\"/>\n",
       "  <use xlink:href=\"#glyph1-2\" x=\"38\" y=\"202.699219\"/>\n",
       "  <use xlink:href=\"#glyph1-18\" x=\"43.25\" y=\"202.699219\"/>\n",
       "  <use xlink:href=\"#glyph1-2\" x=\"47\" y=\"202.699219\"/>\n",
       "  <use xlink:href=\"#glyph1-6\" x=\"52.25\" y=\"202.699219\"/>\n",
       "  <use xlink:href=\"#glyph1-15\" x=\"55.25\" y=\"202.699219\"/>\n",
       "  <use xlink:href=\"#glyph1-8\" x=\"61.25\" y=\"202.699219\"/>\n",
       "  <use xlink:href=\"#glyph1-9\" x=\"64.25\" y=\"202.699219\"/>\n",
       "  <use xlink:href=\"#glyph1-11\" x=\"68\" y=\"202.699219\"/>\n",
       "  <use xlink:href=\"#glyph1-10\" x=\"74\" y=\"202.699219\"/>\n",
       "</g>\n",
       "<path style=\"fill:none;stroke-width:1;stroke-linecap:butt;stroke-linejoin:miter;stroke:rgb(74.901961%,74.901961%,74.901961%);stroke-opacity:1;stroke-miterlimit:10;\" d=\"M 7.019531 -268.316406 C 17.699219 -271.769531 59.828125 -285.402344 85.714844 -293.777344 \" transform=\"matrix(1,0,0,1,4,506)\"/>\n",
       "<path style=\"fill-rule:nonzero;fill:rgb(74.901961%,74.901961%,74.901961%);fill-opacity:1;stroke-width:1;stroke-linecap:butt;stroke-linejoin:miter;stroke:rgb(74.901961%,74.901961%,74.901961%);stroke-opacity:1;stroke-miterlimit:10;\" d=\"M 84.773438 -297.148438 L 95.367188 -296.898438 L 86.929688 -290.488281 Z M 84.773438 -297.148438 \" transform=\"matrix(1,0,0,1,4,506)\"/>\n",
       "<g style=\"fill:rgb(0%,0%,0%);fill-opacity:1;\">\n",
       "  <use xlink:href=\"#glyph1-17\" x=\"32\" y=\"216.699219\"/>\n",
       "  <use xlink:href=\"#glyph1-2\" x=\"38\" y=\"216.699219\"/>\n",
       "  <use xlink:href=\"#glyph1-18\" x=\"43.25\" y=\"216.699219\"/>\n",
       "  <use xlink:href=\"#glyph1-2\" x=\"47\" y=\"216.699219\"/>\n",
       "  <use xlink:href=\"#glyph1-6\" x=\"52.25\" y=\"216.699219\"/>\n",
       "  <use xlink:href=\"#glyph1-16\" x=\"55.25\" y=\"216.699219\"/>\n",
       "  <use xlink:href=\"#glyph1-8\" x=\"61.25\" y=\"216.699219\"/>\n",
       "  <use xlink:href=\"#glyph1-9\" x=\"64.25\" y=\"216.699219\"/>\n",
       "  <use xlink:href=\"#glyph1-11\" x=\"68\" y=\"216.699219\"/>\n",
       "  <use xlink:href=\"#glyph1-10\" x=\"74\" y=\"216.699219\"/>\n",
       "</g>\n",
       "<path style=\"fill:none;stroke-width:1;stroke-linecap:butt;stroke-linejoin:miter;stroke:rgb(74.901961%,74.901961%,74.901961%);stroke-opacity:1;stroke-miterlimit:10;\" d=\"M 7.019531 -233.683594 C 17.699219 -230.230469 59.828125 -216.597656 85.714844 -208.222656 \" transform=\"matrix(1,0,0,1,4,506)\"/>\n",
       "<path style=\"fill-rule:nonzero;fill:rgb(74.901961%,74.901961%,74.901961%);fill-opacity:1;stroke-width:1;stroke-linecap:butt;stroke-linejoin:miter;stroke:rgb(74.901961%,74.901961%,74.901961%);stroke-opacity:1;stroke-miterlimit:10;\" d=\"M 86.929688 -211.511719 L 95.367188 -205.101562 L 84.773438 -204.851562 Z M 86.929688 -211.511719 \" transform=\"matrix(1,0,0,1,4,506)\"/>\n",
       "<g style=\"fill:rgb(0%,0%,0%);fill-opacity:1;\">\n",
       "  <use xlink:href=\"#glyph1-17\" x=\"32\" y=\"275.699219\"/>\n",
       "  <use xlink:href=\"#glyph1-2\" x=\"38\" y=\"275.699219\"/>\n",
       "  <use xlink:href=\"#glyph1-18\" x=\"43.25\" y=\"275.699219\"/>\n",
       "  <use xlink:href=\"#glyph1-2\" x=\"47\" y=\"275.699219\"/>\n",
       "  <use xlink:href=\"#glyph1-6\" x=\"52.25\" y=\"275.699219\"/>\n",
       "  <use xlink:href=\"#glyph1-19\" x=\"55.25\" y=\"275.699219\"/>\n",
       "  <use xlink:href=\"#glyph1-8\" x=\"61.25\" y=\"275.699219\"/>\n",
       "  <use xlink:href=\"#glyph1-9\" x=\"64.25\" y=\"275.699219\"/>\n",
       "  <use xlink:href=\"#glyph1-11\" x=\"68\" y=\"275.699219\"/>\n",
       "  <use xlink:href=\"#glyph1-10\" x=\"74\" y=\"275.699219\"/>\n",
       "</g>\n",
       "<path style=\"fill:none;stroke-width:1;stroke-linecap:butt;stroke-linejoin:miter;stroke:rgb(74.901961%,74.901961%,74.901961%);stroke-opacity:1;stroke-miterlimit:10;\" d=\"M 7.019531 -201.5 C 17.542969 -201.5 58.613281 -201.5 84.578125 -201.5 \" transform=\"matrix(1,0,0,1,4,506)\"/>\n",
       "<path style=\"fill-rule:nonzero;fill:rgb(74.901961%,74.901961%,74.901961%);fill-opacity:1;stroke-width:1;stroke-linecap:butt;stroke-linejoin:miter;stroke:rgb(74.901961%,74.901961%,74.901961%);stroke-opacity:1;stroke-miterlimit:10;\" d=\"M 84.648438 -205 L 94.648438 -201.5 L 84.648438 -198 Z M 84.648438 -205 \" transform=\"matrix(1,0,0,1,4,506)\"/>\n",
       "<g style=\"fill:rgb(0%,0%,0%);fill-opacity:1;\">\n",
       "  <use xlink:href=\"#glyph1-17\" x=\"32\" y=\"301.699219\"/>\n",
       "  <use xlink:href=\"#glyph1-2\" x=\"38\" y=\"301.699219\"/>\n",
       "  <use xlink:href=\"#glyph1-18\" x=\"43.25\" y=\"301.699219\"/>\n",
       "  <use xlink:href=\"#glyph1-2\" x=\"47\" y=\"301.699219\"/>\n",
       "  <use xlink:href=\"#glyph1-6\" x=\"52.25\" y=\"301.699219\"/>\n",
       "  <use xlink:href=\"#glyph1-20\" x=\"55.25\" y=\"301.699219\"/>\n",
       "  <use xlink:href=\"#glyph1-8\" x=\"61.25\" y=\"301.699219\"/>\n",
       "  <use xlink:href=\"#glyph1-9\" x=\"64.25\" y=\"301.699219\"/>\n",
       "  <use xlink:href=\"#glyph1-11\" x=\"68\" y=\"301.699219\"/>\n",
       "  <use xlink:href=\"#glyph1-10\" x=\"74\" y=\"301.699219\"/>\n",
       "</g>\n",
       "<path style=\"fill:none;stroke-width:1;stroke-linecap:butt;stroke-linejoin:miter;stroke:rgb(74.901961%,74.901961%,74.901961%);stroke-opacity:1;stroke-miterlimit:10;\" d=\"M 7.019531 -168.253906 C 17.597656 -167.214844 59.035156 -163.152344 84.976562 -160.609375 \" transform=\"matrix(1,0,0,1,4,506)\"/>\n",
       "<path style=\"fill-rule:nonzero;fill:rgb(74.901961%,74.901961%,74.901961%);fill-opacity:1;stroke-width:1;stroke-linecap:butt;stroke-linejoin:miter;stroke:rgb(74.901961%,74.901961%,74.901961%);stroke-opacity:1;stroke-miterlimit:10;\" d=\"M 85.398438 -164.085938 L 95.011719 -159.625 L 84.714844 -157.117188 Z M 85.398438 -164.085938 \" transform=\"matrix(1,0,0,1,4,506)\"/>\n",
       "<g style=\"fill:rgb(0%,0%,0%);fill-opacity:1;\">\n",
       "  <use xlink:href=\"#glyph1-17\" x=\"29\" y=\"337.699219\"/>\n",
       "  <use xlink:href=\"#glyph1-2\" x=\"35\" y=\"337.699219\"/>\n",
       "  <use xlink:href=\"#glyph1-18\" x=\"40.25\" y=\"337.699219\"/>\n",
       "  <use xlink:href=\"#glyph1-2\" x=\"44\" y=\"337.699219\"/>\n",
       "  <use xlink:href=\"#glyph1-6\" x=\"49.25\" y=\"337.699219\"/>\n",
       "  <use xlink:href=\"#glyph1-5\" x=\"52.25\" y=\"337.699219\"/>\n",
       "  <use xlink:href=\"#glyph1-7\" x=\"58.25\" y=\"337.699219\"/>\n",
       "  <use xlink:href=\"#glyph1-8\" x=\"64.25\" y=\"337.699219\"/>\n",
       "  <use xlink:href=\"#glyph1-9\" x=\"67.25\" y=\"337.699219\"/>\n",
       "  <use xlink:href=\"#glyph1-11\" x=\"71\" y=\"337.699219\"/>\n",
       "  <use xlink:href=\"#glyph1-10\" x=\"77\" y=\"337.699219\"/>\n",
       "</g>\n",
       "<path style=\"fill:none;stroke-width:1;stroke-linecap:butt;stroke-linejoin:miter;stroke:rgb(74.901961%,74.901961%,74.901961%);stroke-opacity:1;stroke-miterlimit:10;\" d=\"M 7.019531 -136.070312 C 17.597656 -138.453125 59.035156 -147.796875 84.976562 -153.644531 \" transform=\"matrix(1,0,0,1,4,506)\"/>\n",
       "<path style=\"fill-rule:nonzero;fill:rgb(74.901961%,74.901961%,74.901961%);fill-opacity:1;stroke-width:1;stroke-linecap:butt;stroke-linejoin:miter;stroke:rgb(74.901961%,74.901961%,74.901961%);stroke-opacity:1;stroke-miterlimit:10;\" d=\"M 84.484375 -157.125 L 95.011719 -155.910156 L 86.023438 -150.296875 Z M 84.484375 -157.125 \" transform=\"matrix(1,0,0,1,4,506)\"/>\n",
       "<g style=\"fill:rgb(0%,0%,0%);fill-opacity:1;\">\n",
       "  <use xlink:href=\"#glyph1-17\" x=\"29\" y=\"356.699219\"/>\n",
       "  <use xlink:href=\"#glyph1-2\" x=\"35\" y=\"356.699219\"/>\n",
       "  <use xlink:href=\"#glyph1-18\" x=\"40.25\" y=\"356.699219\"/>\n",
       "  <use xlink:href=\"#glyph1-2\" x=\"44\" y=\"356.699219\"/>\n",
       "  <use xlink:href=\"#glyph1-6\" x=\"49.25\" y=\"356.699219\"/>\n",
       "  <use xlink:href=\"#glyph1-5\" x=\"52.25\" y=\"356.699219\"/>\n",
       "  <use xlink:href=\"#glyph1-5\" x=\"58.25\" y=\"356.699219\"/>\n",
       "  <use xlink:href=\"#glyph1-8\" x=\"64.25\" y=\"356.699219\"/>\n",
       "  <use xlink:href=\"#glyph1-9\" x=\"67.25\" y=\"356.699219\"/>\n",
       "  <use xlink:href=\"#glyph1-11\" x=\"71\" y=\"356.699219\"/>\n",
       "  <use xlink:href=\"#glyph1-10\" x=\"77\" y=\"356.699219\"/>\n",
       "</g>\n",
       "<path style=\"fill:none;stroke-width:1;stroke-linecap:butt;stroke-linejoin:miter;stroke:rgb(74.901961%,74.901961%,74.901961%);stroke-opacity:1;stroke-miterlimit:10;\" d=\"M 7.019531 -101.929688 C 17.597656 -99.546875 59.035156 -90.203125 84.976562 -84.355469 \" transform=\"matrix(1,0,0,1,4,506)\"/>\n",
       "<path style=\"fill-rule:nonzero;fill:rgb(74.901961%,74.901961%,74.901961%);fill-opacity:1;stroke-width:1;stroke-linecap:butt;stroke-linejoin:miter;stroke:rgb(74.901961%,74.901961%,74.901961%);stroke-opacity:1;stroke-miterlimit:10;\" d=\"M 86.023438 -87.703125 L 95.011719 -82.089844 L 84.484375 -80.875 Z M 86.023438 -87.703125 \" transform=\"matrix(1,0,0,1,4,506)\"/>\n",
       "<g style=\"fill:rgb(0%,0%,0%);fill-opacity:1;\">\n",
       "  <use xlink:href=\"#glyph1-17\" x=\"29\" y=\"405.699219\"/>\n",
       "  <use xlink:href=\"#glyph1-2\" x=\"35\" y=\"405.699219\"/>\n",
       "  <use xlink:href=\"#glyph1-18\" x=\"40.25\" y=\"405.699219\"/>\n",
       "  <use xlink:href=\"#glyph1-2\" x=\"44\" y=\"405.699219\"/>\n",
       "  <use xlink:href=\"#glyph1-6\" x=\"49.25\" y=\"405.699219\"/>\n",
       "  <use xlink:href=\"#glyph1-5\" x=\"52.25\" y=\"405.699219\"/>\n",
       "  <use xlink:href=\"#glyph1-11\" x=\"58.25\" y=\"405.699219\"/>\n",
       "  <use xlink:href=\"#glyph1-8\" x=\"64.25\" y=\"405.699219\"/>\n",
       "  <use xlink:href=\"#glyph1-9\" x=\"67.25\" y=\"405.699219\"/>\n",
       "  <use xlink:href=\"#glyph1-11\" x=\"71\" y=\"405.699219\"/>\n",
       "  <use xlink:href=\"#glyph1-10\" x=\"77\" y=\"405.699219\"/>\n",
       "</g>\n",
       "<path style=\"fill:none;stroke-width:1;stroke-linecap:butt;stroke-linejoin:miter;stroke:rgb(74.901961%,74.901961%,74.901961%);stroke-opacity:1;stroke-miterlimit:10;\" d=\"M 7.019531 -69.746094 C 17.597656 -70.785156 59.035156 -74.847656 84.976562 -77.390625 \" transform=\"matrix(1,0,0,1,4,506)\"/>\n",
       "<path style=\"fill-rule:nonzero;fill:rgb(74.901961%,74.901961%,74.901961%);fill-opacity:1;stroke-width:1;stroke-linecap:butt;stroke-linejoin:miter;stroke:rgb(74.901961%,74.901961%,74.901961%);stroke-opacity:1;stroke-miterlimit:10;\" d=\"M 84.714844 -80.882812 L 95.011719 -78.375 L 85.398438 -73.914062 Z M 84.714844 -80.882812 \" transform=\"matrix(1,0,0,1,4,506)\"/>\n",
       "<g style=\"fill:rgb(0%,0%,0%);fill-opacity:1;\">\n",
       "  <use xlink:href=\"#glyph1-17\" x=\"29\" y=\"432.699219\"/>\n",
       "  <use xlink:href=\"#glyph1-2\" x=\"35\" y=\"432.699219\"/>\n",
       "  <use xlink:href=\"#glyph1-18\" x=\"40.25\" y=\"432.699219\"/>\n",
       "  <use xlink:href=\"#glyph1-2\" x=\"44\" y=\"432.699219\"/>\n",
       "  <use xlink:href=\"#glyph1-6\" x=\"49.25\" y=\"432.699219\"/>\n",
       "  <use xlink:href=\"#glyph1-5\" x=\"52.25\" y=\"432.699219\"/>\n",
       "  <use xlink:href=\"#glyph1-12\" x=\"58.25\" y=\"432.699219\"/>\n",
       "  <use xlink:href=\"#glyph1-8\" x=\"64.25\" y=\"432.699219\"/>\n",
       "  <use xlink:href=\"#glyph1-9\" x=\"67.25\" y=\"432.699219\"/>\n",
       "  <use xlink:href=\"#glyph1-11\" x=\"71\" y=\"432.699219\"/>\n",
       "  <use xlink:href=\"#glyph1-10\" x=\"77\" y=\"432.699219\"/>\n",
       "</g>\n",
       "<path style=\"fill:none;stroke-width:1;stroke-linecap:butt;stroke-linejoin:miter;stroke:rgb(74.901961%,74.901961%,74.901961%);stroke-opacity:1;stroke-miterlimit:10;\" d=\"M 7.019531 -36.5 C 17.542969 -36.5 58.613281 -36.5 84.578125 -36.5 \" transform=\"matrix(1,0,0,1,4,506)\"/>\n",
       "<path style=\"fill-rule:nonzero;fill:rgb(74.901961%,74.901961%,74.901961%);fill-opacity:1;stroke-width:1;stroke-linecap:butt;stroke-linejoin:miter;stroke:rgb(74.901961%,74.901961%,74.901961%);stroke-opacity:1;stroke-miterlimit:10;\" d=\"M 84.648438 -40 L 94.648438 -36.5 L 84.648438 -33 Z M 84.648438 -40 \" transform=\"matrix(1,0,0,1,4,506)\"/>\n",
       "<g style=\"fill:rgb(0%,0%,0%);fill-opacity:1;\">\n",
       "  <use xlink:href=\"#glyph1-17\" x=\"29\" y=\"466.699219\"/>\n",
       "  <use xlink:href=\"#glyph1-2\" x=\"35\" y=\"466.699219\"/>\n",
       "  <use xlink:href=\"#glyph1-18\" x=\"40.25\" y=\"466.699219\"/>\n",
       "  <use xlink:href=\"#glyph1-2\" x=\"44\" y=\"466.699219\"/>\n",
       "  <use xlink:href=\"#glyph1-6\" x=\"49.25\" y=\"466.699219\"/>\n",
       "  <use xlink:href=\"#glyph1-5\" x=\"52.25\" y=\"466.699219\"/>\n",
       "  <use xlink:href=\"#glyph1-13\" x=\"58.25\" y=\"466.699219\"/>\n",
       "  <use xlink:href=\"#glyph1-8\" x=\"64.25\" y=\"466.699219\"/>\n",
       "  <use xlink:href=\"#glyph1-9\" x=\"67.25\" y=\"466.699219\"/>\n",
       "  <use xlink:href=\"#glyph1-11\" x=\"71\" y=\"466.699219\"/>\n",
       "  <use xlink:href=\"#glyph1-10\" x=\"77\" y=\"466.699219\"/>\n",
       "</g>\n",
       "<path style=\"fill:none;stroke-width:1;stroke-linecap:butt;stroke-linejoin:miter;stroke:rgb(74.901961%,74.901961%,74.901961%);stroke-opacity:1;stroke-miterlimit:10;\" d=\"M 7.019531 -4.316406 C 17.699219 -7.769531 59.828125 -21.402344 85.714844 -29.777344 \" transform=\"matrix(1,0,0,1,4,506)\"/>\n",
       "<path style=\"fill-rule:nonzero;fill:rgb(74.901961%,74.901961%,74.901961%);fill-opacity:1;stroke-width:1;stroke-linecap:butt;stroke-linejoin:miter;stroke:rgb(74.901961%,74.901961%,74.901961%);stroke-opacity:1;stroke-miterlimit:10;\" d=\"M 84.773438 -33.148438 L 95.367188 -32.898438 L 86.929688 -26.488281 Z M 84.773438 -33.148438 \" transform=\"matrix(1,0,0,1,4,506)\"/>\n",
       "<g style=\"fill:rgb(0%,0%,0%);fill-opacity:1;\">\n",
       "  <use xlink:href=\"#glyph1-17\" x=\"29\" y=\"480.699219\"/>\n",
       "  <use xlink:href=\"#glyph1-2\" x=\"35\" y=\"480.699219\"/>\n",
       "  <use xlink:href=\"#glyph1-18\" x=\"40.25\" y=\"480.699219\"/>\n",
       "  <use xlink:href=\"#glyph1-2\" x=\"44\" y=\"480.699219\"/>\n",
       "  <use xlink:href=\"#glyph1-6\" x=\"49.25\" y=\"480.699219\"/>\n",
       "  <use xlink:href=\"#glyph1-5\" x=\"52.25\" y=\"480.699219\"/>\n",
       "  <use xlink:href=\"#glyph1-14\" x=\"58.25\" y=\"480.699219\"/>\n",
       "  <use xlink:href=\"#glyph1-8\" x=\"64.25\" y=\"480.699219\"/>\n",
       "  <use xlink:href=\"#glyph1-9\" x=\"67.25\" y=\"480.699219\"/>\n",
       "  <use xlink:href=\"#glyph1-11\" x=\"71\" y=\"480.699219\"/>\n",
       "  <use xlink:href=\"#glyph1-10\" x=\"77\" y=\"480.699219\"/>\n",
       "</g>\n",
       "</g>\n",
       "</svg>\n"
      ],
      "text/plain": [
       "<graphviz.graphs.Digraph at 0x7f9c2e0191e0>"
      ]
     },
     "execution_count": 6,
     "metadata": {},
     "output_type": "execute_result"
    }
   ],
   "source": [
    "\n",
    "DTYPE = torch.double\n",
    "dtype_eps = torch.finfo(DTYPE).eps\n",
    "MODEL_DIR = f'trained_models/{DATASET}_models'\n",
    "if not os.path.exists(MODEL_DIR):\n",
    "    os.makedirs(MODEL_DIR)\n",
    "\n",
    "model = TTNModel(features, n_phys=MAP_DIM, bond_dim=BOND_DIM, n_labels=N_LABELS, device=DEVICE, dtype=DTYPE)\n",
    "model.draw()"
   ]
  },
  {
   "cell_type": "markdown",
   "metadata": {},
   "source": [
    "### Quantized"
   ]
  },
  {
   "cell_type": "code",
   "execution_count": 6,
   "metadata": {},
   "outputs": [],
   "source": [
    "from qtorch import FixedPoint, FloatingPoint\n",
    "from qtorch.quant import Quantizer, fixed_point_quantize\n",
    "from qtorch.optim import OptimLP\n",
    "\n",
    "wl = 16\n",
    "fl = 14\n",
    "\n",
    "forward_num = FixedPoint(wl=wl, fl=fl)\n",
    "backward_num = FixedPoint(wl=wl, fl=fl)\n",
    "\n",
    "# Create a quantizer\n",
    "Q = Quantizer(forward_number=forward_num, backward_number=backward_num,\n",
    "              forward_rounding=\"nearest\", backward_rounding=\"nearest\")\n"
   ]
  },
  {
   "cell_type": "code",
   "execution_count": 7,
   "metadata": {},
   "outputs": [
    {
     "data": {
      "image/svg+xml": [
       "<?xml version=\"1.0\" encoding=\"UTF-8\"?>\n",
       "<svg xmlns=\"http://www.w3.org/2000/svg\" xmlns:xlink=\"http://www.w3.org/1999/xlink\" width=\"503pt\" height=\"510pt\" viewBox=\"0 0 503 510\" version=\"1.1\">\n",
       "<defs>\n",
       "<g>\n",
       "<symbol overflow=\"visible\" id=\"glyph0-0\">\n",
       "<path style=\"stroke:none;\" d=\"M 0.546875 2 L 0.546875 -8 L 6.046875 -8 L 6.046875 2 Z M 1.171875 1 L 5.4375 1 L 5.4375 -7 L 1.171875 -7 Z M 1.171875 1 \"/>\n",
       "</symbol>\n",
       "<symbol overflow=\"visible\" id=\"glyph0-1\">\n",
       "<path style=\"stroke:none;\" d=\"M 3.5 -1 C 4.050781 -1 4.460938 -1.25 4.734375 -1.75 C 5.003906 -2.25 5.140625 -3 5.140625 -4 C 5.140625 -5.007812 5.003906 -5.757812 4.734375 -6.25 C 4.460938 -6.75 4.050781 -7 3.5 -7 C 2.945312 -7 2.535156 -6.75 2.265625 -6.25 C 1.992188 -5.757812 1.859375 -5.007812 1.859375 -4 C 1.859375 -3 1.992188 -2.25 2.265625 -1.75 C 2.535156 -1.25 2.945312 -1 3.5 -1 Z M 3.5 0 C 2.625 0 1.941406 -0.347656 1.453125 -1.046875 C 0.960938 -1.753906 0.71875 -2.738281 0.71875 -4 C 0.71875 -5.257812 0.960938 -6.238281 1.453125 -6.9375 C 1.941406 -7.644531 2.625 -8 3.5 -8 C 4.363281 -8 5.039062 -7.644531 5.53125 -6.9375 C 6.019531 -6.238281 6.265625 -5.257812 6.265625 -4 C 6.265625 -2.738281 6.019531 -1.753906 5.53125 -1.046875 C 5.039062 -0.347656 4.363281 0 3.5 0 Z M 3.5 0 \"/>\n",
       "</symbol>\n",
       "<symbol overflow=\"visible\" id=\"glyph0-2\">\n",
       "<path style=\"stroke:none;\" d=\"M 1.03125 -0.5 C 1.03125 -0.832031 1.097656 -1 1.234375 -1 C 1.367188 -1 1.539062 -1 1.75 -1 C 1.945312 -1 2.113281 -1 2.25 -1 C 2.394531 -1 2.46875 -0.832031 2.46875 -0.5 C 2.46875 -0.164062 2.394531 0 2.25 0 C 2.113281 0 1.945312 0 1.75 0 C 1.539062 0 1.367188 0 1.234375 0 C 1.097656 0 1.03125 -0.164062 1.03125 -0.5 Z M 1.03125 -0.5 \"/>\n",
       "</symbol>\n",
       "<symbol overflow=\"visible\" id=\"glyph0-3\">\n",
       "<path style=\"stroke:none;\" d=\"M 1.5625 0 L 1.5625 -1 L 2.953125 -1 L 2.953125 -7.265625 L 1.34375 -6.328125 L 1.34375 -7 L 3.296875 -8 L 4.046875 -8 L 4.046875 -1 L 5.4375 -1 L 5.4375 0 Z M 1.5625 0 \"/>\n",
       "</symbol>\n",
       "<symbol overflow=\"visible\" id=\"glyph0-4\">\n",
       "<path style=\"stroke:none;\" d=\"M 1.40625 -6 L 0.8125 -6 L 0.8125 -7 C 1.195312 -7.320312 1.582031 -7.566406 1.96875 -7.734375 C 2.351562 -7.910156 2.734375 -8 3.109375 -8 C 3.941406 -8 4.597656 -7.804688 5.078125 -7.421875 C 5.566406 -7.035156 5.8125 -6.507812 5.8125 -5.84375 C 5.8125 -5.09375 5.257812 -4.195312 4.15625 -3.15625 C 4.070312 -3.082031 4.007812 -3.023438 3.96875 -2.984375 L 1.9375 -1 L 5.296875 -1 L 5.296875 -2 L 5.921875 -2 L 5.921875 0 L 0.75 0 L 0.75 -0.59375 L 3.1875 -3.078125 C 3.71875 -3.535156 4.097656 -3.953125 4.328125 -4.328125 C 4.554688 -4.710938 4.671875 -5.113281 4.671875 -5.53125 C 4.671875 -5.988281 4.53125 -6.347656 4.25 -6.609375 C 3.96875 -6.867188 3.582031 -7 3.09375 -7 C 2.570312 -7 2.171875 -6.914062 1.890625 -6.75 C 1.617188 -6.582031 1.457031 -6.332031 1.40625 -6 Z M 1.40625 -6 \"/>\n",
       "</symbol>\n",
       "<symbol overflow=\"visible\" id=\"glyph0-5\">\n",
       "<path style=\"stroke:none;\" d=\"M 1.0625 -7 C 1.476562 -7.320312 1.878906 -7.566406 2.265625 -7.734375 C 2.648438 -7.910156 3.015625 -8 3.359375 -8 C 4.140625 -8 4.75 -7.84375 5.1875 -7.53125 C 5.632812 -7.226562 5.859375 -6.804688 5.859375 -6.265625 C 5.859375 -5.816406 5.707031 -5.445312 5.40625 -5.15625 C 5.101562 -4.863281 4.671875 -4.664062 4.109375 -4.5625 C 4.765625 -4.46875 5.273438 -4.226562 5.640625 -3.84375 C 6.003906 -3.457031 6.1875 -2.953125 6.1875 -2.328125 C 6.1875 -1.578125 5.929688 -1 5.421875 -0.59375 C 4.921875 -0.195312 4.203125 0 3.265625 0 C 2.835938 0 2.425781 -0.0820312 2.03125 -0.25 C 1.632812 -0.414062 1.238281 -0.664062 0.84375 -1 L 0.84375 -2 L 1.4375 -2 C 1.46875 -1.664062 1.640625 -1.414062 1.953125 -1.25 C 2.265625 -1.082031 2.707031 -1 3.28125 -1 C 3.820312 -1 4.25 -1.125 4.5625 -1.375 C 4.882812 -1.632812 5.046875 -1.988281 5.046875 -2.4375 C 5.046875 -2.945312 4.878906 -3.332031 4.546875 -3.59375 C 4.222656 -3.863281 3.75 -4 3.125 -4 L 2.609375 -4 L 2.609375 -5 L 2.890625 -5 C 3.515625 -5 3.984375 -5.082031 4.296875 -5.25 C 4.609375 -5.425781 4.765625 -5.6875 4.765625 -6.03125 C 4.765625 -6.34375 4.632812 -6.582031 4.375 -6.75 C 4.125 -6.914062 3.753906 -7 3.265625 -7 C 2.785156 -7 2.410156 -6.914062 2.140625 -6.75 C 1.867188 -6.582031 1.710938 -6.332031 1.671875 -6 L 1.0625 -6 Z M 1.0625 -7 \"/>\n",
       "</symbol>\n",
       "<symbol overflow=\"visible\" id=\"glyph0-6\">\n",
       "<path style=\"stroke:none;\" d=\"M 3.84375 -4 L 3.84375 -7.125 L 1.09375 -4 Z M 6.203125 0 L 2.546875 0 L 2.546875 -1 L 3.84375 -1 L 3.84375 -3 L 0.34375 -3 L 0.34375 -3.484375 L 3.859375 -8 L 4.921875 -8 L 4.921875 -4 L 6.453125 -4 L 6.453125 -3 L 4.921875 -3 L 4.921875 -1 L 6.203125 -1 Z M 6.203125 0 \"/>\n",
       "</symbol>\n",
       "<symbol overflow=\"visible\" id=\"glyph0-7\">\n",
       "<path style=\"stroke:none;\" d=\"M 5.53125 -8 L 5.53125 -7 L 1.859375 -7 L 1.859375 -4.265625 C 2.046875 -4.503906 2.265625 -4.6875 2.515625 -4.8125 C 2.765625 -4.9375 3.039062 -5 3.34375 -5 C 4.21875 -5 4.90625 -4.773438 5.40625 -4.328125 C 5.90625 -3.878906 6.15625 -3.269531 6.15625 -2.5 C 6.15625 -1.71875 5.898438 -1.101562 5.390625 -0.65625 C 4.890625 -0.21875 4.179688 0 3.265625 0 C 2.890625 0 2.507812 -0.0820312 2.125 -0.25 C 1.738281 -0.414062 1.34375 -0.664062 0.9375 -1 L 0.9375 -2 L 1.546875 -2 C 1.578125 -1.675781 1.738281 -1.425781 2.03125 -1.25 C 2.320312 -1.082031 2.726562 -1 3.25 -1 C 3.820312 -1 4.257812 -1.128906 4.5625 -1.390625 C 4.863281 -1.648438 5.015625 -2.019531 5.015625 -2.5 C 5.015625 -2.988281 4.863281 -3.359375 4.5625 -3.609375 C 4.257812 -3.867188 3.820312 -4 3.25 -4 C 2.925781 -4 2.640625 -3.914062 2.390625 -3.75 C 2.148438 -3.59375 1.9375 -3.34375 1.75 -3 L 1.296875 -3 L 1.296875 -8 Z M 5.53125 -8 \"/>\n",
       "</symbol>\n",
       "<symbol overflow=\"visible\" id=\"glyph0-8\">\n",
       "<path style=\"stroke:none;\" d=\"M 3.59375 -1 C 4.101562 -1 4.492188 -1.128906 4.765625 -1.390625 C 5.035156 -1.648438 5.171875 -2.019531 5.171875 -2.5 C 5.171875 -2.976562 5.035156 -3.347656 4.765625 -3.609375 C 4.492188 -3.867188 4.101562 -4 3.59375 -4 C 3.082031 -4 2.691406 -3.875 2.421875 -3.625 C 2.160156 -3.375 2.03125 -3.015625 2.03125 -2.546875 C 2.03125 -2.046875 2.164062 -1.660156 2.4375 -1.390625 C 2.707031 -1.128906 3.09375 -1 3.59375 -1 Z M 1.84375 -3.8125 C 2.082031 -4.207031 2.359375 -4.503906 2.671875 -4.703125 C 2.984375 -4.898438 3.332031 -5 3.71875 -5 C 4.519531 -5 5.148438 -4.773438 5.609375 -4.328125 C 6.078125 -3.878906 6.3125 -3.269531 6.3125 -2.5 C 6.3125 -1.738281 6.0625 -1.128906 5.5625 -0.671875 C 5.0625 -0.222656 4.394531 0 3.5625 0 C 2.65625 0 1.957031 -0.320312 1.46875 -0.96875 C 0.976562 -1.625 0.734375 -2.550781 0.734375 -3.75 C 0.734375 -5.101562 1.019531 -6.148438 1.59375 -6.890625 C 2.175781 -7.628906 2.992188 -8 4.046875 -8 C 4.328125 -8 4.625 -7.914062 4.9375 -7.75 C 5.25 -7.582031 5.566406 -7.332031 5.890625 -7 L 5.890625 -6 L 5.28125 -6 C 5.238281 -6.320312 5.097656 -6.566406 4.859375 -6.734375 C 4.628906 -6.910156 4.316406 -7 3.921875 -7 C 3.222656 -7 2.703125 -6.738281 2.359375 -6.21875 C 2.023438 -5.695312 1.851562 -4.894531 1.84375 -3.8125 Z M 1.84375 -3.8125 \"/>\n",
       "</symbol>\n",
       "<symbol overflow=\"visible\" id=\"glyph0-9\">\n",
       "<path style=\"stroke:none;\" d=\"M 6.203125 -7.453125 L 3.0625 0 L 2.265625 0 L 5.265625 -7 L 1.546875 -7 L 1.546875 -6.03125 L 0.921875 -6.03125 L 0.921875 -8 L 6.203125 -8 Z M 6.203125 -7.453125 \"/>\n",
       "</symbol>\n",
       "<symbol overflow=\"visible\" id=\"glyph1-0\">\n",
       "<path style=\"stroke:none;\" d=\"M 0.453125 2 L 0.453125 -6 L 4.953125 -6 L 4.953125 2 Z M 0.953125 1 L 4.453125 1 L 4.453125 -5 L 0.953125 -5 Z M 0.953125 1 \"/>\n",
       "</symbol>\n",
       "<symbol overflow=\"visible\" id=\"glyph1-1\">\n",
       "<path style=\"stroke:none;\" d=\"M 1.84375 -1 L 2.609375 -1 L 2.609375 0 L 0.265625 0 L 0.265625 -1 L 1.03125 -1 L 1.03125 -7 L 0.265625 -7 L 0.265625 -8 L 1.84375 -8 Z M 1.84375 -1 \"/>\n",
       "</symbol>\n",
       "<symbol overflow=\"visible\" id=\"glyph1-2\">\n",
       "<path style=\"stroke:none;\" d=\"M 3.578125 -1.5 L 3.578125 -2 L 2.546875 -2 C 2.140625 -2 1.835938 -1.957031 1.640625 -1.875 C 1.441406 -1.789062 1.34375 -1.664062 1.34375 -1.5 C 1.34375 -1.34375 1.441406 -1.21875 1.640625 -1.125 C 1.835938 -1.039062 2.109375 -1 2.453125 -1 C 2.785156 -1 3.054688 -1.046875 3.265625 -1.140625 C 3.472656 -1.234375 3.578125 -1.351562 3.578125 -1.5 Z M 4.390625 -2.984375 L 4.390625 -1 L 5.109375 -1 L 5.109375 0 L 3.578125 0 L 3.578125 -1.015625 C 3.398438 -0.671875 3.191406 -0.414062 2.953125 -0.25 C 2.722656 -0.0820312 2.453125 0 2.140625 0 C 1.617188 0 1.207031 -0.132812 0.90625 -0.40625 C 0.601562 -0.675781 0.453125 -1.039062 0.453125 -1.5 C 0.453125 -1.976562 0.625 -2.347656 0.96875 -2.609375 C 1.320312 -2.867188 1.816406 -3 2.453125 -3 L 3.578125 -3 L 3.578125 -4.125 C 3.578125 -4.082031 3.46875 -4.050781 3.25 -4.03125 C 3.039062 -4.007812 2.738281 -4 2.34375 -4 C 2.019531 -4 1.765625 -4.082031 1.578125 -4.25 C 1.390625 -4.414062 1.269531 -4.664062 1.21875 -5 L 0.8125 -5 C 1.09375 -5 1.363281 -5 1.625 -5 C 1.894531 -5 2.15625 -5 2.40625 -5 C 3.050781 -5 3.539062 -4.828125 3.875 -4.484375 C 4.21875 -4.140625 4.390625 -3.640625 4.390625 -2.984375 Z M 4.390625 -2.984375 \"/>\n",
       "</symbol>\n",
       "<symbol overflow=\"visible\" id=\"glyph1-3\">\n",
       "<path style=\"stroke:none;\" d=\"M 1.03125 -1 L 1.03125 -7 L 0.265625 -7 L 0.265625 -8 L 1.84375 -8 L 1.84375 -3.71875 C 2 -4.15625 2.195312 -4.476562 2.4375 -4.6875 C 2.6875 -4.894531 2.992188 -5 3.359375 -5 C 3.929688 -5 4.398438 -4.769531 4.765625 -4.3125 C 5.128906 -3.851562 5.3125 -3.25 5.3125 -2.5 C 5.3125 -1.757812 5.128906 -1.15625 4.765625 -0.6875 C 4.398438 -0.226562 3.929688 0 3.359375 0 C 2.992188 0 2.6875 -0.0976562 2.4375 -0.296875 C 2.195312 -0.492188 2 -0.796875 1.84375 -1.203125 L 1.84375 0 L 0.265625 0 L 0.265625 -1 Z M 1.84375 -2.28125 C 1.84375 -1.863281 1.945312 -1.546875 2.15625 -1.328125 C 2.375 -1.109375 2.691406 -1 3.109375 -1 C 3.515625 -1 3.820312 -1.125 4.03125 -1.375 C 4.25 -1.632812 4.359375 -2.007812 4.359375 -2.5 C 4.359375 -3 4.25 -3.375 4.03125 -3.625 C 3.820312 -3.875 3.515625 -4 3.109375 -4 C 2.691406 -4 2.375 -3.878906 2.15625 -3.640625 C 1.945312 -3.410156 1.84375 -3.078125 1.84375 -2.640625 Z M 1.84375 -2.28125 \"/>\n",
       "</symbol>\n",
       "<symbol overflow=\"visible\" id=\"glyph1-4\">\n",
       "<path style=\"stroke:none;\" d=\"M 4.875 -2 L 1.390625 -2 L 1.390625 -1.953125 C 1.390625 -1.640625 1.507812 -1.398438 1.75 -1.234375 C 1.988281 -1.078125 2.335938 -1 2.796875 -1 C 3.148438 -1 3.441406 -1 3.671875 -1 C 3.898438 -1 4.0625 -1 4.15625 -1 L 4.796875 -1 C 4.671875 -0.664062 4.429688 -0.414062 4.078125 -0.25 C 3.734375 -0.0820312 3.28125 0 2.71875 0 C 2.03125 0 1.476562 -0.226562 1.0625 -0.6875 C 0.65625 -1.144531 0.453125 -1.75 0.453125 -2.5 C 0.453125 -3.25 0.65625 -3.851562 1.0625 -4.3125 C 1.46875 -4.769531 2 -5 2.65625 -5 C 3.363281 -5 3.90625 -4.742188 4.28125 -4.234375 C 4.664062 -3.722656 4.863281 -2.976562 4.875 -2 Z M 3.921875 -3 C 3.898438 -3.332031 3.785156 -3.582031 3.578125 -3.75 C 3.367188 -3.914062 3.0625 -4 2.65625 -4 C 2.289062 -4 2 -3.914062 1.78125 -3.75 C 1.570312 -3.582031 1.441406 -3.332031 1.390625 -3 Z M 3.921875 -3 \"/>\n",
       "</symbol>\n",
       "<symbol overflow=\"visible\" id=\"glyph1-5\">\n",
       "<path style=\"stroke:none;\" d=\"M 1.28125 0 L 1.28125 -1 L 2.421875 -1 L 2.421875 -6.265625 L 1.09375 -5.4375 L 1.09375 -6 L 2.703125 -7 L 3.3125 -7 L 3.3125 -1 L 4.453125 -1 L 4.453125 0 Z M 1.28125 0 \"/>\n",
       "</symbol>\n",
       "<symbol overflow=\"visible\" id=\"glyph1-6\">\n",
       "<path style=\"stroke:none;\" d=\"M 0.84375 -0.5 C 0.84375 -0.832031 0.898438 -1 1.015625 -1 C 1.128906 -1 1.269531 -1 1.4375 -1 C 1.59375 -1 1.726562 -1 1.84375 -1 C 1.957031 -1 2.015625 -0.832031 2.015625 -0.5 C 2.015625 -0.164062 1.957031 0 1.84375 0 C 1.726562 0 1.59375 0 1.4375 0 C 1.269531 0 1.128906 0 1.015625 0 C 0.898438 0 0.84375 -0.164062 0.84375 -0.5 Z M 0.84375 -0.5 \"/>\n",
       "</symbol>\n",
       "<symbol overflow=\"visible\" id=\"glyph1-7\">\n",
       "<path style=\"stroke:none;\" d=\"M 2.859375 -1 C 3.304688 -1 3.640625 -1.207031 3.859375 -1.625 C 4.085938 -2.039062 4.203125 -2.664062 4.203125 -3.5 C 4.203125 -4.332031 4.085938 -4.957031 3.859375 -5.375 C 3.640625 -5.789062 3.304688 -6 2.859375 -6 C 2.410156 -6 2.070312 -5.789062 1.84375 -5.375 C 1.625 -4.957031 1.515625 -4.332031 1.515625 -3.5 C 1.515625 -2.664062 1.625 -2.039062 1.84375 -1.625 C 2.070312 -1.207031 2.410156 -1 2.859375 -1 Z M 2.859375 0 C 2.148438 0 1.59375 -0.304688 1.1875 -0.921875 C 0.789062 -1.535156 0.59375 -2.394531 0.59375 -3.5 C 0.59375 -4.601562 0.789062 -5.460938 1.1875 -6.078125 C 1.59375 -6.691406 2.148438 -7 2.859375 -7 C 3.578125 -7 4.132812 -6.691406 4.53125 -6.078125 C 4.925781 -5.460938 5.125 -4.601562 5.125 -3.5 C 5.125 -2.394531 4.925781 -1.535156 4.53125 -0.921875 C 4.132812 -0.304688 3.578125 0 2.859375 0 Z M 2.859375 0 \"/>\n",
       "</symbol>\n",
       "<symbol overflow=\"visible\" id=\"glyph1-8\">\n",
       "<path style=\"stroke:none;\" d=\"\"/>\n",
       "</symbol>\n",
       "<symbol overflow=\"visible\" id=\"glyph1-9\">\n",
       "<path style=\"stroke:none;\" d=\"M 0.78125 -8 L 2.8125 -8 L 2.8125 -7 L 1.609375 -7 L 1.609375 -1 L 2.8125 -1 L 2.8125 0 L 0.78125 0 Z M 0.78125 -8 \"/>\n",
       "</symbol>\n",
       "<symbol overflow=\"visible\" id=\"glyph1-10\">\n",
       "<path style=\"stroke:none;\" d=\"M 2.734375 -8 L 2.734375 0 L 0.6875 0 L 0.6875 -1 L 1.90625 -1 L 1.90625 -7 L 0.6875 -7 L 0.6875 -8 Z M 2.734375 -8 \"/>\n",
       "</symbol>\n",
       "<symbol overflow=\"visible\" id=\"glyph1-11\">\n",
       "<path style=\"stroke:none;\" d=\"M 1.15625 -5 L 0.65625 -5 L 0.65625 -6 C 0.96875 -6.320312 1.28125 -6.566406 1.59375 -6.734375 C 1.914062 -6.910156 2.226562 -7 2.53125 -7 C 3.21875 -7 3.757812 -6.832031 4.15625 -6.5 C 4.550781 -6.175781 4.75 -5.734375 4.75 -5.171875 C 4.75 -4.535156 4.300781 -3.773438 3.40625 -2.890625 C 3.332031 -2.816406 3.28125 -2.765625 3.25 -2.734375 L 1.59375 -1 L 4.328125 -1 L 4.328125 -2 L 4.84375 -2 L 4.84375 0 L 0.609375 0 L 0.609375 -0.546875 L 2.609375 -2.8125 C 3.046875 -3.1875 3.359375 -3.523438 3.546875 -3.828125 C 3.734375 -4.140625 3.828125 -4.46875 3.828125 -4.8125 C 3.828125 -5.1875 3.710938 -5.476562 3.484375 -5.6875 C 3.253906 -5.894531 2.9375 -6 2.53125 -6 C 2.113281 -6 1.789062 -5.914062 1.5625 -5.75 C 1.332031 -5.582031 1.195312 -5.332031 1.15625 -5 Z M 1.15625 -5 \"/>\n",
       "</symbol>\n",
       "<symbol overflow=\"visible\" id=\"glyph1-12\">\n",
       "<path style=\"stroke:none;\" d=\"M 0.875 -6 C 1.21875 -6.320312 1.546875 -6.566406 1.859375 -6.734375 C 2.179688 -6.910156 2.476562 -7 2.75 -7 C 3.394531 -7 3.894531 -6.84375 4.25 -6.53125 C 4.613281 -6.226562 4.796875 -5.804688 4.796875 -5.265625 C 4.796875 -4.816406 4.671875 -4.445312 4.421875 -4.15625 C 4.171875 -3.863281 3.816406 -3.664062 3.359375 -3.5625 C 3.898438 -3.488281 4.316406 -3.300781 4.609375 -3 C 4.910156 -2.695312 5.0625 -2.304688 5.0625 -1.828125 C 5.0625 -1.234375 4.851562 -0.78125 4.4375 -0.46875 C 4.03125 -0.15625 3.441406 0 2.671875 0 C 2.328125 0 1.988281 -0.0820312 1.65625 -0.25 C 1.332031 -0.414062 1.007812 -0.664062 0.6875 -1 L 0.6875 -2 L 1.171875 -2 C 1.203125 -1.664062 1.34375 -1.414062 1.59375 -1.25 C 1.851562 -1.082031 2.210938 -1 2.671875 -1 C 3.117188 -1 3.472656 -1.082031 3.734375 -1.25 C 3.992188 -1.425781 4.125 -1.664062 4.125 -1.96875 C 4.125 -2.300781 3.988281 -2.554688 3.71875 -2.734375 C 3.457031 -2.910156 3.070312 -3 2.5625 -3 L 2.140625 -3 L 2.140625 -4 L 2.359375 -4 C 2.867188 -4 3.25 -4.082031 3.5 -4.25 C 3.757812 -4.425781 3.890625 -4.6875 3.890625 -5.03125 C 3.890625 -5.34375 3.785156 -5.582031 3.578125 -5.75 C 3.367188 -5.914062 3.066406 -6 2.671875 -6 C 2.273438 -6 1.96875 -5.914062 1.75 -5.75 C 1.53125 -5.582031 1.398438 -5.332031 1.359375 -5 L 0.875 -5 Z M 0.875 -6 \"/>\n",
       "</symbol>\n",
       "<symbol overflow=\"visible\" id=\"glyph1-13\">\n",
       "<path style=\"stroke:none;\" d=\"M 3.140625 -3 L 3.140625 -6.125 L 0.90625 -3 Z M 5.078125 0 L 2.09375 0 L 2.09375 -1 L 3.140625 -1 L 3.140625 -2 L 0.28125 -2 L 0.28125 -2.484375 L 3.140625 -7 L 4.015625 -7 L 4.015625 -3 L 5.28125 -3 L 5.28125 -2 L 4.015625 -2 L 4.015625 -1 L 5.078125 -1 Z M 5.078125 0 \"/>\n",
       "</symbol>\n",
       "<symbol overflow=\"visible\" id=\"glyph1-14\">\n",
       "<path style=\"stroke:none;\" d=\"M 4.53125 -7 L 4.53125 -6 L 1.515625 -6 L 1.515625 -3.265625 C 1.671875 -3.503906 1.847656 -3.6875 2.046875 -3.8125 C 2.253906 -3.9375 2.484375 -4 2.734375 -4 C 3.441406 -4 4 -3.820312 4.40625 -3.46875 C 4.820312 -3.113281 5.03125 -2.625 5.03125 -2 C 5.03125 -1.375 4.820312 -0.882812 4.40625 -0.53125 C 3.988281 -0.175781 3.40625 0 2.65625 0 C 2.363281 0 2.054688 -0.0820312 1.734375 -0.25 C 1.421875 -0.414062 1.097656 -0.664062 0.765625 -1 L 0.765625 -2 L 1.265625 -2 C 1.296875 -1.675781 1.425781 -1.425781 1.65625 -1.25 C 1.894531 -1.082031 2.234375 -1 2.671875 -1 C 3.128906 -1 3.484375 -1.082031 3.734375 -1.25 C 3.984375 -1.425781 4.109375 -1.675781 4.109375 -2 C 4.109375 -2.320312 3.984375 -2.566406 3.734375 -2.734375 C 3.484375 -2.910156 3.128906 -3 2.671875 -3 C 2.398438 -3 2.164062 -3 1.96875 -3 C 1.769531 -3 1.59375 -3 1.4375 -3 L 1.0625 -3 L 1.0625 -7 Z M 4.53125 -7 \"/>\n",
       "</symbol>\n",
       "<symbol overflow=\"visible\" id=\"glyph1-15\">\n",
       "<path style=\"stroke:none;\" d=\"M 2.953125 -1 C 3.359375 -1 3.671875 -1.082031 3.890625 -1.25 C 4.117188 -1.425781 4.234375 -1.675781 4.234375 -2 C 4.234375 -2.320312 4.117188 -2.566406 3.890625 -2.734375 C 3.671875 -2.910156 3.359375 -3 2.953125 -3 C 2.523438 -3 2.203125 -2.914062 1.984375 -2.75 C 1.765625 -2.582031 1.65625 -2.34375 1.65625 -2.03125 C 1.65625 -1.695312 1.765625 -1.441406 1.984375 -1.265625 C 2.210938 -1.085938 2.535156 -1 2.953125 -1 Z M 1.515625 -2.875 C 1.710938 -3.25 1.9375 -3.53125 2.1875 -3.71875 C 2.4375 -3.90625 2.722656 -4 3.046875 -4 C 3.691406 -4 4.203125 -3.816406 4.578125 -3.453125 C 4.960938 -3.097656 5.15625 -2.613281 5.15625 -2 C 5.15625 -1.394531 4.953125 -0.910156 4.546875 -0.546875 C 4.140625 -0.179688 3.59375 0 2.90625 0 C 2.164062 0 1.597656 -0.28125 1.203125 -0.84375 C 0.804688 -1.414062 0.609375 -2.226562 0.609375 -3.28125 C 0.609375 -4.46875 0.84375 -5.382812 1.3125 -6.03125 C 1.78125 -6.675781 2.445312 -7 3.3125 -7 C 3.539062 -7 3.78125 -6.914062 4.03125 -6.75 C 4.28125 -6.582031 4.539062 -6.332031 4.8125 -6 L 4.8125 -5 L 4.3125 -5 C 4.28125 -5.320312 4.164062 -5.566406 3.96875 -5.734375 C 3.78125 -5.910156 3.523438 -6 3.203125 -6 C 2.640625 -6 2.21875 -5.742188 1.9375 -5.234375 C 1.664062 -4.722656 1.523438 -3.9375 1.515625 -2.875 Z M 1.515625 -2.875 \"/>\n",
       "</symbol>\n",
       "<symbol overflow=\"visible\" id=\"glyph1-16\">\n",
       "<path style=\"stroke:none;\" d=\"M 5.078125 -6.515625 L 2.515625 0 L 1.859375 0 L 4.296875 -6 L 1.265625 -6 L 1.265625 -5.171875 L 0.75 -5.171875 L 0.75 -7 L 5.078125 -7 Z M 5.078125 -6.515625 \"/>\n",
       "</symbol>\n",
       "<symbol overflow=\"visible\" id=\"glyph1-17\">\n",
       "<path style=\"stroke:none;\" d=\"M 4.71875 -1 L 5.5 -1 L 5.5 0 L 3.921875 0 L 3.921875 -1.203125 C 3.765625 -0.796875 3.5625 -0.492188 3.3125 -0.296875 C 3.070312 -0.0976562 2.769531 0 2.40625 0 C 1.832031 0 1.363281 -0.226562 1 -0.6875 C 0.632812 -1.15625 0.453125 -1.757812 0.453125 -2.5 C 0.453125 -3.25 0.632812 -3.851562 1 -4.3125 C 1.363281 -4.769531 1.832031 -5 2.40625 -5 C 2.769531 -5 3.070312 -4.894531 3.3125 -4.6875 C 3.5625 -4.476562 3.765625 -4.15625 3.921875 -3.71875 L 3.921875 -7 L 3.15625 -7 L 3.15625 -8 L 4.71875 -8 Z M 3.921875 -2.28125 L 3.921875 -2.640625 C 3.921875 -3.078125 3.8125 -3.410156 3.59375 -3.640625 C 3.382812 -3.878906 3.070312 -4 2.65625 -4 C 2.238281 -4 1.921875 -3.875 1.703125 -3.625 C 1.492188 -3.375 1.390625 -3 1.390625 -2.5 C 1.390625 -2.007812 1.492188 -1.632812 1.703125 -1.375 C 1.921875 -1.125 2.238281 -1 2.65625 -1 C 3.070312 -1 3.382812 -1.109375 3.59375 -1.328125 C 3.8125 -1.546875 3.921875 -1.863281 3.921875 -2.28125 Z M 3.921875 -2.28125 \"/>\n",
       "</symbol>\n",
       "<symbol overflow=\"visible\" id=\"glyph1-18\">\n",
       "<path style=\"stroke:none;\" d=\"M 0.96875 -4 L 0.265625 -4 L 0.265625 -5 L 0.96875 -5 L 0.96875 -6 L 1.78125 -6 L 1.78125 -5 L 3.3125 -5 L 3.3125 -4 L 1.78125 -4 L 1.78125 -2.09375 C 1.78125 -1.625 1.816406 -1.320312 1.890625 -1.1875 C 1.972656 -1.0625 2.113281 -1 2.3125 -1 C 2.53125 -1 2.6875 -1.078125 2.78125 -1.234375 C 2.875 -1.390625 2.925781 -1.644531 2.9375 -2 L 3.546875 -2 C 3.523438 -1.300781 3.410156 -0.789062 3.203125 -0.46875 C 2.992188 -0.15625 2.675781 0 2.25 0 C 1.78125 0 1.445312 -0.15625 1.25 -0.46875 C 1.0625 -0.789062 0.96875 -1.332031 0.96875 -2.09375 Z M 0.96875 -4 \"/>\n",
       "</symbol>\n",
       "<symbol overflow=\"visible\" id=\"glyph1-19\">\n",
       "<path style=\"stroke:none;\" d=\"M 4.1875 -2 C 4.1875 -2.3125 4.066406 -2.554688 3.828125 -2.734375 C 3.597656 -2.910156 3.273438 -3 2.859375 -3 C 2.441406 -3 2.113281 -2.910156 1.875 -2.734375 C 1.644531 -2.554688 1.53125 -2.3125 1.53125 -2 C 1.53125 -1.6875 1.644531 -1.441406 1.875 -1.265625 C 2.113281 -1.085938 2.441406 -1 2.859375 -1 C 3.273438 -1 3.597656 -1.085938 3.828125 -1.265625 C 4.066406 -1.441406 4.1875 -1.6875 4.1875 -2 Z M 4.015625 -5 C 4.015625 -5.3125 3.910156 -5.554688 3.703125 -5.734375 C 3.503906 -5.910156 3.222656 -6 2.859375 -6 C 2.492188 -6 2.207031 -5.910156 2 -5.734375 C 1.800781 -5.554688 1.703125 -5.3125 1.703125 -5 C 1.703125 -4.6875 1.800781 -4.441406 2 -4.265625 C 2.207031 -4.085938 2.492188 -4 2.859375 -4 C 3.222656 -4 3.503906 -4.085938 3.703125 -4.265625 C 3.910156 -4.441406 4.015625 -4.6875 4.015625 -5 Z M 3.53125 -3.5 C 4.03125 -3.4375 4.421875 -3.257812 4.703125 -2.96875 C 4.984375 -2.675781 5.125 -2.304688 5.125 -1.859375 C 5.125 -1.265625 4.925781 -0.804688 4.53125 -0.484375 C 4.144531 -0.160156 3.585938 0 2.859375 0 C 2.140625 0 1.582031 -0.160156 1.1875 -0.484375 C 0.800781 -0.804688 0.609375 -1.265625 0.609375 -1.859375 C 0.609375 -2.304688 0.742188 -2.675781 1.015625 -2.96875 C 1.296875 -3.257812 1.6875 -3.4375 2.1875 -3.5 C 1.738281 -3.582031 1.394531 -3.765625 1.15625 -4.046875 C 0.925781 -4.328125 0.8125 -4.6875 0.8125 -5.125 C 0.8125 -5.707031 0.992188 -6.164062 1.359375 -6.5 C 1.722656 -6.832031 2.222656 -7 2.859375 -7 C 3.492188 -7 3.992188 -6.832031 4.359375 -6.5 C 4.722656 -6.164062 4.90625 -5.707031 4.90625 -5.125 C 4.90625 -4.6875 4.785156 -4.328125 4.546875 -4.046875 C 4.304688 -3.765625 3.96875 -3.582031 3.53125 -3.5 Z M 3.53125 -3.5 \"/>\n",
       "</symbol>\n",
       "<symbol overflow=\"visible\" id=\"glyph1-20\">\n",
       "<path style=\"stroke:none;\" d=\"M 4.203125 -4.125 C 4.003906 -3.75 3.773438 -3.46875 3.515625 -3.28125 C 3.265625 -3.09375 2.984375 -3 2.671875 -3 C 2.015625 -3 1.5 -3.175781 1.125 -3.53125 C 0.75 -3.894531 0.5625 -4.382812 0.5625 -5 C 0.5625 -5.601562 0.765625 -6.085938 1.171875 -6.453125 C 1.585938 -6.816406 2.132812 -7 2.8125 -7 C 3.5625 -7 4.132812 -6.710938 4.53125 -6.140625 C 4.925781 -5.578125 5.125 -4.769531 5.125 -3.71875 C 5.125 -2.53125 4.882812 -1.613281 4.40625 -0.96875 C 3.9375 -0.320312 3.273438 0 2.421875 0 C 2.191406 0 1.945312 -0.0820312 1.6875 -0.25 C 1.4375 -0.414062 1.175781 -0.664062 0.90625 -1 L 0.90625 -2 L 1.40625 -2 C 1.445312 -1.675781 1.5625 -1.425781 1.75 -1.25 C 1.9375 -1.082031 2.191406 -1 2.515625 -1 C 3.078125 -1 3.5 -1.253906 3.78125 -1.765625 C 4.0625 -2.273438 4.203125 -3.0625 4.203125 -4.125 Z M 2.78125 -6 C 2.363281 -6 2.046875 -5.910156 1.828125 -5.734375 C 1.609375 -5.566406 1.5 -5.320312 1.5 -5 C 1.5 -4.675781 1.609375 -4.425781 1.828125 -4.25 C 2.046875 -4.082031 2.363281 -4 2.78125 -4 C 3.195312 -4 3.515625 -4.082031 3.734375 -4.25 C 3.953125 -4.414062 4.0625 -4.65625 4.0625 -4.96875 C 4.0625 -5.300781 3.945312 -5.554688 3.71875 -5.734375 C 3.5 -5.910156 3.1875 -6 2.78125 -6 Z M 2.78125 -6 \"/>\n",
       "</symbol>\n",
       "</g>\n",
       "</defs>\n",
       "<g id=\"surface1\">\n",
       "<path style=\"fill-rule:nonzero;fill:rgb(25.490196%,26.666667%,52.941176%);fill-opacity:1;stroke-width:4;stroke-linecap:butt;stroke-linejoin:miter;stroke:rgb(20.392157%,21.176471%,42.352941%);stroke-opacity:1;stroke-miterlimit:10;\" d=\"M 411 -269.5 C 411 -262.597656 405.402344 -257 398.5 -257 C 391.597656 -257 386 -262.597656 386 -269.5 C 386 -276.402344 391.597656 -282 398.5 -282 C 405.402344 -282 411 -276.402344 411 -269.5 \" transform=\"matrix(1,0,0,1,4,506)\"/>\n",
       "<g style=\"fill:rgb(0%,0%,0%);fill-opacity:1;\">\n",
       "  <use xlink:href=\"#glyph0-1\" x=\"393.5\" y=\"239.300781\"/>\n",
       "  <use xlink:href=\"#glyph0-2\" x=\"400.25\" y=\"239.300781\"/>\n",
       "  <use xlink:href=\"#glyph0-1\" x=\"404\" y=\"239.300781\"/>\n",
       "</g>\n",
       "<path style=\"fill:none;stroke-width:1;stroke-linecap:butt;stroke-linejoin:miter;stroke:rgb(74.901961%,74.901961%,74.901961%);stroke-opacity:1;stroke-miterlimit:10;\" d=\"M 411.25 -269.5 C 423.792969 -269.5 443.957031 -269.5 459.472656 -269.5 \" transform=\"matrix(1,0,0,1,4,506)\"/>\n",
       "<path style=\"fill-rule:nonzero;fill:rgb(74.901961%,74.901961%,74.901961%);fill-opacity:1;stroke-width:1;stroke-linecap:butt;stroke-linejoin:miter;stroke:rgb(74.901961%,74.901961%,74.901961%);stroke-opacity:1;stroke-miterlimit:10;\" d=\"M 459.773438 -273 L 469.773438 -269.5 L 459.773438 -266 Z M 459.773438 -273 \" transform=\"matrix(1,0,0,1,4,506)\"/>\n",
       "<g style=\"fill:rgb(0%,0%,0%);fill-opacity:1;\">\n",
       "  <use xlink:href=\"#glyph1-1\" x=\"433\" y=\"233.699219\"/>\n",
       "  <use xlink:href=\"#glyph1-2\" x=\"436\" y=\"233.699219\"/>\n",
       "  <use xlink:href=\"#glyph1-3\" x=\"441.25\" y=\"233.699219\"/>\n",
       "  <use xlink:href=\"#glyph1-4\" x=\"447.25\" y=\"233.699219\"/>\n",
       "  <use xlink:href=\"#glyph1-1\" x=\"452.5\" y=\"233.699219\"/>\n",
       "</g>\n",
       "<path style=\"fill-rule:nonzero;fill:rgb(13.72549%,53.333333%,55.686275%);fill-opacity:1;stroke-width:4;stroke-linecap:butt;stroke-linejoin:miter;stroke:rgb(10.980392%,42.745098%,44.313725%);stroke-opacity:1;stroke-miterlimit:10;\" d=\"M 312 -343.5 C 312 -336.597656 306.402344 -331 299.5 -331 C 292.597656 -331 287 -336.597656 287 -343.5 C 287 -350.402344 292.597656 -356 299.5 -356 C 306.402344 -356 312 -350.402344 312 -343.5 \" transform=\"matrix(1,0,0,1,4,506)\"/>\n",
       "<g style=\"fill:rgb(0%,0%,0%);fill-opacity:1;\">\n",
       "  <use xlink:href=\"#glyph0-3\" x=\"294.5\" y=\"165.300781\"/>\n",
       "  <use xlink:href=\"#glyph0-2\" x=\"301.25\" y=\"165.300781\"/>\n",
       "  <use xlink:href=\"#glyph0-1\" x=\"305\" y=\"165.300781\"/>\n",
       "</g>\n",
       "<path style=\"fill:none;stroke-width:1;stroke-linecap:butt;stroke-linejoin:miter;stroke:rgb(74.901961%,74.901961%,74.901961%);stroke-opacity:1;stroke-miterlimit:10;\" d=\"M 309.800781 -336.40625 C 325.910156 -324.113281 359.253906 -298.679688 379.867188 -282.953125 \" transform=\"matrix(1,0,0,1,4,506)\"/>\n",
       "<path style=\"fill-rule:nonzero;fill:rgb(74.901961%,74.901961%,74.901961%);fill-opacity:1;stroke-width:1;stroke-linecap:butt;stroke-linejoin:miter;stroke:rgb(74.901961%,74.901961%,74.901961%);stroke-opacity:1;stroke-miterlimit:10;\" d=\"M 382.257812 -285.53125 L 388.085938 -276.683594 L 378.011719 -279.964844 Z M 382.257812 -285.53125 \" transform=\"matrix(1,0,0,1,4,506)\"/>\n",
       "<g style=\"fill:rgb(0%,0%,0%);fill-opacity:1;\">\n",
       "  <use xlink:href=\"#glyph1-5\" x=\"334\" y=\"183.699219\"/>\n",
       "  <use xlink:href=\"#glyph1-6\" x=\"340\" y=\"183.699219\"/>\n",
       "  <use xlink:href=\"#glyph1-7\" x=\"343\" y=\"183.699219\"/>\n",
       "  <use xlink:href=\"#glyph1-8\" x=\"349\" y=\"183.699219\"/>\n",
       "  <use xlink:href=\"#glyph1-9\" x=\"352\" y=\"183.699219\"/>\n",
       "  <use xlink:href=\"#glyph1-5\" x=\"355.75\" y=\"183.699219\"/>\n",
       "  <use xlink:href=\"#glyph1-7\" x=\"361.75\" y=\"183.699219\"/>\n",
       "  <use xlink:href=\"#glyph1-10\" x=\"367.75\" y=\"183.699219\"/>\n",
       "</g>\n",
       "<path style=\"fill-rule:nonzero;fill:rgb(13.72549%,53.333333%,55.686275%);fill-opacity:1;stroke-width:4;stroke-linecap:butt;stroke-linejoin:miter;stroke:rgb(10.980392%,42.745098%,44.313725%);stroke-opacity:1;stroke-miterlimit:10;\" d=\"M 312 -158.5 C 312 -151.597656 306.402344 -146 299.5 -146 C 292.597656 -146 287 -151.597656 287 -158.5 C 287 -165.402344 292.597656 -171 299.5 -171 C 306.402344 -171 312 -165.402344 312 -158.5 \" transform=\"matrix(1,0,0,1,4,506)\"/>\n",
       "<g style=\"fill:rgb(0%,0%,0%);fill-opacity:1;\">\n",
       "  <use xlink:href=\"#glyph0-3\" x=\"294.5\" y=\"350.300781\"/>\n",
       "  <use xlink:href=\"#glyph0-2\" x=\"301.25\" y=\"350.300781\"/>\n",
       "  <use xlink:href=\"#glyph0-3\" x=\"305\" y=\"350.300781\"/>\n",
       "</g>\n",
       "<path style=\"fill:none;stroke-width:1;stroke-linecap:butt;stroke-linejoin:miter;stroke:rgb(74.901961%,74.901961%,74.901961%);stroke-opacity:1;stroke-miterlimit:10;\" d=\"M 308.4375 -167.582031 C 324.707031 -186.203125 362.058594 -228.941406 382.851562 -252.734375 \" transform=\"matrix(1,0,0,1,4,506)\"/>\n",
       "<path style=\"fill-rule:nonzero;fill:rgb(74.901961%,74.901961%,74.901961%);fill-opacity:1;stroke-width:1;stroke-linecap:butt;stroke-linejoin:miter;stroke:rgb(74.901961%,74.901961%,74.901961%);stroke-opacity:1;stroke-miterlimit:10;\" d=\"M 380.238281 -255.0625 L 389.453125 -260.289062 L 385.507812 -250.457031 Z M 380.238281 -255.0625 \" transform=\"matrix(1,0,0,1,4,506)\"/>\n",
       "<g style=\"fill:rgb(0%,0%,0%);fill-opacity:1;\">\n",
       "  <use xlink:href=\"#glyph1-5\" x=\"334\" y=\"269.699219\"/>\n",
       "  <use xlink:href=\"#glyph1-6\" x=\"340\" y=\"269.699219\"/>\n",
       "  <use xlink:href=\"#glyph1-5\" x=\"343\" y=\"269.699219\"/>\n",
       "  <use xlink:href=\"#glyph1-8\" x=\"349\" y=\"269.699219\"/>\n",
       "  <use xlink:href=\"#glyph1-9\" x=\"352\" y=\"269.699219\"/>\n",
       "  <use xlink:href=\"#glyph1-5\" x=\"355.75\" y=\"269.699219\"/>\n",
       "  <use xlink:href=\"#glyph1-7\" x=\"361.75\" y=\"269.699219\"/>\n",
       "  <use xlink:href=\"#glyph1-10\" x=\"367.75\" y=\"269.699219\"/>\n",
       "</g>\n",
       "<path style=\"fill-rule:nonzero;fill:rgb(32.941176%,77.254902%,40.784314%);fill-opacity:1;stroke-width:4;stroke-linecap:butt;stroke-linejoin:miter;stroke:rgb(22.352941%,65.882353%,29.803922%);stroke-opacity:1;stroke-miterlimit:10;\" d=\"M 213 -422.5 C 213 -415.597656 207.402344 -410 200.5 -410 C 193.597656 -410 188 -415.597656 188 -422.5 C 188 -429.402344 193.597656 -435 200.5 -435 C 207.402344 -435 213 -429.402344 213 -422.5 \" transform=\"matrix(1,0,0,1,4,506)\"/>\n",
       "<g style=\"fill:rgb(0%,0%,0%);fill-opacity:1;\">\n",
       "  <use xlink:href=\"#glyph0-4\" x=\"195.5\" y=\"86.300781\"/>\n",
       "  <use xlink:href=\"#glyph0-2\" x=\"202.25\" y=\"86.300781\"/>\n",
       "  <use xlink:href=\"#glyph0-1\" x=\"206\" y=\"86.300781\"/>\n",
       "</g>\n",
       "<path style=\"fill:none;stroke-width:1;stroke-linecap:butt;stroke-linejoin:miter;stroke:rgb(74.901961%,74.901961%,74.901961%);stroke-opacity:1;stroke-miterlimit:10;\" d=\"M 210.800781 -414.925781 C 227.066406 -401.679688 260.898438 -374.125 281.460938 -357.378906 \" transform=\"matrix(1,0,0,1,4,506)\"/>\n",
       "<path style=\"fill-rule:nonzero;fill:rgb(74.901961%,74.901961%,74.901961%);fill-opacity:1;stroke-width:1;stroke-linecap:butt;stroke-linejoin:miter;stroke:rgb(74.901961%,74.901961%,74.901961%);stroke-opacity:1;stroke-miterlimit:10;\" d=\"M 283.824219 -359.964844 L 289.367188 -350.9375 L 279.40625 -354.539062 Z M 283.824219 -359.964844 \" transform=\"matrix(1,0,0,1,4,506)\"/>\n",
       "<g style=\"fill:rgb(0%,0%,0%);fill-opacity:1;\">\n",
       "  <use xlink:href=\"#glyph1-11\" x=\"235\" y=\"106.699219\"/>\n",
       "  <use xlink:href=\"#glyph1-6\" x=\"241\" y=\"106.699219\"/>\n",
       "  <use xlink:href=\"#glyph1-7\" x=\"244\" y=\"106.699219\"/>\n",
       "  <use xlink:href=\"#glyph1-8\" x=\"250\" y=\"106.699219\"/>\n",
       "  <use xlink:href=\"#glyph1-9\" x=\"253\" y=\"106.699219\"/>\n",
       "  <use xlink:href=\"#glyph1-5\" x=\"256.75\" y=\"106.699219\"/>\n",
       "  <use xlink:href=\"#glyph1-7\" x=\"262.75\" y=\"106.699219\"/>\n",
       "  <use xlink:href=\"#glyph1-10\" x=\"268.75\" y=\"106.699219\"/>\n",
       "</g>\n",
       "<path style=\"fill-rule:nonzero;fill:rgb(32.941176%,77.254902%,40.784314%);fill-opacity:1;stroke-width:4;stroke-linecap:butt;stroke-linejoin:miter;stroke:rgb(22.352941%,65.882353%,29.803922%);stroke-opacity:1;stroke-miterlimit:10;\" d=\"M 213 -343.5 C 213 -336.597656 207.402344 -331 200.5 -331 C 193.597656 -331 188 -336.597656 188 -343.5 C 188 -350.402344 193.597656 -356 200.5 -356 C 207.402344 -356 213 -350.402344 213 -343.5 \" transform=\"matrix(1,0,0,1,4,506)\"/>\n",
       "<g style=\"fill:rgb(0%,0%,0%);fill-opacity:1;\">\n",
       "  <use xlink:href=\"#glyph0-4\" x=\"195.5\" y=\"165.300781\"/>\n",
       "  <use xlink:href=\"#glyph0-2\" x=\"202.25\" y=\"165.300781\"/>\n",
       "  <use xlink:href=\"#glyph0-3\" x=\"206\" y=\"165.300781\"/>\n",
       "</g>\n",
       "<path style=\"fill:none;stroke-width:1;stroke-linecap:butt;stroke-linejoin:miter;stroke:rgb(74.901961%,74.901961%,74.901961%);stroke-opacity:1;stroke-miterlimit:10;\" d=\"M 213.007812 -343.5 C 228.601562 -343.5 256.757812 -343.5 276.484375 -343.5 \" transform=\"matrix(1,0,0,1,4,506)\"/>\n",
       "<path style=\"fill-rule:nonzero;fill:rgb(74.901961%,74.901961%,74.901961%);fill-opacity:1;stroke-width:1;stroke-linecap:butt;stroke-linejoin:miter;stroke:rgb(74.901961%,74.901961%,74.901961%);stroke-opacity:1;stroke-miterlimit:10;\" d=\"M 276.703125 -347 L 286.703125 -343.5 L 276.703125 -340 Z M 276.703125 -347 \" transform=\"matrix(1,0,0,1,4,506)\"/>\n",
       "<g style=\"fill:rgb(0%,0%,0%);fill-opacity:1;\">\n",
       "  <use xlink:href=\"#glyph1-11\" x=\"235\" y=\"159.699219\"/>\n",
       "  <use xlink:href=\"#glyph1-6\" x=\"241\" y=\"159.699219\"/>\n",
       "  <use xlink:href=\"#glyph1-5\" x=\"244\" y=\"159.699219\"/>\n",
       "  <use xlink:href=\"#glyph1-8\" x=\"250\" y=\"159.699219\"/>\n",
       "  <use xlink:href=\"#glyph1-9\" x=\"253\" y=\"159.699219\"/>\n",
       "  <use xlink:href=\"#glyph1-5\" x=\"256.75\" y=\"159.699219\"/>\n",
       "  <use xlink:href=\"#glyph1-7\" x=\"262.75\" y=\"159.699219\"/>\n",
       "  <use xlink:href=\"#glyph1-10\" x=\"268.75\" y=\"159.699219\"/>\n",
       "</g>\n",
       "<path style=\"fill-rule:nonzero;fill:rgb(32.941176%,77.254902%,40.784314%);fill-opacity:1;stroke-width:4;stroke-linecap:butt;stroke-linejoin:miter;stroke:rgb(22.352941%,65.882353%,29.803922%);stroke-opacity:1;stroke-miterlimit:10;\" d=\"M 213 -158.5 C 213 -151.597656 207.402344 -146 200.5 -146 C 193.597656 -146 188 -151.597656 188 -158.5 C 188 -165.402344 193.597656 -171 200.5 -171 C 207.402344 -171 213 -165.402344 213 -158.5 \" transform=\"matrix(1,0,0,1,4,506)\"/>\n",
       "<g style=\"fill:rgb(0%,0%,0%);fill-opacity:1;\">\n",
       "  <use xlink:href=\"#glyph0-4\" x=\"195.5\" y=\"350.300781\"/>\n",
       "  <use xlink:href=\"#glyph0-2\" x=\"202.25\" y=\"350.300781\"/>\n",
       "  <use xlink:href=\"#glyph0-4\" x=\"206\" y=\"350.300781\"/>\n",
       "</g>\n",
       "<path style=\"fill:none;stroke-width:1;stroke-linecap:butt;stroke-linejoin:miter;stroke:rgb(74.901961%,74.901961%,74.901961%);stroke-opacity:1;stroke-miterlimit:10;\" d=\"M 213.007812 -158.5 C 228.601562 -158.5 256.757812 -158.5 276.484375 -158.5 \" transform=\"matrix(1,0,0,1,4,506)\"/>\n",
       "<path style=\"fill-rule:nonzero;fill:rgb(74.901961%,74.901961%,74.901961%);fill-opacity:1;stroke-width:1;stroke-linecap:butt;stroke-linejoin:miter;stroke:rgb(74.901961%,74.901961%,74.901961%);stroke-opacity:1;stroke-miterlimit:10;\" d=\"M 276.703125 -162 L 286.703125 -158.5 L 276.703125 -155 Z M 276.703125 -162 \" transform=\"matrix(1,0,0,1,4,506)\"/>\n",
       "<g style=\"fill:rgb(0%,0%,0%);fill-opacity:1;\">\n",
       "  <use xlink:href=\"#glyph1-11\" x=\"235\" y=\"344.699219\"/>\n",
       "  <use xlink:href=\"#glyph1-6\" x=\"241\" y=\"344.699219\"/>\n",
       "  <use xlink:href=\"#glyph1-11\" x=\"244\" y=\"344.699219\"/>\n",
       "  <use xlink:href=\"#glyph1-8\" x=\"250\" y=\"344.699219\"/>\n",
       "  <use xlink:href=\"#glyph1-9\" x=\"253\" y=\"344.699219\"/>\n",
       "  <use xlink:href=\"#glyph1-5\" x=\"256.75\" y=\"344.699219\"/>\n",
       "  <use xlink:href=\"#glyph1-7\" x=\"262.75\" y=\"344.699219\"/>\n",
       "  <use xlink:href=\"#glyph1-10\" x=\"268.75\" y=\"344.699219\"/>\n",
       "</g>\n",
       "<path style=\"fill-rule:nonzero;fill:rgb(32.941176%,77.254902%,40.784314%);fill-opacity:1;stroke-width:4;stroke-linecap:butt;stroke-linejoin:miter;stroke:rgb(22.352941%,65.882353%,29.803922%);stroke-opacity:1;stroke-miterlimit:10;\" d=\"M 213 -79.5 C 213 -72.597656 207.402344 -67 200.5 -67 C 193.597656 -67 188 -72.597656 188 -79.5 C 188 -86.402344 193.597656 -92 200.5 -92 C 207.402344 -92 213 -86.402344 213 -79.5 \" transform=\"matrix(1,0,0,1,4,506)\"/>\n",
       "<g style=\"fill:rgb(0%,0%,0%);fill-opacity:1;\">\n",
       "  <use xlink:href=\"#glyph0-4\" x=\"195.5\" y=\"429.300781\"/>\n",
       "  <use xlink:href=\"#glyph0-2\" x=\"202.25\" y=\"429.300781\"/>\n",
       "  <use xlink:href=\"#glyph0-5\" x=\"206\" y=\"429.300781\"/>\n",
       "</g>\n",
       "<path style=\"fill:none;stroke-width:1;stroke-linecap:butt;stroke-linejoin:miter;stroke:rgb(74.901961%,74.901961%,74.901961%);stroke-opacity:1;stroke-miterlimit:10;\" d=\"M 210.800781 -87.074219 C 227.066406 -100.320312 260.898438 -127.875 281.460938 -144.621094 \" transform=\"matrix(1,0,0,1,4,506)\"/>\n",
       "<path style=\"fill-rule:nonzero;fill:rgb(74.901961%,74.901961%,74.901961%);fill-opacity:1;stroke-width:1;stroke-linecap:butt;stroke-linejoin:miter;stroke:rgb(74.901961%,74.901961%,74.901961%);stroke-opacity:1;stroke-miterlimit:10;\" d=\"M 279.40625 -147.460938 L 289.367188 -151.0625 L 283.824219 -142.035156 Z M 279.40625 -147.460938 \" transform=\"matrix(1,0,0,1,4,506)\"/>\n",
       "<g style=\"fill:rgb(0%,0%,0%);fill-opacity:1;\">\n",
       "  <use xlink:href=\"#glyph1-11\" x=\"235\" y=\"370.699219\"/>\n",
       "  <use xlink:href=\"#glyph1-6\" x=\"241\" y=\"370.699219\"/>\n",
       "  <use xlink:href=\"#glyph1-12\" x=\"244\" y=\"370.699219\"/>\n",
       "  <use xlink:href=\"#glyph1-8\" x=\"250\" y=\"370.699219\"/>\n",
       "  <use xlink:href=\"#glyph1-9\" x=\"253\" y=\"370.699219\"/>\n",
       "  <use xlink:href=\"#glyph1-5\" x=\"256.75\" y=\"370.699219\"/>\n",
       "  <use xlink:href=\"#glyph1-7\" x=\"262.75\" y=\"370.699219\"/>\n",
       "  <use xlink:href=\"#glyph1-10\" x=\"268.75\" y=\"370.699219\"/>\n",
       "</g>\n",
       "<path style=\"fill-rule:nonzero;fill:rgb(99.215686%,90.588235%,14.509804%);fill-opacity:1;stroke-width:4;stroke-linecap:butt;stroke-linejoin:miter;stroke:rgb(90.196078%,81.176471%,0.784314%);stroke-opacity:1;stroke-miterlimit:10;\" d=\"M 120 -465.5 C 120 -458.597656 114.402344 -453 107.5 -453 C 100.597656 -453 95 -458.597656 95 -465.5 C 95 -472.402344 100.597656 -478 107.5 -478 C 114.402344 -478 120 -472.402344 120 -465.5 \" transform=\"matrix(1,0,0,1,4,506)\"/>\n",
       "<g style=\"fill:rgb(0%,0%,0%);fill-opacity:1;\">\n",
       "  <use xlink:href=\"#glyph0-5\" x=\"102.5\" y=\"43.300781\"/>\n",
       "  <use xlink:href=\"#glyph0-2\" x=\"109.25\" y=\"43.300781\"/>\n",
       "  <use xlink:href=\"#glyph0-1\" x=\"113\" y=\"43.300781\"/>\n",
       "</g>\n",
       "<path style=\"fill:none;stroke-width:1;stroke-linecap:butt;stroke-linejoin:miter;stroke:rgb(74.901961%,74.901961%,74.901961%);stroke-opacity:1;stroke-miterlimit:10;\" d=\"M 119.296875 -460.398438 C 134.152344 -453.378906 161.164062 -440.617188 179.703125 -431.855469 \" transform=\"matrix(1,0,0,1,4,506)\"/>\n",
       "<path style=\"fill-rule:nonzero;fill:rgb(74.901961%,74.901961%,74.901961%);fill-opacity:1;stroke-width:1;stroke-linecap:butt;stroke-linejoin:miter;stroke:rgb(74.901961%,74.901961%,74.901961%);stroke-opacity:1;stroke-miterlimit:10;\" d=\"M 181.453125 -434.898438 L 189 -427.460938 L 178.460938 -428.570312 Z M 181.453125 -434.898438 \" transform=\"matrix(1,0,0,1,4,506)\"/>\n",
       "<g style=\"fill:rgb(0%,0%,0%);fill-opacity:1;\">\n",
       "  <use xlink:href=\"#glyph1-12\" x=\"142\" y=\"52.699219\"/>\n",
       "  <use xlink:href=\"#glyph1-6\" x=\"148\" y=\"52.699219\"/>\n",
       "  <use xlink:href=\"#glyph1-7\" x=\"151\" y=\"52.699219\"/>\n",
       "  <use xlink:href=\"#glyph1-8\" x=\"157\" y=\"52.699219\"/>\n",
       "  <use xlink:href=\"#glyph1-9\" x=\"160\" y=\"52.699219\"/>\n",
       "  <use xlink:href=\"#glyph1-13\" x=\"163.75\" y=\"52.699219\"/>\n",
       "  <use xlink:href=\"#glyph1-10\" x=\"169.75\" y=\"52.699219\"/>\n",
       "</g>\n",
       "<path style=\"fill-rule:nonzero;fill:rgb(99.215686%,90.588235%,14.509804%);fill-opacity:1;stroke-width:4;stroke-linecap:butt;stroke-linejoin:miter;stroke:rgb(90.196078%,81.176471%,0.784314%);stroke-opacity:1;stroke-miterlimit:10;\" d=\"M 120 -422.5 C 120 -415.597656 114.402344 -410 107.5 -410 C 100.597656 -410 95 -415.597656 95 -422.5 C 95 -429.402344 100.597656 -435 107.5 -435 C 114.402344 -435 120 -429.402344 120 -422.5 \" transform=\"matrix(1,0,0,1,4,506)\"/>\n",
       "<g style=\"fill:rgb(0%,0%,0%);fill-opacity:1;\">\n",
       "  <use xlink:href=\"#glyph0-5\" x=\"102.5\" y=\"86.300781\"/>\n",
       "  <use xlink:href=\"#glyph0-2\" x=\"109.25\" y=\"86.300781\"/>\n",
       "  <use xlink:href=\"#glyph0-3\" x=\"113\" y=\"86.300781\"/>\n",
       "</g>\n",
       "<path style=\"fill:none;stroke-width:1;stroke-linecap:butt;stroke-linejoin:miter;stroke:rgb(74.901961%,74.901961%,74.901961%);stroke-opacity:1;stroke-miterlimit:10;\" d=\"M 120.023438 -422.5 C 134.441406 -422.5 159.429688 -422.5 177.546875 -422.5 \" transform=\"matrix(1,0,0,1,4,506)\"/>\n",
       "<path style=\"fill-rule:nonzero;fill:rgb(74.901961%,74.901961%,74.901961%);fill-opacity:1;stroke-width:1;stroke-linecap:butt;stroke-linejoin:miter;stroke:rgb(74.901961%,74.901961%,74.901961%);stroke-opacity:1;stroke-miterlimit:10;\" d=\"M 177.78125 -426 L 187.78125 -422.5 L 177.78125 -419 Z M 177.78125 -426 \" transform=\"matrix(1,0,0,1,4,506)\"/>\n",
       "<g style=\"fill:rgb(0%,0%,0%);fill-opacity:1;\">\n",
       "  <use xlink:href=\"#glyph1-12\" x=\"142\" y=\"80.699219\"/>\n",
       "  <use xlink:href=\"#glyph1-6\" x=\"148\" y=\"80.699219\"/>\n",
       "  <use xlink:href=\"#glyph1-5\" x=\"151\" y=\"80.699219\"/>\n",
       "  <use xlink:href=\"#glyph1-8\" x=\"157\" y=\"80.699219\"/>\n",
       "  <use xlink:href=\"#glyph1-9\" x=\"160\" y=\"80.699219\"/>\n",
       "  <use xlink:href=\"#glyph1-13\" x=\"163.75\" y=\"80.699219\"/>\n",
       "  <use xlink:href=\"#glyph1-10\" x=\"169.75\" y=\"80.699219\"/>\n",
       "</g>\n",
       "<path style=\"fill-rule:nonzero;fill:rgb(99.215686%,90.588235%,14.509804%);fill-opacity:1;stroke-width:4;stroke-linecap:butt;stroke-linejoin:miter;stroke:rgb(90.196078%,81.176471%,0.784314%);stroke-opacity:1;stroke-miterlimit:10;\" d=\"M 120 -343.5 C 120 -336.597656 114.402344 -331 107.5 -331 C 100.597656 -331 95 -336.597656 95 -343.5 C 95 -350.402344 100.597656 -356 107.5 -356 C 114.402344 -356 120 -350.402344 120 -343.5 \" transform=\"matrix(1,0,0,1,4,506)\"/>\n",
       "<g style=\"fill:rgb(0%,0%,0%);fill-opacity:1;\">\n",
       "  <use xlink:href=\"#glyph0-5\" x=\"102.5\" y=\"165.300781\"/>\n",
       "  <use xlink:href=\"#glyph0-2\" x=\"109.25\" y=\"165.300781\"/>\n",
       "  <use xlink:href=\"#glyph0-4\" x=\"113\" y=\"165.300781\"/>\n",
       "</g>\n",
       "<path style=\"fill:none;stroke-width:1;stroke-linecap:butt;stroke-linejoin:miter;stroke:rgb(74.901961%,74.901961%,74.901961%);stroke-opacity:1;stroke-miterlimit:10;\" d=\"M 120.023438 -343.5 C 134.441406 -343.5 159.429688 -343.5 177.546875 -343.5 \" transform=\"matrix(1,0,0,1,4,506)\"/>\n",
       "<path style=\"fill-rule:nonzero;fill:rgb(74.901961%,74.901961%,74.901961%);fill-opacity:1;stroke-width:1;stroke-linecap:butt;stroke-linejoin:miter;stroke:rgb(74.901961%,74.901961%,74.901961%);stroke-opacity:1;stroke-miterlimit:10;\" d=\"M 177.78125 -347 L 187.78125 -343.5 L 177.78125 -340 Z M 177.78125 -347 \" transform=\"matrix(1,0,0,1,4,506)\"/>\n",
       "<g style=\"fill:rgb(0%,0%,0%);fill-opacity:1;\">\n",
       "  <use xlink:href=\"#glyph1-12\" x=\"142\" y=\"159.699219\"/>\n",
       "  <use xlink:href=\"#glyph1-6\" x=\"148\" y=\"159.699219\"/>\n",
       "  <use xlink:href=\"#glyph1-11\" x=\"151\" y=\"159.699219\"/>\n",
       "  <use xlink:href=\"#glyph1-8\" x=\"157\" y=\"159.699219\"/>\n",
       "  <use xlink:href=\"#glyph1-9\" x=\"160\" y=\"159.699219\"/>\n",
       "  <use xlink:href=\"#glyph1-13\" x=\"163.75\" y=\"159.699219\"/>\n",
       "  <use xlink:href=\"#glyph1-10\" x=\"169.75\" y=\"159.699219\"/>\n",
       "</g>\n",
       "<path style=\"fill-rule:nonzero;fill:rgb(99.215686%,90.588235%,14.509804%);fill-opacity:1;stroke-width:4;stroke-linecap:butt;stroke-linejoin:miter;stroke:rgb(90.196078%,81.176471%,0.784314%);stroke-opacity:1;stroke-miterlimit:10;\" d=\"M 120 -300.5 C 120 -293.597656 114.402344 -288 107.5 -288 C 100.597656 -288 95 -293.597656 95 -300.5 C 95 -307.402344 100.597656 -313 107.5 -313 C 114.402344 -313 120 -307.402344 120 -300.5 \" transform=\"matrix(1,0,0,1,4,506)\"/>\n",
       "<g style=\"fill:rgb(0%,0%,0%);fill-opacity:1;\">\n",
       "  <use xlink:href=\"#glyph0-5\" x=\"102.5\" y=\"208.300781\"/>\n",
       "  <use xlink:href=\"#glyph0-2\" x=\"109.25\" y=\"208.300781\"/>\n",
       "  <use xlink:href=\"#glyph0-5\" x=\"113\" y=\"208.300781\"/>\n",
       "</g>\n",
       "<path style=\"fill:none;stroke-width:1;stroke-linecap:butt;stroke-linejoin:miter;stroke:rgb(74.901961%,74.901961%,74.901961%);stroke-opacity:1;stroke-miterlimit:10;\" d=\"M 119.296875 -305.601562 C 134.152344 -312.621094 161.164062 -325.382812 179.703125 -334.144531 \" transform=\"matrix(1,0,0,1,4,506)\"/>\n",
       "<path style=\"fill-rule:nonzero;fill:rgb(74.901961%,74.901961%,74.901961%);fill-opacity:1;stroke-width:1;stroke-linecap:butt;stroke-linejoin:miter;stroke:rgb(74.901961%,74.901961%,74.901961%);stroke-opacity:1;stroke-miterlimit:10;\" d=\"M 178.460938 -337.429688 L 189 -338.539062 L 181.453125 -331.101562 Z M 178.460938 -337.429688 \" transform=\"matrix(1,0,0,1,4,506)\"/>\n",
       "<g style=\"fill:rgb(0%,0%,0%);fill-opacity:1;\">\n",
       "  <use xlink:href=\"#glyph1-12\" x=\"142\" y=\"173.699219\"/>\n",
       "  <use xlink:href=\"#glyph1-6\" x=\"148\" y=\"173.699219\"/>\n",
       "  <use xlink:href=\"#glyph1-12\" x=\"151\" y=\"173.699219\"/>\n",
       "  <use xlink:href=\"#glyph1-8\" x=\"157\" y=\"173.699219\"/>\n",
       "  <use xlink:href=\"#glyph1-9\" x=\"160\" y=\"173.699219\"/>\n",
       "  <use xlink:href=\"#glyph1-13\" x=\"163.75\" y=\"173.699219\"/>\n",
       "  <use xlink:href=\"#glyph1-10\" x=\"169.75\" y=\"173.699219\"/>\n",
       "</g>\n",
       "<path style=\"fill-rule:nonzero;fill:rgb(99.215686%,90.588235%,14.509804%);fill-opacity:1;stroke-width:4;stroke-linecap:butt;stroke-linejoin:miter;stroke:rgb(90.196078%,81.176471%,0.784314%);stroke-opacity:1;stroke-miterlimit:10;\" d=\"M 120 -201.5 C 120 -194.597656 114.402344 -189 107.5 -189 C 100.597656 -189 95 -194.597656 95 -201.5 C 95 -208.402344 100.597656 -214 107.5 -214 C 114.402344 -214 120 -208.402344 120 -201.5 \" transform=\"matrix(1,0,0,1,4,506)\"/>\n",
       "<g style=\"fill:rgb(0%,0%,0%);fill-opacity:1;\">\n",
       "  <use xlink:href=\"#glyph0-5\" x=\"102.5\" y=\"307.300781\"/>\n",
       "  <use xlink:href=\"#glyph0-2\" x=\"109.25\" y=\"307.300781\"/>\n",
       "  <use xlink:href=\"#glyph0-6\" x=\"113\" y=\"307.300781\"/>\n",
       "</g>\n",
       "<path style=\"fill:none;stroke-width:1;stroke-linecap:butt;stroke-linejoin:miter;stroke:rgb(74.901961%,74.901961%,74.901961%);stroke-opacity:1;stroke-miterlimit:10;\" d=\"M 119.296875 -196.398438 C 134.152344 -189.378906 161.164062 -176.617188 179.703125 -167.855469 \" transform=\"matrix(1,0,0,1,4,506)\"/>\n",
       "<path style=\"fill-rule:nonzero;fill:rgb(74.901961%,74.901961%,74.901961%);fill-opacity:1;stroke-width:1;stroke-linecap:butt;stroke-linejoin:miter;stroke:rgb(74.901961%,74.901961%,74.901961%);stroke-opacity:1;stroke-miterlimit:10;\" d=\"M 181.453125 -170.898438 L 189 -163.460938 L 178.460938 -164.570312 Z M 181.453125 -170.898438 \" transform=\"matrix(1,0,0,1,4,506)\"/>\n",
       "<g style=\"fill:rgb(0%,0%,0%);fill-opacity:1;\">\n",
       "  <use xlink:href=\"#glyph1-12\" x=\"142\" y=\"316.699219\"/>\n",
       "  <use xlink:href=\"#glyph1-6\" x=\"148\" y=\"316.699219\"/>\n",
       "  <use xlink:href=\"#glyph1-13\" x=\"151\" y=\"316.699219\"/>\n",
       "  <use xlink:href=\"#glyph1-8\" x=\"157\" y=\"316.699219\"/>\n",
       "  <use xlink:href=\"#glyph1-9\" x=\"160\" y=\"316.699219\"/>\n",
       "  <use xlink:href=\"#glyph1-13\" x=\"163.75\" y=\"316.699219\"/>\n",
       "  <use xlink:href=\"#glyph1-10\" x=\"169.75\" y=\"316.699219\"/>\n",
       "</g>\n",
       "<path style=\"fill-rule:nonzero;fill:rgb(99.215686%,90.588235%,14.509804%);fill-opacity:1;stroke-width:4;stroke-linecap:butt;stroke-linejoin:miter;stroke:rgb(90.196078%,81.176471%,0.784314%);stroke-opacity:1;stroke-miterlimit:10;\" d=\"M 120 -158.5 C 120 -151.597656 114.402344 -146 107.5 -146 C 100.597656 -146 95 -151.597656 95 -158.5 C 95 -165.402344 100.597656 -171 107.5 -171 C 114.402344 -171 120 -165.402344 120 -158.5 \" transform=\"matrix(1,0,0,1,4,506)\"/>\n",
       "<g style=\"fill:rgb(0%,0%,0%);fill-opacity:1;\">\n",
       "  <use xlink:href=\"#glyph0-5\" x=\"102.5\" y=\"350.300781\"/>\n",
       "  <use xlink:href=\"#glyph0-2\" x=\"109.25\" y=\"350.300781\"/>\n",
       "  <use xlink:href=\"#glyph0-7\" x=\"113\" y=\"350.300781\"/>\n",
       "</g>\n",
       "<path style=\"fill:none;stroke-width:1;stroke-linecap:butt;stroke-linejoin:miter;stroke:rgb(74.901961%,74.901961%,74.901961%);stroke-opacity:1;stroke-miterlimit:10;\" d=\"M 120.023438 -158.5 C 134.441406 -158.5 159.429688 -158.5 177.546875 -158.5 \" transform=\"matrix(1,0,0,1,4,506)\"/>\n",
       "<path style=\"fill-rule:nonzero;fill:rgb(74.901961%,74.901961%,74.901961%);fill-opacity:1;stroke-width:1;stroke-linecap:butt;stroke-linejoin:miter;stroke:rgb(74.901961%,74.901961%,74.901961%);stroke-opacity:1;stroke-miterlimit:10;\" d=\"M 177.78125 -162 L 187.78125 -158.5 L 177.78125 -155 Z M 177.78125 -162 \" transform=\"matrix(1,0,0,1,4,506)\"/>\n",
       "<g style=\"fill:rgb(0%,0%,0%);fill-opacity:1;\">\n",
       "  <use xlink:href=\"#glyph1-12\" x=\"142\" y=\"344.699219\"/>\n",
       "  <use xlink:href=\"#glyph1-6\" x=\"148\" y=\"344.699219\"/>\n",
       "  <use xlink:href=\"#glyph1-14\" x=\"151\" y=\"344.699219\"/>\n",
       "  <use xlink:href=\"#glyph1-8\" x=\"157\" y=\"344.699219\"/>\n",
       "  <use xlink:href=\"#glyph1-9\" x=\"160\" y=\"344.699219\"/>\n",
       "  <use xlink:href=\"#glyph1-13\" x=\"163.75\" y=\"344.699219\"/>\n",
       "  <use xlink:href=\"#glyph1-10\" x=\"169.75\" y=\"344.699219\"/>\n",
       "</g>\n",
       "<path style=\"fill-rule:nonzero;fill:rgb(99.215686%,90.588235%,14.509804%);fill-opacity:1;stroke-width:4;stroke-linecap:butt;stroke-linejoin:miter;stroke:rgb(90.196078%,81.176471%,0.784314%);stroke-opacity:1;stroke-miterlimit:10;\" d=\"M 120 -79.5 C 120 -72.597656 114.402344 -67 107.5 -67 C 100.597656 -67 95 -72.597656 95 -79.5 C 95 -86.402344 100.597656 -92 107.5 -92 C 114.402344 -92 120 -86.402344 120 -79.5 \" transform=\"matrix(1,0,0,1,4,506)\"/>\n",
       "<g style=\"fill:rgb(0%,0%,0%);fill-opacity:1;\">\n",
       "  <use xlink:href=\"#glyph0-5\" x=\"102.5\" y=\"429.300781\"/>\n",
       "  <use xlink:href=\"#glyph0-2\" x=\"109.25\" y=\"429.300781\"/>\n",
       "  <use xlink:href=\"#glyph0-8\" x=\"113\" y=\"429.300781\"/>\n",
       "</g>\n",
       "<path style=\"fill:none;stroke-width:1;stroke-linecap:butt;stroke-linejoin:miter;stroke:rgb(74.901961%,74.901961%,74.901961%);stroke-opacity:1;stroke-miterlimit:10;\" d=\"M 120.023438 -79.5 C 134.441406 -79.5 159.429688 -79.5 177.546875 -79.5 \" transform=\"matrix(1,0,0,1,4,506)\"/>\n",
       "<path style=\"fill-rule:nonzero;fill:rgb(74.901961%,74.901961%,74.901961%);fill-opacity:1;stroke-width:1;stroke-linecap:butt;stroke-linejoin:miter;stroke:rgb(74.901961%,74.901961%,74.901961%);stroke-opacity:1;stroke-miterlimit:10;\" d=\"M 177.78125 -83 L 187.78125 -79.5 L 177.78125 -76 Z M 177.78125 -83 \" transform=\"matrix(1,0,0,1,4,506)\"/>\n",
       "<g style=\"fill:rgb(0%,0%,0%);fill-opacity:1;\">\n",
       "  <use xlink:href=\"#glyph1-12\" x=\"142\" y=\"423.699219\"/>\n",
       "  <use xlink:href=\"#glyph1-6\" x=\"148\" y=\"423.699219\"/>\n",
       "  <use xlink:href=\"#glyph1-15\" x=\"151\" y=\"423.699219\"/>\n",
       "  <use xlink:href=\"#glyph1-8\" x=\"157\" y=\"423.699219\"/>\n",
       "  <use xlink:href=\"#glyph1-9\" x=\"160\" y=\"423.699219\"/>\n",
       "  <use xlink:href=\"#glyph1-13\" x=\"163.75\" y=\"423.699219\"/>\n",
       "  <use xlink:href=\"#glyph1-10\" x=\"169.75\" y=\"423.699219\"/>\n",
       "</g>\n",
       "<path style=\"fill-rule:nonzero;fill:rgb(99.215686%,90.588235%,14.509804%);fill-opacity:1;stroke-width:4;stroke-linecap:butt;stroke-linejoin:miter;stroke:rgb(90.196078%,81.176471%,0.784314%);stroke-opacity:1;stroke-miterlimit:10;\" d=\"M 120 -36.5 C 120 -29.597656 114.402344 -24 107.5 -24 C 100.597656 -24 95 -29.597656 95 -36.5 C 95 -43.402344 100.597656 -49 107.5 -49 C 114.402344 -49 120 -43.402344 120 -36.5 \" transform=\"matrix(1,0,0,1,4,506)\"/>\n",
       "<g style=\"fill:rgb(0%,0%,0%);fill-opacity:1;\">\n",
       "  <use xlink:href=\"#glyph0-5\" x=\"102.5\" y=\"472.300781\"/>\n",
       "  <use xlink:href=\"#glyph0-2\" x=\"109.25\" y=\"472.300781\"/>\n",
       "  <use xlink:href=\"#glyph0-9\" x=\"113\" y=\"472.300781\"/>\n",
       "</g>\n",
       "<path style=\"fill:none;stroke-width:1;stroke-linecap:butt;stroke-linejoin:miter;stroke:rgb(74.901961%,74.901961%,74.901961%);stroke-opacity:1;stroke-miterlimit:10;\" d=\"M 119.296875 -41.601562 C 134.152344 -48.621094 161.164062 -61.382812 179.703125 -70.144531 \" transform=\"matrix(1,0,0,1,4,506)\"/>\n",
       "<path style=\"fill-rule:nonzero;fill:rgb(74.901961%,74.901961%,74.901961%);fill-opacity:1;stroke-width:1;stroke-linecap:butt;stroke-linejoin:miter;stroke:rgb(74.901961%,74.901961%,74.901961%);stroke-opacity:1;stroke-miterlimit:10;\" d=\"M 178.460938 -73.429688 L 189 -74.539062 L 181.453125 -67.101562 Z M 178.460938 -73.429688 \" transform=\"matrix(1,0,0,1,4,506)\"/>\n",
       "<g style=\"fill:rgb(0%,0%,0%);fill-opacity:1;\">\n",
       "  <use xlink:href=\"#glyph1-12\" x=\"142\" y=\"437.699219\"/>\n",
       "  <use xlink:href=\"#glyph1-6\" x=\"148\" y=\"437.699219\"/>\n",
       "  <use xlink:href=\"#glyph1-16\" x=\"151\" y=\"437.699219\"/>\n",
       "  <use xlink:href=\"#glyph1-8\" x=\"157\" y=\"437.699219\"/>\n",
       "  <use xlink:href=\"#glyph1-9\" x=\"160\" y=\"437.699219\"/>\n",
       "  <use xlink:href=\"#glyph1-13\" x=\"163.75\" y=\"437.699219\"/>\n",
       "  <use xlink:href=\"#glyph1-10\" x=\"169.75\" y=\"437.699219\"/>\n",
       "</g>\n",
       "<path style=\"fill:none;stroke-width:1;stroke-linecap:butt;stroke-linejoin:miter;stroke:rgb(74.901961%,74.901961%,74.901961%);stroke-opacity:1;stroke-miterlimit:10;\" d=\"M 7.019531 -497.683594 C 17.699219 -494.230469 59.828125 -480.597656 85.714844 -472.222656 \" transform=\"matrix(1,0,0,1,4,506)\"/>\n",
       "<path style=\"fill-rule:nonzero;fill:rgb(74.901961%,74.901961%,74.901961%);fill-opacity:1;stroke-width:1;stroke-linecap:butt;stroke-linejoin:miter;stroke:rgb(74.901961%,74.901961%,74.901961%);stroke-opacity:1;stroke-miterlimit:10;\" d=\"M 86.929688 -475.511719 L 95.367188 -469.101562 L 84.773438 -468.851562 Z M 86.929688 -475.511719 \" transform=\"matrix(1,0,0,1,4,506)\"/>\n",
       "<g style=\"fill:rgb(0%,0%,0%);fill-opacity:1;\">\n",
       "  <use xlink:href=\"#glyph1-17\" x=\"32\" y=\"11.699219\"/>\n",
       "  <use xlink:href=\"#glyph1-2\" x=\"38\" y=\"11.699219\"/>\n",
       "  <use xlink:href=\"#glyph1-18\" x=\"43.25\" y=\"11.699219\"/>\n",
       "  <use xlink:href=\"#glyph1-2\" x=\"47\" y=\"11.699219\"/>\n",
       "  <use xlink:href=\"#glyph1-6\" x=\"52.25\" y=\"11.699219\"/>\n",
       "  <use xlink:href=\"#glyph1-7\" x=\"55.25\" y=\"11.699219\"/>\n",
       "  <use xlink:href=\"#glyph1-8\" x=\"61.25\" y=\"11.699219\"/>\n",
       "  <use xlink:href=\"#glyph1-9\" x=\"64.25\" y=\"11.699219\"/>\n",
       "  <use xlink:href=\"#glyph1-11\" x=\"68\" y=\"11.699219\"/>\n",
       "  <use xlink:href=\"#glyph1-10\" x=\"74\" y=\"11.699219\"/>\n",
       "</g>\n",
       "<path style=\"fill:none;stroke-width:1;stroke-linecap:butt;stroke-linejoin:miter;stroke:rgb(74.901961%,74.901961%,74.901961%);stroke-opacity:1;stroke-miterlimit:10;\" d=\"M 7.019531 -465.5 C 17.542969 -465.5 58.613281 -465.5 84.578125 -465.5 \" transform=\"matrix(1,0,0,1,4,506)\"/>\n",
       "<path style=\"fill-rule:nonzero;fill:rgb(74.901961%,74.901961%,74.901961%);fill-opacity:1;stroke-width:1;stroke-linecap:butt;stroke-linejoin:miter;stroke:rgb(74.901961%,74.901961%,74.901961%);stroke-opacity:1;stroke-miterlimit:10;\" d=\"M 84.648438 -469 L 94.648438 -465.5 L 84.648438 -462 Z M 84.648438 -469 \" transform=\"matrix(1,0,0,1,4,506)\"/>\n",
       "<g style=\"fill:rgb(0%,0%,0%);fill-opacity:1;\">\n",
       "  <use xlink:href=\"#glyph1-17\" x=\"32\" y=\"37.699219\"/>\n",
       "  <use xlink:href=\"#glyph1-2\" x=\"38\" y=\"37.699219\"/>\n",
       "  <use xlink:href=\"#glyph1-18\" x=\"43.25\" y=\"37.699219\"/>\n",
       "  <use xlink:href=\"#glyph1-2\" x=\"47\" y=\"37.699219\"/>\n",
       "  <use xlink:href=\"#glyph1-6\" x=\"52.25\" y=\"37.699219\"/>\n",
       "  <use xlink:href=\"#glyph1-5\" x=\"55.25\" y=\"37.699219\"/>\n",
       "  <use xlink:href=\"#glyph1-8\" x=\"61.25\" y=\"37.699219\"/>\n",
       "  <use xlink:href=\"#glyph1-9\" x=\"64.25\" y=\"37.699219\"/>\n",
       "  <use xlink:href=\"#glyph1-11\" x=\"68\" y=\"37.699219\"/>\n",
       "  <use xlink:href=\"#glyph1-10\" x=\"74\" y=\"37.699219\"/>\n",
       "</g>\n",
       "<path style=\"fill:none;stroke-width:1;stroke-linecap:butt;stroke-linejoin:miter;stroke:rgb(74.901961%,74.901961%,74.901961%);stroke-opacity:1;stroke-miterlimit:10;\" d=\"M 7.019531 -432.253906 C 17.597656 -431.214844 59.035156 -427.152344 84.976562 -424.609375 \" transform=\"matrix(1,0,0,1,4,506)\"/>\n",
       "<path style=\"fill-rule:nonzero;fill:rgb(74.901961%,74.901961%,74.901961%);fill-opacity:1;stroke-width:1;stroke-linecap:butt;stroke-linejoin:miter;stroke:rgb(74.901961%,74.901961%,74.901961%);stroke-opacity:1;stroke-miterlimit:10;\" d=\"M 85.398438 -428.085938 L 95.011719 -423.625 L 84.714844 -421.117188 Z M 85.398438 -428.085938 \" transform=\"matrix(1,0,0,1,4,506)\"/>\n",
       "<g style=\"fill:rgb(0%,0%,0%);fill-opacity:1;\">\n",
       "  <use xlink:href=\"#glyph1-17\" x=\"32\" y=\"73.699219\"/>\n",
       "  <use xlink:href=\"#glyph1-2\" x=\"38\" y=\"73.699219\"/>\n",
       "  <use xlink:href=\"#glyph1-18\" x=\"43.25\" y=\"73.699219\"/>\n",
       "  <use xlink:href=\"#glyph1-2\" x=\"47\" y=\"73.699219\"/>\n",
       "  <use xlink:href=\"#glyph1-6\" x=\"52.25\" y=\"73.699219\"/>\n",
       "  <use xlink:href=\"#glyph1-11\" x=\"55.25\" y=\"73.699219\"/>\n",
       "  <use xlink:href=\"#glyph1-8\" x=\"61.25\" y=\"73.699219\"/>\n",
       "  <use xlink:href=\"#glyph1-9\" x=\"64.25\" y=\"73.699219\"/>\n",
       "  <use xlink:href=\"#glyph1-11\" x=\"68\" y=\"73.699219\"/>\n",
       "  <use xlink:href=\"#glyph1-10\" x=\"74\" y=\"73.699219\"/>\n",
       "</g>\n",
       "<path style=\"fill:none;stroke-width:1;stroke-linecap:butt;stroke-linejoin:miter;stroke:rgb(74.901961%,74.901961%,74.901961%);stroke-opacity:1;stroke-miterlimit:10;\" d=\"M 7.019531 -400.070312 C 17.597656 -402.453125 59.035156 -411.796875 84.976562 -417.644531 \" transform=\"matrix(1,0,0,1,4,506)\"/>\n",
       "<path style=\"fill-rule:nonzero;fill:rgb(74.901961%,74.901961%,74.901961%);fill-opacity:1;stroke-width:1;stroke-linecap:butt;stroke-linejoin:miter;stroke:rgb(74.901961%,74.901961%,74.901961%);stroke-opacity:1;stroke-miterlimit:10;\" d=\"M 84.484375 -421.125 L 95.011719 -419.910156 L 86.023438 -414.296875 Z M 84.484375 -421.125 \" transform=\"matrix(1,0,0,1,4,506)\"/>\n",
       "<g style=\"fill:rgb(0%,0%,0%);fill-opacity:1;\">\n",
       "  <use xlink:href=\"#glyph1-17\" x=\"32\" y=\"92.699219\"/>\n",
       "  <use xlink:href=\"#glyph1-2\" x=\"38\" y=\"92.699219\"/>\n",
       "  <use xlink:href=\"#glyph1-18\" x=\"43.25\" y=\"92.699219\"/>\n",
       "  <use xlink:href=\"#glyph1-2\" x=\"47\" y=\"92.699219\"/>\n",
       "  <use xlink:href=\"#glyph1-6\" x=\"52.25\" y=\"92.699219\"/>\n",
       "  <use xlink:href=\"#glyph1-12\" x=\"55.25\" y=\"92.699219\"/>\n",
       "  <use xlink:href=\"#glyph1-8\" x=\"61.25\" y=\"92.699219\"/>\n",
       "  <use xlink:href=\"#glyph1-9\" x=\"64.25\" y=\"92.699219\"/>\n",
       "  <use xlink:href=\"#glyph1-11\" x=\"68\" y=\"92.699219\"/>\n",
       "  <use xlink:href=\"#glyph1-10\" x=\"74\" y=\"92.699219\"/>\n",
       "</g>\n",
       "<path style=\"fill:none;stroke-width:1;stroke-linecap:butt;stroke-linejoin:miter;stroke:rgb(74.901961%,74.901961%,74.901961%);stroke-opacity:1;stroke-miterlimit:10;\" d=\"M 7.019531 -365.929688 C 17.597656 -363.546875 59.035156 -354.203125 84.976562 -348.355469 \" transform=\"matrix(1,0,0,1,4,506)\"/>\n",
       "<path style=\"fill-rule:nonzero;fill:rgb(74.901961%,74.901961%,74.901961%);fill-opacity:1;stroke-width:1;stroke-linecap:butt;stroke-linejoin:miter;stroke:rgb(74.901961%,74.901961%,74.901961%);stroke-opacity:1;stroke-miterlimit:10;\" d=\"M 86.023438 -351.703125 L 95.011719 -346.089844 L 84.484375 -344.875 Z M 86.023438 -351.703125 \" transform=\"matrix(1,0,0,1,4,506)\"/>\n",
       "<g style=\"fill:rgb(0%,0%,0%);fill-opacity:1;\">\n",
       "  <use xlink:href=\"#glyph1-17\" x=\"32\" y=\"141.699219\"/>\n",
       "  <use xlink:href=\"#glyph1-2\" x=\"38\" y=\"141.699219\"/>\n",
       "  <use xlink:href=\"#glyph1-18\" x=\"43.25\" y=\"141.699219\"/>\n",
       "  <use xlink:href=\"#glyph1-2\" x=\"47\" y=\"141.699219\"/>\n",
       "  <use xlink:href=\"#glyph1-6\" x=\"52.25\" y=\"141.699219\"/>\n",
       "  <use xlink:href=\"#glyph1-13\" x=\"55.25\" y=\"141.699219\"/>\n",
       "  <use xlink:href=\"#glyph1-8\" x=\"61.25\" y=\"141.699219\"/>\n",
       "  <use xlink:href=\"#glyph1-9\" x=\"64.25\" y=\"141.699219\"/>\n",
       "  <use xlink:href=\"#glyph1-11\" x=\"68\" y=\"141.699219\"/>\n",
       "  <use xlink:href=\"#glyph1-10\" x=\"74\" y=\"141.699219\"/>\n",
       "</g>\n",
       "<path style=\"fill:none;stroke-width:1;stroke-linecap:butt;stroke-linejoin:miter;stroke:rgb(74.901961%,74.901961%,74.901961%);stroke-opacity:1;stroke-miterlimit:10;\" d=\"M 7.019531 -333.746094 C 17.597656 -334.785156 59.035156 -338.847656 84.976562 -341.390625 \" transform=\"matrix(1,0,0,1,4,506)\"/>\n",
       "<path style=\"fill-rule:nonzero;fill:rgb(74.901961%,74.901961%,74.901961%);fill-opacity:1;stroke-width:1;stroke-linecap:butt;stroke-linejoin:miter;stroke:rgb(74.901961%,74.901961%,74.901961%);stroke-opacity:1;stroke-miterlimit:10;\" d=\"M 84.714844 -344.882812 L 95.011719 -342.375 L 85.398438 -337.914062 Z M 84.714844 -344.882812 \" transform=\"matrix(1,0,0,1,4,506)\"/>\n",
       "<g style=\"fill:rgb(0%,0%,0%);fill-opacity:1;\">\n",
       "  <use xlink:href=\"#glyph1-17\" x=\"32\" y=\"168.699219\"/>\n",
       "  <use xlink:href=\"#glyph1-2\" x=\"38\" y=\"168.699219\"/>\n",
       "  <use xlink:href=\"#glyph1-18\" x=\"43.25\" y=\"168.699219\"/>\n",
       "  <use xlink:href=\"#glyph1-2\" x=\"47\" y=\"168.699219\"/>\n",
       "  <use xlink:href=\"#glyph1-6\" x=\"52.25\" y=\"168.699219\"/>\n",
       "  <use xlink:href=\"#glyph1-14\" x=\"55.25\" y=\"168.699219\"/>\n",
       "  <use xlink:href=\"#glyph1-8\" x=\"61.25\" y=\"168.699219\"/>\n",
       "  <use xlink:href=\"#glyph1-9\" x=\"64.25\" y=\"168.699219\"/>\n",
       "  <use xlink:href=\"#glyph1-11\" x=\"68\" y=\"168.699219\"/>\n",
       "  <use xlink:href=\"#glyph1-10\" x=\"74\" y=\"168.699219\"/>\n",
       "</g>\n",
       "<path style=\"fill:none;stroke-width:1;stroke-linecap:butt;stroke-linejoin:miter;stroke:rgb(74.901961%,74.901961%,74.901961%);stroke-opacity:1;stroke-miterlimit:10;\" d=\"M 7.019531 -300.5 C 17.542969 -300.5 58.613281 -300.5 84.578125 -300.5 \" transform=\"matrix(1,0,0,1,4,506)\"/>\n",
       "<path style=\"fill-rule:nonzero;fill:rgb(74.901961%,74.901961%,74.901961%);fill-opacity:1;stroke-width:1;stroke-linecap:butt;stroke-linejoin:miter;stroke:rgb(74.901961%,74.901961%,74.901961%);stroke-opacity:1;stroke-miterlimit:10;\" d=\"M 84.648438 -304 L 94.648438 -300.5 L 84.648438 -297 Z M 84.648438 -304 \" transform=\"matrix(1,0,0,1,4,506)\"/>\n",
       "<g style=\"fill:rgb(0%,0%,0%);fill-opacity:1;\">\n",
       "  <use xlink:href=\"#glyph1-17\" x=\"32\" y=\"202.699219\"/>\n",
       "  <use xlink:href=\"#glyph1-2\" x=\"38\" y=\"202.699219\"/>\n",
       "  <use xlink:href=\"#glyph1-18\" x=\"43.25\" y=\"202.699219\"/>\n",
       "  <use xlink:href=\"#glyph1-2\" x=\"47\" y=\"202.699219\"/>\n",
       "  <use xlink:href=\"#glyph1-6\" x=\"52.25\" y=\"202.699219\"/>\n",
       "  <use xlink:href=\"#glyph1-15\" x=\"55.25\" y=\"202.699219\"/>\n",
       "  <use xlink:href=\"#glyph1-8\" x=\"61.25\" y=\"202.699219\"/>\n",
       "  <use xlink:href=\"#glyph1-9\" x=\"64.25\" y=\"202.699219\"/>\n",
       "  <use xlink:href=\"#glyph1-11\" x=\"68\" y=\"202.699219\"/>\n",
       "  <use xlink:href=\"#glyph1-10\" x=\"74\" y=\"202.699219\"/>\n",
       "</g>\n",
       "<path style=\"fill:none;stroke-width:1;stroke-linecap:butt;stroke-linejoin:miter;stroke:rgb(74.901961%,74.901961%,74.901961%);stroke-opacity:1;stroke-miterlimit:10;\" d=\"M 7.019531 -268.316406 C 17.699219 -271.769531 59.828125 -285.402344 85.714844 -293.777344 \" transform=\"matrix(1,0,0,1,4,506)\"/>\n",
       "<path style=\"fill-rule:nonzero;fill:rgb(74.901961%,74.901961%,74.901961%);fill-opacity:1;stroke-width:1;stroke-linecap:butt;stroke-linejoin:miter;stroke:rgb(74.901961%,74.901961%,74.901961%);stroke-opacity:1;stroke-miterlimit:10;\" d=\"M 84.773438 -297.148438 L 95.367188 -296.898438 L 86.929688 -290.488281 Z M 84.773438 -297.148438 \" transform=\"matrix(1,0,0,1,4,506)\"/>\n",
       "<g style=\"fill:rgb(0%,0%,0%);fill-opacity:1;\">\n",
       "  <use xlink:href=\"#glyph1-17\" x=\"32\" y=\"216.699219\"/>\n",
       "  <use xlink:href=\"#glyph1-2\" x=\"38\" y=\"216.699219\"/>\n",
       "  <use xlink:href=\"#glyph1-18\" x=\"43.25\" y=\"216.699219\"/>\n",
       "  <use xlink:href=\"#glyph1-2\" x=\"47\" y=\"216.699219\"/>\n",
       "  <use xlink:href=\"#glyph1-6\" x=\"52.25\" y=\"216.699219\"/>\n",
       "  <use xlink:href=\"#glyph1-16\" x=\"55.25\" y=\"216.699219\"/>\n",
       "  <use xlink:href=\"#glyph1-8\" x=\"61.25\" y=\"216.699219\"/>\n",
       "  <use xlink:href=\"#glyph1-9\" x=\"64.25\" y=\"216.699219\"/>\n",
       "  <use xlink:href=\"#glyph1-11\" x=\"68\" y=\"216.699219\"/>\n",
       "  <use xlink:href=\"#glyph1-10\" x=\"74\" y=\"216.699219\"/>\n",
       "</g>\n",
       "<path style=\"fill:none;stroke-width:1;stroke-linecap:butt;stroke-linejoin:miter;stroke:rgb(74.901961%,74.901961%,74.901961%);stroke-opacity:1;stroke-miterlimit:10;\" d=\"M 7.019531 -233.683594 C 17.699219 -230.230469 59.828125 -216.597656 85.714844 -208.222656 \" transform=\"matrix(1,0,0,1,4,506)\"/>\n",
       "<path style=\"fill-rule:nonzero;fill:rgb(74.901961%,74.901961%,74.901961%);fill-opacity:1;stroke-width:1;stroke-linecap:butt;stroke-linejoin:miter;stroke:rgb(74.901961%,74.901961%,74.901961%);stroke-opacity:1;stroke-miterlimit:10;\" d=\"M 86.929688 -211.511719 L 95.367188 -205.101562 L 84.773438 -204.851562 Z M 86.929688 -211.511719 \" transform=\"matrix(1,0,0,1,4,506)\"/>\n",
       "<g style=\"fill:rgb(0%,0%,0%);fill-opacity:1;\">\n",
       "  <use xlink:href=\"#glyph1-17\" x=\"32\" y=\"275.699219\"/>\n",
       "  <use xlink:href=\"#glyph1-2\" x=\"38\" y=\"275.699219\"/>\n",
       "  <use xlink:href=\"#glyph1-18\" x=\"43.25\" y=\"275.699219\"/>\n",
       "  <use xlink:href=\"#glyph1-2\" x=\"47\" y=\"275.699219\"/>\n",
       "  <use xlink:href=\"#glyph1-6\" x=\"52.25\" y=\"275.699219\"/>\n",
       "  <use xlink:href=\"#glyph1-19\" x=\"55.25\" y=\"275.699219\"/>\n",
       "  <use xlink:href=\"#glyph1-8\" x=\"61.25\" y=\"275.699219\"/>\n",
       "  <use xlink:href=\"#glyph1-9\" x=\"64.25\" y=\"275.699219\"/>\n",
       "  <use xlink:href=\"#glyph1-11\" x=\"68\" y=\"275.699219\"/>\n",
       "  <use xlink:href=\"#glyph1-10\" x=\"74\" y=\"275.699219\"/>\n",
       "</g>\n",
       "<path style=\"fill:none;stroke-width:1;stroke-linecap:butt;stroke-linejoin:miter;stroke:rgb(74.901961%,74.901961%,74.901961%);stroke-opacity:1;stroke-miterlimit:10;\" d=\"M 7.019531 -201.5 C 17.542969 -201.5 58.613281 -201.5 84.578125 -201.5 \" transform=\"matrix(1,0,0,1,4,506)\"/>\n",
       "<path style=\"fill-rule:nonzero;fill:rgb(74.901961%,74.901961%,74.901961%);fill-opacity:1;stroke-width:1;stroke-linecap:butt;stroke-linejoin:miter;stroke:rgb(74.901961%,74.901961%,74.901961%);stroke-opacity:1;stroke-miterlimit:10;\" d=\"M 84.648438 -205 L 94.648438 -201.5 L 84.648438 -198 Z M 84.648438 -205 \" transform=\"matrix(1,0,0,1,4,506)\"/>\n",
       "<g style=\"fill:rgb(0%,0%,0%);fill-opacity:1;\">\n",
       "  <use xlink:href=\"#glyph1-17\" x=\"32\" y=\"301.699219\"/>\n",
       "  <use xlink:href=\"#glyph1-2\" x=\"38\" y=\"301.699219\"/>\n",
       "  <use xlink:href=\"#glyph1-18\" x=\"43.25\" y=\"301.699219\"/>\n",
       "  <use xlink:href=\"#glyph1-2\" x=\"47\" y=\"301.699219\"/>\n",
       "  <use xlink:href=\"#glyph1-6\" x=\"52.25\" y=\"301.699219\"/>\n",
       "  <use xlink:href=\"#glyph1-20\" x=\"55.25\" y=\"301.699219\"/>\n",
       "  <use xlink:href=\"#glyph1-8\" x=\"61.25\" y=\"301.699219\"/>\n",
       "  <use xlink:href=\"#glyph1-9\" x=\"64.25\" y=\"301.699219\"/>\n",
       "  <use xlink:href=\"#glyph1-11\" x=\"68\" y=\"301.699219\"/>\n",
       "  <use xlink:href=\"#glyph1-10\" x=\"74\" y=\"301.699219\"/>\n",
       "</g>\n",
       "<path style=\"fill:none;stroke-width:1;stroke-linecap:butt;stroke-linejoin:miter;stroke:rgb(74.901961%,74.901961%,74.901961%);stroke-opacity:1;stroke-miterlimit:10;\" d=\"M 7.019531 -168.253906 C 17.597656 -167.214844 59.035156 -163.152344 84.976562 -160.609375 \" transform=\"matrix(1,0,0,1,4,506)\"/>\n",
       "<path style=\"fill-rule:nonzero;fill:rgb(74.901961%,74.901961%,74.901961%);fill-opacity:1;stroke-width:1;stroke-linecap:butt;stroke-linejoin:miter;stroke:rgb(74.901961%,74.901961%,74.901961%);stroke-opacity:1;stroke-miterlimit:10;\" d=\"M 85.398438 -164.085938 L 95.011719 -159.625 L 84.714844 -157.117188 Z M 85.398438 -164.085938 \" transform=\"matrix(1,0,0,1,4,506)\"/>\n",
       "<g style=\"fill:rgb(0%,0%,0%);fill-opacity:1;\">\n",
       "  <use xlink:href=\"#glyph1-17\" x=\"29\" y=\"337.699219\"/>\n",
       "  <use xlink:href=\"#glyph1-2\" x=\"35\" y=\"337.699219\"/>\n",
       "  <use xlink:href=\"#glyph1-18\" x=\"40.25\" y=\"337.699219\"/>\n",
       "  <use xlink:href=\"#glyph1-2\" x=\"44\" y=\"337.699219\"/>\n",
       "  <use xlink:href=\"#glyph1-6\" x=\"49.25\" y=\"337.699219\"/>\n",
       "  <use xlink:href=\"#glyph1-5\" x=\"52.25\" y=\"337.699219\"/>\n",
       "  <use xlink:href=\"#glyph1-7\" x=\"58.25\" y=\"337.699219\"/>\n",
       "  <use xlink:href=\"#glyph1-8\" x=\"64.25\" y=\"337.699219\"/>\n",
       "  <use xlink:href=\"#glyph1-9\" x=\"67.25\" y=\"337.699219\"/>\n",
       "  <use xlink:href=\"#glyph1-11\" x=\"71\" y=\"337.699219\"/>\n",
       "  <use xlink:href=\"#glyph1-10\" x=\"77\" y=\"337.699219\"/>\n",
       "</g>\n",
       "<path style=\"fill:none;stroke-width:1;stroke-linecap:butt;stroke-linejoin:miter;stroke:rgb(74.901961%,74.901961%,74.901961%);stroke-opacity:1;stroke-miterlimit:10;\" d=\"M 7.019531 -136.070312 C 17.597656 -138.453125 59.035156 -147.796875 84.976562 -153.644531 \" transform=\"matrix(1,0,0,1,4,506)\"/>\n",
       "<path style=\"fill-rule:nonzero;fill:rgb(74.901961%,74.901961%,74.901961%);fill-opacity:1;stroke-width:1;stroke-linecap:butt;stroke-linejoin:miter;stroke:rgb(74.901961%,74.901961%,74.901961%);stroke-opacity:1;stroke-miterlimit:10;\" d=\"M 84.484375 -157.125 L 95.011719 -155.910156 L 86.023438 -150.296875 Z M 84.484375 -157.125 \" transform=\"matrix(1,0,0,1,4,506)\"/>\n",
       "<g style=\"fill:rgb(0%,0%,0%);fill-opacity:1;\">\n",
       "  <use xlink:href=\"#glyph1-17\" x=\"29\" y=\"356.699219\"/>\n",
       "  <use xlink:href=\"#glyph1-2\" x=\"35\" y=\"356.699219\"/>\n",
       "  <use xlink:href=\"#glyph1-18\" x=\"40.25\" y=\"356.699219\"/>\n",
       "  <use xlink:href=\"#glyph1-2\" x=\"44\" y=\"356.699219\"/>\n",
       "  <use xlink:href=\"#glyph1-6\" x=\"49.25\" y=\"356.699219\"/>\n",
       "  <use xlink:href=\"#glyph1-5\" x=\"52.25\" y=\"356.699219\"/>\n",
       "  <use xlink:href=\"#glyph1-5\" x=\"58.25\" y=\"356.699219\"/>\n",
       "  <use xlink:href=\"#glyph1-8\" x=\"64.25\" y=\"356.699219\"/>\n",
       "  <use xlink:href=\"#glyph1-9\" x=\"67.25\" y=\"356.699219\"/>\n",
       "  <use xlink:href=\"#glyph1-11\" x=\"71\" y=\"356.699219\"/>\n",
       "  <use xlink:href=\"#glyph1-10\" x=\"77\" y=\"356.699219\"/>\n",
       "</g>\n",
       "<path style=\"fill:none;stroke-width:1;stroke-linecap:butt;stroke-linejoin:miter;stroke:rgb(74.901961%,74.901961%,74.901961%);stroke-opacity:1;stroke-miterlimit:10;\" d=\"M 7.019531 -101.929688 C 17.597656 -99.546875 59.035156 -90.203125 84.976562 -84.355469 \" transform=\"matrix(1,0,0,1,4,506)\"/>\n",
       "<path style=\"fill-rule:nonzero;fill:rgb(74.901961%,74.901961%,74.901961%);fill-opacity:1;stroke-width:1;stroke-linecap:butt;stroke-linejoin:miter;stroke:rgb(74.901961%,74.901961%,74.901961%);stroke-opacity:1;stroke-miterlimit:10;\" d=\"M 86.023438 -87.703125 L 95.011719 -82.089844 L 84.484375 -80.875 Z M 86.023438 -87.703125 \" transform=\"matrix(1,0,0,1,4,506)\"/>\n",
       "<g style=\"fill:rgb(0%,0%,0%);fill-opacity:1;\">\n",
       "  <use xlink:href=\"#glyph1-17\" x=\"29\" y=\"405.699219\"/>\n",
       "  <use xlink:href=\"#glyph1-2\" x=\"35\" y=\"405.699219\"/>\n",
       "  <use xlink:href=\"#glyph1-18\" x=\"40.25\" y=\"405.699219\"/>\n",
       "  <use xlink:href=\"#glyph1-2\" x=\"44\" y=\"405.699219\"/>\n",
       "  <use xlink:href=\"#glyph1-6\" x=\"49.25\" y=\"405.699219\"/>\n",
       "  <use xlink:href=\"#glyph1-5\" x=\"52.25\" y=\"405.699219\"/>\n",
       "  <use xlink:href=\"#glyph1-11\" x=\"58.25\" y=\"405.699219\"/>\n",
       "  <use xlink:href=\"#glyph1-8\" x=\"64.25\" y=\"405.699219\"/>\n",
       "  <use xlink:href=\"#glyph1-9\" x=\"67.25\" y=\"405.699219\"/>\n",
       "  <use xlink:href=\"#glyph1-11\" x=\"71\" y=\"405.699219\"/>\n",
       "  <use xlink:href=\"#glyph1-10\" x=\"77\" y=\"405.699219\"/>\n",
       "</g>\n",
       "<path style=\"fill:none;stroke-width:1;stroke-linecap:butt;stroke-linejoin:miter;stroke:rgb(74.901961%,74.901961%,74.901961%);stroke-opacity:1;stroke-miterlimit:10;\" d=\"M 7.019531 -69.746094 C 17.597656 -70.785156 59.035156 -74.847656 84.976562 -77.390625 \" transform=\"matrix(1,0,0,1,4,506)\"/>\n",
       "<path style=\"fill-rule:nonzero;fill:rgb(74.901961%,74.901961%,74.901961%);fill-opacity:1;stroke-width:1;stroke-linecap:butt;stroke-linejoin:miter;stroke:rgb(74.901961%,74.901961%,74.901961%);stroke-opacity:1;stroke-miterlimit:10;\" d=\"M 84.714844 -80.882812 L 95.011719 -78.375 L 85.398438 -73.914062 Z M 84.714844 -80.882812 \" transform=\"matrix(1,0,0,1,4,506)\"/>\n",
       "<g style=\"fill:rgb(0%,0%,0%);fill-opacity:1;\">\n",
       "  <use xlink:href=\"#glyph1-17\" x=\"29\" y=\"432.699219\"/>\n",
       "  <use xlink:href=\"#glyph1-2\" x=\"35\" y=\"432.699219\"/>\n",
       "  <use xlink:href=\"#glyph1-18\" x=\"40.25\" y=\"432.699219\"/>\n",
       "  <use xlink:href=\"#glyph1-2\" x=\"44\" y=\"432.699219\"/>\n",
       "  <use xlink:href=\"#glyph1-6\" x=\"49.25\" y=\"432.699219\"/>\n",
       "  <use xlink:href=\"#glyph1-5\" x=\"52.25\" y=\"432.699219\"/>\n",
       "  <use xlink:href=\"#glyph1-12\" x=\"58.25\" y=\"432.699219\"/>\n",
       "  <use xlink:href=\"#glyph1-8\" x=\"64.25\" y=\"432.699219\"/>\n",
       "  <use xlink:href=\"#glyph1-9\" x=\"67.25\" y=\"432.699219\"/>\n",
       "  <use xlink:href=\"#glyph1-11\" x=\"71\" y=\"432.699219\"/>\n",
       "  <use xlink:href=\"#glyph1-10\" x=\"77\" y=\"432.699219\"/>\n",
       "</g>\n",
       "<path style=\"fill:none;stroke-width:1;stroke-linecap:butt;stroke-linejoin:miter;stroke:rgb(74.901961%,74.901961%,74.901961%);stroke-opacity:1;stroke-miterlimit:10;\" d=\"M 7.019531 -36.5 C 17.542969 -36.5 58.613281 -36.5 84.578125 -36.5 \" transform=\"matrix(1,0,0,1,4,506)\"/>\n",
       "<path style=\"fill-rule:nonzero;fill:rgb(74.901961%,74.901961%,74.901961%);fill-opacity:1;stroke-width:1;stroke-linecap:butt;stroke-linejoin:miter;stroke:rgb(74.901961%,74.901961%,74.901961%);stroke-opacity:1;stroke-miterlimit:10;\" d=\"M 84.648438 -40 L 94.648438 -36.5 L 84.648438 -33 Z M 84.648438 -40 \" transform=\"matrix(1,0,0,1,4,506)\"/>\n",
       "<g style=\"fill:rgb(0%,0%,0%);fill-opacity:1;\">\n",
       "  <use xlink:href=\"#glyph1-17\" x=\"29\" y=\"466.699219\"/>\n",
       "  <use xlink:href=\"#glyph1-2\" x=\"35\" y=\"466.699219\"/>\n",
       "  <use xlink:href=\"#glyph1-18\" x=\"40.25\" y=\"466.699219\"/>\n",
       "  <use xlink:href=\"#glyph1-2\" x=\"44\" y=\"466.699219\"/>\n",
       "  <use xlink:href=\"#glyph1-6\" x=\"49.25\" y=\"466.699219\"/>\n",
       "  <use xlink:href=\"#glyph1-5\" x=\"52.25\" y=\"466.699219\"/>\n",
       "  <use xlink:href=\"#glyph1-13\" x=\"58.25\" y=\"466.699219\"/>\n",
       "  <use xlink:href=\"#glyph1-8\" x=\"64.25\" y=\"466.699219\"/>\n",
       "  <use xlink:href=\"#glyph1-9\" x=\"67.25\" y=\"466.699219\"/>\n",
       "  <use xlink:href=\"#glyph1-11\" x=\"71\" y=\"466.699219\"/>\n",
       "  <use xlink:href=\"#glyph1-10\" x=\"77\" y=\"466.699219\"/>\n",
       "</g>\n",
       "<path style=\"fill:none;stroke-width:1;stroke-linecap:butt;stroke-linejoin:miter;stroke:rgb(74.901961%,74.901961%,74.901961%);stroke-opacity:1;stroke-miterlimit:10;\" d=\"M 7.019531 -4.316406 C 17.699219 -7.769531 59.828125 -21.402344 85.714844 -29.777344 \" transform=\"matrix(1,0,0,1,4,506)\"/>\n",
       "<path style=\"fill-rule:nonzero;fill:rgb(74.901961%,74.901961%,74.901961%);fill-opacity:1;stroke-width:1;stroke-linecap:butt;stroke-linejoin:miter;stroke:rgb(74.901961%,74.901961%,74.901961%);stroke-opacity:1;stroke-miterlimit:10;\" d=\"M 84.773438 -33.148438 L 95.367188 -32.898438 L 86.929688 -26.488281 Z M 84.773438 -33.148438 \" transform=\"matrix(1,0,0,1,4,506)\"/>\n",
       "<g style=\"fill:rgb(0%,0%,0%);fill-opacity:1;\">\n",
       "  <use xlink:href=\"#glyph1-17\" x=\"29\" y=\"480.699219\"/>\n",
       "  <use xlink:href=\"#glyph1-2\" x=\"35\" y=\"480.699219\"/>\n",
       "  <use xlink:href=\"#glyph1-18\" x=\"40.25\" y=\"480.699219\"/>\n",
       "  <use xlink:href=\"#glyph1-2\" x=\"44\" y=\"480.699219\"/>\n",
       "  <use xlink:href=\"#glyph1-6\" x=\"49.25\" y=\"480.699219\"/>\n",
       "  <use xlink:href=\"#glyph1-5\" x=\"52.25\" y=\"480.699219\"/>\n",
       "  <use xlink:href=\"#glyph1-14\" x=\"58.25\" y=\"480.699219\"/>\n",
       "  <use xlink:href=\"#glyph1-8\" x=\"64.25\" y=\"480.699219\"/>\n",
       "  <use xlink:href=\"#glyph1-9\" x=\"67.25\" y=\"480.699219\"/>\n",
       "  <use xlink:href=\"#glyph1-11\" x=\"71\" y=\"480.699219\"/>\n",
       "  <use xlink:href=\"#glyph1-10\" x=\"77\" y=\"480.699219\"/>\n",
       "</g>\n",
       "</g>\n",
       "</svg>\n"
      ],
      "text/plain": [
       "<graphviz.graphs.Digraph at 0x7f5659340cd0>"
      ]
     },
     "execution_count": 7,
     "metadata": {},
     "output_type": "execute_result"
    }
   ],
   "source": [
    "MODEL_DIR = f'trained_models/qmodels/{DATASET}_models'\n",
    "DTYPE = torch.float      # we use float for the quantization, as qtorch does not support double\n",
    "dtype_eps = torch.finfo(DTYPE).eps\n",
    "if 2**(-forward_num.fl) > dtype_eps:\n",
    "    dtype_eps = 2**(-forward_num.fl)\n",
    "if not os.path.exists(MODEL_DIR):\n",
    "    os.makedirs(MODEL_DIR)\n",
    "\n",
    "model = TTNModel(features, bond_dim=BOND_DIM, n_labels=N_LABELS, device=DEVICE, dtype=DTYPE, quantizer=Q)\n",
    "model.draw()"
   ]
  },
  {
   "cell_type": "markdown",
   "metadata": {},
   "source": [
    "## Initialize"
   ]
  },
  {
   "cell_type": "code",
   "execution_count": 8,
   "metadata": {
    "metadata": {}
   },
   "outputs": [
    {
     "data": {
      "application/vnd.jupyter.widget-view+json": {
       "model_id": "5182804980df49068766b5d27b471134",
       "version_major": 2,
       "version_minor": 0
      },
      "text/plain": [
       "ttn unsupervised init:   0%|          | 0/401 [00:00<?, ?it/s]"
      ]
     },
     "metadata": {},
     "output_type": "display_data"
    },
    {
     "data": {
      "application/vnd.jupyter.widget-view+json": {
       "model_id": "72e09aaa143c4a98872ab052e868fb0d",
       "version_major": 2,
       "version_minor": 0
      },
      "text/plain": [
       "ttn supervised init:   0%|          | 0/129 [00:00<?, ?it/s]"
      ]
     },
     "metadata": {},
     "output_type": "display_data"
    },
    {
     "name": "stderr",
     "output_type": "stream",
     "text": [
      "/home/ubuntu/data/ttn4hep/.ttn_venv/lib/python3.10/site-packages/torch/optim/lr_scheduler.py:62: UserWarning: The verbose parameter is deprecated. Please use get_last_lr() to access the learning rate.\n",
      "  warnings.warn(\n"
     ]
    },
    {
     "data": {
      "application/vnd.jupyter.widget-view+json": {
       "model_id": "1c40279960dd44c88a178b4c24262e4e",
       "version_major": 2,
       "version_minor": 0
      },
      "text/plain": [
       "  0%|          | 0/129 [00:00<?, ?it/s]"
      ]
     },
     "metadata": {},
     "output_type": "display_data"
    },
    {
     "data": {
      "application/vnd.jupyter.widget-view+json": {
       "model_id": "7d47976a19bb472fa99f79dd7274d165",
       "version_major": 2,
       "version_minor": 0
      },
      "text/plain": [
       "  0%|          | 0/129 [00:00<?, ?it/s]"
      ]
     },
     "metadata": {},
     "output_type": "display_data"
    },
    {
     "data": {
      "application/vnd.jupyter.widget-view+json": {
       "model_id": "01b6ee30b26647d79ac4aed5f430e3ab",
       "version_major": 2,
       "version_minor": 0
      },
      "text/plain": [
       "  0%|          | 0/129 [00:00<?, ?it/s]"
      ]
     },
     "metadata": {},
     "output_type": "display_data"
    },
    {
     "data": {
      "application/vnd.jupyter.widget-view+json": {
       "model_id": "053b5e3238cb4b119db00b1c0f0e6965",
       "version_major": 2,
       "version_minor": 0
      },
      "text/plain": [
       "  0%|          | 0/129 [00:00<?, ?it/s]"
      ]
     },
     "metadata": {},
     "output_type": "display_data"
    },
    {
     "data": {
      "application/vnd.jupyter.widget-view+json": {
       "model_id": "2bc8325a89194e619b30889fd17d9371",
       "version_major": 2,
       "version_minor": 0
      },
      "text/plain": [
       "  0%|          | 0/129 [00:00<?, ?it/s]"
      ]
     },
     "metadata": {},
     "output_type": "display_data"
    }
   ],
   "source": [
    "INIT_EPOCHS = 5\n",
    "loss = lambda *x: class_loss_fn(*x, l=0.01)\n",
    "#loss = ClassLoss(0.1, transform=torch.tanh)\n",
    "\n",
    "model.initialize(True, train_dl, loss, INIT_EPOCHS)"
   ]
  },
  {
   "cell_type": "code",
   "execution_count": 9,
   "metadata": {
    "metadata": {}
   },
   "outputs": [
    {
     "data": {
      "image/svg+xml": [
       "<?xml version=\"1.0\" encoding=\"UTF-8\"?>\n",
       "<svg xmlns=\"http://www.w3.org/2000/svg\" xmlns:xlink=\"http://www.w3.org/1999/xlink\" width=\"503pt\" height=\"510pt\" viewBox=\"0 0 503 510\" version=\"1.1\">\n",
       "<defs>\n",
       "<g>\n",
       "<symbol overflow=\"visible\" id=\"glyph0-0\">\n",
       "<path style=\"stroke:none;\" d=\"M 0.546875 2 L 0.546875 -8 L 6.046875 -8 L 6.046875 2 Z M 1.171875 1 L 5.4375 1 L 5.4375 -7 L 1.171875 -7 Z M 1.171875 1 \"/>\n",
       "</symbol>\n",
       "<symbol overflow=\"visible\" id=\"glyph0-1\">\n",
       "<path style=\"stroke:none;\" d=\"M 3.5 -1 C 4.050781 -1 4.460938 -1.25 4.734375 -1.75 C 5.003906 -2.25 5.140625 -3 5.140625 -4 C 5.140625 -5.007812 5.003906 -5.757812 4.734375 -6.25 C 4.460938 -6.75 4.050781 -7 3.5 -7 C 2.945312 -7 2.535156 -6.75 2.265625 -6.25 C 1.992188 -5.757812 1.859375 -5.007812 1.859375 -4 C 1.859375 -3 1.992188 -2.25 2.265625 -1.75 C 2.535156 -1.25 2.945312 -1 3.5 -1 Z M 3.5 0 C 2.625 0 1.941406 -0.347656 1.453125 -1.046875 C 0.960938 -1.753906 0.71875 -2.738281 0.71875 -4 C 0.71875 -5.257812 0.960938 -6.238281 1.453125 -6.9375 C 1.941406 -7.644531 2.625 -8 3.5 -8 C 4.363281 -8 5.039062 -7.644531 5.53125 -6.9375 C 6.019531 -6.238281 6.265625 -5.257812 6.265625 -4 C 6.265625 -2.738281 6.019531 -1.753906 5.53125 -1.046875 C 5.039062 -0.347656 4.363281 0 3.5 0 Z M 3.5 0 \"/>\n",
       "</symbol>\n",
       "<symbol overflow=\"visible\" id=\"glyph0-2\">\n",
       "<path style=\"stroke:none;\" d=\"M 1.03125 -0.5 C 1.03125 -0.832031 1.097656 -1 1.234375 -1 C 1.367188 -1 1.539062 -1 1.75 -1 C 1.945312 -1 2.113281 -1 2.25 -1 C 2.394531 -1 2.46875 -0.832031 2.46875 -0.5 C 2.46875 -0.164062 2.394531 0 2.25 0 C 2.113281 0 1.945312 0 1.75 0 C 1.539062 0 1.367188 0 1.234375 0 C 1.097656 0 1.03125 -0.164062 1.03125 -0.5 Z M 1.03125 -0.5 \"/>\n",
       "</symbol>\n",
       "<symbol overflow=\"visible\" id=\"glyph0-3\">\n",
       "<path style=\"stroke:none;\" d=\"M 1.5625 0 L 1.5625 -1 L 2.953125 -1 L 2.953125 -7.265625 L 1.34375 -6.328125 L 1.34375 -7 L 3.296875 -8 L 4.046875 -8 L 4.046875 -1 L 5.4375 -1 L 5.4375 0 Z M 1.5625 0 \"/>\n",
       "</symbol>\n",
       "<symbol overflow=\"visible\" id=\"glyph0-4\">\n",
       "<path style=\"stroke:none;\" d=\"M 1.40625 -6 L 0.8125 -6 L 0.8125 -7 C 1.195312 -7.320312 1.582031 -7.566406 1.96875 -7.734375 C 2.351562 -7.910156 2.734375 -8 3.109375 -8 C 3.941406 -8 4.597656 -7.804688 5.078125 -7.421875 C 5.566406 -7.035156 5.8125 -6.507812 5.8125 -5.84375 C 5.8125 -5.09375 5.257812 -4.195312 4.15625 -3.15625 C 4.070312 -3.082031 4.007812 -3.023438 3.96875 -2.984375 L 1.9375 -1 L 5.296875 -1 L 5.296875 -2 L 5.921875 -2 L 5.921875 0 L 0.75 0 L 0.75 -0.59375 L 3.1875 -3.078125 C 3.71875 -3.535156 4.097656 -3.953125 4.328125 -4.328125 C 4.554688 -4.710938 4.671875 -5.113281 4.671875 -5.53125 C 4.671875 -5.988281 4.53125 -6.347656 4.25 -6.609375 C 3.96875 -6.867188 3.582031 -7 3.09375 -7 C 2.570312 -7 2.171875 -6.914062 1.890625 -6.75 C 1.617188 -6.582031 1.457031 -6.332031 1.40625 -6 Z M 1.40625 -6 \"/>\n",
       "</symbol>\n",
       "<symbol overflow=\"visible\" id=\"glyph0-5\">\n",
       "<path style=\"stroke:none;\" d=\"M 1.0625 -7 C 1.476562 -7.320312 1.878906 -7.566406 2.265625 -7.734375 C 2.648438 -7.910156 3.015625 -8 3.359375 -8 C 4.140625 -8 4.75 -7.84375 5.1875 -7.53125 C 5.632812 -7.226562 5.859375 -6.804688 5.859375 -6.265625 C 5.859375 -5.816406 5.707031 -5.445312 5.40625 -5.15625 C 5.101562 -4.863281 4.671875 -4.664062 4.109375 -4.5625 C 4.765625 -4.46875 5.273438 -4.226562 5.640625 -3.84375 C 6.003906 -3.457031 6.1875 -2.953125 6.1875 -2.328125 C 6.1875 -1.578125 5.929688 -1 5.421875 -0.59375 C 4.921875 -0.195312 4.203125 0 3.265625 0 C 2.835938 0 2.425781 -0.0820312 2.03125 -0.25 C 1.632812 -0.414062 1.238281 -0.664062 0.84375 -1 L 0.84375 -2 L 1.4375 -2 C 1.46875 -1.664062 1.640625 -1.414062 1.953125 -1.25 C 2.265625 -1.082031 2.707031 -1 3.28125 -1 C 3.820312 -1 4.25 -1.125 4.5625 -1.375 C 4.882812 -1.632812 5.046875 -1.988281 5.046875 -2.4375 C 5.046875 -2.945312 4.878906 -3.332031 4.546875 -3.59375 C 4.222656 -3.863281 3.75 -4 3.125 -4 L 2.609375 -4 L 2.609375 -5 L 2.890625 -5 C 3.515625 -5 3.984375 -5.082031 4.296875 -5.25 C 4.609375 -5.425781 4.765625 -5.6875 4.765625 -6.03125 C 4.765625 -6.34375 4.632812 -6.582031 4.375 -6.75 C 4.125 -6.914062 3.753906 -7 3.265625 -7 C 2.785156 -7 2.410156 -6.914062 2.140625 -6.75 C 1.867188 -6.582031 1.710938 -6.332031 1.671875 -6 L 1.0625 -6 Z M 1.0625 -7 \"/>\n",
       "</symbol>\n",
       "<symbol overflow=\"visible\" id=\"glyph0-6\">\n",
       "<path style=\"stroke:none;\" d=\"M 3.84375 -4 L 3.84375 -7.125 L 1.09375 -4 Z M 6.203125 0 L 2.546875 0 L 2.546875 -1 L 3.84375 -1 L 3.84375 -3 L 0.34375 -3 L 0.34375 -3.484375 L 3.859375 -8 L 4.921875 -8 L 4.921875 -4 L 6.453125 -4 L 6.453125 -3 L 4.921875 -3 L 4.921875 -1 L 6.203125 -1 Z M 6.203125 0 \"/>\n",
       "</symbol>\n",
       "<symbol overflow=\"visible\" id=\"glyph0-7\">\n",
       "<path style=\"stroke:none;\" d=\"M 5.53125 -8 L 5.53125 -7 L 1.859375 -7 L 1.859375 -4.265625 C 2.046875 -4.503906 2.265625 -4.6875 2.515625 -4.8125 C 2.765625 -4.9375 3.039062 -5 3.34375 -5 C 4.21875 -5 4.90625 -4.773438 5.40625 -4.328125 C 5.90625 -3.878906 6.15625 -3.269531 6.15625 -2.5 C 6.15625 -1.71875 5.898438 -1.101562 5.390625 -0.65625 C 4.890625 -0.21875 4.179688 0 3.265625 0 C 2.890625 0 2.507812 -0.0820312 2.125 -0.25 C 1.738281 -0.414062 1.34375 -0.664062 0.9375 -1 L 0.9375 -2 L 1.546875 -2 C 1.578125 -1.675781 1.738281 -1.425781 2.03125 -1.25 C 2.320312 -1.082031 2.726562 -1 3.25 -1 C 3.820312 -1 4.257812 -1.128906 4.5625 -1.390625 C 4.863281 -1.648438 5.015625 -2.019531 5.015625 -2.5 C 5.015625 -2.988281 4.863281 -3.359375 4.5625 -3.609375 C 4.257812 -3.867188 3.820312 -4 3.25 -4 C 2.925781 -4 2.640625 -3.914062 2.390625 -3.75 C 2.148438 -3.59375 1.9375 -3.34375 1.75 -3 L 1.296875 -3 L 1.296875 -8 Z M 5.53125 -8 \"/>\n",
       "</symbol>\n",
       "<symbol overflow=\"visible\" id=\"glyph0-8\">\n",
       "<path style=\"stroke:none;\" d=\"M 3.59375 -1 C 4.101562 -1 4.492188 -1.128906 4.765625 -1.390625 C 5.035156 -1.648438 5.171875 -2.019531 5.171875 -2.5 C 5.171875 -2.976562 5.035156 -3.347656 4.765625 -3.609375 C 4.492188 -3.867188 4.101562 -4 3.59375 -4 C 3.082031 -4 2.691406 -3.875 2.421875 -3.625 C 2.160156 -3.375 2.03125 -3.015625 2.03125 -2.546875 C 2.03125 -2.046875 2.164062 -1.660156 2.4375 -1.390625 C 2.707031 -1.128906 3.09375 -1 3.59375 -1 Z M 1.84375 -3.8125 C 2.082031 -4.207031 2.359375 -4.503906 2.671875 -4.703125 C 2.984375 -4.898438 3.332031 -5 3.71875 -5 C 4.519531 -5 5.148438 -4.773438 5.609375 -4.328125 C 6.078125 -3.878906 6.3125 -3.269531 6.3125 -2.5 C 6.3125 -1.738281 6.0625 -1.128906 5.5625 -0.671875 C 5.0625 -0.222656 4.394531 0 3.5625 0 C 2.65625 0 1.957031 -0.320312 1.46875 -0.96875 C 0.976562 -1.625 0.734375 -2.550781 0.734375 -3.75 C 0.734375 -5.101562 1.019531 -6.148438 1.59375 -6.890625 C 2.175781 -7.628906 2.992188 -8 4.046875 -8 C 4.328125 -8 4.625 -7.914062 4.9375 -7.75 C 5.25 -7.582031 5.566406 -7.332031 5.890625 -7 L 5.890625 -6 L 5.28125 -6 C 5.238281 -6.320312 5.097656 -6.566406 4.859375 -6.734375 C 4.628906 -6.910156 4.316406 -7 3.921875 -7 C 3.222656 -7 2.703125 -6.738281 2.359375 -6.21875 C 2.023438 -5.695312 1.851562 -4.894531 1.84375 -3.8125 Z M 1.84375 -3.8125 \"/>\n",
       "</symbol>\n",
       "<symbol overflow=\"visible\" id=\"glyph0-9\">\n",
       "<path style=\"stroke:none;\" d=\"M 6.203125 -7.453125 L 3.0625 0 L 2.265625 0 L 5.265625 -7 L 1.546875 -7 L 1.546875 -6.03125 L 0.921875 -6.03125 L 0.921875 -8 L 6.203125 -8 Z M 6.203125 -7.453125 \"/>\n",
       "</symbol>\n",
       "<symbol overflow=\"visible\" id=\"glyph1-0\">\n",
       "<path style=\"stroke:none;\" d=\"M 0.453125 2 L 0.453125 -6 L 4.953125 -6 L 4.953125 2 Z M 0.953125 1 L 4.453125 1 L 4.453125 -5 L 0.953125 -5 Z M 0.953125 1 \"/>\n",
       "</symbol>\n",
       "<symbol overflow=\"visible\" id=\"glyph1-1\">\n",
       "<path style=\"stroke:none;\" d=\"M 1.84375 -1 L 2.609375 -1 L 2.609375 0 L 0.265625 0 L 0.265625 -1 L 1.03125 -1 L 1.03125 -7 L 0.265625 -7 L 0.265625 -8 L 1.84375 -8 Z M 1.84375 -1 \"/>\n",
       "</symbol>\n",
       "<symbol overflow=\"visible\" id=\"glyph1-2\">\n",
       "<path style=\"stroke:none;\" d=\"M 3.578125 -1.5 L 3.578125 -2 L 2.546875 -2 C 2.140625 -2 1.835938 -1.957031 1.640625 -1.875 C 1.441406 -1.789062 1.34375 -1.664062 1.34375 -1.5 C 1.34375 -1.34375 1.441406 -1.21875 1.640625 -1.125 C 1.835938 -1.039062 2.109375 -1 2.453125 -1 C 2.785156 -1 3.054688 -1.046875 3.265625 -1.140625 C 3.472656 -1.234375 3.578125 -1.351562 3.578125 -1.5 Z M 4.390625 -2.984375 L 4.390625 -1 L 5.109375 -1 L 5.109375 0 L 3.578125 0 L 3.578125 -1.015625 C 3.398438 -0.671875 3.191406 -0.414062 2.953125 -0.25 C 2.722656 -0.0820312 2.453125 0 2.140625 0 C 1.617188 0 1.207031 -0.132812 0.90625 -0.40625 C 0.601562 -0.675781 0.453125 -1.039062 0.453125 -1.5 C 0.453125 -1.976562 0.625 -2.347656 0.96875 -2.609375 C 1.320312 -2.867188 1.816406 -3 2.453125 -3 L 3.578125 -3 L 3.578125 -4.125 C 3.578125 -4.082031 3.46875 -4.050781 3.25 -4.03125 C 3.039062 -4.007812 2.738281 -4 2.34375 -4 C 2.019531 -4 1.765625 -4.082031 1.578125 -4.25 C 1.390625 -4.414062 1.269531 -4.664062 1.21875 -5 L 0.8125 -5 C 1.09375 -5 1.363281 -5 1.625 -5 C 1.894531 -5 2.15625 -5 2.40625 -5 C 3.050781 -5 3.539062 -4.828125 3.875 -4.484375 C 4.21875 -4.140625 4.390625 -3.640625 4.390625 -2.984375 Z M 4.390625 -2.984375 \"/>\n",
       "</symbol>\n",
       "<symbol overflow=\"visible\" id=\"glyph1-3\">\n",
       "<path style=\"stroke:none;\" d=\"M 1.03125 -1 L 1.03125 -7 L 0.265625 -7 L 0.265625 -8 L 1.84375 -8 L 1.84375 -3.71875 C 2 -4.15625 2.195312 -4.476562 2.4375 -4.6875 C 2.6875 -4.894531 2.992188 -5 3.359375 -5 C 3.929688 -5 4.398438 -4.769531 4.765625 -4.3125 C 5.128906 -3.851562 5.3125 -3.25 5.3125 -2.5 C 5.3125 -1.757812 5.128906 -1.15625 4.765625 -0.6875 C 4.398438 -0.226562 3.929688 0 3.359375 0 C 2.992188 0 2.6875 -0.0976562 2.4375 -0.296875 C 2.195312 -0.492188 2 -0.796875 1.84375 -1.203125 L 1.84375 0 L 0.265625 0 L 0.265625 -1 Z M 1.84375 -2.28125 C 1.84375 -1.863281 1.945312 -1.546875 2.15625 -1.328125 C 2.375 -1.109375 2.691406 -1 3.109375 -1 C 3.515625 -1 3.820312 -1.125 4.03125 -1.375 C 4.25 -1.632812 4.359375 -2.007812 4.359375 -2.5 C 4.359375 -3 4.25 -3.375 4.03125 -3.625 C 3.820312 -3.875 3.515625 -4 3.109375 -4 C 2.691406 -4 2.375 -3.878906 2.15625 -3.640625 C 1.945312 -3.410156 1.84375 -3.078125 1.84375 -2.640625 Z M 1.84375 -2.28125 \"/>\n",
       "</symbol>\n",
       "<symbol overflow=\"visible\" id=\"glyph1-4\">\n",
       "<path style=\"stroke:none;\" d=\"M 4.875 -2 L 1.390625 -2 L 1.390625 -1.953125 C 1.390625 -1.640625 1.507812 -1.398438 1.75 -1.234375 C 1.988281 -1.078125 2.335938 -1 2.796875 -1 C 3.148438 -1 3.441406 -1 3.671875 -1 C 3.898438 -1 4.0625 -1 4.15625 -1 L 4.796875 -1 C 4.671875 -0.664062 4.429688 -0.414062 4.078125 -0.25 C 3.734375 -0.0820312 3.28125 0 2.71875 0 C 2.03125 0 1.476562 -0.226562 1.0625 -0.6875 C 0.65625 -1.144531 0.453125 -1.75 0.453125 -2.5 C 0.453125 -3.25 0.65625 -3.851562 1.0625 -4.3125 C 1.46875 -4.769531 2 -5 2.65625 -5 C 3.363281 -5 3.90625 -4.742188 4.28125 -4.234375 C 4.664062 -3.722656 4.863281 -2.976562 4.875 -2 Z M 3.921875 -3 C 3.898438 -3.332031 3.785156 -3.582031 3.578125 -3.75 C 3.367188 -3.914062 3.0625 -4 2.65625 -4 C 2.289062 -4 2 -3.914062 1.78125 -3.75 C 1.570312 -3.582031 1.441406 -3.332031 1.390625 -3 Z M 3.921875 -3 \"/>\n",
       "</symbol>\n",
       "<symbol overflow=\"visible\" id=\"glyph1-5\">\n",
       "<path style=\"stroke:none;\" d=\"M 1.28125 0 L 1.28125 -1 L 2.421875 -1 L 2.421875 -6.265625 L 1.09375 -5.4375 L 1.09375 -6 L 2.703125 -7 L 3.3125 -7 L 3.3125 -1 L 4.453125 -1 L 4.453125 0 Z M 1.28125 0 \"/>\n",
       "</symbol>\n",
       "<symbol overflow=\"visible\" id=\"glyph1-6\">\n",
       "<path style=\"stroke:none;\" d=\"M 0.84375 -0.5 C 0.84375 -0.832031 0.898438 -1 1.015625 -1 C 1.128906 -1 1.269531 -1 1.4375 -1 C 1.59375 -1 1.726562 -1 1.84375 -1 C 1.957031 -1 2.015625 -0.832031 2.015625 -0.5 C 2.015625 -0.164062 1.957031 0 1.84375 0 C 1.726562 0 1.59375 0 1.4375 0 C 1.269531 0 1.128906 0 1.015625 0 C 0.898438 0 0.84375 -0.164062 0.84375 -0.5 Z M 0.84375 -0.5 \"/>\n",
       "</symbol>\n",
       "<symbol overflow=\"visible\" id=\"glyph1-7\">\n",
       "<path style=\"stroke:none;\" d=\"M 2.859375 -1 C 3.304688 -1 3.640625 -1.207031 3.859375 -1.625 C 4.085938 -2.039062 4.203125 -2.664062 4.203125 -3.5 C 4.203125 -4.332031 4.085938 -4.957031 3.859375 -5.375 C 3.640625 -5.789062 3.304688 -6 2.859375 -6 C 2.410156 -6 2.070312 -5.789062 1.84375 -5.375 C 1.625 -4.957031 1.515625 -4.332031 1.515625 -3.5 C 1.515625 -2.664062 1.625 -2.039062 1.84375 -1.625 C 2.070312 -1.207031 2.410156 -1 2.859375 -1 Z M 2.859375 0 C 2.148438 0 1.59375 -0.304688 1.1875 -0.921875 C 0.789062 -1.535156 0.59375 -2.394531 0.59375 -3.5 C 0.59375 -4.601562 0.789062 -5.460938 1.1875 -6.078125 C 1.59375 -6.691406 2.148438 -7 2.859375 -7 C 3.578125 -7 4.132812 -6.691406 4.53125 -6.078125 C 4.925781 -5.460938 5.125 -4.601562 5.125 -3.5 C 5.125 -2.394531 4.925781 -1.535156 4.53125 -0.921875 C 4.132812 -0.304688 3.578125 0 2.859375 0 Z M 2.859375 0 \"/>\n",
       "</symbol>\n",
       "<symbol overflow=\"visible\" id=\"glyph1-8\">\n",
       "<path style=\"stroke:none;\" d=\"\"/>\n",
       "</symbol>\n",
       "<symbol overflow=\"visible\" id=\"glyph1-9\">\n",
       "<path style=\"stroke:none;\" d=\"M 0.78125 -8 L 2.8125 -8 L 2.8125 -7 L 1.609375 -7 L 1.609375 -1 L 2.8125 -1 L 2.8125 0 L 0.78125 0 Z M 0.78125 -8 \"/>\n",
       "</symbol>\n",
       "<symbol overflow=\"visible\" id=\"glyph1-10\">\n",
       "<path style=\"stroke:none;\" d=\"M 2.734375 -8 L 2.734375 0 L 0.6875 0 L 0.6875 -1 L 1.90625 -1 L 1.90625 -7 L 0.6875 -7 L 0.6875 -8 Z M 2.734375 -8 \"/>\n",
       "</symbol>\n",
       "<symbol overflow=\"visible\" id=\"glyph1-11\">\n",
       "<path style=\"stroke:none;\" d=\"M 1.15625 -5 L 0.65625 -5 L 0.65625 -6 C 0.96875 -6.320312 1.28125 -6.566406 1.59375 -6.734375 C 1.914062 -6.910156 2.226562 -7 2.53125 -7 C 3.21875 -7 3.757812 -6.832031 4.15625 -6.5 C 4.550781 -6.175781 4.75 -5.734375 4.75 -5.171875 C 4.75 -4.535156 4.300781 -3.773438 3.40625 -2.890625 C 3.332031 -2.816406 3.28125 -2.765625 3.25 -2.734375 L 1.59375 -1 L 4.328125 -1 L 4.328125 -2 L 4.84375 -2 L 4.84375 0 L 0.609375 0 L 0.609375 -0.546875 L 2.609375 -2.8125 C 3.046875 -3.1875 3.359375 -3.523438 3.546875 -3.828125 C 3.734375 -4.140625 3.828125 -4.46875 3.828125 -4.8125 C 3.828125 -5.1875 3.710938 -5.476562 3.484375 -5.6875 C 3.253906 -5.894531 2.9375 -6 2.53125 -6 C 2.113281 -6 1.789062 -5.914062 1.5625 -5.75 C 1.332031 -5.582031 1.195312 -5.332031 1.15625 -5 Z M 1.15625 -5 \"/>\n",
       "</symbol>\n",
       "<symbol overflow=\"visible\" id=\"glyph1-12\">\n",
       "<path style=\"stroke:none;\" d=\"M 0.875 -6 C 1.21875 -6.320312 1.546875 -6.566406 1.859375 -6.734375 C 2.179688 -6.910156 2.476562 -7 2.75 -7 C 3.394531 -7 3.894531 -6.84375 4.25 -6.53125 C 4.613281 -6.226562 4.796875 -5.804688 4.796875 -5.265625 C 4.796875 -4.816406 4.671875 -4.445312 4.421875 -4.15625 C 4.171875 -3.863281 3.816406 -3.664062 3.359375 -3.5625 C 3.898438 -3.488281 4.316406 -3.300781 4.609375 -3 C 4.910156 -2.695312 5.0625 -2.304688 5.0625 -1.828125 C 5.0625 -1.234375 4.851562 -0.78125 4.4375 -0.46875 C 4.03125 -0.15625 3.441406 0 2.671875 0 C 2.328125 0 1.988281 -0.0820312 1.65625 -0.25 C 1.332031 -0.414062 1.007812 -0.664062 0.6875 -1 L 0.6875 -2 L 1.171875 -2 C 1.203125 -1.664062 1.34375 -1.414062 1.59375 -1.25 C 1.851562 -1.082031 2.210938 -1 2.671875 -1 C 3.117188 -1 3.472656 -1.082031 3.734375 -1.25 C 3.992188 -1.425781 4.125 -1.664062 4.125 -1.96875 C 4.125 -2.300781 3.988281 -2.554688 3.71875 -2.734375 C 3.457031 -2.910156 3.070312 -3 2.5625 -3 L 2.140625 -3 L 2.140625 -4 L 2.359375 -4 C 2.867188 -4 3.25 -4.082031 3.5 -4.25 C 3.757812 -4.425781 3.890625 -4.6875 3.890625 -5.03125 C 3.890625 -5.34375 3.785156 -5.582031 3.578125 -5.75 C 3.367188 -5.914062 3.066406 -6 2.671875 -6 C 2.273438 -6 1.96875 -5.914062 1.75 -5.75 C 1.53125 -5.582031 1.398438 -5.332031 1.359375 -5 L 0.875 -5 Z M 0.875 -6 \"/>\n",
       "</symbol>\n",
       "<symbol overflow=\"visible\" id=\"glyph1-13\">\n",
       "<path style=\"stroke:none;\" d=\"M 3.140625 -3 L 3.140625 -6.125 L 0.90625 -3 Z M 5.078125 0 L 2.09375 0 L 2.09375 -1 L 3.140625 -1 L 3.140625 -2 L 0.28125 -2 L 0.28125 -2.484375 L 3.140625 -7 L 4.015625 -7 L 4.015625 -3 L 5.28125 -3 L 5.28125 -2 L 4.015625 -2 L 4.015625 -1 L 5.078125 -1 Z M 5.078125 0 \"/>\n",
       "</symbol>\n",
       "<symbol overflow=\"visible\" id=\"glyph1-14\">\n",
       "<path style=\"stroke:none;\" d=\"M 4.53125 -7 L 4.53125 -6 L 1.515625 -6 L 1.515625 -3.265625 C 1.671875 -3.503906 1.847656 -3.6875 2.046875 -3.8125 C 2.253906 -3.9375 2.484375 -4 2.734375 -4 C 3.441406 -4 4 -3.820312 4.40625 -3.46875 C 4.820312 -3.113281 5.03125 -2.625 5.03125 -2 C 5.03125 -1.375 4.820312 -0.882812 4.40625 -0.53125 C 3.988281 -0.175781 3.40625 0 2.65625 0 C 2.363281 0 2.054688 -0.0820312 1.734375 -0.25 C 1.421875 -0.414062 1.097656 -0.664062 0.765625 -1 L 0.765625 -2 L 1.265625 -2 C 1.296875 -1.675781 1.425781 -1.425781 1.65625 -1.25 C 1.894531 -1.082031 2.234375 -1 2.671875 -1 C 3.128906 -1 3.484375 -1.082031 3.734375 -1.25 C 3.984375 -1.425781 4.109375 -1.675781 4.109375 -2 C 4.109375 -2.320312 3.984375 -2.566406 3.734375 -2.734375 C 3.484375 -2.910156 3.128906 -3 2.671875 -3 C 2.398438 -3 2.164062 -3 1.96875 -3 C 1.769531 -3 1.59375 -3 1.4375 -3 L 1.0625 -3 L 1.0625 -7 Z M 4.53125 -7 \"/>\n",
       "</symbol>\n",
       "<symbol overflow=\"visible\" id=\"glyph1-15\">\n",
       "<path style=\"stroke:none;\" d=\"M 2.953125 -1 C 3.359375 -1 3.671875 -1.082031 3.890625 -1.25 C 4.117188 -1.425781 4.234375 -1.675781 4.234375 -2 C 4.234375 -2.320312 4.117188 -2.566406 3.890625 -2.734375 C 3.671875 -2.910156 3.359375 -3 2.953125 -3 C 2.523438 -3 2.203125 -2.914062 1.984375 -2.75 C 1.765625 -2.582031 1.65625 -2.34375 1.65625 -2.03125 C 1.65625 -1.695312 1.765625 -1.441406 1.984375 -1.265625 C 2.210938 -1.085938 2.535156 -1 2.953125 -1 Z M 1.515625 -2.875 C 1.710938 -3.25 1.9375 -3.53125 2.1875 -3.71875 C 2.4375 -3.90625 2.722656 -4 3.046875 -4 C 3.691406 -4 4.203125 -3.816406 4.578125 -3.453125 C 4.960938 -3.097656 5.15625 -2.613281 5.15625 -2 C 5.15625 -1.394531 4.953125 -0.910156 4.546875 -0.546875 C 4.140625 -0.179688 3.59375 0 2.90625 0 C 2.164062 0 1.597656 -0.28125 1.203125 -0.84375 C 0.804688 -1.414062 0.609375 -2.226562 0.609375 -3.28125 C 0.609375 -4.46875 0.84375 -5.382812 1.3125 -6.03125 C 1.78125 -6.675781 2.445312 -7 3.3125 -7 C 3.539062 -7 3.78125 -6.914062 4.03125 -6.75 C 4.28125 -6.582031 4.539062 -6.332031 4.8125 -6 L 4.8125 -5 L 4.3125 -5 C 4.28125 -5.320312 4.164062 -5.566406 3.96875 -5.734375 C 3.78125 -5.910156 3.523438 -6 3.203125 -6 C 2.640625 -6 2.21875 -5.742188 1.9375 -5.234375 C 1.664062 -4.722656 1.523438 -3.9375 1.515625 -2.875 Z M 1.515625 -2.875 \"/>\n",
       "</symbol>\n",
       "<symbol overflow=\"visible\" id=\"glyph1-16\">\n",
       "<path style=\"stroke:none;\" d=\"M 5.078125 -6.515625 L 2.515625 0 L 1.859375 0 L 4.296875 -6 L 1.265625 -6 L 1.265625 -5.171875 L 0.75 -5.171875 L 0.75 -7 L 5.078125 -7 Z M 5.078125 -6.515625 \"/>\n",
       "</symbol>\n",
       "<symbol overflow=\"visible\" id=\"glyph1-17\">\n",
       "<path style=\"stroke:none;\" d=\"M 4.71875 -1 L 5.5 -1 L 5.5 0 L 3.921875 0 L 3.921875 -1.203125 C 3.765625 -0.796875 3.5625 -0.492188 3.3125 -0.296875 C 3.070312 -0.0976562 2.769531 0 2.40625 0 C 1.832031 0 1.363281 -0.226562 1 -0.6875 C 0.632812 -1.15625 0.453125 -1.757812 0.453125 -2.5 C 0.453125 -3.25 0.632812 -3.851562 1 -4.3125 C 1.363281 -4.769531 1.832031 -5 2.40625 -5 C 2.769531 -5 3.070312 -4.894531 3.3125 -4.6875 C 3.5625 -4.476562 3.765625 -4.15625 3.921875 -3.71875 L 3.921875 -7 L 3.15625 -7 L 3.15625 -8 L 4.71875 -8 Z M 3.921875 -2.28125 L 3.921875 -2.640625 C 3.921875 -3.078125 3.8125 -3.410156 3.59375 -3.640625 C 3.382812 -3.878906 3.070312 -4 2.65625 -4 C 2.238281 -4 1.921875 -3.875 1.703125 -3.625 C 1.492188 -3.375 1.390625 -3 1.390625 -2.5 C 1.390625 -2.007812 1.492188 -1.632812 1.703125 -1.375 C 1.921875 -1.125 2.238281 -1 2.65625 -1 C 3.070312 -1 3.382812 -1.109375 3.59375 -1.328125 C 3.8125 -1.546875 3.921875 -1.863281 3.921875 -2.28125 Z M 3.921875 -2.28125 \"/>\n",
       "</symbol>\n",
       "<symbol overflow=\"visible\" id=\"glyph1-18\">\n",
       "<path style=\"stroke:none;\" d=\"M 0.96875 -4 L 0.265625 -4 L 0.265625 -5 L 0.96875 -5 L 0.96875 -6 L 1.78125 -6 L 1.78125 -5 L 3.3125 -5 L 3.3125 -4 L 1.78125 -4 L 1.78125 -2.09375 C 1.78125 -1.625 1.816406 -1.320312 1.890625 -1.1875 C 1.972656 -1.0625 2.113281 -1 2.3125 -1 C 2.53125 -1 2.6875 -1.078125 2.78125 -1.234375 C 2.875 -1.390625 2.925781 -1.644531 2.9375 -2 L 3.546875 -2 C 3.523438 -1.300781 3.410156 -0.789062 3.203125 -0.46875 C 2.992188 -0.15625 2.675781 0 2.25 0 C 1.78125 0 1.445312 -0.15625 1.25 -0.46875 C 1.0625 -0.789062 0.96875 -1.332031 0.96875 -2.09375 Z M 0.96875 -4 \"/>\n",
       "</symbol>\n",
       "<symbol overflow=\"visible\" id=\"glyph1-19\">\n",
       "<path style=\"stroke:none;\" d=\"M 4.1875 -2 C 4.1875 -2.3125 4.066406 -2.554688 3.828125 -2.734375 C 3.597656 -2.910156 3.273438 -3 2.859375 -3 C 2.441406 -3 2.113281 -2.910156 1.875 -2.734375 C 1.644531 -2.554688 1.53125 -2.3125 1.53125 -2 C 1.53125 -1.6875 1.644531 -1.441406 1.875 -1.265625 C 2.113281 -1.085938 2.441406 -1 2.859375 -1 C 3.273438 -1 3.597656 -1.085938 3.828125 -1.265625 C 4.066406 -1.441406 4.1875 -1.6875 4.1875 -2 Z M 4.015625 -5 C 4.015625 -5.3125 3.910156 -5.554688 3.703125 -5.734375 C 3.503906 -5.910156 3.222656 -6 2.859375 -6 C 2.492188 -6 2.207031 -5.910156 2 -5.734375 C 1.800781 -5.554688 1.703125 -5.3125 1.703125 -5 C 1.703125 -4.6875 1.800781 -4.441406 2 -4.265625 C 2.207031 -4.085938 2.492188 -4 2.859375 -4 C 3.222656 -4 3.503906 -4.085938 3.703125 -4.265625 C 3.910156 -4.441406 4.015625 -4.6875 4.015625 -5 Z M 3.53125 -3.5 C 4.03125 -3.4375 4.421875 -3.257812 4.703125 -2.96875 C 4.984375 -2.675781 5.125 -2.304688 5.125 -1.859375 C 5.125 -1.265625 4.925781 -0.804688 4.53125 -0.484375 C 4.144531 -0.160156 3.585938 0 2.859375 0 C 2.140625 0 1.582031 -0.160156 1.1875 -0.484375 C 0.800781 -0.804688 0.609375 -1.265625 0.609375 -1.859375 C 0.609375 -2.304688 0.742188 -2.675781 1.015625 -2.96875 C 1.296875 -3.257812 1.6875 -3.4375 2.1875 -3.5 C 1.738281 -3.582031 1.394531 -3.765625 1.15625 -4.046875 C 0.925781 -4.328125 0.8125 -4.6875 0.8125 -5.125 C 0.8125 -5.707031 0.992188 -6.164062 1.359375 -6.5 C 1.722656 -6.832031 2.222656 -7 2.859375 -7 C 3.492188 -7 3.992188 -6.832031 4.359375 -6.5 C 4.722656 -6.164062 4.90625 -5.707031 4.90625 -5.125 C 4.90625 -4.6875 4.785156 -4.328125 4.546875 -4.046875 C 4.304688 -3.765625 3.96875 -3.582031 3.53125 -3.5 Z M 3.53125 -3.5 \"/>\n",
       "</symbol>\n",
       "<symbol overflow=\"visible\" id=\"glyph1-20\">\n",
       "<path style=\"stroke:none;\" d=\"M 4.203125 -4.125 C 4.003906 -3.75 3.773438 -3.46875 3.515625 -3.28125 C 3.265625 -3.09375 2.984375 -3 2.671875 -3 C 2.015625 -3 1.5 -3.175781 1.125 -3.53125 C 0.75 -3.894531 0.5625 -4.382812 0.5625 -5 C 0.5625 -5.601562 0.765625 -6.085938 1.171875 -6.453125 C 1.585938 -6.816406 2.132812 -7 2.8125 -7 C 3.5625 -7 4.132812 -6.710938 4.53125 -6.140625 C 4.925781 -5.578125 5.125 -4.769531 5.125 -3.71875 C 5.125 -2.53125 4.882812 -1.613281 4.40625 -0.96875 C 3.9375 -0.320312 3.273438 0 2.421875 0 C 2.191406 0 1.945312 -0.0820312 1.6875 -0.25 C 1.4375 -0.414062 1.175781 -0.664062 0.90625 -1 L 0.90625 -2 L 1.40625 -2 C 1.445312 -1.675781 1.5625 -1.425781 1.75 -1.25 C 1.9375 -1.082031 2.191406 -1 2.515625 -1 C 3.078125 -1 3.5 -1.253906 3.78125 -1.765625 C 4.0625 -2.273438 4.203125 -3.0625 4.203125 -4.125 Z M 2.78125 -6 C 2.363281 -6 2.046875 -5.910156 1.828125 -5.734375 C 1.609375 -5.566406 1.5 -5.320312 1.5 -5 C 1.5 -4.675781 1.609375 -4.425781 1.828125 -4.25 C 2.046875 -4.082031 2.363281 -4 2.78125 -4 C 3.195312 -4 3.515625 -4.082031 3.734375 -4.25 C 3.953125 -4.414062 4.0625 -4.65625 4.0625 -4.96875 C 4.0625 -5.300781 3.945312 -5.554688 3.71875 -5.734375 C 3.5 -5.910156 3.1875 -6 2.78125 -6 Z M 2.78125 -6 \"/>\n",
       "</symbol>\n",
       "</g>\n",
       "</defs>\n",
       "<g id=\"surface1\">\n",
       "<path style=\"fill-rule:nonzero;fill:rgb(85.098039%,12.156863%,7.843137%);fill-opacity:1;stroke-width:4;stroke-linecap:butt;stroke-linejoin:miter;stroke:rgb(67.843137%,9.411765%,6.27451%);stroke-opacity:1;stroke-miterlimit:10;\" d=\"M 411 -269.5 C 411 -262.597656 405.402344 -257 398.5 -257 C 391.597656 -257 386 -262.597656 386 -269.5 C 386 -276.402344 391.597656 -282 398.5 -282 C 405.402344 -282 411 -276.402344 411 -269.5 \" transform=\"matrix(1,0,0,1,4,506)\"/>\n",
       "<g style=\"fill:rgb(0%,0%,0%);fill-opacity:1;\">\n",
       "  <use xlink:href=\"#glyph0-1\" x=\"393.5\" y=\"239.300781\"/>\n",
       "  <use xlink:href=\"#glyph0-2\" x=\"400.25\" y=\"239.300781\"/>\n",
       "  <use xlink:href=\"#glyph0-1\" x=\"404\" y=\"239.300781\"/>\n",
       "</g>\n",
       "<path style=\"fill:none;stroke-width:1;stroke-linecap:butt;stroke-linejoin:miter;stroke:rgb(74.901961%,74.901961%,74.901961%);stroke-opacity:1;stroke-miterlimit:10;\" d=\"M 411.25 -269.5 C 423.792969 -269.5 443.957031 -269.5 459.472656 -269.5 \" transform=\"matrix(1,0,0,1,4,506)\"/>\n",
       "<path style=\"fill-rule:nonzero;fill:rgb(74.901961%,74.901961%,74.901961%);fill-opacity:1;stroke-width:1;stroke-linecap:butt;stroke-linejoin:miter;stroke:rgb(74.901961%,74.901961%,74.901961%);stroke-opacity:1;stroke-miterlimit:10;\" d=\"M 459.773438 -273 L 469.773438 -269.5 L 459.773438 -266 Z M 459.773438 -273 \" transform=\"matrix(1,0,0,1,4,506)\"/>\n",
       "<g style=\"fill:rgb(0%,0%,0%);fill-opacity:1;\">\n",
       "  <use xlink:href=\"#glyph1-1\" x=\"433\" y=\"233.699219\"/>\n",
       "  <use xlink:href=\"#glyph1-2\" x=\"436\" y=\"233.699219\"/>\n",
       "  <use xlink:href=\"#glyph1-3\" x=\"441.25\" y=\"233.699219\"/>\n",
       "  <use xlink:href=\"#glyph1-4\" x=\"447.25\" y=\"233.699219\"/>\n",
       "  <use xlink:href=\"#glyph1-1\" x=\"452.5\" y=\"233.699219\"/>\n",
       "</g>\n",
       "<path style=\"fill-rule:nonzero;fill:rgb(13.72549%,53.333333%,55.686275%);fill-opacity:1;stroke-width:4;stroke-linecap:butt;stroke-linejoin:miter;stroke:rgb(10.980392%,42.745098%,44.313725%);stroke-opacity:1;stroke-miterlimit:10;\" d=\"M 312 -343.5 C 312 -336.597656 306.402344 -331 299.5 -331 C 292.597656 -331 287 -336.597656 287 -343.5 C 287 -350.402344 292.597656 -356 299.5 -356 C 306.402344 -356 312 -350.402344 312 -343.5 \" transform=\"matrix(1,0,0,1,4,506)\"/>\n",
       "<g style=\"fill:rgb(0%,0%,0%);fill-opacity:1;\">\n",
       "  <use xlink:href=\"#glyph0-3\" x=\"294.5\" y=\"165.300781\"/>\n",
       "  <use xlink:href=\"#glyph0-2\" x=\"301.25\" y=\"165.300781\"/>\n",
       "  <use xlink:href=\"#glyph0-1\" x=\"305\" y=\"165.300781\"/>\n",
       "</g>\n",
       "<path style=\"fill:none;stroke-width:1;stroke-linecap:butt;stroke-linejoin:miter;stroke:rgb(74.901961%,74.901961%,74.901961%);stroke-opacity:1;stroke-miterlimit:10;\" d=\"M 309.800781 -336.40625 C 325.910156 -324.113281 359.253906 -298.679688 379.867188 -282.953125 \" transform=\"matrix(1,0,0,1,4,506)\"/>\n",
       "<path style=\"fill-rule:nonzero;fill:rgb(74.901961%,74.901961%,74.901961%);fill-opacity:1;stroke-width:1;stroke-linecap:butt;stroke-linejoin:miter;stroke:rgb(74.901961%,74.901961%,74.901961%);stroke-opacity:1;stroke-miterlimit:10;\" d=\"M 382.257812 -285.53125 L 388.085938 -276.683594 L 378.011719 -279.964844 Z M 382.257812 -285.53125 \" transform=\"matrix(1,0,0,1,4,506)\"/>\n",
       "<g style=\"fill:rgb(0%,0%,0%);fill-opacity:1;\">\n",
       "  <use xlink:href=\"#glyph1-5\" x=\"334\" y=\"183.699219\"/>\n",
       "  <use xlink:href=\"#glyph1-6\" x=\"340\" y=\"183.699219\"/>\n",
       "  <use xlink:href=\"#glyph1-7\" x=\"343\" y=\"183.699219\"/>\n",
       "  <use xlink:href=\"#glyph1-8\" x=\"349\" y=\"183.699219\"/>\n",
       "  <use xlink:href=\"#glyph1-9\" x=\"352\" y=\"183.699219\"/>\n",
       "  <use xlink:href=\"#glyph1-5\" x=\"355.75\" y=\"183.699219\"/>\n",
       "  <use xlink:href=\"#glyph1-7\" x=\"361.75\" y=\"183.699219\"/>\n",
       "  <use xlink:href=\"#glyph1-10\" x=\"367.75\" y=\"183.699219\"/>\n",
       "</g>\n",
       "<path style=\"fill-rule:nonzero;fill:rgb(13.72549%,53.333333%,55.686275%);fill-opacity:1;stroke-width:4;stroke-linecap:butt;stroke-linejoin:miter;stroke:rgb(10.980392%,42.745098%,44.313725%);stroke-opacity:1;stroke-miterlimit:10;\" d=\"M 312 -158.5 C 312 -151.597656 306.402344 -146 299.5 -146 C 292.597656 -146 287 -151.597656 287 -158.5 C 287 -165.402344 292.597656 -171 299.5 -171 C 306.402344 -171 312 -165.402344 312 -158.5 \" transform=\"matrix(1,0,0,1,4,506)\"/>\n",
       "<g style=\"fill:rgb(0%,0%,0%);fill-opacity:1;\">\n",
       "  <use xlink:href=\"#glyph0-3\" x=\"294.5\" y=\"350.300781\"/>\n",
       "  <use xlink:href=\"#glyph0-2\" x=\"301.25\" y=\"350.300781\"/>\n",
       "  <use xlink:href=\"#glyph0-3\" x=\"305\" y=\"350.300781\"/>\n",
       "</g>\n",
       "<path style=\"fill:none;stroke-width:1;stroke-linecap:butt;stroke-linejoin:miter;stroke:rgb(74.901961%,74.901961%,74.901961%);stroke-opacity:1;stroke-miterlimit:10;\" d=\"M 308.4375 -167.582031 C 324.707031 -186.203125 362.058594 -228.941406 382.851562 -252.734375 \" transform=\"matrix(1,0,0,1,4,506)\"/>\n",
       "<path style=\"fill-rule:nonzero;fill:rgb(74.901961%,74.901961%,74.901961%);fill-opacity:1;stroke-width:1;stroke-linecap:butt;stroke-linejoin:miter;stroke:rgb(74.901961%,74.901961%,74.901961%);stroke-opacity:1;stroke-miterlimit:10;\" d=\"M 380.238281 -255.0625 L 389.453125 -260.289062 L 385.507812 -250.457031 Z M 380.238281 -255.0625 \" transform=\"matrix(1,0,0,1,4,506)\"/>\n",
       "<g style=\"fill:rgb(0%,0%,0%);fill-opacity:1;\">\n",
       "  <use xlink:href=\"#glyph1-5\" x=\"334\" y=\"269.699219\"/>\n",
       "  <use xlink:href=\"#glyph1-6\" x=\"340\" y=\"269.699219\"/>\n",
       "  <use xlink:href=\"#glyph1-5\" x=\"343\" y=\"269.699219\"/>\n",
       "  <use xlink:href=\"#glyph1-8\" x=\"349\" y=\"269.699219\"/>\n",
       "  <use xlink:href=\"#glyph1-9\" x=\"352\" y=\"269.699219\"/>\n",
       "  <use xlink:href=\"#glyph1-5\" x=\"355.75\" y=\"269.699219\"/>\n",
       "  <use xlink:href=\"#glyph1-7\" x=\"361.75\" y=\"269.699219\"/>\n",
       "  <use xlink:href=\"#glyph1-10\" x=\"367.75\" y=\"269.699219\"/>\n",
       "</g>\n",
       "<path style=\"fill-rule:nonzero;fill:rgb(32.941176%,77.254902%,40.784314%);fill-opacity:1;stroke-width:4;stroke-linecap:butt;stroke-linejoin:miter;stroke:rgb(22.352941%,65.882353%,29.803922%);stroke-opacity:1;stroke-miterlimit:10;\" d=\"M 213 -422.5 C 213 -415.597656 207.402344 -410 200.5 -410 C 193.597656 -410 188 -415.597656 188 -422.5 C 188 -429.402344 193.597656 -435 200.5 -435 C 207.402344 -435 213 -429.402344 213 -422.5 \" transform=\"matrix(1,0,0,1,4,506)\"/>\n",
       "<g style=\"fill:rgb(0%,0%,0%);fill-opacity:1;\">\n",
       "  <use xlink:href=\"#glyph0-4\" x=\"195.5\" y=\"86.300781\"/>\n",
       "  <use xlink:href=\"#glyph0-2\" x=\"202.25\" y=\"86.300781\"/>\n",
       "  <use xlink:href=\"#glyph0-1\" x=\"206\" y=\"86.300781\"/>\n",
       "</g>\n",
       "<path style=\"fill:none;stroke-width:1;stroke-linecap:butt;stroke-linejoin:miter;stroke:rgb(74.901961%,74.901961%,74.901961%);stroke-opacity:1;stroke-miterlimit:10;\" d=\"M 210.800781 -414.925781 C 227.066406 -401.679688 260.898438 -374.125 281.460938 -357.378906 \" transform=\"matrix(1,0,0,1,4,506)\"/>\n",
       "<path style=\"fill-rule:nonzero;fill:rgb(74.901961%,74.901961%,74.901961%);fill-opacity:1;stroke-width:1;stroke-linecap:butt;stroke-linejoin:miter;stroke:rgb(74.901961%,74.901961%,74.901961%);stroke-opacity:1;stroke-miterlimit:10;\" d=\"M 283.824219 -359.964844 L 289.367188 -350.9375 L 279.40625 -354.539062 Z M 283.824219 -359.964844 \" transform=\"matrix(1,0,0,1,4,506)\"/>\n",
       "<g style=\"fill:rgb(0%,0%,0%);fill-opacity:1;\">\n",
       "  <use xlink:href=\"#glyph1-11\" x=\"235\" y=\"106.699219\"/>\n",
       "  <use xlink:href=\"#glyph1-6\" x=\"241\" y=\"106.699219\"/>\n",
       "  <use xlink:href=\"#glyph1-7\" x=\"244\" y=\"106.699219\"/>\n",
       "  <use xlink:href=\"#glyph1-8\" x=\"250\" y=\"106.699219\"/>\n",
       "  <use xlink:href=\"#glyph1-9\" x=\"253\" y=\"106.699219\"/>\n",
       "  <use xlink:href=\"#glyph1-5\" x=\"256.75\" y=\"106.699219\"/>\n",
       "  <use xlink:href=\"#glyph1-7\" x=\"262.75\" y=\"106.699219\"/>\n",
       "  <use xlink:href=\"#glyph1-10\" x=\"268.75\" y=\"106.699219\"/>\n",
       "</g>\n",
       "<path style=\"fill-rule:nonzero;fill:rgb(32.941176%,77.254902%,40.784314%);fill-opacity:1;stroke-width:4;stroke-linecap:butt;stroke-linejoin:miter;stroke:rgb(22.352941%,65.882353%,29.803922%);stroke-opacity:1;stroke-miterlimit:10;\" d=\"M 213 -343.5 C 213 -336.597656 207.402344 -331 200.5 -331 C 193.597656 -331 188 -336.597656 188 -343.5 C 188 -350.402344 193.597656 -356 200.5 -356 C 207.402344 -356 213 -350.402344 213 -343.5 \" transform=\"matrix(1,0,0,1,4,506)\"/>\n",
       "<g style=\"fill:rgb(0%,0%,0%);fill-opacity:1;\">\n",
       "  <use xlink:href=\"#glyph0-4\" x=\"195.5\" y=\"165.300781\"/>\n",
       "  <use xlink:href=\"#glyph0-2\" x=\"202.25\" y=\"165.300781\"/>\n",
       "  <use xlink:href=\"#glyph0-3\" x=\"206\" y=\"165.300781\"/>\n",
       "</g>\n",
       "<path style=\"fill:none;stroke-width:1;stroke-linecap:butt;stroke-linejoin:miter;stroke:rgb(74.901961%,74.901961%,74.901961%);stroke-opacity:1;stroke-miterlimit:10;\" d=\"M 213.007812 -343.5 C 228.601562 -343.5 256.757812 -343.5 276.484375 -343.5 \" transform=\"matrix(1,0,0,1,4,506)\"/>\n",
       "<path style=\"fill-rule:nonzero;fill:rgb(74.901961%,74.901961%,74.901961%);fill-opacity:1;stroke-width:1;stroke-linecap:butt;stroke-linejoin:miter;stroke:rgb(74.901961%,74.901961%,74.901961%);stroke-opacity:1;stroke-miterlimit:10;\" d=\"M 276.703125 -347 L 286.703125 -343.5 L 276.703125 -340 Z M 276.703125 -347 \" transform=\"matrix(1,0,0,1,4,506)\"/>\n",
       "<g style=\"fill:rgb(0%,0%,0%);fill-opacity:1;\">\n",
       "  <use xlink:href=\"#glyph1-11\" x=\"235\" y=\"159.699219\"/>\n",
       "  <use xlink:href=\"#glyph1-6\" x=\"241\" y=\"159.699219\"/>\n",
       "  <use xlink:href=\"#glyph1-5\" x=\"244\" y=\"159.699219\"/>\n",
       "  <use xlink:href=\"#glyph1-8\" x=\"250\" y=\"159.699219\"/>\n",
       "  <use xlink:href=\"#glyph1-9\" x=\"253\" y=\"159.699219\"/>\n",
       "  <use xlink:href=\"#glyph1-5\" x=\"256.75\" y=\"159.699219\"/>\n",
       "  <use xlink:href=\"#glyph1-7\" x=\"262.75\" y=\"159.699219\"/>\n",
       "  <use xlink:href=\"#glyph1-10\" x=\"268.75\" y=\"159.699219\"/>\n",
       "</g>\n",
       "<path style=\"fill-rule:nonzero;fill:rgb(32.941176%,77.254902%,40.784314%);fill-opacity:1;stroke-width:4;stroke-linecap:butt;stroke-linejoin:miter;stroke:rgb(22.352941%,65.882353%,29.803922%);stroke-opacity:1;stroke-miterlimit:10;\" d=\"M 213 -158.5 C 213 -151.597656 207.402344 -146 200.5 -146 C 193.597656 -146 188 -151.597656 188 -158.5 C 188 -165.402344 193.597656 -171 200.5 -171 C 207.402344 -171 213 -165.402344 213 -158.5 \" transform=\"matrix(1,0,0,1,4,506)\"/>\n",
       "<g style=\"fill:rgb(0%,0%,0%);fill-opacity:1;\">\n",
       "  <use xlink:href=\"#glyph0-4\" x=\"195.5\" y=\"350.300781\"/>\n",
       "  <use xlink:href=\"#glyph0-2\" x=\"202.25\" y=\"350.300781\"/>\n",
       "  <use xlink:href=\"#glyph0-4\" x=\"206\" y=\"350.300781\"/>\n",
       "</g>\n",
       "<path style=\"fill:none;stroke-width:1;stroke-linecap:butt;stroke-linejoin:miter;stroke:rgb(74.901961%,74.901961%,74.901961%);stroke-opacity:1;stroke-miterlimit:10;\" d=\"M 213.007812 -158.5 C 228.601562 -158.5 256.757812 -158.5 276.484375 -158.5 \" transform=\"matrix(1,0,0,1,4,506)\"/>\n",
       "<path style=\"fill-rule:nonzero;fill:rgb(74.901961%,74.901961%,74.901961%);fill-opacity:1;stroke-width:1;stroke-linecap:butt;stroke-linejoin:miter;stroke:rgb(74.901961%,74.901961%,74.901961%);stroke-opacity:1;stroke-miterlimit:10;\" d=\"M 276.703125 -162 L 286.703125 -158.5 L 276.703125 -155 Z M 276.703125 -162 \" transform=\"matrix(1,0,0,1,4,506)\"/>\n",
       "<g style=\"fill:rgb(0%,0%,0%);fill-opacity:1;\">\n",
       "  <use xlink:href=\"#glyph1-11\" x=\"235\" y=\"344.699219\"/>\n",
       "  <use xlink:href=\"#glyph1-6\" x=\"241\" y=\"344.699219\"/>\n",
       "  <use xlink:href=\"#glyph1-11\" x=\"244\" y=\"344.699219\"/>\n",
       "  <use xlink:href=\"#glyph1-8\" x=\"250\" y=\"344.699219\"/>\n",
       "  <use xlink:href=\"#glyph1-9\" x=\"253\" y=\"344.699219\"/>\n",
       "  <use xlink:href=\"#glyph1-5\" x=\"256.75\" y=\"344.699219\"/>\n",
       "  <use xlink:href=\"#glyph1-7\" x=\"262.75\" y=\"344.699219\"/>\n",
       "  <use xlink:href=\"#glyph1-10\" x=\"268.75\" y=\"344.699219\"/>\n",
       "</g>\n",
       "<path style=\"fill-rule:nonzero;fill:rgb(32.941176%,77.254902%,40.784314%);fill-opacity:1;stroke-width:4;stroke-linecap:butt;stroke-linejoin:miter;stroke:rgb(22.352941%,65.882353%,29.803922%);stroke-opacity:1;stroke-miterlimit:10;\" d=\"M 213 -79.5 C 213 -72.597656 207.402344 -67 200.5 -67 C 193.597656 -67 188 -72.597656 188 -79.5 C 188 -86.402344 193.597656 -92 200.5 -92 C 207.402344 -92 213 -86.402344 213 -79.5 \" transform=\"matrix(1,0,0,1,4,506)\"/>\n",
       "<g style=\"fill:rgb(0%,0%,0%);fill-opacity:1;\">\n",
       "  <use xlink:href=\"#glyph0-4\" x=\"195.5\" y=\"429.300781\"/>\n",
       "  <use xlink:href=\"#glyph0-2\" x=\"202.25\" y=\"429.300781\"/>\n",
       "  <use xlink:href=\"#glyph0-5\" x=\"206\" y=\"429.300781\"/>\n",
       "</g>\n",
       "<path style=\"fill:none;stroke-width:1;stroke-linecap:butt;stroke-linejoin:miter;stroke:rgb(74.901961%,74.901961%,74.901961%);stroke-opacity:1;stroke-miterlimit:10;\" d=\"M 210.800781 -87.074219 C 227.066406 -100.320312 260.898438 -127.875 281.460938 -144.621094 \" transform=\"matrix(1,0,0,1,4,506)\"/>\n",
       "<path style=\"fill-rule:nonzero;fill:rgb(74.901961%,74.901961%,74.901961%);fill-opacity:1;stroke-width:1;stroke-linecap:butt;stroke-linejoin:miter;stroke:rgb(74.901961%,74.901961%,74.901961%);stroke-opacity:1;stroke-miterlimit:10;\" d=\"M 279.40625 -147.460938 L 289.367188 -151.0625 L 283.824219 -142.035156 Z M 279.40625 -147.460938 \" transform=\"matrix(1,0,0,1,4,506)\"/>\n",
       "<g style=\"fill:rgb(0%,0%,0%);fill-opacity:1;\">\n",
       "  <use xlink:href=\"#glyph1-11\" x=\"235\" y=\"370.699219\"/>\n",
       "  <use xlink:href=\"#glyph1-6\" x=\"241\" y=\"370.699219\"/>\n",
       "  <use xlink:href=\"#glyph1-12\" x=\"244\" y=\"370.699219\"/>\n",
       "  <use xlink:href=\"#glyph1-8\" x=\"250\" y=\"370.699219\"/>\n",
       "  <use xlink:href=\"#glyph1-9\" x=\"253\" y=\"370.699219\"/>\n",
       "  <use xlink:href=\"#glyph1-5\" x=\"256.75\" y=\"370.699219\"/>\n",
       "  <use xlink:href=\"#glyph1-7\" x=\"262.75\" y=\"370.699219\"/>\n",
       "  <use xlink:href=\"#glyph1-10\" x=\"268.75\" y=\"370.699219\"/>\n",
       "</g>\n",
       "<path style=\"fill-rule:nonzero;fill:rgb(99.215686%,90.588235%,14.509804%);fill-opacity:1;stroke-width:4;stroke-linecap:butt;stroke-linejoin:miter;stroke:rgb(90.196078%,81.176471%,0.784314%);stroke-opacity:1;stroke-miterlimit:10;\" d=\"M 120 -465.5 C 120 -458.597656 114.402344 -453 107.5 -453 C 100.597656 -453 95 -458.597656 95 -465.5 C 95 -472.402344 100.597656 -478 107.5 -478 C 114.402344 -478 120 -472.402344 120 -465.5 \" transform=\"matrix(1,0,0,1,4,506)\"/>\n",
       "<g style=\"fill:rgb(0%,0%,0%);fill-opacity:1;\">\n",
       "  <use xlink:href=\"#glyph0-5\" x=\"102.5\" y=\"43.300781\"/>\n",
       "  <use xlink:href=\"#glyph0-2\" x=\"109.25\" y=\"43.300781\"/>\n",
       "  <use xlink:href=\"#glyph0-1\" x=\"113\" y=\"43.300781\"/>\n",
       "</g>\n",
       "<path style=\"fill:none;stroke-width:1;stroke-linecap:butt;stroke-linejoin:miter;stroke:rgb(74.901961%,74.901961%,74.901961%);stroke-opacity:1;stroke-miterlimit:10;\" d=\"M 119.296875 -460.398438 C 134.152344 -453.378906 161.164062 -440.617188 179.703125 -431.855469 \" transform=\"matrix(1,0,0,1,4,506)\"/>\n",
       "<path style=\"fill-rule:nonzero;fill:rgb(74.901961%,74.901961%,74.901961%);fill-opacity:1;stroke-width:1;stroke-linecap:butt;stroke-linejoin:miter;stroke:rgb(74.901961%,74.901961%,74.901961%);stroke-opacity:1;stroke-miterlimit:10;\" d=\"M 181.453125 -434.898438 L 189 -427.460938 L 178.460938 -428.570312 Z M 181.453125 -434.898438 \" transform=\"matrix(1,0,0,1,4,506)\"/>\n",
       "<g style=\"fill:rgb(0%,0%,0%);fill-opacity:1;\">\n",
       "  <use xlink:href=\"#glyph1-12\" x=\"142\" y=\"52.699219\"/>\n",
       "  <use xlink:href=\"#glyph1-6\" x=\"148\" y=\"52.699219\"/>\n",
       "  <use xlink:href=\"#glyph1-7\" x=\"151\" y=\"52.699219\"/>\n",
       "  <use xlink:href=\"#glyph1-8\" x=\"157\" y=\"52.699219\"/>\n",
       "  <use xlink:href=\"#glyph1-9\" x=\"160\" y=\"52.699219\"/>\n",
       "  <use xlink:href=\"#glyph1-13\" x=\"163.75\" y=\"52.699219\"/>\n",
       "  <use xlink:href=\"#glyph1-10\" x=\"169.75\" y=\"52.699219\"/>\n",
       "</g>\n",
       "<path style=\"fill-rule:nonzero;fill:rgb(99.215686%,90.588235%,14.509804%);fill-opacity:1;stroke-width:4;stroke-linecap:butt;stroke-linejoin:miter;stroke:rgb(90.196078%,81.176471%,0.784314%);stroke-opacity:1;stroke-miterlimit:10;\" d=\"M 120 -422.5 C 120 -415.597656 114.402344 -410 107.5 -410 C 100.597656 -410 95 -415.597656 95 -422.5 C 95 -429.402344 100.597656 -435 107.5 -435 C 114.402344 -435 120 -429.402344 120 -422.5 \" transform=\"matrix(1,0,0,1,4,506)\"/>\n",
       "<g style=\"fill:rgb(0%,0%,0%);fill-opacity:1;\">\n",
       "  <use xlink:href=\"#glyph0-5\" x=\"102.5\" y=\"86.300781\"/>\n",
       "  <use xlink:href=\"#glyph0-2\" x=\"109.25\" y=\"86.300781\"/>\n",
       "  <use xlink:href=\"#glyph0-3\" x=\"113\" y=\"86.300781\"/>\n",
       "</g>\n",
       "<path style=\"fill:none;stroke-width:1;stroke-linecap:butt;stroke-linejoin:miter;stroke:rgb(74.901961%,74.901961%,74.901961%);stroke-opacity:1;stroke-miterlimit:10;\" d=\"M 120.023438 -422.5 C 134.441406 -422.5 159.429688 -422.5 177.546875 -422.5 \" transform=\"matrix(1,0,0,1,4,506)\"/>\n",
       "<path style=\"fill-rule:nonzero;fill:rgb(74.901961%,74.901961%,74.901961%);fill-opacity:1;stroke-width:1;stroke-linecap:butt;stroke-linejoin:miter;stroke:rgb(74.901961%,74.901961%,74.901961%);stroke-opacity:1;stroke-miterlimit:10;\" d=\"M 177.78125 -426 L 187.78125 -422.5 L 177.78125 -419 Z M 177.78125 -426 \" transform=\"matrix(1,0,0,1,4,506)\"/>\n",
       "<g style=\"fill:rgb(0%,0%,0%);fill-opacity:1;\">\n",
       "  <use xlink:href=\"#glyph1-12\" x=\"142\" y=\"80.699219\"/>\n",
       "  <use xlink:href=\"#glyph1-6\" x=\"148\" y=\"80.699219\"/>\n",
       "  <use xlink:href=\"#glyph1-5\" x=\"151\" y=\"80.699219\"/>\n",
       "  <use xlink:href=\"#glyph1-8\" x=\"157\" y=\"80.699219\"/>\n",
       "  <use xlink:href=\"#glyph1-9\" x=\"160\" y=\"80.699219\"/>\n",
       "  <use xlink:href=\"#glyph1-13\" x=\"163.75\" y=\"80.699219\"/>\n",
       "  <use xlink:href=\"#glyph1-10\" x=\"169.75\" y=\"80.699219\"/>\n",
       "</g>\n",
       "<path style=\"fill-rule:nonzero;fill:rgb(99.215686%,90.588235%,14.509804%);fill-opacity:1;stroke-width:4;stroke-linecap:butt;stroke-linejoin:miter;stroke:rgb(90.196078%,81.176471%,0.784314%);stroke-opacity:1;stroke-miterlimit:10;\" d=\"M 120 -343.5 C 120 -336.597656 114.402344 -331 107.5 -331 C 100.597656 -331 95 -336.597656 95 -343.5 C 95 -350.402344 100.597656 -356 107.5 -356 C 114.402344 -356 120 -350.402344 120 -343.5 \" transform=\"matrix(1,0,0,1,4,506)\"/>\n",
       "<g style=\"fill:rgb(0%,0%,0%);fill-opacity:1;\">\n",
       "  <use xlink:href=\"#glyph0-5\" x=\"102.5\" y=\"165.300781\"/>\n",
       "  <use xlink:href=\"#glyph0-2\" x=\"109.25\" y=\"165.300781\"/>\n",
       "  <use xlink:href=\"#glyph0-4\" x=\"113\" y=\"165.300781\"/>\n",
       "</g>\n",
       "<path style=\"fill:none;stroke-width:1;stroke-linecap:butt;stroke-linejoin:miter;stroke:rgb(74.901961%,74.901961%,74.901961%);stroke-opacity:1;stroke-miterlimit:10;\" d=\"M 120.023438 -343.5 C 134.441406 -343.5 159.429688 -343.5 177.546875 -343.5 \" transform=\"matrix(1,0,0,1,4,506)\"/>\n",
       "<path style=\"fill-rule:nonzero;fill:rgb(74.901961%,74.901961%,74.901961%);fill-opacity:1;stroke-width:1;stroke-linecap:butt;stroke-linejoin:miter;stroke:rgb(74.901961%,74.901961%,74.901961%);stroke-opacity:1;stroke-miterlimit:10;\" d=\"M 177.78125 -347 L 187.78125 -343.5 L 177.78125 -340 Z M 177.78125 -347 \" transform=\"matrix(1,0,0,1,4,506)\"/>\n",
       "<g style=\"fill:rgb(0%,0%,0%);fill-opacity:1;\">\n",
       "  <use xlink:href=\"#glyph1-12\" x=\"142\" y=\"159.699219\"/>\n",
       "  <use xlink:href=\"#glyph1-6\" x=\"148\" y=\"159.699219\"/>\n",
       "  <use xlink:href=\"#glyph1-11\" x=\"151\" y=\"159.699219\"/>\n",
       "  <use xlink:href=\"#glyph1-8\" x=\"157\" y=\"159.699219\"/>\n",
       "  <use xlink:href=\"#glyph1-9\" x=\"160\" y=\"159.699219\"/>\n",
       "  <use xlink:href=\"#glyph1-13\" x=\"163.75\" y=\"159.699219\"/>\n",
       "  <use xlink:href=\"#glyph1-10\" x=\"169.75\" y=\"159.699219\"/>\n",
       "</g>\n",
       "<path style=\"fill-rule:nonzero;fill:rgb(99.215686%,90.588235%,14.509804%);fill-opacity:1;stroke-width:4;stroke-linecap:butt;stroke-linejoin:miter;stroke:rgb(90.196078%,81.176471%,0.784314%);stroke-opacity:1;stroke-miterlimit:10;\" d=\"M 120 -300.5 C 120 -293.597656 114.402344 -288 107.5 -288 C 100.597656 -288 95 -293.597656 95 -300.5 C 95 -307.402344 100.597656 -313 107.5 -313 C 114.402344 -313 120 -307.402344 120 -300.5 \" transform=\"matrix(1,0,0,1,4,506)\"/>\n",
       "<g style=\"fill:rgb(0%,0%,0%);fill-opacity:1;\">\n",
       "  <use xlink:href=\"#glyph0-5\" x=\"102.5\" y=\"208.300781\"/>\n",
       "  <use xlink:href=\"#glyph0-2\" x=\"109.25\" y=\"208.300781\"/>\n",
       "  <use xlink:href=\"#glyph0-5\" x=\"113\" y=\"208.300781\"/>\n",
       "</g>\n",
       "<path style=\"fill:none;stroke-width:1;stroke-linecap:butt;stroke-linejoin:miter;stroke:rgb(74.901961%,74.901961%,74.901961%);stroke-opacity:1;stroke-miterlimit:10;\" d=\"M 119.296875 -305.601562 C 134.152344 -312.621094 161.164062 -325.382812 179.703125 -334.144531 \" transform=\"matrix(1,0,0,1,4,506)\"/>\n",
       "<path style=\"fill-rule:nonzero;fill:rgb(74.901961%,74.901961%,74.901961%);fill-opacity:1;stroke-width:1;stroke-linecap:butt;stroke-linejoin:miter;stroke:rgb(74.901961%,74.901961%,74.901961%);stroke-opacity:1;stroke-miterlimit:10;\" d=\"M 178.460938 -337.429688 L 189 -338.539062 L 181.453125 -331.101562 Z M 178.460938 -337.429688 \" transform=\"matrix(1,0,0,1,4,506)\"/>\n",
       "<g style=\"fill:rgb(0%,0%,0%);fill-opacity:1;\">\n",
       "  <use xlink:href=\"#glyph1-12\" x=\"142\" y=\"173.699219\"/>\n",
       "  <use xlink:href=\"#glyph1-6\" x=\"148\" y=\"173.699219\"/>\n",
       "  <use xlink:href=\"#glyph1-12\" x=\"151\" y=\"173.699219\"/>\n",
       "  <use xlink:href=\"#glyph1-8\" x=\"157\" y=\"173.699219\"/>\n",
       "  <use xlink:href=\"#glyph1-9\" x=\"160\" y=\"173.699219\"/>\n",
       "  <use xlink:href=\"#glyph1-13\" x=\"163.75\" y=\"173.699219\"/>\n",
       "  <use xlink:href=\"#glyph1-10\" x=\"169.75\" y=\"173.699219\"/>\n",
       "</g>\n",
       "<path style=\"fill-rule:nonzero;fill:rgb(99.215686%,90.588235%,14.509804%);fill-opacity:1;stroke-width:4;stroke-linecap:butt;stroke-linejoin:miter;stroke:rgb(90.196078%,81.176471%,0.784314%);stroke-opacity:1;stroke-miterlimit:10;\" d=\"M 120 -201.5 C 120 -194.597656 114.402344 -189 107.5 -189 C 100.597656 -189 95 -194.597656 95 -201.5 C 95 -208.402344 100.597656 -214 107.5 -214 C 114.402344 -214 120 -208.402344 120 -201.5 \" transform=\"matrix(1,0,0,1,4,506)\"/>\n",
       "<g style=\"fill:rgb(0%,0%,0%);fill-opacity:1;\">\n",
       "  <use xlink:href=\"#glyph0-5\" x=\"102.5\" y=\"307.300781\"/>\n",
       "  <use xlink:href=\"#glyph0-2\" x=\"109.25\" y=\"307.300781\"/>\n",
       "  <use xlink:href=\"#glyph0-6\" x=\"113\" y=\"307.300781\"/>\n",
       "</g>\n",
       "<path style=\"fill:none;stroke-width:1;stroke-linecap:butt;stroke-linejoin:miter;stroke:rgb(74.901961%,74.901961%,74.901961%);stroke-opacity:1;stroke-miterlimit:10;\" d=\"M 119.296875 -196.398438 C 134.152344 -189.378906 161.164062 -176.617188 179.703125 -167.855469 \" transform=\"matrix(1,0,0,1,4,506)\"/>\n",
       "<path style=\"fill-rule:nonzero;fill:rgb(74.901961%,74.901961%,74.901961%);fill-opacity:1;stroke-width:1;stroke-linecap:butt;stroke-linejoin:miter;stroke:rgb(74.901961%,74.901961%,74.901961%);stroke-opacity:1;stroke-miterlimit:10;\" d=\"M 181.453125 -170.898438 L 189 -163.460938 L 178.460938 -164.570312 Z M 181.453125 -170.898438 \" transform=\"matrix(1,0,0,1,4,506)\"/>\n",
       "<g style=\"fill:rgb(0%,0%,0%);fill-opacity:1;\">\n",
       "  <use xlink:href=\"#glyph1-12\" x=\"142\" y=\"316.699219\"/>\n",
       "  <use xlink:href=\"#glyph1-6\" x=\"148\" y=\"316.699219\"/>\n",
       "  <use xlink:href=\"#glyph1-13\" x=\"151\" y=\"316.699219\"/>\n",
       "  <use xlink:href=\"#glyph1-8\" x=\"157\" y=\"316.699219\"/>\n",
       "  <use xlink:href=\"#glyph1-9\" x=\"160\" y=\"316.699219\"/>\n",
       "  <use xlink:href=\"#glyph1-13\" x=\"163.75\" y=\"316.699219\"/>\n",
       "  <use xlink:href=\"#glyph1-10\" x=\"169.75\" y=\"316.699219\"/>\n",
       "</g>\n",
       "<path style=\"fill-rule:nonzero;fill:rgb(99.215686%,90.588235%,14.509804%);fill-opacity:1;stroke-width:4;stroke-linecap:butt;stroke-linejoin:miter;stroke:rgb(90.196078%,81.176471%,0.784314%);stroke-opacity:1;stroke-miterlimit:10;\" d=\"M 120 -158.5 C 120 -151.597656 114.402344 -146 107.5 -146 C 100.597656 -146 95 -151.597656 95 -158.5 C 95 -165.402344 100.597656 -171 107.5 -171 C 114.402344 -171 120 -165.402344 120 -158.5 \" transform=\"matrix(1,0,0,1,4,506)\"/>\n",
       "<g style=\"fill:rgb(0%,0%,0%);fill-opacity:1;\">\n",
       "  <use xlink:href=\"#glyph0-5\" x=\"102.5\" y=\"350.300781\"/>\n",
       "  <use xlink:href=\"#glyph0-2\" x=\"109.25\" y=\"350.300781\"/>\n",
       "  <use xlink:href=\"#glyph0-7\" x=\"113\" y=\"350.300781\"/>\n",
       "</g>\n",
       "<path style=\"fill:none;stroke-width:1;stroke-linecap:butt;stroke-linejoin:miter;stroke:rgb(74.901961%,74.901961%,74.901961%);stroke-opacity:1;stroke-miterlimit:10;\" d=\"M 120.023438 -158.5 C 134.441406 -158.5 159.429688 -158.5 177.546875 -158.5 \" transform=\"matrix(1,0,0,1,4,506)\"/>\n",
       "<path style=\"fill-rule:nonzero;fill:rgb(74.901961%,74.901961%,74.901961%);fill-opacity:1;stroke-width:1;stroke-linecap:butt;stroke-linejoin:miter;stroke:rgb(74.901961%,74.901961%,74.901961%);stroke-opacity:1;stroke-miterlimit:10;\" d=\"M 177.78125 -162 L 187.78125 -158.5 L 177.78125 -155 Z M 177.78125 -162 \" transform=\"matrix(1,0,0,1,4,506)\"/>\n",
       "<g style=\"fill:rgb(0%,0%,0%);fill-opacity:1;\">\n",
       "  <use xlink:href=\"#glyph1-12\" x=\"142\" y=\"344.699219\"/>\n",
       "  <use xlink:href=\"#glyph1-6\" x=\"148\" y=\"344.699219\"/>\n",
       "  <use xlink:href=\"#glyph1-14\" x=\"151\" y=\"344.699219\"/>\n",
       "  <use xlink:href=\"#glyph1-8\" x=\"157\" y=\"344.699219\"/>\n",
       "  <use xlink:href=\"#glyph1-9\" x=\"160\" y=\"344.699219\"/>\n",
       "  <use xlink:href=\"#glyph1-13\" x=\"163.75\" y=\"344.699219\"/>\n",
       "  <use xlink:href=\"#glyph1-10\" x=\"169.75\" y=\"344.699219\"/>\n",
       "</g>\n",
       "<path style=\"fill-rule:nonzero;fill:rgb(99.215686%,90.588235%,14.509804%);fill-opacity:1;stroke-width:4;stroke-linecap:butt;stroke-linejoin:miter;stroke:rgb(90.196078%,81.176471%,0.784314%);stroke-opacity:1;stroke-miterlimit:10;\" d=\"M 120 -79.5 C 120 -72.597656 114.402344 -67 107.5 -67 C 100.597656 -67 95 -72.597656 95 -79.5 C 95 -86.402344 100.597656 -92 107.5 -92 C 114.402344 -92 120 -86.402344 120 -79.5 \" transform=\"matrix(1,0,0,1,4,506)\"/>\n",
       "<g style=\"fill:rgb(0%,0%,0%);fill-opacity:1;\">\n",
       "  <use xlink:href=\"#glyph0-5\" x=\"102.5\" y=\"429.300781\"/>\n",
       "  <use xlink:href=\"#glyph0-2\" x=\"109.25\" y=\"429.300781\"/>\n",
       "  <use xlink:href=\"#glyph0-8\" x=\"113\" y=\"429.300781\"/>\n",
       "</g>\n",
       "<path style=\"fill:none;stroke-width:1;stroke-linecap:butt;stroke-linejoin:miter;stroke:rgb(74.901961%,74.901961%,74.901961%);stroke-opacity:1;stroke-miterlimit:10;\" d=\"M 120.023438 -79.5 C 134.441406 -79.5 159.429688 -79.5 177.546875 -79.5 \" transform=\"matrix(1,0,0,1,4,506)\"/>\n",
       "<path style=\"fill-rule:nonzero;fill:rgb(74.901961%,74.901961%,74.901961%);fill-opacity:1;stroke-width:1;stroke-linecap:butt;stroke-linejoin:miter;stroke:rgb(74.901961%,74.901961%,74.901961%);stroke-opacity:1;stroke-miterlimit:10;\" d=\"M 177.78125 -83 L 187.78125 -79.5 L 177.78125 -76 Z M 177.78125 -83 \" transform=\"matrix(1,0,0,1,4,506)\"/>\n",
       "<g style=\"fill:rgb(0%,0%,0%);fill-opacity:1;\">\n",
       "  <use xlink:href=\"#glyph1-12\" x=\"142\" y=\"423.699219\"/>\n",
       "  <use xlink:href=\"#glyph1-6\" x=\"148\" y=\"423.699219\"/>\n",
       "  <use xlink:href=\"#glyph1-15\" x=\"151\" y=\"423.699219\"/>\n",
       "  <use xlink:href=\"#glyph1-8\" x=\"157\" y=\"423.699219\"/>\n",
       "  <use xlink:href=\"#glyph1-9\" x=\"160\" y=\"423.699219\"/>\n",
       "  <use xlink:href=\"#glyph1-13\" x=\"163.75\" y=\"423.699219\"/>\n",
       "  <use xlink:href=\"#glyph1-10\" x=\"169.75\" y=\"423.699219\"/>\n",
       "</g>\n",
       "<path style=\"fill-rule:nonzero;fill:rgb(99.215686%,90.588235%,14.509804%);fill-opacity:1;stroke-width:4;stroke-linecap:butt;stroke-linejoin:miter;stroke:rgb(90.196078%,81.176471%,0.784314%);stroke-opacity:1;stroke-miterlimit:10;\" d=\"M 120 -36.5 C 120 -29.597656 114.402344 -24 107.5 -24 C 100.597656 -24 95 -29.597656 95 -36.5 C 95 -43.402344 100.597656 -49 107.5 -49 C 114.402344 -49 120 -43.402344 120 -36.5 \" transform=\"matrix(1,0,0,1,4,506)\"/>\n",
       "<g style=\"fill:rgb(0%,0%,0%);fill-opacity:1;\">\n",
       "  <use xlink:href=\"#glyph0-5\" x=\"102.5\" y=\"472.300781\"/>\n",
       "  <use xlink:href=\"#glyph0-2\" x=\"109.25\" y=\"472.300781\"/>\n",
       "  <use xlink:href=\"#glyph0-9\" x=\"113\" y=\"472.300781\"/>\n",
       "</g>\n",
       "<path style=\"fill:none;stroke-width:1;stroke-linecap:butt;stroke-linejoin:miter;stroke:rgb(74.901961%,74.901961%,74.901961%);stroke-opacity:1;stroke-miterlimit:10;\" d=\"M 119.296875 -41.601562 C 134.152344 -48.621094 161.164062 -61.382812 179.703125 -70.144531 \" transform=\"matrix(1,0,0,1,4,506)\"/>\n",
       "<path style=\"fill-rule:nonzero;fill:rgb(74.901961%,74.901961%,74.901961%);fill-opacity:1;stroke-width:1;stroke-linecap:butt;stroke-linejoin:miter;stroke:rgb(74.901961%,74.901961%,74.901961%);stroke-opacity:1;stroke-miterlimit:10;\" d=\"M 178.460938 -73.429688 L 189 -74.539062 L 181.453125 -67.101562 Z M 178.460938 -73.429688 \" transform=\"matrix(1,0,0,1,4,506)\"/>\n",
       "<g style=\"fill:rgb(0%,0%,0%);fill-opacity:1;\">\n",
       "  <use xlink:href=\"#glyph1-12\" x=\"142\" y=\"437.699219\"/>\n",
       "  <use xlink:href=\"#glyph1-6\" x=\"148\" y=\"437.699219\"/>\n",
       "  <use xlink:href=\"#glyph1-16\" x=\"151\" y=\"437.699219\"/>\n",
       "  <use xlink:href=\"#glyph1-8\" x=\"157\" y=\"437.699219\"/>\n",
       "  <use xlink:href=\"#glyph1-9\" x=\"160\" y=\"437.699219\"/>\n",
       "  <use xlink:href=\"#glyph1-13\" x=\"163.75\" y=\"437.699219\"/>\n",
       "  <use xlink:href=\"#glyph1-10\" x=\"169.75\" y=\"437.699219\"/>\n",
       "</g>\n",
       "<path style=\"fill:none;stroke-width:1;stroke-linecap:butt;stroke-linejoin:miter;stroke:rgb(74.901961%,74.901961%,74.901961%);stroke-opacity:1;stroke-miterlimit:10;\" d=\"M 7.019531 -497.683594 C 17.699219 -494.230469 59.828125 -480.597656 85.714844 -472.222656 \" transform=\"matrix(1,0,0,1,4,506)\"/>\n",
       "<path style=\"fill-rule:nonzero;fill:rgb(74.901961%,74.901961%,74.901961%);fill-opacity:1;stroke-width:1;stroke-linecap:butt;stroke-linejoin:miter;stroke:rgb(74.901961%,74.901961%,74.901961%);stroke-opacity:1;stroke-miterlimit:10;\" d=\"M 86.929688 -475.511719 L 95.367188 -469.101562 L 84.773438 -468.851562 Z M 86.929688 -475.511719 \" transform=\"matrix(1,0,0,1,4,506)\"/>\n",
       "<g style=\"fill:rgb(0%,0%,0%);fill-opacity:1;\">\n",
       "  <use xlink:href=\"#glyph1-17\" x=\"32\" y=\"11.699219\"/>\n",
       "  <use xlink:href=\"#glyph1-2\" x=\"38\" y=\"11.699219\"/>\n",
       "  <use xlink:href=\"#glyph1-18\" x=\"43.25\" y=\"11.699219\"/>\n",
       "  <use xlink:href=\"#glyph1-2\" x=\"47\" y=\"11.699219\"/>\n",
       "  <use xlink:href=\"#glyph1-6\" x=\"52.25\" y=\"11.699219\"/>\n",
       "  <use xlink:href=\"#glyph1-7\" x=\"55.25\" y=\"11.699219\"/>\n",
       "  <use xlink:href=\"#glyph1-8\" x=\"61.25\" y=\"11.699219\"/>\n",
       "  <use xlink:href=\"#glyph1-9\" x=\"64.25\" y=\"11.699219\"/>\n",
       "  <use xlink:href=\"#glyph1-11\" x=\"68\" y=\"11.699219\"/>\n",
       "  <use xlink:href=\"#glyph1-10\" x=\"74\" y=\"11.699219\"/>\n",
       "</g>\n",
       "<path style=\"fill:none;stroke-width:1;stroke-linecap:butt;stroke-linejoin:miter;stroke:rgb(74.901961%,74.901961%,74.901961%);stroke-opacity:1;stroke-miterlimit:10;\" d=\"M 7.019531 -465.5 C 17.542969 -465.5 58.613281 -465.5 84.578125 -465.5 \" transform=\"matrix(1,0,0,1,4,506)\"/>\n",
       "<path style=\"fill-rule:nonzero;fill:rgb(74.901961%,74.901961%,74.901961%);fill-opacity:1;stroke-width:1;stroke-linecap:butt;stroke-linejoin:miter;stroke:rgb(74.901961%,74.901961%,74.901961%);stroke-opacity:1;stroke-miterlimit:10;\" d=\"M 84.648438 -469 L 94.648438 -465.5 L 84.648438 -462 Z M 84.648438 -469 \" transform=\"matrix(1,0,0,1,4,506)\"/>\n",
       "<g style=\"fill:rgb(0%,0%,0%);fill-opacity:1;\">\n",
       "  <use xlink:href=\"#glyph1-17\" x=\"32\" y=\"37.699219\"/>\n",
       "  <use xlink:href=\"#glyph1-2\" x=\"38\" y=\"37.699219\"/>\n",
       "  <use xlink:href=\"#glyph1-18\" x=\"43.25\" y=\"37.699219\"/>\n",
       "  <use xlink:href=\"#glyph1-2\" x=\"47\" y=\"37.699219\"/>\n",
       "  <use xlink:href=\"#glyph1-6\" x=\"52.25\" y=\"37.699219\"/>\n",
       "  <use xlink:href=\"#glyph1-5\" x=\"55.25\" y=\"37.699219\"/>\n",
       "  <use xlink:href=\"#glyph1-8\" x=\"61.25\" y=\"37.699219\"/>\n",
       "  <use xlink:href=\"#glyph1-9\" x=\"64.25\" y=\"37.699219\"/>\n",
       "  <use xlink:href=\"#glyph1-11\" x=\"68\" y=\"37.699219\"/>\n",
       "  <use xlink:href=\"#glyph1-10\" x=\"74\" y=\"37.699219\"/>\n",
       "</g>\n",
       "<path style=\"fill:none;stroke-width:1;stroke-linecap:butt;stroke-linejoin:miter;stroke:rgb(74.901961%,74.901961%,74.901961%);stroke-opacity:1;stroke-miterlimit:10;\" d=\"M 7.019531 -432.253906 C 17.597656 -431.214844 59.035156 -427.152344 84.976562 -424.609375 \" transform=\"matrix(1,0,0,1,4,506)\"/>\n",
       "<path style=\"fill-rule:nonzero;fill:rgb(74.901961%,74.901961%,74.901961%);fill-opacity:1;stroke-width:1;stroke-linecap:butt;stroke-linejoin:miter;stroke:rgb(74.901961%,74.901961%,74.901961%);stroke-opacity:1;stroke-miterlimit:10;\" d=\"M 85.398438 -428.085938 L 95.011719 -423.625 L 84.714844 -421.117188 Z M 85.398438 -428.085938 \" transform=\"matrix(1,0,0,1,4,506)\"/>\n",
       "<g style=\"fill:rgb(0%,0%,0%);fill-opacity:1;\">\n",
       "  <use xlink:href=\"#glyph1-17\" x=\"32\" y=\"73.699219\"/>\n",
       "  <use xlink:href=\"#glyph1-2\" x=\"38\" y=\"73.699219\"/>\n",
       "  <use xlink:href=\"#glyph1-18\" x=\"43.25\" y=\"73.699219\"/>\n",
       "  <use xlink:href=\"#glyph1-2\" x=\"47\" y=\"73.699219\"/>\n",
       "  <use xlink:href=\"#glyph1-6\" x=\"52.25\" y=\"73.699219\"/>\n",
       "  <use xlink:href=\"#glyph1-11\" x=\"55.25\" y=\"73.699219\"/>\n",
       "  <use xlink:href=\"#glyph1-8\" x=\"61.25\" y=\"73.699219\"/>\n",
       "  <use xlink:href=\"#glyph1-9\" x=\"64.25\" y=\"73.699219\"/>\n",
       "  <use xlink:href=\"#glyph1-11\" x=\"68\" y=\"73.699219\"/>\n",
       "  <use xlink:href=\"#glyph1-10\" x=\"74\" y=\"73.699219\"/>\n",
       "</g>\n",
       "<path style=\"fill:none;stroke-width:1;stroke-linecap:butt;stroke-linejoin:miter;stroke:rgb(74.901961%,74.901961%,74.901961%);stroke-opacity:1;stroke-miterlimit:10;\" d=\"M 7.019531 -400.070312 C 17.597656 -402.453125 59.035156 -411.796875 84.976562 -417.644531 \" transform=\"matrix(1,0,0,1,4,506)\"/>\n",
       "<path style=\"fill-rule:nonzero;fill:rgb(74.901961%,74.901961%,74.901961%);fill-opacity:1;stroke-width:1;stroke-linecap:butt;stroke-linejoin:miter;stroke:rgb(74.901961%,74.901961%,74.901961%);stroke-opacity:1;stroke-miterlimit:10;\" d=\"M 84.484375 -421.125 L 95.011719 -419.910156 L 86.023438 -414.296875 Z M 84.484375 -421.125 \" transform=\"matrix(1,0,0,1,4,506)\"/>\n",
       "<g style=\"fill:rgb(0%,0%,0%);fill-opacity:1;\">\n",
       "  <use xlink:href=\"#glyph1-17\" x=\"32\" y=\"92.699219\"/>\n",
       "  <use xlink:href=\"#glyph1-2\" x=\"38\" y=\"92.699219\"/>\n",
       "  <use xlink:href=\"#glyph1-18\" x=\"43.25\" y=\"92.699219\"/>\n",
       "  <use xlink:href=\"#glyph1-2\" x=\"47\" y=\"92.699219\"/>\n",
       "  <use xlink:href=\"#glyph1-6\" x=\"52.25\" y=\"92.699219\"/>\n",
       "  <use xlink:href=\"#glyph1-12\" x=\"55.25\" y=\"92.699219\"/>\n",
       "  <use xlink:href=\"#glyph1-8\" x=\"61.25\" y=\"92.699219\"/>\n",
       "  <use xlink:href=\"#glyph1-9\" x=\"64.25\" y=\"92.699219\"/>\n",
       "  <use xlink:href=\"#glyph1-11\" x=\"68\" y=\"92.699219\"/>\n",
       "  <use xlink:href=\"#glyph1-10\" x=\"74\" y=\"92.699219\"/>\n",
       "</g>\n",
       "<path style=\"fill:none;stroke-width:1;stroke-linecap:butt;stroke-linejoin:miter;stroke:rgb(74.901961%,74.901961%,74.901961%);stroke-opacity:1;stroke-miterlimit:10;\" d=\"M 7.019531 -365.929688 C 17.597656 -363.546875 59.035156 -354.203125 84.976562 -348.355469 \" transform=\"matrix(1,0,0,1,4,506)\"/>\n",
       "<path style=\"fill-rule:nonzero;fill:rgb(74.901961%,74.901961%,74.901961%);fill-opacity:1;stroke-width:1;stroke-linecap:butt;stroke-linejoin:miter;stroke:rgb(74.901961%,74.901961%,74.901961%);stroke-opacity:1;stroke-miterlimit:10;\" d=\"M 86.023438 -351.703125 L 95.011719 -346.089844 L 84.484375 -344.875 Z M 86.023438 -351.703125 \" transform=\"matrix(1,0,0,1,4,506)\"/>\n",
       "<g style=\"fill:rgb(0%,0%,0%);fill-opacity:1;\">\n",
       "  <use xlink:href=\"#glyph1-17\" x=\"32\" y=\"141.699219\"/>\n",
       "  <use xlink:href=\"#glyph1-2\" x=\"38\" y=\"141.699219\"/>\n",
       "  <use xlink:href=\"#glyph1-18\" x=\"43.25\" y=\"141.699219\"/>\n",
       "  <use xlink:href=\"#glyph1-2\" x=\"47\" y=\"141.699219\"/>\n",
       "  <use xlink:href=\"#glyph1-6\" x=\"52.25\" y=\"141.699219\"/>\n",
       "  <use xlink:href=\"#glyph1-13\" x=\"55.25\" y=\"141.699219\"/>\n",
       "  <use xlink:href=\"#glyph1-8\" x=\"61.25\" y=\"141.699219\"/>\n",
       "  <use xlink:href=\"#glyph1-9\" x=\"64.25\" y=\"141.699219\"/>\n",
       "  <use xlink:href=\"#glyph1-11\" x=\"68\" y=\"141.699219\"/>\n",
       "  <use xlink:href=\"#glyph1-10\" x=\"74\" y=\"141.699219\"/>\n",
       "</g>\n",
       "<path style=\"fill:none;stroke-width:1;stroke-linecap:butt;stroke-linejoin:miter;stroke:rgb(74.901961%,74.901961%,74.901961%);stroke-opacity:1;stroke-miterlimit:10;\" d=\"M 7.019531 -333.746094 C 17.597656 -334.785156 59.035156 -338.847656 84.976562 -341.390625 \" transform=\"matrix(1,0,0,1,4,506)\"/>\n",
       "<path style=\"fill-rule:nonzero;fill:rgb(74.901961%,74.901961%,74.901961%);fill-opacity:1;stroke-width:1;stroke-linecap:butt;stroke-linejoin:miter;stroke:rgb(74.901961%,74.901961%,74.901961%);stroke-opacity:1;stroke-miterlimit:10;\" d=\"M 84.714844 -344.882812 L 95.011719 -342.375 L 85.398438 -337.914062 Z M 84.714844 -344.882812 \" transform=\"matrix(1,0,0,1,4,506)\"/>\n",
       "<g style=\"fill:rgb(0%,0%,0%);fill-opacity:1;\">\n",
       "  <use xlink:href=\"#glyph1-17\" x=\"32\" y=\"168.699219\"/>\n",
       "  <use xlink:href=\"#glyph1-2\" x=\"38\" y=\"168.699219\"/>\n",
       "  <use xlink:href=\"#glyph1-18\" x=\"43.25\" y=\"168.699219\"/>\n",
       "  <use xlink:href=\"#glyph1-2\" x=\"47\" y=\"168.699219\"/>\n",
       "  <use xlink:href=\"#glyph1-6\" x=\"52.25\" y=\"168.699219\"/>\n",
       "  <use xlink:href=\"#glyph1-14\" x=\"55.25\" y=\"168.699219\"/>\n",
       "  <use xlink:href=\"#glyph1-8\" x=\"61.25\" y=\"168.699219\"/>\n",
       "  <use xlink:href=\"#glyph1-9\" x=\"64.25\" y=\"168.699219\"/>\n",
       "  <use xlink:href=\"#glyph1-11\" x=\"68\" y=\"168.699219\"/>\n",
       "  <use xlink:href=\"#glyph1-10\" x=\"74\" y=\"168.699219\"/>\n",
       "</g>\n",
       "<path style=\"fill:none;stroke-width:1;stroke-linecap:butt;stroke-linejoin:miter;stroke:rgb(74.901961%,74.901961%,74.901961%);stroke-opacity:1;stroke-miterlimit:10;\" d=\"M 7.019531 -300.5 C 17.542969 -300.5 58.613281 -300.5 84.578125 -300.5 \" transform=\"matrix(1,0,0,1,4,506)\"/>\n",
       "<path style=\"fill-rule:nonzero;fill:rgb(74.901961%,74.901961%,74.901961%);fill-opacity:1;stroke-width:1;stroke-linecap:butt;stroke-linejoin:miter;stroke:rgb(74.901961%,74.901961%,74.901961%);stroke-opacity:1;stroke-miterlimit:10;\" d=\"M 84.648438 -304 L 94.648438 -300.5 L 84.648438 -297 Z M 84.648438 -304 \" transform=\"matrix(1,0,0,1,4,506)\"/>\n",
       "<g style=\"fill:rgb(0%,0%,0%);fill-opacity:1;\">\n",
       "  <use xlink:href=\"#glyph1-17\" x=\"32\" y=\"202.699219\"/>\n",
       "  <use xlink:href=\"#glyph1-2\" x=\"38\" y=\"202.699219\"/>\n",
       "  <use xlink:href=\"#glyph1-18\" x=\"43.25\" y=\"202.699219\"/>\n",
       "  <use xlink:href=\"#glyph1-2\" x=\"47\" y=\"202.699219\"/>\n",
       "  <use xlink:href=\"#glyph1-6\" x=\"52.25\" y=\"202.699219\"/>\n",
       "  <use xlink:href=\"#glyph1-15\" x=\"55.25\" y=\"202.699219\"/>\n",
       "  <use xlink:href=\"#glyph1-8\" x=\"61.25\" y=\"202.699219\"/>\n",
       "  <use xlink:href=\"#glyph1-9\" x=\"64.25\" y=\"202.699219\"/>\n",
       "  <use xlink:href=\"#glyph1-11\" x=\"68\" y=\"202.699219\"/>\n",
       "  <use xlink:href=\"#glyph1-10\" x=\"74\" y=\"202.699219\"/>\n",
       "</g>\n",
       "<path style=\"fill:none;stroke-width:1;stroke-linecap:butt;stroke-linejoin:miter;stroke:rgb(74.901961%,74.901961%,74.901961%);stroke-opacity:1;stroke-miterlimit:10;\" d=\"M 7.019531 -268.316406 C 17.699219 -271.769531 59.828125 -285.402344 85.714844 -293.777344 \" transform=\"matrix(1,0,0,1,4,506)\"/>\n",
       "<path style=\"fill-rule:nonzero;fill:rgb(74.901961%,74.901961%,74.901961%);fill-opacity:1;stroke-width:1;stroke-linecap:butt;stroke-linejoin:miter;stroke:rgb(74.901961%,74.901961%,74.901961%);stroke-opacity:1;stroke-miterlimit:10;\" d=\"M 84.773438 -297.148438 L 95.367188 -296.898438 L 86.929688 -290.488281 Z M 84.773438 -297.148438 \" transform=\"matrix(1,0,0,1,4,506)\"/>\n",
       "<g style=\"fill:rgb(0%,0%,0%);fill-opacity:1;\">\n",
       "  <use xlink:href=\"#glyph1-17\" x=\"32\" y=\"216.699219\"/>\n",
       "  <use xlink:href=\"#glyph1-2\" x=\"38\" y=\"216.699219\"/>\n",
       "  <use xlink:href=\"#glyph1-18\" x=\"43.25\" y=\"216.699219\"/>\n",
       "  <use xlink:href=\"#glyph1-2\" x=\"47\" y=\"216.699219\"/>\n",
       "  <use xlink:href=\"#glyph1-6\" x=\"52.25\" y=\"216.699219\"/>\n",
       "  <use xlink:href=\"#glyph1-16\" x=\"55.25\" y=\"216.699219\"/>\n",
       "  <use xlink:href=\"#glyph1-8\" x=\"61.25\" y=\"216.699219\"/>\n",
       "  <use xlink:href=\"#glyph1-9\" x=\"64.25\" y=\"216.699219\"/>\n",
       "  <use xlink:href=\"#glyph1-11\" x=\"68\" y=\"216.699219\"/>\n",
       "  <use xlink:href=\"#glyph1-10\" x=\"74\" y=\"216.699219\"/>\n",
       "</g>\n",
       "<path style=\"fill:none;stroke-width:1;stroke-linecap:butt;stroke-linejoin:miter;stroke:rgb(74.901961%,74.901961%,74.901961%);stroke-opacity:1;stroke-miterlimit:10;\" d=\"M 7.019531 -233.683594 C 17.699219 -230.230469 59.828125 -216.597656 85.714844 -208.222656 \" transform=\"matrix(1,0,0,1,4,506)\"/>\n",
       "<path style=\"fill-rule:nonzero;fill:rgb(74.901961%,74.901961%,74.901961%);fill-opacity:1;stroke-width:1;stroke-linecap:butt;stroke-linejoin:miter;stroke:rgb(74.901961%,74.901961%,74.901961%);stroke-opacity:1;stroke-miterlimit:10;\" d=\"M 86.929688 -211.511719 L 95.367188 -205.101562 L 84.773438 -204.851562 Z M 86.929688 -211.511719 \" transform=\"matrix(1,0,0,1,4,506)\"/>\n",
       "<g style=\"fill:rgb(0%,0%,0%);fill-opacity:1;\">\n",
       "  <use xlink:href=\"#glyph1-17\" x=\"32\" y=\"275.699219\"/>\n",
       "  <use xlink:href=\"#glyph1-2\" x=\"38\" y=\"275.699219\"/>\n",
       "  <use xlink:href=\"#glyph1-18\" x=\"43.25\" y=\"275.699219\"/>\n",
       "  <use xlink:href=\"#glyph1-2\" x=\"47\" y=\"275.699219\"/>\n",
       "  <use xlink:href=\"#glyph1-6\" x=\"52.25\" y=\"275.699219\"/>\n",
       "  <use xlink:href=\"#glyph1-19\" x=\"55.25\" y=\"275.699219\"/>\n",
       "  <use xlink:href=\"#glyph1-8\" x=\"61.25\" y=\"275.699219\"/>\n",
       "  <use xlink:href=\"#glyph1-9\" x=\"64.25\" y=\"275.699219\"/>\n",
       "  <use xlink:href=\"#glyph1-11\" x=\"68\" y=\"275.699219\"/>\n",
       "  <use xlink:href=\"#glyph1-10\" x=\"74\" y=\"275.699219\"/>\n",
       "</g>\n",
       "<path style=\"fill:none;stroke-width:1;stroke-linecap:butt;stroke-linejoin:miter;stroke:rgb(74.901961%,74.901961%,74.901961%);stroke-opacity:1;stroke-miterlimit:10;\" d=\"M 7.019531 -201.5 C 17.542969 -201.5 58.613281 -201.5 84.578125 -201.5 \" transform=\"matrix(1,0,0,1,4,506)\"/>\n",
       "<path style=\"fill-rule:nonzero;fill:rgb(74.901961%,74.901961%,74.901961%);fill-opacity:1;stroke-width:1;stroke-linecap:butt;stroke-linejoin:miter;stroke:rgb(74.901961%,74.901961%,74.901961%);stroke-opacity:1;stroke-miterlimit:10;\" d=\"M 84.648438 -205 L 94.648438 -201.5 L 84.648438 -198 Z M 84.648438 -205 \" transform=\"matrix(1,0,0,1,4,506)\"/>\n",
       "<g style=\"fill:rgb(0%,0%,0%);fill-opacity:1;\">\n",
       "  <use xlink:href=\"#glyph1-17\" x=\"32\" y=\"301.699219\"/>\n",
       "  <use xlink:href=\"#glyph1-2\" x=\"38\" y=\"301.699219\"/>\n",
       "  <use xlink:href=\"#glyph1-18\" x=\"43.25\" y=\"301.699219\"/>\n",
       "  <use xlink:href=\"#glyph1-2\" x=\"47\" y=\"301.699219\"/>\n",
       "  <use xlink:href=\"#glyph1-6\" x=\"52.25\" y=\"301.699219\"/>\n",
       "  <use xlink:href=\"#glyph1-20\" x=\"55.25\" y=\"301.699219\"/>\n",
       "  <use xlink:href=\"#glyph1-8\" x=\"61.25\" y=\"301.699219\"/>\n",
       "  <use xlink:href=\"#glyph1-9\" x=\"64.25\" y=\"301.699219\"/>\n",
       "  <use xlink:href=\"#glyph1-11\" x=\"68\" y=\"301.699219\"/>\n",
       "  <use xlink:href=\"#glyph1-10\" x=\"74\" y=\"301.699219\"/>\n",
       "</g>\n",
       "<path style=\"fill:none;stroke-width:1;stroke-linecap:butt;stroke-linejoin:miter;stroke:rgb(74.901961%,74.901961%,74.901961%);stroke-opacity:1;stroke-miterlimit:10;\" d=\"M 7.019531 -168.253906 C 17.597656 -167.214844 59.035156 -163.152344 84.976562 -160.609375 \" transform=\"matrix(1,0,0,1,4,506)\"/>\n",
       "<path style=\"fill-rule:nonzero;fill:rgb(74.901961%,74.901961%,74.901961%);fill-opacity:1;stroke-width:1;stroke-linecap:butt;stroke-linejoin:miter;stroke:rgb(74.901961%,74.901961%,74.901961%);stroke-opacity:1;stroke-miterlimit:10;\" d=\"M 85.398438 -164.085938 L 95.011719 -159.625 L 84.714844 -157.117188 Z M 85.398438 -164.085938 \" transform=\"matrix(1,0,0,1,4,506)\"/>\n",
       "<g style=\"fill:rgb(0%,0%,0%);fill-opacity:1;\">\n",
       "  <use xlink:href=\"#glyph1-17\" x=\"29\" y=\"337.699219\"/>\n",
       "  <use xlink:href=\"#glyph1-2\" x=\"35\" y=\"337.699219\"/>\n",
       "  <use xlink:href=\"#glyph1-18\" x=\"40.25\" y=\"337.699219\"/>\n",
       "  <use xlink:href=\"#glyph1-2\" x=\"44\" y=\"337.699219\"/>\n",
       "  <use xlink:href=\"#glyph1-6\" x=\"49.25\" y=\"337.699219\"/>\n",
       "  <use xlink:href=\"#glyph1-5\" x=\"52.25\" y=\"337.699219\"/>\n",
       "  <use xlink:href=\"#glyph1-7\" x=\"58.25\" y=\"337.699219\"/>\n",
       "  <use xlink:href=\"#glyph1-8\" x=\"64.25\" y=\"337.699219\"/>\n",
       "  <use xlink:href=\"#glyph1-9\" x=\"67.25\" y=\"337.699219\"/>\n",
       "  <use xlink:href=\"#glyph1-11\" x=\"71\" y=\"337.699219\"/>\n",
       "  <use xlink:href=\"#glyph1-10\" x=\"77\" y=\"337.699219\"/>\n",
       "</g>\n",
       "<path style=\"fill:none;stroke-width:1;stroke-linecap:butt;stroke-linejoin:miter;stroke:rgb(74.901961%,74.901961%,74.901961%);stroke-opacity:1;stroke-miterlimit:10;\" d=\"M 7.019531 -136.070312 C 17.597656 -138.453125 59.035156 -147.796875 84.976562 -153.644531 \" transform=\"matrix(1,0,0,1,4,506)\"/>\n",
       "<path style=\"fill-rule:nonzero;fill:rgb(74.901961%,74.901961%,74.901961%);fill-opacity:1;stroke-width:1;stroke-linecap:butt;stroke-linejoin:miter;stroke:rgb(74.901961%,74.901961%,74.901961%);stroke-opacity:1;stroke-miterlimit:10;\" d=\"M 84.484375 -157.125 L 95.011719 -155.910156 L 86.023438 -150.296875 Z M 84.484375 -157.125 \" transform=\"matrix(1,0,0,1,4,506)\"/>\n",
       "<g style=\"fill:rgb(0%,0%,0%);fill-opacity:1;\">\n",
       "  <use xlink:href=\"#glyph1-17\" x=\"29\" y=\"356.699219\"/>\n",
       "  <use xlink:href=\"#glyph1-2\" x=\"35\" y=\"356.699219\"/>\n",
       "  <use xlink:href=\"#glyph1-18\" x=\"40.25\" y=\"356.699219\"/>\n",
       "  <use xlink:href=\"#glyph1-2\" x=\"44\" y=\"356.699219\"/>\n",
       "  <use xlink:href=\"#glyph1-6\" x=\"49.25\" y=\"356.699219\"/>\n",
       "  <use xlink:href=\"#glyph1-5\" x=\"52.25\" y=\"356.699219\"/>\n",
       "  <use xlink:href=\"#glyph1-5\" x=\"58.25\" y=\"356.699219\"/>\n",
       "  <use xlink:href=\"#glyph1-8\" x=\"64.25\" y=\"356.699219\"/>\n",
       "  <use xlink:href=\"#glyph1-9\" x=\"67.25\" y=\"356.699219\"/>\n",
       "  <use xlink:href=\"#glyph1-11\" x=\"71\" y=\"356.699219\"/>\n",
       "  <use xlink:href=\"#glyph1-10\" x=\"77\" y=\"356.699219\"/>\n",
       "</g>\n",
       "<path style=\"fill:none;stroke-width:1;stroke-linecap:butt;stroke-linejoin:miter;stroke:rgb(74.901961%,74.901961%,74.901961%);stroke-opacity:1;stroke-miterlimit:10;\" d=\"M 7.019531 -101.929688 C 17.597656 -99.546875 59.035156 -90.203125 84.976562 -84.355469 \" transform=\"matrix(1,0,0,1,4,506)\"/>\n",
       "<path style=\"fill-rule:nonzero;fill:rgb(74.901961%,74.901961%,74.901961%);fill-opacity:1;stroke-width:1;stroke-linecap:butt;stroke-linejoin:miter;stroke:rgb(74.901961%,74.901961%,74.901961%);stroke-opacity:1;stroke-miterlimit:10;\" d=\"M 86.023438 -87.703125 L 95.011719 -82.089844 L 84.484375 -80.875 Z M 86.023438 -87.703125 \" transform=\"matrix(1,0,0,1,4,506)\"/>\n",
       "<g style=\"fill:rgb(0%,0%,0%);fill-opacity:1;\">\n",
       "  <use xlink:href=\"#glyph1-17\" x=\"29\" y=\"405.699219\"/>\n",
       "  <use xlink:href=\"#glyph1-2\" x=\"35\" y=\"405.699219\"/>\n",
       "  <use xlink:href=\"#glyph1-18\" x=\"40.25\" y=\"405.699219\"/>\n",
       "  <use xlink:href=\"#glyph1-2\" x=\"44\" y=\"405.699219\"/>\n",
       "  <use xlink:href=\"#glyph1-6\" x=\"49.25\" y=\"405.699219\"/>\n",
       "  <use xlink:href=\"#glyph1-5\" x=\"52.25\" y=\"405.699219\"/>\n",
       "  <use xlink:href=\"#glyph1-11\" x=\"58.25\" y=\"405.699219\"/>\n",
       "  <use xlink:href=\"#glyph1-8\" x=\"64.25\" y=\"405.699219\"/>\n",
       "  <use xlink:href=\"#glyph1-9\" x=\"67.25\" y=\"405.699219\"/>\n",
       "  <use xlink:href=\"#glyph1-11\" x=\"71\" y=\"405.699219\"/>\n",
       "  <use xlink:href=\"#glyph1-10\" x=\"77\" y=\"405.699219\"/>\n",
       "</g>\n",
       "<path style=\"fill:none;stroke-width:1;stroke-linecap:butt;stroke-linejoin:miter;stroke:rgb(74.901961%,74.901961%,74.901961%);stroke-opacity:1;stroke-miterlimit:10;\" d=\"M 7.019531 -69.746094 C 17.597656 -70.785156 59.035156 -74.847656 84.976562 -77.390625 \" transform=\"matrix(1,0,0,1,4,506)\"/>\n",
       "<path style=\"fill-rule:nonzero;fill:rgb(74.901961%,74.901961%,74.901961%);fill-opacity:1;stroke-width:1;stroke-linecap:butt;stroke-linejoin:miter;stroke:rgb(74.901961%,74.901961%,74.901961%);stroke-opacity:1;stroke-miterlimit:10;\" d=\"M 84.714844 -80.882812 L 95.011719 -78.375 L 85.398438 -73.914062 Z M 84.714844 -80.882812 \" transform=\"matrix(1,0,0,1,4,506)\"/>\n",
       "<g style=\"fill:rgb(0%,0%,0%);fill-opacity:1;\">\n",
       "  <use xlink:href=\"#glyph1-17\" x=\"29\" y=\"432.699219\"/>\n",
       "  <use xlink:href=\"#glyph1-2\" x=\"35\" y=\"432.699219\"/>\n",
       "  <use xlink:href=\"#glyph1-18\" x=\"40.25\" y=\"432.699219\"/>\n",
       "  <use xlink:href=\"#glyph1-2\" x=\"44\" y=\"432.699219\"/>\n",
       "  <use xlink:href=\"#glyph1-6\" x=\"49.25\" y=\"432.699219\"/>\n",
       "  <use xlink:href=\"#glyph1-5\" x=\"52.25\" y=\"432.699219\"/>\n",
       "  <use xlink:href=\"#glyph1-12\" x=\"58.25\" y=\"432.699219\"/>\n",
       "  <use xlink:href=\"#glyph1-8\" x=\"64.25\" y=\"432.699219\"/>\n",
       "  <use xlink:href=\"#glyph1-9\" x=\"67.25\" y=\"432.699219\"/>\n",
       "  <use xlink:href=\"#glyph1-11\" x=\"71\" y=\"432.699219\"/>\n",
       "  <use xlink:href=\"#glyph1-10\" x=\"77\" y=\"432.699219\"/>\n",
       "</g>\n",
       "<path style=\"fill:none;stroke-width:1;stroke-linecap:butt;stroke-linejoin:miter;stroke:rgb(74.901961%,74.901961%,74.901961%);stroke-opacity:1;stroke-miterlimit:10;\" d=\"M 7.019531 -36.5 C 17.542969 -36.5 58.613281 -36.5 84.578125 -36.5 \" transform=\"matrix(1,0,0,1,4,506)\"/>\n",
       "<path style=\"fill-rule:nonzero;fill:rgb(74.901961%,74.901961%,74.901961%);fill-opacity:1;stroke-width:1;stroke-linecap:butt;stroke-linejoin:miter;stroke:rgb(74.901961%,74.901961%,74.901961%);stroke-opacity:1;stroke-miterlimit:10;\" d=\"M 84.648438 -40 L 94.648438 -36.5 L 84.648438 -33 Z M 84.648438 -40 \" transform=\"matrix(1,0,0,1,4,506)\"/>\n",
       "<g style=\"fill:rgb(0%,0%,0%);fill-opacity:1;\">\n",
       "  <use xlink:href=\"#glyph1-17\" x=\"29\" y=\"466.699219\"/>\n",
       "  <use xlink:href=\"#glyph1-2\" x=\"35\" y=\"466.699219\"/>\n",
       "  <use xlink:href=\"#glyph1-18\" x=\"40.25\" y=\"466.699219\"/>\n",
       "  <use xlink:href=\"#glyph1-2\" x=\"44\" y=\"466.699219\"/>\n",
       "  <use xlink:href=\"#glyph1-6\" x=\"49.25\" y=\"466.699219\"/>\n",
       "  <use xlink:href=\"#glyph1-5\" x=\"52.25\" y=\"466.699219\"/>\n",
       "  <use xlink:href=\"#glyph1-13\" x=\"58.25\" y=\"466.699219\"/>\n",
       "  <use xlink:href=\"#glyph1-8\" x=\"64.25\" y=\"466.699219\"/>\n",
       "  <use xlink:href=\"#glyph1-9\" x=\"67.25\" y=\"466.699219\"/>\n",
       "  <use xlink:href=\"#glyph1-11\" x=\"71\" y=\"466.699219\"/>\n",
       "  <use xlink:href=\"#glyph1-10\" x=\"77\" y=\"466.699219\"/>\n",
       "</g>\n",
       "<path style=\"fill:none;stroke-width:1;stroke-linecap:butt;stroke-linejoin:miter;stroke:rgb(74.901961%,74.901961%,74.901961%);stroke-opacity:1;stroke-miterlimit:10;\" d=\"M 7.019531 -4.316406 C 17.699219 -7.769531 59.828125 -21.402344 85.714844 -29.777344 \" transform=\"matrix(1,0,0,1,4,506)\"/>\n",
       "<path style=\"fill-rule:nonzero;fill:rgb(74.901961%,74.901961%,74.901961%);fill-opacity:1;stroke-width:1;stroke-linecap:butt;stroke-linejoin:miter;stroke:rgb(74.901961%,74.901961%,74.901961%);stroke-opacity:1;stroke-miterlimit:10;\" d=\"M 84.773438 -33.148438 L 95.367188 -32.898438 L 86.929688 -26.488281 Z M 84.773438 -33.148438 \" transform=\"matrix(1,0,0,1,4,506)\"/>\n",
       "<g style=\"fill:rgb(0%,0%,0%);fill-opacity:1;\">\n",
       "  <use xlink:href=\"#glyph1-17\" x=\"29\" y=\"480.699219\"/>\n",
       "  <use xlink:href=\"#glyph1-2\" x=\"35\" y=\"480.699219\"/>\n",
       "  <use xlink:href=\"#glyph1-18\" x=\"40.25\" y=\"480.699219\"/>\n",
       "  <use xlink:href=\"#glyph1-2\" x=\"44\" y=\"480.699219\"/>\n",
       "  <use xlink:href=\"#glyph1-6\" x=\"49.25\" y=\"480.699219\"/>\n",
       "  <use xlink:href=\"#glyph1-5\" x=\"52.25\" y=\"480.699219\"/>\n",
       "  <use xlink:href=\"#glyph1-14\" x=\"58.25\" y=\"480.699219\"/>\n",
       "  <use xlink:href=\"#glyph1-8\" x=\"64.25\" y=\"480.699219\"/>\n",
       "  <use xlink:href=\"#glyph1-9\" x=\"67.25\" y=\"480.699219\"/>\n",
       "  <use xlink:href=\"#glyph1-11\" x=\"71\" y=\"480.699219\"/>\n",
       "  <use xlink:href=\"#glyph1-10\" x=\"77\" y=\"480.699219\"/>\n",
       "</g>\n",
       "</g>\n",
       "</svg>\n"
      ],
      "text/plain": [
       "<graphviz.graphs.Digraph at 0x7f5635f2d810>"
      ]
     },
     "execution_count": 9,
     "metadata": {},
     "output_type": "execute_result"
    }
   ],
   "source": [
    "model.draw()"
   ]
  },
  {
   "cell_type": "code",
   "execution_count": 10,
   "metadata": {
    "metadata": {}
   },
   "outputs": [
    {
     "name": "stdout",
     "output_type": "stream",
     "text": [
      "(True, 0)\n"
     ]
    },
    {
     "data": {
      "text/plain": [
       "==========================================================================================\n",
       "Layer (type:depth-idx)                   Output Shape              Param #\n",
       "==========================================================================================\n",
       "TTNModel                                 [5000, 5]                 3,268\n",
       "==========================================================================================\n",
       "Total params: 3,268\n",
       "Trainable params: 3,268\n",
       "Non-trainable params: 0\n",
       "Total mult-adds (M): 0\n",
       "==========================================================================================\n",
       "Input size (MB): 0.64\n",
       "Forward/backward pass size (MB): 0.00\n",
       "Params size (MB): 0.00\n",
       "Estimated Total Size (MB): 0.64\n",
       "=========================================================================================="
      ]
     },
     "execution_count": 10,
     "metadata": {},
     "output_type": "execute_result"
    }
   ],
   "source": [
    "print(check_correct_init(model, atol=dtype_eps))\n",
    "summary(model, input_size=(BATCH_SIZE, features, MAP_DIM), dtypes=[DTYPE], device=DEVICE)"
   ]
  },
  {
   "cell_type": "markdown",
   "metadata": {
    "jp-MarkdownHeadingCollapsed": true
   },
   "source": [
    "## Train with global SGD"
   ]
  },
  {
   "cell_type": "code",
   "execution_count": 12,
   "metadata": {},
   "outputs": [],
   "source": [
    "LR = .01\n",
    "EPOCHS = 50\n",
    "gauging = False\n",
    "LAMBDA = 1e-4\n",
    "SCHEDULER_STEPS = 5\n",
    "LOSS = lambda *x: class_loss_fn(*x, l=LAMBDA) "
   ]
  },
  {
   "cell_type": "code",
   "execution_count": null,
   "metadata": {},
   "outputs": [],
   "source": [
    "model.train()\n",
    "model.to(DEVICE)\n",
    "optimizer = torch.optim.Adam(model.parameters(), lr=LR)\n",
    "if model.quantizer is not None:\n",
    "    # define custom quantization functions for different numbers\n",
    "    weight_quant = lambda x : fixed_point_quantize(x, wl, fl, rounding=\"nearest\")\n",
    "    # turn your optimizer into a low precision optimizer\n",
    "    optimizer = OptimLP(optimizer,\n",
    "                        weight_quant=weight_quant)"
   ]
  },
  {
   "cell_type": "code",
   "execution_count": null,
   "metadata": {},
   "outputs": [],
   "source": [
    "schedulers = [torch.optim.lr_scheduler.ExponentialLR(optimizer, 0.9, last_epoch=-1, verbose=False), torch.optim.lr_scheduler.CosineAnnealingLR(optimizer, 10, eta_min=1e-5)]\n",
    "scheduler = schedulers[0]"
   ]
  },
  {
   "cell_type": "code",
   "execution_count": null,
   "metadata": {
    "metadata": {}
   },
   "outputs": [],
   "source": [
    "\n",
    "tot_loss_history = []\n",
    "now = datetime.now()\n",
    "for epoch in trange(EPOCHS, desc='epochs', position=0):\n",
    "    loss_history = train_one_epoch(model, DEVICE, train_dl, LOSS, optimizer, gauging = gauging)\n",
    "    tot_loss_history += loss_history\n",
    "\n",
    "    if epoch % SCHEDULER_STEPS == SCHEDULER_STEPS-1:\n",
    "        scheduler.step()\n",
    "        #pass\n",
    "   \n",
    "loss_history = np.array(tot_loss_history)"
   ]
  },
  {
   "cell_type": "markdown",
   "metadata": {},
   "source": [
    "## Train with sweeping"
   ]
  },
  {
   "cell_type": "code",
   "execution_count": 11,
   "metadata": {},
   "outputs": [],
   "source": [
    "EPOCHS = 2\n",
    "SWEEPS = 20\n",
    "loss = lambda*x: class_loss_fn(*x, l=0.)"
   ]
  },
  {
   "cell_type": "code",
   "execution_count": 12,
   "metadata": {},
   "outputs": [],
   "source": [
    "optimizer = torch.optim.Adam(model.parameters(), 2**(model.n_layers-6)) #2**(model.n_layers-6)\n",
    "\n",
    "if model.quantizer is not None:\n",
    "    # define custom quantization functions for different numbers\n",
    "    weight_quant = lambda x : fixed_point_quantize(x, wl, fl, rounding=\"nearest\")\n",
    "    # turn your optimizer into a low precision optimizer\n",
    "    optimizer = OptimLP(optimizer,\n",
    "                        weight_quant=weight_quant)"
   ]
  },
  {
   "cell_type": "code",
   "execution_count": 14,
   "metadata": {},
   "outputs": [
    {
     "data": {
      "application/vnd.jupyter.widget-view+json": {
       "model_id": "c52a3e403353450fbd4736f4ce238753",
       "version_major": 2,
       "version_minor": 0
      },
      "text/plain": [
       "sweeps:   0%|          | 0/20 [00:00<?, ?it/s]"
      ]
     },
     "metadata": {},
     "output_type": "display_data"
    },
    {
     "data": {
      "application/vnd.jupyter.widget-view+json": {
       "model_id": "d61aace2e79141018e34805fe8e844dc",
       "version_major": 2,
       "version_minor": 0
      },
      "text/plain": [
       "ttn sweep:   0%|          | 0/18 [00:00<?, ?it/s]"
      ]
     },
     "metadata": {},
     "output_type": "display_data"
    },
    {
     "data": {
      "application/vnd.jupyter.widget-view+json": {
       "model_id": "8fa8252b04664c5b8c42701f77d6dc81",
       "version_major": 2,
       "version_minor": 0
      },
      "text/plain": [
       "epochs:   0%|          | 0/2 [00:00<?, ?it/s]"
      ]
     },
     "metadata": {},
     "output_type": "display_data"
    },
    {
     "data": {
      "application/vnd.jupyter.widget-view+json": {
       "model_id": "b321e03bd96445198952d3d3ea18104e",
       "version_major": 2,
       "version_minor": 0
      },
      "text/plain": [
       "ttn sweep:   0%|          | 0/18 [00:00<?, ?it/s]"
      ]
     },
     "metadata": {},
     "output_type": "display_data"
    },
    {
     "data": {
      "application/vnd.jupyter.widget-view+json": {
       "model_id": "0c1705c6567643cd8e9d0dc84d56aee8",
       "version_major": 2,
       "version_minor": 0
      },
      "text/plain": [
       "epochs:   0%|          | 0/2 [00:00<?, ?it/s]"
      ]
     },
     "metadata": {},
     "output_type": "display_data"
    },
    {
     "data": {
      "application/vnd.jupyter.widget-view+json": {
       "model_id": "ee4f8dffb99a4d4fa60c8e11777f07e2",
       "version_major": 2,
       "version_minor": 0
      },
      "text/plain": [
       "ttn sweep:   0%|          | 0/18 [00:00<?, ?it/s]"
      ]
     },
     "metadata": {},
     "output_type": "display_data"
    },
    {
     "data": {
      "application/vnd.jupyter.widget-view+json": {
       "model_id": "09b0cdb89e034c51a23957a74e7ccaba",
       "version_major": 2,
       "version_minor": 0
      },
      "text/plain": [
       "epochs:   0%|          | 0/2 [00:00<?, ?it/s]"
      ]
     },
     "metadata": {},
     "output_type": "display_data"
    },
    {
     "data": {
      "application/vnd.jupyter.widget-view+json": {
       "model_id": "153eb5573132442b90f92e440501dda0",
       "version_major": 2,
       "version_minor": 0
      },
      "text/plain": [
       "ttn sweep:   0%|          | 0/18 [00:00<?, ?it/s]"
      ]
     },
     "metadata": {},
     "output_type": "display_data"
    },
    {
     "data": {
      "application/vnd.jupyter.widget-view+json": {
       "model_id": "9a552cff9b564f4ba1a03e8cbecc85da",
       "version_major": 2,
       "version_minor": 0
      },
      "text/plain": [
       "epochs:   0%|          | 0/2 [00:00<?, ?it/s]"
      ]
     },
     "metadata": {},
     "output_type": "display_data"
    },
    {
     "data": {
      "application/vnd.jupyter.widget-view+json": {
       "model_id": "3ec424b24cb04c26acc6b40ccdf43630",
       "version_major": 2,
       "version_minor": 0
      },
      "text/plain": [
       "ttn sweep:   0%|          | 0/18 [00:00<?, ?it/s]"
      ]
     },
     "metadata": {},
     "output_type": "display_data"
    },
    {
     "data": {
      "application/vnd.jupyter.widget-view+json": {
       "model_id": "3f5d50be0bb647fb9a3c3a2286056ba7",
       "version_major": 2,
       "version_minor": 0
      },
      "text/plain": [
       "epochs:   0%|          | 0/2 [00:00<?, ?it/s]"
      ]
     },
     "metadata": {},
     "output_type": "display_data"
    },
    {
     "data": {
      "application/vnd.jupyter.widget-view+json": {
       "model_id": "392df528d4da400592c8afd49d61369e",
       "version_major": 2,
       "version_minor": 0
      },
      "text/plain": [
       "ttn sweep:   0%|          | 0/18 [00:00<?, ?it/s]"
      ]
     },
     "metadata": {},
     "output_type": "display_data"
    },
    {
     "data": {
      "application/vnd.jupyter.widget-view+json": {
       "model_id": "0b49a127be6548bdba132a0b1b8b3315",
       "version_major": 2,
       "version_minor": 0
      },
      "text/plain": [
       "epochs:   0%|          | 0/2 [00:00<?, ?it/s]"
      ]
     },
     "metadata": {},
     "output_type": "display_data"
    },
    {
     "data": {
      "application/vnd.jupyter.widget-view+json": {
       "model_id": "a655fc6cb914422da8e38272d3fb52d4",
       "version_major": 2,
       "version_minor": 0
      },
      "text/plain": [
       "ttn sweep:   0%|          | 0/18 [00:00<?, ?it/s]"
      ]
     },
     "metadata": {},
     "output_type": "display_data"
    },
    {
     "data": {
      "application/vnd.jupyter.widget-view+json": {
       "model_id": "2f946d37222448198b2d57d88525cd3e",
       "version_major": 2,
       "version_minor": 0
      },
      "text/plain": [
       "epochs:   0%|          | 0/2 [00:00<?, ?it/s]"
      ]
     },
     "metadata": {},
     "output_type": "display_data"
    },
    {
     "data": {
      "application/vnd.jupyter.widget-view+json": {
       "model_id": "699e3684ba104799be6b4b44b46b5817",
       "version_major": 2,
       "version_minor": 0
      },
      "text/plain": [
       "ttn sweep:   0%|          | 0/18 [00:00<?, ?it/s]"
      ]
     },
     "metadata": {},
     "output_type": "display_data"
    },
    {
     "data": {
      "application/vnd.jupyter.widget-view+json": {
       "model_id": "5b7f321296164579804375186fa5d57f",
       "version_major": 2,
       "version_minor": 0
      },
      "text/plain": [
       "epochs:   0%|          | 0/2 [00:00<?, ?it/s]"
      ]
     },
     "metadata": {},
     "output_type": "display_data"
    },
    {
     "data": {
      "application/vnd.jupyter.widget-view+json": {
       "model_id": "e997bd8780e8494f97e80951e44ff860",
       "version_major": 2,
       "version_minor": 0
      },
      "text/plain": [
       "ttn sweep:   0%|          | 0/18 [00:00<?, ?it/s]"
      ]
     },
     "metadata": {},
     "output_type": "display_data"
    },
    {
     "data": {
      "application/vnd.jupyter.widget-view+json": {
       "model_id": "391fafb4a600467fb44a55f98c9d36b4",
       "version_major": 2,
       "version_minor": 0
      },
      "text/plain": [
       "epochs:   0%|          | 0/2 [00:00<?, ?it/s]"
      ]
     },
     "metadata": {},
     "output_type": "display_data"
    },
    {
     "data": {
      "application/vnd.jupyter.widget-view+json": {
       "model_id": "e17f74cdf2be40ccb96ace7f6a559922",
       "version_major": 2,
       "version_minor": 0
      },
      "text/plain": [
       "ttn sweep:   0%|          | 0/18 [00:00<?, ?it/s]"
      ]
     },
     "metadata": {},
     "output_type": "display_data"
    },
    {
     "data": {
      "application/vnd.jupyter.widget-view+json": {
       "model_id": "1e7a1b47a01946efa44f8fac7c89c8b8",
       "version_major": 2,
       "version_minor": 0
      },
      "text/plain": [
       "epochs:   0%|          | 0/2 [00:00<?, ?it/s]"
      ]
     },
     "metadata": {},
     "output_type": "display_data"
    },
    {
     "data": {
      "application/vnd.jupyter.widget-view+json": {
       "model_id": "fb15bd6d9fd346d0a2eafb6a94e138ae",
       "version_major": 2,
       "version_minor": 0
      },
      "text/plain": [
       "ttn sweep:   0%|          | 0/18 [00:00<?, ?it/s]"
      ]
     },
     "metadata": {},
     "output_type": "display_data"
    },
    {
     "data": {
      "application/vnd.jupyter.widget-view+json": {
       "model_id": "1a9b5adfcbef4ab5a21249db16fa2291",
       "version_major": 2,
       "version_minor": 0
      },
      "text/plain": [
       "epochs:   0%|          | 0/2 [00:00<?, ?it/s]"
      ]
     },
     "metadata": {},
     "output_type": "display_data"
    },
    {
     "data": {
      "application/vnd.jupyter.widget-view+json": {
       "model_id": "13b608e18b07483193ec90b69d0fd610",
       "version_major": 2,
       "version_minor": 0
      },
      "text/plain": [
       "ttn sweep:   0%|          | 0/18 [00:00<?, ?it/s]"
      ]
     },
     "metadata": {},
     "output_type": "display_data"
    },
    {
     "data": {
      "application/vnd.jupyter.widget-view+json": {
       "model_id": "520b3ec3805e4f198a829f19ceab10b5",
       "version_major": 2,
       "version_minor": 0
      },
      "text/plain": [
       "epochs:   0%|          | 0/2 [00:00<?, ?it/s]"
      ]
     },
     "metadata": {},
     "output_type": "display_data"
    },
    {
     "data": {
      "application/vnd.jupyter.widget-view+json": {
       "model_id": "797e9a4a0e4842ee92f62e40ee90925a",
       "version_major": 2,
       "version_minor": 0
      },
      "text/plain": [
       "ttn sweep:   0%|          | 0/18 [00:00<?, ?it/s]"
      ]
     },
     "metadata": {},
     "output_type": "display_data"
    },
    {
     "data": {
      "application/vnd.jupyter.widget-view+json": {
       "model_id": "9b284fa54bea44a8a2dff5b6941188d1",
       "version_major": 2,
       "version_minor": 0
      },
      "text/plain": [
       "epochs:   0%|          | 0/2 [00:00<?, ?it/s]"
      ]
     },
     "metadata": {},
     "output_type": "display_data"
    },
    {
     "data": {
      "application/vnd.jupyter.widget-view+json": {
       "model_id": "e947f812b8ae44de8190ca620c6e2bb9",
       "version_major": 2,
       "version_minor": 0
      },
      "text/plain": [
       "ttn sweep:   0%|          | 0/18 [00:00<?, ?it/s]"
      ]
     },
     "metadata": {},
     "output_type": "display_data"
    },
    {
     "data": {
      "application/vnd.jupyter.widget-view+json": {
       "model_id": "8a8e6bfa293e4bbf9347448afa009d9c",
       "version_major": 2,
       "version_minor": 0
      },
      "text/plain": [
       "epochs:   0%|          | 0/2 [00:00<?, ?it/s]"
      ]
     },
     "metadata": {},
     "output_type": "display_data"
    },
    {
     "data": {
      "application/vnd.jupyter.widget-view+json": {
       "model_id": "c3e0a925a5a04f859c006dcd41a94719",
       "version_major": 2,
       "version_minor": 0
      },
      "text/plain": [
       "ttn sweep:   0%|          | 0/18 [00:00<?, ?it/s]"
      ]
     },
     "metadata": {},
     "output_type": "display_data"
    },
    {
     "data": {
      "application/vnd.jupyter.widget-view+json": {
       "model_id": "e49b679497704019a8a3fdad5531e292",
       "version_major": 2,
       "version_minor": 0
      },
      "text/plain": [
       "epochs:   0%|          | 0/2 [00:00<?, ?it/s]"
      ]
     },
     "metadata": {},
     "output_type": "display_data"
    },
    {
     "data": {
      "application/vnd.jupyter.widget-view+json": {
       "model_id": "03d7e8d5ccbd45bb9bdf2e9c2af1b55a",
       "version_major": 2,
       "version_minor": 0
      },
      "text/plain": [
       "ttn sweep:   0%|          | 0/18 [00:00<?, ?it/s]"
      ]
     },
     "metadata": {},
     "output_type": "display_data"
    },
    {
     "data": {
      "application/vnd.jupyter.widget-view+json": {
       "model_id": "1e985120f17148819b9690c5230b640c",
       "version_major": 2,
       "version_minor": 0
      },
      "text/plain": [
       "epochs:   0%|          | 0/2 [00:00<?, ?it/s]"
      ]
     },
     "metadata": {},
     "output_type": "display_data"
    },
    {
     "data": {
      "application/vnd.jupyter.widget-view+json": {
       "model_id": "ce47763e36a548ae9159b5f8602549f5",
       "version_major": 2,
       "version_minor": 0
      },
      "text/plain": [
       "ttn sweep:   0%|          | 0/18 [00:00<?, ?it/s]"
      ]
     },
     "metadata": {},
     "output_type": "display_data"
    },
    {
     "data": {
      "application/vnd.jupyter.widget-view+json": {
       "model_id": "fccd5513fc6a421ab78b00612a1d828d",
       "version_major": 2,
       "version_minor": 0
      },
      "text/plain": [
       "epochs:   0%|          | 0/2 [00:00<?, ?it/s]"
      ]
     },
     "metadata": {},
     "output_type": "display_data"
    },
    {
     "data": {
      "application/vnd.jupyter.widget-view+json": {
       "model_id": "a25cf4cc28a043708e8292de938e784b",
       "version_major": 2,
       "version_minor": 0
      },
      "text/plain": [
       "ttn sweep:   0%|          | 0/18 [00:00<?, ?it/s]"
      ]
     },
     "metadata": {},
     "output_type": "display_data"
    },
    {
     "data": {
      "application/vnd.jupyter.widget-view+json": {
       "model_id": "4f42903783924eba99a38dbd1770918a",
       "version_major": 2,
       "version_minor": 0
      },
      "text/plain": [
       "epochs:   0%|          | 0/2 [00:00<?, ?it/s]"
      ]
     },
     "metadata": {},
     "output_type": "display_data"
    },
    {
     "data": {
      "application/vnd.jupyter.widget-view+json": {
       "model_id": "93f9a769c8054b35865e13595db8e55d",
       "version_major": 2,
       "version_minor": 0
      },
      "text/plain": [
       "ttn sweep:   0%|          | 0/18 [00:00<?, ?it/s]"
      ]
     },
     "metadata": {},
     "output_type": "display_data"
    },
    {
     "data": {
      "application/vnd.jupyter.widget-view+json": {
       "model_id": "c23281d90e3347c6abe1c3e7f7b96990",
       "version_major": 2,
       "version_minor": 0
      },
      "text/plain": [
       "epochs:   0%|          | 0/2 [00:00<?, ?it/s]"
      ]
     },
     "metadata": {},
     "output_type": "display_data"
    },
    {
     "data": {
      "application/vnd.jupyter.widget-view+json": {
       "model_id": "ed43dde472844ba78543c21b0ee3d982",
       "version_major": 2,
       "version_minor": 0
      },
      "text/plain": [
       "ttn sweep:   0%|          | 0/18 [00:00<?, ?it/s]"
      ]
     },
     "metadata": {},
     "output_type": "display_data"
    },
    {
     "data": {
      "application/vnd.jupyter.widget-view+json": {
       "model_id": "b2cc2d657bf64406a35f6a613e8411e2",
       "version_major": 2,
       "version_minor": 0
      },
      "text/plain": [
       "epochs:   0%|          | 0/2 [00:00<?, ?it/s]"
      ]
     },
     "metadata": {},
     "output_type": "display_data"
    }
   ],
   "source": [
    "loss_history = []\n",
    "grads_magnitude = []\n",
    "now = datetime.now()\n",
    "for s in trange(SWEEPS, desc='sweeps', position=0):\n",
    "\n",
    "    losses, _ = model.sweep(train_dl, dclass_loss_fn, optimizer, epochs=EPOCHS, path_type='layer+0', manual=True, loss=loss, verbose=2, save_grads=False)\n",
    "    loss_history.extend(losses)\n",
    "    #grads_magnitude.extend(grads)\n",
    "\n",
    "loss_history = np.array(loss_history)"
   ]
  },
  {
   "cell_type": "markdown",
   "metadata": {
    "editable": true,
    "slideshow": {
     "slide_type": ""
    },
    "tags": []
   },
   "source": [
    "# Get performances"
   ]
  },
  {
   "cell_type": "markdown",
   "metadata": {
    "jp-MarkdownHeadingCollapsed": true
   },
   "source": [
    "## Load model"
   ]
  },
  {
   "cell_type": "markdown",
   "metadata": {},
   "source": [
    "### Quantized"
   ]
  },
  {
   "cell_type": "code",
   "execution_count": 3,
   "metadata": {},
   "outputs": [],
   "source": [
    "from qtorch import FixedPoint, FloatingPoint\n",
    "from qtorch.quant import Quantizer, fixed_point_quantize\n",
    "from qtorch.optim import OptimLP\n",
    "\n",
    "wl = 16\n",
    "fl = 14\n",
    "\n",
    "forward_num = FixedPoint(wl=wl, fl=fl)\n",
    "backward_num = FixedPoint(wl=wl, fl=fl)\n",
    "\n",
    "# Create a quantizer\n",
    "Q = Quantizer(forward_number=forward_num, backward_number=backward_num,\n",
    "              forward_rounding=\"nearest\", backward_rounding=\"nearest\")\n",
    "\n",
    "DEVICE= 'cpu'\n",
    "DTYPE = torch.float32\n",
    "model = TTNModel.from_npz('trained_models/qmodels/model_hls_bd10_spin_20250211-165908.npz', device=DEVICE, dtype=DTYPE, quantizer=Q)\n",
    "\n",
    "model.initialize(False)"
   ]
  },
  {
   "cell_type": "code",
   "execution_count": 4,
   "metadata": {},
   "outputs": [],
   "source": [
    "x_train = np.load('trained_models/qmodels/x_train_hls_bd10_spin_20250211-165908.npy')\n",
    "y_train = np.load('trained_models/qmodels/y_train_hls_bd10_spin_20250211-165908.npy')\n",
    "x_test = np.load('trained_models/qmodels/x_test_hls_bd10_spin_20250211-165908.npy')\n",
    "y_test = np.load('trained_models/qmodels/y_test_hls_bd10_spin_20250211-165908.npy')\n",
    "\n",
    "train_out = np.load('trained_models/qmodels/train_out_hls_bd10_spin_20250211-165908.npy')\n",
    "test_out = np.load('trained_models/qmodels/test_out_hls_bd10_spin_20250211-165908.npy')\n"
   ]
  },
  {
   "cell_type": "code",
   "execution_count": 5,
   "metadata": {},
   "outputs": [
    {
     "data": {
      "text/plain": [
       "np.float64(0.2074646418238486)"
      ]
     },
     "execution_count": 5,
     "metadata": {},
     "output_type": "execute_result"
    }
   ],
   "source": [
    "(np.argmax(train_out, axis=1) == np.argmax(y_train, axis=1)).mean()"
   ]
  },
  {
   "cell_type": "code",
   "execution_count": 11,
   "metadata": {},
   "outputs": [],
   "source": [
    "pred = model(torch.as_tensor(x_train, dtype=torch.float32)).detach().numpy()"
   ]
  },
  {
   "cell_type": "code",
   "execution_count": 12,
   "metadata": {},
   "outputs": [
    {
     "data": {
      "text/plain": [
       "np.float64(1.0)"
      ]
     },
     "execution_count": 12,
     "metadata": {},
     "output_type": "execute_result"
    }
   ],
   "source": [
    "(np.argmax(train_out, axis=1) == np.argmax(pred, axis=1)).mean()"
   ]
  },
  {
   "cell_type": "code",
   "execution_count": 15,
   "metadata": {},
   "outputs": [
    {
     "data": {
      "text/plain": [
       "True"
      ]
     },
     "execution_count": 15,
     "metadata": {},
     "output_type": "execute_result"
    }
   ],
   "source": [
    "np.allclose(train_out, pred, atol=1e-4)"
   ]
  },
  {
   "cell_type": "markdown",
   "metadata": {},
   "source": [
    "### Normal"
   ]
  },
  {
   "cell_type": "code",
   "execution_count": null,
   "metadata": {},
   "outputs": [],
   "source": [
    "\n",
    "model_name = f'trained_models/{DATASET}_models/model_{DATASET}_bd10_spin_20241203-193144_betterweights'\n",
    "\n",
    "MODEL_DIR = model_name.split('/')[0]+'/'\n",
    "timestamp = model_name.split('_')[-1]\n",
    "DEVICE = 'cuda' if torch.cuda.is_available() else 'cpu'\n",
    "model = TTNModel.from_npz(model_name+'.npz', device=DEVICE)\n",
    "model.initialize(False)\n",
    "BOND_DIM = model.bond_dim\n",
    "N_LABELS = model.n_labels\n",
    "DTYPE= model.dtype\n",
    "#loss_history = np.load(model_name.split('/')[0] + '/loss_history_' + model_name.split('_')[-1] + '.npy')\n",
    "#loss_history = np.load(model_name + '_loss.npy')\n",
    "#now = datetime(int(timestamp[:4]), int(timestamp[4:6]), int(timestamp[6:8]), int(timestamp[9:11]), int(timestamp[11:13]), int(timestamp[13:15]))"
   ]
  },
  {
   "cell_type": "markdown",
   "metadata": {},
   "source": [
    "### Grid search"
   ]
  },
  {
   "cell_type": "code",
   "execution_count": null,
   "metadata": {},
   "outputs": [],
   "source": [
    "MODEL_DIR = 'data/search_entropy/'\n",
    "id = 20\n",
    "model_name = F'{MODEL_DIR}model_id{id}'\n",
    "DEVICE= 'cuda' if torch.cuda.is_available() else 'cpu'\n",
    "model = TTNModel.from_npz(model_name+'.npz', device=DEVICE)\n",
    "model.initialize(False)\n",
    "BOND_DIM = model.bond_dim\n",
    "N_LABELS = model.n_labels\n",
    "DTYPE= model.dtype\n",
    "loss_history = np.load('/'.join(model_name.split('/')[:-1]) + '/loss_history_' + model_name.split('_')[-1] + '.npy')"
   ]
  },
  {
   "cell_type": "code",
   "execution_count": null,
   "metadata": {},
   "outputs": [],
   "source": [
    "model.draw()"
   ]
  },
  {
   "cell_type": "markdown",
   "metadata": {},
   "source": [
    "## or not"
   ]
  },
  {
   "cell_type": "code",
   "execution_count": 15,
   "metadata": {},
   "outputs": [
    {
     "data": {
      "application/vnd.jupyter.widget-view+json": {
       "model_id": "e64c594955ee41e9a850dc641ab3474b",
       "version_major": 2,
       "version_minor": 0
      },
      "text/plain": [
       "test:   0%|          | 0/33 [00:00<?, ?it/s]"
      ]
     },
     "metadata": {},
     "output_type": "display_data"
    },
    {
     "data": {
      "application/vnd.jupyter.widget-view+json": {
       "model_id": "f3f5d2a7c3f647a7a2d8c536021bff63",
       "version_major": 2,
       "version_minor": 0
      },
      "text/plain": [
       "train:   0%|          | 0/129 [00:00<?, ?it/s]"
      ]
     },
     "metadata": {},
     "output_type": "display_data"
    },
    {
     "data": {
      "text/plain": [
       "(0.6381079805793898, 0.6395018191300461)"
      ]
     },
     "execution_count": 15,
     "metadata": {},
     "output_type": "execute_result"
    }
   ],
   "source": [
    "accuracy(model, DEVICE, train_dl, test_dl, model.dtype)"
   ]
  },
  {
   "cell_type": "code",
   "execution_count": null,
   "metadata": {},
   "outputs": [],
   "source": [
    "model.normalize()\n",
    "model.norm"
   ]
  },
  {
   "cell_type": "code",
   "execution_count": null,
   "metadata": {},
   "outputs": [],
   "source": [
    "model.canonicalize('0.0')\n",
    "model.draw()"
   ]
  },
  {
   "cell_type": "code",
   "execution_count": 16,
   "metadata": {},
   "outputs": [],
   "source": [
    "#torch.save(model.state_dict, MODEL_DIR + f'/trainedmodel_{DATASET}_bd{BOND_DIM}_{MAPPING}_{now.strftime(\"%Y%m%d-%H%M%S\")}.dict')\n",
    "np.save(MODEL_DIR + f'/loss_history_{now.strftime(\"%Y%m%d-%H%M%S\")}.npy', loss_history)"
   ]
  },
  {
   "cell_type": "markdown",
   "metadata": {},
   "source": [
    "### Plots"
   ]
  },
  {
   "cell_type": "code",
   "execution_count": 18,
   "metadata": {},
   "outputs": [
    {
     "data": {
      "image/png": "[encoded data removed]",
      "text/plain": [
       "<Figure size 600x400 with 1 Axes>"
      ]
     },
     "metadata": {},
     "output_type": "display_data"
    }
   ],
   "source": [
    "SWEEPS = 20\n",
    "fig, ax = plt.subplots(1, 1, figsize=(6, 4))\n",
    "ax = plot_loss(loss_history, ax, SWEEPS, FS=FONTSIZE, sweep=True)\n",
    "ax.set_title(F'Training Loss\\n{DATASET}, BD={BOND_DIM}', fontsize=FONTSIZE+2)\n",
    "#ax.set_ylim(1150, 1240)\n",
    "fig.tight_layout()\n",
    "fig.savefig(MODEL_DIR + f'/loss_history_{DATASET}_bd{BOND_DIM}_{MAPPING}_{now.strftime(\"%Y%m%d-%H%M%S\")}.pdf') #_{now.strftime(\"%Y%m%d-%H%M%S\")}"
   ]
  },
  {
   "cell_type": "code",
   "execution_count": null,
   "metadata": {},
   "outputs": [
    {
     "ename": "AttributeError",
     "evalue": "'numpy.ndarray' object has no attribute 'legend'",
     "output_type": "error",
     "traceback": [
      "\u001b[0;31m---------------------------------------------------------------------------\u001b[0m",
      "\u001b[0;31mAttributeError\u001b[0m                            Traceback (most recent call last)",
      "Cell \u001b[0;32mIn[19], line 18\u001b[0m\n\u001b[1;32m     13\u001b[0m legend_patches\u001b[38;5;241m.\u001b[39mappend(patches\u001b[38;5;241m.\u001b[39mRectangle([\u001b[38;5;241m0\u001b[39m,\u001b[38;5;241m0\u001b[39m], \u001b[38;5;241m0\u001b[39m,\u001b[38;5;241m0\u001b[39m, color\u001b[38;5;241m=\u001b[39m\u001b[38;5;124m'\u001b[39m\u001b[38;5;124mtab:blue\u001b[39m\u001b[38;5;124m'\u001b[39m, alpha\u001b[38;5;241m=\u001b[39m\u001b[38;5;241m0.6\u001b[39m, label\u001b[38;5;241m=\u001b[39m\u001b[38;5;124mr\u001b[39m\u001b[38;5;124m'\u001b[39m\u001b[38;5;124m$\u001b[39m\u001b[38;5;124m\\\u001b[39m\u001b[38;5;124mbar S$\u001b[39m\u001b[38;5;124m'\u001b[39m))\n\u001b[1;32m     14\u001b[0m legend_patches\u001b[38;5;241m.\u001b[39mappend(patches\u001b[38;5;241m.\u001b[39mRectangle([\u001b[38;5;241m0\u001b[39m,\u001b[38;5;241m0\u001b[39m], \u001b[38;5;241m0\u001b[39m,\u001b[38;5;241m0\u001b[39m, color\u001b[38;5;241m=\u001b[39m\u001b[38;5;124m'\u001b[39m\u001b[38;5;124mtab:orange\u001b[39m\u001b[38;5;124m'\u001b[39m, alpha\u001b[38;5;241m=\u001b[39m\u001b[38;5;241m0.6\u001b[39m, label\u001b[38;5;241m=\u001b[39m\u001b[38;5;124mr\u001b[39m\u001b[38;5;124m'\u001b[39m\u001b[38;5;124m$S$\u001b[39m\u001b[38;5;124m'\u001b[39m))\n\u001b[0;32m---> 18\u001b[0m \u001b[43max\u001b[49m\u001b[38;5;241;43m.\u001b[39;49m\u001b[43mlegend\u001b[49m(legend_patches, [patch\u001b[38;5;241m.\u001b[39mget_label() \u001b[38;5;28;01mfor\u001b[39;00m patch \u001b[38;5;129;01min\u001b[39;00m legend_patches])\n\u001b[1;32m     20\u001b[0m ax\u001b[38;5;241m.\u001b[39mset_title(\u001b[38;5;124mf\u001b[39m\u001b[38;5;124m'\u001b[39m\u001b[38;5;124mPredictions distribution\u001b[39m\u001b[38;5;130;01m\\n\u001b[39;00m\u001b[38;5;132;01m{\u001b[39;00mDATASET\u001b[38;5;132;01m}\u001b[39;00m\u001b[38;5;124m, BD=\u001b[39m\u001b[38;5;132;01m{\u001b[39;00mBOND_DIM\u001b[38;5;132;01m}\u001b[39;00m\u001b[38;5;124m'\u001b[39m, fontsize\u001b[38;5;241m=\u001b[39mFONTSIZE\u001b[38;5;241m+\u001b[39m\u001b[38;5;241m2\u001b[39m)\n\u001b[1;32m     22\u001b[0m fig\u001b[38;5;241m.\u001b[39msavefig(MODEL_DIR \u001b[38;5;241m+\u001b[39m \u001b[38;5;124mf\u001b[39m\u001b[38;5;124m'\u001b[39m\u001b[38;5;124m/predictions_dist_\u001b[39m\u001b[38;5;132;01m{\u001b[39;00mDATASET\u001b[38;5;132;01m}\u001b[39;00m\u001b[38;5;124m_bd\u001b[39m\u001b[38;5;132;01m{\u001b[39;00mBOND_DIM\u001b[38;5;132;01m}\u001b[39;00m\u001b[38;5;124m_\u001b[39m\u001b[38;5;132;01m{\u001b[39;00mMAPPING\u001b[38;5;132;01m}\u001b[39;00m\u001b[38;5;124m_\u001b[39m\u001b[38;5;132;01m{\u001b[39;00mnow\u001b[38;5;241m.\u001b[39mstrftime(\u001b[38;5;124m\"\u001b[39m\u001b[38;5;124m%\u001b[39m\u001b[38;5;124mY\u001b[39m\u001b[38;5;124m%\u001b[39m\u001b[38;5;124mm\u001b[39m\u001b[38;5;132;01m%d\u001b[39;00m\u001b[38;5;124m-\u001b[39m\u001b[38;5;124m%\u001b[39m\u001b[38;5;124mH\u001b[39m\u001b[38;5;124m%\u001b[39m\u001b[38;5;124mM\u001b[39m\u001b[38;5;124m%\u001b[39m\u001b[38;5;124mS\u001b[39m\u001b[38;5;124m\"\u001b[39m)\u001b[38;5;132;01m}\u001b[39;00m\u001b[38;5;124m.png\u001b[39m\u001b[38;5;124m'\u001b[39m, dpi\u001b[38;5;241m=\u001b[39m\u001b[38;5;241m600\u001b[39m) \u001b[38;5;66;03m#_{now.strftime(\"%Y%m%d-%H%M%S\")}\u001b[39;00m\n",
      "\u001b[0;31mAttributeError\u001b[0m: 'numpy.ndarray' object has no attribute 'legend'"
     ]
    },
    {
     "data": {
      "image/png": "[encoded data removed]",
      "text/plain": [
       "<Figure size 6000x1000 with 20 Axes>"
      ]
     },
     "metadata": {},
     "output_type": "display_data"
    }
   ],
   "source": [
    "y_train_true = torch.cat([y for _, y in train_dl], dim=0).to(dtype=torch.int).numpy()\n",
    "y_test_true = torch.cat([y for _, y in test_dl], dim=0).numpy()\n",
    "\n",
    "train_pred = get_predictions(model, DEVICE, train_dl)\n",
    "test_pred = get_predictions(model, DEVICE, test_dl)\n",
    "bins = np.linspace(-0.01, 1.1, 50)\n",
    "fig, ax = plot_predictions(train_pred, test_pred, N_LABELS, nbins=bins, train_true=y_train_true, test_true=y_test_true, FS=FONTSIZE)\n",
    "\n",
    "train_acc, test_acc = accuracy(model, DEVICE, train_dl, test_dl, DTYPE, disable_pbar=True)\n",
    "legend_patches = []\n",
    "legend_patches.append(patches.Rectangle([0,0], 0,0, facecolor='white', edgecolor='black', label=f'Train\\nacc: {train_acc:.1%}'))\n",
    "legend_patches.append(patches.Rectangle([0,0], 0,0, facecolor='white', edgecolor='black', hatch='//', label=f'Test\\nacc: {test_acc:.1%}'))\n",
    "legend_patches.append(patches.Rectangle([0,0], 0,0, color='tab:blue', alpha=0.6, label=r'$\\bar S$'))\n",
    "legend_patches.append(patches.Rectangle([0,0], 0,0, color='tab:orange', alpha=0.6, label=r'$S$'))\n",
    "\n",
    "\n",
    "\n",
    "ax.legend(legend_patches, [patch.get_label() for patch in legend_patches])\n",
    "\n",
    "ax.set_title(f'Predictions distribution\\n{DATASET}, BD={BOND_DIM}', fontsize=FONTSIZE+2)\n",
    "\n",
    "fig.savefig(MODEL_DIR + f'/predictions_dist_{DATASET}_bd{BOND_DIM}_{MAPPING}_{now.strftime(\"%Y%m%d-%H%M%S\")}.png', dpi=600) #_{now.strftime(\"%Y%m%d-%H%M%S\")}"
   ]
  },
  {
   "cell_type": "code",
   "execution_count": null,
   "metadata": {},
   "outputs": [],
   "source": [
    "fig.suptitle(f'Predictions distribution\\n{DATASET}, BD={BOND_DIM}', fontsize=FONTSIZE+2)\n",
    "\n",
    "fig.savefig(MODEL_DIR + f'/predictions_dist_{DATASET}_bd{BOND_DIM}_{MAPPING}_{now.strftime(\"%Y%m%d-%H%M%S\")}.pdf') #_{now.strftime(\"%Y%m%d-%H%M%S\")}"
   ]
  },
  {
   "cell_type": "code",
   "execution_count": null,
   "metadata": {},
   "outputs": [],
   "source": [
    "# save model output\n",
    "train_out = get_output(model, DEVICE, train_dl)\n",
    "test_out = get_output(model, DEVICE, test_dl)\n",
    "np.save(MODEL_DIR + f'/train_out_{DATASET}_bd{BOND_DIM}_{MAPPING}_{now.strftime(\"%Y%m%d-%H%M%S\")}.npy', train_out)\n",
    "np.save(MODEL_DIR + f'/test_out_{DATASET}_bd{BOND_DIM}_{MAPPING}_{now.strftime(\"%Y%m%d-%H%M%S\")}.npy', test_out)"
   ]
  },
  {
   "cell_type": "code",
   "execution_count": 21,
   "metadata": {},
   "outputs": [],
   "source": [
    "train = np.concatenate([x for x, _ in train_dl])\n",
    "test = np.concatenate([x for x, _ in test_dl])\n",
    "\n",
    "np.save(MODEL_DIR + f'/x_train_{DATASET}_bd{BOND_DIM}_{MAPPING}_{now.strftime(\"%Y%m%d-%H%M%S\")}.npy', train)\n",
    "np.save(MODEL_DIR + f'/x_test_{DATASET}_bd{BOND_DIM}_{MAPPING}_{now.strftime(\"%Y%m%d-%H%M%S\")}.npy', test)\n",
    "\n",
    "np.save(MODEL_DIR + f'/y_train_{DATASET}_bd{BOND_DIM}_{MAPPING}_{now.strftime(\"%Y%m%d-%H%M%S\")}.npy', y_train_true)\n",
    "np.save(MODEL_DIR + f'/y_test_{DATASET}_bd{BOND_DIM}_{MAPPING}_{now.strftime(\"%Y%m%d-%H%M%S\")}.npy', y_test_true)"
   ]
  },
  {
   "cell_type": "markdown",
   "metadata": {},
   "source": [
    "### ROC"
   ]
  },
  {
   "cell_type": "code",
   "execution_count": null,
   "metadata": {},
   "outputs": [],
   "source": [
    "fpr, tpr, thresholds = roc_curve(y_test_true.ravel(), test_pred.ravel())\n",
    "auc = roc_auc_score(y_test_true, test_pred, multi_class='ovr', average='micro')\n",
    "\n",
    "props = dict(boxstyle='round', facecolor='white', alpha=0.5)\n",
    "\n",
    "fig, ax = plt.subplots(1, 1, figsize=(6, 5))\n",
    "ax.plot(fpr, tpr)\n",
    "x = np.logspace(-12, 0, 100)\n",
    "ax.plot(x, x, 'r--')\n",
    "ax.text(0.84, 0.001, f'AUC = {auc:.2f}', fontsize=FONTSIZE-2, bbox=props, ha='right')\n",
    "ax.set_xscale('log')\n",
    "ax.set_xlim([1e-6, 1.0])\n",
    "ax.set_xlabel('False Positive Rate', fontsize=FONTSIZE)\n",
    "ax.set_ylabel('True Positive Rate', fontsize=FONTSIZE)\n",
    "ax.set_title(f'ROC Curve\\n{DATASET}, BD={BOND_DIM}', fontsize=FONTSIZE+2)\n",
    "ax.tick_params(axis='both', which='major', labelsize=FONTSIZE)\n",
    "ax.grid()\n",
    "fig.savefig(MODEL_DIR + f'/roc_curve_{DATASET}_bd{BOND_DIM}_{MAPPING}_{now.strftime(\"%Y%m%d-%H%M%S\")}.pdf') #_{now.strftime(\"%Y%m%d-%H%M%S\")}\n",
    "\n",
    "print('ROC AUC Score:', round(auc, 2))"
   ]
  },
  {
   "cell_type": "code",
   "execution_count": null,
   "metadata": {},
   "outputs": [],
   "source": [
    "best_10 = np.argsort(tpr-fpr)[::-1][:10]\n",
    "print(tpr[best_10], fpr[best_10], sep='\\n')\n",
    "thresholds[best_10]"
   ]
  },
  {
   "cell_type": "code",
   "execution_count": null,
   "metadata": {},
   "outputs": [],
   "source": [
    "loadarff('../data/hls4ml_jets/hls4ml_HLF.arff')[0][:10]"
   ]
  },
  {
   "cell_type": "code",
   "execution_count": null,
   "metadata": {},
   "outputs": [],
   "source": [
    "thresh = 0.5\n",
    "fig, ax = plot_confusion_matrix(train_pred, y_train_true, [r'$g$', r'$W$', r'$t$', r'$Z$', r'$q$'], thresh=thresh)\n",
    "ax.set_title(f'Train Confusion Matrix\\n{DATASET}, BD={BOND_DIM}', fontsize=FONTSIZE+2)\n",
    "fig.tight_layout()\n",
    "fig.savefig(MODEL_DIR + f'/train_confusion_matrix_{DATASET}_bd{BOND_DIM}_{MAPPING}_{now.strftime(\"%Y%m%d-%H%M%S\")}.pdf') #_{now.strftime(\"%Y%m%d-%H%M%S\")}\n",
    "\n",
    "fig, ax = plot_confusion_matrix(test_pred, y_test_true, [r'$g$', r'$W$', r'$t$', r'$Z$', r'$q$'], thresh=thresh)\n",
    "ax.set_title(f'Test Confusion Matrix\\n{DATASET}, BD={BOND_DIM}', fontsize=FONTSIZE+2)\n",
    "fig.tight_layout()\n",
    "fig.savefig(MODEL_DIR + f'/test_confusion_matrix_{DATASET}_bd{BOND_DIM}_{MAPPING}_{now.strftime(\"%Y%m%d-%H%M%S\")}.pdf') #_{now.strftime(\"%Y%m%d-%H%M%S\")}"
   ]
  },
  {
   "cell_type": "code",
   "execution_count": null,
   "metadata": {},
   "outputs": [],
   "source": [
    "#save model weights\n",
    "#np.savez(MODEL_DIR + f'/weights_{DATASET}_bd{BOND_DIM}_{MAPPING}_{now.strftime(\"%Y%m%d-%H%M%S\")}.npz', **{key.name : value.cpu().detach() for key, value in model._TTN__tensor_map.items()})\n",
    "model.to_npz(MODEL_DIR + f'/model_{DATASET}_bd{BOND_DIM}_{MAPPING}_{now.strftime(\"%Y%m%d-%H%M%S\")}.npz')"
   ]
  },
  {
   "cell_type": "markdown",
   "metadata": {},
   "source": [
    "### Correlations"
   ]
  },
  {
   "cell_type": "code",
   "execution_count": null,
   "metadata": {},
   "outputs": [],
   "source": [
    "sz = torch.tensor([[1, 0], [0, -1]], dtype = DTYPE, device = DEVICE)"
   ]
  },
  {
   "cell_type": "code",
   "execution_count": null,
   "metadata": {},
   "outputs": [],
   "source": [
    "feat_combos = combinations_with_replacement(np.arange(model.n_features), 2)\n",
    "feat_combos = [combo for combo in feat_combos if combo[0] != combo[1]]\n",
    "corr = np.empty((model.n_features, model.n_features, model.n_labels))\n",
    "corr.fill(np.nan)\n",
    "\n",
    "for combo in feat_combos:\n",
    "    corr[combo] = model.expectation({TIndex(f'data.{i}', [f'data.{i}']): sz for i in combo}).cpu().numpy()\n",
    "\n",
    "for n in range(model.n_features):\n",
    "    corr[n, n] = model.expectation({TIndex(f'data.{n}', [f'data.{n}']): sz@sz}).cpu().numpy()\n"
   ]
  },
  {
   "cell_type": "code",
   "execution_count": null,
   "metadata": {},
   "outputs": [],
   "source": [
    "def plot_correlations(corr, features, labels, fig=None, axs=None):\n",
    "    n_feat = len(features)\n",
    "    if axs is None:\n",
    "        fig, axs = plt.subplots(1, len(labels), figsize=(n_feat*len(labels), n_feat))\n",
    "    axs = np.atleast_1d(axs)\n",
    "    for i, ax in enumerate(axs):\n",
    "        im = ax.imshow(corr[:, :, i].T, cmap='coolwarm', vmin=-1, vmax=1, aspect='equal')\n",
    "        ax.set_xticks(np.arange(n_feat), features, fontsize=FONTSIZE, rotation=45)\n",
    "        ax.set_yticks(np.arange(n_feat), features, fontsize=FONTSIZE)\n",
    "        # Minor ticks\n",
    "        ax.set_xticks(np.arange(-.5, n_feat-1, 1), minor=True)\n",
    "        ax.set_yticks(np.arange(-.5, n_feat-1, 1), minor=True)\n",
    "\n",
    "        # Gridlines based on minor ticks\n",
    "        ax.grid(which='minor', color='w', linestyle='-', linewidth=2)\n",
    "        #ax.set_xticklabels(features)\n",
    "        #ax.set_yticklabels(features)\n",
    "        ax.set_title(labels[i], fontsize=FONTSIZE+2)\n",
    "        for n in range(n_feat):\n",
    "            for m in range(n+1):\n",
    "                text = ax.text(m, n, round(corr[m, n, i], 2), ha='center', va='center', color='black', fontsize=FONTSIZE-2)\n",
    "    return fig, axs"
   ]
  },
  {
   "cell_type": "code",
   "execution_count": null,
   "metadata": {},
   "outputs": [],
   "source": [
    "fig, axs = plot_correlations(corr, [i for i in range(16)], [r'$g$', r'$W$', r'$t$', r'$Z$', r'$q$'])\n",
    "#fig.suptitle(r'$\\sigma_z$ correlations between features', fontsize=FONTSIZE+2)\n",
    "#fig.subplots_adjust()\n",
    "fig.tight_layout()\n",
    "fig.savefig(MODEL_DIR + f'/correlations_{DATASET}_bd{BOND_DIM}_{MAPPING}_{now.strftime(\"%Y%m%d-%H%M%S\")}.pdf') #_{now.strftime(\"%Y%m%d-%H%M%S\")}\n",
    "\n",
    "#fig.savefig('trenti_models/train_lhcb_bd8/correlations.png')"
   ]
  },
  {
   "cell_type": "markdown",
   "metadata": {},
   "source": [
    "### Entropy"
   ]
  },
  {
   "cell_type": "code",
   "execution_count": null,
   "metadata": {},
   "outputs": [],
   "source": [
    "model.canonicalize('0.0')"
   ]
  },
  {
   "cell_type": "code",
   "execution_count": null,
   "metadata": {},
   "outputs": [],
   "source": [
    "feat_entropies = [value for key, value in model.get_entropies().items() if 'data' in key]\n",
    "print('features entropies:', feat_entropies)\n",
    "print('total feat entropy:', sum(feat_entropies))"
   ]
  },
  {
   "cell_type": "code",
   "execution_count": null,
   "metadata": {},
   "outputs": [],
   "source": [
    "print('most informative features:', np.array([i for i in range(16)])[np.argsort(np.concatenate(feat_entropies))[::-1]])"
   ]
  },
  {
   "cell_type": "code",
   "execution_count": null,
   "metadata": {},
   "outputs": [],
   "source": [
    "np.argsort(feat_entropies, axis=0)[:,0]"
   ]
  },
  {
   "cell_type": "code",
   "execution_count": null,
   "metadata": {},
   "outputs": [],
   "source": [
    "list(zip(feat_entropies, titanic_features))"
   ]
  },
  {
   "cell_type": "code",
   "execution_count": null,
   "metadata": {},
   "outputs": [],
   "source": [
    "feat_entropies_ordered, perm = np.sort(feat_entropies, axis=0), np.argsort(feat_entropies, axis=0)[:,0] \n",
    "\n",
    "fig, ax = plot_feat_en(feat_entropies_ordered, np.array([f'{i}' for i in range(16)])[perm], 'HLS', map_dim=MAP_DIM, FS=FONTSIZE, color='#647687')\n",
    "fig.tight_layout()\n",
    "fig.savefig(MODEL_DIR + f'/features_entropy_{DATASET}_bd{BOND_DIM}_{MAPPING}_{now.strftime(\"%Y%m%d-%H%M%S\")}.pdf') #_{now.strftime(\"%Y%m%d-%H%M%S\")}"
   ]
  },
  {
   "cell_type": "code",
   "execution_count": null,
   "metadata": {},
   "outputs": [],
   "source": [
    "def draw_mi(model, cmap='Reds'):\n",
    "    mi = model.get_mi()\n",
    "    cmap = colormaps.get_cmap('Reds')\n",
    "    min, max = np.min(list(mi.values())), np.max(list(mi.values()))\n",
    "    dot = graphviz.Digraph('Entropy', comment='TTN: ' + 'Entropy', engine='dot', format='svg', renderer='cairo', graph_attr={'bgcolour': 'transparent', 'rankdir': 'LR', 'splines':'false', 'size':'16,14', 'ratio':'compress', 'fontname':'Arial'})\n",
    "    dot.attr('node', shape='circle', width='0.5', fixedsize='true', fontsize=str(11))\n",
    "    dot.attr('edge', color='#bfbfbf', fontsize=str(11-2))\n",
    "    dot.edge('0.0', 'hide', label=model.label_tag)\n",
    "    dot.node('hide', '', shape='plaintext')\n",
    "    for i, tindex in enumerate(model.indices):\n",
    "        c_rgba = list(cmap((mi[tindex.indices[-1]]-min)/(max-min)))\n",
    "        \n",
    "        dot.node(tindex.name, tindex.name, fillcolor=colors.rgb2hex(c_rgba), style='filled', color = colors.rgb2hex(c_rgba), penwidth='4')\n",
    "        \n",
    "        dot.edge(tindex[0], tindex.name, label=str(tindex[0])+f' [{model.tensors[i].shape[0]}]', weight=str((int(tindex.name.split('.')[0])+1)**2))\n",
    "        dot.edge(tindex[1], tindex.name, label=str(tindex[1])+f' [{model.tensors[i].shape[1]}]', weight=str((int(tindex.name.split('.')[0])+1)**2))\n",
    "\n",
    "    for i in range(2**model.n_layers):\n",
    "        index = f'data.{i}'\n",
    "        c_rgba = list(cmap((mi[index]-min)/(max-min)))\n",
    "        dot.node(index, index, fillcolor=colors.rgb2hex(c_rgba), style='filled', color = colors.rgb2hex(c_rgba), penwidth='4')\n",
    "\n",
    "    return dot\n",
    "\n",
    "def draw_entropy(model, features=None, labels=None, cmap='Reds'):\n",
    "    entropies = model.get_entropies()\n",
    "    n_labels = model.n_labels\n",
    "    cmap = colormaps.get_cmap('Reds')\n",
    "    min, max = np.min(np.stack(list(entropies.values())), axis=0), np.max(np.stack(list(entropies.values())), axis=0)\n",
    "    print(min, max)\n",
    "    dots = []\n",
    "\n",
    "    for j in range(n_labels):\n",
    "\n",
    "        dot = graphviz.Digraph('Entropy', comment='TTN: ' + 'Entropy', engine='dot', format='svg', renderer='cairo', graph_attr={'bgcolour': 'transparent', 'rankdir': 'LR', 'splines':'false', 'size':'8,6', 'ratio':'compress', 'fontname':'Arial'})\n",
    "        dot.attr('node', shape='circle', width='0.5', fixedsize='true', fontsize=str(11))\n",
    "        dot.attr('edge', color='#bfbfbf', fontsize=str(11-2))\n",
    "        dot.edge('0.0', 'hide', label=model.label_tag if labels is None else labels[j])\n",
    "        dot.node('hide', '', shape='plaintext')\n",
    "        for i, tindex in enumerate(model.indices):\n",
    "            c_rgba = (0,0,0,0) if tindex.indices[-1] == 'label' else list(cmap((entropies[tindex.indices[-1]][j]-min[j])/(max[j]-min[j])))\n",
    "            \n",
    "            dot.node(tindex.name, tindex.name, fillcolor=colors.rgb2hex(c_rgba), style='filled', color = colors.rgb2hex(c_rgba), penwidth='4')\n",
    "            \n",
    "            dot.edge(tindex[0], tindex.name, label=str(tindex[0])+f' [{model.tensors[i].shape[0]}]', weight=str((int(tindex.name.split('.')[0])+1)**2))\n",
    "            dot.edge(tindex[1], tindex.name, label=str(tindex[1])+f' [{model.tensors[i].shape[1]}]', weight=str((int(tindex.name.split('.')[0])+1)**2))\n",
    "\n",
    "        for i in range(2**model.n_layers):\n",
    "            index = f'data.{i}'\n",
    "            c_rgba = list(cmap((entropies[index][j]-min[j])/(max[j]-min[j])))\n",
    "            dot.node(index, index if features is None else features[i], fillcolor=colors.rgb2hex(c_rgba), style='filled', color = colors.rgb2hex(c_rgba), penwidth='4')\n",
    "        dots.append(dot)\n",
    "\n",
    "    return dots"
   ]
  },
  {
   "cell_type": "code",
   "execution_count": null,
   "metadata": {},
   "outputs": [],
   "source": [
    "dot = draw_mi(model)\n",
    "dot"
   ]
  },
  {
   "cell_type": "code",
   "execution_count": null,
   "metadata": {},
   "outputs": [],
   "source": [
    "model.get_entropies()"
   ]
  },
  {
   "cell_type": "code",
   "execution_count": null,
   "metadata": {},
   "outputs": [],
   "source": [
    "dots = draw_entropy(model, features=None)\n",
    "for i, dot in enumerate(dots):\n",
    "    display(SVG(dot.pipe(format='svg')))\n",
    "    dot.render(MODEL_DIR + f'/entropy_{DATASET}_bd{BOND_DIM}_{MAPPING}_l{i}_{now.strftime(\"%Y%m%d-%H%M%S\")}', format='pdf', cleanup=True)\n",
    "    #dot.render('trenti_models/train_lhcb_bd8/entropy_l' + str(i), format='svg', cleanup=True)\n",
    "    "
   ]
  },
  {
   "cell_type": "code",
   "execution_count": null,
   "metadata": {},
   "outputs": [],
   "source": [
    "dot.render(MODEL_DIR + f'/mi_{DATASET}_bd{BOND_DIM}_{MAPPING}_{now.strftime(\"%Y%m%d-%H%M%S\")}', format='png', cleanup=True)"
   ]
  },
  {
   "cell_type": "code",
   "execution_count": null,
   "metadata": {},
   "outputs": [],
   "source": [
    "svg = skunk.layout_svgs([MODEL_DIR + f'/entropy_{DATASET}_bd{BOND_DIM}_{MAPPING}_l{i}_{now.strftime(\"%Y%m%d-%H%M%S\")}.cairo.svg' for i in range(model.n_labels)],\n",
    "                        #labels=['Iris-virginica', 'Iris-versicolor', 'Iris-setosa'],\n",
    "                        shape=(1, 3), figsize=(20, 6), fontsize=FONTSIZE+2)"
   ]
  },
  {
   "cell_type": "code",
   "execution_count": null,
   "metadata": {},
   "outputs": [],
   "source": [
    "skunk.display(svg)"
   ]
  },
  {
   "cell_type": "code",
   "execution_count": null,
   "metadata": {},
   "outputs": [],
   "source": [
    "with open('entropy.svg', 'w') as f:\n",
    "    f.write(svg)"
   ]
  },
  {
   "cell_type": "code",
   "execution_count": null,
   "metadata": {},
   "outputs": [],
   "source": [
    "data = []\n",
    "labels = []\n",
    "\n",
    "for x, y in train_dl:\n",
    "    data.append(x)\n",
    "    labels.append(y)\n",
    "\n",
    "for x, y in test_dl:\n",
    "    data.append(x)\n",
    "    labels.append(y)\n",
    "\n",
    "data = torch.cat(data, dim=0)\n",
    "labels = torch.cat(labels, dim=0)\n",
    "\n",
    "#np.save(MODEL_DIR + f'/data_{DATASET}_{MAPPING}_{now.strftime(\"%Y%m%d-%H%M%S\")}.npy', data)\n",
    "#np.save(MODEL_DIR + f'/labels_{DATASET}_{MAPPING}_{now.strftime(\"%Y%m%d-%H%M%S\")}.npy', labels)"
   ]
  },
  {
   "cell_type": "code",
   "execution_count": null,
   "metadata": {},
   "outputs": [],
   "source": [
    "plt.hist(data[:,np.nonzero(np.array(titanic_features) == 'age')[0][0], 0].flatten())"
   ]
  },
  {
   "cell_type": "markdown",
   "metadata": {},
   "source": [
    "## Get weights distribution"
   ]
  },
  {
   "cell_type": "code",
   "execution_count": null,
   "metadata": {},
   "outputs": [],
   "source": [
    "def get_weights_population(n, dataloader, disable_pbar=False, **kws):\n",
    "    weights_ls = []\n",
    "    DEVICE = 'cuda'\n",
    "    BATCH_SIZE = 64\n",
    "    DTYPE = torch.double\n",
    "    INIT_EPOCHS = 5\n",
    "    LR = 0.05\n",
    "    EPOCHS = 80\n",
    "    SCHEDULER_STEPS = 4\n",
    "    train_dl, test_dl, features = dataloader(batch_size=BATCH_SIZE, **kws)\n",
    "\n",
    "    label_shape = next(iter(train_dl))[1].shape\n",
    "    N_LABELS = 1 if len(label_shape) == 1 else label_shape[1]\n",
    "    \n",
    "    pbar = tqdm(total=n*EPOCHS*len(train_dl), position=0, desc='weights population', leave=True, disable=disable_pbar)\n",
    "    for _ in range(n):        \n",
    "        model = TTNModel(features, bond_dim=BOND_DIM, n_labels=N_LABELS, device=DEVICE, dtype=DTYPE)\n",
    "        model.initialize(True, train_dl, class_loss, INIT_EPOCHS, disable_pbar=True)\n",
    "        model.train()\n",
    "        model.to(DEVICE)\n",
    "        optimizer = torch.optim.Adam(model.parameters(), lr=LR, weight_decay=1e-4)\n",
    "        schedulers = [torch.optim.lr_scheduler.ExponentialLR(optimizer, 0.9, last_epoch=-1, verbose=False), torch.optim.lr_scheduler.CosineAnnealingLR(optimizer, 10, eta_min=1e-5)]\n",
    "        scheduler = schedulers[0]\n",
    "        tot_loss_history = []\n",
    "        for epoch in range(EPOCHS):\n",
    "            loss_history = train_one_epoch(model, DEVICE, train_dl, class_loss, optimizer, pbar=pbar, disable_pbar=disable_pbar)\n",
    "            tot_loss_history += loss_history\n",
    "            if epoch % SCHEDULER_STEPS == SCHEDULER_STEPS-1:\n",
    "                scheduler.step()\n",
    "\n",
    "        loss_history = np.array(tot_loss_history)\n",
    "        print('Accuracy on train and test set:', accuracy(model, DEVICE, train_dl, test_dl, DTYPE, disable_pbar=True))\n",
    "\n",
    "        weights = [tensor.detach().cpu().flatten() for tensor in model.tensors]\n",
    "        weights_ls.append(torch.concat(weights, dim=0))\n",
    "        train_dl, test_dl, h = dataloader(batch_size=BATCH_SIZE, **kws)\n",
    "    return torch.stack(weights_ls)"
   ]
  },
  {
   "cell_type": "code",
   "execution_count": null,
   "metadata": {},
   "outputs": [],
   "source": [
    "BOND_DIM = 10\n",
    "weights = get_weights_population(5, get_titanic_data_loaders)"
   ]
  },
  {
   "cell_type": "code",
   "execution_count": null,
   "metadata": {},
   "outputs": [],
   "source": [
    "weights_plt = weights.flatten().numpy()\n",
    "#np.save(f'models/weights_{BOND_DIM}_{now.strftime(\"%Y%m%d-%H%M%S\")}.npy', weights.numpy())\n",
    "FS = 16\n",
    "fig, ax = plt.subplots(1, 1, figsize=(8, 6))\n",
    "ax.hist(weights_plt, bins=40)\n",
    "ax.set_xlabel('Weight', fontsize=FS)\n",
    "ax.set_ylabel('Counts', fontsize=FS)\n",
    "ax.set_title('Weights Distribution', fontsize=FS+2)\n",
    "ax.tick_params(axis='both', which='major', labelsize=FS-2)\n",
    "#ax.set_yticklabels(ax.get_yticks(), fontsize=FS-2)\n",
    "\n",
    "#fig.savefig(f'models/weight_distribution_{BOND_DIM}_{now.strftime(\"%Y%m%d-%H%M%S\")}.svg')"
   ]
  },
  {
   "cell_type": "code",
   "execution_count": 123,
   "metadata": {},
   "outputs": [
    {
     "data": {
      "text/plain": [
       "tensor([-6.1993e-01,  7.7502e-01,  1.2180e+00, -3.2434e-01, -5.5487e-01,\n",
       "         3.1323e-01, -1.0759e+00,  2.4701e-01,  5.5603e-02,  4.7961e-01,\n",
       "         6.0840e-01, -4.5355e-01, -3.2141e-01,  4.8090e-01, -3.3203e-01,\n",
       "         6.3141e-01,  2.4451e-01,  7.3523e-01, -1.4020e-01, -1.7371e-01,\n",
       "        -5.4089e-01, -5.2118e-01,  7.8918e-02,  2.8998e-01,  2.5903e-01,\n",
       "         5.2307e-02, -3.5815e-01, -1.7432e-01, -7.9651e-02,  1.5405e-01,\n",
       "         3.4448e-01, -4.1473e-01, -7.9126e-01,  7.4646e-02,  2.2827e-02,\n",
       "         1.5155e-01,  2.3267e-01, -2.6306e-02,  1.1658e-01, -2.1503e-01,\n",
       "        -1.6407e+00,  8.3484e-01, -1.4282e-01, -1.1131e+00, -2.5391e-02,\n",
       "         6.6309e-01, -7.5391e-01,  1.6522e-01, -1.0059e-01, -3.7115e-01,\n",
       "         2.4548e-01, -6.0449e-01, -3.9471e-01,  1.4130e-01,  2.3944e-01,\n",
       "        -1.6992e-01,  2.7472e-01,  1.2897e-01,  3.1683e-01,  2.5177e-01,\n",
       "        -8.1360e-01, -1.0400e-01, -2.1906e-01, -4.2090e-01,  2.5342e-01,\n",
       "        -1.5472e-01,  1.8610e-01, -4.7467e-01,  2.7002e-01, -3.2745e-01,\n",
       "        -1.1505e-01,  5.5969e-02, -1.6663e-02,  3.9264e-01, -8.2654e-01,\n",
       "        -1.2268e-02,  4.4720e-01, -2.0911e-01,  2.3438e-02,  2.0306e-01,\n",
       "        -2.7148e-01,  2.3315e-02,  4.3414e-01,  1.0535e-01,  1.9976e+00,\n",
       "        -1.4523e+00,  1.1810e+00, -1.4074e+00, -4.6490e-01,  2.0593e-01,\n",
       "        -2.8137e-02,  5.1514e-01, -3.6865e-01, -3.2416e-01, -2.9791e-01,\n",
       "        -2.6477e-01,  6.3477e-02, -3.4802e-01,  1.0944e-01,  3.7842e-02,\n",
       "         6.0059e-02, -5.8777e-02,  4.6448e-02,  4.2609e-01,  1.3892e-01,\n",
       "        -6.4923e-01,  4.4922e-01, -1.4685e-01, -1.7621e-01, -1.0028e-01,\n",
       "         1.3824e-01,  1.4832e-01, -3.5925e-01,  3.8269e-02,  1.3000e-01,\n",
       "        -2.3621e-01, -9.7302e-01,  1.5106e-01,  1.7572e-01,  7.8125e-03,\n",
       "         1.0742e-01, -7.5073e-03,  2.4182e-01,  1.9248e+00,  6.1658e-01,\n",
       "         5.7544e-01, -1.4526e-01,  2.1777e-01, -3.2532e-01, -3.0713e-01,\n",
       "         1.6827e-01,  1.8817e-01, -2.6477e-01, -1.7517e-02,  1.0480e-01,\n",
       "        -1.5930e-02,  1.2262e-01, -1.2576e+00, -3.8867e-01,  7.0007e-02,\n",
       "        -7.8735e-02, -7.9041e-02,  2.5549e-01,  5.3040e-02,  4.1382e-02,\n",
       "        -5.0171e-02,  1.7645e-01, -8.2397e-02,  1.1107e+00,  1.2946e-01,\n",
       "        -6.3904e-02, -9.2407e-02,  6.1218e-02, -7.6904e-03, -1.3690e-01,\n",
       "         9.8816e-02,  6.5125e-02,  6.3110e-02,  5.4016e-02,  1.1171e+00,\n",
       "         2.0966e-01,  5.7794e-01,  2.0319e-01,  4.6124e-01, -4.5526e-01,\n",
       "         7.6990e-01,  1.7584e-01, -2.7917e-01,  3.3936e-01,  7.2083e-02,\n",
       "        -4.0955e-02, -8.5504e-01,  2.4384e-01,  7.7301e-01,  1.4557e-01,\n",
       "         3.3197e-01, -1.1414e-02, -2.2034e-01, -3.3295e-01, -4.6796e-01,\n",
       "         5.1678e-01,  3.5126e-01, -3.7836e-01, -3.0847e-01, -4.7058e-01,\n",
       "        -9.0210e-01, -2.3535e-01, -4.8346e-01,  5.6348e-01, -1.2683e-01,\n",
       "         1.6638e-01,  3.1696e-01, -2.3755e-01, -1.8672e+00,  3.5651e-01,\n",
       "        -1.8420e-01, -2.7679e-01, -1.7841e-01,  4.3396e-01, -1.7346e-01,\n",
       "         1.5240e-01,  2.2296e-01,  3.5071e-01, -1.3195e+00,  5.8575e-01,\n",
       "        -9.3182e-01,  3.2227e-01,  5.4010e-01,  1.4008e-01,  1.1627e-01,\n",
       "         2.6447e-01, -5.1331e-01,  4.8340e-01,  1.0209e+00, -9.1071e-01,\n",
       "         1.0004e-01,  8.9294e-02, -1.1279e+00,  6.6956e-02,  3.0884e-02,\n",
       "         3.7756e-01,  2.2302e-01, -1.1519e+00, -9.9060e-02,  3.2117e-01,\n",
       "         1.0498e-02, -1.0303e-01,  6.7590e-01, -6.3916e-01, -1.9696e-01,\n",
       "         3.8556e-01, -3.6145e-01, -1.0175e+00,  6.3080e-01, -6.8988e-01,\n",
       "        -1.6058e-01, -5.0659e-02,  4.1730e-01, -6.4331e-02, -1.5106e-01,\n",
       "         7.1716e-01, -1.2303e+00,  1.9958e-01,  5.8234e-01,  2.4561e-01,\n",
       "         1.8243e-01,  6.1926e-01,  1.3501e-01,  8.5449e-04, -5.6396e-02,\n",
       "         2.5330e-01,  1.1442e+00, -3.7720e-01, -6.2860e-01,  3.3331e-01,\n",
       "         2.5165e-01,  3.9777e-01,  7.4707e-02, -6.4508e-01, -1.3617e-01,\n",
       "        -1.4819e-01,  5.6378e-01,  5.8807e-01, -8.5931e-01,  4.1595e-01,\n",
       "         4.0668e-01, -1.3550e-01,  9.5520e-01, -9.8450e-02, -1.1700e-01,\n",
       "         3.8470e-01, -1.3892e-01, -8.4839e-03,  2.6489e-02, -4.9738e-01,\n",
       "        -1.0278e-01, -1.7273e-02,  8.9172e-02, -8.4058e-01, -5.9814e-03,\n",
       "        -8.9435e-01,  8.9539e-02,  2.4719e-02, -5.8740e-01, -2.2949e-01,\n",
       "         5.0244e-01,  7.8979e-02,  2.9797e-01, -1.3757e-01,  1.4197e-01,\n",
       "         2.1277e-01,  1.3348e-01, -2.5800e-01,  1.2537e-01, -6.6833e-01,\n",
       "         2.1552e-01,  7.8552e-01,  1.9891e-01,  3.2562e-01,  3.7238e-01,\n",
       "         2.0013e-01, -1.8073e-01,  2.3132e-01,  1.8292e-01, -3.6853e-01,\n",
       "         5.2307e-02, -1.7224e-01,  6.1096e-02,  6.5326e-01,  2.2681e-01,\n",
       "         7.0190e-03,  6.3660e-02,  6.2012e-02, -6.6895e-02, -8.5754e-02,\n",
       "        -8.2397e-03,  8.6304e-02,  7.1411e-02, -5.1270e-02, -1.1340e+00,\n",
       "         2.8784e-01, -1.7145e-01, -2.3022e-01, -2.7710e-01, -3.1506e-01,\n",
       "        -1.8079e-01, -2.3364e-01,  1.3593e-01,  3.9478e-01,  3.7799e-01,\n",
       "        -4.3793e-01, -2.0660e-01, -9.1187e-02,  1.4943e+00,  2.8949e-01,\n",
       "        -4.3152e-02,  3.1665e-01,  1.5118e-01, -5.5664e-02, -3.5400e-01,\n",
       "         5.7770e-01, -4.4873e-01,  3.5718e-01, -7.8479e-01,  1.0663e-01,\n",
       "        -1.6815e-01, -6.7627e-02,  1.1414e-01,  1.6547e-01,  2.2131e-01,\n",
       "        -1.5656e-01, -2.2052e-01,  6.0065e-01, -3.0829e-01, -1.7084e-01,\n",
       "        -4.5929e-01,  7.1826e-01, -6.5625e-01, -6.5857e-02, -2.7966e-01,\n",
       "        -8.3331e-01,  4.6143e-02, -1.1267e-01, -1.1603e-01,  5.2161e-01,\n",
       "        -2.6874e-01,  8.6182e-01,  2.9956e-01, -1.2538e+00, -2.5299e-01,\n",
       "         2.5177e-01, -2.7039e-01,  3.7170e-02,  5.0769e-01, -2.1539e-01,\n",
       "         4.7485e-02, -1.7950e-01, -9.4971e-02, -3.5931e-01, -3.1769e-01,\n",
       "         1.4020e-01,  1.0300e+00, -1.5558e-01, -1.9043e-02,  6.4453e-02,\n",
       "         1.1554e-01,  1.0107e-01, -6.4014e-01, -1.7334e-01,  5.0067e-01,\n",
       "        -2.4841e-02, -6.0229e-01,  1.6339e-01, -7.9773e-02, -1.2265e+00,\n",
       "        -1.8085e-01, -4.5709e-01,  4.6045e-01, -2.0264e-02,  2.8381e-02,\n",
       "        -7.4817e-01,  8.7604e-01,  4.7424e-01,  1.5802e-01,  3.5742e-01,\n",
       "         9.7290e-02,  2.3090e-01, -3.7982e-01, -5.1550e-01,  2.2522e-02,\n",
       "         4.2657e-01, -1.1597e-02, -6.4899e-01, -4.9384e-01, -1.0986e-03,\n",
       "        -6.1096e-02, -5.4364e-01,  1.2427e-01, -1.2109e-01,  4.5422e-01,\n",
       "        -3.3313e-01, -4.4495e-02,  2.6733e-01, -4.8767e-01, -4.5782e-01,\n",
       "         1.0504e+00,  4.1382e-02,  3.2135e-01, -8.6243e-02,  1.3062e-01,\n",
       "         1.1395e-01, -1.7352e-01,  1.8945e-01, -4.4098e-01, -2.5928e-01,\n",
       "        -1.0541e-01, -5.5170e-01,  1.3403e+00,  1.1768e-01,  1.9330e-01,\n",
       "         6.5533e-01, -3.0499e-01,  4.9799e-01,  5.4688e-01, -2.8992e-02,\n",
       "         1.0413e-01, -1.9409e-02,  2.5903e-01, -2.3492e-01, -1.5424e-01,\n",
       "         4.3445e-01,  1.0809e-01, -3.8519e-01,  7.0862e-01,  2.6868e-01,\n",
       "        -5.5176e-01,  1.2460e+00, -2.2821e-01, -1.8921e-02, -7.6416e-02,\n",
       "        -2.0135e-01, -5.9204e-03, -6.3416e-02,  1.1932e-01, -3.0841e-01,\n",
       "         6.4209e-02, -4.5166e-03,  3.2416e-01, -1.2704e+00,  3.5950e-02,\n",
       "        -2.9602e-02,  1.2933e-01,  6.8665e-02, -3.9001e-02, -3.7354e-02,\n",
       "         1.7242e-01, -2.2229e-01,  2.5256e-01,  2.8442e-02, -1.0836e+00,\n",
       "         1.2451e-02,  2.2668e-01, -1.4693e+00, -3.4735e-01,  6.7792e-01,\n",
       "        -7.2760e-01,  2.1222e-01,  6.6711e-02, -2.2571e-01, -2.0081e-01,\n",
       "        -7.4261e-01, -1.1182e-01, -4.7205e-01,  2.2321e-01,  3.0029e-01,\n",
       "         8.9294e-02, -7.0557e-02, -3.8007e-01, -1.6504e-01, -2.1246e-01,\n",
       "        -1.0291e-01, -6.7529e-01,  9.5782e-01, -2.7795e-01, -8.9014e-01,\n",
       "        -5.7751e-01,  2.1240e-02,  2.4084e-01, -2.3853e-01,  4.1504e-02,\n",
       "        -1.3419e+00, -3.2458e-01,  8.1970e-02, -5.7861e-02, -6.5918e-03,\n",
       "        -7.8796e-02, -2.0386e-01, -1.2988e-01,  3.3185e-01, -7.5012e-02,\n",
       "        -2.8497e-01, -2.5623e-01, -8.5516e-01,  3.4412e-01, -3.0341e-01,\n",
       "        -1.2274e-01,  3.9233e-01, -6.9763e-01,  3.6267e-01, -3.3813e-02,\n",
       "        -1.2360e-01, -2.5720e-01,  4.6667e-01,  6.0120e-02, -5.3253e-01,\n",
       "         1.1896e-01, -1.8530e-01, -2.6947e-01, -4.2230e-01,  2.1112e-01,\n",
       "        -1.9653e-01,  4.0900e-01, -2.6154e-01, -1.3000e+00,  1.8970e-01,\n",
       "         4.6753e-01,  2.8119e-01,  2.9358e-01, -2.2467e-01,  5.2856e-02,\n",
       "        -1.1487e-01,  2.1283e-01, -5.1880e-03, -2.5140e-01, -5.1129e-01,\n",
       "        -2.7795e-01, -7.9114e-01,  4.0363e-01, -9.8633e-02, -3.3020e-02,\n",
       "         2.1448e-01, -4.9927e-01,  1.5974e+00,  1.6876e-01,  6.1664e-01,\n",
       "         3.6584e-01, -2.0575e-01,  7.3169e-01, -5.3406e-01,  3.7146e-01,\n",
       "         4.3457e-02,  1.3800e-01, -9.9976e-02,  9.0839e-01,  7.8162e-01,\n",
       "        -4.2163e-01, -8.9294e-02,  1.2561e-01,  2.4292e-01,  2.1472e-01,\n",
       "        -3.4668e-01,  4.0649e-01, -6.5125e-02,  1.3409e-01, -8.5675e-01,\n",
       "        -1.3123e-01,  3.5132e-01, -4.8999e-01,  1.7114e-01, -1.3184e-02,\n",
       "        -2.0654e-01, -2.4292e-02,  1.0022e-01, -1.4685e-01, -5.4626e-02,\n",
       "        -7.6538e-02,  1.2433e-01,  4.4501e-01,  8.4253e-01, -1.9592e-02,\n",
       "         4.5471e-02,  8.9349e-01,  1.6385e+00,  4.6497e-01,  5.3345e-02,\n",
       "        -2.3865e-02,  1.2561e-01,  1.5082e-01,  3.1433e-02, -7.3212e-01,\n",
       "        -3.7360e-01, -6.9427e-01,  3.1775e-01, -4.1931e-01,  1.9348e-01,\n",
       "        -1.1036e+00,  3.2361e-01,  4.7058e-02,  1.8433e-01, -1.0620e-01,\n",
       "         7.5317e-02,  1.6846e-02,  5.7617e-02, -1.0010e-01,  1.6913e-01,\n",
       "        -1.3824e-01, -5.9766e-01, -1.0349e+00,  5.0446e-01, -4.8889e-02,\n",
       "        -1.4545e-01,  1.2286e-01, -7.4463e-03,  1.3800e-01,  1.6876e-01,\n",
       "        -1.4325e-01, -1.5173e-01,  6.3477e-02, -2.2479e-01,  1.1160e+00])"
      ]
     },
     "execution_count": 123,
     "metadata": {},
     "output_type": "execute_result"
    }
   ],
   "source": [
    "weights = [tensor.detach().cpu().flatten() for tensor in qmodel.tensors[3:7]]\n",
    "weights = torch.concat(weights, dim=0)\n",
    "weights"
   ]
  },
  {
   "cell_type": "code",
   "execution_count": 124,
   "metadata": {},
   "outputs": [
    {
     "data": {
      "text/plain": [
       "tensor(0.4984)"
      ]
     },
     "execution_count": 124,
     "metadata": {},
     "output_type": "execute_result"
    }
   ],
   "source": [
    "(weights < 0.0001).mean(dtype=torch.float)"
   ]
  },
  {
   "cell_type": "code",
   "execution_count": 125,
   "metadata": {},
   "outputs": [
    {
     "data": {
      "text/plain": [
       "(array([ 1.,  0.,  1.,  0.,  3.,  3.,  5.,  5.,  4.,  4., 10.,  8., 13.,\n",
       "        14., 25., 29., 40., 59., 63., 83., 70., 62., 35., 29., 20., 15.,\n",
       "        10.,  6.,  5.,  4.,  4.,  3.,  1.,  1.,  1.,  1.,  1.,  0.,  0.,\n",
       "         2.]),\n",
       " array([-1.86724854, -1.77062833, -1.67400813, -1.57738805, -1.48076785,\n",
       "        -1.38414764, -1.28752744, -1.19090724, -1.09428716, -0.9976669 ,\n",
       "        -0.90104675, -0.80442655, -0.70780635, -0.61118615, -0.51456606,\n",
       "        -0.41794586, -0.32132566, -0.22470546, -0.12808526, -0.03146517,\n",
       "         0.06515503,  0.16177535,  0.25839543,  0.35501552,  0.45163584,\n",
       "         0.54825592,  0.64487624,  0.74149632,  0.83811641,  0.93473673,\n",
       "         1.03135681,  1.12797713,  1.22459722,  1.3212173 ,  1.41783762,\n",
       "         1.5144577 ,  1.61107802,  1.70769811,  1.80431819,  1.90093851,\n",
       "         1.99755859]),\n",
       " <BarContainer object of 40 artists>)"
      ]
     },
     "execution_count": 125,
     "metadata": {},
     "output_type": "execute_result"
    },
    {
     "data": {
      "image/png": "[encoded data removed]",
      "text/plain": [
       "<Figure size 640x480 with 1 Axes>"
      ]
     },
     "metadata": {},
     "output_type": "display_data"
    }
   ],
   "source": [
    "plt.hist(weights, bins=40)"
   ]
  },
  {
   "cell_type": "code",
   "execution_count": 118,
   "metadata": {},
   "outputs": [
    {
     "name": "stdout",
     "output_type": "stream",
     "text": [
      "min\n",
      "0.0\n",
      "max\n",
      "1.3788452\n"
     ]
    }
   ],
   "source": [
    "print('min', np.abs(weights.numpy()).min(), 'max', np.abs(weights.numpy()).max(), sep='\\n')"
   ]
  },
  {
   "cell_type": "code",
   "execution_count": null,
   "metadata": {},
   "outputs": [],
   "source": [
    "print('min', np.abs(weights.numpy()).min(axis=1).mean(), 'max', np.abs(weights.numpy()).max(axis=1).mean(), sep='\\n')"
   ]
  },
  {
   "cell_type": "code",
   "execution_count": null,
   "metadata": {},
   "outputs": [],
   "source": [
    "mins = [tensor.abs().min().item() for tensor in model.tensors]\n",
    "maxs = [tensor.abs().max().item() for tensor in model.tensors]\n",
    "means = [tensor.mean().item() for tensor in model.tensors]\n",
    "\n",
    "print('mins:', mins, 'maxs:', maxs, 'means:', means, sep='\\n')"
   ]
  },
  {
   "cell_type": "markdown",
   "metadata": {},
   "source": [
    "## Rescale weights"
   ]
  },
  {
   "cell_type": "code",
   "execution_count": null,
   "metadata": {},
   "outputs": [],
   "source": [
    "tensors = [tensor.detach().cpu() for tensor in model.tensors]"
   ]
  },
  {
   "cell_type": "code",
   "execution_count": null,
   "metadata": {},
   "outputs": [],
   "source": [
    "tensors[0].norm(dim=(0, 1))"
   ]
  },
  {
   "cell_type": "code",
   "execution_count": null,
   "metadata": {},
   "outputs": [],
   "source": [
    "del model._TTN__tensors\n",
    "model.tensors = tensors"
   ]
  },
  {
   "cell_type": "code",
   "execution_count": null,
   "metadata": {},
   "outputs": [],
   "source": [
    "layer = 2\n",
    "new_tensors = []\n",
    "for i in range(2**layer):\n",
    "    new_tensors.append(model[f'{layer}.{i}']*2)\n",
    "\n",
    "model.tensors = model.tensors[:2**layer-1] + new_tensors + model.tensors[2**(layer+1)-1:2**model.n_layers-1]\n"
   ]
  },
  {
   "cell_type": "code",
   "execution_count": null,
   "metadata": {},
   "outputs": [],
   "source": [
    "model.tensors[0] /= 2**layer"
   ]
  },
  {
   "cell_type": "code",
   "execution_count": null,
   "metadata": {},
   "outputs": [],
   "source": [
    "model.to_npz('trained_models/hls_models/model_hls_bd10_spin_20250211-155234_betterweights3.npz')"
   ]
  },
  {
   "cell_type": "code",
   "execution_count": 130,
   "metadata": {},
   "outputs": [
    {
     "data": {
      "application/vnd.jupyter.widget-view+json": {
       "model_id": "81583e1763be48c8b7eab312976c0807",
       "version_major": 2,
       "version_minor": 0
      },
      "text/plain": [
       "test:   0%|          | 0/33 [00:00<?, ?it/s]"
      ]
     },
     "metadata": {},
     "output_type": "display_data"
    },
    {
     "data": {
      "application/vnd.jupyter.widget-view+json": {
       "model_id": "26d76a4518ff4db8bb663f4a41e476b3",
       "version_major": 2,
       "version_minor": 0
      },
      "text/plain": [
       "train:   0%|          | 0/129 [00:00<?, ?it/s]"
      ]
     },
     "metadata": {},
     "output_type": "display_data"
    },
    {
     "data": {
      "text/plain": [
       "(0.7308370481665901, 0.7305266164181143)"
      ]
     },
     "execution_count": 130,
     "metadata": {},
     "output_type": "execute_result"
    }
   ],
   "source": [
    "accuracy(qmodel, DEVICE, train_dl, test_dl, DTYPE)"
   ]
  },
  {
   "cell_type": "code",
   "execution_count": 106,
   "metadata": {},
   "outputs": [
    {
     "name": "stderr",
     "output_type": "stream",
     "text": [
      "Exception ignored in: <function _MultiProcessingDataLoaderIter.__del__ at 0x7fb8ad93b370>\n",
      "Traceback (most recent call last):\n",
      "  File \"/home/ubuntu/data/ttn4hep/.ttn_venv/lib/python3.10/site-packages/torch/utils/data/dataloader.py\", line 1604, in __del__\n",
      "    self._shutdown_workers()\n",
      "  File \"/home/ubuntu/data/ttn4hep/.ttn_venv/lib/python3.10/site-packages/torch/utils/data/dataloader.py\", line 1587, in _shutdown_workers\n",
      "    if w.is_alive():\n",
      "  File \"/usr/lib/python3.10/multiprocessing/process.py\", line 160, in is_alive\n",
      "    assert self._parent_pid == os.getpid(), 'can only test a child process'\n",
      "AssertionError: can only test a child process\n",
      "Exception ignored in: <function _MultiProcessingDataLoaderIter.__del__ at 0x7fb8ad93b370>\n",
      "Traceback (most recent call last):\n",
      "  File \"/home/ubuntu/data/ttn4hep/.ttn_venv/lib/python3.10/site-packages/torch/utils/data/dataloader.py\", line 1604, in __del__\n",
      "    self._shutdown_workers()\n",
      "  File \"/home/ubuntu/data/ttn4hep/.ttn_venv/lib/python3.10/site-packages/torch/utils/data/dataloader.py\", line 1587, in _shutdown_workers\n",
      "    if w.is_alive():\n",
      "  File \"/usr/lib/python3.10/multiprocessing/process.py\", line 160, in is_alive\n",
      "    assert self._parent_pid == os.getpid(), 'can only test a child process'\n",
      "AssertionError: can only test a child process\n"
     ]
    }
   ],
   "source": [
    "# save model output\n",
    "train_out = get_output(qmodel, DEVICE, train_dl, DTYPE)\n",
    "test_out = get_output(qmodel, DEVICE, test_dl, DTYPE)\n",
    "np.save(MODEL_DIR + f'/train_out_{DATASET}_bd{BOND_DIM}_{MAPPING}_{now.strftime(\"%Y%m%d-%H%M%S\")}.npy', train_out)\n",
    "np.save(MODEL_DIR + f'/test_out_{DATASET}_bd{BOND_DIM}_{MAPPING}_{now.strftime(\"%Y%m%d-%H%M%S\")}.npy', test_out)"
   ]
  },
  {
   "cell_type": "code",
   "execution_count": 107,
   "metadata": {},
   "outputs": [
    {
     "data": {
      "image/png": "[encoded data removed]",
      "text/plain": [
       "<Figure size 800x600 with 1 Axes>"
      ]
     },
     "metadata": {},
     "output_type": "display_data"
    }
   ],
   "source": [
    "fig, ax = plt.subplots(1, 1, figsize=(8, 6))\n",
    "\n",
    "ax.plot([loss_history[i*len(train_dl):((i+1)*len(train_dl) if i<EPOCHS-1 else None)].mean() for i in range(EPOCHS)])\n",
    "#ax.set_ylim(0, 0.3)\n",
    "ax.set_xlabel('Epoch', fontsize=FONTSIZE)\n",
    "ax.set_ylabel('Loss', fontsize=FONTSIZE)\n",
    "ax.set_title(F'Training Loss\\n{DATASET}, BD={BOND_DIM}', fontsize=FONTSIZE+2)\n",
    "ax.tick_params(axis='both', which='major', labelsize=FONTSIZE-2)\n",
    "ax.grid(axis='y')\n",
    "\n",
    "ax.hlines(loss_history[(EPOCHS-1)*len(train_dl):].mean(), 0, EPOCHS, colors='r', linestyles='dashed')\n",
    "ax.text(EPOCHS, loss_history[(EPOCHS-1)*len(train_dl):].mean()+0.001, f'{loss_history[(EPOCHS-1)*len(train_dl):].mean():.3f}', fontsize=FONTSIZE-2, color='r', verticalalignment='bottom', horizontalalignment='right')\n",
    "\n",
    "fig.savefig(MODEL_DIR + f'/loss_history_{DATASET}_bd{BOND_DIM}_{MAPPING}_{now.strftime(\"%Y%m%d-%H%M%S\")}.png')"
   ]
  },
  {
   "cell_type": "code",
   "execution_count": 108,
   "metadata": {},
   "outputs": [
    {
     "ename": "AttributeError",
     "evalue": "'numpy.ndarray' object has no attribute 'legend'",
     "output_type": "error",
     "traceback": [
      "\u001b[0;31m---------------------------------------------------------------------------\u001b[0m",
      "\u001b[0;31mAttributeError\u001b[0m                            Traceback (most recent call last)",
      "Cell \u001b[0;32mIn[108], line 8\u001b[0m\n\u001b[1;32m      4\u001b[0m fig, ax \u001b[38;5;241m=\u001b[39m plot_predictions(train_pred, test_pred, N_LABELS)\n\u001b[1;32m      6\u001b[0m train_acc, test_acc \u001b[38;5;241m=\u001b[39m accuracy(qmodel, DEVICE, train_dl, test_dl, DTYPE, disable_pbar\u001b[38;5;241m=\u001b[39m\u001b[38;5;28;01mTrue\u001b[39;00m)\n\u001b[0;32m----> 8\u001b[0m \u001b[43max\u001b[49m\u001b[38;5;241;43m.\u001b[39;49m\u001b[43mlegend\u001b[49m([\u001b[38;5;124mf\u001b[39m\u001b[38;5;124m'\u001b[39m\u001b[38;5;124mTrain\u001b[39m\u001b[38;5;130;01m\\n\u001b[39;00m\u001b[38;5;124macc: \u001b[39m\u001b[38;5;132;01m{\u001b[39;00mtrain_acc\u001b[38;5;132;01m:\u001b[39;00m\u001b[38;5;124m.1%\u001b[39m\u001b[38;5;132;01m}\u001b[39;00m\u001b[38;5;124m'\u001b[39m, \u001b[38;5;124mf\u001b[39m\u001b[38;5;124m'\u001b[39m\u001b[38;5;124mTest\u001b[39m\u001b[38;5;130;01m\\n\u001b[39;00m\u001b[38;5;124macc: \u001b[39m\u001b[38;5;132;01m{\u001b[39;00mtest_acc\u001b[38;5;132;01m:\u001b[39;00m\u001b[38;5;124m.1%\u001b[39m\u001b[38;5;132;01m}\u001b[39;00m\u001b[38;5;124m'\u001b[39m])\n\u001b[1;32m      9\u001b[0m ax\u001b[38;5;241m.\u001b[39mset_title(\u001b[38;5;124mf\u001b[39m\u001b[38;5;124m'\u001b[39m\u001b[38;5;124mPredictions distribution\u001b[39m\u001b[38;5;130;01m\\n\u001b[39;00m\u001b[38;5;132;01m{\u001b[39;00mDATASET\u001b[38;5;132;01m}\u001b[39;00m\u001b[38;5;124m, BD=\u001b[39m\u001b[38;5;132;01m{\u001b[39;00mBOND_DIM\u001b[38;5;132;01m}\u001b[39;00m\u001b[38;5;124m'\u001b[39m, fontsize\u001b[38;5;241m=\u001b[39mFONTSIZE\u001b[38;5;241m+\u001b[39m\u001b[38;5;241m2\u001b[39m)\n\u001b[1;32m     11\u001b[0m fig\u001b[38;5;241m.\u001b[39msavefig(MODEL_DIR \u001b[38;5;241m+\u001b[39m \u001b[38;5;124mf\u001b[39m\u001b[38;5;124m'\u001b[39m\u001b[38;5;124m/predictions_dist_\u001b[39m\u001b[38;5;132;01m{\u001b[39;00mDATASET\u001b[38;5;132;01m}\u001b[39;00m\u001b[38;5;124m_bd\u001b[39m\u001b[38;5;132;01m{\u001b[39;00mBOND_DIM\u001b[38;5;132;01m}\u001b[39;00m\u001b[38;5;124m_\u001b[39m\u001b[38;5;132;01m{\u001b[39;00mMAPPING\u001b[38;5;132;01m}\u001b[39;00m\u001b[38;5;124m_\u001b[39m\u001b[38;5;132;01m{\u001b[39;00mnow\u001b[38;5;241m.\u001b[39mstrftime(\u001b[38;5;124m\"\u001b[39m\u001b[38;5;124m%\u001b[39m\u001b[38;5;124mY\u001b[39m\u001b[38;5;124m%\u001b[39m\u001b[38;5;124mm\u001b[39m\u001b[38;5;132;01m%d\u001b[39;00m\u001b[38;5;124m-\u001b[39m\u001b[38;5;124m%\u001b[39m\u001b[38;5;124mH\u001b[39m\u001b[38;5;124m%\u001b[39m\u001b[38;5;124mM\u001b[39m\u001b[38;5;124m%\u001b[39m\u001b[38;5;124mS\u001b[39m\u001b[38;5;124m\"\u001b[39m)\u001b[38;5;132;01m}\u001b[39;00m\u001b[38;5;124m.png\u001b[39m\u001b[38;5;124m'\u001b[39m)\n",
      "\u001b[0;31mAttributeError\u001b[0m: 'numpy.ndarray' object has no attribute 'legend'"
     ]
    },
    {
     "data": {
      "image/png": "[encoded data removed]",
      "text/plain": [
       "<Figure size 6000x1000 with 20 Axes>"
      ]
     },
     "metadata": {},
     "output_type": "display_data"
    }
   ],
   "source": [
    "train_pred = get_predictions(qmodel, DEVICE, train_dl, DTYPE)\n",
    "test_pred = get_predictions(qmodel, DEVICE, test_dl, DTYPE)\n",
    "\n",
    "fig, ax = plot_predictions(train_pred, test_pred, N_LABELS)\n",
    "\n",
    "train_acc, test_acc = accuracy(qmodel, DEVICE, train_dl, test_dl, DTYPE, disable_pbar=True)\n",
    "\n",
    "ax.legend([f'Train\\nacc: {train_acc:.1%}', f'Test\\nacc: {test_acc:.1%}'])\n",
    "ax.set_title(f'Predictions distribution\\n{DATASET}, BD={BOND_DIM}', fontsize=FONTSIZE+2)\n",
    "\n",
    "fig.savefig(MODEL_DIR + f'/predictions_dist_{DATASET}_bd{BOND_DIM}_{MAPPING}_{now.strftime(\"%Y%m%d-%H%M%S\")}.png')"
   ]
  },
  {
   "cell_type": "code",
   "execution_count": 109,
   "metadata": {},
   "outputs": [],
   "source": [
    "qmodel.to_npz(MODEL_DIR + f'/model_{DATASET}_bd{BOND_DIM}_{MAPPING}_{now.strftime(\"%Y%m%d-%H%M%S\")}.npz')"
   ]
  },
  {
   "cell_type": "code",
   "execution_count": null,
   "metadata": {},
   "outputs": [],
   "source": [
    "y_test_true = torch.cat([y for _, y in test_dl], dim=0).numpy()\n",
    "y_train_true = torch.cat([y for _, y in train_dl], dim=0).numpy()"
   ]
  },
  {
   "cell_type": "code",
   "execution_count": 129,
   "metadata": {},
   "outputs": [
    {
     "name": "stdout",
     "output_type": "stream",
     "text": [
      "ROC AUC Score: 0.91\n"
     ]
    },
    {
     "data": {
      "image/png": "[encoded data removed]",
      "text/plain": [
       "<Figure size 600x500 with 1 Axes>"
      ]
     },
     "metadata": {},
     "output_type": "display_data"
    }
   ],
   "source": [
    "fpr, tpr, thresholds = roc_curve(y_test_true.ravel(), test_pred.ravel())\n",
    "auc = roc_auc_score(y_test_true, test_pred, multi_class='ovr', average='micro')\n",
    "\n",
    "props = dict(boxstyle='round', facecolor='white', alpha=0.5)\n",
    "\n",
    "fig, ax = plt.subplots(1, 1, figsize=(6, 5))\n",
    "ax.plot(fpr, tpr)\n",
    "x = np.logspace(-12, 0, 100)\n",
    "ax.plot(x, x, 'r--')\n",
    "ax.text(0.84, 0.001, f'AUC = {auc:.2f}', fontsize=FONTSIZE-2, bbox=props, ha='right')\n",
    "ax.set_xscale('log')\n",
    "ax.set_xlim([1e-6, 1.0])\n",
    "ax.set_xlabel('False Positive Rate', fontsize=FONTSIZE)\n",
    "ax.set_ylabel('True Positive Rate', fontsize=FONTSIZE)\n",
    "ax.set_title(f'ROC Curve\\n{DATASET}, BD={BOND_DIM}', fontsize=FONTSIZE+2)\n",
    "ax.tick_params(axis='both', which='major', labelsize=FONTSIZE)\n",
    "ax.grid()\n",
    "fig.savefig(MODEL_DIR + f'/roc_curve_{DATASET}_bd{BOND_DIM}_{MAPPING}_{now.strftime(\"%Y%m%d-%H%M%S\")}.pdf') #_{now.strftime(\"%Y%m%d-%H%M%S\")}\n",
    "\n",
    "print('ROC AUC Score:', round(auc, 2))"
   ]
  },
  {
   "cell_type": "code",
   "execution_count": null,
   "metadata": {},
   "outputs": [],
   "source": [
    "tensors = torch.load('qmodels/trainedmodel_titanic_bd4_spin_20240213-140002.dict')()\n",
    "list(tensors.values())[0].shape"
   ]
  },
  {
   "cell_type": "code",
   "execution_count": null,
   "metadata": {},
   "outputs": [],
   "source": [
    "tensors = np.load('qmodels/modelweights_titanic_bd4_spin_20240213-140002.npz')\n",
    "list(tensors.values())[0].shape"
   ]
  },
  {
   "cell_type": "code",
   "execution_count": null,
   "metadata": {},
   "outputs": [],
   "source": [
    "qmodel.tensors = [torch.tensor(tensor).to(dtype=torch.float, device='cuda') for tensor in tensors.values()]"
   ]
  },
  {
   "cell_type": "code",
   "execution_count": null,
   "metadata": {},
   "outputs": [],
   "source": [
    "qmodel['2.0']['2.0'].shape"
   ]
  },
  {
   "cell_type": "code",
   "execution_count": null,
   "metadata": {},
   "outputs": [],
   "source": [
    "data = np.load('titanic_models/data_titanic_spin_20240213-134127.npy')\n",
    "data = torch.tensor(data[:16], dtype=torch.float, device='cuda')\n",
    "data"
   ]
  },
  {
   "cell_type": "code",
   "execution_count": null,
   "metadata": {},
   "outputs": [],
   "source": [
    "qmodel.draw()"
   ]
  },
  {
   "cell_type": "code",
   "execution_count": null,
   "metadata": {},
   "outputs": [],
   "source": [
    "branch = '2.0'\n",
    "qmodel._propagate_data_through_branch_({TIndex(f'data.{i}', [f'data.{i}']): data[:, i] for i in range(2)}, qmodel.get_branch(branch), keep=True)"
   ]
  },
  {
   "cell_type": "code",
   "execution_count": null,
   "metadata": {},
   "outputs": [],
   "source": [
    "contract_up(qmodel[branch][branch], data[:2], quantizer=Q)"
   ]
  },
  {
   "cell_type": "code",
   "execution_count": null,
   "metadata": {},
   "outputs": [],
   "source": [
    "quantizer = Q\n",
    "tensor = qmodel[branch][branch]\n",
    "data_tensors = data[:1,:2].transpose(0, 1)\n",
    "tensor = quantizer(tensor)\n",
    "left   = quantizer(torch.matmul(quantizer(data_tensors[0]), tensor.contiguous().view(tensor.shape[0], -1)))\n",
    "right  = quantizer(torch.bmm(quantizer(data_tensors[1]).unsqueeze(1), left.view(-1, tensor.shape[1], tensor.shape[2])))"
   ]
  },
  {
   "cell_type": "code",
   "execution_count": null,
   "metadata": {},
   "outputs": [],
   "source": [
    "tensor\n",
    "left"
   ]
  },
  {
   "cell_type": "code",
   "execution_count": null,
   "metadata": {},
   "outputs": [],
   "source": [
    "print('tensor:', tensor.permute(2, 0, 1))\n",
    "print('left:', left)\n",
    "print('right:', right)\n",
    "print('data0:', quantizer(data_tensors[0]))\n",
    "print('data1:', quantizer(data_tensors[1]))"
   ]
  },
  {
   "cell_type": "code",
   "execution_count": null,
   "metadata": {},
   "outputs": [],
   "source": [
    "print(qmodel['2.0']['2.0'][-1, -1, -1].item())"
   ]
  },
  {
   "cell_type": "markdown",
   "metadata": {},
   "source": [
    "# Trash"
   ]
  },
  {
   "cell_type": "code",
   "execution_count": null,
   "metadata": {},
   "outputs": [],
   "source": [
    "torch.load('data/grid_search/model_8_4_16_False_torch.float64.pth')['_TTN__tensors.0']"
   ]
  },
  {
   "cell_type": "code",
   "execution_count": null,
   "metadata": {},
   "outputs": [],
   "source": [
    "data_arff = arff.load(open('../data/titanic/titanic.arff', 'r'))\n",
    "dataframe = pd.DataFrame(data_arff['data'])\n",
    "dataframe.columns = [x[0] for x in data_arff['attributes']]\n",
    "dataframe.drop(columns=['name', 'cabin', 'body', 'boat', 'home.dest'], inplace=True)\n",
    "dataframe.dropna(inplace=True)\n",
    "dataframe.to_csv('../data/titanic/titanic.csv', index=False)\n",
    "dataframe"
   ]
  },
  {
   "cell_type": "code",
   "execution_count": null,
   "metadata": {},
   "outputs": [],
   "source": [
    "path = '../data'\n",
    "train = torch.tensor(np.load(path + '/Higgs/higgs_train.npy'))\n",
    "permutation = torch.randperm(train.shape[1])\n",
    "train[:, permutation]"
   ]
  },
  {
   "cell_type": "code",
   "execution_count": null,
   "metadata": {},
   "outputs": [],
   "source": [
    "torch.randperm(train.shape[1]).tolist()"
   ]
  },
  {
   "cell_type": "code",
   "execution_count": null,
   "metadata": {},
   "outputs": [],
   "source": [
    "[np.random.permutation(4) for _ in range(5)]"
   ]
  },
  {
   "cell_type": "code",
   "execution_count": null,
   "metadata": {},
   "outputs": [],
   "source": []
  }
 ],
 "metadata": {
  "kernelspec": {
   "display_name": ".ttn_venv",
   "language": "python",
   "name": "python3"
  },
  "language_info": {
   "codemirror_mode": {
    "name": "ipython",
    "version": 3
   },
   "file_extension": ".py",
   "mimetype": "text/x-python",
   "name": "python",
   "nbconvert_exporter": "python",
   "pygments_lexer": "ipython3",
   "version": "3.10.12"
  }
 },
 "nbformat": 4,
 "nbformat_minor": 4
}
