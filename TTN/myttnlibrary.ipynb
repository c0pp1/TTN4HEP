{
 "cells": [
  {
   "cell_type": "markdown",
   "metadata": {},
   "source": [
    "# My TTN library\n",
    "In this notebook I try to develop my personal library to handle TTNs, their definition, properties, automatic contraction and training."
   ]
  },
  {
   "cell_type": "code",
   "execution_count": 1,
   "metadata": {},
   "outputs": [],
   "source": [
    "%load_ext autoreload"
   ]
  },
  {
   "cell_type": "code",
   "execution_count": 23,
   "metadata": {},
   "outputs": [],
   "source": [
    "%autoreload 2\n",
    "import torch\n",
    "import numpy as np\n",
    "import pandas as pd\n",
    "import arff\n",
    "import matplotlib.pyplot as plt\n",
    "from matplotlib import colormaps\n",
    "from sklearn.metrics import roc_auc_score, roc_curve\n",
    "from typing import Sequence, ValuesView\n",
    "from tqdm import tqdm, trange\n",
    "from string import ascii_letters\n",
    "from timeit import timeit\n",
    "from datetime import datetime\n",
    "from itertools import combinations, combinations_with_replacement\n",
    "from IPython.display import display, SVG\n",
    "import graphviz\n",
    "\n",
    "from ttn_torch import TIndex, TTNIndex, TTN, TTNModel, check_correct_init\n",
    "from algebra import contract_up\n",
    "from utils import *\n",
    "import sys\n",
    "sys.path.insert(0, '../')\n",
    "\n",
    "from images.plot_utils import *\n",
    "from torchinfo import summary\n",
    "\n",
    "FONTSIZE = 14"
   ]
  },
  {
   "cell_type": "markdown",
   "metadata": {},
   "source": [
    "## TTN with automatic contractions\n",
    "Try to develop methods to do automatic contractions, also based on the network structure (separability of states)\n",
    "### Network description"
   ]
  },
  {
   "cell_type": "code",
   "execution_count": 3,
   "metadata": {},
   "outputs": [
    {
     "data": {
      "image/svg+xml": [
       "<?xml version=\"1.0\" encoding=\"UTF-8\"?>\n",
       "<svg xmlns=\"http://www.w3.org/2000/svg\" xmlns:xlink=\"http://www.w3.org/1999/xlink\" width=\"299pt\" height=\"119pt\" viewBox=\"0 0 299 119\" version=\"1.1\">\n",
       "<defs>\n",
       "<g>\n",
       "<symbol overflow=\"visible\" id=\"glyph0-0\">\n",
       "<path style=\"stroke:none;\" d=\"M 0.546875 2 L 0.546875 -8 L 6.046875 -8 L 6.046875 2 Z M 1.171875 1 L 5.4375 1 L 5.4375 -7 L 1.171875 -7 Z M 1.171875 1 \"/>\n",
       "</symbol>\n",
       "<symbol overflow=\"visible\" id=\"glyph0-1\">\n",
       "<path style=\"stroke:none;\" d=\"M 3.5 -1 C 4.050781 -1 4.460938 -1.25 4.734375 -1.75 C 5.003906 -2.25 5.140625 -3 5.140625 -4 C 5.140625 -5.007812 5.003906 -5.757812 4.734375 -6.25 C 4.460938 -6.75 4.050781 -7 3.5 -7 C 2.945312 -7 2.535156 -6.75 2.265625 -6.25 C 1.992188 -5.757812 1.859375 -5.007812 1.859375 -4 C 1.859375 -3 1.992188 -2.25 2.265625 -1.75 C 2.535156 -1.25 2.945312 -1 3.5 -1 Z M 3.5 0 C 2.625 0 1.941406 -0.347656 1.453125 -1.046875 C 0.960938 -1.753906 0.71875 -2.738281 0.71875 -4 C 0.71875 -5.257812 0.960938 -6.238281 1.453125 -6.9375 C 1.941406 -7.644531 2.625 -8 3.5 -8 C 4.363281 -8 5.039062 -7.644531 5.53125 -6.9375 C 6.019531 -6.238281 6.265625 -5.257812 6.265625 -4 C 6.265625 -2.738281 6.019531 -1.753906 5.53125 -1.046875 C 5.039062 -0.347656 4.363281 0 3.5 0 Z M 3.5 0 \"/>\n",
       "</symbol>\n",
       "<symbol overflow=\"visible\" id=\"glyph0-2\">\n",
       "<path style=\"stroke:none;\" d=\"M 1.03125 -0.5 C 1.03125 -0.832031 1.097656 -1 1.234375 -1 C 1.367188 -1 1.539062 -1 1.75 -1 C 1.945312 -1 2.113281 -1 2.25 -1 C 2.394531 -1 2.46875 -0.832031 2.46875 -0.5 C 2.46875 -0.164062 2.394531 0 2.25 0 C 2.113281 0 1.945312 0 1.75 0 C 1.539062 0 1.367188 0 1.234375 0 C 1.097656 0 1.03125 -0.164062 1.03125 -0.5 Z M 1.03125 -0.5 \"/>\n",
       "</symbol>\n",
       "<symbol overflow=\"visible\" id=\"glyph0-3\">\n",
       "<path style=\"stroke:none;\" d=\"M 1.5625 0 L 1.5625 -1 L 2.953125 -1 L 2.953125 -7.265625 L 1.34375 -6.328125 L 1.34375 -7 L 3.296875 -8 L 4.046875 -8 L 4.046875 -1 L 5.4375 -1 L 5.4375 0 Z M 1.5625 0 \"/>\n",
       "</symbol>\n",
       "<symbol overflow=\"visible\" id=\"glyph1-0\">\n",
       "<path style=\"stroke:none;\" d=\"M 0.453125 2 L 0.453125 -6 L 4.953125 -6 L 4.953125 2 Z M 0.953125 1 L 4.453125 1 L 4.453125 -5 L 0.953125 -5 Z M 0.953125 1 \"/>\n",
       "</symbol>\n",
       "<symbol overflow=\"visible\" id=\"glyph1-1\">\n",
       "<path style=\"stroke:none;\" d=\"M 1.84375 -1 L 2.609375 -1 L 2.609375 0 L 0.265625 0 L 0.265625 -1 L 1.03125 -1 L 1.03125 -7 L 0.265625 -7 L 0.265625 -8 L 1.84375 -8 Z M 1.84375 -1 \"/>\n",
       "</symbol>\n",
       "<symbol overflow=\"visible\" id=\"glyph1-2\">\n",
       "<path style=\"stroke:none;\" d=\"M 3.578125 -1.5 L 3.578125 -2 L 2.546875 -2 C 2.140625 -2 1.835938 -1.957031 1.640625 -1.875 C 1.441406 -1.789062 1.34375 -1.664062 1.34375 -1.5 C 1.34375 -1.34375 1.441406 -1.21875 1.640625 -1.125 C 1.835938 -1.039062 2.109375 -1 2.453125 -1 C 2.785156 -1 3.054688 -1.046875 3.265625 -1.140625 C 3.472656 -1.234375 3.578125 -1.351562 3.578125 -1.5 Z M 4.390625 -2.984375 L 4.390625 -1 L 5.109375 -1 L 5.109375 0 L 3.578125 0 L 3.578125 -1.015625 C 3.398438 -0.671875 3.191406 -0.414062 2.953125 -0.25 C 2.722656 -0.0820312 2.453125 0 2.140625 0 C 1.617188 0 1.207031 -0.132812 0.90625 -0.40625 C 0.601562 -0.675781 0.453125 -1.039062 0.453125 -1.5 C 0.453125 -1.976562 0.625 -2.347656 0.96875 -2.609375 C 1.320312 -2.867188 1.816406 -3 2.453125 -3 L 3.578125 -3 L 3.578125 -4.125 C 3.578125 -4.082031 3.46875 -4.050781 3.25 -4.03125 C 3.039062 -4.007812 2.738281 -4 2.34375 -4 C 2.019531 -4 1.765625 -4.082031 1.578125 -4.25 C 1.390625 -4.414062 1.269531 -4.664062 1.21875 -5 L 0.8125 -5 C 1.09375 -5 1.363281 -5 1.625 -5 C 1.894531 -5 2.15625 -5 2.40625 -5 C 3.050781 -5 3.539062 -4.828125 3.875 -4.484375 C 4.21875 -4.140625 4.390625 -3.640625 4.390625 -2.984375 Z M 4.390625 -2.984375 \"/>\n",
       "</symbol>\n",
       "<symbol overflow=\"visible\" id=\"glyph1-3\">\n",
       "<path style=\"stroke:none;\" d=\"M 1.03125 -1 L 1.03125 -7 L 0.265625 -7 L 0.265625 -8 L 1.84375 -8 L 1.84375 -3.71875 C 2 -4.15625 2.195312 -4.476562 2.4375 -4.6875 C 2.6875 -4.894531 2.992188 -5 3.359375 -5 C 3.929688 -5 4.398438 -4.769531 4.765625 -4.3125 C 5.128906 -3.851562 5.3125 -3.25 5.3125 -2.5 C 5.3125 -1.757812 5.128906 -1.15625 4.765625 -0.6875 C 4.398438 -0.226562 3.929688 0 3.359375 0 C 2.992188 0 2.6875 -0.0976562 2.4375 -0.296875 C 2.195312 -0.492188 2 -0.796875 1.84375 -1.203125 L 1.84375 0 L 0.265625 0 L 0.265625 -1 Z M 1.84375 -2.28125 C 1.84375 -1.863281 1.945312 -1.546875 2.15625 -1.328125 C 2.375 -1.109375 2.691406 -1 3.109375 -1 C 3.515625 -1 3.820312 -1.125 4.03125 -1.375 C 4.25 -1.632812 4.359375 -2.007812 4.359375 -2.5 C 4.359375 -3 4.25 -3.375 4.03125 -3.625 C 3.820312 -3.875 3.515625 -4 3.109375 -4 C 2.691406 -4 2.375 -3.878906 2.15625 -3.640625 C 1.945312 -3.410156 1.84375 -3.078125 1.84375 -2.640625 Z M 1.84375 -2.28125 \"/>\n",
       "</symbol>\n",
       "<symbol overflow=\"visible\" id=\"glyph1-4\">\n",
       "<path style=\"stroke:none;\" d=\"M 4.875 -2 L 1.390625 -2 L 1.390625 -1.953125 C 1.390625 -1.640625 1.507812 -1.398438 1.75 -1.234375 C 1.988281 -1.078125 2.335938 -1 2.796875 -1 C 3.148438 -1 3.441406 -1 3.671875 -1 C 3.898438 -1 4.0625 -1 4.15625 -1 L 4.796875 -1 C 4.671875 -0.664062 4.429688 -0.414062 4.078125 -0.25 C 3.734375 -0.0820312 3.28125 0 2.71875 0 C 2.03125 0 1.476562 -0.226562 1.0625 -0.6875 C 0.65625 -1.144531 0.453125 -1.75 0.453125 -2.5 C 0.453125 -3.25 0.65625 -3.851562 1.0625 -4.3125 C 1.46875 -4.769531 2 -5 2.65625 -5 C 3.363281 -5 3.90625 -4.742188 4.28125 -4.234375 C 4.664062 -3.722656 4.863281 -2.976562 4.875 -2 Z M 3.921875 -3 C 3.898438 -3.332031 3.785156 -3.582031 3.578125 -3.75 C 3.367188 -3.914062 3.0625 -4 2.65625 -4 C 2.289062 -4 2 -3.914062 1.78125 -3.75 C 1.570312 -3.582031 1.441406 -3.332031 1.390625 -3 Z M 3.921875 -3 \"/>\n",
       "</symbol>\n",
       "<symbol overflow=\"visible\" id=\"glyph1-5\">\n",
       "<path style=\"stroke:none;\" d=\"M 1.28125 0 L 1.28125 -1 L 2.421875 -1 L 2.421875 -6.265625 L 1.09375 -5.4375 L 1.09375 -6 L 2.703125 -7 L 3.3125 -7 L 3.3125 -1 L 4.453125 -1 L 4.453125 0 Z M 1.28125 0 \"/>\n",
       "</symbol>\n",
       "<symbol overflow=\"visible\" id=\"glyph1-6\">\n",
       "<path style=\"stroke:none;\" d=\"M 0.84375 -0.5 C 0.84375 -0.832031 0.898438 -1 1.015625 -1 C 1.128906 -1 1.269531 -1 1.4375 -1 C 1.59375 -1 1.726562 -1 1.84375 -1 C 1.957031 -1 2.015625 -0.832031 2.015625 -0.5 C 2.015625 -0.164062 1.957031 0 1.84375 0 C 1.726562 0 1.59375 0 1.4375 0 C 1.269531 0 1.128906 0 1.015625 0 C 0.898438 0 0.84375 -0.164062 0.84375 -0.5 Z M 0.84375 -0.5 \"/>\n",
       "</symbol>\n",
       "<symbol overflow=\"visible\" id=\"glyph1-7\">\n",
       "<path style=\"stroke:none;\" d=\"M 2.859375 -1 C 3.304688 -1 3.640625 -1.207031 3.859375 -1.625 C 4.085938 -2.039062 4.203125 -2.664062 4.203125 -3.5 C 4.203125 -4.332031 4.085938 -4.957031 3.859375 -5.375 C 3.640625 -5.789062 3.304688 -6 2.859375 -6 C 2.410156 -6 2.070312 -5.789062 1.84375 -5.375 C 1.625 -4.957031 1.515625 -4.332031 1.515625 -3.5 C 1.515625 -2.664062 1.625 -2.039062 1.84375 -1.625 C 2.070312 -1.207031 2.410156 -1 2.859375 -1 Z M 2.859375 0 C 2.148438 0 1.59375 -0.304688 1.1875 -0.921875 C 0.789062 -1.535156 0.59375 -2.394531 0.59375 -3.5 C 0.59375 -4.601562 0.789062 -5.460938 1.1875 -6.078125 C 1.59375 -6.691406 2.148438 -7 2.859375 -7 C 3.578125 -7 4.132812 -6.691406 4.53125 -6.078125 C 4.925781 -5.460938 5.125 -4.601562 5.125 -3.5 C 5.125 -2.394531 4.925781 -1.535156 4.53125 -0.921875 C 4.132812 -0.304688 3.578125 0 2.859375 0 Z M 2.859375 0 \"/>\n",
       "</symbol>\n",
       "<symbol overflow=\"visible\" id=\"glyph1-8\">\n",
       "<path style=\"stroke:none;\" d=\"\"/>\n",
       "</symbol>\n",
       "<symbol overflow=\"visible\" id=\"glyph1-9\">\n",
       "<path style=\"stroke:none;\" d=\"M 0.78125 -8 L 2.8125 -8 L 2.8125 -7 L 1.609375 -7 L 1.609375 -1 L 2.8125 -1 L 2.8125 0 L 0.78125 0 Z M 0.78125 -8 \"/>\n",
       "</symbol>\n",
       "<symbol overflow=\"visible\" id=\"glyph1-10\">\n",
       "<path style=\"stroke:none;\" d=\"M 3.140625 -3 L 3.140625 -6.125 L 0.90625 -3 Z M 5.078125 0 L 2.09375 0 L 2.09375 -1 L 3.140625 -1 L 3.140625 -2 L 0.28125 -2 L 0.28125 -2.484375 L 3.140625 -7 L 4.015625 -7 L 4.015625 -3 L 5.28125 -3 L 5.28125 -2 L 4.015625 -2 L 4.015625 -1 L 5.078125 -1 Z M 5.078125 0 \"/>\n",
       "</symbol>\n",
       "<symbol overflow=\"visible\" id=\"glyph1-11\">\n",
       "<path style=\"stroke:none;\" d=\"M 2.734375 -8 L 2.734375 0 L 0.6875 0 L 0.6875 -1 L 1.90625 -1 L 1.90625 -7 L 0.6875 -7 L 0.6875 -8 Z M 2.734375 -8 \"/>\n",
       "</symbol>\n",
       "<symbol overflow=\"visible\" id=\"glyph1-12\">\n",
       "<path style=\"stroke:none;\" d=\"M 4.71875 -1 L 5.5 -1 L 5.5 0 L 3.921875 0 L 3.921875 -1.203125 C 3.765625 -0.796875 3.5625 -0.492188 3.3125 -0.296875 C 3.070312 -0.0976562 2.769531 0 2.40625 0 C 1.832031 0 1.363281 -0.226562 1 -0.6875 C 0.632812 -1.15625 0.453125 -1.757812 0.453125 -2.5 C 0.453125 -3.25 0.632812 -3.851562 1 -4.3125 C 1.363281 -4.769531 1.832031 -5 2.40625 -5 C 2.769531 -5 3.070312 -4.894531 3.3125 -4.6875 C 3.5625 -4.476562 3.765625 -4.15625 3.921875 -3.71875 L 3.921875 -7 L 3.15625 -7 L 3.15625 -8 L 4.71875 -8 Z M 3.921875 -2.28125 L 3.921875 -2.640625 C 3.921875 -3.078125 3.8125 -3.410156 3.59375 -3.640625 C 3.382812 -3.878906 3.070312 -4 2.65625 -4 C 2.238281 -4 1.921875 -3.875 1.703125 -3.625 C 1.492188 -3.375 1.390625 -3 1.390625 -2.5 C 1.390625 -2.007812 1.492188 -1.632812 1.703125 -1.375 C 1.921875 -1.125 2.238281 -1 2.65625 -1 C 3.070312 -1 3.382812 -1.109375 3.59375 -1.328125 C 3.8125 -1.546875 3.921875 -1.863281 3.921875 -2.28125 Z M 3.921875 -2.28125 \"/>\n",
       "</symbol>\n",
       "<symbol overflow=\"visible\" id=\"glyph1-13\">\n",
       "<path style=\"stroke:none;\" d=\"M 0.96875 -4 L 0.265625 -4 L 0.265625 -5 L 0.96875 -5 L 0.96875 -6 L 1.78125 -6 L 1.78125 -5 L 3.3125 -5 L 3.3125 -4 L 1.78125 -4 L 1.78125 -2.09375 C 1.78125 -1.625 1.816406 -1.320312 1.890625 -1.1875 C 1.972656 -1.0625 2.113281 -1 2.3125 -1 C 2.53125 -1 2.6875 -1.078125 2.78125 -1.234375 C 2.875 -1.390625 2.925781 -1.644531 2.9375 -2 L 3.546875 -2 C 3.523438 -1.300781 3.410156 -0.789062 3.203125 -0.46875 C 2.992188 -0.15625 2.675781 0 2.25 0 C 1.78125 0 1.445312 -0.15625 1.25 -0.46875 C 1.0625 -0.789062 0.96875 -1.332031 0.96875 -2.09375 Z M 0.96875 -4 \"/>\n",
       "</symbol>\n",
       "<symbol overflow=\"visible\" id=\"glyph1-14\">\n",
       "<path style=\"stroke:none;\" d=\"M 1.15625 -5 L 0.65625 -5 L 0.65625 -6 C 0.96875 -6.320312 1.28125 -6.566406 1.59375 -6.734375 C 1.914062 -6.910156 2.226562 -7 2.53125 -7 C 3.21875 -7 3.757812 -6.832031 4.15625 -6.5 C 4.550781 -6.175781 4.75 -5.734375 4.75 -5.171875 C 4.75 -4.535156 4.300781 -3.773438 3.40625 -2.890625 C 3.332031 -2.816406 3.28125 -2.765625 3.25 -2.734375 L 1.59375 -1 L 4.328125 -1 L 4.328125 -2 L 4.84375 -2 L 4.84375 0 L 0.609375 0 L 0.609375 -0.546875 L 2.609375 -2.8125 C 3.046875 -3.1875 3.359375 -3.523438 3.546875 -3.828125 C 3.734375 -4.140625 3.828125 -4.46875 3.828125 -4.8125 C 3.828125 -5.1875 3.710938 -5.476562 3.484375 -5.6875 C 3.253906 -5.894531 2.9375 -6 2.53125 -6 C 2.113281 -6 1.789062 -5.914062 1.5625 -5.75 C 1.332031 -5.582031 1.195312 -5.332031 1.15625 -5 Z M 1.15625 -5 \"/>\n",
       "</symbol>\n",
       "<symbol overflow=\"visible\" id=\"glyph1-15\">\n",
       "<path style=\"stroke:none;\" d=\"M 0.875 -6 C 1.21875 -6.320312 1.546875 -6.566406 1.859375 -6.734375 C 2.179688 -6.910156 2.476562 -7 2.75 -7 C 3.394531 -7 3.894531 -6.84375 4.25 -6.53125 C 4.613281 -6.226562 4.796875 -5.804688 4.796875 -5.265625 C 4.796875 -4.816406 4.671875 -4.445312 4.421875 -4.15625 C 4.171875 -3.863281 3.816406 -3.664062 3.359375 -3.5625 C 3.898438 -3.488281 4.316406 -3.300781 4.609375 -3 C 4.910156 -2.695312 5.0625 -2.304688 5.0625 -1.828125 C 5.0625 -1.234375 4.851562 -0.78125 4.4375 -0.46875 C 4.03125 -0.15625 3.441406 0 2.671875 0 C 2.328125 0 1.988281 -0.0820312 1.65625 -0.25 C 1.332031 -0.414062 1.007812 -0.664062 0.6875 -1 L 0.6875 -2 L 1.171875 -2 C 1.203125 -1.664062 1.34375 -1.414062 1.59375 -1.25 C 1.851562 -1.082031 2.210938 -1 2.671875 -1 C 3.117188 -1 3.472656 -1.082031 3.734375 -1.25 C 3.992188 -1.425781 4.125 -1.664062 4.125 -1.96875 C 4.125 -2.300781 3.988281 -2.554688 3.71875 -2.734375 C 3.457031 -2.910156 3.070312 -3 2.5625 -3 L 2.140625 -3 L 2.140625 -4 L 2.359375 -4 C 2.867188 -4 3.25 -4.082031 3.5 -4.25 C 3.757812 -4.425781 3.890625 -4.6875 3.890625 -5.03125 C 3.890625 -5.34375 3.785156 -5.582031 3.578125 -5.75 C 3.367188 -5.914062 3.066406 -6 2.671875 -6 C 2.273438 -6 1.96875 -5.914062 1.75 -5.75 C 1.53125 -5.582031 1.398438 -5.332031 1.359375 -5 L 0.875 -5 Z M 0.875 -6 \"/>\n",
       "</symbol>\n",
       "</g>\n",
       "</defs>\n",
       "<g id=\"surface1\">\n",
       "<path style=\"fill-rule:nonzero;fill:rgb(25.490196%,26.666667%,52.941176%);fill-opacity:1;stroke-width:4;stroke-linecap:butt;stroke-linejoin:miter;stroke:rgb(20.392157%,21.176471%,42.352941%);stroke-opacity:1;stroke-miterlimit:10;\" d=\"M 207 -55.5 C 207 -48.597656 201.402344 -43 194.5 -43 C 187.597656 -43 182 -48.597656 182 -55.5 C 182 -62.402344 187.597656 -68 194.5 -68 C 201.402344 -68 207 -62.402344 207 -55.5 \" transform=\"matrix(1,0,0,1,4,115)\"/>\n",
       "<g style=\"fill:rgb(0%,0%,0%);fill-opacity:1;\">\n",
       "  <use xlink:href=\"#glyph0-1\" x=\"189.5\" y=\"62.300781\"/>\n",
       "  <use xlink:href=\"#glyph0-2\" x=\"196.25\" y=\"62.300781\"/>\n",
       "  <use xlink:href=\"#glyph0-1\" x=\"200\" y=\"62.300781\"/>\n",
       "</g>\n",
       "<path style=\"fill:none;stroke-width:1;stroke-linecap:butt;stroke-linejoin:miter;stroke:rgb(74.901961%,74.901961%,74.901961%);stroke-opacity:1;stroke-miterlimit:10;\" d=\"M 207.25 -55.5 C 219.792969 -55.5 239.957031 -55.5 255.472656 -55.5 \" transform=\"matrix(1,0,0,1,4,115)\"/>\n",
       "<path style=\"fill-rule:nonzero;fill:rgb(74.901961%,74.901961%,74.901961%);fill-opacity:1;stroke-width:1;stroke-linecap:butt;stroke-linejoin:miter;stroke:rgb(74.901961%,74.901961%,74.901961%);stroke-opacity:1;stroke-miterlimit:10;\" d=\"M 255.773438 -59 L 265.773438 -55.5 L 255.773438 -52 Z M 255.773438 -59 \" transform=\"matrix(1,0,0,1,4,115)\"/>\n",
       "<g style=\"fill:rgb(0%,0%,0%);fill-opacity:1;\">\n",
       "  <use xlink:href=\"#glyph1-1\" x=\"229\" y=\"56.699219\"/>\n",
       "  <use xlink:href=\"#glyph1-2\" x=\"232\" y=\"56.699219\"/>\n",
       "  <use xlink:href=\"#glyph1-3\" x=\"237.25\" y=\"56.699219\"/>\n",
       "  <use xlink:href=\"#glyph1-4\" x=\"243.25\" y=\"56.699219\"/>\n",
       "  <use xlink:href=\"#glyph1-1\" x=\"248.5\" y=\"56.699219\"/>\n",
       "</g>\n",
       "<path style=\"fill-rule:nonzero;fill:rgb(99.215686%,90.588235%,14.509804%);fill-opacity:1;stroke-width:4;stroke-linecap:butt;stroke-linejoin:miter;stroke:rgb(90.196078%,81.176471%,0.784314%);stroke-opacity:1;stroke-miterlimit:10;\" d=\"M 114 -76.5 C 114 -69.597656 108.402344 -64 101.5 -64 C 94.597656 -64 89 -69.597656 89 -76.5 C 89 -83.402344 94.597656 -89 101.5 -89 C 108.402344 -89 114 -83.402344 114 -76.5 \" transform=\"matrix(1,0,0,1,4,115)\"/>\n",
       "<g style=\"fill:rgb(0%,0%,0%);fill-opacity:1;\">\n",
       "  <use xlink:href=\"#glyph0-3\" x=\"96.5\" y=\"41.300781\"/>\n",
       "  <use xlink:href=\"#glyph0-2\" x=\"103.25\" y=\"41.300781\"/>\n",
       "  <use xlink:href=\"#glyph0-1\" x=\"107\" y=\"41.300781\"/>\n",
       "</g>\n",
       "<path style=\"fill:none;stroke-width:1;stroke-linecap:butt;stroke-linejoin:miter;stroke:rgb(74.901961%,74.901961%,74.901961%);stroke-opacity:1;stroke-miterlimit:10;\" d=\"M 114.023438 -73.839844 C 128.589844 -70.480469 153.941406 -64.628906 172.101562 -60.4375 \" transform=\"matrix(1,0,0,1,4,115)\"/>\n",
       "<path style=\"fill-rule:nonzero;fill:rgb(74.901961%,74.901961%,74.901961%);fill-opacity:1;stroke-width:1;stroke-linecap:butt;stroke-linejoin:miter;stroke:rgb(74.901961%,74.901961%,74.901961%);stroke-opacity:1;stroke-miterlimit:10;\" d=\"M 173.113281 -63.796875 L 182.070312 -58.136719 L 171.539062 -56.976562 Z M 173.113281 -63.796875 \" transform=\"matrix(1,0,0,1,4,115)\"/>\n",
       "<g style=\"fill:rgb(0%,0%,0%);fill-opacity:1;\">\n",
       "  <use xlink:href=\"#glyph1-5\" x=\"136\" y=\"43.699219\"/>\n",
       "  <use xlink:href=\"#glyph1-6\" x=\"142\" y=\"43.699219\"/>\n",
       "  <use xlink:href=\"#glyph1-7\" x=\"145\" y=\"43.699219\"/>\n",
       "  <use xlink:href=\"#glyph1-8\" x=\"151\" y=\"43.699219\"/>\n",
       "  <use xlink:href=\"#glyph1-9\" x=\"154\" y=\"43.699219\"/>\n",
       "  <use xlink:href=\"#glyph1-10\" x=\"157.75\" y=\"43.699219\"/>\n",
       "  <use xlink:href=\"#glyph1-11\" x=\"163.75\" y=\"43.699219\"/>\n",
       "</g>\n",
       "<path style=\"fill-rule:nonzero;fill:rgb(99.215686%,90.588235%,14.509804%);fill-opacity:1;stroke-width:4;stroke-linecap:butt;stroke-linejoin:miter;stroke:rgb(90.196078%,81.176471%,0.784314%);stroke-opacity:1;stroke-miterlimit:10;\" d=\"M 114 -33.5 C 114 -26.597656 108.402344 -21 101.5 -21 C 94.597656 -21 89 -26.597656 89 -33.5 C 89 -40.402344 94.597656 -46 101.5 -46 C 108.402344 -46 114 -40.402344 114 -33.5 \" transform=\"matrix(1,0,0,1,4,115)\"/>\n",
       "<g style=\"fill:rgb(0%,0%,0%);fill-opacity:1;\">\n",
       "  <use xlink:href=\"#glyph0-3\" x=\"96.5\" y=\"84.300781\"/>\n",
       "  <use xlink:href=\"#glyph0-2\" x=\"103.25\" y=\"84.300781\"/>\n",
       "  <use xlink:href=\"#glyph0-3\" x=\"107\" y=\"84.300781\"/>\n",
       "</g>\n",
       "<path style=\"fill:none;stroke-width:1;stroke-linecap:butt;stroke-linejoin:miter;stroke:rgb(74.901961%,74.901961%,74.901961%);stroke-opacity:1;stroke-miterlimit:10;\" d=\"M 114.023438 -36.285156 C 128.589844 -39.808594 153.941406 -45.9375 172.101562 -50.328125 \" transform=\"matrix(1,0,0,1,4,115)\"/>\n",
       "<path style=\"fill-rule:nonzero;fill:rgb(74.901961%,74.901961%,74.901961%);fill-opacity:1;stroke-width:1;stroke-linecap:butt;stroke-linejoin:miter;stroke:rgb(74.901961%,74.901961%,74.901961%);stroke-opacity:1;stroke-miterlimit:10;\" d=\"M 171.527344 -53.789062 L 182.070312 -52.734375 L 173.171875 -46.984375 Z M 171.527344 -53.789062 \" transform=\"matrix(1,0,0,1,4,115)\"/>\n",
       "<g style=\"fill:rgb(0%,0%,0%);fill-opacity:1;\">\n",
       "  <use xlink:href=\"#glyph1-5\" x=\"136\" y=\"64.699219\"/>\n",
       "  <use xlink:href=\"#glyph1-6\" x=\"142\" y=\"64.699219\"/>\n",
       "  <use xlink:href=\"#glyph1-5\" x=\"145\" y=\"64.699219\"/>\n",
       "  <use xlink:href=\"#glyph1-8\" x=\"151\" y=\"64.699219\"/>\n",
       "  <use xlink:href=\"#glyph1-9\" x=\"154\" y=\"64.699219\"/>\n",
       "  <use xlink:href=\"#glyph1-10\" x=\"157.75\" y=\"64.699219\"/>\n",
       "  <use xlink:href=\"#glyph1-11\" x=\"163.75\" y=\"64.699219\"/>\n",
       "</g>\n",
       "<path style=\"fill:none;stroke-width:1;stroke-linecap:butt;stroke-linejoin:miter;stroke:rgb(74.901961%,74.901961%,74.901961%);stroke-opacity:1;stroke-miterlimit:10;\" d=\"M 7.269531 -106.605469 C 17.714844 -103.234375 55.34375 -91.082031 79.484375 -83.285156 \" transform=\"matrix(1,0,0,1,4,115)\"/>\n",
       "<path style=\"fill-rule:nonzero;fill:rgb(74.901961%,74.901961%,74.901961%);fill-opacity:1;stroke-width:1;stroke-linecap:butt;stroke-linejoin:miter;stroke:rgb(74.901961%,74.901961%,74.901961%);stroke-opacity:1;stroke-miterlimit:10;\" d=\"M 80.742188 -86.558594 L 89.183594 -80.152344 L 78.59375 -79.894531 Z M 80.742188 -86.558594 \" transform=\"matrix(1,0,0,1,4,115)\"/>\n",
       "<g style=\"fill:rgb(0%,0%,0%);fill-opacity:1;\">\n",
       "  <use xlink:href=\"#glyph1-12\" x=\"29\" y=\"11.699219\"/>\n",
       "  <use xlink:href=\"#glyph1-2\" x=\"35\" y=\"11.699219\"/>\n",
       "  <use xlink:href=\"#glyph1-13\" x=\"40.25\" y=\"11.699219\"/>\n",
       "  <use xlink:href=\"#glyph1-2\" x=\"44\" y=\"11.699219\"/>\n",
       "  <use xlink:href=\"#glyph1-6\" x=\"49.25\" y=\"11.699219\"/>\n",
       "  <use xlink:href=\"#glyph1-7\" x=\"52.25\" y=\"11.699219\"/>\n",
       "  <use xlink:href=\"#glyph1-8\" x=\"58.25\" y=\"11.699219\"/>\n",
       "  <use xlink:href=\"#glyph1-9\" x=\"61.25\" y=\"11.699219\"/>\n",
       "  <use xlink:href=\"#glyph1-14\" x=\"65\" y=\"11.699219\"/>\n",
       "  <use xlink:href=\"#glyph1-11\" x=\"71\" y=\"11.699219\"/>\n",
       "</g>\n",
       "<path style=\"fill:none;stroke-width:1;stroke-linecap:butt;stroke-linejoin:miter;stroke:rgb(74.901961%,74.901961%,74.901961%);stroke-opacity:1;stroke-miterlimit:10;\" d=\"M 7.269531 -74.558594 C 17.613281 -74.773438 54.625 -75.542969 78.789062 -76.046875 \" transform=\"matrix(1,0,0,1,4,115)\"/>\n",
       "<path style=\"fill-rule:nonzero;fill:rgb(74.901961%,74.901961%,74.901961%);fill-opacity:1;stroke-width:1;stroke-linecap:butt;stroke-linejoin:miter;stroke:rgb(74.901961%,74.901961%,74.901961%);stroke-opacity:1;stroke-miterlimit:10;\" d=\"M 78.773438 -79.546875 L 88.84375 -76.257812 L 78.917969 -72.550781 Z M 78.773438 -79.546875 \" transform=\"matrix(1,0,0,1,4,115)\"/>\n",
       "<g style=\"fill:rgb(0%,0%,0%);fill-opacity:1;\">\n",
       "  <use xlink:href=\"#glyph1-12\" x=\"29\" y=\"36.699219\"/>\n",
       "  <use xlink:href=\"#glyph1-2\" x=\"35\" y=\"36.699219\"/>\n",
       "  <use xlink:href=\"#glyph1-13\" x=\"40.25\" y=\"36.699219\"/>\n",
       "  <use xlink:href=\"#glyph1-2\" x=\"44\" y=\"36.699219\"/>\n",
       "  <use xlink:href=\"#glyph1-6\" x=\"49.25\" y=\"36.699219\"/>\n",
       "  <use xlink:href=\"#glyph1-5\" x=\"52.25\" y=\"36.699219\"/>\n",
       "  <use xlink:href=\"#glyph1-8\" x=\"58.25\" y=\"36.699219\"/>\n",
       "  <use xlink:href=\"#glyph1-9\" x=\"61.25\" y=\"36.699219\"/>\n",
       "  <use xlink:href=\"#glyph1-14\" x=\"65\" y=\"36.699219\"/>\n",
       "  <use xlink:href=\"#glyph1-11\" x=\"71\" y=\"36.699219\"/>\n",
       "</g>\n",
       "<path style=\"fill:none;stroke-width:1;stroke-linecap:butt;stroke-linejoin:miter;stroke:rgb(74.901961%,74.901961%,74.901961%);stroke-opacity:1;stroke-miterlimit:10;\" d=\"M 7.269531 -36.414062 C 17.613281 -36.089844 54.625 -34.933594 78.789062 -34.179688 \" transform=\"matrix(1,0,0,1,4,115)\"/>\n",
       "<path style=\"fill-rule:nonzero;fill:rgb(74.901961%,74.901961%,74.901961%);fill-opacity:1;stroke-width:1;stroke-linecap:butt;stroke-linejoin:miter;stroke:rgb(74.901961%,74.901961%,74.901961%);stroke-opacity:1;stroke-miterlimit:10;\" d=\"M 78.957031 -37.675781 L 88.84375 -33.863281 L 78.738281 -30.679688 Z M 78.957031 -37.675781 \" transform=\"matrix(1,0,0,1,4,115)\"/>\n",
       "<g style=\"fill:rgb(0%,0%,0%);fill-opacity:1;\">\n",
       "  <use xlink:href=\"#glyph1-12\" x=\"29\" y=\"76.699219\"/>\n",
       "  <use xlink:href=\"#glyph1-2\" x=\"35\" y=\"76.699219\"/>\n",
       "  <use xlink:href=\"#glyph1-13\" x=\"40.25\" y=\"76.699219\"/>\n",
       "  <use xlink:href=\"#glyph1-2\" x=\"44\" y=\"76.699219\"/>\n",
       "  <use xlink:href=\"#glyph1-6\" x=\"49.25\" y=\"76.699219\"/>\n",
       "  <use xlink:href=\"#glyph1-14\" x=\"52.25\" y=\"76.699219\"/>\n",
       "  <use xlink:href=\"#glyph1-8\" x=\"58.25\" y=\"76.699219\"/>\n",
       "  <use xlink:href=\"#glyph1-9\" x=\"61.25\" y=\"76.699219\"/>\n",
       "  <use xlink:href=\"#glyph1-14\" x=\"65\" y=\"76.699219\"/>\n",
       "  <use xlink:href=\"#glyph1-11\" x=\"71\" y=\"76.699219\"/>\n",
       "</g>\n",
       "<path style=\"fill:none;stroke-width:1;stroke-linecap:butt;stroke-linejoin:miter;stroke:rgb(74.901961%,74.901961%,74.901961%);stroke-opacity:1;stroke-miterlimit:10;\" d=\"M 7.269531 -4.367188 C 17.714844 -7.628906 55.34375 -19.390625 79.484375 -26.933594 \" transform=\"matrix(1,0,0,1,4,115)\"/>\n",
       "<path style=\"fill-rule:nonzero;fill:rgb(74.901961%,74.901961%,74.901961%);fill-opacity:1;stroke-width:1;stroke-linecap:butt;stroke-linejoin:miter;stroke:rgb(74.901961%,74.901961%,74.901961%);stroke-opacity:1;stroke-miterlimit:10;\" d=\"M 78.597656 -30.320312 L 89.183594 -29.964844 L 80.683594 -23.640625 Z M 78.597656 -30.320312 \" transform=\"matrix(1,0,0,1,4,115)\"/>\n",
       "<g style=\"fill:rgb(0%,0%,0%);fill-opacity:1;\">\n",
       "  <use xlink:href=\"#glyph1-12\" x=\"29\" y=\"92.699219\"/>\n",
       "  <use xlink:href=\"#glyph1-2\" x=\"35\" y=\"92.699219\"/>\n",
       "  <use xlink:href=\"#glyph1-13\" x=\"40.25\" y=\"92.699219\"/>\n",
       "  <use xlink:href=\"#glyph1-2\" x=\"44\" y=\"92.699219\"/>\n",
       "  <use xlink:href=\"#glyph1-6\" x=\"49.25\" y=\"92.699219\"/>\n",
       "  <use xlink:href=\"#glyph1-15\" x=\"52.25\" y=\"92.699219\"/>\n",
       "  <use xlink:href=\"#glyph1-8\" x=\"58.25\" y=\"92.699219\"/>\n",
       "  <use xlink:href=\"#glyph1-9\" x=\"61.25\" y=\"92.699219\"/>\n",
       "  <use xlink:href=\"#glyph1-14\" x=\"65\" y=\"92.699219\"/>\n",
       "  <use xlink:href=\"#glyph1-11\" x=\"71\" y=\"92.699219\"/>\n",
       "</g>\n",
       "</g>\n",
       "</svg>\n"
      ],
      "text/plain": [
       "<graphviz.graphs.Digraph at 0x7f2629842b60>"
      ]
     },
     "execution_count": 3,
     "metadata": {},
     "output_type": "execute_result"
    }
   ],
   "source": [
    "DEVICE = 'cuda'\n",
    "DTYPE = torch.double\n",
    "N_FEAT = 4\n",
    "ttn = TTN(N_FEAT, bond_dim=8, n_labels=2, device=DEVICE, dtype=DTYPE)\n",
    "ttn.draw()"
   ]
  },
  {
   "cell_type": "markdown",
   "metadata": {},
   "source": [
    "### Basic operations\n",
    "General purpose contraction, not optimized"
   ]
  },
  {
   "cell_type": "code",
   "execution_count": 9,
   "metadata": {},
   "outputs": [],
   "source": [
    "def contract(\n",
    "        tensors : Sequence[torch.Tensor] | ValuesView[torch.Tensor], \n",
    "        tindices: Sequence[TTNIndex | TIndex], \n",
    "        keep    : Sequence[str] | None=None, \n",
    "        outname : str | None=None\n",
    "):\n",
    "    \"\"\"\n",
    "    Contract two tensors along the matching TIndices in indices, except for the indices in keep.\n",
    "    \"\"\"\n",
    "    if len(tindices) != len(tensors):\n",
    "        raise ValueError(f\"Expected tensors and tindices to have same lenght, got {len(tensors)} and {len(tindices)}\")\n",
    "\n",
    "    if keep is None:\n",
    "        keep = []\n",
    "    elif isinstance(keep, str):\n",
    "        keep = [keep]\n",
    "    elif not isinstance(keep, Sequence):\n",
    "        raise TypeError(f\"Expected keep to be None, str or Sequence, got {type(keep)}\")\n",
    "\n",
    "    keep = list(keep)\n",
    "    unique_inds, counts = np.unique(np.concatenate([tindex.indices for tindex in tindices]), return_counts=True)\n",
    "    if np.any(np.isin(keep, unique_inds, invert=True)):\n",
    "        raise ValueError(f\"keep contains indices that are not in tindices: {np.asarray(keep)[np.where(np.isin(keep, unique_inds, invert=True))[0]]}\")\n",
    "    if len(unique_inds) > len(ascii_letters):\n",
    "        raise ValueError(f\"Too many indices to contract: {len(unique_inds)} > {len(ascii_letters)}\")\n",
    "\n",
    "    # find output indices (all indices that are not contracted or kept)\n",
    "    output_inds = unique_inds[np.isin(unique_inds, keep) | (counts == 1)]\n",
    "    \n",
    "    # map indices to letters\n",
    "    idx_to_char_map = {tind: ascii_letters[i] for i, tind in enumerate(unique_inds)}\n",
    "    \n",
    "    # contraction strings\n",
    "    ## tensor indices\n",
    "    tindices_str = [\"...\"+\"\".join([idx_to_char_map[i] for i in tindex.indices]) for tindex in tindices] # the ellipsis is for batch dimension\n",
    "    ## output indices\n",
    "    outinds_str = \"...\"+\"\".join([idx_to_char_map[i] for i in output_inds])\n",
    "\n",
    "    #print(tindices_str,'\\n' ,outinds_str)\n",
    "    # contract\n",
    "    C = torch.einsum(f\"{','.join(tindices_str)}->{outinds_str}\", *tensors)\n",
    "\n",
    "    return C, TIndex(f\"{min(tindices)}\" if outname is None else outname, output_inds)\n",
    "\n",
    "    "
   ]
  },
  {
   "cell_type": "markdown",
   "metadata": {},
   "source": [
    "Let's exploit the TTN topology to optimize contractions, i.e. make them go from bottom to top"
   ]
  },
  {
   "cell_type": "code",
   "execution_count": 10,
   "metadata": {},
   "outputs": [],
   "source": [
    "def contract_up_einsum(tensor: torch.Tensor, data_tensors: Sequence[torch.Tensor]):\n",
    "    # this function is the fundamental block for TTN contractions:\n",
    "    # it takes a ttn tensor and two data vectors and contracts them to a new vector\n",
    "\n",
    "    return torch.einsum('bi,ijk,bj->bk', data_tensors[0], tensor, data_tensors[1])"
   ]
  },
  {
   "cell_type": "markdown",
   "metadata": {},
   "source": [
    "### Tests"
   ]
  },
  {
   "cell_type": "code",
   "execution_count": 11,
   "metadata": {},
   "outputs": [
    {
     "data": {
      "text/plain": [
       "(0.42125636897981167, 4.402739965997171, 2.430211186001543)"
      ]
     },
     "execution_count": 11,
     "metadata": {},
     "output_type": "execute_result"
    }
   ],
   "source": [
    "data = torch.rand(N_FEAT, 10, 2, dtype=DTYPE, device=DEVICE).unbind(0)\n",
    "data_indices = [TIndex(f\"{ttn.n_layers}.{i}\", [f\"data.{i}\"]) for i in range(N_FEAT)]\n",
    "\n",
    "time1 = timeit(lambda: contract_up(ttn.tensors[-1], data[:2]), number=10000)\n",
    "time2 = timeit(lambda: contract((ttn.tensors[-1],) + data[:2], [ttn.indices[-1]]+data_indices[:2]), number=10000)\n",
    "time3 = timeit(lambda: contract_up_einsum(ttn.tensors[-1], data[:2]), number=10000)\n",
    "time1, time2, time3"
   ]
  },
  {
   "cell_type": "code",
   "execution_count": 12,
   "metadata": {},
   "outputs": [
    {
     "name": "stdout",
     "output_type": "stream",
     "text": [
      "0.01044276900938712 0.006214366003405303 0.014277718000812456\n"
     ]
    }
   ],
   "source": [
    "data = torch.rand(N_FEAT, 64, 2, dtype=DTYPE, device=DEVICE).unbind(0)\n",
    "data_indices = [TIndex(f\"data.{i}\", [f\"data.{i}\"]) for i in range(N_FEAT)]\n",
    "i=1\n",
    "time1 = timeit(lambda: ttn._propagate_data_through_branch_(dict(zip(data_indices, data)), ttn.get_branch('1.0')), number=100)\n",
    "time2 = timeit(lambda: ttn._propagate_data_through_branch_(dict(zip(data_indices, data)), ttn.get_branch('1.0'), keep=True), number=100)\n",
    "time3 = timeit(lambda: contract(list(ttn.get_branch(f'1.{i}').values()) + list(data[16*i:16*(i+1)]), list(ttn.get_branch(f'1.{i}').keys())+data_indices[16*i:16*(i+1)]), number=100)\n",
    "print(time1, time2, time3)"
   ]
  },
  {
   "cell_type": "markdown",
   "metadata": {},
   "source": [
    "TEST the contraction scheme by a synthetic dataset and the TTN initialized to identities"
   ]
  },
  {
   "cell_type": "code",
   "execution_count": 13,
   "metadata": {},
   "outputs": [
    {
     "name": "stderr",
     "output_type": "stream",
     "text": [
      "ttn test: 100%|██████████| 3/3 [00:00<00:00, 29.90it/s, contracted 0.0] \n"
     ]
    },
    {
     "data": {
      "text/plain": [
       "tensor([1., 0.], dtype=torch.float64)"
      ]
     },
     "execution_count": 13,
     "metadata": {},
     "output_type": "execute_result"
    }
   ],
   "source": [
    "def generate_i_state(n_sites, i, dtype=torch.double):\n",
    "    \"\"\"\n",
    "    Generates a separable state wich would be represented \n",
    "    as a vector with 1 at i-th position in the full form.\n",
    "    \"\"\"\n",
    "    sites = []\n",
    "    bin_str = f'{i:b}'\n",
    "    bin_str = '0'*(n_sites-len(bin_str)) + bin_str\n",
    "    for char in bin_str:\n",
    "        if char == '0':\n",
    "            sites.append(torch.as_tensor([1.0, 0.0], dtype=dtype))\n",
    "        else:\n",
    "            sites.append(torch.as_tensor([0.0, 1.0], dtype=dtype))\n",
    " \n",
    "    state = torch.stack(sites)\n",
    "\n",
    "    return state\n",
    "\n",
    "\n",
    "# create general purpose identity tensor\n",
    "# this is a 3d tensor with 1 on the diagonal\n",
    "ID = torch.zeros([4, 4, 4], dtype=DTYPE)\n",
    "for i in range(ID.shape[0]):\n",
    "    ID[i, i, i] = 1.0\n",
    "# create data\n",
    "# you can choose from different states\n",
    "I = 0 # position of 1 in the resulting state (starting from 0)\n",
    "test_states = {'up': [1, 0], 'down': [0, 1], 'plus': [1/(2**0.5), 1/(2**0.5)], 'minus': [1/(2**0.5), -1/(2**0.5)], 'i': generate_i_state(N_FEAT, I)}\n",
    "data = torch.expand_copy(torch.as_tensor(test_states['i'], dtype=DTYPE), [64, N_FEAT, 2])\n",
    "\n",
    "# transform to data dictionary to pass to _propagate_data_through_branch_\n",
    "data_dict = {TIndex(f\"data.{i}\", [f\"data.{i}\"]): datum for i, datum in enumerate(data.unbind(1))}\n",
    "# set TTN tensors to identity\n",
    "ttn.tensors = [torch.eye(tensor.shape[0]**2, dtype=DTYPE).reshape(*tensor.shape[:2], -1)[:,:,:tensor.shape[-1]] for tensor in ttn.tensors] #[ID[:tensor.shape[0], :tensor.shape[1], :tensor.shape[2]] for tensor in ttn.tensors]\n",
    "# contract\n",
    "pbar = tqdm(total=len(ttn.tensors), desc='ttn test', position=0)\n",
    "result = ttn._propagate_data_through_branch_(data_dict, ttn.get_branch('0.0'), keep=True, pbar=pbar)['0.0']\n",
    "pbar.close()\n",
    "result[0]"
   ]
  },
  {
   "cell_type": "code",
   "execution_count": 12,
   "metadata": {},
   "outputs": [],
   "source": [
    "imsize = '16x16'\n",
    "\n",
    "train = np.load('../data/stripeimages/' + imsize + 'train.npy')\n",
    "test = np.load('../data/stripeimages/' + imsize + 'test.npy')\n",
    "\n",
    "train_linear = linearize(torch.tensor(train)).to(dtype=torch.float32)\n",
    "test_linear = linearize(torch.tensor(test)).to(dtype=torch.float32)\n",
    "\n",
    "np.save('../data/stripeimages/' + imsize + 'train_linear.npy', train_linear)\n",
    "np.save('../data/stripeimages/' + imsize + 'test_linear.npy', test_linear)"
   ]
  },
  {
   "cell_type": "code",
   "execution_count": 15,
   "metadata": {},
   "outputs": [
    {
     "data": {
      "text/plain": [
       "<matplotlib.image.AxesImage at 0x7fd5bc7d0bb0>"
      ]
     },
     "execution_count": 15,
     "metadata": {},
     "output_type": "execute_result"
    },
    {
     "data": {
      "image/png": "[encoded data removed]",
      "text/plain": [
       "<Figure size 640x480 with 1 Axes>"
      ]
     },
     "metadata": {},
     "output_type": "display_data"
    }
   ],
   "source": [
    "plt.imshow(train[0], cmap='gray')"
   ]
  },
  {
   "cell_type": "markdown",
   "metadata": {},
   "source": [
    "## Torch Model"
   ]
  },
  {
   "cell_type": "markdown",
   "metadata": {},
   "source": [
    "### Test the model"
   ]
  },
  {
   "cell_type": "code",
   "execution_count": 10,
   "metadata": {},
   "outputs": [],
   "source": [
    "h = 2\n",
    "features = h**2\n",
    "BATCH_SIZE = 64\n",
    "DATASET = 'iris'\n",
    "MAPPING = 'spin'\n",
    "MAP_DIM = 2\n",
    "\n",
    "if DATASET == 'mnist':\n",
    "    train_dl, test_dl, train_visual = get_mnist_data_loaders(h, batch_size=BATCH_SIZE, mapping=MAPPING, dim=MAP_DIM)\n",
    "elif DATASET == 'stripe':\n",
    "    train_dl, test_dl, features = get_stripeimage_data_loaders(4, h, batch_size=BATCH_SIZE, mapping=MAPPING, dim=MAP_DIM)\n",
    "elif DATASET == 'iris':\n",
    "    # worst performance with iris-versicolor and iris-virginica\n",
    "    train_dl, test_dl, features = get_iris_data_loaders(batch_size=BATCH_SIZE, sel_labels=['Iris-virginica', 'Iris-versicolor', 'Iris-setosa'], mapping=MAPPING, dim=MAP_DIM)\n",
    "elif DATASET == 'higgs':\n",
    "    train_dl, test_dl, features = get_higgs_data_loaders(batch_size=BATCH_SIZE, mapping=MAPPING, dim=MAP_DIM)\n",
    "elif DATASET == 'titanic':\n",
    "    train_dl, test_dl, features = get_titanic_data_loaders(batch_size=BATCH_SIZE, scale=(0, 1), mapping=MAPPING, dim=MAP_DIM)   # scales different from (0, 1) are reasonable only in the poly mapping"
   ]
  },
  {
   "cell_type": "code",
   "execution_count": 11,
   "metadata": {},
   "outputs": [
    {
     "data": {
      "text/plain": [
       "(120, 30, 4)"
      ]
     },
     "execution_count": 11,
     "metadata": {},
     "output_type": "execute_result"
    }
   ],
   "source": [
    "len(train_dl.dataset), len(test_dl.dataset), features"
   ]
  },
  {
   "cell_type": "code",
   "execution_count": 12,
   "metadata": {},
   "outputs": [
    {
     "data": {
      "image/svg+xml": [
       "<?xml version=\"1.0\" encoding=\"UTF-8\"?>\n",
       "<svg xmlns=\"http://www.w3.org/2000/svg\" xmlns:xlink=\"http://www.w3.org/1999/xlink\" width=\"299pt\" height=\"119pt\" viewBox=\"0 0 299 119\" version=\"1.1\">\n",
       "<defs>\n",
       "<g>\n",
       "<symbol overflow=\"visible\" id=\"glyph0-0\">\n",
       "<path style=\"stroke:none;\" d=\"M 0.546875 2 L 0.546875 -8 L 6.046875 -8 L 6.046875 2 Z M 1.171875 1 L 5.4375 1 L 5.4375 -7 L 1.171875 -7 Z M 1.171875 1 \"/>\n",
       "</symbol>\n",
       "<symbol overflow=\"visible\" id=\"glyph0-1\">\n",
       "<path style=\"stroke:none;\" d=\"M 3.5 -1 C 4.050781 -1 4.460938 -1.25 4.734375 -1.75 C 5.003906 -2.25 5.140625 -3 5.140625 -4 C 5.140625 -5.007812 5.003906 -5.757812 4.734375 -6.25 C 4.460938 -6.75 4.050781 -7 3.5 -7 C 2.945312 -7 2.535156 -6.75 2.265625 -6.25 C 1.992188 -5.757812 1.859375 -5.007812 1.859375 -4 C 1.859375 -3 1.992188 -2.25 2.265625 -1.75 C 2.535156 -1.25 2.945312 -1 3.5 -1 Z M 3.5 0 C 2.625 0 1.941406 -0.347656 1.453125 -1.046875 C 0.960938 -1.753906 0.71875 -2.738281 0.71875 -4 C 0.71875 -5.257812 0.960938 -6.238281 1.453125 -6.9375 C 1.941406 -7.644531 2.625 -8 3.5 -8 C 4.363281 -8 5.039062 -7.644531 5.53125 -6.9375 C 6.019531 -6.238281 6.265625 -5.257812 6.265625 -4 C 6.265625 -2.738281 6.019531 -1.753906 5.53125 -1.046875 C 5.039062 -0.347656 4.363281 0 3.5 0 Z M 3.5 0 \"/>\n",
       "</symbol>\n",
       "<symbol overflow=\"visible\" id=\"glyph0-2\">\n",
       "<path style=\"stroke:none;\" d=\"M 1.03125 -0.5 C 1.03125 -0.832031 1.097656 -1 1.234375 -1 C 1.367188 -1 1.539062 -1 1.75 -1 C 1.945312 -1 2.113281 -1 2.25 -1 C 2.394531 -1 2.46875 -0.832031 2.46875 -0.5 C 2.46875 -0.164062 2.394531 0 2.25 0 C 2.113281 0 1.945312 0 1.75 0 C 1.539062 0 1.367188 0 1.234375 0 C 1.097656 0 1.03125 -0.164062 1.03125 -0.5 Z M 1.03125 -0.5 \"/>\n",
       "</symbol>\n",
       "<symbol overflow=\"visible\" id=\"glyph0-3\">\n",
       "<path style=\"stroke:none;\" d=\"M 1.5625 0 L 1.5625 -1 L 2.953125 -1 L 2.953125 -7.265625 L 1.34375 -6.328125 L 1.34375 -7 L 3.296875 -8 L 4.046875 -8 L 4.046875 -1 L 5.4375 -1 L 5.4375 0 Z M 1.5625 0 \"/>\n",
       "</symbol>\n",
       "<symbol overflow=\"visible\" id=\"glyph1-0\">\n",
       "<path style=\"stroke:none;\" d=\"M 0.453125 2 L 0.453125 -6 L 4.953125 -6 L 4.953125 2 Z M 0.953125 1 L 4.453125 1 L 4.453125 -5 L 0.953125 -5 Z M 0.953125 1 \"/>\n",
       "</symbol>\n",
       "<symbol overflow=\"visible\" id=\"glyph1-1\">\n",
       "<path style=\"stroke:none;\" d=\"M 1.84375 -1 L 2.609375 -1 L 2.609375 0 L 0.265625 0 L 0.265625 -1 L 1.03125 -1 L 1.03125 -7 L 0.265625 -7 L 0.265625 -8 L 1.84375 -8 Z M 1.84375 -1 \"/>\n",
       "</symbol>\n",
       "<symbol overflow=\"visible\" id=\"glyph1-2\">\n",
       "<path style=\"stroke:none;\" d=\"M 3.578125 -1.5 L 3.578125 -2 L 2.546875 -2 C 2.140625 -2 1.835938 -1.957031 1.640625 -1.875 C 1.441406 -1.789062 1.34375 -1.664062 1.34375 -1.5 C 1.34375 -1.34375 1.441406 -1.21875 1.640625 -1.125 C 1.835938 -1.039062 2.109375 -1 2.453125 -1 C 2.785156 -1 3.054688 -1.046875 3.265625 -1.140625 C 3.472656 -1.234375 3.578125 -1.351562 3.578125 -1.5 Z M 4.390625 -2.984375 L 4.390625 -1 L 5.109375 -1 L 5.109375 0 L 3.578125 0 L 3.578125 -1.015625 C 3.398438 -0.671875 3.191406 -0.414062 2.953125 -0.25 C 2.722656 -0.0820312 2.453125 0 2.140625 0 C 1.617188 0 1.207031 -0.132812 0.90625 -0.40625 C 0.601562 -0.675781 0.453125 -1.039062 0.453125 -1.5 C 0.453125 -1.976562 0.625 -2.347656 0.96875 -2.609375 C 1.320312 -2.867188 1.816406 -3 2.453125 -3 L 3.578125 -3 L 3.578125 -4.125 C 3.578125 -4.082031 3.46875 -4.050781 3.25 -4.03125 C 3.039062 -4.007812 2.738281 -4 2.34375 -4 C 2.019531 -4 1.765625 -4.082031 1.578125 -4.25 C 1.390625 -4.414062 1.269531 -4.664062 1.21875 -5 L 0.8125 -5 C 1.09375 -5 1.363281 -5 1.625 -5 C 1.894531 -5 2.15625 -5 2.40625 -5 C 3.050781 -5 3.539062 -4.828125 3.875 -4.484375 C 4.21875 -4.140625 4.390625 -3.640625 4.390625 -2.984375 Z M 4.390625 -2.984375 \"/>\n",
       "</symbol>\n",
       "<symbol overflow=\"visible\" id=\"glyph1-3\">\n",
       "<path style=\"stroke:none;\" d=\"M 1.03125 -1 L 1.03125 -7 L 0.265625 -7 L 0.265625 -8 L 1.84375 -8 L 1.84375 -3.71875 C 2 -4.15625 2.195312 -4.476562 2.4375 -4.6875 C 2.6875 -4.894531 2.992188 -5 3.359375 -5 C 3.929688 -5 4.398438 -4.769531 4.765625 -4.3125 C 5.128906 -3.851562 5.3125 -3.25 5.3125 -2.5 C 5.3125 -1.757812 5.128906 -1.15625 4.765625 -0.6875 C 4.398438 -0.226562 3.929688 0 3.359375 0 C 2.992188 0 2.6875 -0.0976562 2.4375 -0.296875 C 2.195312 -0.492188 2 -0.796875 1.84375 -1.203125 L 1.84375 0 L 0.265625 0 L 0.265625 -1 Z M 1.84375 -2.28125 C 1.84375 -1.863281 1.945312 -1.546875 2.15625 -1.328125 C 2.375 -1.109375 2.691406 -1 3.109375 -1 C 3.515625 -1 3.820312 -1.125 4.03125 -1.375 C 4.25 -1.632812 4.359375 -2.007812 4.359375 -2.5 C 4.359375 -3 4.25 -3.375 4.03125 -3.625 C 3.820312 -3.875 3.515625 -4 3.109375 -4 C 2.691406 -4 2.375 -3.878906 2.15625 -3.640625 C 1.945312 -3.410156 1.84375 -3.078125 1.84375 -2.640625 Z M 1.84375 -2.28125 \"/>\n",
       "</symbol>\n",
       "<symbol overflow=\"visible\" id=\"glyph1-4\">\n",
       "<path style=\"stroke:none;\" d=\"M 4.875 -2 L 1.390625 -2 L 1.390625 -1.953125 C 1.390625 -1.640625 1.507812 -1.398438 1.75 -1.234375 C 1.988281 -1.078125 2.335938 -1 2.796875 -1 C 3.148438 -1 3.441406 -1 3.671875 -1 C 3.898438 -1 4.0625 -1 4.15625 -1 L 4.796875 -1 C 4.671875 -0.664062 4.429688 -0.414062 4.078125 -0.25 C 3.734375 -0.0820312 3.28125 0 2.71875 0 C 2.03125 0 1.476562 -0.226562 1.0625 -0.6875 C 0.65625 -1.144531 0.453125 -1.75 0.453125 -2.5 C 0.453125 -3.25 0.65625 -3.851562 1.0625 -4.3125 C 1.46875 -4.769531 2 -5 2.65625 -5 C 3.363281 -5 3.90625 -4.742188 4.28125 -4.234375 C 4.664062 -3.722656 4.863281 -2.976562 4.875 -2 Z M 3.921875 -3 C 3.898438 -3.332031 3.785156 -3.582031 3.578125 -3.75 C 3.367188 -3.914062 3.0625 -4 2.65625 -4 C 2.289062 -4 2 -3.914062 1.78125 -3.75 C 1.570312 -3.582031 1.441406 -3.332031 1.390625 -3 Z M 3.921875 -3 \"/>\n",
       "</symbol>\n",
       "<symbol overflow=\"visible\" id=\"glyph1-5\">\n",
       "<path style=\"stroke:none;\" d=\"M 1.28125 0 L 1.28125 -1 L 2.421875 -1 L 2.421875 -6.265625 L 1.09375 -5.4375 L 1.09375 -6 L 2.703125 -7 L 3.3125 -7 L 3.3125 -1 L 4.453125 -1 L 4.453125 0 Z M 1.28125 0 \"/>\n",
       "</symbol>\n",
       "<symbol overflow=\"visible\" id=\"glyph1-6\">\n",
       "<path style=\"stroke:none;\" d=\"M 0.84375 -0.5 C 0.84375 -0.832031 0.898438 -1 1.015625 -1 C 1.128906 -1 1.269531 -1 1.4375 -1 C 1.59375 -1 1.726562 -1 1.84375 -1 C 1.957031 -1 2.015625 -0.832031 2.015625 -0.5 C 2.015625 -0.164062 1.957031 0 1.84375 0 C 1.726562 0 1.59375 0 1.4375 0 C 1.269531 0 1.128906 0 1.015625 0 C 0.898438 0 0.84375 -0.164062 0.84375 -0.5 Z M 0.84375 -0.5 \"/>\n",
       "</symbol>\n",
       "<symbol overflow=\"visible\" id=\"glyph1-7\">\n",
       "<path style=\"stroke:none;\" d=\"M 2.859375 -1 C 3.304688 -1 3.640625 -1.207031 3.859375 -1.625 C 4.085938 -2.039062 4.203125 -2.664062 4.203125 -3.5 C 4.203125 -4.332031 4.085938 -4.957031 3.859375 -5.375 C 3.640625 -5.789062 3.304688 -6 2.859375 -6 C 2.410156 -6 2.070312 -5.789062 1.84375 -5.375 C 1.625 -4.957031 1.515625 -4.332031 1.515625 -3.5 C 1.515625 -2.664062 1.625 -2.039062 1.84375 -1.625 C 2.070312 -1.207031 2.410156 -1 2.859375 -1 Z M 2.859375 0 C 2.148438 0 1.59375 -0.304688 1.1875 -0.921875 C 0.789062 -1.535156 0.59375 -2.394531 0.59375 -3.5 C 0.59375 -4.601562 0.789062 -5.460938 1.1875 -6.078125 C 1.59375 -6.691406 2.148438 -7 2.859375 -7 C 3.578125 -7 4.132812 -6.691406 4.53125 -6.078125 C 4.925781 -5.460938 5.125 -4.601562 5.125 -3.5 C 5.125 -2.394531 4.925781 -1.535156 4.53125 -0.921875 C 4.132812 -0.304688 3.578125 0 2.859375 0 Z M 2.859375 0 \"/>\n",
       "</symbol>\n",
       "<symbol overflow=\"visible\" id=\"glyph1-8\">\n",
       "<path style=\"stroke:none;\" d=\"\"/>\n",
       "</symbol>\n",
       "<symbol overflow=\"visible\" id=\"glyph1-9\">\n",
       "<path style=\"stroke:none;\" d=\"M 0.78125 -8 L 2.8125 -8 L 2.8125 -7 L 1.609375 -7 L 1.609375 -1 L 2.8125 -1 L 2.8125 0 L 0.78125 0 Z M 0.78125 -8 \"/>\n",
       "</symbol>\n",
       "<symbol overflow=\"visible\" id=\"glyph1-10\">\n",
       "<path style=\"stroke:none;\" d=\"M 0.875 -6 C 1.21875 -6.320312 1.546875 -6.566406 1.859375 -6.734375 C 2.179688 -6.910156 2.476562 -7 2.75 -7 C 3.394531 -7 3.894531 -6.84375 4.25 -6.53125 C 4.613281 -6.226562 4.796875 -5.804688 4.796875 -5.265625 C 4.796875 -4.816406 4.671875 -4.445312 4.421875 -4.15625 C 4.171875 -3.863281 3.816406 -3.664062 3.359375 -3.5625 C 3.898438 -3.488281 4.316406 -3.300781 4.609375 -3 C 4.910156 -2.695312 5.0625 -2.304688 5.0625 -1.828125 C 5.0625 -1.234375 4.851562 -0.78125 4.4375 -0.46875 C 4.03125 -0.15625 3.441406 0 2.671875 0 C 2.328125 0 1.988281 -0.0820312 1.65625 -0.25 C 1.332031 -0.414062 1.007812 -0.664062 0.6875 -1 L 0.6875 -2 L 1.171875 -2 C 1.203125 -1.664062 1.34375 -1.414062 1.59375 -1.25 C 1.851562 -1.082031 2.210938 -1 2.671875 -1 C 3.117188 -1 3.472656 -1.082031 3.734375 -1.25 C 3.992188 -1.425781 4.125 -1.664062 4.125 -1.96875 C 4.125 -2.300781 3.988281 -2.554688 3.71875 -2.734375 C 3.457031 -2.910156 3.070312 -3 2.5625 -3 L 2.140625 -3 L 2.140625 -4 L 2.359375 -4 C 2.867188 -4 3.25 -4.082031 3.5 -4.25 C 3.757812 -4.425781 3.890625 -4.6875 3.890625 -5.03125 C 3.890625 -5.34375 3.785156 -5.582031 3.578125 -5.75 C 3.367188 -5.914062 3.066406 -6 2.671875 -6 C 2.273438 -6 1.96875 -5.914062 1.75 -5.75 C 1.53125 -5.582031 1.398438 -5.332031 1.359375 -5 L 0.875 -5 Z M 0.875 -6 \"/>\n",
       "</symbol>\n",
       "<symbol overflow=\"visible\" id=\"glyph1-11\">\n",
       "<path style=\"stroke:none;\" d=\"M 2.734375 -8 L 2.734375 0 L 0.6875 0 L 0.6875 -1 L 1.90625 -1 L 1.90625 -7 L 0.6875 -7 L 0.6875 -8 Z M 2.734375 -8 \"/>\n",
       "</symbol>\n",
       "<symbol overflow=\"visible\" id=\"glyph1-12\">\n",
       "<path style=\"stroke:none;\" d=\"M 4.71875 -1 L 5.5 -1 L 5.5 0 L 3.921875 0 L 3.921875 -1.203125 C 3.765625 -0.796875 3.5625 -0.492188 3.3125 -0.296875 C 3.070312 -0.0976562 2.769531 0 2.40625 0 C 1.832031 0 1.363281 -0.226562 1 -0.6875 C 0.632812 -1.15625 0.453125 -1.757812 0.453125 -2.5 C 0.453125 -3.25 0.632812 -3.851562 1 -4.3125 C 1.363281 -4.769531 1.832031 -5 2.40625 -5 C 2.769531 -5 3.070312 -4.894531 3.3125 -4.6875 C 3.5625 -4.476562 3.765625 -4.15625 3.921875 -3.71875 L 3.921875 -7 L 3.15625 -7 L 3.15625 -8 L 4.71875 -8 Z M 3.921875 -2.28125 L 3.921875 -2.640625 C 3.921875 -3.078125 3.8125 -3.410156 3.59375 -3.640625 C 3.382812 -3.878906 3.070312 -4 2.65625 -4 C 2.238281 -4 1.921875 -3.875 1.703125 -3.625 C 1.492188 -3.375 1.390625 -3 1.390625 -2.5 C 1.390625 -2.007812 1.492188 -1.632812 1.703125 -1.375 C 1.921875 -1.125 2.238281 -1 2.65625 -1 C 3.070312 -1 3.382812 -1.109375 3.59375 -1.328125 C 3.8125 -1.546875 3.921875 -1.863281 3.921875 -2.28125 Z M 3.921875 -2.28125 \"/>\n",
       "</symbol>\n",
       "<symbol overflow=\"visible\" id=\"glyph1-13\">\n",
       "<path style=\"stroke:none;\" d=\"M 0.96875 -4 L 0.265625 -4 L 0.265625 -5 L 0.96875 -5 L 0.96875 -6 L 1.78125 -6 L 1.78125 -5 L 3.3125 -5 L 3.3125 -4 L 1.78125 -4 L 1.78125 -2.09375 C 1.78125 -1.625 1.816406 -1.320312 1.890625 -1.1875 C 1.972656 -1.0625 2.113281 -1 2.3125 -1 C 2.53125 -1 2.6875 -1.078125 2.78125 -1.234375 C 2.875 -1.390625 2.925781 -1.644531 2.9375 -2 L 3.546875 -2 C 3.523438 -1.300781 3.410156 -0.789062 3.203125 -0.46875 C 2.992188 -0.15625 2.675781 0 2.25 0 C 1.78125 0 1.445312 -0.15625 1.25 -0.46875 C 1.0625 -0.789062 0.96875 -1.332031 0.96875 -2.09375 Z M 0.96875 -4 \"/>\n",
       "</symbol>\n",
       "<symbol overflow=\"visible\" id=\"glyph1-14\">\n",
       "<path style=\"stroke:none;\" d=\"M 1.15625 -5 L 0.65625 -5 L 0.65625 -6 C 0.96875 -6.320312 1.28125 -6.566406 1.59375 -6.734375 C 1.914062 -6.910156 2.226562 -7 2.53125 -7 C 3.21875 -7 3.757812 -6.832031 4.15625 -6.5 C 4.550781 -6.175781 4.75 -5.734375 4.75 -5.171875 C 4.75 -4.535156 4.300781 -3.773438 3.40625 -2.890625 C 3.332031 -2.816406 3.28125 -2.765625 3.25 -2.734375 L 1.59375 -1 L 4.328125 -1 L 4.328125 -2 L 4.84375 -2 L 4.84375 0 L 0.609375 0 L 0.609375 -0.546875 L 2.609375 -2.8125 C 3.046875 -3.1875 3.359375 -3.523438 3.546875 -3.828125 C 3.734375 -4.140625 3.828125 -4.46875 3.828125 -4.8125 C 3.828125 -5.1875 3.710938 -5.476562 3.484375 -5.6875 C 3.253906 -5.894531 2.9375 -6 2.53125 -6 C 2.113281 -6 1.789062 -5.914062 1.5625 -5.75 C 1.332031 -5.582031 1.195312 -5.332031 1.15625 -5 Z M 1.15625 -5 \"/>\n",
       "</symbol>\n",
       "</g>\n",
       "</defs>\n",
       "<g id=\"surface1\">\n",
       "<path style=\"fill-rule:nonzero;fill:rgb(25.490196%,26.666667%,52.941176%);fill-opacity:1;stroke-width:4;stroke-linecap:butt;stroke-linejoin:miter;stroke:rgb(20.392157%,21.176471%,42.352941%);stroke-opacity:1;stroke-miterlimit:10;\" d=\"M 207 -55.5 C 207 -48.597656 201.402344 -43 194.5 -43 C 187.597656 -43 182 -48.597656 182 -55.5 C 182 -62.402344 187.597656 -68 194.5 -68 C 201.402344 -68 207 -62.402344 207 -55.5 \" transform=\"matrix(1,0,0,1,4,115)\"/>\n",
       "<g style=\"fill:rgb(0%,0%,0%);fill-opacity:1;\">\n",
       "  <use xlink:href=\"#glyph0-1\" x=\"189.5\" y=\"62.300781\"/>\n",
       "  <use xlink:href=\"#glyph0-2\" x=\"196.25\" y=\"62.300781\"/>\n",
       "  <use xlink:href=\"#glyph0-1\" x=\"200\" y=\"62.300781\"/>\n",
       "</g>\n",
       "<path style=\"fill:none;stroke-width:1;stroke-linecap:butt;stroke-linejoin:miter;stroke:rgb(74.901961%,74.901961%,74.901961%);stroke-opacity:1;stroke-miterlimit:10;\" d=\"M 207.25 -55.5 C 219.792969 -55.5 239.957031 -55.5 255.472656 -55.5 \" transform=\"matrix(1,0,0,1,4,115)\"/>\n",
       "<path style=\"fill-rule:nonzero;fill:rgb(74.901961%,74.901961%,74.901961%);fill-opacity:1;stroke-width:1;stroke-linecap:butt;stroke-linejoin:miter;stroke:rgb(74.901961%,74.901961%,74.901961%);stroke-opacity:1;stroke-miterlimit:10;\" d=\"M 255.773438 -59 L 265.773438 -55.5 L 255.773438 -52 Z M 255.773438 -59 \" transform=\"matrix(1,0,0,1,4,115)\"/>\n",
       "<g style=\"fill:rgb(0%,0%,0%);fill-opacity:1;\">\n",
       "  <use xlink:href=\"#glyph1-1\" x=\"229\" y=\"56.699219\"/>\n",
       "  <use xlink:href=\"#glyph1-2\" x=\"232\" y=\"56.699219\"/>\n",
       "  <use xlink:href=\"#glyph1-3\" x=\"237.25\" y=\"56.699219\"/>\n",
       "  <use xlink:href=\"#glyph1-4\" x=\"243.25\" y=\"56.699219\"/>\n",
       "  <use xlink:href=\"#glyph1-1\" x=\"248.5\" y=\"56.699219\"/>\n",
       "</g>\n",
       "<path style=\"fill-rule:nonzero;fill:rgb(99.215686%,90.588235%,14.509804%);fill-opacity:1;stroke-width:4;stroke-linecap:butt;stroke-linejoin:miter;stroke:rgb(90.196078%,81.176471%,0.784314%);stroke-opacity:1;stroke-miterlimit:10;\" d=\"M 114 -76.5 C 114 -69.597656 108.402344 -64 101.5 -64 C 94.597656 -64 89 -69.597656 89 -76.5 C 89 -83.402344 94.597656 -89 101.5 -89 C 108.402344 -89 114 -83.402344 114 -76.5 \" transform=\"matrix(1,0,0,1,4,115)\"/>\n",
       "<g style=\"fill:rgb(0%,0%,0%);fill-opacity:1;\">\n",
       "  <use xlink:href=\"#glyph0-3\" x=\"96.5\" y=\"41.300781\"/>\n",
       "  <use xlink:href=\"#glyph0-2\" x=\"103.25\" y=\"41.300781\"/>\n",
       "  <use xlink:href=\"#glyph0-1\" x=\"107\" y=\"41.300781\"/>\n",
       "</g>\n",
       "<path style=\"fill:none;stroke-width:1;stroke-linecap:butt;stroke-linejoin:miter;stroke:rgb(74.901961%,74.901961%,74.901961%);stroke-opacity:1;stroke-miterlimit:10;\" d=\"M 114.023438 -73.839844 C 128.589844 -70.480469 153.941406 -64.628906 172.101562 -60.4375 \" transform=\"matrix(1,0,0,1,4,115)\"/>\n",
       "<path style=\"fill-rule:nonzero;fill:rgb(74.901961%,74.901961%,74.901961%);fill-opacity:1;stroke-width:1;stroke-linecap:butt;stroke-linejoin:miter;stroke:rgb(74.901961%,74.901961%,74.901961%);stroke-opacity:1;stroke-miterlimit:10;\" d=\"M 173.113281 -63.796875 L 182.070312 -58.136719 L 171.539062 -56.976562 Z M 173.113281 -63.796875 \" transform=\"matrix(1,0,0,1,4,115)\"/>\n",
       "<g style=\"fill:rgb(0%,0%,0%);fill-opacity:1;\">\n",
       "  <use xlink:href=\"#glyph1-5\" x=\"136\" y=\"43.699219\"/>\n",
       "  <use xlink:href=\"#glyph1-6\" x=\"142\" y=\"43.699219\"/>\n",
       "  <use xlink:href=\"#glyph1-7\" x=\"145\" y=\"43.699219\"/>\n",
       "  <use xlink:href=\"#glyph1-8\" x=\"151\" y=\"43.699219\"/>\n",
       "  <use xlink:href=\"#glyph1-9\" x=\"154\" y=\"43.699219\"/>\n",
       "  <use xlink:href=\"#glyph1-10\" x=\"157.75\" y=\"43.699219\"/>\n",
       "  <use xlink:href=\"#glyph1-11\" x=\"163.75\" y=\"43.699219\"/>\n",
       "</g>\n",
       "<path style=\"fill-rule:nonzero;fill:rgb(99.215686%,90.588235%,14.509804%);fill-opacity:1;stroke-width:4;stroke-linecap:butt;stroke-linejoin:miter;stroke:rgb(90.196078%,81.176471%,0.784314%);stroke-opacity:1;stroke-miterlimit:10;\" d=\"M 114 -33.5 C 114 -26.597656 108.402344 -21 101.5 -21 C 94.597656 -21 89 -26.597656 89 -33.5 C 89 -40.402344 94.597656 -46 101.5 -46 C 108.402344 -46 114 -40.402344 114 -33.5 \" transform=\"matrix(1,0,0,1,4,115)\"/>\n",
       "<g style=\"fill:rgb(0%,0%,0%);fill-opacity:1;\">\n",
       "  <use xlink:href=\"#glyph0-3\" x=\"96.5\" y=\"84.300781\"/>\n",
       "  <use xlink:href=\"#glyph0-2\" x=\"103.25\" y=\"84.300781\"/>\n",
       "  <use xlink:href=\"#glyph0-3\" x=\"107\" y=\"84.300781\"/>\n",
       "</g>\n",
       "<path style=\"fill:none;stroke-width:1;stroke-linecap:butt;stroke-linejoin:miter;stroke:rgb(74.901961%,74.901961%,74.901961%);stroke-opacity:1;stroke-miterlimit:10;\" d=\"M 114.023438 -36.285156 C 128.589844 -39.808594 153.941406 -45.9375 172.101562 -50.328125 \" transform=\"matrix(1,0,0,1,4,115)\"/>\n",
       "<path style=\"fill-rule:nonzero;fill:rgb(74.901961%,74.901961%,74.901961%);fill-opacity:1;stroke-width:1;stroke-linecap:butt;stroke-linejoin:miter;stroke:rgb(74.901961%,74.901961%,74.901961%);stroke-opacity:1;stroke-miterlimit:10;\" d=\"M 171.527344 -53.789062 L 182.070312 -52.734375 L 173.171875 -46.984375 Z M 171.527344 -53.789062 \" transform=\"matrix(1,0,0,1,4,115)\"/>\n",
       "<g style=\"fill:rgb(0%,0%,0%);fill-opacity:1;\">\n",
       "  <use xlink:href=\"#glyph1-5\" x=\"136\" y=\"64.699219\"/>\n",
       "  <use xlink:href=\"#glyph1-6\" x=\"142\" y=\"64.699219\"/>\n",
       "  <use xlink:href=\"#glyph1-5\" x=\"145\" y=\"64.699219\"/>\n",
       "  <use xlink:href=\"#glyph1-8\" x=\"151\" y=\"64.699219\"/>\n",
       "  <use xlink:href=\"#glyph1-9\" x=\"154\" y=\"64.699219\"/>\n",
       "  <use xlink:href=\"#glyph1-10\" x=\"157.75\" y=\"64.699219\"/>\n",
       "  <use xlink:href=\"#glyph1-11\" x=\"163.75\" y=\"64.699219\"/>\n",
       "</g>\n",
       "<path style=\"fill:none;stroke-width:1;stroke-linecap:butt;stroke-linejoin:miter;stroke:rgb(74.901961%,74.901961%,74.901961%);stroke-opacity:1;stroke-miterlimit:10;\" d=\"M 7.269531 -106.605469 C 17.714844 -103.234375 55.34375 -91.082031 79.484375 -83.285156 \" transform=\"matrix(1,0,0,1,4,115)\"/>\n",
       "<path style=\"fill-rule:nonzero;fill:rgb(74.901961%,74.901961%,74.901961%);fill-opacity:1;stroke-width:1;stroke-linecap:butt;stroke-linejoin:miter;stroke:rgb(74.901961%,74.901961%,74.901961%);stroke-opacity:1;stroke-miterlimit:10;\" d=\"M 80.742188 -86.558594 L 89.183594 -80.152344 L 78.59375 -79.894531 Z M 80.742188 -86.558594 \" transform=\"matrix(1,0,0,1,4,115)\"/>\n",
       "<g style=\"fill:rgb(0%,0%,0%);fill-opacity:1;\">\n",
       "  <use xlink:href=\"#glyph1-12\" x=\"29\" y=\"11.699219\"/>\n",
       "  <use xlink:href=\"#glyph1-2\" x=\"35\" y=\"11.699219\"/>\n",
       "  <use xlink:href=\"#glyph1-13\" x=\"40.25\" y=\"11.699219\"/>\n",
       "  <use xlink:href=\"#glyph1-2\" x=\"44\" y=\"11.699219\"/>\n",
       "  <use xlink:href=\"#glyph1-6\" x=\"49.25\" y=\"11.699219\"/>\n",
       "  <use xlink:href=\"#glyph1-7\" x=\"52.25\" y=\"11.699219\"/>\n",
       "  <use xlink:href=\"#glyph1-8\" x=\"58.25\" y=\"11.699219\"/>\n",
       "  <use xlink:href=\"#glyph1-9\" x=\"61.25\" y=\"11.699219\"/>\n",
       "  <use xlink:href=\"#glyph1-14\" x=\"65\" y=\"11.699219\"/>\n",
       "  <use xlink:href=\"#glyph1-11\" x=\"71\" y=\"11.699219\"/>\n",
       "</g>\n",
       "<path style=\"fill:none;stroke-width:1;stroke-linecap:butt;stroke-linejoin:miter;stroke:rgb(74.901961%,74.901961%,74.901961%);stroke-opacity:1;stroke-miterlimit:10;\" d=\"M 7.269531 -74.558594 C 17.613281 -74.773438 54.625 -75.542969 78.789062 -76.046875 \" transform=\"matrix(1,0,0,1,4,115)\"/>\n",
       "<path style=\"fill-rule:nonzero;fill:rgb(74.901961%,74.901961%,74.901961%);fill-opacity:1;stroke-width:1;stroke-linecap:butt;stroke-linejoin:miter;stroke:rgb(74.901961%,74.901961%,74.901961%);stroke-opacity:1;stroke-miterlimit:10;\" d=\"M 78.773438 -79.546875 L 88.84375 -76.257812 L 78.917969 -72.550781 Z M 78.773438 -79.546875 \" transform=\"matrix(1,0,0,1,4,115)\"/>\n",
       "<g style=\"fill:rgb(0%,0%,0%);fill-opacity:1;\">\n",
       "  <use xlink:href=\"#glyph1-12\" x=\"29\" y=\"36.699219\"/>\n",
       "  <use xlink:href=\"#glyph1-2\" x=\"35\" y=\"36.699219\"/>\n",
       "  <use xlink:href=\"#glyph1-13\" x=\"40.25\" y=\"36.699219\"/>\n",
       "  <use xlink:href=\"#glyph1-2\" x=\"44\" y=\"36.699219\"/>\n",
       "  <use xlink:href=\"#glyph1-6\" x=\"49.25\" y=\"36.699219\"/>\n",
       "  <use xlink:href=\"#glyph1-5\" x=\"52.25\" y=\"36.699219\"/>\n",
       "  <use xlink:href=\"#glyph1-8\" x=\"58.25\" y=\"36.699219\"/>\n",
       "  <use xlink:href=\"#glyph1-9\" x=\"61.25\" y=\"36.699219\"/>\n",
       "  <use xlink:href=\"#glyph1-14\" x=\"65\" y=\"36.699219\"/>\n",
       "  <use xlink:href=\"#glyph1-11\" x=\"71\" y=\"36.699219\"/>\n",
       "</g>\n",
       "<path style=\"fill:none;stroke-width:1;stroke-linecap:butt;stroke-linejoin:miter;stroke:rgb(74.901961%,74.901961%,74.901961%);stroke-opacity:1;stroke-miterlimit:10;\" d=\"M 7.269531 -36.414062 C 17.613281 -36.089844 54.625 -34.933594 78.789062 -34.179688 \" transform=\"matrix(1,0,0,1,4,115)\"/>\n",
       "<path style=\"fill-rule:nonzero;fill:rgb(74.901961%,74.901961%,74.901961%);fill-opacity:1;stroke-width:1;stroke-linecap:butt;stroke-linejoin:miter;stroke:rgb(74.901961%,74.901961%,74.901961%);stroke-opacity:1;stroke-miterlimit:10;\" d=\"M 78.957031 -37.675781 L 88.84375 -33.863281 L 78.738281 -30.679688 Z M 78.957031 -37.675781 \" transform=\"matrix(1,0,0,1,4,115)\"/>\n",
       "<g style=\"fill:rgb(0%,0%,0%);fill-opacity:1;\">\n",
       "  <use xlink:href=\"#glyph1-12\" x=\"29\" y=\"76.699219\"/>\n",
       "  <use xlink:href=\"#glyph1-2\" x=\"35\" y=\"76.699219\"/>\n",
       "  <use xlink:href=\"#glyph1-13\" x=\"40.25\" y=\"76.699219\"/>\n",
       "  <use xlink:href=\"#glyph1-2\" x=\"44\" y=\"76.699219\"/>\n",
       "  <use xlink:href=\"#glyph1-6\" x=\"49.25\" y=\"76.699219\"/>\n",
       "  <use xlink:href=\"#glyph1-14\" x=\"52.25\" y=\"76.699219\"/>\n",
       "  <use xlink:href=\"#glyph1-8\" x=\"58.25\" y=\"76.699219\"/>\n",
       "  <use xlink:href=\"#glyph1-9\" x=\"61.25\" y=\"76.699219\"/>\n",
       "  <use xlink:href=\"#glyph1-14\" x=\"65\" y=\"76.699219\"/>\n",
       "  <use xlink:href=\"#glyph1-11\" x=\"71\" y=\"76.699219\"/>\n",
       "</g>\n",
       "<path style=\"fill:none;stroke-width:1;stroke-linecap:butt;stroke-linejoin:miter;stroke:rgb(74.901961%,74.901961%,74.901961%);stroke-opacity:1;stroke-miterlimit:10;\" d=\"M 7.269531 -4.367188 C 17.714844 -7.628906 55.34375 -19.390625 79.484375 -26.933594 \" transform=\"matrix(1,0,0,1,4,115)\"/>\n",
       "<path style=\"fill-rule:nonzero;fill:rgb(74.901961%,74.901961%,74.901961%);fill-opacity:1;stroke-width:1;stroke-linecap:butt;stroke-linejoin:miter;stroke:rgb(74.901961%,74.901961%,74.901961%);stroke-opacity:1;stroke-miterlimit:10;\" d=\"M 78.597656 -30.320312 L 89.183594 -29.964844 L 80.683594 -23.640625 Z M 78.597656 -30.320312 \" transform=\"matrix(1,0,0,1,4,115)\"/>\n",
       "<g style=\"fill:rgb(0%,0%,0%);fill-opacity:1;\">\n",
       "  <use xlink:href=\"#glyph1-12\" x=\"29\" y=\"92.699219\"/>\n",
       "  <use xlink:href=\"#glyph1-2\" x=\"35\" y=\"92.699219\"/>\n",
       "  <use xlink:href=\"#glyph1-13\" x=\"40.25\" y=\"92.699219\"/>\n",
       "  <use xlink:href=\"#glyph1-2\" x=\"44\" y=\"92.699219\"/>\n",
       "  <use xlink:href=\"#glyph1-6\" x=\"49.25\" y=\"92.699219\"/>\n",
       "  <use xlink:href=\"#glyph1-10\" x=\"52.25\" y=\"92.699219\"/>\n",
       "  <use xlink:href=\"#glyph1-8\" x=\"58.25\" y=\"92.699219\"/>\n",
       "  <use xlink:href=\"#glyph1-9\" x=\"61.25\" y=\"92.699219\"/>\n",
       "  <use xlink:href=\"#glyph1-14\" x=\"65\" y=\"92.699219\"/>\n",
       "  <use xlink:href=\"#glyph1-11\" x=\"71\" y=\"92.699219\"/>\n",
       "</g>\n",
       "</g>\n",
       "</svg>\n"
      ],
      "text/plain": [
       "<graphviz.graphs.Digraph at 0x7f40d362d720>"
      ]
     },
     "execution_count": 12,
     "metadata": {},
     "output_type": "execute_result"
    }
   ],
   "source": [
    "DEVICE = 'cuda'\n",
    "BOND_DIM = 3\n",
    "DTYPE = torch.double\n",
    "N_LABELS = 3\n",
    "MODEL_DIR = 'iris_models'\n",
    "\n",
    "model = TTNModel(features, n_phys=MAP_DIM, bond_dim=BOND_DIM, n_labels=N_LABELS, device=DEVICE, dtype=DTYPE)\n",
    "model.draw()"
   ]
  },
  {
   "cell_type": "code",
   "execution_count": 13,
   "metadata": {},
   "outputs": [
    {
     "name": "stderr",
     "output_type": "stream",
     "text": [
      "ttn unsupervised init: 100%|██████████| 4/4 [00:10<00:00,  2.60s/it, done unsupervised init!]        \n",
      "100%|██████████| 2/2 [00:04<00:00,  2.09s/it, loss=1.11, epoch mean loss=1.14]\n",
      "100%|██████████| 2/2 [00:00<00:00,  7.17it/s, loss=1.03, epoch mean loss=1.04]\n",
      "100%|██████████| 2/2 [00:00<00:00,  7.06it/s, loss=0.948, epoch mean loss=0.96]\n",
      "100%|██████████| 2/2 [00:00<00:00,  6.86it/s, loss=0.876, epoch mean loss=0.892]\n",
      "100%|██████████| 2/2 [00:00<00:00,  6.20it/s, loss=0.808, epoch mean loss=0.823]\n",
      "100%|██████████| 2/2 [00:00<00:00,  6.72it/s, loss=0.746, epoch mean loss=0.757]\n",
      "100%|██████████| 2/2 [00:00<00:00,  6.48it/s, loss=0.691, epoch mean loss=0.696]\n",
      "100%|██████████| 2/2 [00:00<00:00,  6.33it/s, loss=0.644, epoch mean loss=0.643]\n",
      "100%|██████████| 2/2 [00:00<00:00,  6.37it/s, loss=0.602, epoch mean loss=0.598]\n",
      "100%|██████████| 2/2 [00:00<00:00,  6.40it/s, loss=0.565, epoch mean loss=0.558]\n",
      "100%|██████████| 2/2 [00:00<00:00,  7.13it/s, loss=0.531, epoch mean loss=0.523]\n",
      "100%|██████████| 2/2 [00:00<00:00,  5.83it/s, loss=0.499, epoch mean loss=0.492]\n",
      "100%|██████████| 2/2 [00:00<00:00,  7.12it/s, loss=0.47, epoch mean loss=0.464]\n",
      "100%|██████████| 2/2 [00:00<00:00,  6.82it/s, loss=0.443, epoch mean loss=0.438]\n",
      "100%|██████████| 2/2 [00:00<00:00,  7.34it/s, loss=0.417, epoch mean loss=0.413]\n",
      "ttn supervised init:   0%|          | 0/2 [00:08<?, ?it/s, doing epoch 15/15]\n"
     ]
    }
   ],
   "source": [
    "INIT_EPOCHS = 15\n",
    "\n",
    "model.initialize(True, train_dl, class_loss, INIT_EPOCHS)"
   ]
  },
  {
   "cell_type": "code",
   "execution_count": 14,
   "metadata": {},
   "outputs": [],
   "source": [
    "def get_feat_entropies(model):\n",
    "    entropies = []\n",
    "    for i in range(model.n_features):\n",
    "        entropies.append(model.entropy(f'data.{i}').item())\n",
    "    return entropies"
   ]
  },
  {
   "cell_type": "code",
   "execution_count": 15,
   "metadata": {},
   "outputs": [
    {
     "data": {
      "image/svg+xml": [
       "<?xml version=\"1.0\" encoding=\"UTF-8\"?>\n",
       "<svg xmlns=\"http://www.w3.org/2000/svg\" xmlns:xlink=\"http://www.w3.org/1999/xlink\" width=\"299pt\" height=\"119pt\" viewBox=\"0 0 299 119\" version=\"1.1\">\n",
       "<defs>\n",
       "<g>\n",
       "<symbol overflow=\"visible\" id=\"glyph0-0\">\n",
       "<path style=\"stroke:none;\" d=\"M 0.546875 2 L 0.546875 -8 L 6.046875 -8 L 6.046875 2 Z M 1.171875 1 L 5.4375 1 L 5.4375 -7 L 1.171875 -7 Z M 1.171875 1 \"/>\n",
       "</symbol>\n",
       "<symbol overflow=\"visible\" id=\"glyph0-1\">\n",
       "<path style=\"stroke:none;\" d=\"M 3.5 -1 C 4.050781 -1 4.460938 -1.25 4.734375 -1.75 C 5.003906 -2.25 5.140625 -3 5.140625 -4 C 5.140625 -5.007812 5.003906 -5.757812 4.734375 -6.25 C 4.460938 -6.75 4.050781 -7 3.5 -7 C 2.945312 -7 2.535156 -6.75 2.265625 -6.25 C 1.992188 -5.757812 1.859375 -5.007812 1.859375 -4 C 1.859375 -3 1.992188 -2.25 2.265625 -1.75 C 2.535156 -1.25 2.945312 -1 3.5 -1 Z M 3.5 0 C 2.625 0 1.941406 -0.347656 1.453125 -1.046875 C 0.960938 -1.753906 0.71875 -2.738281 0.71875 -4 C 0.71875 -5.257812 0.960938 -6.238281 1.453125 -6.9375 C 1.941406 -7.644531 2.625 -8 3.5 -8 C 4.363281 -8 5.039062 -7.644531 5.53125 -6.9375 C 6.019531 -6.238281 6.265625 -5.257812 6.265625 -4 C 6.265625 -2.738281 6.019531 -1.753906 5.53125 -1.046875 C 5.039062 -0.347656 4.363281 0 3.5 0 Z M 3.5 0 \"/>\n",
       "</symbol>\n",
       "<symbol overflow=\"visible\" id=\"glyph0-2\">\n",
       "<path style=\"stroke:none;\" d=\"M 1.03125 -0.5 C 1.03125 -0.832031 1.097656 -1 1.234375 -1 C 1.367188 -1 1.539062 -1 1.75 -1 C 1.945312 -1 2.113281 -1 2.25 -1 C 2.394531 -1 2.46875 -0.832031 2.46875 -0.5 C 2.46875 -0.164062 2.394531 0 2.25 0 C 2.113281 0 1.945312 0 1.75 0 C 1.539062 0 1.367188 0 1.234375 0 C 1.097656 0 1.03125 -0.164062 1.03125 -0.5 Z M 1.03125 -0.5 \"/>\n",
       "</symbol>\n",
       "<symbol overflow=\"visible\" id=\"glyph0-3\">\n",
       "<path style=\"stroke:none;\" d=\"M 1.5625 0 L 1.5625 -1 L 2.953125 -1 L 2.953125 -7.265625 L 1.34375 -6.328125 L 1.34375 -7 L 3.296875 -8 L 4.046875 -8 L 4.046875 -1 L 5.4375 -1 L 5.4375 0 Z M 1.5625 0 \"/>\n",
       "</symbol>\n",
       "<symbol overflow=\"visible\" id=\"glyph1-0\">\n",
       "<path style=\"stroke:none;\" d=\"M 0.453125 2 L 0.453125 -6 L 4.953125 -6 L 4.953125 2 Z M 0.953125 1 L 4.453125 1 L 4.453125 -5 L 0.953125 -5 Z M 0.953125 1 \"/>\n",
       "</symbol>\n",
       "<symbol overflow=\"visible\" id=\"glyph1-1\">\n",
       "<path style=\"stroke:none;\" d=\"M 1.84375 -1 L 2.609375 -1 L 2.609375 0 L 0.265625 0 L 0.265625 -1 L 1.03125 -1 L 1.03125 -7 L 0.265625 -7 L 0.265625 -8 L 1.84375 -8 Z M 1.84375 -1 \"/>\n",
       "</symbol>\n",
       "<symbol overflow=\"visible\" id=\"glyph1-2\">\n",
       "<path style=\"stroke:none;\" d=\"M 3.578125 -1.5 L 3.578125 -2 L 2.546875 -2 C 2.140625 -2 1.835938 -1.957031 1.640625 -1.875 C 1.441406 -1.789062 1.34375 -1.664062 1.34375 -1.5 C 1.34375 -1.34375 1.441406 -1.21875 1.640625 -1.125 C 1.835938 -1.039062 2.109375 -1 2.453125 -1 C 2.785156 -1 3.054688 -1.046875 3.265625 -1.140625 C 3.472656 -1.234375 3.578125 -1.351562 3.578125 -1.5 Z M 4.390625 -2.984375 L 4.390625 -1 L 5.109375 -1 L 5.109375 0 L 3.578125 0 L 3.578125 -1.015625 C 3.398438 -0.671875 3.191406 -0.414062 2.953125 -0.25 C 2.722656 -0.0820312 2.453125 0 2.140625 0 C 1.617188 0 1.207031 -0.132812 0.90625 -0.40625 C 0.601562 -0.675781 0.453125 -1.039062 0.453125 -1.5 C 0.453125 -1.976562 0.625 -2.347656 0.96875 -2.609375 C 1.320312 -2.867188 1.816406 -3 2.453125 -3 L 3.578125 -3 L 3.578125 -4.125 C 3.578125 -4.082031 3.46875 -4.050781 3.25 -4.03125 C 3.039062 -4.007812 2.738281 -4 2.34375 -4 C 2.019531 -4 1.765625 -4.082031 1.578125 -4.25 C 1.390625 -4.414062 1.269531 -4.664062 1.21875 -5 L 0.8125 -5 C 1.09375 -5 1.363281 -5 1.625 -5 C 1.894531 -5 2.15625 -5 2.40625 -5 C 3.050781 -5 3.539062 -4.828125 3.875 -4.484375 C 4.21875 -4.140625 4.390625 -3.640625 4.390625 -2.984375 Z M 4.390625 -2.984375 \"/>\n",
       "</symbol>\n",
       "<symbol overflow=\"visible\" id=\"glyph1-3\">\n",
       "<path style=\"stroke:none;\" d=\"M 1.03125 -1 L 1.03125 -7 L 0.265625 -7 L 0.265625 -8 L 1.84375 -8 L 1.84375 -3.71875 C 2 -4.15625 2.195312 -4.476562 2.4375 -4.6875 C 2.6875 -4.894531 2.992188 -5 3.359375 -5 C 3.929688 -5 4.398438 -4.769531 4.765625 -4.3125 C 5.128906 -3.851562 5.3125 -3.25 5.3125 -2.5 C 5.3125 -1.757812 5.128906 -1.15625 4.765625 -0.6875 C 4.398438 -0.226562 3.929688 0 3.359375 0 C 2.992188 0 2.6875 -0.0976562 2.4375 -0.296875 C 2.195312 -0.492188 2 -0.796875 1.84375 -1.203125 L 1.84375 0 L 0.265625 0 L 0.265625 -1 Z M 1.84375 -2.28125 C 1.84375 -1.863281 1.945312 -1.546875 2.15625 -1.328125 C 2.375 -1.109375 2.691406 -1 3.109375 -1 C 3.515625 -1 3.820312 -1.125 4.03125 -1.375 C 4.25 -1.632812 4.359375 -2.007812 4.359375 -2.5 C 4.359375 -3 4.25 -3.375 4.03125 -3.625 C 3.820312 -3.875 3.515625 -4 3.109375 -4 C 2.691406 -4 2.375 -3.878906 2.15625 -3.640625 C 1.945312 -3.410156 1.84375 -3.078125 1.84375 -2.640625 Z M 1.84375 -2.28125 \"/>\n",
       "</symbol>\n",
       "<symbol overflow=\"visible\" id=\"glyph1-4\">\n",
       "<path style=\"stroke:none;\" d=\"M 4.875 -2 L 1.390625 -2 L 1.390625 -1.953125 C 1.390625 -1.640625 1.507812 -1.398438 1.75 -1.234375 C 1.988281 -1.078125 2.335938 -1 2.796875 -1 C 3.148438 -1 3.441406 -1 3.671875 -1 C 3.898438 -1 4.0625 -1 4.15625 -1 L 4.796875 -1 C 4.671875 -0.664062 4.429688 -0.414062 4.078125 -0.25 C 3.734375 -0.0820312 3.28125 0 2.71875 0 C 2.03125 0 1.476562 -0.226562 1.0625 -0.6875 C 0.65625 -1.144531 0.453125 -1.75 0.453125 -2.5 C 0.453125 -3.25 0.65625 -3.851562 1.0625 -4.3125 C 1.46875 -4.769531 2 -5 2.65625 -5 C 3.363281 -5 3.90625 -4.742188 4.28125 -4.234375 C 4.664062 -3.722656 4.863281 -2.976562 4.875 -2 Z M 3.921875 -3 C 3.898438 -3.332031 3.785156 -3.582031 3.578125 -3.75 C 3.367188 -3.914062 3.0625 -4 2.65625 -4 C 2.289062 -4 2 -3.914062 1.78125 -3.75 C 1.570312 -3.582031 1.441406 -3.332031 1.390625 -3 Z M 3.921875 -3 \"/>\n",
       "</symbol>\n",
       "<symbol overflow=\"visible\" id=\"glyph1-5\">\n",
       "<path style=\"stroke:none;\" d=\"M 1.28125 0 L 1.28125 -1 L 2.421875 -1 L 2.421875 -6.265625 L 1.09375 -5.4375 L 1.09375 -6 L 2.703125 -7 L 3.3125 -7 L 3.3125 -1 L 4.453125 -1 L 4.453125 0 Z M 1.28125 0 \"/>\n",
       "</symbol>\n",
       "<symbol overflow=\"visible\" id=\"glyph1-6\">\n",
       "<path style=\"stroke:none;\" d=\"M 0.84375 -0.5 C 0.84375 -0.832031 0.898438 -1 1.015625 -1 C 1.128906 -1 1.269531 -1 1.4375 -1 C 1.59375 -1 1.726562 -1 1.84375 -1 C 1.957031 -1 2.015625 -0.832031 2.015625 -0.5 C 2.015625 -0.164062 1.957031 0 1.84375 0 C 1.726562 0 1.59375 0 1.4375 0 C 1.269531 0 1.128906 0 1.015625 0 C 0.898438 0 0.84375 -0.164062 0.84375 -0.5 Z M 0.84375 -0.5 \"/>\n",
       "</symbol>\n",
       "<symbol overflow=\"visible\" id=\"glyph1-7\">\n",
       "<path style=\"stroke:none;\" d=\"M 2.859375 -1 C 3.304688 -1 3.640625 -1.207031 3.859375 -1.625 C 4.085938 -2.039062 4.203125 -2.664062 4.203125 -3.5 C 4.203125 -4.332031 4.085938 -4.957031 3.859375 -5.375 C 3.640625 -5.789062 3.304688 -6 2.859375 -6 C 2.410156 -6 2.070312 -5.789062 1.84375 -5.375 C 1.625 -4.957031 1.515625 -4.332031 1.515625 -3.5 C 1.515625 -2.664062 1.625 -2.039062 1.84375 -1.625 C 2.070312 -1.207031 2.410156 -1 2.859375 -1 Z M 2.859375 0 C 2.148438 0 1.59375 -0.304688 1.1875 -0.921875 C 0.789062 -1.535156 0.59375 -2.394531 0.59375 -3.5 C 0.59375 -4.601562 0.789062 -5.460938 1.1875 -6.078125 C 1.59375 -6.691406 2.148438 -7 2.859375 -7 C 3.578125 -7 4.132812 -6.691406 4.53125 -6.078125 C 4.925781 -5.460938 5.125 -4.601562 5.125 -3.5 C 5.125 -2.394531 4.925781 -1.535156 4.53125 -0.921875 C 4.132812 -0.304688 3.578125 0 2.859375 0 Z M 2.859375 0 \"/>\n",
       "</symbol>\n",
       "<symbol overflow=\"visible\" id=\"glyph1-8\">\n",
       "<path style=\"stroke:none;\" d=\"\"/>\n",
       "</symbol>\n",
       "<symbol overflow=\"visible\" id=\"glyph1-9\">\n",
       "<path style=\"stroke:none;\" d=\"M 0.78125 -8 L 2.8125 -8 L 2.8125 -7 L 1.609375 -7 L 1.609375 -1 L 2.8125 -1 L 2.8125 0 L 0.78125 0 Z M 0.78125 -8 \"/>\n",
       "</symbol>\n",
       "<symbol overflow=\"visible\" id=\"glyph1-10\">\n",
       "<path style=\"stroke:none;\" d=\"M 0.875 -6 C 1.21875 -6.320312 1.546875 -6.566406 1.859375 -6.734375 C 2.179688 -6.910156 2.476562 -7 2.75 -7 C 3.394531 -7 3.894531 -6.84375 4.25 -6.53125 C 4.613281 -6.226562 4.796875 -5.804688 4.796875 -5.265625 C 4.796875 -4.816406 4.671875 -4.445312 4.421875 -4.15625 C 4.171875 -3.863281 3.816406 -3.664062 3.359375 -3.5625 C 3.898438 -3.488281 4.316406 -3.300781 4.609375 -3 C 4.910156 -2.695312 5.0625 -2.304688 5.0625 -1.828125 C 5.0625 -1.234375 4.851562 -0.78125 4.4375 -0.46875 C 4.03125 -0.15625 3.441406 0 2.671875 0 C 2.328125 0 1.988281 -0.0820312 1.65625 -0.25 C 1.332031 -0.414062 1.007812 -0.664062 0.6875 -1 L 0.6875 -2 L 1.171875 -2 C 1.203125 -1.664062 1.34375 -1.414062 1.59375 -1.25 C 1.851562 -1.082031 2.210938 -1 2.671875 -1 C 3.117188 -1 3.472656 -1.082031 3.734375 -1.25 C 3.992188 -1.425781 4.125 -1.664062 4.125 -1.96875 C 4.125 -2.300781 3.988281 -2.554688 3.71875 -2.734375 C 3.457031 -2.910156 3.070312 -3 2.5625 -3 L 2.140625 -3 L 2.140625 -4 L 2.359375 -4 C 2.867188 -4 3.25 -4.082031 3.5 -4.25 C 3.757812 -4.425781 3.890625 -4.6875 3.890625 -5.03125 C 3.890625 -5.34375 3.785156 -5.582031 3.578125 -5.75 C 3.367188 -5.914062 3.066406 -6 2.671875 -6 C 2.273438 -6 1.96875 -5.914062 1.75 -5.75 C 1.53125 -5.582031 1.398438 -5.332031 1.359375 -5 L 0.875 -5 Z M 0.875 -6 \"/>\n",
       "</symbol>\n",
       "<symbol overflow=\"visible\" id=\"glyph1-11\">\n",
       "<path style=\"stroke:none;\" d=\"M 2.734375 -8 L 2.734375 0 L 0.6875 0 L 0.6875 -1 L 1.90625 -1 L 1.90625 -7 L 0.6875 -7 L 0.6875 -8 Z M 2.734375 -8 \"/>\n",
       "</symbol>\n",
       "<symbol overflow=\"visible\" id=\"glyph1-12\">\n",
       "<path style=\"stroke:none;\" d=\"M 4.71875 -1 L 5.5 -1 L 5.5 0 L 3.921875 0 L 3.921875 -1.203125 C 3.765625 -0.796875 3.5625 -0.492188 3.3125 -0.296875 C 3.070312 -0.0976562 2.769531 0 2.40625 0 C 1.832031 0 1.363281 -0.226562 1 -0.6875 C 0.632812 -1.15625 0.453125 -1.757812 0.453125 -2.5 C 0.453125 -3.25 0.632812 -3.851562 1 -4.3125 C 1.363281 -4.769531 1.832031 -5 2.40625 -5 C 2.769531 -5 3.070312 -4.894531 3.3125 -4.6875 C 3.5625 -4.476562 3.765625 -4.15625 3.921875 -3.71875 L 3.921875 -7 L 3.15625 -7 L 3.15625 -8 L 4.71875 -8 Z M 3.921875 -2.28125 L 3.921875 -2.640625 C 3.921875 -3.078125 3.8125 -3.410156 3.59375 -3.640625 C 3.382812 -3.878906 3.070312 -4 2.65625 -4 C 2.238281 -4 1.921875 -3.875 1.703125 -3.625 C 1.492188 -3.375 1.390625 -3 1.390625 -2.5 C 1.390625 -2.007812 1.492188 -1.632812 1.703125 -1.375 C 1.921875 -1.125 2.238281 -1 2.65625 -1 C 3.070312 -1 3.382812 -1.109375 3.59375 -1.328125 C 3.8125 -1.546875 3.921875 -1.863281 3.921875 -2.28125 Z M 3.921875 -2.28125 \"/>\n",
       "</symbol>\n",
       "<symbol overflow=\"visible\" id=\"glyph1-13\">\n",
       "<path style=\"stroke:none;\" d=\"M 0.96875 -4 L 0.265625 -4 L 0.265625 -5 L 0.96875 -5 L 0.96875 -6 L 1.78125 -6 L 1.78125 -5 L 3.3125 -5 L 3.3125 -4 L 1.78125 -4 L 1.78125 -2.09375 C 1.78125 -1.625 1.816406 -1.320312 1.890625 -1.1875 C 1.972656 -1.0625 2.113281 -1 2.3125 -1 C 2.53125 -1 2.6875 -1.078125 2.78125 -1.234375 C 2.875 -1.390625 2.925781 -1.644531 2.9375 -2 L 3.546875 -2 C 3.523438 -1.300781 3.410156 -0.789062 3.203125 -0.46875 C 2.992188 -0.15625 2.675781 0 2.25 0 C 1.78125 0 1.445312 -0.15625 1.25 -0.46875 C 1.0625 -0.789062 0.96875 -1.332031 0.96875 -2.09375 Z M 0.96875 -4 \"/>\n",
       "</symbol>\n",
       "<symbol overflow=\"visible\" id=\"glyph1-14\">\n",
       "<path style=\"stroke:none;\" d=\"M 1.15625 -5 L 0.65625 -5 L 0.65625 -6 C 0.96875 -6.320312 1.28125 -6.566406 1.59375 -6.734375 C 1.914062 -6.910156 2.226562 -7 2.53125 -7 C 3.21875 -7 3.757812 -6.832031 4.15625 -6.5 C 4.550781 -6.175781 4.75 -5.734375 4.75 -5.171875 C 4.75 -4.535156 4.300781 -3.773438 3.40625 -2.890625 C 3.332031 -2.816406 3.28125 -2.765625 3.25 -2.734375 L 1.59375 -1 L 4.328125 -1 L 4.328125 -2 L 4.84375 -2 L 4.84375 0 L 0.609375 0 L 0.609375 -0.546875 L 2.609375 -2.8125 C 3.046875 -3.1875 3.359375 -3.523438 3.546875 -3.828125 C 3.734375 -4.140625 3.828125 -4.46875 3.828125 -4.8125 C 3.828125 -5.1875 3.710938 -5.476562 3.484375 -5.6875 C 3.253906 -5.894531 2.9375 -6 2.53125 -6 C 2.113281 -6 1.789062 -5.914062 1.5625 -5.75 C 1.332031 -5.582031 1.195312 -5.332031 1.15625 -5 Z M 1.15625 -5 \"/>\n",
       "</symbol>\n",
       "</g>\n",
       "</defs>\n",
       "<g id=\"surface1\">\n",
       "<path style=\"fill-rule:nonzero;fill:rgb(85.098039%,12.156863%,7.843137%);fill-opacity:1;stroke-width:4;stroke-linecap:butt;stroke-linejoin:miter;stroke:rgb(67.843137%,9.411765%,6.27451%);stroke-opacity:1;stroke-miterlimit:10;\" d=\"M 207 -55.5 C 207 -48.597656 201.402344 -43 194.5 -43 C 187.597656 -43 182 -48.597656 182 -55.5 C 182 -62.402344 187.597656 -68 194.5 -68 C 201.402344 -68 207 -62.402344 207 -55.5 \" transform=\"matrix(1,0,0,1,4,115)\"/>\n",
       "<g style=\"fill:rgb(0%,0%,0%);fill-opacity:1;\">\n",
       "  <use xlink:href=\"#glyph0-1\" x=\"189.5\" y=\"62.300781\"/>\n",
       "  <use xlink:href=\"#glyph0-2\" x=\"196.25\" y=\"62.300781\"/>\n",
       "  <use xlink:href=\"#glyph0-1\" x=\"200\" y=\"62.300781\"/>\n",
       "</g>\n",
       "<path style=\"fill:none;stroke-width:1;stroke-linecap:butt;stroke-linejoin:miter;stroke:rgb(74.901961%,74.901961%,74.901961%);stroke-opacity:1;stroke-miterlimit:10;\" d=\"M 207.25 -55.5 C 219.792969 -55.5 239.957031 -55.5 255.472656 -55.5 \" transform=\"matrix(1,0,0,1,4,115)\"/>\n",
       "<path style=\"fill-rule:nonzero;fill:rgb(74.901961%,74.901961%,74.901961%);fill-opacity:1;stroke-width:1;stroke-linecap:butt;stroke-linejoin:miter;stroke:rgb(74.901961%,74.901961%,74.901961%);stroke-opacity:1;stroke-miterlimit:10;\" d=\"M 255.773438 -59 L 265.773438 -55.5 L 255.773438 -52 Z M 255.773438 -59 \" transform=\"matrix(1,0,0,1,4,115)\"/>\n",
       "<g style=\"fill:rgb(0%,0%,0%);fill-opacity:1;\">\n",
       "  <use xlink:href=\"#glyph1-1\" x=\"229\" y=\"56.699219\"/>\n",
       "  <use xlink:href=\"#glyph1-2\" x=\"232\" y=\"56.699219\"/>\n",
       "  <use xlink:href=\"#glyph1-3\" x=\"237.25\" y=\"56.699219\"/>\n",
       "  <use xlink:href=\"#glyph1-4\" x=\"243.25\" y=\"56.699219\"/>\n",
       "  <use xlink:href=\"#glyph1-1\" x=\"248.5\" y=\"56.699219\"/>\n",
       "</g>\n",
       "<path style=\"fill-rule:nonzero;fill:rgb(99.215686%,90.588235%,14.509804%);fill-opacity:1;stroke-width:4;stroke-linecap:butt;stroke-linejoin:miter;stroke:rgb(90.196078%,81.176471%,0.784314%);stroke-opacity:1;stroke-miterlimit:10;\" d=\"M 114 -76.5 C 114 -69.597656 108.402344 -64 101.5 -64 C 94.597656 -64 89 -69.597656 89 -76.5 C 89 -83.402344 94.597656 -89 101.5 -89 C 108.402344 -89 114 -83.402344 114 -76.5 \" transform=\"matrix(1,0,0,1,4,115)\"/>\n",
       "<g style=\"fill:rgb(0%,0%,0%);fill-opacity:1;\">\n",
       "  <use xlink:href=\"#glyph0-3\" x=\"96.5\" y=\"41.300781\"/>\n",
       "  <use xlink:href=\"#glyph0-2\" x=\"103.25\" y=\"41.300781\"/>\n",
       "  <use xlink:href=\"#glyph0-1\" x=\"107\" y=\"41.300781\"/>\n",
       "</g>\n",
       "<path style=\"fill:none;stroke-width:1;stroke-linecap:butt;stroke-linejoin:miter;stroke:rgb(74.901961%,74.901961%,74.901961%);stroke-opacity:1;stroke-miterlimit:10;\" d=\"M 114.023438 -73.839844 C 128.589844 -70.480469 153.941406 -64.628906 172.101562 -60.4375 \" transform=\"matrix(1,0,0,1,4,115)\"/>\n",
       "<path style=\"fill-rule:nonzero;fill:rgb(74.901961%,74.901961%,74.901961%);fill-opacity:1;stroke-width:1;stroke-linecap:butt;stroke-linejoin:miter;stroke:rgb(74.901961%,74.901961%,74.901961%);stroke-opacity:1;stroke-miterlimit:10;\" d=\"M 173.113281 -63.796875 L 182.070312 -58.136719 L 171.539062 -56.976562 Z M 173.113281 -63.796875 \" transform=\"matrix(1,0,0,1,4,115)\"/>\n",
       "<g style=\"fill:rgb(0%,0%,0%);fill-opacity:1;\">\n",
       "  <use xlink:href=\"#glyph1-5\" x=\"136\" y=\"43.699219\"/>\n",
       "  <use xlink:href=\"#glyph1-6\" x=\"142\" y=\"43.699219\"/>\n",
       "  <use xlink:href=\"#glyph1-7\" x=\"145\" y=\"43.699219\"/>\n",
       "  <use xlink:href=\"#glyph1-8\" x=\"151\" y=\"43.699219\"/>\n",
       "  <use xlink:href=\"#glyph1-9\" x=\"154\" y=\"43.699219\"/>\n",
       "  <use xlink:href=\"#glyph1-10\" x=\"157.75\" y=\"43.699219\"/>\n",
       "  <use xlink:href=\"#glyph1-11\" x=\"163.75\" y=\"43.699219\"/>\n",
       "</g>\n",
       "<path style=\"fill-rule:nonzero;fill:rgb(99.215686%,90.588235%,14.509804%);fill-opacity:1;stroke-width:4;stroke-linecap:butt;stroke-linejoin:miter;stroke:rgb(90.196078%,81.176471%,0.784314%);stroke-opacity:1;stroke-miterlimit:10;\" d=\"M 114 -33.5 C 114 -26.597656 108.402344 -21 101.5 -21 C 94.597656 -21 89 -26.597656 89 -33.5 C 89 -40.402344 94.597656 -46 101.5 -46 C 108.402344 -46 114 -40.402344 114 -33.5 \" transform=\"matrix(1,0,0,1,4,115)\"/>\n",
       "<g style=\"fill:rgb(0%,0%,0%);fill-opacity:1;\">\n",
       "  <use xlink:href=\"#glyph0-3\" x=\"96.5\" y=\"84.300781\"/>\n",
       "  <use xlink:href=\"#glyph0-2\" x=\"103.25\" y=\"84.300781\"/>\n",
       "  <use xlink:href=\"#glyph0-3\" x=\"107\" y=\"84.300781\"/>\n",
       "</g>\n",
       "<path style=\"fill:none;stroke-width:1;stroke-linecap:butt;stroke-linejoin:miter;stroke:rgb(74.901961%,74.901961%,74.901961%);stroke-opacity:1;stroke-miterlimit:10;\" d=\"M 114.023438 -36.285156 C 128.589844 -39.808594 153.941406 -45.9375 172.101562 -50.328125 \" transform=\"matrix(1,0,0,1,4,115)\"/>\n",
       "<path style=\"fill-rule:nonzero;fill:rgb(74.901961%,74.901961%,74.901961%);fill-opacity:1;stroke-width:1;stroke-linecap:butt;stroke-linejoin:miter;stroke:rgb(74.901961%,74.901961%,74.901961%);stroke-opacity:1;stroke-miterlimit:10;\" d=\"M 171.527344 -53.789062 L 182.070312 -52.734375 L 173.171875 -46.984375 Z M 171.527344 -53.789062 \" transform=\"matrix(1,0,0,1,4,115)\"/>\n",
       "<g style=\"fill:rgb(0%,0%,0%);fill-opacity:1;\">\n",
       "  <use xlink:href=\"#glyph1-5\" x=\"136\" y=\"64.699219\"/>\n",
       "  <use xlink:href=\"#glyph1-6\" x=\"142\" y=\"64.699219\"/>\n",
       "  <use xlink:href=\"#glyph1-5\" x=\"145\" y=\"64.699219\"/>\n",
       "  <use xlink:href=\"#glyph1-8\" x=\"151\" y=\"64.699219\"/>\n",
       "  <use xlink:href=\"#glyph1-9\" x=\"154\" y=\"64.699219\"/>\n",
       "  <use xlink:href=\"#glyph1-10\" x=\"157.75\" y=\"64.699219\"/>\n",
       "  <use xlink:href=\"#glyph1-11\" x=\"163.75\" y=\"64.699219\"/>\n",
       "</g>\n",
       "<path style=\"fill:none;stroke-width:1;stroke-linecap:butt;stroke-linejoin:miter;stroke:rgb(74.901961%,74.901961%,74.901961%);stroke-opacity:1;stroke-miterlimit:10;\" d=\"M 7.269531 -106.605469 C 17.714844 -103.234375 55.34375 -91.082031 79.484375 -83.285156 \" transform=\"matrix(1,0,0,1,4,115)\"/>\n",
       "<path style=\"fill-rule:nonzero;fill:rgb(74.901961%,74.901961%,74.901961%);fill-opacity:1;stroke-width:1;stroke-linecap:butt;stroke-linejoin:miter;stroke:rgb(74.901961%,74.901961%,74.901961%);stroke-opacity:1;stroke-miterlimit:10;\" d=\"M 80.742188 -86.558594 L 89.183594 -80.152344 L 78.59375 -79.894531 Z M 80.742188 -86.558594 \" transform=\"matrix(1,0,0,1,4,115)\"/>\n",
       "<g style=\"fill:rgb(0%,0%,0%);fill-opacity:1;\">\n",
       "  <use xlink:href=\"#glyph1-12\" x=\"29\" y=\"11.699219\"/>\n",
       "  <use xlink:href=\"#glyph1-2\" x=\"35\" y=\"11.699219\"/>\n",
       "  <use xlink:href=\"#glyph1-13\" x=\"40.25\" y=\"11.699219\"/>\n",
       "  <use xlink:href=\"#glyph1-2\" x=\"44\" y=\"11.699219\"/>\n",
       "  <use xlink:href=\"#glyph1-6\" x=\"49.25\" y=\"11.699219\"/>\n",
       "  <use xlink:href=\"#glyph1-7\" x=\"52.25\" y=\"11.699219\"/>\n",
       "  <use xlink:href=\"#glyph1-8\" x=\"58.25\" y=\"11.699219\"/>\n",
       "  <use xlink:href=\"#glyph1-9\" x=\"61.25\" y=\"11.699219\"/>\n",
       "  <use xlink:href=\"#glyph1-14\" x=\"65\" y=\"11.699219\"/>\n",
       "  <use xlink:href=\"#glyph1-11\" x=\"71\" y=\"11.699219\"/>\n",
       "</g>\n",
       "<path style=\"fill:none;stroke-width:1;stroke-linecap:butt;stroke-linejoin:miter;stroke:rgb(74.901961%,74.901961%,74.901961%);stroke-opacity:1;stroke-miterlimit:10;\" d=\"M 7.269531 -74.558594 C 17.613281 -74.773438 54.625 -75.542969 78.789062 -76.046875 \" transform=\"matrix(1,0,0,1,4,115)\"/>\n",
       "<path style=\"fill-rule:nonzero;fill:rgb(74.901961%,74.901961%,74.901961%);fill-opacity:1;stroke-width:1;stroke-linecap:butt;stroke-linejoin:miter;stroke:rgb(74.901961%,74.901961%,74.901961%);stroke-opacity:1;stroke-miterlimit:10;\" d=\"M 78.773438 -79.546875 L 88.84375 -76.257812 L 78.917969 -72.550781 Z M 78.773438 -79.546875 \" transform=\"matrix(1,0,0,1,4,115)\"/>\n",
       "<g style=\"fill:rgb(0%,0%,0%);fill-opacity:1;\">\n",
       "  <use xlink:href=\"#glyph1-12\" x=\"29\" y=\"36.699219\"/>\n",
       "  <use xlink:href=\"#glyph1-2\" x=\"35\" y=\"36.699219\"/>\n",
       "  <use xlink:href=\"#glyph1-13\" x=\"40.25\" y=\"36.699219\"/>\n",
       "  <use xlink:href=\"#glyph1-2\" x=\"44\" y=\"36.699219\"/>\n",
       "  <use xlink:href=\"#glyph1-6\" x=\"49.25\" y=\"36.699219\"/>\n",
       "  <use xlink:href=\"#glyph1-5\" x=\"52.25\" y=\"36.699219\"/>\n",
       "  <use xlink:href=\"#glyph1-8\" x=\"58.25\" y=\"36.699219\"/>\n",
       "  <use xlink:href=\"#glyph1-9\" x=\"61.25\" y=\"36.699219\"/>\n",
       "  <use xlink:href=\"#glyph1-14\" x=\"65\" y=\"36.699219\"/>\n",
       "  <use xlink:href=\"#glyph1-11\" x=\"71\" y=\"36.699219\"/>\n",
       "</g>\n",
       "<path style=\"fill:none;stroke-width:1;stroke-linecap:butt;stroke-linejoin:miter;stroke:rgb(74.901961%,74.901961%,74.901961%);stroke-opacity:1;stroke-miterlimit:10;\" d=\"M 7.269531 -36.414062 C 17.613281 -36.089844 54.625 -34.933594 78.789062 -34.179688 \" transform=\"matrix(1,0,0,1,4,115)\"/>\n",
       "<path style=\"fill-rule:nonzero;fill:rgb(74.901961%,74.901961%,74.901961%);fill-opacity:1;stroke-width:1;stroke-linecap:butt;stroke-linejoin:miter;stroke:rgb(74.901961%,74.901961%,74.901961%);stroke-opacity:1;stroke-miterlimit:10;\" d=\"M 78.957031 -37.675781 L 88.84375 -33.863281 L 78.738281 -30.679688 Z M 78.957031 -37.675781 \" transform=\"matrix(1,0,0,1,4,115)\"/>\n",
       "<g style=\"fill:rgb(0%,0%,0%);fill-opacity:1;\">\n",
       "  <use xlink:href=\"#glyph1-12\" x=\"29\" y=\"76.699219\"/>\n",
       "  <use xlink:href=\"#glyph1-2\" x=\"35\" y=\"76.699219\"/>\n",
       "  <use xlink:href=\"#glyph1-13\" x=\"40.25\" y=\"76.699219\"/>\n",
       "  <use xlink:href=\"#glyph1-2\" x=\"44\" y=\"76.699219\"/>\n",
       "  <use xlink:href=\"#glyph1-6\" x=\"49.25\" y=\"76.699219\"/>\n",
       "  <use xlink:href=\"#glyph1-14\" x=\"52.25\" y=\"76.699219\"/>\n",
       "  <use xlink:href=\"#glyph1-8\" x=\"58.25\" y=\"76.699219\"/>\n",
       "  <use xlink:href=\"#glyph1-9\" x=\"61.25\" y=\"76.699219\"/>\n",
       "  <use xlink:href=\"#glyph1-14\" x=\"65\" y=\"76.699219\"/>\n",
       "  <use xlink:href=\"#glyph1-11\" x=\"71\" y=\"76.699219\"/>\n",
       "</g>\n",
       "<path style=\"fill:none;stroke-width:1;stroke-linecap:butt;stroke-linejoin:miter;stroke:rgb(74.901961%,74.901961%,74.901961%);stroke-opacity:1;stroke-miterlimit:10;\" d=\"M 7.269531 -4.367188 C 17.714844 -7.628906 55.34375 -19.390625 79.484375 -26.933594 \" transform=\"matrix(1,0,0,1,4,115)\"/>\n",
       "<path style=\"fill-rule:nonzero;fill:rgb(74.901961%,74.901961%,74.901961%);fill-opacity:1;stroke-width:1;stroke-linecap:butt;stroke-linejoin:miter;stroke:rgb(74.901961%,74.901961%,74.901961%);stroke-opacity:1;stroke-miterlimit:10;\" d=\"M 78.597656 -30.320312 L 89.183594 -29.964844 L 80.683594 -23.640625 Z M 78.597656 -30.320312 \" transform=\"matrix(1,0,0,1,4,115)\"/>\n",
       "<g style=\"fill:rgb(0%,0%,0%);fill-opacity:1;\">\n",
       "  <use xlink:href=\"#glyph1-12\" x=\"29\" y=\"92.699219\"/>\n",
       "  <use xlink:href=\"#glyph1-2\" x=\"35\" y=\"92.699219\"/>\n",
       "  <use xlink:href=\"#glyph1-13\" x=\"40.25\" y=\"92.699219\"/>\n",
       "  <use xlink:href=\"#glyph1-2\" x=\"44\" y=\"92.699219\"/>\n",
       "  <use xlink:href=\"#glyph1-6\" x=\"49.25\" y=\"92.699219\"/>\n",
       "  <use xlink:href=\"#glyph1-10\" x=\"52.25\" y=\"92.699219\"/>\n",
       "  <use xlink:href=\"#glyph1-8\" x=\"58.25\" y=\"92.699219\"/>\n",
       "  <use xlink:href=\"#glyph1-9\" x=\"61.25\" y=\"92.699219\"/>\n",
       "  <use xlink:href=\"#glyph1-14\" x=\"65\" y=\"92.699219\"/>\n",
       "  <use xlink:href=\"#glyph1-11\" x=\"71\" y=\"92.699219\"/>\n",
       "</g>\n",
       "</g>\n",
       "</svg>\n"
      ],
      "text/plain": [
       "<graphviz.graphs.Digraph at 0x7f40d362f070>"
      ]
     },
     "execution_count": 15,
     "metadata": {},
     "output_type": "execute_result"
    }
   ],
   "source": [
    "model.draw()"
   ]
  },
  {
   "cell_type": "code",
   "execution_count": 16,
   "metadata": {},
   "outputs": [
    {
     "name": "stdout",
     "output_type": "stream",
     "text": [
      "(True, 0)\n"
     ]
    },
    {
     "data": {
      "text/plain": [
       "==========================================================================================\n",
       "Layer (type:depth-idx)                   Output Shape              Param #\n",
       "==========================================================================================\n",
       "TTNModel                                 [64, 3]                   51\n",
       "==========================================================================================\n",
       "Total params: 51\n",
       "Trainable params: 51\n",
       "Non-trainable params: 0\n",
       "Total mult-adds (M): 0\n",
       "==========================================================================================\n",
       "Input size (MB): 0.00\n",
       "Forward/backward pass size (MB): 0.00\n",
       "Params size (MB): 0.00\n",
       "Estimated Total Size (MB): 0.00\n",
       "=========================================================================================="
      ]
     },
     "execution_count": 16,
     "metadata": {},
     "output_type": "execute_result"
    }
   ],
   "source": [
    "print(check_correct_init(model))\n",
    "summary(model, input_size=(BATCH_SIZE, features, MAP_DIM), dtypes=[DTYPE], device=DEVICE)"
   ]
  },
  {
   "cell_type": "code",
   "execution_count": 17,
   "metadata": {},
   "outputs": [],
   "source": [
    "LR = 0.02\n",
    "EPOCHS = 80\n",
    "LAMBDA = 0.1\n",
    "SCHEDULER_STEPS = 5\n",
    "\n",
    "\n",
    "model.train()\n",
    "model.to(DEVICE)\n",
    "optimizer = torch.optim.Adam(model.parameters(), lr=LR)\n",
    "schedulers = [torch.optim.lr_scheduler.ExponentialLR(optimizer, 0.9, last_epoch=-1, verbose=False), torch.optim.lr_scheduler.CosineAnnealingLR(optimizer, 10, eta_min=1e-5)]\n",
    "scheduler = schedulers[0]"
   ]
  },
  {
   "cell_type": "code",
   "execution_count": 18,
   "metadata": {},
   "outputs": [
    {
     "name": "stderr",
     "output_type": "stream",
     "text": [
      "epochs:   0%|          | 0/80 [00:00<?, ?it/s]"
     ]
    },
    {
     "name": "stderr",
     "output_type": "stream",
     "text": [
      "100%|██████████| 2/2 [00:00<00:00,  5.82it/s, current loss=0.538, batches -10-0 loss=0, epoch mean loss=0.581]\n",
      "100%|██████████| 2/2 [00:00<00:00,  7.02it/s, current loss=0.45, batches -10-0 loss=0, epoch mean loss=0.47]\n",
      "100%|██████████| 2/2 [00:00<00:00,  6.83it/s, current loss=0.401, batches -10-0 loss=0, epoch mean loss=0.411]\n",
      "100%|██████████| 2/2 [00:00<00:00,  6.80it/s, current loss=0.366, batches -10-0 loss=0, epoch mean loss=0.373]\n",
      "100%|██████████| 2/2 [00:00<00:00,  6.85it/s, current loss=0.33, batches -10-0 loss=0, epoch mean loss=0.34]\n",
      "100%|██████████| 2/2 [00:00<00:00,  7.20it/s, current loss=0.292, batches -10-0 loss=0, epoch mean loss=0.304]\n",
      "100%|██████████| 2/2 [00:00<00:00,  7.08it/s, current loss=0.254, batches -10-0 loss=0, epoch mean loss=0.267]\n",
      "100%|██████████| 2/2 [00:00<00:00,  6.99it/s, current loss=0.216, batches -10-0 loss=0, epoch mean loss=0.231]\n",
      "100%|██████████| 2/2 [00:00<00:00,  6.81it/s, current loss=0.184, batches -10-0 loss=0, epoch mean loss=0.198]\n",
      "100%|██████████| 2/2 [00:00<00:00,  7.07it/s, current loss=0.152, batches -10-0 loss=0, epoch mean loss=0.167]\n",
      "100%|██████████| 2/2 [00:00<00:00,  7.04it/s, current loss=0.115, batches -10-0 loss=0, epoch mean loss=0.131]\n",
      "100%|██████████| 2/2 [00:00<00:00,  6.94it/s, current loss=0.0851, batches -10-0 loss=0, epoch mean loss=0.0964]\n",
      "100%|██████████| 2/2 [00:00<00:00,  6.83it/s, current loss=0.0817, batches -10-0 loss=0, epoch mean loss=0.0844]\n",
      "100%|██████████| 2/2 [00:00<00:00,  7.07it/s, current loss=0.0835, batches -10-0 loss=0, epoch mean loss=0.0915]\n",
      "100%|██████████| 2/2 [00:00<00:00,  7.05it/s, current loss=0.0659, batches -10-0 loss=0, epoch mean loss=0.0754]\n",
      "100%|██████████| 2/2 [00:00<00:00,  7.10it/s, current loss=0.0613, batches -10-0 loss=0, epoch mean loss=0.067]\n",
      "100%|██████████| 2/2 [00:00<00:00,  7.01it/s, current loss=0.0586, batches -10-0 loss=0, epoch mean loss=0.065]\n",
      "100%|██████████| 2/2 [00:00<00:00,  7.00it/s, current loss=0.0558, batches -10-0 loss=0, epoch mean loss=0.061]\n",
      "100%|██████████| 2/2 [00:00<00:00,  7.04it/s, current loss=0.0549, batches -10-0 loss=0, epoch mean loss=0.058]\n",
      "100%|██████████| 2/2 [00:00<00:00,  6.94it/s, current loss=0.0544, batches -10-0 loss=0, epoch mean loss=0.0564]\n",
      "100%|██████████| 2/2 [00:00<00:00,  7.14it/s, current loss=0.0517, batches -10-0 loss=0, epoch mean loss=0.0536]\n",
      "100%|██████████| 2/2 [00:00<00:00,  6.86it/s, current loss=0.0467, batches -10-0 loss=0, epoch mean loss=0.0489]\n",
      "100%|██████████| 2/2 [00:00<00:00,  7.01it/s, current loss=0.0412, batches -10-0 loss=0, epoch mean loss=0.0436]\n",
      "100%|██████████| 2/2 [00:00<00:00,  7.05it/s, current loss=0.037, batches -10-0 loss=0, epoch mean loss=0.0398]\n",
      "100%|██████████| 2/2 [00:00<00:00,  6.94it/s, current loss=0.0341, batches -10-0 loss=0, epoch mean loss=0.0377]\n",
      "100%|██████████| 2/2 [00:00<00:00,  6.92it/s, current loss=0.0323, batches -10-0 loss=0, epoch mean loss=0.0357]\n",
      "100%|██████████| 2/2 [00:00<00:00,  6.38it/s, current loss=0.0316, batches -10-0 loss=0, epoch mean loss=0.034]\n",
      "100%|██████████| 2/2 [00:00<00:00,  6.94it/s, current loss=0.0314, batches -10-0 loss=0, epoch mean loss=0.0326]\n",
      "100%|██████████| 2/2 [00:00<00:00,  6.83it/s, current loss=0.0302, batches -10-0 loss=0, epoch mean loss=0.0309]\n",
      "100%|██████████| 2/2 [00:00<00:00,  6.65it/s, current loss=0.0282, batches -10-0 loss=0, epoch mean loss=0.0287]\n",
      "100%|██████████| 2/2 [00:00<00:00,  5.88it/s, current loss=0.0266, batches -10-0 loss=0, epoch mean loss=0.0272]\n",
      "100%|██████████| 2/2 [00:00<00:00,  7.00it/s, current loss=0.0254, batches -10-0 loss=0, epoch mean loss=0.0264]\n",
      "100%|██████████| 2/2 [00:00<00:00,  6.88it/s, current loss=0.0247, batches -10-0 loss=0, epoch mean loss=0.0256]\n",
      "100%|██████████| 2/2 [00:00<00:00,  6.90it/s, current loss=0.0241, batches -10-0 loss=0, epoch mean loss=0.0247]\n",
      "100%|██████████| 2/2 [00:00<00:00,  6.86it/s, current loss=0.0237, batches -10-0 loss=0, epoch mean loss=0.0238]\n",
      "100%|██████████| 2/2 [00:00<00:00,  6.84it/s, current loss=0.0232, batches -10-0 loss=0, epoch mean loss=0.0229]\n",
      "100%|██████████| 2/2 [00:00<00:00,  6.82it/s, current loss=0.0225, batches -10-0 loss=0, epoch mean loss=0.0221]\n",
      "100%|██████████| 2/2 [00:00<00:00,  6.73it/s, current loss=0.0217, batches -10-0 loss=0, epoch mean loss=0.0214]\n",
      "100%|██████████| 2/2 [00:00<00:00,  6.45it/s, current loss=0.0209, batches -10-0 loss=0, epoch mean loss=0.0209]\n",
      "100%|██████████| 2/2 [00:00<00:00,  6.87it/s, current loss=0.0203, batches -10-0 loss=0, epoch mean loss=0.0205]\n",
      "100%|██████████| 2/2 [00:00<00:00,  6.05it/s, current loss=0.0199, batches -10-0 loss=0, epoch mean loss=0.02]\n",
      "100%|██████████| 2/2 [00:00<00:00,  6.70it/s, current loss=0.0197, batches -10-0 loss=0, epoch mean loss=0.0196]\n",
      "100%|██████████| 2/2 [00:00<00:00,  6.91it/s, current loss=0.0195, batches -10-0 loss=0, epoch mean loss=0.0192]\n",
      "100%|██████████| 2/2 [00:00<00:00,  6.74it/s, current loss=0.0192, batches -10-0 loss=0, epoch mean loss=0.0188]\n",
      "100%|██████████| 2/2 [00:00<00:00,  6.71it/s, current loss=0.0188, batches -10-0 loss=0, epoch mean loss=0.0185]\n",
      "100%|██████████| 2/2 [00:00<00:00,  6.29it/s, current loss=0.0184, batches -10-0 loss=0, epoch mean loss=0.0182]\n",
      "100%|██████████| 2/2 [00:00<00:00,  6.73it/s, current loss=0.0181, batches -10-0 loss=0, epoch mean loss=0.018]\n",
      "100%|██████████| 2/2 [00:00<00:00,  6.45it/s, current loss=0.0178, batches -10-0 loss=0, epoch mean loss=0.0178]\n",
      "100%|██████████| 2/2 [00:00<00:00,  6.40it/s, current loss=0.0177, batches -10-0 loss=0, epoch mean loss=0.0176]\n",
      "100%|██████████| 2/2 [00:00<00:00,  6.45it/s, current loss=0.0176, batches -10-0 loss=0, epoch mean loss=0.0174]\n",
      "100%|██████████| 2/2 [00:00<00:00,  6.94it/s, current loss=0.0175, batches -10-0 loss=0, epoch mean loss=0.0172]\n",
      "100%|██████████| 2/2 [00:00<00:00,  7.05it/s, current loss=0.0174, batches -10-0 loss=0, epoch mean loss=0.017]\n",
      "100%|██████████| 2/2 [00:00<00:00,  7.06it/s, current loss=0.0172, batches -10-0 loss=0, epoch mean loss=0.0168]\n",
      "100%|██████████| 2/2 [00:00<00:00,  6.37it/s, current loss=0.017, batches -10-0 loss=0, epoch mean loss=0.0167]\n",
      "100%|██████████| 2/2 [00:00<00:00,  6.40it/s, current loss=0.0169, batches -10-0 loss=0, epoch mean loss=0.0166]\n",
      "100%|██████████| 2/2 [00:00<00:00,  6.52it/s, current loss=0.0168, batches -10-0 loss=0, epoch mean loss=0.0164]\n",
      "100%|██████████| 2/2 [00:00<00:00,  6.77it/s, current loss=0.0167, batches -10-0 loss=0, epoch mean loss=0.0163]\n",
      "100%|██████████| 2/2 [00:00<00:00,  6.66it/s, current loss=0.0167, batches -10-0 loss=0, epoch mean loss=0.0162]\n",
      "100%|██████████| 2/2 [00:00<00:00,  6.70it/s, current loss=0.0166, batches -10-0 loss=0, epoch mean loss=0.0161]\n",
      "100%|██████████| 2/2 [00:00<00:00,  6.70it/s, current loss=0.0165, batches -10-0 loss=0, epoch mean loss=0.016]\n",
      "100%|██████████| 2/2 [00:00<00:00,  6.91it/s, current loss=0.0163, batches -10-0 loss=0, epoch mean loss=0.0159]\n",
      "100%|██████████| 2/2 [00:00<00:00,  6.84it/s, current loss=0.0163, batches -10-0 loss=0, epoch mean loss=0.0158]\n",
      "100%|██████████| 2/2 [00:00<00:00,  6.88it/s, current loss=0.0162, batches -10-0 loss=0, epoch mean loss=0.0158]\n",
      "100%|██████████| 2/2 [00:00<00:00,  6.94it/s, current loss=0.0161, batches -10-0 loss=0, epoch mean loss=0.0157]\n",
      "100%|██████████| 2/2 [00:00<00:00,  6.99it/s, current loss=0.0161, batches -10-0 loss=0, epoch mean loss=0.0156]\n",
      "100%|██████████| 2/2 [00:00<00:00,  6.88it/s, current loss=0.016, batches -10-0 loss=0, epoch mean loss=0.0155]\n",
      "100%|██████████| 2/2 [00:00<00:00,  6.88it/s, current loss=0.0159, batches -10-0 loss=0, epoch mean loss=0.0155]\n",
      "100%|██████████| 2/2 [00:00<00:00,  6.76it/s, current loss=0.0159, batches -10-0 loss=0, epoch mean loss=0.0154]\n",
      "100%|██████████| 2/2 [00:00<00:00,  6.92it/s, current loss=0.0158, batches -10-0 loss=0, epoch mean loss=0.0153]\n",
      "100%|██████████| 2/2 [00:00<00:00,  6.69it/s, current loss=0.0157, batches -10-0 loss=0, epoch mean loss=0.0153]\n",
      "100%|██████████| 2/2 [00:00<00:00,  6.63it/s, current loss=0.0157, batches -10-0 loss=0, epoch mean loss=0.0152]\n",
      "100%|██████████| 2/2 [00:00<00:00,  6.79it/s, current loss=0.0156, batches -10-0 loss=0, epoch mean loss=0.0152]\n",
      "100%|██████████| 2/2 [00:00<00:00,  6.76it/s, current loss=0.0156, batches -10-0 loss=0, epoch mean loss=0.0151]\n",
      "100%|██████████| 2/2 [00:00<00:00,  6.14it/s, current loss=0.0156, batches -10-0 loss=0, epoch mean loss=0.0151]\n",
      "100%|██████████| 2/2 [00:00<00:00,  6.96it/s, current loss=0.0155, batches -10-0 loss=0, epoch mean loss=0.015]\n",
      "100%|██████████| 2/2 [00:00<00:00,  6.62it/s, current loss=0.0154, batches -10-0 loss=0, epoch mean loss=0.015]\n",
      "100%|██████████| 2/2 [00:00<00:00,  6.11it/s, current loss=0.0154, batches -10-0 loss=0, epoch mean loss=0.0149]\n",
      "100%|██████████| 2/2 [00:00<00:00,  6.67it/s, current loss=0.0154, batches -10-0 loss=0, epoch mean loss=0.0149]\n",
      "100%|██████████| 2/2 [00:00<00:00,  6.72it/s, current loss=0.0153, batches -10-0 loss=0, epoch mean loss=0.0149]\n",
      "100%|██████████| 2/2 [00:00<00:00,  6.94it/s, current loss=0.0153, batches -10-0 loss=0, epoch mean loss=0.0148]\n",
      "epochs: 100%|██████████| 80/80 [00:44<00:00,  1.78it/s]\n"
     ]
    }
   ],
   "source": [
    "\n",
    "tot_loss_history = []\n",
    "now = datetime.now()\n",
    "for epoch in trange(EPOCHS, desc='epochs', position=0):\n",
    "    loss_history = train_one_epoch(model, DEVICE, train_dl, lambda *x: class_loss(*x, l=LAMBDA), optimizer)\n",
    "    tot_loss_history += loss_history\n",
    "    if epoch % SCHEDULER_STEPS == SCHEDULER_STEPS-1:\n",
    "        scheduler.step()\n",
    "\n",
    "model.center=None    \n",
    "loss_history = np.array(tot_loss_history)"
   ]
  },
  {
   "cell_type": "code",
   "execution_count": 19,
   "metadata": {},
   "outputs": [
    {
     "name": "stderr",
     "output_type": "stream",
     "text": [
      "test:   0%|          | 0/1 [00:00<?, ?it/s]"
     ]
    },
    {
     "name": "stderr",
     "output_type": "stream",
     "text": [
      "test: 100%|██████████| 1/1 [00:00<00:00,  2.31it/s]\n",
      "train: 100%|██████████| 2/2 [00:00<00:00,  6.73it/s]\n"
     ]
    },
    {
     "data": {
      "text/plain": [
       "(0.9833333333333333, 0.8666666666666667)"
      ]
     },
     "execution_count": 19,
     "metadata": {},
     "output_type": "execute_result"
    }
   ],
   "source": [
    "accuracy(model, DEVICE, train_dl, test_dl, DTYPE)"
   ]
  },
  {
   "cell_type": "code",
   "execution_count": 20,
   "metadata": {},
   "outputs": [
    {
     "data": {
      "image/svg+xml": [
       "<?xml version=\"1.0\" encoding=\"UTF-8\"?>\n",
       "<svg xmlns=\"http://www.w3.org/2000/svg\" xmlns:xlink=\"http://www.w3.org/1999/xlink\" width=\"299pt\" height=\"119pt\" viewBox=\"0 0 299 119\" version=\"1.1\">\n",
       "<defs>\n",
       "<g>\n",
       "<symbol overflow=\"visible\" id=\"glyph0-0\">\n",
       "<path style=\"stroke:none;\" d=\"M 0.546875 2 L 0.546875 -8 L 6.046875 -8 L 6.046875 2 Z M 1.171875 1 L 5.4375 1 L 5.4375 -7 L 1.171875 -7 Z M 1.171875 1 \"/>\n",
       "</symbol>\n",
       "<symbol overflow=\"visible\" id=\"glyph0-1\">\n",
       "<path style=\"stroke:none;\" d=\"M 3.5 -1 C 4.050781 -1 4.460938 -1.25 4.734375 -1.75 C 5.003906 -2.25 5.140625 -3 5.140625 -4 C 5.140625 -5.007812 5.003906 -5.757812 4.734375 -6.25 C 4.460938 -6.75 4.050781 -7 3.5 -7 C 2.945312 -7 2.535156 -6.75 2.265625 -6.25 C 1.992188 -5.757812 1.859375 -5.007812 1.859375 -4 C 1.859375 -3 1.992188 -2.25 2.265625 -1.75 C 2.535156 -1.25 2.945312 -1 3.5 -1 Z M 3.5 0 C 2.625 0 1.941406 -0.347656 1.453125 -1.046875 C 0.960938 -1.753906 0.71875 -2.738281 0.71875 -4 C 0.71875 -5.257812 0.960938 -6.238281 1.453125 -6.9375 C 1.941406 -7.644531 2.625 -8 3.5 -8 C 4.363281 -8 5.039062 -7.644531 5.53125 -6.9375 C 6.019531 -6.238281 6.265625 -5.257812 6.265625 -4 C 6.265625 -2.738281 6.019531 -1.753906 5.53125 -1.046875 C 5.039062 -0.347656 4.363281 0 3.5 0 Z M 3.5 0 \"/>\n",
       "</symbol>\n",
       "<symbol overflow=\"visible\" id=\"glyph0-2\">\n",
       "<path style=\"stroke:none;\" d=\"M 1.03125 -0.5 C 1.03125 -0.832031 1.097656 -1 1.234375 -1 C 1.367188 -1 1.539062 -1 1.75 -1 C 1.945312 -1 2.113281 -1 2.25 -1 C 2.394531 -1 2.46875 -0.832031 2.46875 -0.5 C 2.46875 -0.164062 2.394531 0 2.25 0 C 2.113281 0 1.945312 0 1.75 0 C 1.539062 0 1.367188 0 1.234375 0 C 1.097656 0 1.03125 -0.164062 1.03125 -0.5 Z M 1.03125 -0.5 \"/>\n",
       "</symbol>\n",
       "<symbol overflow=\"visible\" id=\"glyph0-3\">\n",
       "<path style=\"stroke:none;\" d=\"M 1.5625 0 L 1.5625 -1 L 2.953125 -1 L 2.953125 -7.265625 L 1.34375 -6.328125 L 1.34375 -7 L 3.296875 -8 L 4.046875 -8 L 4.046875 -1 L 5.4375 -1 L 5.4375 0 Z M 1.5625 0 \"/>\n",
       "</symbol>\n",
       "<symbol overflow=\"visible\" id=\"glyph1-0\">\n",
       "<path style=\"stroke:none;\" d=\"M 0.453125 2 L 0.453125 -6 L 4.953125 -6 L 4.953125 2 Z M 0.953125 1 L 4.453125 1 L 4.453125 -5 L 0.953125 -5 Z M 0.953125 1 \"/>\n",
       "</symbol>\n",
       "<symbol overflow=\"visible\" id=\"glyph1-1\">\n",
       "<path style=\"stroke:none;\" d=\"M 1.84375 -1 L 2.609375 -1 L 2.609375 0 L 0.265625 0 L 0.265625 -1 L 1.03125 -1 L 1.03125 -7 L 0.265625 -7 L 0.265625 -8 L 1.84375 -8 Z M 1.84375 -1 \"/>\n",
       "</symbol>\n",
       "<symbol overflow=\"visible\" id=\"glyph1-2\">\n",
       "<path style=\"stroke:none;\" d=\"M 3.578125 -1.5 L 3.578125 -2 L 2.546875 -2 C 2.140625 -2 1.835938 -1.957031 1.640625 -1.875 C 1.441406 -1.789062 1.34375 -1.664062 1.34375 -1.5 C 1.34375 -1.34375 1.441406 -1.21875 1.640625 -1.125 C 1.835938 -1.039062 2.109375 -1 2.453125 -1 C 2.785156 -1 3.054688 -1.046875 3.265625 -1.140625 C 3.472656 -1.234375 3.578125 -1.351562 3.578125 -1.5 Z M 4.390625 -2.984375 L 4.390625 -1 L 5.109375 -1 L 5.109375 0 L 3.578125 0 L 3.578125 -1.015625 C 3.398438 -0.671875 3.191406 -0.414062 2.953125 -0.25 C 2.722656 -0.0820312 2.453125 0 2.140625 0 C 1.617188 0 1.207031 -0.132812 0.90625 -0.40625 C 0.601562 -0.675781 0.453125 -1.039062 0.453125 -1.5 C 0.453125 -1.976562 0.625 -2.347656 0.96875 -2.609375 C 1.320312 -2.867188 1.816406 -3 2.453125 -3 L 3.578125 -3 L 3.578125 -4.125 C 3.578125 -4.082031 3.46875 -4.050781 3.25 -4.03125 C 3.039062 -4.007812 2.738281 -4 2.34375 -4 C 2.019531 -4 1.765625 -4.082031 1.578125 -4.25 C 1.390625 -4.414062 1.269531 -4.664062 1.21875 -5 L 0.8125 -5 C 1.09375 -5 1.363281 -5 1.625 -5 C 1.894531 -5 2.15625 -5 2.40625 -5 C 3.050781 -5 3.539062 -4.828125 3.875 -4.484375 C 4.21875 -4.140625 4.390625 -3.640625 4.390625 -2.984375 Z M 4.390625 -2.984375 \"/>\n",
       "</symbol>\n",
       "<symbol overflow=\"visible\" id=\"glyph1-3\">\n",
       "<path style=\"stroke:none;\" d=\"M 1.03125 -1 L 1.03125 -7 L 0.265625 -7 L 0.265625 -8 L 1.84375 -8 L 1.84375 -3.71875 C 2 -4.15625 2.195312 -4.476562 2.4375 -4.6875 C 2.6875 -4.894531 2.992188 -5 3.359375 -5 C 3.929688 -5 4.398438 -4.769531 4.765625 -4.3125 C 5.128906 -3.851562 5.3125 -3.25 5.3125 -2.5 C 5.3125 -1.757812 5.128906 -1.15625 4.765625 -0.6875 C 4.398438 -0.226562 3.929688 0 3.359375 0 C 2.992188 0 2.6875 -0.0976562 2.4375 -0.296875 C 2.195312 -0.492188 2 -0.796875 1.84375 -1.203125 L 1.84375 0 L 0.265625 0 L 0.265625 -1 Z M 1.84375 -2.28125 C 1.84375 -1.863281 1.945312 -1.546875 2.15625 -1.328125 C 2.375 -1.109375 2.691406 -1 3.109375 -1 C 3.515625 -1 3.820312 -1.125 4.03125 -1.375 C 4.25 -1.632812 4.359375 -2.007812 4.359375 -2.5 C 4.359375 -3 4.25 -3.375 4.03125 -3.625 C 3.820312 -3.875 3.515625 -4 3.109375 -4 C 2.691406 -4 2.375 -3.878906 2.15625 -3.640625 C 1.945312 -3.410156 1.84375 -3.078125 1.84375 -2.640625 Z M 1.84375 -2.28125 \"/>\n",
       "</symbol>\n",
       "<symbol overflow=\"visible\" id=\"glyph1-4\">\n",
       "<path style=\"stroke:none;\" d=\"M 4.875 -2 L 1.390625 -2 L 1.390625 -1.953125 C 1.390625 -1.640625 1.507812 -1.398438 1.75 -1.234375 C 1.988281 -1.078125 2.335938 -1 2.796875 -1 C 3.148438 -1 3.441406 -1 3.671875 -1 C 3.898438 -1 4.0625 -1 4.15625 -1 L 4.796875 -1 C 4.671875 -0.664062 4.429688 -0.414062 4.078125 -0.25 C 3.734375 -0.0820312 3.28125 0 2.71875 0 C 2.03125 0 1.476562 -0.226562 1.0625 -0.6875 C 0.65625 -1.144531 0.453125 -1.75 0.453125 -2.5 C 0.453125 -3.25 0.65625 -3.851562 1.0625 -4.3125 C 1.46875 -4.769531 2 -5 2.65625 -5 C 3.363281 -5 3.90625 -4.742188 4.28125 -4.234375 C 4.664062 -3.722656 4.863281 -2.976562 4.875 -2 Z M 3.921875 -3 C 3.898438 -3.332031 3.785156 -3.582031 3.578125 -3.75 C 3.367188 -3.914062 3.0625 -4 2.65625 -4 C 2.289062 -4 2 -3.914062 1.78125 -3.75 C 1.570312 -3.582031 1.441406 -3.332031 1.390625 -3 Z M 3.921875 -3 \"/>\n",
       "</symbol>\n",
       "<symbol overflow=\"visible\" id=\"glyph1-5\">\n",
       "<path style=\"stroke:none;\" d=\"M 1.28125 0 L 1.28125 -1 L 2.421875 -1 L 2.421875 -6.265625 L 1.09375 -5.4375 L 1.09375 -6 L 2.703125 -7 L 3.3125 -7 L 3.3125 -1 L 4.453125 -1 L 4.453125 0 Z M 1.28125 0 \"/>\n",
       "</symbol>\n",
       "<symbol overflow=\"visible\" id=\"glyph1-6\">\n",
       "<path style=\"stroke:none;\" d=\"M 0.84375 -0.5 C 0.84375 -0.832031 0.898438 -1 1.015625 -1 C 1.128906 -1 1.269531 -1 1.4375 -1 C 1.59375 -1 1.726562 -1 1.84375 -1 C 1.957031 -1 2.015625 -0.832031 2.015625 -0.5 C 2.015625 -0.164062 1.957031 0 1.84375 0 C 1.726562 0 1.59375 0 1.4375 0 C 1.269531 0 1.128906 0 1.015625 0 C 0.898438 0 0.84375 -0.164062 0.84375 -0.5 Z M 0.84375 -0.5 \"/>\n",
       "</symbol>\n",
       "<symbol overflow=\"visible\" id=\"glyph1-7\">\n",
       "<path style=\"stroke:none;\" d=\"M 2.859375 -1 C 3.304688 -1 3.640625 -1.207031 3.859375 -1.625 C 4.085938 -2.039062 4.203125 -2.664062 4.203125 -3.5 C 4.203125 -4.332031 4.085938 -4.957031 3.859375 -5.375 C 3.640625 -5.789062 3.304688 -6 2.859375 -6 C 2.410156 -6 2.070312 -5.789062 1.84375 -5.375 C 1.625 -4.957031 1.515625 -4.332031 1.515625 -3.5 C 1.515625 -2.664062 1.625 -2.039062 1.84375 -1.625 C 2.070312 -1.207031 2.410156 -1 2.859375 -1 Z M 2.859375 0 C 2.148438 0 1.59375 -0.304688 1.1875 -0.921875 C 0.789062 -1.535156 0.59375 -2.394531 0.59375 -3.5 C 0.59375 -4.601562 0.789062 -5.460938 1.1875 -6.078125 C 1.59375 -6.691406 2.148438 -7 2.859375 -7 C 3.578125 -7 4.132812 -6.691406 4.53125 -6.078125 C 4.925781 -5.460938 5.125 -4.601562 5.125 -3.5 C 5.125 -2.394531 4.925781 -1.535156 4.53125 -0.921875 C 4.132812 -0.304688 3.578125 0 2.859375 0 Z M 2.859375 0 \"/>\n",
       "</symbol>\n",
       "<symbol overflow=\"visible\" id=\"glyph1-8\">\n",
       "<path style=\"stroke:none;\" d=\"\"/>\n",
       "</symbol>\n",
       "<symbol overflow=\"visible\" id=\"glyph1-9\">\n",
       "<path style=\"stroke:none;\" d=\"M 0.78125 -8 L 2.8125 -8 L 2.8125 -7 L 1.609375 -7 L 1.609375 -1 L 2.8125 -1 L 2.8125 0 L 0.78125 0 Z M 0.78125 -8 \"/>\n",
       "</symbol>\n",
       "<symbol overflow=\"visible\" id=\"glyph1-10\">\n",
       "<path style=\"stroke:none;\" d=\"M 0.875 -6 C 1.21875 -6.320312 1.546875 -6.566406 1.859375 -6.734375 C 2.179688 -6.910156 2.476562 -7 2.75 -7 C 3.394531 -7 3.894531 -6.84375 4.25 -6.53125 C 4.613281 -6.226562 4.796875 -5.804688 4.796875 -5.265625 C 4.796875 -4.816406 4.671875 -4.445312 4.421875 -4.15625 C 4.171875 -3.863281 3.816406 -3.664062 3.359375 -3.5625 C 3.898438 -3.488281 4.316406 -3.300781 4.609375 -3 C 4.910156 -2.695312 5.0625 -2.304688 5.0625 -1.828125 C 5.0625 -1.234375 4.851562 -0.78125 4.4375 -0.46875 C 4.03125 -0.15625 3.441406 0 2.671875 0 C 2.328125 0 1.988281 -0.0820312 1.65625 -0.25 C 1.332031 -0.414062 1.007812 -0.664062 0.6875 -1 L 0.6875 -2 L 1.171875 -2 C 1.203125 -1.664062 1.34375 -1.414062 1.59375 -1.25 C 1.851562 -1.082031 2.210938 -1 2.671875 -1 C 3.117188 -1 3.472656 -1.082031 3.734375 -1.25 C 3.992188 -1.425781 4.125 -1.664062 4.125 -1.96875 C 4.125 -2.300781 3.988281 -2.554688 3.71875 -2.734375 C 3.457031 -2.910156 3.070312 -3 2.5625 -3 L 2.140625 -3 L 2.140625 -4 L 2.359375 -4 C 2.867188 -4 3.25 -4.082031 3.5 -4.25 C 3.757812 -4.425781 3.890625 -4.6875 3.890625 -5.03125 C 3.890625 -5.34375 3.785156 -5.582031 3.578125 -5.75 C 3.367188 -5.914062 3.066406 -6 2.671875 -6 C 2.273438 -6 1.96875 -5.914062 1.75 -5.75 C 1.53125 -5.582031 1.398438 -5.332031 1.359375 -5 L 0.875 -5 Z M 0.875 -6 \"/>\n",
       "</symbol>\n",
       "<symbol overflow=\"visible\" id=\"glyph1-11\">\n",
       "<path style=\"stroke:none;\" d=\"M 2.734375 -8 L 2.734375 0 L 0.6875 0 L 0.6875 -1 L 1.90625 -1 L 1.90625 -7 L 0.6875 -7 L 0.6875 -8 Z M 2.734375 -8 \"/>\n",
       "</symbol>\n",
       "<symbol overflow=\"visible\" id=\"glyph1-12\">\n",
       "<path style=\"stroke:none;\" d=\"M 4.71875 -1 L 5.5 -1 L 5.5 0 L 3.921875 0 L 3.921875 -1.203125 C 3.765625 -0.796875 3.5625 -0.492188 3.3125 -0.296875 C 3.070312 -0.0976562 2.769531 0 2.40625 0 C 1.832031 0 1.363281 -0.226562 1 -0.6875 C 0.632812 -1.15625 0.453125 -1.757812 0.453125 -2.5 C 0.453125 -3.25 0.632812 -3.851562 1 -4.3125 C 1.363281 -4.769531 1.832031 -5 2.40625 -5 C 2.769531 -5 3.070312 -4.894531 3.3125 -4.6875 C 3.5625 -4.476562 3.765625 -4.15625 3.921875 -3.71875 L 3.921875 -7 L 3.15625 -7 L 3.15625 -8 L 4.71875 -8 Z M 3.921875 -2.28125 L 3.921875 -2.640625 C 3.921875 -3.078125 3.8125 -3.410156 3.59375 -3.640625 C 3.382812 -3.878906 3.070312 -4 2.65625 -4 C 2.238281 -4 1.921875 -3.875 1.703125 -3.625 C 1.492188 -3.375 1.390625 -3 1.390625 -2.5 C 1.390625 -2.007812 1.492188 -1.632812 1.703125 -1.375 C 1.921875 -1.125 2.238281 -1 2.65625 -1 C 3.070312 -1 3.382812 -1.109375 3.59375 -1.328125 C 3.8125 -1.546875 3.921875 -1.863281 3.921875 -2.28125 Z M 3.921875 -2.28125 \"/>\n",
       "</symbol>\n",
       "<symbol overflow=\"visible\" id=\"glyph1-13\">\n",
       "<path style=\"stroke:none;\" d=\"M 0.96875 -4 L 0.265625 -4 L 0.265625 -5 L 0.96875 -5 L 0.96875 -6 L 1.78125 -6 L 1.78125 -5 L 3.3125 -5 L 3.3125 -4 L 1.78125 -4 L 1.78125 -2.09375 C 1.78125 -1.625 1.816406 -1.320312 1.890625 -1.1875 C 1.972656 -1.0625 2.113281 -1 2.3125 -1 C 2.53125 -1 2.6875 -1.078125 2.78125 -1.234375 C 2.875 -1.390625 2.925781 -1.644531 2.9375 -2 L 3.546875 -2 C 3.523438 -1.300781 3.410156 -0.789062 3.203125 -0.46875 C 2.992188 -0.15625 2.675781 0 2.25 0 C 1.78125 0 1.445312 -0.15625 1.25 -0.46875 C 1.0625 -0.789062 0.96875 -1.332031 0.96875 -2.09375 Z M 0.96875 -4 \"/>\n",
       "</symbol>\n",
       "<symbol overflow=\"visible\" id=\"glyph1-14\">\n",
       "<path style=\"stroke:none;\" d=\"M 1.15625 -5 L 0.65625 -5 L 0.65625 -6 C 0.96875 -6.320312 1.28125 -6.566406 1.59375 -6.734375 C 1.914062 -6.910156 2.226562 -7 2.53125 -7 C 3.21875 -7 3.757812 -6.832031 4.15625 -6.5 C 4.550781 -6.175781 4.75 -5.734375 4.75 -5.171875 C 4.75 -4.535156 4.300781 -3.773438 3.40625 -2.890625 C 3.332031 -2.816406 3.28125 -2.765625 3.25 -2.734375 L 1.59375 -1 L 4.328125 -1 L 4.328125 -2 L 4.84375 -2 L 4.84375 0 L 0.609375 0 L 0.609375 -0.546875 L 2.609375 -2.8125 C 3.046875 -3.1875 3.359375 -3.523438 3.546875 -3.828125 C 3.734375 -4.140625 3.828125 -4.46875 3.828125 -4.8125 C 3.828125 -5.1875 3.710938 -5.476562 3.484375 -5.6875 C 3.253906 -5.894531 2.9375 -6 2.53125 -6 C 2.113281 -6 1.789062 -5.914062 1.5625 -5.75 C 1.332031 -5.582031 1.195312 -5.332031 1.15625 -5 Z M 1.15625 -5 \"/>\n",
       "</symbol>\n",
       "</g>\n",
       "</defs>\n",
       "<g id=\"surface1\">\n",
       "<path style=\"fill-rule:nonzero;fill:rgb(85.098039%,12.156863%,7.843137%);fill-opacity:1;stroke-width:4;stroke-linecap:butt;stroke-linejoin:miter;stroke:rgb(67.843137%,9.411765%,6.27451%);stroke-opacity:1;stroke-miterlimit:10;\" d=\"M 207 -55.5 C 207 -48.597656 201.402344 -43 194.5 -43 C 187.597656 -43 182 -48.597656 182 -55.5 C 182 -62.402344 187.597656 -68 194.5 -68 C 201.402344 -68 207 -62.402344 207 -55.5 \" transform=\"matrix(1,0,0,1,4,115)\"/>\n",
       "<g style=\"fill:rgb(0%,0%,0%);fill-opacity:1;\">\n",
       "  <use xlink:href=\"#glyph0-1\" x=\"189.5\" y=\"62.300781\"/>\n",
       "  <use xlink:href=\"#glyph0-2\" x=\"196.25\" y=\"62.300781\"/>\n",
       "  <use xlink:href=\"#glyph0-1\" x=\"200\" y=\"62.300781\"/>\n",
       "</g>\n",
       "<path style=\"fill:none;stroke-width:1;stroke-linecap:butt;stroke-linejoin:miter;stroke:rgb(74.901961%,74.901961%,74.901961%);stroke-opacity:1;stroke-miterlimit:10;\" d=\"M 207.25 -55.5 C 219.792969 -55.5 239.957031 -55.5 255.472656 -55.5 \" transform=\"matrix(1,0,0,1,4,115)\"/>\n",
       "<path style=\"fill-rule:nonzero;fill:rgb(74.901961%,74.901961%,74.901961%);fill-opacity:1;stroke-width:1;stroke-linecap:butt;stroke-linejoin:miter;stroke:rgb(74.901961%,74.901961%,74.901961%);stroke-opacity:1;stroke-miterlimit:10;\" d=\"M 255.773438 -59 L 265.773438 -55.5 L 255.773438 -52 Z M 255.773438 -59 \" transform=\"matrix(1,0,0,1,4,115)\"/>\n",
       "<g style=\"fill:rgb(0%,0%,0%);fill-opacity:1;\">\n",
       "  <use xlink:href=\"#glyph1-1\" x=\"229\" y=\"56.699219\"/>\n",
       "  <use xlink:href=\"#glyph1-2\" x=\"232\" y=\"56.699219\"/>\n",
       "  <use xlink:href=\"#glyph1-3\" x=\"237.25\" y=\"56.699219\"/>\n",
       "  <use xlink:href=\"#glyph1-4\" x=\"243.25\" y=\"56.699219\"/>\n",
       "  <use xlink:href=\"#glyph1-1\" x=\"248.5\" y=\"56.699219\"/>\n",
       "</g>\n",
       "<path style=\"fill-rule:nonzero;fill:rgb(99.215686%,90.588235%,14.509804%);fill-opacity:1;stroke-width:4;stroke-linecap:butt;stroke-linejoin:miter;stroke:rgb(90.196078%,81.176471%,0.784314%);stroke-opacity:1;stroke-miterlimit:10;\" d=\"M 114 -76.5 C 114 -69.597656 108.402344 -64 101.5 -64 C 94.597656 -64 89 -69.597656 89 -76.5 C 89 -83.402344 94.597656 -89 101.5 -89 C 108.402344 -89 114 -83.402344 114 -76.5 \" transform=\"matrix(1,0,0,1,4,115)\"/>\n",
       "<g style=\"fill:rgb(0%,0%,0%);fill-opacity:1;\">\n",
       "  <use xlink:href=\"#glyph0-3\" x=\"96.5\" y=\"41.300781\"/>\n",
       "  <use xlink:href=\"#glyph0-2\" x=\"103.25\" y=\"41.300781\"/>\n",
       "  <use xlink:href=\"#glyph0-1\" x=\"107\" y=\"41.300781\"/>\n",
       "</g>\n",
       "<path style=\"fill:none;stroke-width:1;stroke-linecap:butt;stroke-linejoin:miter;stroke:rgb(74.901961%,74.901961%,74.901961%);stroke-opacity:1;stroke-miterlimit:10;\" d=\"M 114.023438 -73.839844 C 128.589844 -70.480469 153.941406 -64.628906 172.101562 -60.4375 \" transform=\"matrix(1,0,0,1,4,115)\"/>\n",
       "<path style=\"fill-rule:nonzero;fill:rgb(74.901961%,74.901961%,74.901961%);fill-opacity:1;stroke-width:1;stroke-linecap:butt;stroke-linejoin:miter;stroke:rgb(74.901961%,74.901961%,74.901961%);stroke-opacity:1;stroke-miterlimit:10;\" d=\"M 173.113281 -63.796875 L 182.070312 -58.136719 L 171.539062 -56.976562 Z M 173.113281 -63.796875 \" transform=\"matrix(1,0,0,1,4,115)\"/>\n",
       "<g style=\"fill:rgb(0%,0%,0%);fill-opacity:1;\">\n",
       "  <use xlink:href=\"#glyph1-5\" x=\"136\" y=\"43.699219\"/>\n",
       "  <use xlink:href=\"#glyph1-6\" x=\"142\" y=\"43.699219\"/>\n",
       "  <use xlink:href=\"#glyph1-7\" x=\"145\" y=\"43.699219\"/>\n",
       "  <use xlink:href=\"#glyph1-8\" x=\"151\" y=\"43.699219\"/>\n",
       "  <use xlink:href=\"#glyph1-9\" x=\"154\" y=\"43.699219\"/>\n",
       "  <use xlink:href=\"#glyph1-10\" x=\"157.75\" y=\"43.699219\"/>\n",
       "  <use xlink:href=\"#glyph1-11\" x=\"163.75\" y=\"43.699219\"/>\n",
       "</g>\n",
       "<path style=\"fill-rule:nonzero;fill:rgb(99.215686%,90.588235%,14.509804%);fill-opacity:1;stroke-width:4;stroke-linecap:butt;stroke-linejoin:miter;stroke:rgb(90.196078%,81.176471%,0.784314%);stroke-opacity:1;stroke-miterlimit:10;\" d=\"M 114 -33.5 C 114 -26.597656 108.402344 -21 101.5 -21 C 94.597656 -21 89 -26.597656 89 -33.5 C 89 -40.402344 94.597656 -46 101.5 -46 C 108.402344 -46 114 -40.402344 114 -33.5 \" transform=\"matrix(1,0,0,1,4,115)\"/>\n",
       "<g style=\"fill:rgb(0%,0%,0%);fill-opacity:1;\">\n",
       "  <use xlink:href=\"#glyph0-3\" x=\"96.5\" y=\"84.300781\"/>\n",
       "  <use xlink:href=\"#glyph0-2\" x=\"103.25\" y=\"84.300781\"/>\n",
       "  <use xlink:href=\"#glyph0-3\" x=\"107\" y=\"84.300781\"/>\n",
       "</g>\n",
       "<path style=\"fill:none;stroke-width:1;stroke-linecap:butt;stroke-linejoin:miter;stroke:rgb(74.901961%,74.901961%,74.901961%);stroke-opacity:1;stroke-miterlimit:10;\" d=\"M 114.023438 -36.285156 C 128.589844 -39.808594 153.941406 -45.9375 172.101562 -50.328125 \" transform=\"matrix(1,0,0,1,4,115)\"/>\n",
       "<path style=\"fill-rule:nonzero;fill:rgb(74.901961%,74.901961%,74.901961%);fill-opacity:1;stroke-width:1;stroke-linecap:butt;stroke-linejoin:miter;stroke:rgb(74.901961%,74.901961%,74.901961%);stroke-opacity:1;stroke-miterlimit:10;\" d=\"M 171.527344 -53.789062 L 182.070312 -52.734375 L 173.171875 -46.984375 Z M 171.527344 -53.789062 \" transform=\"matrix(1,0,0,1,4,115)\"/>\n",
       "<g style=\"fill:rgb(0%,0%,0%);fill-opacity:1;\">\n",
       "  <use xlink:href=\"#glyph1-5\" x=\"136\" y=\"64.699219\"/>\n",
       "  <use xlink:href=\"#glyph1-6\" x=\"142\" y=\"64.699219\"/>\n",
       "  <use xlink:href=\"#glyph1-5\" x=\"145\" y=\"64.699219\"/>\n",
       "  <use xlink:href=\"#glyph1-8\" x=\"151\" y=\"64.699219\"/>\n",
       "  <use xlink:href=\"#glyph1-9\" x=\"154\" y=\"64.699219\"/>\n",
       "  <use xlink:href=\"#glyph1-10\" x=\"157.75\" y=\"64.699219\"/>\n",
       "  <use xlink:href=\"#glyph1-11\" x=\"163.75\" y=\"64.699219\"/>\n",
       "</g>\n",
       "<path style=\"fill:none;stroke-width:1;stroke-linecap:butt;stroke-linejoin:miter;stroke:rgb(74.901961%,74.901961%,74.901961%);stroke-opacity:1;stroke-miterlimit:10;\" d=\"M 7.269531 -106.605469 C 17.714844 -103.234375 55.34375 -91.082031 79.484375 -83.285156 \" transform=\"matrix(1,0,0,1,4,115)\"/>\n",
       "<path style=\"fill-rule:nonzero;fill:rgb(74.901961%,74.901961%,74.901961%);fill-opacity:1;stroke-width:1;stroke-linecap:butt;stroke-linejoin:miter;stroke:rgb(74.901961%,74.901961%,74.901961%);stroke-opacity:1;stroke-miterlimit:10;\" d=\"M 80.742188 -86.558594 L 89.183594 -80.152344 L 78.59375 -79.894531 Z M 80.742188 -86.558594 \" transform=\"matrix(1,0,0,1,4,115)\"/>\n",
       "<g style=\"fill:rgb(0%,0%,0%);fill-opacity:1;\">\n",
       "  <use xlink:href=\"#glyph1-12\" x=\"29\" y=\"11.699219\"/>\n",
       "  <use xlink:href=\"#glyph1-2\" x=\"35\" y=\"11.699219\"/>\n",
       "  <use xlink:href=\"#glyph1-13\" x=\"40.25\" y=\"11.699219\"/>\n",
       "  <use xlink:href=\"#glyph1-2\" x=\"44\" y=\"11.699219\"/>\n",
       "  <use xlink:href=\"#glyph1-6\" x=\"49.25\" y=\"11.699219\"/>\n",
       "  <use xlink:href=\"#glyph1-7\" x=\"52.25\" y=\"11.699219\"/>\n",
       "  <use xlink:href=\"#glyph1-8\" x=\"58.25\" y=\"11.699219\"/>\n",
       "  <use xlink:href=\"#glyph1-9\" x=\"61.25\" y=\"11.699219\"/>\n",
       "  <use xlink:href=\"#glyph1-14\" x=\"65\" y=\"11.699219\"/>\n",
       "  <use xlink:href=\"#glyph1-11\" x=\"71\" y=\"11.699219\"/>\n",
       "</g>\n",
       "<path style=\"fill:none;stroke-width:1;stroke-linecap:butt;stroke-linejoin:miter;stroke:rgb(74.901961%,74.901961%,74.901961%);stroke-opacity:1;stroke-miterlimit:10;\" d=\"M 7.269531 -74.558594 C 17.613281 -74.773438 54.625 -75.542969 78.789062 -76.046875 \" transform=\"matrix(1,0,0,1,4,115)\"/>\n",
       "<path style=\"fill-rule:nonzero;fill:rgb(74.901961%,74.901961%,74.901961%);fill-opacity:1;stroke-width:1;stroke-linecap:butt;stroke-linejoin:miter;stroke:rgb(74.901961%,74.901961%,74.901961%);stroke-opacity:1;stroke-miterlimit:10;\" d=\"M 78.773438 -79.546875 L 88.84375 -76.257812 L 78.917969 -72.550781 Z M 78.773438 -79.546875 \" transform=\"matrix(1,0,0,1,4,115)\"/>\n",
       "<g style=\"fill:rgb(0%,0%,0%);fill-opacity:1;\">\n",
       "  <use xlink:href=\"#glyph1-12\" x=\"29\" y=\"36.699219\"/>\n",
       "  <use xlink:href=\"#glyph1-2\" x=\"35\" y=\"36.699219\"/>\n",
       "  <use xlink:href=\"#glyph1-13\" x=\"40.25\" y=\"36.699219\"/>\n",
       "  <use xlink:href=\"#glyph1-2\" x=\"44\" y=\"36.699219\"/>\n",
       "  <use xlink:href=\"#glyph1-6\" x=\"49.25\" y=\"36.699219\"/>\n",
       "  <use xlink:href=\"#glyph1-5\" x=\"52.25\" y=\"36.699219\"/>\n",
       "  <use xlink:href=\"#glyph1-8\" x=\"58.25\" y=\"36.699219\"/>\n",
       "  <use xlink:href=\"#glyph1-9\" x=\"61.25\" y=\"36.699219\"/>\n",
       "  <use xlink:href=\"#glyph1-14\" x=\"65\" y=\"36.699219\"/>\n",
       "  <use xlink:href=\"#glyph1-11\" x=\"71\" y=\"36.699219\"/>\n",
       "</g>\n",
       "<path style=\"fill:none;stroke-width:1;stroke-linecap:butt;stroke-linejoin:miter;stroke:rgb(74.901961%,74.901961%,74.901961%);stroke-opacity:1;stroke-miterlimit:10;\" d=\"M 7.269531 -36.414062 C 17.613281 -36.089844 54.625 -34.933594 78.789062 -34.179688 \" transform=\"matrix(1,0,0,1,4,115)\"/>\n",
       "<path style=\"fill-rule:nonzero;fill:rgb(74.901961%,74.901961%,74.901961%);fill-opacity:1;stroke-width:1;stroke-linecap:butt;stroke-linejoin:miter;stroke:rgb(74.901961%,74.901961%,74.901961%);stroke-opacity:1;stroke-miterlimit:10;\" d=\"M 78.957031 -37.675781 L 88.84375 -33.863281 L 78.738281 -30.679688 Z M 78.957031 -37.675781 \" transform=\"matrix(1,0,0,1,4,115)\"/>\n",
       "<g style=\"fill:rgb(0%,0%,0%);fill-opacity:1;\">\n",
       "  <use xlink:href=\"#glyph1-12\" x=\"29\" y=\"76.699219\"/>\n",
       "  <use xlink:href=\"#glyph1-2\" x=\"35\" y=\"76.699219\"/>\n",
       "  <use xlink:href=\"#glyph1-13\" x=\"40.25\" y=\"76.699219\"/>\n",
       "  <use xlink:href=\"#glyph1-2\" x=\"44\" y=\"76.699219\"/>\n",
       "  <use xlink:href=\"#glyph1-6\" x=\"49.25\" y=\"76.699219\"/>\n",
       "  <use xlink:href=\"#glyph1-14\" x=\"52.25\" y=\"76.699219\"/>\n",
       "  <use xlink:href=\"#glyph1-8\" x=\"58.25\" y=\"76.699219\"/>\n",
       "  <use xlink:href=\"#glyph1-9\" x=\"61.25\" y=\"76.699219\"/>\n",
       "  <use xlink:href=\"#glyph1-14\" x=\"65\" y=\"76.699219\"/>\n",
       "  <use xlink:href=\"#glyph1-11\" x=\"71\" y=\"76.699219\"/>\n",
       "</g>\n",
       "<path style=\"fill:none;stroke-width:1;stroke-linecap:butt;stroke-linejoin:miter;stroke:rgb(74.901961%,74.901961%,74.901961%);stroke-opacity:1;stroke-miterlimit:10;\" d=\"M 7.269531 -4.367188 C 17.714844 -7.628906 55.34375 -19.390625 79.484375 -26.933594 \" transform=\"matrix(1,0,0,1,4,115)\"/>\n",
       "<path style=\"fill-rule:nonzero;fill:rgb(74.901961%,74.901961%,74.901961%);fill-opacity:1;stroke-width:1;stroke-linecap:butt;stroke-linejoin:miter;stroke:rgb(74.901961%,74.901961%,74.901961%);stroke-opacity:1;stroke-miterlimit:10;\" d=\"M 78.597656 -30.320312 L 89.183594 -29.964844 L 80.683594 -23.640625 Z M 78.597656 -30.320312 \" transform=\"matrix(1,0,0,1,4,115)\"/>\n",
       "<g style=\"fill:rgb(0%,0%,0%);fill-opacity:1;\">\n",
       "  <use xlink:href=\"#glyph1-12\" x=\"29\" y=\"92.699219\"/>\n",
       "  <use xlink:href=\"#glyph1-2\" x=\"35\" y=\"92.699219\"/>\n",
       "  <use xlink:href=\"#glyph1-13\" x=\"40.25\" y=\"92.699219\"/>\n",
       "  <use xlink:href=\"#glyph1-2\" x=\"44\" y=\"92.699219\"/>\n",
       "  <use xlink:href=\"#glyph1-6\" x=\"49.25\" y=\"92.699219\"/>\n",
       "  <use xlink:href=\"#glyph1-10\" x=\"52.25\" y=\"92.699219\"/>\n",
       "  <use xlink:href=\"#glyph1-8\" x=\"58.25\" y=\"92.699219\"/>\n",
       "  <use xlink:href=\"#glyph1-9\" x=\"61.25\" y=\"92.699219\"/>\n",
       "  <use xlink:href=\"#glyph1-14\" x=\"65\" y=\"92.699219\"/>\n",
       "  <use xlink:href=\"#glyph1-11\" x=\"71\" y=\"92.699219\"/>\n",
       "</g>\n",
       "</g>\n",
       "</svg>\n"
      ],
      "text/plain": [
       "<graphviz.graphs.Digraph at 0x7f40d816ab30>"
      ]
     },
     "execution_count": 20,
     "metadata": {},
     "output_type": "execute_result"
    }
   ],
   "source": [
    "model.canonicalize('0.0')\n",
    "model.draw()"
   ]
  },
  {
   "cell_type": "code",
   "execution_count": 21,
   "metadata": {},
   "outputs": [
    {
     "name": "stdout",
     "output_type": "stream",
     "text": [
      "features entropies: [0.42151444684674205, 0.3523329710889093, 0.5382945991991153, 0.4230705003666759]\n",
      "total feat entropy: 1.7352125175014426\n"
     ]
    }
   ],
   "source": [
    "feat_entropies = get_feat_entropies(model)\n",
    "print('features entropies:', feat_entropies)\n",
    "print('total feat entropy:', sum(feat_entropies))"
   ]
  },
  {
   "cell_type": "code",
   "execution_count": 84,
   "metadata": {},
   "outputs": [
    {
     "name": "stdout",
     "output_type": "stream",
     "text": [
      "most informative features: ['sex' 'pclass' 'age' 'sibsp' 'parch' 'ticket' 'embarked' 'fare']\n"
     ]
    }
   ],
   "source": [
    "print('most informative features:', np.array(titanic_features)[np.argsort(feat_entropies)[::-1]])"
   ]
  },
  {
   "cell_type": "code",
   "execution_count": 193,
   "metadata": {},
   "outputs": [],
   "source": [
    "torch.save(model.state_dict, MODEL_DIR + f'/trainedmodel_{DATASET}_bd{BOND_DIM}_{MAPPING}_{now.strftime(\"%Y%m%d-%H%M%S\")}.dict')\n",
    "np.save(MODEL_DIR + f'/loss_history_{now.strftime(\"%Y%m%d-%H%M%S\")}.npy', loss_history)"
   ]
  },
  {
   "cell_type": "markdown",
   "metadata": {},
   "source": [
    "### Plots"
   ]
  },
  {
   "cell_type": "code",
   "execution_count": 35,
   "metadata": {},
   "outputs": [],
   "source": [
    "import glob"
   ]
  },
  {
   "cell_type": "code",
   "execution_count": 76,
   "metadata": {},
   "outputs": [],
   "source": [
    "DEVICE = 'cuda'\n",
    "DTYPE = torch.double\n",
    "N_LABELS = 1\n",
    "DATASET = 'titanic'\n",
    "MAPPING = 'spin'\n",
    "BOND_DIM = 8\n",
    "MODEL_DIR = DATASET + '_models/'\n",
    "model_name = DATASET + f'_bd{BOND_DIM}_{MAPPING}'\n",
    "\n",
    "file = glob.glob('weights_' + model_name + '*.npz', root_dir=MODEL_DIR)[0]\n",
    "model_name = '_'.join(file.split('_')[1:])\n",
    "\n",
    "features = 8\n",
    "MAP_DIM = 2\n",
    "\n",
    "tensors = np.load(MODEL_DIR + 'weights_' + model_name, allow_pickle=True)\n",
    "\n",
    "model = TTNModel(features, n_phys=MAP_DIM, bond_dim=BOND_DIM, n_labels=N_LABELS, device=DEVICE, dtype=DTYPE)\n",
    "model.tensors = [torch.tensor(x, dtype=DTYPE, device=DEVICE) for x in list(tensors.values())]"
   ]
  },
  {
   "cell_type": "code",
   "execution_count": 41,
   "metadata": {},
   "outputs": [
    {
     "data": {
      "text/plain": [
       "array([TTNIndex: 0.0, TTNIndex: 1.0, TTNIndex: 1.1, TTNIndex: 2.0,\n",
       "       TTNIndex: 2.1, TTNIndex: 2.2, TTNIndex: 2.3], dtype=object)"
      ]
     },
     "execution_count": 41,
     "metadata": {},
     "output_type": "execute_result"
    }
   ],
   "source": [
    "model.indices"
   ]
  },
  {
   "cell_type": "code",
   "execution_count": 25,
   "metadata": {},
   "outputs": [
    {
     "name": "stdout",
     "output_type": "stream",
     "text": [
      "2\n"
     ]
    },
    {
     "data": {
      "text/plain": [
       "Text(0.5, 1.0, 'Training Loss\\niris, BD=3')"
      ]
     },
     "execution_count": 25,
     "metadata": {},
     "output_type": "execute_result"
    },
    {
     "data": {
      "image/png": "[encoded data removed]",
      "text/plain": [
       "<Figure size 800x600 with 1 Axes>"
      ]
     },
     "metadata": {},
     "output_type": "display_data"
    }
   ],
   "source": [
    "fig, ax = plt.subplots(1, 1, figsize=(8, 6))\n",
    "ax = plot_loss(loss_history, ax, EPOCHS, FS=FONTSIZE)\n",
    "ax.set_title(F'Training Loss\\n{DATASET}, BD={BOND_DIM}', fontsize=FONTSIZE+2)\n",
    "\n",
    "#fig.savefig(MODEL_DIR + f'/loss_history_{DATASET}_bd{BOND_DIM}_{MAPPING}_{now.strftime(\"%Y%m%d-%H%M%S\")}.png')"
   ]
  },
  {
   "cell_type": "code",
   "execution_count": 26,
   "metadata": {},
   "outputs": [
    {
     "ename": "AttributeError",
     "evalue": "'numpy.ndarray' object has no attribute 'legend'",
     "output_type": "error",
     "traceback": [
      "\u001b[0;31m---------------------------------------------------------------------------\u001b[0m",
      "\u001b[0;31mAttributeError\u001b[0m                            Traceback (most recent call last)",
      "Cell \u001b[0;32mIn[26], line 8\u001b[0m\n\u001b[1;32m      4\u001b[0m fig, ax \u001b[38;5;241m=\u001b[39m plot_predictions(train_pred, test_pred, N_LABELS)\n\u001b[1;32m      6\u001b[0m train_acc, test_acc \u001b[38;5;241m=\u001b[39m accuracy(model, DEVICE, train_dl, test_dl, DTYPE, disable_pbar\u001b[38;5;241m=\u001b[39m\u001b[38;5;28;01mTrue\u001b[39;00m)\n\u001b[0;32m----> 8\u001b[0m \u001b[43max\u001b[49m\u001b[38;5;241;43m.\u001b[39;49m\u001b[43mlegend\u001b[49m([\u001b[38;5;124mf\u001b[39m\u001b[38;5;124m'\u001b[39m\u001b[38;5;124mTrain\u001b[39m\u001b[38;5;130;01m\\n\u001b[39;00m\u001b[38;5;124macc: \u001b[39m\u001b[38;5;132;01m{\u001b[39;00mtrain_acc\u001b[38;5;132;01m:\u001b[39;00m\u001b[38;5;124m.1%\u001b[39m\u001b[38;5;132;01m}\u001b[39;00m\u001b[38;5;124m'\u001b[39m, \u001b[38;5;124mf\u001b[39m\u001b[38;5;124m'\u001b[39m\u001b[38;5;124mTest\u001b[39m\u001b[38;5;130;01m\\n\u001b[39;00m\u001b[38;5;124macc: \u001b[39m\u001b[38;5;132;01m{\u001b[39;00mtest_acc\u001b[38;5;132;01m:\u001b[39;00m\u001b[38;5;124m.1%\u001b[39m\u001b[38;5;132;01m}\u001b[39;00m\u001b[38;5;124m'\u001b[39m])\n\u001b[1;32m      9\u001b[0m ax\u001b[38;5;241m.\u001b[39mset_title(\u001b[38;5;124mf\u001b[39m\u001b[38;5;124m'\u001b[39m\u001b[38;5;124mPredictions distribution\u001b[39m\u001b[38;5;130;01m\\n\u001b[39;00m\u001b[38;5;132;01m{\u001b[39;00mDATASET\u001b[38;5;132;01m}\u001b[39;00m\u001b[38;5;124m, BD=\u001b[39m\u001b[38;5;132;01m{\u001b[39;00mBOND_DIM\u001b[38;5;132;01m}\u001b[39;00m\u001b[38;5;124m'\u001b[39m, fontsize\u001b[38;5;241m=\u001b[39mFONTSIZE\u001b[38;5;241m+\u001b[39m\u001b[38;5;241m2\u001b[39m)\n\u001b[1;32m     11\u001b[0m \u001b[38;5;66;03m#fig.savefig(MODEL_DIR + f'/predictions_dist_{DATASET}_bd{BOND_DIM}_{MAPPING}_{now.strftime(\"%Y%m%d-%H%M%S\")}.png')\u001b[39;00m\n",
      "\u001b[0;31mAttributeError\u001b[0m: 'numpy.ndarray' object has no attribute 'legend'"
     ]
    },
    {
     "data": {
      "image/png": "[encoded data removed]",
      "text/plain": [
       "<Figure size 1800x1000 with 6 Axes>"
      ]
     },
     "metadata": {},
     "output_type": "display_data"
    }
   ],
   "source": [
    "train_pred = get_predictions(model, DEVICE, train_dl, DTYPE)\n",
    "test_pred = get_predictions(model, DEVICE, test_dl, DTYPE)\n",
    "\n",
    "fig, ax = plot_predictions(train_pred, test_pred, N_LABELS)\n",
    "\n",
    "train_acc, test_acc = accuracy(model, DEVICE, train_dl, test_dl, DTYPE, disable_pbar=True)\n",
    "\n",
    "ax.legend([f'Train\\nacc: {train_acc:.1%}', f'Test\\nacc: {test_acc:.1%}'])\n",
    "ax.set_title(f'Predictions distribution\\n{DATASET}, BD={BOND_DIM}', fontsize=FONTSIZE+2)\n",
    "\n",
    "#fig.savefig(MODEL_DIR + f'/predictions_dist_{DATASET}_bd{BOND_DIM}_{MAPPING}_{now.strftime(\"%Y%m%d-%H%M%S\")}.png')"
   ]
  },
  {
   "cell_type": "code",
   "execution_count": 200,
   "metadata": {},
   "outputs": [
    {
     "name": "stderr",
     "output_type": "stream",
     "text": [
      "test:   0%|          | 0/2 [00:00<?, ?it/s]"
     ]
    },
    {
     "name": "stderr",
     "output_type": "stream",
     "text": [
      "test: 100%|██████████| 2/2 [00:00<00:00,  5.19it/s]\n",
      "test: 100%|██████████| 1/1 [00:00<00:00, 610.88it/s]\n"
     ]
    }
   ],
   "source": [
    "# save model output\n",
    "train_out = get_output(model, DEVICE, train_dl, DTYPE)\n",
    "test_out = get_output(model, DEVICE, test_dl, DTYPE)\n",
    "np.save(MODEL_DIR + f'/train_out_{DATASET}_bd{BOND_DIM}_{MAPPING}_{now.strftime(\"%Y%m%d-%H%M%S\")}.npy', train_out)\n",
    "np.save(MODEL_DIR + f'/test_out_{DATASET}_bd{BOND_DIM}_{MAPPING}_{now.strftime(\"%Y%m%d-%H%M%S\")}.npy', test_out)"
   ]
  },
  {
   "cell_type": "markdown",
   "metadata": {},
   "source": [
    "### ROC"
   ]
  },
  {
   "cell_type": "code",
   "execution_count": 27,
   "metadata": {},
   "outputs": [
    {
     "name": "stdout",
     "output_type": "stream",
     "text": [
      "ROC AUC Score: 0.95\n"
     ]
    },
    {
     "data": {
      "image/png": "[encoded data removed]",
      "text/plain": [
       "<Figure size 800x600 with 1 Axes>"
      ]
     },
     "metadata": {},
     "output_type": "display_data"
    }
   ],
   "source": [
    "y_true = torch.cat([y for _, y in test_dl], dim=0).numpy()\n",
    "\n",
    "fpr, tpr, thresholds = roc_curve(y_true.ravel(), test_pred.ravel())\n",
    "auc = roc_auc_score(y_true, test_pred, multi_class='ovr', average='micro')\n",
    "\n",
    "props = dict(boxstyle='round', facecolor='white', alpha=0.5)\n",
    "\n",
    "fig, ax = plt.subplots(1, 1, figsize=(8, 6))\n",
    "ax.plot(fpr, tpr)\n",
    "ax.plot([0, 1], [0, 1], 'r--')\n",
    "ax.set_xlabel('False Positive Rate', fontsize=FONTSIZE)\n",
    "ax.set_ylabel('True Positive Rate', fontsize=FONTSIZE)\n",
    "ax.set_title(f'ROC Curve\\n{DATASET}, BD={BOND_DIM}', fontsize=FONTSIZE+2)\n",
    "ax.tick_params(axis='both', which='major', labelsize=FONTSIZE)\n",
    "ax.text(0.815, 0.05, f'AUC = {auc:.2f}', fontsize=FONTSIZE-2, bbox=props)\n",
    "ax.grid()\n",
    "#fig.savefig(MODEL_DIR + f'/roc_curve_{DATASET}_bd{BOND_DIM}_{MAPPING}_{now.strftime(\"%Y%m%d-%H%M%S\")}.png')\n",
    "\n",
    "print('ROC AUC Score:', round(auc, 2))"
   ]
  },
  {
   "cell_type": "code",
   "execution_count": 143,
   "metadata": {},
   "outputs": [
    {
     "name": "stdout",
     "output_type": "stream",
     "text": [
      "[1.         0.96666667 0.96666667 0.9        0.86666667 0.9\n",
      " 0.8        0.86666667 0.76666667 0.76666667]\n",
      "[0.16666667 0.15       0.16666667 0.13333333 0.11666667 0.15\n",
      " 0.05       0.13333333 0.03333333 0.05      ]\n"
     ]
    },
    {
     "data": {
      "text/plain": [
       "array([5.50964084e-05, 6.19278447e-05, 5.90447925e-05, 1.03873600e-04,\n",
       "       1.25891102e-04, 7.69594654e-05, 2.82854844e-04, 1.14582976e-04,\n",
       "       3.05659863e-04, 2.87680805e-04])"
      ]
     },
     "execution_count": 143,
     "metadata": {},
     "output_type": "execute_result"
    }
   ],
   "source": [
    "best_10 = np.argsort(tpr-fpr)[::-1][:10]\n",
    "\n",
    "print(tpr[best_10], fpr[best_10], sep='\\n')\n",
    "thresholds[best_10]"
   ]
  },
  {
   "cell_type": "code",
   "execution_count": 202,
   "metadata": {},
   "outputs": [],
   "source": [
    "#save model weights\n",
    "np.savez(MODEL_DIR + f'/weights_{DATASET}_bd{BOND_DIM}_{MAPPING}_{now.strftime(\"%Y%m%d-%H%M%S\")}.npz', **{key.name : value.cpu().detach() for key, value in model._TTN__tensor_map.items()})"
   ]
  },
  {
   "cell_type": "markdown",
   "metadata": {},
   "source": [
    "### Correlations"
   ]
  },
  {
   "cell_type": "code",
   "execution_count": 28,
   "metadata": {},
   "outputs": [],
   "source": [
    "sz = torch.tensor([[1, 0], [0, -1]], dtype = DTYPE, device = DEVICE)"
   ]
  },
  {
   "cell_type": "code",
   "execution_count": 29,
   "metadata": {},
   "outputs": [],
   "source": [
    "feat_combos = combinations_with_replacement(np.arange(model.n_features), 2)\n",
    "feat_combos = [combo for combo in feat_combos if combo[0] != combo[1]]\n",
    "corr = np.zeros((model.n_features, model.n_features))\n",
    "\n",
    "for combo in feat_combos:\n",
    "    corr[combo] = model.expectation({TIndex(f'data.{i}', [f'data.{i}']): sz for i in combo})\n"
   ]
  },
  {
   "cell_type": "code",
   "execution_count": 38,
   "metadata": {},
   "outputs": [
    {
     "data": {
      "text/plain": [
       "array([-0.23287102, -0.19749551, -0.18594702,  0.29397596,  0.00244169,\n",
       "        0.28358273])"
      ]
     },
     "execution_count": 38,
     "metadata": {},
     "output_type": "execute_result"
    }
   ],
   "source": [
    "corr[ np.nonzero(corr) ]"
   ]
  },
  {
   "cell_type": "code",
   "execution_count": 68,
   "metadata": {},
   "outputs": [
    {
     "data": {
      "image/png": "[encoded data removed]",
      "text/plain": [
       "<Figure size 800x600 with 1 Axes>"
      ]
     },
     "metadata": {},
     "output_type": "display_data"
    }
   ],
   "source": [
    "fig, ax = plt.subplots(1, 1, figsize=(8, 6))\n",
    "corr[np.where(corr == 0)] = np.nan\n",
    "ax.imshow(corr.T, cmap='RdBu')\n",
    "# Loop over data dimensions and create text annotations.\n",
    "for combo in feat_combos:\n",
    "    text = ax.text(*combo, f'{corr[combo]:.2f}',\n",
    "                    ha=\"center\", va=\"center\", color=\"0.65\", fontsize=FONTSIZE-2)\n",
    "    \n",
    "labels = np.arange(model.n_features)\n",
    "ax.set_xticks(np.arange(model.n_features), labels=labels, fontsize=FONTSIZE)\n",
    "ax.set_yticks(np.arange(model.n_features), labels=labels, fontsize=FONTSIZE)\n",
    "ax.set_title('Correlation matrix', fontsize=FONTSIZE+2)\n",
    "fig.tight_layout()\n",
    "#fig.savefig(MODEL_DIR + f'/correlation_matrix_{DATASET}_bd{BOND_DIM}_{MAPPING}_{now.strftime(\"%Y%m%d-%H%M%S\")}.png')"
   ]
  },
  {
   "cell_type": "markdown",
   "metadata": {},
   "source": [
    "### Entropy"
   ]
  },
  {
   "cell_type": "code",
   "execution_count": null,
   "metadata": {},
   "outputs": [],
   "source": [
    "model.canonicalize('0.0')"
   ]
  },
  {
   "cell_type": "code",
   "execution_count": null,
   "metadata": {},
   "outputs": [],
   "source": [
    "def draw_mi(model, cmap='Reds'):\n",
    "    mi = model.get_mi()\n",
    "    cmap = colormaps.get_cmap('Reds')\n",
    "    min, max = np.min(list(mi.values())), np.max(list(mi.values()))\n",
    "    dot = graphviz.Digraph('Entropy', comment='TTN: ' + 'Entropy', engine='dot', format='svg', renderer='cairo', graph_attr={'bgcolour': 'transparent', 'rankdir': 'LR', 'splines':'false', 'size':'16,14', 'ratio':'compress', 'fontname':'Arial'})\n",
    "    dot.attr('node', shape='circle', width='0.5', fixedsize='true', fontsize=str(11))\n",
    "    dot.attr('edge', color='#bfbfbf', fontsize=str(11-2))\n",
    "    dot.edge('0.0', 'hide', label=model.label_tag)\n",
    "    dot.node('hide', '', shape='plaintext')\n",
    "    for i, tindex in enumerate(model.indices):\n",
    "        c_rgba = list(cmap((mi[tindex.indices[-1]]-min)/(max-min)))\n",
    "        \n",
    "        dot.node(tindex.name, tindex.name, fillcolor=colors.rgb2hex(c_rgba), style='filled', color = colors.rgb2hex(c_rgba), penwidth='4')\n",
    "        \n",
    "        dot.edge(tindex[0], tindex.name, label=str(tindex[0])+f' [{model.tensors[i].shape[0]}]', weight=str((int(tindex.name.split('.')[0])+1)**2))\n",
    "        dot.edge(tindex[1], tindex.name, label=str(tindex[1])+f' [{model.tensors[i].shape[1]}]', weight=str((int(tindex.name.split('.')[0])+1)**2))\n",
    "\n",
    "    for i in range(2**model.n_layers):\n",
    "        index = f'data.{i}'\n",
    "        c_rgba = list(cmap((mi[index]-min)/(max-min)))\n",
    "        dot.node(index, index, fillcolor=colors.rgb2hex(c_rgba), style='filled', color = colors.rgb2hex(c_rgba), penwidth='4')\n",
    "\n",
    "    return dot"
   ]
  },
  {
   "cell_type": "code",
   "execution_count": null,
   "metadata": {},
   "outputs": [
    {
     "data": {
      "text/plain": [
       "{'data.0': 0.5085428673266961,\n",
       " 'data.1': 0.49813973617645624,\n",
       " 'data.2': 0.4624926972814226,\n",
       " 'data.3': 0.26939293544344567,\n",
       " '1.1': 0.16578368186338277,\n",
       " '1.0': 0.5867327308015367,\n",
       " 'label': 0.043741146682771515}"
      ]
     },
     "execution_count": 150,
     "metadata": {},
     "output_type": "execute_result"
    }
   ],
   "source": [
    "model.get_mi()"
   ]
  },
  {
   "cell_type": "code",
   "execution_count": 206,
   "metadata": {},
   "outputs": [
    {
     "data": {
      "image/svg+xml": [
       "<?xml version=\"1.0\" encoding=\"UTF-8\"?>\n",
       "<svg xmlns=\"http://www.w3.org/2000/svg\" xmlns:xlink=\"http://www.w3.org/1999/xlink\" width=\"361pt\" height=\"206pt\" viewBox=\"0 0 361 206\" version=\"1.1\">\n",
       "<defs>\n",
       "<g>\n",
       "<symbol overflow=\"visible\" id=\"glyph0-0\">\n",
       "<path style=\"stroke:none;\" d=\"M 0.546875 2 L 0.546875 -8 L 6.046875 -8 L 6.046875 2 Z M 1.171875 1 L 5.4375 1 L 5.4375 -7 L 1.171875 -7 Z M 1.171875 1 \"/>\n",
       "</symbol>\n",
       "<symbol overflow=\"visible\" id=\"glyph0-1\">\n",
       "<path style=\"stroke:none;\" d=\"M 3.5 -1 C 4.050781 -1 4.460938 -1.25 4.734375 -1.75 C 5.003906 -2.25 5.140625 -3 5.140625 -4 C 5.140625 -5.007812 5.003906 -5.757812 4.734375 -6.25 C 4.460938 -6.75 4.050781 -7 3.5 -7 C 2.945312 -7 2.535156 -6.75 2.265625 -6.25 C 1.992188 -5.757812 1.859375 -5.007812 1.859375 -4 C 1.859375 -3 1.992188 -2.25 2.265625 -1.75 C 2.535156 -1.25 2.945312 -1 3.5 -1 Z M 3.5 0 C 2.625 0 1.941406 -0.347656 1.453125 -1.046875 C 0.960938 -1.753906 0.71875 -2.738281 0.71875 -4 C 0.71875 -5.257812 0.960938 -6.238281 1.453125 -6.9375 C 1.941406 -7.644531 2.625 -8 3.5 -8 C 4.363281 -8 5.039062 -7.644531 5.53125 -6.9375 C 6.019531 -6.238281 6.265625 -5.257812 6.265625 -4 C 6.265625 -2.738281 6.019531 -1.753906 5.53125 -1.046875 C 5.039062 -0.347656 4.363281 0 3.5 0 Z M 3.5 0 \"/>\n",
       "</symbol>\n",
       "<symbol overflow=\"visible\" id=\"glyph0-2\">\n",
       "<path style=\"stroke:none;\" d=\"M 1.03125 -0.5 C 1.03125 -0.832031 1.097656 -1 1.234375 -1 C 1.367188 -1 1.539062 -1 1.75 -1 C 1.945312 -1 2.113281 -1 2.25 -1 C 2.394531 -1 2.46875 -0.832031 2.46875 -0.5 C 2.46875 -0.164062 2.394531 0 2.25 0 C 2.113281 0 1.945312 0 1.75 0 C 1.539062 0 1.367188 0 1.234375 0 C 1.097656 0 1.03125 -0.164062 1.03125 -0.5 Z M 1.03125 -0.5 \"/>\n",
       "</symbol>\n",
       "<symbol overflow=\"visible\" id=\"glyph0-3\">\n",
       "<path style=\"stroke:none;\" d=\"M 1.5625 0 L 1.5625 -1 L 2.953125 -1 L 2.953125 -7.265625 L 1.34375 -6.328125 L 1.34375 -7 L 3.296875 -8 L 4.046875 -8 L 4.046875 -1 L 5.4375 -1 L 5.4375 0 Z M 1.5625 0 \"/>\n",
       "</symbol>\n",
       "<symbol overflow=\"visible\" id=\"glyph0-4\">\n",
       "<path style=\"stroke:none;\" d=\"M 5.78125 -1 L 6.71875 -1 L 6.71875 0 L 4.78125 0 L 4.78125 -1.28125 C 4.582031 -0.84375 4.332031 -0.519531 4.03125 -0.3125 C 3.738281 -0.101562 3.375 0 2.9375 0 C 2.238281 0 1.664062 -0.273438 1.21875 -0.828125 C 0.769531 -1.390625 0.546875 -2.113281 0.546875 -3 C 0.546875 -3.894531 0.765625 -4.617188 1.203125 -5.171875 C 1.648438 -5.722656 2.226562 -6 2.9375 -6 C 3.375 -6 3.738281 -5.882812 4.03125 -5.65625 C 4.332031 -5.4375 4.582031 -5.09375 4.78125 -4.625 L 4.78125 -8 L 3.84375 -8 L 3.84375 -9 L 5.78125 -9 Z M 4.78125 -2.71875 L 4.78125 -3.1875 C 4.78125 -3.769531 4.648438 -4.21875 4.390625 -4.53125 C 4.128906 -4.84375 3.742188 -5 3.234375 -5 C 2.734375 -5 2.351562 -4.832031 2.09375 -4.5 C 1.832031 -4.164062 1.703125 -3.664062 1.703125 -3 C 1.703125 -2.34375 1.832031 -1.84375 2.09375 -1.5 C 2.351562 -1.164062 2.734375 -1 3.234375 -1 C 3.742188 -1 4.128906 -1.144531 4.390625 -1.4375 C 4.648438 -1.726562 4.78125 -2.15625 4.78125 -2.71875 Z M 4.78125 -2.71875 \"/>\n",
       "</symbol>\n",
       "<symbol overflow=\"visible\" id=\"glyph0-5\">\n",
       "<path style=\"stroke:none;\" d=\"M 4.375 -2 L 4.375 -3 L 3.109375 -3 C 2.617188 -3 2.253906 -2.914062 2.015625 -2.75 C 1.773438 -2.59375 1.65625 -2.34375 1.65625 -2 C 1.65625 -1.695312 1.773438 -1.453125 2.015625 -1.265625 C 2.265625 -1.085938 2.59375 -1 3 -1 C 3.414062 -1 3.75 -1.09375 4 -1.28125 C 4.25 -1.46875 4.375 -1.707031 4.375 -2 Z M 5.359375 -3.984375 L 5.359375 -1 L 6.25 -1 L 6.25 0 L 4.375 0 L 4.375 -1.046875 C 4.15625 -0.691406 3.898438 -0.425781 3.609375 -0.25 C 3.328125 -0.0820312 2.992188 0 2.609375 0 C 1.972656 0 1.46875 -0.175781 1.09375 -0.53125 C 0.726562 -0.894531 0.546875 -1.382812 0.546875 -2 C 0.546875 -2.632812 0.757812 -3.125 1.1875 -3.46875 C 1.613281 -3.820312 2.210938 -4 2.984375 -4 L 4.375 -4 L 4.375 -5.125 C 4.375 -5.082031 4.242188 -5.050781 3.984375 -5.03125 C 3.722656 -5.007812 3.351562 -5 2.875 -5 C 2.476562 -5 2.160156 -5.082031 1.921875 -5.25 C 1.691406 -5.414062 1.550781 -5.664062 1.5 -6 L 0.984375 -6 C 1.328125 -6 1.660156 -6 1.984375 -6 C 2.304688 -6 2.625 -6 2.9375 -6 C 3.726562 -6 4.328125 -5.828125 4.734375 -5.484375 C 5.148438 -5.140625 5.359375 -4.640625 5.359375 -3.984375 Z M 5.359375 -3.984375 \"/>\n",
       "</symbol>\n",
       "<symbol overflow=\"visible\" id=\"glyph0-6\">\n",
       "<path style=\"stroke:none;\" d=\"M 1.1875 -5 L 0.3125 -5 L 0.3125 -6 L 1.1875 -6 L 1.1875 -8 L 2.1875 -8 L 2.1875 -6 L 4.046875 -6 L 4.046875 -5 L 2.1875 -5 L 2.1875 -2.125 C 2.1875 -1.644531 2.234375 -1.335938 2.328125 -1.203125 C 2.421875 -1.066406 2.59375 -1 2.84375 -1 C 3.101562 -1 3.289062 -1.078125 3.40625 -1.234375 C 3.519531 -1.390625 3.582031 -1.644531 3.59375 -2 L 4.328125 -2 C 4.296875 -1.300781 4.15625 -0.789062 3.90625 -0.46875 C 3.65625 -0.15625 3.269531 0 2.75 0 C 2.175781 0 1.769531 -0.160156 1.53125 -0.484375 C 1.300781 -0.804688 1.1875 -1.351562 1.1875 -2.125 Z M 1.1875 -5 \"/>\n",
       "</symbol>\n",
       "<symbol overflow=\"visible\" id=\"glyph0-7\">\n",
       "<path style=\"stroke:none;\" d=\"M 1.40625 -6 L 0.8125 -6 L 0.8125 -7 C 1.195312 -7.320312 1.582031 -7.566406 1.96875 -7.734375 C 2.351562 -7.910156 2.734375 -8 3.109375 -8 C 3.941406 -8 4.597656 -7.804688 5.078125 -7.421875 C 5.566406 -7.035156 5.8125 -6.507812 5.8125 -5.84375 C 5.8125 -5.09375 5.257812 -4.195312 4.15625 -3.15625 C 4.070312 -3.082031 4.007812 -3.023438 3.96875 -2.984375 L 1.9375 -1 L 5.296875 -1 L 5.296875 -2 L 5.921875 -2 L 5.921875 0 L 0.75 0 L 0.75 -0.59375 L 3.1875 -3.078125 C 3.71875 -3.535156 4.097656 -3.953125 4.328125 -4.328125 C 4.554688 -4.710938 4.671875 -5.113281 4.671875 -5.53125 C 4.671875 -5.988281 4.53125 -6.347656 4.25 -6.609375 C 3.96875 -6.867188 3.582031 -7 3.09375 -7 C 2.570312 -7 2.171875 -6.914062 1.890625 -6.75 C 1.617188 -6.582031 1.457031 -6.332031 1.40625 -6 Z M 1.40625 -6 \"/>\n",
       "</symbol>\n",
       "<symbol overflow=\"visible\" id=\"glyph0-8\">\n",
       "<path style=\"stroke:none;\" d=\"M 1.0625 -7 C 1.476562 -7.320312 1.878906 -7.566406 2.265625 -7.734375 C 2.648438 -7.910156 3.015625 -8 3.359375 -8 C 4.140625 -8 4.75 -7.84375 5.1875 -7.53125 C 5.632812 -7.226562 5.859375 -6.804688 5.859375 -6.265625 C 5.859375 -5.816406 5.707031 -5.445312 5.40625 -5.15625 C 5.101562 -4.863281 4.671875 -4.664062 4.109375 -4.5625 C 4.765625 -4.46875 5.273438 -4.226562 5.640625 -3.84375 C 6.003906 -3.457031 6.1875 -2.953125 6.1875 -2.328125 C 6.1875 -1.578125 5.929688 -1 5.421875 -0.59375 C 4.921875 -0.195312 4.203125 0 3.265625 0 C 2.835938 0 2.425781 -0.0820312 2.03125 -0.25 C 1.632812 -0.414062 1.238281 -0.664062 0.84375 -1 L 0.84375 -2 L 1.4375 -2 C 1.46875 -1.664062 1.640625 -1.414062 1.953125 -1.25 C 2.265625 -1.082031 2.707031 -1 3.28125 -1 C 3.820312 -1 4.25 -1.125 4.5625 -1.375 C 4.882812 -1.632812 5.046875 -1.988281 5.046875 -2.4375 C 5.046875 -2.945312 4.878906 -3.332031 4.546875 -3.59375 C 4.222656 -3.863281 3.75 -4 3.125 -4 L 2.609375 -4 L 2.609375 -5 L 2.890625 -5 C 3.515625 -5 3.984375 -5.082031 4.296875 -5.25 C 4.609375 -5.425781 4.765625 -5.6875 4.765625 -6.03125 C 4.765625 -6.34375 4.632812 -6.582031 4.375 -6.75 C 4.125 -6.914062 3.753906 -7 3.265625 -7 C 2.785156 -7 2.410156 -6.914062 2.140625 -6.75 C 1.867188 -6.582031 1.710938 -6.332031 1.671875 -6 L 1.0625 -6 Z M 1.0625 -7 \"/>\n",
       "</symbol>\n",
       "<symbol overflow=\"visible\" id=\"glyph1-0\">\n",
       "<path style=\"stroke:none;\" d=\"M 0.453125 2 L 0.453125 -6 L 4.953125 -6 L 4.953125 2 Z M 0.953125 1 L 4.453125 1 L 4.453125 -5 L 0.953125 -5 Z M 0.953125 1 \"/>\n",
       "</symbol>\n",
       "<symbol overflow=\"visible\" id=\"glyph1-1\">\n",
       "<path style=\"stroke:none;\" d=\"M 1.84375 -1 L 2.609375 -1 L 2.609375 0 L 0.265625 0 L 0.265625 -1 L 1.03125 -1 L 1.03125 -7 L 0.265625 -7 L 0.265625 -8 L 1.84375 -8 Z M 1.84375 -1 \"/>\n",
       "</symbol>\n",
       "<symbol overflow=\"visible\" id=\"glyph1-2\">\n",
       "<path style=\"stroke:none;\" d=\"M 3.578125 -1.5 L 3.578125 -2 L 2.546875 -2 C 2.140625 -2 1.835938 -1.957031 1.640625 -1.875 C 1.441406 -1.789062 1.34375 -1.664062 1.34375 -1.5 C 1.34375 -1.34375 1.441406 -1.21875 1.640625 -1.125 C 1.835938 -1.039062 2.109375 -1 2.453125 -1 C 2.785156 -1 3.054688 -1.046875 3.265625 -1.140625 C 3.472656 -1.234375 3.578125 -1.351562 3.578125 -1.5 Z M 4.390625 -2.984375 L 4.390625 -1 L 5.109375 -1 L 5.109375 0 L 3.578125 0 L 3.578125 -1.015625 C 3.398438 -0.671875 3.191406 -0.414062 2.953125 -0.25 C 2.722656 -0.0820312 2.453125 0 2.140625 0 C 1.617188 0 1.207031 -0.132812 0.90625 -0.40625 C 0.601562 -0.675781 0.453125 -1.039062 0.453125 -1.5 C 0.453125 -1.976562 0.625 -2.347656 0.96875 -2.609375 C 1.320312 -2.867188 1.816406 -3 2.453125 -3 L 3.578125 -3 L 3.578125 -4.125 C 3.578125 -4.082031 3.46875 -4.050781 3.25 -4.03125 C 3.039062 -4.007812 2.738281 -4 2.34375 -4 C 2.019531 -4 1.765625 -4.082031 1.578125 -4.25 C 1.390625 -4.414062 1.269531 -4.664062 1.21875 -5 L 0.8125 -5 C 1.09375 -5 1.363281 -5 1.625 -5 C 1.894531 -5 2.15625 -5 2.40625 -5 C 3.050781 -5 3.539062 -4.828125 3.875 -4.484375 C 4.21875 -4.140625 4.390625 -3.640625 4.390625 -2.984375 Z M 4.390625 -2.984375 \"/>\n",
       "</symbol>\n",
       "<symbol overflow=\"visible\" id=\"glyph1-3\">\n",
       "<path style=\"stroke:none;\" d=\"M 1.03125 -1 L 1.03125 -7 L 0.265625 -7 L 0.265625 -8 L 1.84375 -8 L 1.84375 -3.71875 C 2 -4.15625 2.195312 -4.476562 2.4375 -4.6875 C 2.6875 -4.894531 2.992188 -5 3.359375 -5 C 3.929688 -5 4.398438 -4.769531 4.765625 -4.3125 C 5.128906 -3.851562 5.3125 -3.25 5.3125 -2.5 C 5.3125 -1.757812 5.128906 -1.15625 4.765625 -0.6875 C 4.398438 -0.226562 3.929688 0 3.359375 0 C 2.992188 0 2.6875 -0.0976562 2.4375 -0.296875 C 2.195312 -0.492188 2 -0.796875 1.84375 -1.203125 L 1.84375 0 L 0.265625 0 L 0.265625 -1 Z M 1.84375 -2.28125 C 1.84375 -1.863281 1.945312 -1.546875 2.15625 -1.328125 C 2.375 -1.109375 2.691406 -1 3.109375 -1 C 3.515625 -1 3.820312 -1.125 4.03125 -1.375 C 4.25 -1.632812 4.359375 -2.007812 4.359375 -2.5 C 4.359375 -3 4.25 -3.375 4.03125 -3.625 C 3.820312 -3.875 3.515625 -4 3.109375 -4 C 2.691406 -4 2.375 -3.878906 2.15625 -3.640625 C 1.945312 -3.410156 1.84375 -3.078125 1.84375 -2.640625 Z M 1.84375 -2.28125 \"/>\n",
       "</symbol>\n",
       "<symbol overflow=\"visible\" id=\"glyph1-4\">\n",
       "<path style=\"stroke:none;\" d=\"M 4.875 -2 L 1.390625 -2 L 1.390625 -1.953125 C 1.390625 -1.640625 1.507812 -1.398438 1.75 -1.234375 C 1.988281 -1.078125 2.335938 -1 2.796875 -1 C 3.148438 -1 3.441406 -1 3.671875 -1 C 3.898438 -1 4.0625 -1 4.15625 -1 L 4.796875 -1 C 4.671875 -0.664062 4.429688 -0.414062 4.078125 -0.25 C 3.734375 -0.0820312 3.28125 0 2.71875 0 C 2.03125 0 1.476562 -0.226562 1.0625 -0.6875 C 0.65625 -1.144531 0.453125 -1.75 0.453125 -2.5 C 0.453125 -3.25 0.65625 -3.851562 1.0625 -4.3125 C 1.46875 -4.769531 2 -5 2.65625 -5 C 3.363281 -5 3.90625 -4.742188 4.28125 -4.234375 C 4.664062 -3.722656 4.863281 -2.976562 4.875 -2 Z M 3.921875 -3 C 3.898438 -3.332031 3.785156 -3.582031 3.578125 -3.75 C 3.367188 -3.914062 3.0625 -4 2.65625 -4 C 2.289062 -4 2 -3.914062 1.78125 -3.75 C 1.570312 -3.582031 1.441406 -3.332031 1.390625 -3 Z M 3.921875 -3 \"/>\n",
       "</symbol>\n",
       "<symbol overflow=\"visible\" id=\"glyph1-5\">\n",
       "<path style=\"stroke:none;\" d=\"M 1.28125 0 L 1.28125 -1 L 2.421875 -1 L 2.421875 -6.265625 L 1.09375 -5.4375 L 1.09375 -6 L 2.703125 -7 L 3.3125 -7 L 3.3125 -1 L 4.453125 -1 L 4.453125 0 Z M 1.28125 0 \"/>\n",
       "</symbol>\n",
       "<symbol overflow=\"visible\" id=\"glyph1-6\">\n",
       "<path style=\"stroke:none;\" d=\"M 0.84375 -0.5 C 0.84375 -0.832031 0.898438 -1 1.015625 -1 C 1.128906 -1 1.269531 -1 1.4375 -1 C 1.59375 -1 1.726562 -1 1.84375 -1 C 1.957031 -1 2.015625 -0.832031 2.015625 -0.5 C 2.015625 -0.164062 1.957031 0 1.84375 0 C 1.726562 0 1.59375 0 1.4375 0 C 1.269531 0 1.128906 0 1.015625 0 C 0.898438 0 0.84375 -0.164062 0.84375 -0.5 Z M 0.84375 -0.5 \"/>\n",
       "</symbol>\n",
       "<symbol overflow=\"visible\" id=\"glyph1-7\">\n",
       "<path style=\"stroke:none;\" d=\"M 2.859375 -1 C 3.304688 -1 3.640625 -1.207031 3.859375 -1.625 C 4.085938 -2.039062 4.203125 -2.664062 4.203125 -3.5 C 4.203125 -4.332031 4.085938 -4.957031 3.859375 -5.375 C 3.640625 -5.789062 3.304688 -6 2.859375 -6 C 2.410156 -6 2.070312 -5.789062 1.84375 -5.375 C 1.625 -4.957031 1.515625 -4.332031 1.515625 -3.5 C 1.515625 -2.664062 1.625 -2.039062 1.84375 -1.625 C 2.070312 -1.207031 2.410156 -1 2.859375 -1 Z M 2.859375 0 C 2.148438 0 1.59375 -0.304688 1.1875 -0.921875 C 0.789062 -1.535156 0.59375 -2.394531 0.59375 -3.5 C 0.59375 -4.601562 0.789062 -5.460938 1.1875 -6.078125 C 1.59375 -6.691406 2.148438 -7 2.859375 -7 C 3.578125 -7 4.132812 -6.691406 4.53125 -6.078125 C 4.925781 -5.460938 5.125 -4.601562 5.125 -3.5 C 5.125 -2.394531 4.925781 -1.535156 4.53125 -0.921875 C 4.132812 -0.304688 3.578125 0 2.859375 0 Z M 2.859375 0 \"/>\n",
       "</symbol>\n",
       "<symbol overflow=\"visible\" id=\"glyph1-8\">\n",
       "<path style=\"stroke:none;\" d=\"\"/>\n",
       "</symbol>\n",
       "<symbol overflow=\"visible\" id=\"glyph1-9\">\n",
       "<path style=\"stroke:none;\" d=\"M 0.78125 -8 L 2.8125 -8 L 2.8125 -7 L 1.609375 -7 L 1.609375 -1 L 2.8125 -1 L 2.8125 0 L 0.78125 0 Z M 0.78125 -8 \"/>\n",
       "</symbol>\n",
       "<symbol overflow=\"visible\" id=\"glyph1-10\">\n",
       "<path style=\"stroke:none;\" d=\"M 0.875 -6 C 1.21875 -6.320312 1.546875 -6.566406 1.859375 -6.734375 C 2.179688 -6.910156 2.476562 -7 2.75 -7 C 3.394531 -7 3.894531 -6.84375 4.25 -6.53125 C 4.613281 -6.226562 4.796875 -5.804688 4.796875 -5.265625 C 4.796875 -4.816406 4.671875 -4.445312 4.421875 -4.15625 C 4.171875 -3.863281 3.816406 -3.664062 3.359375 -3.5625 C 3.898438 -3.488281 4.316406 -3.300781 4.609375 -3 C 4.910156 -2.695312 5.0625 -2.304688 5.0625 -1.828125 C 5.0625 -1.234375 4.851562 -0.78125 4.4375 -0.46875 C 4.03125 -0.15625 3.441406 0 2.671875 0 C 2.328125 0 1.988281 -0.0820312 1.65625 -0.25 C 1.332031 -0.414062 1.007812 -0.664062 0.6875 -1 L 0.6875 -2 L 1.171875 -2 C 1.203125 -1.664062 1.34375 -1.414062 1.59375 -1.25 C 1.851562 -1.082031 2.210938 -1 2.671875 -1 C 3.117188 -1 3.472656 -1.082031 3.734375 -1.25 C 3.992188 -1.425781 4.125 -1.664062 4.125 -1.96875 C 4.125 -2.300781 3.988281 -2.554688 3.71875 -2.734375 C 3.457031 -2.910156 3.070312 -3 2.5625 -3 L 2.140625 -3 L 2.140625 -4 L 2.359375 -4 C 2.867188 -4 3.25 -4.082031 3.5 -4.25 C 3.757812 -4.425781 3.890625 -4.6875 3.890625 -5.03125 C 3.890625 -5.34375 3.785156 -5.582031 3.578125 -5.75 C 3.367188 -5.914062 3.066406 -6 2.671875 -6 C 2.273438 -6 1.96875 -5.914062 1.75 -5.75 C 1.53125 -5.582031 1.398438 -5.332031 1.359375 -5 L 0.875 -5 Z M 0.875 -6 \"/>\n",
       "</symbol>\n",
       "<symbol overflow=\"visible\" id=\"glyph1-11\">\n",
       "<path style=\"stroke:none;\" d=\"M 2.734375 -8 L 2.734375 0 L 0.6875 0 L 0.6875 -1 L 1.90625 -1 L 1.90625 -7 L 0.6875 -7 L 0.6875 -8 Z M 2.734375 -8 \"/>\n",
       "</symbol>\n",
       "<symbol overflow=\"visible\" id=\"glyph1-12\">\n",
       "<path style=\"stroke:none;\" d=\"M 4.71875 -1 L 5.5 -1 L 5.5 0 L 3.921875 0 L 3.921875 -1.203125 C 3.765625 -0.796875 3.5625 -0.492188 3.3125 -0.296875 C 3.070312 -0.0976562 2.769531 0 2.40625 0 C 1.832031 0 1.363281 -0.226562 1 -0.6875 C 0.632812 -1.15625 0.453125 -1.757812 0.453125 -2.5 C 0.453125 -3.25 0.632812 -3.851562 1 -4.3125 C 1.363281 -4.769531 1.832031 -5 2.40625 -5 C 2.769531 -5 3.070312 -4.894531 3.3125 -4.6875 C 3.5625 -4.476562 3.765625 -4.15625 3.921875 -3.71875 L 3.921875 -7 L 3.15625 -7 L 3.15625 -8 L 4.71875 -8 Z M 3.921875 -2.28125 L 3.921875 -2.640625 C 3.921875 -3.078125 3.8125 -3.410156 3.59375 -3.640625 C 3.382812 -3.878906 3.070312 -4 2.65625 -4 C 2.238281 -4 1.921875 -3.875 1.703125 -3.625 C 1.492188 -3.375 1.390625 -3 1.390625 -2.5 C 1.390625 -2.007812 1.492188 -1.632812 1.703125 -1.375 C 1.921875 -1.125 2.238281 -1 2.65625 -1 C 3.070312 -1 3.382812 -1.109375 3.59375 -1.328125 C 3.8125 -1.546875 3.921875 -1.863281 3.921875 -2.28125 Z M 3.921875 -2.28125 \"/>\n",
       "</symbol>\n",
       "<symbol overflow=\"visible\" id=\"glyph1-13\">\n",
       "<path style=\"stroke:none;\" d=\"M 0.96875 -4 L 0.265625 -4 L 0.265625 -5 L 0.96875 -5 L 0.96875 -6 L 1.78125 -6 L 1.78125 -5 L 3.3125 -5 L 3.3125 -4 L 1.78125 -4 L 1.78125 -2.09375 C 1.78125 -1.625 1.816406 -1.320312 1.890625 -1.1875 C 1.972656 -1.0625 2.113281 -1 2.3125 -1 C 2.53125 -1 2.6875 -1.078125 2.78125 -1.234375 C 2.875 -1.390625 2.925781 -1.644531 2.9375 -2 L 3.546875 -2 C 3.523438 -1.300781 3.410156 -0.789062 3.203125 -0.46875 C 2.992188 -0.15625 2.675781 0 2.25 0 C 1.78125 0 1.445312 -0.15625 1.25 -0.46875 C 1.0625 -0.789062 0.96875 -1.332031 0.96875 -2.09375 Z M 0.96875 -4 \"/>\n",
       "</symbol>\n",
       "<symbol overflow=\"visible\" id=\"glyph1-14\">\n",
       "<path style=\"stroke:none;\" d=\"M 1.15625 -5 L 0.65625 -5 L 0.65625 -6 C 0.96875 -6.320312 1.28125 -6.566406 1.59375 -6.734375 C 1.914062 -6.910156 2.226562 -7 2.53125 -7 C 3.21875 -7 3.757812 -6.832031 4.15625 -6.5 C 4.550781 -6.175781 4.75 -5.734375 4.75 -5.171875 C 4.75 -4.535156 4.300781 -3.773438 3.40625 -2.890625 C 3.332031 -2.816406 3.28125 -2.765625 3.25 -2.734375 L 1.59375 -1 L 4.328125 -1 L 4.328125 -2 L 4.84375 -2 L 4.84375 0 L 0.609375 0 L 0.609375 -0.546875 L 2.609375 -2.8125 C 3.046875 -3.1875 3.359375 -3.523438 3.546875 -3.828125 C 3.734375 -4.140625 3.828125 -4.46875 3.828125 -4.8125 C 3.828125 -5.1875 3.710938 -5.476562 3.484375 -5.6875 C 3.253906 -5.894531 2.9375 -6 2.53125 -6 C 2.113281 -6 1.789062 -5.914062 1.5625 -5.75 C 1.332031 -5.582031 1.195312 -5.332031 1.15625 -5 Z M 1.15625 -5 \"/>\n",
       "</symbol>\n",
       "</g>\n",
       "</defs>\n",
       "<g id=\"surface1\">\n",
       "<path style=\"fill-rule:nonzero;fill:rgb(100%,96.078431%,94.117647%);fill-opacity:1;stroke-width:4;stroke-linecap:butt;stroke-linejoin:miter;stroke:rgb(100%,96.078431%,94.117647%);stroke-opacity:1;stroke-miterlimit:10;\" d=\"M 258 -98 C 258 -88.058594 249.941406 -80 240 -80 C 230.058594 -80 222 -88.058594 222 -98 C 222 -107.941406 230.058594 -116 240 -116 C 249.941406 -116 258 -107.941406 258 -98 \" transform=\"matrix(1,0,0,1,4,202)\"/>\n",
       "<g style=\"fill:rgb(0%,0%,0%);fill-opacity:1;\">\n",
       "  <use xlink:href=\"#glyph0-1\" x=\"235\" y=\"106.800781\"/>\n",
       "  <use xlink:href=\"#glyph0-2\" x=\"241.75\" y=\"106.800781\"/>\n",
       "  <use xlink:href=\"#glyph0-1\" x=\"245.5\" y=\"106.800781\"/>\n",
       "</g>\n",
       "<path style=\"fill:none;stroke-width:1;stroke-linecap:butt;stroke-linejoin:miter;stroke:rgb(74.901961%,74.901961%,74.901961%);stroke-opacity:1;stroke-miterlimit:10;\" d=\"M 258.058594 -98 C 271.605469 -98 290.820312 -98 306.53125 -98 \" transform=\"matrix(1,0,0,1,4,202)\"/>\n",
       "<path style=\"fill-rule:nonzero;fill:rgb(74.901961%,74.901961%,74.901961%);fill-opacity:1;stroke-width:1;stroke-linecap:butt;stroke-linejoin:miter;stroke:rgb(74.901961%,74.901961%,74.901961%);stroke-opacity:1;stroke-miterlimit:10;\" d=\"M 306.734375 -101.5 L 316.734375 -98 L 306.734375 -94.5 Z M 306.734375 -101.5 \" transform=\"matrix(1,0,0,1,4,202)\"/>\n",
       "<g style=\"fill:rgb(0%,0%,0%);fill-opacity:1;\">\n",
       "  <use xlink:href=\"#glyph1-1\" x=\"280\" y=\"101.199219\"/>\n",
       "  <use xlink:href=\"#glyph1-2\" x=\"283\" y=\"101.199219\"/>\n",
       "  <use xlink:href=\"#glyph1-3\" x=\"288.25\" y=\"101.199219\"/>\n",
       "  <use xlink:href=\"#glyph1-4\" x=\"294.25\" y=\"101.199219\"/>\n",
       "  <use xlink:href=\"#glyph1-1\" x=\"299.5\" y=\"101.199219\"/>\n",
       "</g>\n",
       "<path style=\"fill-rule:nonzero;fill:rgb(54.117647%,3.137255%,7.058824%);fill-opacity:1;stroke-width:4;stroke-linecap:butt;stroke-linejoin:miter;stroke:rgb(54.117647%,3.137255%,7.058824%);stroke-opacity:1;stroke-miterlimit:10;\" d=\"M 154 -126 C 154 -116.058594 145.941406 -108 136 -108 C 126.058594 -108 118 -116.058594 118 -126 C 118 -135.941406 126.058594 -144 136 -144 C 145.941406 -144 154 -135.941406 154 -126 \" transform=\"matrix(1,0,0,1,4,202)\"/>\n",
       "<g style=\"fill:rgb(0%,0%,0%);fill-opacity:1;\">\n",
       "  <use xlink:href=\"#glyph0-3\" x=\"131\" y=\"78.800781\"/>\n",
       "  <use xlink:href=\"#glyph0-2\" x=\"137.75\" y=\"78.800781\"/>\n",
       "  <use xlink:href=\"#glyph0-1\" x=\"141.5\" y=\"78.800781\"/>\n",
       "</g>\n",
       "<path style=\"fill:none;stroke-width:1;stroke-linecap:butt;stroke-linejoin:miter;stroke:rgb(74.901961%,74.901961%,74.901961%);stroke-opacity:1;stroke-miterlimit:10;\" d=\"M 153.84375 -121.375 C 169.808594 -116.992188 194.042969 -110.339844 212.582031 -105.25 \" transform=\"matrix(1,0,0,1,4,202)\"/>\n",
       "<path style=\"fill-rule:nonzero;fill:rgb(74.901961%,74.901961%,74.901961%);fill-opacity:1;stroke-width:1;stroke-linecap:butt;stroke-linejoin:miter;stroke:rgb(74.901961%,74.901961%,74.901961%);stroke-opacity:1;stroke-miterlimit:10;\" d=\"M 213.753906 -108.558594 L 222.46875 -102.539062 L 211.898438 -101.808594 Z M 213.753906 -108.558594 \" transform=\"matrix(1,0,0,1,4,202)\"/>\n",
       "<g style=\"fill:rgb(0%,0%,0%);fill-opacity:1;\">\n",
       "  <use xlink:href=\"#glyph1-5\" x=\"176\" y=\"83.199219\"/>\n",
       "  <use xlink:href=\"#glyph1-6\" x=\"182\" y=\"83.199219\"/>\n",
       "  <use xlink:href=\"#glyph1-7\" x=\"185\" y=\"83.199219\"/>\n",
       "  <use xlink:href=\"#glyph1-8\" x=\"191\" y=\"83.199219\"/>\n",
       "  <use xlink:href=\"#glyph1-9\" x=\"194\" y=\"83.199219\"/>\n",
       "  <use xlink:href=\"#glyph1-10\" x=\"197.75\" y=\"83.199219\"/>\n",
       "  <use xlink:href=\"#glyph1-11\" x=\"203.75\" y=\"83.199219\"/>\n",
       "</g>\n",
       "<path style=\"fill-rule:nonzero;fill:rgb(98.823529%,66.27451%,54.901961%);fill-opacity:1;stroke-width:4;stroke-linecap:butt;stroke-linejoin:miter;stroke:rgb(98.823529%,66.27451%,54.901961%);stroke-opacity:1;stroke-miterlimit:10;\" d=\"M 154 -72 C 154 -62.058594 145.941406 -54 136 -54 C 126.058594 -54 118 -62.058594 118 -72 C 118 -81.941406 126.058594 -90 136 -90 C 145.941406 -90 154 -81.941406 154 -72 \" transform=\"matrix(1,0,0,1,4,202)\"/>\n",
       "<g style=\"fill:rgb(0%,0%,0%);fill-opacity:1;\">\n",
       "  <use xlink:href=\"#glyph0-3\" x=\"131\" y=\"132.800781\"/>\n",
       "  <use xlink:href=\"#glyph0-2\" x=\"137.75\" y=\"132.800781\"/>\n",
       "  <use xlink:href=\"#glyph0-3\" x=\"141.5\" y=\"132.800781\"/>\n",
       "</g>\n",
       "<path style=\"fill:none;stroke-width:1;stroke-linecap:butt;stroke-linejoin:miter;stroke:rgb(74.901961%,74.901961%,74.901961%);stroke-opacity:1;stroke-miterlimit:10;\" d=\"M 153.84375 -76.292969 C 169.808594 -80.363281 194.042969 -86.539062 212.582031 -91.265625 \" transform=\"matrix(1,0,0,1,4,202)\"/>\n",
       "<path style=\"fill-rule:nonzero;fill:rgb(74.901961%,74.901961%,74.901961%);fill-opacity:1;stroke-width:1;stroke-linecap:butt;stroke-linejoin:miter;stroke:rgb(74.901961%,74.901961%,74.901961%);stroke-opacity:1;stroke-miterlimit:10;\" d=\"M 211.914062 -94.707031 L 222.46875 -93.785156 L 213.644531 -87.925781 Z M 211.914062 -94.707031 \" transform=\"matrix(1,0,0,1,4,202)\"/>\n",
       "<g style=\"fill:rgb(0%,0%,0%);fill-opacity:1;\">\n",
       "  <use xlink:href=\"#glyph1-5\" x=\"176\" y=\"111.199219\"/>\n",
       "  <use xlink:href=\"#glyph1-6\" x=\"182\" y=\"111.199219\"/>\n",
       "  <use xlink:href=\"#glyph1-5\" x=\"185\" y=\"111.199219\"/>\n",
       "  <use xlink:href=\"#glyph1-8\" x=\"191\" y=\"111.199219\"/>\n",
       "  <use xlink:href=\"#glyph1-9\" x=\"194\" y=\"111.199219\"/>\n",
       "  <use xlink:href=\"#glyph1-10\" x=\"197.75\" y=\"111.199219\"/>\n",
       "  <use xlink:href=\"#glyph1-11\" x=\"203.75\" y=\"111.199219\"/>\n",
       "</g>\n",
       "<path style=\"fill-rule:nonzero;fill:rgb(51.764706%,2.745098%,6.666667%);fill-opacity:1;stroke-width:4;stroke-linecap:butt;stroke-linejoin:miter;stroke:rgb(51.764706%,2.745098%,6.666667%);stroke-opacity:1;stroke-miterlimit:10;\" d=\"M 36 -180 C 36 -170.058594 27.941406 -162 18 -162 C 8.058594 -162 0 -170.058594 0 -180 C 0 -189.941406 8.058594 -198 18 -198 C 27.941406 -198 36 -189.941406 36 -180 \" transform=\"matrix(1,0,0,1,4,202)\"/>\n",
       "<g style=\"fill:rgb(0%,0%,0%);fill-opacity:1;\">\n",
       "  <use xlink:href=\"#glyph0-4\" x=\"4\" y=\"24.800781\"/>\n",
       "  <use xlink:href=\"#glyph0-5\" x=\"10.75\" y=\"24.800781\"/>\n",
       "  <use xlink:href=\"#glyph0-6\" x=\"17.5\" y=\"24.800781\"/>\n",
       "  <use xlink:href=\"#glyph0-5\" x=\"22\" y=\"24.800781\"/>\n",
       "  <use xlink:href=\"#glyph0-2\" x=\"28.75\" y=\"24.800781\"/>\n",
       "  <use xlink:href=\"#glyph0-1\" x=\"32.5\" y=\"24.800781\"/>\n",
       "</g>\n",
       "<path style=\"fill:none;stroke-width:1;stroke-linecap:butt;stroke-linejoin:miter;stroke:rgb(74.901961%,74.901961%,74.901961%);stroke-opacity:1;stroke-miterlimit:10;\" d=\"M 34.644531 -172.71875 C 54.015625 -163.699219 87.25 -148.230469 110.132812 -137.578125 \" transform=\"matrix(1,0,0,1,4,202)\"/>\n",
       "<path style=\"fill-rule:nonzero;fill:rgb(74.901961%,74.901961%,74.901961%);fill-opacity:1;stroke-width:1;stroke-linecap:butt;stroke-linejoin:miter;stroke:rgb(74.901961%,74.901961%,74.901961%);stroke-opacity:1;stroke-miterlimit:10;\" d=\"M 111.644531 -140.734375 L 119.234375 -133.339844 L 108.691406 -134.386719 Z M 111.644531 -140.734375 \" transform=\"matrix(1,0,0,1,4,202)\"/>\n",
       "<g style=\"fill:rgb(0%,0%,0%);fill-opacity:1;\">\n",
       "  <use xlink:href=\"#glyph1-12\" x=\"58\" y=\"37.199219\"/>\n",
       "  <use xlink:href=\"#glyph1-2\" x=\"64\" y=\"37.199219\"/>\n",
       "  <use xlink:href=\"#glyph1-13\" x=\"69.25\" y=\"37.199219\"/>\n",
       "  <use xlink:href=\"#glyph1-2\" x=\"73\" y=\"37.199219\"/>\n",
       "  <use xlink:href=\"#glyph1-6\" x=\"78.25\" y=\"37.199219\"/>\n",
       "  <use xlink:href=\"#glyph1-7\" x=\"81.25\" y=\"37.199219\"/>\n",
       "  <use xlink:href=\"#glyph1-8\" x=\"87.25\" y=\"37.199219\"/>\n",
       "  <use xlink:href=\"#glyph1-9\" x=\"90.25\" y=\"37.199219\"/>\n",
       "  <use xlink:href=\"#glyph1-14\" x=\"94\" y=\"37.199219\"/>\n",
       "  <use xlink:href=\"#glyph1-11\" x=\"100\" y=\"37.199219\"/>\n",
       "</g>\n",
       "<path style=\"fill-rule:nonzero;fill:rgb(40.392157%,0%,5.098039%);fill-opacity:1;stroke-width:4;stroke-linecap:butt;stroke-linejoin:miter;stroke:rgb(40.392157%,0%,5.098039%);stroke-opacity:1;stroke-miterlimit:10;\" d=\"M 36 -126 C 36 -116.058594 27.941406 -108 18 -108 C 8.058594 -108 0 -116.058594 0 -126 C 0 -135.941406 8.058594 -144 18 -144 C 27.941406 -144 36 -135.941406 36 -126 \" transform=\"matrix(1,0,0,1,4,202)\"/>\n",
       "<g style=\"fill:rgb(0%,0%,0%);fill-opacity:1;\">\n",
       "  <use xlink:href=\"#glyph0-4\" x=\"4\" y=\"78.800781\"/>\n",
       "  <use xlink:href=\"#glyph0-5\" x=\"10.75\" y=\"78.800781\"/>\n",
       "  <use xlink:href=\"#glyph0-6\" x=\"17.5\" y=\"78.800781\"/>\n",
       "  <use xlink:href=\"#glyph0-5\" x=\"22\" y=\"78.800781\"/>\n",
       "  <use xlink:href=\"#glyph0-2\" x=\"28.75\" y=\"78.800781\"/>\n",
       "  <use xlink:href=\"#glyph0-3\" x=\"32.5\" y=\"78.800781\"/>\n",
       "</g>\n",
       "<path style=\"fill:none;stroke-width:1;stroke-linecap:butt;stroke-linejoin:miter;stroke:rgb(74.901961%,74.901961%,74.901961%);stroke-opacity:1;stroke-miterlimit:10;\" d=\"M 36.117188 -126 C 54.964844 -126 85.53125 -126 107.695312 -126 \" transform=\"matrix(1,0,0,1,4,202)\"/>\n",
       "<path style=\"fill-rule:nonzero;fill:rgb(74.901961%,74.901961%,74.901961%);fill-opacity:1;stroke-width:1;stroke-linecap:butt;stroke-linejoin:miter;stroke:rgb(74.901961%,74.901961%,74.901961%);stroke-opacity:1;stroke-miterlimit:10;\" d=\"M 107.8125 -129.5 L 117.8125 -126 L 107.8125 -122.5 Z M 107.8125 -129.5 \" transform=\"matrix(1,0,0,1,4,202)\"/>\n",
       "<g style=\"fill:rgb(0%,0%,0%);fill-opacity:1;\">\n",
       "  <use xlink:href=\"#glyph1-12\" x=\"58\" y=\"73.199219\"/>\n",
       "  <use xlink:href=\"#glyph1-2\" x=\"64\" y=\"73.199219\"/>\n",
       "  <use xlink:href=\"#glyph1-13\" x=\"69.25\" y=\"73.199219\"/>\n",
       "  <use xlink:href=\"#glyph1-2\" x=\"73\" y=\"73.199219\"/>\n",
       "  <use xlink:href=\"#glyph1-6\" x=\"78.25\" y=\"73.199219\"/>\n",
       "  <use xlink:href=\"#glyph1-5\" x=\"81.25\" y=\"73.199219\"/>\n",
       "  <use xlink:href=\"#glyph1-8\" x=\"87.25\" y=\"73.199219\"/>\n",
       "  <use xlink:href=\"#glyph1-9\" x=\"90.25\" y=\"73.199219\"/>\n",
       "  <use xlink:href=\"#glyph1-14\" x=\"94\" y=\"73.199219\"/>\n",
       "  <use xlink:href=\"#glyph1-11\" x=\"100\" y=\"73.199219\"/>\n",
       "</g>\n",
       "<path style=\"fill-rule:nonzero;fill:rgb(98.823529%,53.72549%,41.176471%);fill-opacity:1;stroke-width:4;stroke-linecap:butt;stroke-linejoin:miter;stroke:rgb(98.823529%,53.72549%,41.176471%);stroke-opacity:1;stroke-miterlimit:10;\" d=\"M 36 -72 C 36 -62.058594 27.941406 -54 18 -54 C 8.058594 -54 0 -62.058594 0 -72 C 0 -81.941406 8.058594 -90 18 -90 C 27.941406 -90 36 -81.941406 36 -72 \" transform=\"matrix(1,0,0,1,4,202)\"/>\n",
       "<g style=\"fill:rgb(0%,0%,0%);fill-opacity:1;\">\n",
       "  <use xlink:href=\"#glyph0-4\" x=\"4\" y=\"132.800781\"/>\n",
       "  <use xlink:href=\"#glyph0-5\" x=\"10.75\" y=\"132.800781\"/>\n",
       "  <use xlink:href=\"#glyph0-6\" x=\"17.5\" y=\"132.800781\"/>\n",
       "  <use xlink:href=\"#glyph0-5\" x=\"22\" y=\"132.800781\"/>\n",
       "  <use xlink:href=\"#glyph0-2\" x=\"28.75\" y=\"132.800781\"/>\n",
       "  <use xlink:href=\"#glyph0-7\" x=\"32.5\" y=\"132.800781\"/>\n",
       "</g>\n",
       "<path style=\"fill:none;stroke-width:1;stroke-linecap:butt;stroke-linejoin:miter;stroke:rgb(74.901961%,74.901961%,74.901961%);stroke-opacity:1;stroke-miterlimit:10;\" d=\"M 36.117188 -72 C 54.964844 -72 85.53125 -72 107.695312 -72 \" transform=\"matrix(1,0,0,1,4,202)\"/>\n",
       "<path style=\"fill-rule:nonzero;fill:rgb(74.901961%,74.901961%,74.901961%);fill-opacity:1;stroke-width:1;stroke-linecap:butt;stroke-linejoin:miter;stroke:rgb(74.901961%,74.901961%,74.901961%);stroke-opacity:1;stroke-miterlimit:10;\" d=\"M 107.8125 -75.5 L 117.8125 -72 L 107.8125 -68.5 Z M 107.8125 -75.5 \" transform=\"matrix(1,0,0,1,4,202)\"/>\n",
       "<g style=\"fill:rgb(0%,0%,0%);fill-opacity:1;\">\n",
       "  <use xlink:href=\"#glyph1-12\" x=\"58\" y=\"127.199219\"/>\n",
       "  <use xlink:href=\"#glyph1-2\" x=\"64\" y=\"127.199219\"/>\n",
       "  <use xlink:href=\"#glyph1-13\" x=\"69.25\" y=\"127.199219\"/>\n",
       "  <use xlink:href=\"#glyph1-2\" x=\"73\" y=\"127.199219\"/>\n",
       "  <use xlink:href=\"#glyph1-6\" x=\"78.25\" y=\"127.199219\"/>\n",
       "  <use xlink:href=\"#glyph1-14\" x=\"81.25\" y=\"127.199219\"/>\n",
       "  <use xlink:href=\"#glyph1-8\" x=\"87.25\" y=\"127.199219\"/>\n",
       "  <use xlink:href=\"#glyph1-9\" x=\"90.25\" y=\"127.199219\"/>\n",
       "  <use xlink:href=\"#glyph1-14\" x=\"94\" y=\"127.199219\"/>\n",
       "  <use xlink:href=\"#glyph1-11\" x=\"100\" y=\"127.199219\"/>\n",
       "</g>\n",
       "<path style=\"fill-rule:nonzero;fill:rgb(68.627451%,6.666667%,9.019608%);fill-opacity:1;stroke-width:4;stroke-linecap:butt;stroke-linejoin:miter;stroke:rgb(68.627451%,6.666667%,9.019608%);stroke-opacity:1;stroke-miterlimit:10;\" d=\"M 36 -18 C 36 -8.058594 27.941406 0 18 0 C 8.058594 0 0 -8.058594 0 -18 C 0 -27.941406 8.058594 -36 18 -36 C 27.941406 -36 36 -27.941406 36 -18 \" transform=\"matrix(1,0,0,1,4,202)\"/>\n",
       "<g style=\"fill:rgb(0%,0%,0%);fill-opacity:1;\">\n",
       "  <use xlink:href=\"#glyph0-4\" x=\"4\" y=\"186.800781\"/>\n",
       "  <use xlink:href=\"#glyph0-5\" x=\"10.75\" y=\"186.800781\"/>\n",
       "  <use xlink:href=\"#glyph0-6\" x=\"17.5\" y=\"186.800781\"/>\n",
       "  <use xlink:href=\"#glyph0-5\" x=\"22\" y=\"186.800781\"/>\n",
       "  <use xlink:href=\"#glyph0-2\" x=\"28.75\" y=\"186.800781\"/>\n",
       "  <use xlink:href=\"#glyph0-8\" x=\"32.5\" y=\"186.800781\"/>\n",
       "</g>\n",
       "<path style=\"fill:none;stroke-width:1;stroke-linecap:butt;stroke-linejoin:miter;stroke:rgb(74.901961%,74.901961%,74.901961%);stroke-opacity:1;stroke-miterlimit:10;\" d=\"M 34.644531 -25.28125 C 54.015625 -34.300781 87.25 -49.769531 110.132812 -60.421875 \" transform=\"matrix(1,0,0,1,4,202)\"/>\n",
       "<path style=\"fill-rule:nonzero;fill:rgb(74.901961%,74.901961%,74.901961%);fill-opacity:1;stroke-width:1;stroke-linecap:butt;stroke-linejoin:miter;stroke:rgb(74.901961%,74.901961%,74.901961%);stroke-opacity:1;stroke-miterlimit:10;\" d=\"M 108.691406 -63.613281 L 119.234375 -64.660156 L 111.644531 -57.265625 Z M 108.691406 -63.613281 \" transform=\"matrix(1,0,0,1,4,202)\"/>\n",
       "<g style=\"fill:rgb(0%,0%,0%);fill-opacity:1;\">\n",
       "  <use xlink:href=\"#glyph1-12\" x=\"58\" y=\"145.199219\"/>\n",
       "  <use xlink:href=\"#glyph1-2\" x=\"64\" y=\"145.199219\"/>\n",
       "  <use xlink:href=\"#glyph1-13\" x=\"69.25\" y=\"145.199219\"/>\n",
       "  <use xlink:href=\"#glyph1-2\" x=\"73\" y=\"145.199219\"/>\n",
       "  <use xlink:href=\"#glyph1-6\" x=\"78.25\" y=\"145.199219\"/>\n",
       "  <use xlink:href=\"#glyph1-10\" x=\"81.25\" y=\"145.199219\"/>\n",
       "  <use xlink:href=\"#glyph1-8\" x=\"87.25\" y=\"145.199219\"/>\n",
       "  <use xlink:href=\"#glyph1-9\" x=\"90.25\" y=\"145.199219\"/>\n",
       "  <use xlink:href=\"#glyph1-14\" x=\"94\" y=\"145.199219\"/>\n",
       "  <use xlink:href=\"#glyph1-11\" x=\"100\" y=\"145.199219\"/>\n",
       "</g>\n",
       "</g>\n",
       "</svg>\n"
      ],
      "text/plain": [
       "<graphviz.graphs.Digraph at 0x7f64135943a0>"
      ]
     },
     "execution_count": 206,
     "metadata": {},
     "output_type": "execute_result"
    }
   ],
   "source": [
    "dot = draw_mi(model)\n",
    "dot"
   ]
  },
  {
   "cell_type": "code",
   "execution_count": 207,
   "metadata": {},
   "outputs": [
    {
     "data": {
      "text/plain": [
       "'iris_models/mi_iris_bd3_poly_20240327-212513.cairo.png'"
      ]
     },
     "execution_count": 207,
     "metadata": {},
     "output_type": "execute_result"
    }
   ],
   "source": [
    "dot.render(MODEL_DIR + f'/mi_{DATASET}_bd{BOND_DIM}_{MAPPING}_{now.strftime(\"%Y%m%d-%H%M%S\")}', format='png', cleanup=True)"
   ]
  },
  {
   "cell_type": "code",
   "execution_count": 45,
   "metadata": {},
   "outputs": [],
   "source": [
    "data = []\n",
    "labels = []\n",
    "\n",
    "for x, y in train_dl:\n",
    "    data.append(x)\n",
    "    labels.append(y)\n",
    "\n",
    "for x, y in test_dl:\n",
    "    data.append(x)\n",
    "    labels.append(y)\n",
    "\n",
    "data = torch.cat(data, dim=0)\n",
    "labels = torch.cat(labels, dim=0)\n",
    "\n",
    "#np.save(MODEL_DIR + f'/data_{DATASET}_{MAPPING}_{now.strftime(\"%Y%m%d-%H%M%S\")}.npy', data)\n",
    "#np.save(MODEL_DIR + f'/labels_{DATASET}_{MAPPING}_{now.strftime(\"%Y%m%d-%H%M%S\")}.npy', labels)"
   ]
  },
  {
   "cell_type": "code",
   "execution_count": 58,
   "metadata": {},
   "outputs": [
    {
     "data": {
      "text/plain": [
       "(array([  2.,   3.,   4.,  23.,  28.,  52.,  70., 132., 248., 288.]),\n",
       " array([6.123234e-17, 1.000000e-01, 2.000000e-01, 3.000000e-01,\n",
       "        4.000000e-01, 5.000000e-01, 6.000000e-01, 7.000000e-01,\n",
       "        8.000000e-01, 9.000000e-01, 1.000000e+00]),\n",
       " <BarContainer object of 10 artists>)"
      ]
     },
     "execution_count": 58,
     "metadata": {},
     "output_type": "execute_result"
    },
    {
     "data": {
      "image/png": "[encoded data removed]",
      "text/plain": [
       "<Figure size 640x480 with 1 Axes>"
      ]
     },
     "metadata": {},
     "output_type": "display_data"
    }
   ],
   "source": [
    "plt.hist(data[:,np.nonzero(np.array(titanic_features) == 'age')[0][0], 0].flatten())"
   ]
  },
  {
   "cell_type": "markdown",
   "metadata": {},
   "source": [
    "## Get weights distribution"
   ]
  },
  {
   "cell_type": "code",
   "execution_count": 162,
   "metadata": {},
   "outputs": [],
   "source": [
    "def get_weights_population(n, dataloader, disable_pbar=False, **kws):\n",
    "    weights_ls = []\n",
    "    DEVICE = 'cuda'\n",
    "    BATCH_SIZE = 64\n",
    "    DTYPE = torch.double\n",
    "    INIT_EPOCHS = 5\n",
    "    LR = 0.05\n",
    "    EPOCHS = 80\n",
    "    SCHEDULER_STEPS = 4\n",
    "    train_dl, test_dl, features = dataloader(batch_size=BATCH_SIZE, **kws)\n",
    "\n",
    "    label_shape = next(iter(train_dl))[1].shape\n",
    "    N_LABELS = 1 if len(label_shape) == 1 else label_shape[1]\n",
    "    \n",
    "    pbar = tqdm(total=n*EPOCHS*len(train_dl), position=0, desc='weights population', leave=True, disable=disable_pbar)\n",
    "    for _ in range(n):        \n",
    "        model = TTNModel(features, bond_dim=BOND_DIM, n_labels=N_LABELS, device=DEVICE, dtype=DTYPE)\n",
    "        model.initialize(True, train_dl, class_loss, INIT_EPOCHS, disable_pbar=True)\n",
    "        model.train()\n",
    "        model.to(DEVICE)\n",
    "        optimizer = torch.optim.Adam(model.parameters(), lr=LR, weight_decay=1e-4)\n",
    "        schedulers = [torch.optim.lr_scheduler.ExponentialLR(optimizer, 0.9, last_epoch=-1, verbose=False), torch.optim.lr_scheduler.CosineAnnealingLR(optimizer, 10, eta_min=1e-5)]\n",
    "        scheduler = schedulers[0]\n",
    "        tot_loss_history = []\n",
    "        for epoch in range(EPOCHS):\n",
    "            loss_history = train_one_epoch(model, DEVICE, train_dl, class_loss, optimizer, pbar=pbar, disable_pbar=disable_pbar)\n",
    "            tot_loss_history += loss_history\n",
    "            if epoch % SCHEDULER_STEPS == SCHEDULER_STEPS-1:\n",
    "                scheduler.step()\n",
    "\n",
    "        loss_history = np.array(tot_loss_history)\n",
    "        print('Accuracy on train and test set:', accuracy(model, DEVICE, train_dl, test_dl, DTYPE, disable_pbar=True))\n",
    "\n",
    "        weights = [tensor.detach().cpu().flatten() for tensor in model.tensors]\n",
    "        weights_ls.append(torch.concat(weights, dim=0))\n",
    "        train_dl, test_dl, h = dataloader(batch_size=BATCH_SIZE, **kws)\n",
    "    return torch.stack(weights_ls)"
   ]
  },
  {
   "cell_type": "code",
   "execution_count": 163,
   "metadata": {},
   "outputs": [
    {
     "name": "stderr",
     "output_type": "stream",
     "text": [
      "weights population:  20%|██        | 1120/5600 [00:45<02:50, 26.26it/s, current loss=0.0179, batches 0-10 loss=0.0884, epoch mean loss=0.0826]"
     ]
    },
    {
     "name": "stdout",
     "output_type": "stream",
     "text": [
      "Accuracy on train and test set: (0.7709832134292566, 0.7751196172248804)\n"
     ]
    },
    {
     "name": "stderr",
     "output_type": "stream",
     "text": [
      "weights population:  40%|████      | 2240/5600 [01:31<02:07, 26.43it/s, current loss=0.00987, batches 0-10 loss=0.0898, epoch mean loss=0.0837]"
     ]
    },
    {
     "name": "stdout",
     "output_type": "stream",
     "text": [
      "Accuracy on train and test set: (0.762589928057554, 0.8038277511961722)\n"
     ]
    },
    {
     "name": "stderr",
     "output_type": "stream",
     "text": [
      "weights population:  60%|██████    | 3360/5600 [02:17<01:24, 26.48it/s, current loss=0.0152, batches 0-10 loss=0.0905, epoch mean loss=0.0824] "
     ]
    },
    {
     "name": "stdout",
     "output_type": "stream",
     "text": [
      "Accuracy on train and test set: (0.7997601918465228, 0.8038277511961722)\n"
     ]
    },
    {
     "name": "stderr",
     "output_type": "stream",
     "text": [
      "weights population:  80%|████████  | 4480/5600 [03:03<00:42, 26.64it/s, current loss=0.0278, batches 0-10 loss=0.0893, epoch mean loss=0.0857]"
     ]
    },
    {
     "name": "stdout",
     "output_type": "stream",
     "text": [
      "Accuracy on train and test set: (0.7805755395683454, 0.7751196172248804)\n"
     ]
    },
    {
     "name": "stderr",
     "output_type": "stream",
     "text": [
      "weights population: 100%|██████████| 5600/5600 [03:50<00:00, 24.31it/s, current loss=0.00934, batches 0-10 loss=0.0808, epoch mean loss=0.08]  "
     ]
    },
    {
     "name": "stdout",
     "output_type": "stream",
     "text": [
      "Accuracy on train and test set: (0.7889688249400479, 0.7464114832535885)\n"
     ]
    },
    {
     "name": "stderr",
     "output_type": "stream",
     "text": [
      "\n"
     ]
    }
   ],
   "source": [
    "BOND_DIM = 10\n",
    "weights = get_weights_population(5, get_titanic_data_loaders)"
   ]
  },
  {
   "cell_type": "code",
   "execution_count": 177,
   "metadata": {},
   "outputs": [
    {
     "data": {
      "image/png": "[encoded data removed]",
      "text/plain": [
       "<Figure size 800x600 with 1 Axes>"
      ]
     },
     "metadata": {},
     "output_type": "display_data"
    }
   ],
   "source": [
    "weights_plt = weights.flatten().numpy()\n",
    "np.save(f'models/weights_{BOND_DIM}_{now.strftime(\"%Y%m%d-%H%M%S\")}.npy', weights.numpy())\n",
    "FS = 16\n",
    "fig, ax = plt.subplots(1, 1, figsize=(8, 6))\n",
    "ax.hist(weights_plt, bins=40)\n",
    "ax.set_xlabel('Weight', fontsize=FS)\n",
    "ax.set_ylabel('Counts', fontsize=FS)\n",
    "ax.set_title('Weights Distribution', fontsize=FS+2)\n",
    "ax.tick_params(axis='both', which='major', labelsize=FS-2)\n",
    "#ax.set_yticklabels(ax.get_yticks(), fontsize=FS-2)\n",
    "\n",
    "fig.savefig(f'models/weight_distribution_{BOND_DIM}_{now.strftime(\"%Y%m%d-%H%M%S\")}.svg')"
   ]
  },
  {
   "cell_type": "code",
   "execution_count": 11,
   "metadata": {},
   "outputs": [
    {
     "data": {
      "text/plain": [
       "tensor([-9.2217e-01, -4.2329e-01,  4.4709e-01, -7.4299e-02,  3.6544e-01,\n",
       "         3.4145e-01,  9.7104e-02,  1.1460e-01,  8.4942e-02,  4.1804e-01,\n",
       "        -2.0786e-01,  5.0099e-01,  5.1867e-01,  5.7739e-01,  2.0253e-02,\n",
       "         6.7193e-03,  2.1394e-01,  5.1458e-01,  3.8172e-01,  1.1885e-01,\n",
       "         4.4091e-01, -2.6139e-01, -4.2266e-03,  1.0388e-02, -5.1384e-01,\n",
       "         5.5568e-01, -2.8352e-01,  1.0219e-01,  4.4307e-01,  2.8679e-01,\n",
       "        -5.1136e-02, -5.8614e-02,  2.2028e-01, -2.7422e-01, -5.2680e-01,\n",
       "        -1.7147e-01, -1.9369e-01, -1.0301e-01,  7.6463e-01, -2.1637e-01,\n",
       "         8.6044e-01,  6.4869e-02, -1.3599e-01, -3.5713e-01,  2.6609e-01,\n",
       "        -5.4260e-01, -2.7559e-02,  7.0734e-02,  3.4830e-02,  2.6921e-02,\n",
       "         2.9916e-02, -9.8469e-02, -5.0250e-02, -3.0016e-02,  6.9496e-01,\n",
       "         1.0065e+00, -1.4466e-01,  1.2498e-01, -5.6093e-01, -8.0377e-02,\n",
       "         5.5591e-01, -3.0993e-01,  1.3394e-01,  3.2452e-01, -4.5843e-01,\n",
       "        -2.1284e-01, -2.8563e-01,  6.4911e-01,  1.5247e+00,  1.2975e-01,\n",
       "         1.0633e-01,  7.2993e-01, -1.5599e-01,  1.0488e-02, -2.1923e-01,\n",
       "         2.9434e-01, -1.0729e+00, -2.2421e-01,  1.6930e-01,  3.3773e-01,\n",
       "        -1.5011e+00,  3.0347e-01,  4.6981e-02,  5.0011e-02,  3.2988e-02,\n",
       "         1.4684e-01, -4.0388e-01, -4.1126e-01,  5.9517e-02, -1.1837e-01,\n",
       "        -9.4991e-01, -9.7783e-03,  2.3397e-01, -1.7740e-01,  7.6189e-02,\n",
       "         1.9531e-03,  1.3892e+00,  7.2953e-01,  3.1528e-01,  1.8426e-01,\n",
       "        -9.0735e-01, -3.2490e-01, -4.3644e-01, -6.1101e-01,  7.5372e-01,\n",
       "        -4.6103e-01, -3.3268e-01, -4.9918e-02,  1.8617e-01, -8.5841e-01,\n",
       "        -5.4245e-01, -8.5732e-01,  5.9547e-02,  8.3078e-01, -5.3144e-02,\n",
       "         1.3743e-01,  2.2266e-01, -4.9524e-01,  2.1335e-01,  7.4037e-02,\n",
       "         1.2762e-02,  5.9266e-01,  4.9248e-02,  8.9685e-01, -1.2284e-01,\n",
       "        -1.7495e-01, -1.5138e-01, -1.1943e-01, -1.6203e-01,  1.3479e-02,\n",
       "         4.6610e-01,  1.1720e-02, -1.6572e-01,  1.2810e-01,  1.9540e-02,\n",
       "        -2.9538e-01, -1.6236e-01, -2.1235e-01, -5.2059e-01,  7.3949e-02,\n",
       "         1.0287e-01, -7.1663e-02, -2.6194e-03, -5.7986e-03,  3.4336e-01,\n",
       "        -6.4528e-01, -4.6691e-01,  4.4636e-01,  7.0372e-02, -1.5722e-01,\n",
       "        -1.8339e-02,  1.0516e-02, -3.8724e-02, -1.6818e-02,  3.5191e-02,\n",
       "        -5.2458e-02, -6.0549e-02, -5.4715e-03,  1.0348e+00, -2.0995e-03,\n",
       "        -5.1639e-01, -1.7740e+00, -6.3848e-01, -3.0825e-01,  3.4155e-01,\n",
       "         2.0983e-01, -7.1222e-01, -4.4221e-01, -4.9449e-01, -5.8403e-01,\n",
       "         1.9727e-01, -3.2826e-01, -1.0412e+00,  4.4646e-01, -5.4088e-02,\n",
       "         4.7334e-02, -3.7333e-02, -3.4217e-01,  2.9800e-02, -7.6397e-01,\n",
       "         5.5037e-01,  1.2920e+00,  3.2158e-01,  3.5773e-01,  1.7880e-01,\n",
       "         3.1413e-01,  1.0010e-01,  4.7666e-01,  5.2848e-02, -9.4648e-03,\n",
       "         1.3255e-02,  1.0068e+00, -1.0662e+00, -9.5072e-01, -2.0485e+00,\n",
       "        -4.7835e-01, -9.0362e-01,  9.1310e-01,  7.1838e-01,  3.0133e-01,\n",
       "         1.4102e+00,  1.2504e-01, -7.2334e-01, -1.5637e-01, -2.9142e-01,\n",
       "        -6.0035e-01,  3.4279e-01,  2.7814e-01,  5.5670e-01,  3.0179e-01,\n",
       "        -2.4103e-01,  6.4678e-02, -5.6058e-01, -1.3880e-01,  1.9993e-02,\n",
       "        -1.5969e-01,  5.2349e-01, -2.3823e-01,  5.6475e-01, -2.9635e-01,\n",
       "        -5.0680e-01, -3.1276e-01, -8.3348e-03, -2.0085e-01,  5.5036e-02,\n",
       "         1.6151e+00,  1.6606e+00,  1.0403e+00,  9.4705e-01, -4.7965e-01,\n",
       "        -1.0089e+00,  4.0247e-01, -2.9788e+00, -1.0807e+00, -3.3385e-01,\n",
       "        -1.0719e-01, -5.4216e-01,  1.8255e+00,  5.2226e-01,  3.6061e-01,\n",
       "        -1.9082e+00, -9.0754e-01, -2.4850e-01, -2.1877e-02, -6.7908e-01,\n",
       "         4.8569e-01, -1.1255e-02, -2.7338e-02, -6.8566e-01, -7.6138e-01,\n",
       "        -3.0890e-02, -3.6073e-01, -6.9097e-03,  3.3321e-01,  2.8551e-01,\n",
       "         6.1560e-02, -1.6305e+00,  6.2180e-01,  6.7465e-01,  5.3915e-01,\n",
       "         5.8484e-01,  5.9997e-01, -3.6981e-01,  7.4994e-02,  7.8041e-01,\n",
       "        -1.0042e+00, -1.4802e+00,  3.0202e-01,  5.5843e-02, -3.3849e-01,\n",
       "        -2.2426e-02,  1.0606e-01, -7.9102e-03,  4.4189e-01, -1.3214e+00,\n",
       "         3.3172e-01, -1.3337e-01,  1.5137e-01, -5.0382e-03, -1.0774e-02,\n",
       "         3.7484e-01,  1.3885e-01, -4.7436e-01, -9.8451e-01,  3.0291e-01,\n",
       "        -4.3948e-01,  3.6655e-02,  1.5188e-01, -3.1235e-01,  8.3521e-01,\n",
       "        -1.6334e-01,  1.7231e-01,  1.4637e+00,  1.4256e-01,  8.8769e-02,\n",
       "         3.9161e-02,  4.3198e-01,  1.9923e-01,  1.3199e-01, -2.2741e-01,\n",
       "         2.9432e-01, -1.2926e+00,  1.2632e-01,  1.5680e-01,  7.4420e-02,\n",
       "        -9.4310e-03, -3.5196e-02, -7.3773e-02, -4.0533e-02, -2.6035e-02,\n",
       "         1.0266e+00,  6.2021e-02,  7.9202e-03,  2.7691e-02, -9.4560e-02,\n",
       "         7.6546e-02,  1.9023e-02, -1.9897e-04, -1.9465e-02, -1.0190e+00,\n",
       "         6.3899e-01,  4.9501e-02,  8.1225e-01,  5.0136e-02,  2.5945e-01,\n",
       "        -9.3769e-01,  2.2901e-01,  5.7982e-01, -8.1700e-01, -1.1687e-01,\n",
       "         6.4218e-01, -6.0870e-02, -3.7430e-01,  7.3832e-01,  7.3215e-03,\n",
       "         1.0111e+00,  4.0559e-02, -3.0023e-01,  5.4924e-01,  8.1854e-01,\n",
       "        -5.4046e-01,  1.3464e+00,  2.6060e-01,  5.6412e-02, -1.5175e-01,\n",
       "         1.1290e-01, -1.0401e+00,  5.1764e-01,  2.0802e+00,  1.0893e+00,\n",
       "        -5.5558e-01, -3.3939e-02,  2.9404e-02, -5.1238e-02,  1.5932e-01,\n",
       "         9.7359e-01, -5.4765e-01,  1.8744e+00,  3.0244e-01, -1.2948e-01,\n",
       "         3.7276e-02,  5.4629e-02, -1.2377e+00,  1.9875e-01,  2.8096e+00,\n",
       "        -1.1545e-01,  2.5705e-01, -1.0779e-01, -6.3951e-02, -2.8444e-01,\n",
       "        -1.0551e+00,  1.3607e-01, -1.0236e-01,  4.8836e-02,  5.0536e-02,\n",
       "         9.7976e-01,  4.9371e-02,  1.5846e+00, -9.9962e-02,  1.3817e-01,\n",
       "         1.8180e+00, -1.1747e-01, -7.7844e-02,  4.7402e-02],\n",
       "       dtype=torch.float64)"
      ]
     },
     "execution_count": 11,
     "metadata": {},
     "output_type": "execute_result"
    }
   ],
   "source": [
    "weights = [tensor.detach().cpu().flatten() for tensor in model.tensors]\n",
    "weights = torch.concat(weights, dim=0)\n",
    "weights"
   ]
  },
  {
   "cell_type": "code",
   "execution_count": 15,
   "metadata": {},
   "outputs": [
    {
     "data": {
      "text/plain": [
       "(array([ 1.,  0.,  0.,  0.,  0.,  0.,  1.,  1.,  1.,  1.,  2.,  2.,  1.,\n",
       "        10., 10.,  6., 15., 18., 25., 40., 90., 48., 33., 17., 19., 12.,\n",
       "         7.,  9.,  1.,  2.,  3.,  3.,  1.,  3.,  1.,  0.,  0.,  0.,  0.,\n",
       "         1.]),\n",
       " array([-2.97877278, -2.83406458, -2.68935638, -2.54464818, -2.39993999,\n",
       "        -2.25523179, -2.11052359, -1.96581539, -1.8211072 , -1.676399  ,\n",
       "        -1.5316908 , -1.3869826 , -1.24227441, -1.09756621, -0.95285801,\n",
       "        -0.80814981, -0.66344162, -0.51873342, -0.37402522, -0.22931702,\n",
       "        -0.08460883,  0.06009937,  0.20480757,  0.34951576,  0.49422396,\n",
       "         0.63893216,  0.78364036,  0.92834855,  1.07305675,  1.21776495,\n",
       "         1.36247315,  1.50718134,  1.65188954,  1.79659774,  1.94130594,\n",
       "         2.08601413,  2.23072233,  2.37543053,  2.52013873,  2.66484692,\n",
       "         2.80955512]),\n",
       " <BarContainer object of 40 artists>)"
      ]
     },
     "execution_count": 15,
     "metadata": {},
     "output_type": "execute_result"
    },
    {
     "data": {
      "image/png": "[encoded data removed]",
      "text/plain": [
       "<Figure size 640x480 with 1 Axes>"
      ]
     },
     "metadata": {},
     "output_type": "display_data"
    }
   ],
   "source": [
    "plt.hist(weights, bins=40)"
   ]
  },
  {
   "cell_type": "code",
   "execution_count": 14,
   "metadata": {},
   "outputs": [
    {
     "name": "stdout",
     "output_type": "stream",
     "text": [
      "min\n",
      "0.0001989706422858017\n",
      "max\n",
      "2.978772776316998\n"
     ]
    }
   ],
   "source": [
    "print('min', np.abs(weights.numpy()).min(), 'max', np.abs(weights.numpy()).max(), sep='\\n')"
   ]
  },
  {
   "cell_type": "code",
   "execution_count": 13,
   "metadata": {},
   "outputs": [
    {
     "ename": "AxisError",
     "evalue": "axis 1 is out of bounds for array of dimension 1",
     "output_type": "error",
     "traceback": [
      "\u001b[0;31m---------------------------------------------------------------------------\u001b[0m",
      "\u001b[0;31mAxisError\u001b[0m                                 Traceback (most recent call last)",
      "Cell \u001b[0;32mIn[13], line 1\u001b[0m\n\u001b[0;32m----> 1\u001b[0m \u001b[38;5;28mprint\u001b[39m(\u001b[38;5;124m'\u001b[39m\u001b[38;5;124mmin\u001b[39m\u001b[38;5;124m'\u001b[39m, \u001b[43mnp\u001b[49m\u001b[38;5;241;43m.\u001b[39;49m\u001b[43mabs\u001b[49m\u001b[43m(\u001b[49m\u001b[43mweights\u001b[49m\u001b[38;5;241;43m.\u001b[39;49m\u001b[43mnumpy\u001b[49m\u001b[43m(\u001b[49m\u001b[43m)\u001b[49m\u001b[43m)\u001b[49m\u001b[38;5;241;43m.\u001b[39;49m\u001b[43mmin\u001b[49m\u001b[43m(\u001b[49m\u001b[43maxis\u001b[49m\u001b[38;5;241;43m=\u001b[39;49m\u001b[38;5;241;43m1\u001b[39;49m\u001b[43m)\u001b[49m\u001b[38;5;241m.\u001b[39mmean(), \u001b[38;5;124m'\u001b[39m\u001b[38;5;124mmax\u001b[39m\u001b[38;5;124m'\u001b[39m, np\u001b[38;5;241m.\u001b[39mabs(weights\u001b[38;5;241m.\u001b[39mnumpy())\u001b[38;5;241m.\u001b[39mmax(axis\u001b[38;5;241m=\u001b[39m\u001b[38;5;241m1\u001b[39m)\u001b[38;5;241m.\u001b[39mmean(), sep\u001b[38;5;241m=\u001b[39m\u001b[38;5;124m'\u001b[39m\u001b[38;5;130;01m\\n\u001b[39;00m\u001b[38;5;124m'\u001b[39m)\n",
      "File \u001b[0;32m~/data/ttn4hep/.ttn_venv/lib/python3.10/site-packages/numpy/core/_methods.py:45\u001b[0m, in \u001b[0;36m_amin\u001b[0;34m(a, axis, out, keepdims, initial, where)\u001b[0m\n\u001b[1;32m     43\u001b[0m \u001b[38;5;28;01mdef\u001b[39;00m \u001b[38;5;21m_amin\u001b[39m(a, axis\u001b[38;5;241m=\u001b[39m\u001b[38;5;28;01mNone\u001b[39;00m, out\u001b[38;5;241m=\u001b[39m\u001b[38;5;28;01mNone\u001b[39;00m, keepdims\u001b[38;5;241m=\u001b[39m\u001b[38;5;28;01mFalse\u001b[39;00m,\n\u001b[1;32m     44\u001b[0m           initial\u001b[38;5;241m=\u001b[39m_NoValue, where\u001b[38;5;241m=\u001b[39m\u001b[38;5;28;01mTrue\u001b[39;00m):\n\u001b[0;32m---> 45\u001b[0m     \u001b[38;5;28;01mreturn\u001b[39;00m \u001b[43mumr_minimum\u001b[49m\u001b[43m(\u001b[49m\u001b[43ma\u001b[49m\u001b[43m,\u001b[49m\u001b[43m \u001b[49m\u001b[43maxis\u001b[49m\u001b[43m,\u001b[49m\u001b[43m \u001b[49m\u001b[38;5;28;43;01mNone\u001b[39;49;00m\u001b[43m,\u001b[49m\u001b[43m \u001b[49m\u001b[43mout\u001b[49m\u001b[43m,\u001b[49m\u001b[43m \u001b[49m\u001b[43mkeepdims\u001b[49m\u001b[43m,\u001b[49m\u001b[43m \u001b[49m\u001b[43minitial\u001b[49m\u001b[43m,\u001b[49m\u001b[43m \u001b[49m\u001b[43mwhere\u001b[49m\u001b[43m)\u001b[49m\n",
      "\u001b[0;31mAxisError\u001b[0m: axis 1 is out of bounds for array of dimension 1"
     ]
    }
   ],
   "source": [
    "print('min', np.abs(weights.numpy()).min(axis=1).mean(), 'max', np.abs(weights.numpy()).max(axis=1).mean(), sep='\\n')"
   ]
  },
  {
   "cell_type": "markdown",
   "metadata": {},
   "source": [
    "# Quantized model"
   ]
  },
  {
   "cell_type": "code",
   "execution_count": 4,
   "metadata": {},
   "outputs": [],
   "source": [
    "from qtorch import FixedPoint, FloatingPoint\n",
    "from qtorch.quant import Quantizer, fixed_point_quantize\n",
    "from qtorch.optim import OptimLP\n",
    "\n",
    "wl = 4\n",
    "fl = 2\n",
    "\n",
    "forward_num = FixedPoint(wl=wl, fl=fl)\n",
    "backward_num = FixedPoint(wl=wl, fl=fl)\n",
    "\n",
    "# Create a quantizer\n",
    "Q = Quantizer(forward_number=forward_num, backward_number=backward_num,\n",
    "              forward_rounding=\"nearest\", backward_rounding=\"nearest\")\n",
    "\n",
    "MODEL_DIR = 'qmodels'"
   ]
  },
  {
   "cell_type": "code",
   "execution_count": 5,
   "metadata": {},
   "outputs": [
    {
     "data": {
      "text/plain": [
       "tensor([ 1.1875,  0.0000,  1.9375, -0.8125])"
      ]
     },
     "execution_count": 5,
     "metadata": {},
     "output_type": "execute_result"
    }
   ],
   "source": [
    "fixed_point_quantize(torch.tensor([1.2, 1e-5, 3.4, -0.8]), 6, 4, rounding='nearest', symmetric=True)"
   ]
  },
  {
   "cell_type": "code",
   "execution_count": 5,
   "metadata": {},
   "outputs": [
    {
     "data": {
      "image/svg+xml": [
       "<?xml version=\"1.0\" encoding=\"UTF-8\"?>\n",
       "<svg xmlns=\"http://www.w3.org/2000/svg\" xmlns:xlink=\"http://www.w3.org/1999/xlink\" width=\"392pt\" height=\"246pt\" viewBox=\"0 0 392 246\" version=\"1.1\">\n",
       "<defs>\n",
       "<g>\n",
       "<symbol overflow=\"visible\" id=\"glyph0-0\">\n",
       "<path style=\"stroke:none;\" d=\"M 0.546875 2 L 0.546875 -8 L 6.046875 -8 L 6.046875 2 Z M 1.171875 1 L 5.4375 1 L 5.4375 -7 L 1.171875 -7 Z M 1.171875 1 \"/>\n",
       "</symbol>\n",
       "<symbol overflow=\"visible\" id=\"glyph0-1\">\n",
       "<path style=\"stroke:none;\" d=\"M 3.5 -1 C 4.050781 -1 4.460938 -1.25 4.734375 -1.75 C 5.003906 -2.25 5.140625 -3 5.140625 -4 C 5.140625 -5.007812 5.003906 -5.757812 4.734375 -6.25 C 4.460938 -6.75 4.050781 -7 3.5 -7 C 2.945312 -7 2.535156 -6.75 2.265625 -6.25 C 1.992188 -5.757812 1.859375 -5.007812 1.859375 -4 C 1.859375 -3 1.992188 -2.25 2.265625 -1.75 C 2.535156 -1.25 2.945312 -1 3.5 -1 Z M 3.5 0 C 2.625 0 1.941406 -0.347656 1.453125 -1.046875 C 0.960938 -1.753906 0.71875 -2.738281 0.71875 -4 C 0.71875 -5.257812 0.960938 -6.238281 1.453125 -6.9375 C 1.941406 -7.644531 2.625 -8 3.5 -8 C 4.363281 -8 5.039062 -7.644531 5.53125 -6.9375 C 6.019531 -6.238281 6.265625 -5.257812 6.265625 -4 C 6.265625 -2.738281 6.019531 -1.753906 5.53125 -1.046875 C 5.039062 -0.347656 4.363281 0 3.5 0 Z M 3.5 0 \"/>\n",
       "</symbol>\n",
       "<symbol overflow=\"visible\" id=\"glyph0-2\">\n",
       "<path style=\"stroke:none;\" d=\"M 1.03125 -0.5 C 1.03125 -0.832031 1.097656 -1 1.234375 -1 C 1.367188 -1 1.539062 -1 1.75 -1 C 1.945312 -1 2.113281 -1 2.25 -1 C 2.394531 -1 2.46875 -0.832031 2.46875 -0.5 C 2.46875 -0.164062 2.394531 0 2.25 0 C 2.113281 0 1.945312 0 1.75 0 C 1.539062 0 1.367188 0 1.234375 0 C 1.097656 0 1.03125 -0.164062 1.03125 -0.5 Z M 1.03125 -0.5 \"/>\n",
       "</symbol>\n",
       "<symbol overflow=\"visible\" id=\"glyph0-3\">\n",
       "<path style=\"stroke:none;\" d=\"M 1.5625 0 L 1.5625 -1 L 2.953125 -1 L 2.953125 -7.265625 L 1.34375 -6.328125 L 1.34375 -7 L 3.296875 -8 L 4.046875 -8 L 4.046875 -1 L 5.4375 -1 L 5.4375 0 Z M 1.5625 0 \"/>\n",
       "</symbol>\n",
       "<symbol overflow=\"visible\" id=\"glyph0-4\">\n",
       "<path style=\"stroke:none;\" d=\"M 1.40625 -6 L 0.8125 -6 L 0.8125 -7 C 1.195312 -7.320312 1.582031 -7.566406 1.96875 -7.734375 C 2.351562 -7.910156 2.734375 -8 3.109375 -8 C 3.941406 -8 4.597656 -7.804688 5.078125 -7.421875 C 5.566406 -7.035156 5.8125 -6.507812 5.8125 -5.84375 C 5.8125 -5.09375 5.257812 -4.195312 4.15625 -3.15625 C 4.070312 -3.082031 4.007812 -3.023438 3.96875 -2.984375 L 1.9375 -1 L 5.296875 -1 L 5.296875 -2 L 5.921875 -2 L 5.921875 0 L 0.75 0 L 0.75 -0.59375 L 3.1875 -3.078125 C 3.71875 -3.535156 4.097656 -3.953125 4.328125 -4.328125 C 4.554688 -4.710938 4.671875 -5.113281 4.671875 -5.53125 C 4.671875 -5.988281 4.53125 -6.347656 4.25 -6.609375 C 3.96875 -6.867188 3.582031 -7 3.09375 -7 C 2.570312 -7 2.171875 -6.914062 1.890625 -6.75 C 1.617188 -6.582031 1.457031 -6.332031 1.40625 -6 Z M 1.40625 -6 \"/>\n",
       "</symbol>\n",
       "<symbol overflow=\"visible\" id=\"glyph0-5\">\n",
       "<path style=\"stroke:none;\" d=\"M 1.0625 -7 C 1.476562 -7.320312 1.878906 -7.566406 2.265625 -7.734375 C 2.648438 -7.910156 3.015625 -8 3.359375 -8 C 4.140625 -8 4.75 -7.84375 5.1875 -7.53125 C 5.632812 -7.226562 5.859375 -6.804688 5.859375 -6.265625 C 5.859375 -5.816406 5.707031 -5.445312 5.40625 -5.15625 C 5.101562 -4.863281 4.671875 -4.664062 4.109375 -4.5625 C 4.765625 -4.46875 5.273438 -4.226562 5.640625 -3.84375 C 6.003906 -3.457031 6.1875 -2.953125 6.1875 -2.328125 C 6.1875 -1.578125 5.929688 -1 5.421875 -0.59375 C 4.921875 -0.195312 4.203125 0 3.265625 0 C 2.835938 0 2.425781 -0.0820312 2.03125 -0.25 C 1.632812 -0.414062 1.238281 -0.664062 0.84375 -1 L 0.84375 -2 L 1.4375 -2 C 1.46875 -1.664062 1.640625 -1.414062 1.953125 -1.25 C 2.265625 -1.082031 2.707031 -1 3.28125 -1 C 3.820312 -1 4.25 -1.125 4.5625 -1.375 C 4.882812 -1.632812 5.046875 -1.988281 5.046875 -2.4375 C 5.046875 -2.945312 4.878906 -3.332031 4.546875 -3.59375 C 4.222656 -3.863281 3.75 -4 3.125 -4 L 2.609375 -4 L 2.609375 -5 L 2.890625 -5 C 3.515625 -5 3.984375 -5.082031 4.296875 -5.25 C 4.609375 -5.425781 4.765625 -5.6875 4.765625 -6.03125 C 4.765625 -6.34375 4.632812 -6.582031 4.375 -6.75 C 4.125 -6.914062 3.753906 -7 3.265625 -7 C 2.785156 -7 2.410156 -6.914062 2.140625 -6.75 C 1.867188 -6.582031 1.710938 -6.332031 1.671875 -6 L 1.0625 -6 Z M 1.0625 -7 \"/>\n",
       "</symbol>\n",
       "<symbol overflow=\"visible\" id=\"glyph1-0\">\n",
       "<path style=\"stroke:none;\" d=\"M 0.453125 2 L 0.453125 -6 L 4.953125 -6 L 4.953125 2 Z M 0.953125 1 L 4.453125 1 L 4.453125 -5 L 0.953125 -5 Z M 0.953125 1 \"/>\n",
       "</symbol>\n",
       "<symbol overflow=\"visible\" id=\"glyph1-1\">\n",
       "<path style=\"stroke:none;\" d=\"M 1.84375 -1 L 2.609375 -1 L 2.609375 0 L 0.265625 0 L 0.265625 -1 L 1.03125 -1 L 1.03125 -7 L 0.265625 -7 L 0.265625 -8 L 1.84375 -8 Z M 1.84375 -1 \"/>\n",
       "</symbol>\n",
       "<symbol overflow=\"visible\" id=\"glyph1-2\">\n",
       "<path style=\"stroke:none;\" d=\"M 3.578125 -1.5 L 3.578125 -2 L 2.546875 -2 C 2.140625 -2 1.835938 -1.957031 1.640625 -1.875 C 1.441406 -1.789062 1.34375 -1.664062 1.34375 -1.5 C 1.34375 -1.34375 1.441406 -1.21875 1.640625 -1.125 C 1.835938 -1.039062 2.109375 -1 2.453125 -1 C 2.785156 -1 3.054688 -1.046875 3.265625 -1.140625 C 3.472656 -1.234375 3.578125 -1.351562 3.578125 -1.5 Z M 4.390625 -2.984375 L 4.390625 -1 L 5.109375 -1 L 5.109375 0 L 3.578125 0 L 3.578125 -1.015625 C 3.398438 -0.671875 3.191406 -0.414062 2.953125 -0.25 C 2.722656 -0.0820312 2.453125 0 2.140625 0 C 1.617188 0 1.207031 -0.132812 0.90625 -0.40625 C 0.601562 -0.675781 0.453125 -1.039062 0.453125 -1.5 C 0.453125 -1.976562 0.625 -2.347656 0.96875 -2.609375 C 1.320312 -2.867188 1.816406 -3 2.453125 -3 L 3.578125 -3 L 3.578125 -4.125 C 3.578125 -4.082031 3.46875 -4.050781 3.25 -4.03125 C 3.039062 -4.007812 2.738281 -4 2.34375 -4 C 2.019531 -4 1.765625 -4.082031 1.578125 -4.25 C 1.390625 -4.414062 1.269531 -4.664062 1.21875 -5 L 0.8125 -5 C 1.09375 -5 1.363281 -5 1.625 -5 C 1.894531 -5 2.15625 -5 2.40625 -5 C 3.050781 -5 3.539062 -4.828125 3.875 -4.484375 C 4.21875 -4.140625 4.390625 -3.640625 4.390625 -2.984375 Z M 4.390625 -2.984375 \"/>\n",
       "</symbol>\n",
       "<symbol overflow=\"visible\" id=\"glyph1-3\">\n",
       "<path style=\"stroke:none;\" d=\"M 1.03125 -1 L 1.03125 -7 L 0.265625 -7 L 0.265625 -8 L 1.84375 -8 L 1.84375 -3.71875 C 2 -4.15625 2.195312 -4.476562 2.4375 -4.6875 C 2.6875 -4.894531 2.992188 -5 3.359375 -5 C 3.929688 -5 4.398438 -4.769531 4.765625 -4.3125 C 5.128906 -3.851562 5.3125 -3.25 5.3125 -2.5 C 5.3125 -1.757812 5.128906 -1.15625 4.765625 -0.6875 C 4.398438 -0.226562 3.929688 0 3.359375 0 C 2.992188 0 2.6875 -0.0976562 2.4375 -0.296875 C 2.195312 -0.492188 2 -0.796875 1.84375 -1.203125 L 1.84375 0 L 0.265625 0 L 0.265625 -1 Z M 1.84375 -2.28125 C 1.84375 -1.863281 1.945312 -1.546875 2.15625 -1.328125 C 2.375 -1.109375 2.691406 -1 3.109375 -1 C 3.515625 -1 3.820312 -1.125 4.03125 -1.375 C 4.25 -1.632812 4.359375 -2.007812 4.359375 -2.5 C 4.359375 -3 4.25 -3.375 4.03125 -3.625 C 3.820312 -3.875 3.515625 -4 3.109375 -4 C 2.691406 -4 2.375 -3.878906 2.15625 -3.640625 C 1.945312 -3.410156 1.84375 -3.078125 1.84375 -2.640625 Z M 1.84375 -2.28125 \"/>\n",
       "</symbol>\n",
       "<symbol overflow=\"visible\" id=\"glyph1-4\">\n",
       "<path style=\"stroke:none;\" d=\"M 4.875 -2 L 1.390625 -2 L 1.390625 -1.953125 C 1.390625 -1.640625 1.507812 -1.398438 1.75 -1.234375 C 1.988281 -1.078125 2.335938 -1 2.796875 -1 C 3.148438 -1 3.441406 -1 3.671875 -1 C 3.898438 -1 4.0625 -1 4.15625 -1 L 4.796875 -1 C 4.671875 -0.664062 4.429688 -0.414062 4.078125 -0.25 C 3.734375 -0.0820312 3.28125 0 2.71875 0 C 2.03125 0 1.476562 -0.226562 1.0625 -0.6875 C 0.65625 -1.144531 0.453125 -1.75 0.453125 -2.5 C 0.453125 -3.25 0.65625 -3.851562 1.0625 -4.3125 C 1.46875 -4.769531 2 -5 2.65625 -5 C 3.363281 -5 3.90625 -4.742188 4.28125 -4.234375 C 4.664062 -3.722656 4.863281 -2.976562 4.875 -2 Z M 3.921875 -3 C 3.898438 -3.332031 3.785156 -3.582031 3.578125 -3.75 C 3.367188 -3.914062 3.0625 -4 2.65625 -4 C 2.289062 -4 2 -3.914062 1.78125 -3.75 C 1.570312 -3.582031 1.441406 -3.332031 1.390625 -3 Z M 3.921875 -3 \"/>\n",
       "</symbol>\n",
       "<symbol overflow=\"visible\" id=\"glyph1-5\">\n",
       "<path style=\"stroke:none;\" d=\"M 1.28125 0 L 1.28125 -1 L 2.421875 -1 L 2.421875 -6.265625 L 1.09375 -5.4375 L 1.09375 -6 L 2.703125 -7 L 3.3125 -7 L 3.3125 -1 L 4.453125 -1 L 4.453125 0 Z M 1.28125 0 \"/>\n",
       "</symbol>\n",
       "<symbol overflow=\"visible\" id=\"glyph1-6\">\n",
       "<path style=\"stroke:none;\" d=\"M 0.84375 -0.5 C 0.84375 -0.832031 0.898438 -1 1.015625 -1 C 1.128906 -1 1.269531 -1 1.4375 -1 C 1.59375 -1 1.726562 -1 1.84375 -1 C 1.957031 -1 2.015625 -0.832031 2.015625 -0.5 C 2.015625 -0.164062 1.957031 0 1.84375 0 C 1.726562 0 1.59375 0 1.4375 0 C 1.269531 0 1.128906 0 1.015625 0 C 0.898438 0 0.84375 -0.164062 0.84375 -0.5 Z M 0.84375 -0.5 \"/>\n",
       "</symbol>\n",
       "<symbol overflow=\"visible\" id=\"glyph1-7\">\n",
       "<path style=\"stroke:none;\" d=\"M 2.859375 -1 C 3.304688 -1 3.640625 -1.207031 3.859375 -1.625 C 4.085938 -2.039062 4.203125 -2.664062 4.203125 -3.5 C 4.203125 -4.332031 4.085938 -4.957031 3.859375 -5.375 C 3.640625 -5.789062 3.304688 -6 2.859375 -6 C 2.410156 -6 2.070312 -5.789062 1.84375 -5.375 C 1.625 -4.957031 1.515625 -4.332031 1.515625 -3.5 C 1.515625 -2.664062 1.625 -2.039062 1.84375 -1.625 C 2.070312 -1.207031 2.410156 -1 2.859375 -1 Z M 2.859375 0 C 2.148438 0 1.59375 -0.304688 1.1875 -0.921875 C 0.789062 -1.535156 0.59375 -2.394531 0.59375 -3.5 C 0.59375 -4.601562 0.789062 -5.460938 1.1875 -6.078125 C 1.59375 -6.691406 2.148438 -7 2.859375 -7 C 3.578125 -7 4.132812 -6.691406 4.53125 -6.078125 C 4.925781 -5.460938 5.125 -4.601562 5.125 -3.5 C 5.125 -2.394531 4.925781 -1.535156 4.53125 -0.921875 C 4.132812 -0.304688 3.578125 0 2.859375 0 Z M 2.859375 0 \"/>\n",
       "</symbol>\n",
       "<symbol overflow=\"visible\" id=\"glyph1-8\">\n",
       "<path style=\"stroke:none;\" d=\"\"/>\n",
       "</symbol>\n",
       "<symbol overflow=\"visible\" id=\"glyph1-9\">\n",
       "<path style=\"stroke:none;\" d=\"M 0.78125 -8 L 2.8125 -8 L 2.8125 -7 L 1.609375 -7 L 1.609375 -1 L 2.8125 -1 L 2.8125 0 L 0.78125 0 Z M 0.78125 -8 \"/>\n",
       "</symbol>\n",
       "<symbol overflow=\"visible\" id=\"glyph1-10\">\n",
       "<path style=\"stroke:none;\" d=\"M 4.1875 -2 C 4.1875 -2.3125 4.066406 -2.554688 3.828125 -2.734375 C 3.597656 -2.910156 3.273438 -3 2.859375 -3 C 2.441406 -3 2.113281 -2.910156 1.875 -2.734375 C 1.644531 -2.554688 1.53125 -2.3125 1.53125 -2 C 1.53125 -1.6875 1.644531 -1.441406 1.875 -1.265625 C 2.113281 -1.085938 2.441406 -1 2.859375 -1 C 3.273438 -1 3.597656 -1.085938 3.828125 -1.265625 C 4.066406 -1.441406 4.1875 -1.6875 4.1875 -2 Z M 4.015625 -5 C 4.015625 -5.3125 3.910156 -5.554688 3.703125 -5.734375 C 3.503906 -5.910156 3.222656 -6 2.859375 -6 C 2.492188 -6 2.207031 -5.910156 2 -5.734375 C 1.800781 -5.554688 1.703125 -5.3125 1.703125 -5 C 1.703125 -4.6875 1.800781 -4.441406 2 -4.265625 C 2.207031 -4.085938 2.492188 -4 2.859375 -4 C 3.222656 -4 3.503906 -4.085938 3.703125 -4.265625 C 3.910156 -4.441406 4.015625 -4.6875 4.015625 -5 Z M 3.53125 -3.5 C 4.03125 -3.4375 4.421875 -3.257812 4.703125 -2.96875 C 4.984375 -2.675781 5.125 -2.304688 5.125 -1.859375 C 5.125 -1.265625 4.925781 -0.804688 4.53125 -0.484375 C 4.144531 -0.160156 3.585938 0 2.859375 0 C 2.140625 0 1.582031 -0.160156 1.1875 -0.484375 C 0.800781 -0.804688 0.609375 -1.265625 0.609375 -1.859375 C 0.609375 -2.304688 0.742188 -2.675781 1.015625 -2.96875 C 1.296875 -3.257812 1.6875 -3.4375 2.1875 -3.5 C 1.738281 -3.582031 1.394531 -3.765625 1.15625 -4.046875 C 0.925781 -4.328125 0.8125 -4.6875 0.8125 -5.125 C 0.8125 -5.707031 0.992188 -6.164062 1.359375 -6.5 C 1.722656 -6.832031 2.222656 -7 2.859375 -7 C 3.492188 -7 3.992188 -6.832031 4.359375 -6.5 C 4.722656 -6.164062 4.90625 -5.707031 4.90625 -5.125 C 4.90625 -4.6875 4.785156 -4.328125 4.546875 -4.046875 C 4.304688 -3.765625 3.96875 -3.582031 3.53125 -3.5 Z M 3.53125 -3.5 \"/>\n",
       "</symbol>\n",
       "<symbol overflow=\"visible\" id=\"glyph1-11\">\n",
       "<path style=\"stroke:none;\" d=\"M 2.734375 -8 L 2.734375 0 L 0.6875 0 L 0.6875 -1 L 1.90625 -1 L 1.90625 -7 L 0.6875 -7 L 0.6875 -8 Z M 2.734375 -8 \"/>\n",
       "</symbol>\n",
       "<symbol overflow=\"visible\" id=\"glyph1-12\">\n",
       "<path style=\"stroke:none;\" d=\"M 1.15625 -5 L 0.65625 -5 L 0.65625 -6 C 0.96875 -6.320312 1.28125 -6.566406 1.59375 -6.734375 C 1.914062 -6.910156 2.226562 -7 2.53125 -7 C 3.21875 -7 3.757812 -6.832031 4.15625 -6.5 C 4.550781 -6.175781 4.75 -5.734375 4.75 -5.171875 C 4.75 -4.535156 4.300781 -3.773438 3.40625 -2.890625 C 3.332031 -2.816406 3.28125 -2.765625 3.25 -2.734375 L 1.59375 -1 L 4.328125 -1 L 4.328125 -2 L 4.84375 -2 L 4.84375 0 L 0.609375 0 L 0.609375 -0.546875 L 2.609375 -2.8125 C 3.046875 -3.1875 3.359375 -3.523438 3.546875 -3.828125 C 3.734375 -4.140625 3.828125 -4.46875 3.828125 -4.8125 C 3.828125 -5.1875 3.710938 -5.476562 3.484375 -5.6875 C 3.253906 -5.894531 2.9375 -6 2.53125 -6 C 2.113281 -6 1.789062 -5.914062 1.5625 -5.75 C 1.332031 -5.582031 1.195312 -5.332031 1.15625 -5 Z M 1.15625 -5 \"/>\n",
       "</symbol>\n",
       "<symbol overflow=\"visible\" id=\"glyph1-13\">\n",
       "<path style=\"stroke:none;\" d=\"M 3.140625 -3 L 3.140625 -6.125 L 0.90625 -3 Z M 5.078125 0 L 2.09375 0 L 2.09375 -1 L 3.140625 -1 L 3.140625 -2 L 0.28125 -2 L 0.28125 -2.484375 L 3.140625 -7 L 4.015625 -7 L 4.015625 -3 L 5.28125 -3 L 5.28125 -2 L 4.015625 -2 L 4.015625 -1 L 5.078125 -1 Z M 5.078125 0 \"/>\n",
       "</symbol>\n",
       "<symbol overflow=\"visible\" id=\"glyph1-14\">\n",
       "<path style=\"stroke:none;\" d=\"M 0.875 -6 C 1.21875 -6.320312 1.546875 -6.566406 1.859375 -6.734375 C 2.179688 -6.910156 2.476562 -7 2.75 -7 C 3.394531 -7 3.894531 -6.84375 4.25 -6.53125 C 4.613281 -6.226562 4.796875 -5.804688 4.796875 -5.265625 C 4.796875 -4.816406 4.671875 -4.445312 4.421875 -4.15625 C 4.171875 -3.863281 3.816406 -3.664062 3.359375 -3.5625 C 3.898438 -3.488281 4.316406 -3.300781 4.609375 -3 C 4.910156 -2.695312 5.0625 -2.304688 5.0625 -1.828125 C 5.0625 -1.234375 4.851562 -0.78125 4.4375 -0.46875 C 4.03125 -0.15625 3.441406 0 2.671875 0 C 2.328125 0 1.988281 -0.0820312 1.65625 -0.25 C 1.332031 -0.414062 1.007812 -0.664062 0.6875 -1 L 0.6875 -2 L 1.171875 -2 C 1.203125 -1.664062 1.34375 -1.414062 1.59375 -1.25 C 1.851562 -1.082031 2.210938 -1 2.671875 -1 C 3.117188 -1 3.472656 -1.082031 3.734375 -1.25 C 3.992188 -1.425781 4.125 -1.664062 4.125 -1.96875 C 4.125 -2.300781 3.988281 -2.554688 3.71875 -2.734375 C 3.457031 -2.910156 3.070312 -3 2.5625 -3 L 2.140625 -3 L 2.140625 -4 L 2.359375 -4 C 2.867188 -4 3.25 -4.082031 3.5 -4.25 C 3.757812 -4.425781 3.890625 -4.6875 3.890625 -5.03125 C 3.890625 -5.34375 3.785156 -5.582031 3.578125 -5.75 C 3.367188 -5.914062 3.066406 -6 2.671875 -6 C 2.273438 -6 1.96875 -5.914062 1.75 -5.75 C 1.53125 -5.582031 1.398438 -5.332031 1.359375 -5 L 0.875 -5 Z M 0.875 -6 \"/>\n",
       "</symbol>\n",
       "<symbol overflow=\"visible\" id=\"glyph1-15\">\n",
       "<path style=\"stroke:none;\" d=\"M 4.71875 -1 L 5.5 -1 L 5.5 0 L 3.921875 0 L 3.921875 -1.203125 C 3.765625 -0.796875 3.5625 -0.492188 3.3125 -0.296875 C 3.070312 -0.0976562 2.769531 0 2.40625 0 C 1.832031 0 1.363281 -0.226562 1 -0.6875 C 0.632812 -1.15625 0.453125 -1.757812 0.453125 -2.5 C 0.453125 -3.25 0.632812 -3.851562 1 -4.3125 C 1.363281 -4.769531 1.832031 -5 2.40625 -5 C 2.769531 -5 3.070312 -4.894531 3.3125 -4.6875 C 3.5625 -4.476562 3.765625 -4.15625 3.921875 -3.71875 L 3.921875 -7 L 3.15625 -7 L 3.15625 -8 L 4.71875 -8 Z M 3.921875 -2.28125 L 3.921875 -2.640625 C 3.921875 -3.078125 3.8125 -3.410156 3.59375 -3.640625 C 3.382812 -3.878906 3.070312 -4 2.65625 -4 C 2.238281 -4 1.921875 -3.875 1.703125 -3.625 C 1.492188 -3.375 1.390625 -3 1.390625 -2.5 C 1.390625 -2.007812 1.492188 -1.632812 1.703125 -1.375 C 1.921875 -1.125 2.238281 -1 2.65625 -1 C 3.070312 -1 3.382812 -1.109375 3.59375 -1.328125 C 3.8125 -1.546875 3.921875 -1.863281 3.921875 -2.28125 Z M 3.921875 -2.28125 \"/>\n",
       "</symbol>\n",
       "<symbol overflow=\"visible\" id=\"glyph1-16\">\n",
       "<path style=\"stroke:none;\" d=\"M 0.96875 -4 L 0.265625 -4 L 0.265625 -5 L 0.96875 -5 L 0.96875 -6 L 1.78125 -6 L 1.78125 -5 L 3.3125 -5 L 3.3125 -4 L 1.78125 -4 L 1.78125 -2.09375 C 1.78125 -1.625 1.816406 -1.320312 1.890625 -1.1875 C 1.972656 -1.0625 2.113281 -1 2.3125 -1 C 2.53125 -1 2.6875 -1.078125 2.78125 -1.234375 C 2.875 -1.390625 2.925781 -1.644531 2.9375 -2 L 3.546875 -2 C 3.523438 -1.300781 3.410156 -0.789062 3.203125 -0.46875 C 2.992188 -0.15625 2.675781 0 2.25 0 C 1.78125 0 1.445312 -0.15625 1.25 -0.46875 C 1.0625 -0.789062 0.96875 -1.332031 0.96875 -2.09375 Z M 0.96875 -4 \"/>\n",
       "</symbol>\n",
       "<symbol overflow=\"visible\" id=\"glyph1-17\">\n",
       "<path style=\"stroke:none;\" d=\"M 4.53125 -7 L 4.53125 -6 L 1.515625 -6 L 1.515625 -3.265625 C 1.671875 -3.503906 1.847656 -3.6875 2.046875 -3.8125 C 2.253906 -3.9375 2.484375 -4 2.734375 -4 C 3.441406 -4 4 -3.820312 4.40625 -3.46875 C 4.820312 -3.113281 5.03125 -2.625 5.03125 -2 C 5.03125 -1.375 4.820312 -0.882812 4.40625 -0.53125 C 3.988281 -0.175781 3.40625 0 2.65625 0 C 2.363281 0 2.054688 -0.0820312 1.734375 -0.25 C 1.421875 -0.414062 1.097656 -0.664062 0.765625 -1 L 0.765625 -2 L 1.265625 -2 C 1.296875 -1.675781 1.425781 -1.425781 1.65625 -1.25 C 1.894531 -1.082031 2.234375 -1 2.671875 -1 C 3.128906 -1 3.484375 -1.082031 3.734375 -1.25 C 3.984375 -1.425781 4.109375 -1.675781 4.109375 -2 C 4.109375 -2.320312 3.984375 -2.566406 3.734375 -2.734375 C 3.484375 -2.910156 3.128906 -3 2.671875 -3 C 2.398438 -3 2.164062 -3 1.96875 -3 C 1.769531 -3 1.59375 -3 1.4375 -3 L 1.0625 -3 L 1.0625 -7 Z M 4.53125 -7 \"/>\n",
       "</symbol>\n",
       "<symbol overflow=\"visible\" id=\"glyph1-18\">\n",
       "<path style=\"stroke:none;\" d=\"M 2.953125 -1 C 3.359375 -1 3.671875 -1.082031 3.890625 -1.25 C 4.117188 -1.425781 4.234375 -1.675781 4.234375 -2 C 4.234375 -2.320312 4.117188 -2.566406 3.890625 -2.734375 C 3.671875 -2.910156 3.359375 -3 2.953125 -3 C 2.523438 -3 2.203125 -2.914062 1.984375 -2.75 C 1.765625 -2.582031 1.65625 -2.34375 1.65625 -2.03125 C 1.65625 -1.695312 1.765625 -1.441406 1.984375 -1.265625 C 2.210938 -1.085938 2.535156 -1 2.953125 -1 Z M 1.515625 -2.875 C 1.710938 -3.25 1.9375 -3.53125 2.1875 -3.71875 C 2.4375 -3.90625 2.722656 -4 3.046875 -4 C 3.691406 -4 4.203125 -3.816406 4.578125 -3.453125 C 4.960938 -3.097656 5.15625 -2.613281 5.15625 -2 C 5.15625 -1.394531 4.953125 -0.910156 4.546875 -0.546875 C 4.140625 -0.179688 3.59375 0 2.90625 0 C 2.164062 0 1.597656 -0.28125 1.203125 -0.84375 C 0.804688 -1.414062 0.609375 -2.226562 0.609375 -3.28125 C 0.609375 -4.46875 0.84375 -5.382812 1.3125 -6.03125 C 1.78125 -6.675781 2.445312 -7 3.3125 -7 C 3.539062 -7 3.78125 -6.914062 4.03125 -6.75 C 4.28125 -6.582031 4.539062 -6.332031 4.8125 -6 L 4.8125 -5 L 4.3125 -5 C 4.28125 -5.320312 4.164062 -5.566406 3.96875 -5.734375 C 3.78125 -5.910156 3.523438 -6 3.203125 -6 C 2.640625 -6 2.21875 -5.742188 1.9375 -5.234375 C 1.664062 -4.722656 1.523438 -3.9375 1.515625 -2.875 Z M 1.515625 -2.875 \"/>\n",
       "</symbol>\n",
       "<symbol overflow=\"visible\" id=\"glyph1-19\">\n",
       "<path style=\"stroke:none;\" d=\"M 5.078125 -6.515625 L 2.515625 0 L 1.859375 0 L 4.296875 -6 L 1.265625 -6 L 1.265625 -5.171875 L 0.75 -5.171875 L 0.75 -7 L 5.078125 -7 Z M 5.078125 -6.515625 \"/>\n",
       "</symbol>\n",
       "</g>\n",
       "</defs>\n",
       "<g id=\"surface1\">\n",
       "<path style=\"fill-rule:nonzero;fill:rgb(25.490196%,26.666667%,52.941176%);fill-opacity:1;stroke-width:4;stroke-linecap:butt;stroke-linejoin:miter;stroke:rgb(20.392157%,21.176471%,42.352941%);stroke-opacity:1;stroke-miterlimit:10;\" d=\"M 300 -124.5 C 300 -117.597656 294.402344 -112 287.5 -112 C 280.597656 -112 275 -117.597656 275 -124.5 C 275 -131.402344 280.597656 -137 287.5 -137 C 294.402344 -137 300 -131.402344 300 -124.5 \" transform=\"matrix(1,0,0,1,4,242)\"/>\n",
       "<g style=\"fill:rgb(0%,0%,0%);fill-opacity:1;\">\n",
       "  <use xlink:href=\"#glyph0-1\" x=\"282.5\" y=\"120.300781\"/>\n",
       "  <use xlink:href=\"#glyph0-2\" x=\"289.25\" y=\"120.300781\"/>\n",
       "  <use xlink:href=\"#glyph0-1\" x=\"293\" y=\"120.300781\"/>\n",
       "</g>\n",
       "<path style=\"fill:none;stroke-width:1;stroke-linecap:butt;stroke-linejoin:miter;stroke:rgb(74.901961%,74.901961%,74.901961%);stroke-opacity:1;stroke-miterlimit:10;\" d=\"M 300.25 -124.5 C 312.792969 -124.5 332.957031 -124.5 348.472656 -124.5 \" transform=\"matrix(1,0,0,1,4,242)\"/>\n",
       "<path style=\"fill-rule:nonzero;fill:rgb(74.901961%,74.901961%,74.901961%);fill-opacity:1;stroke-width:1;stroke-linecap:butt;stroke-linejoin:miter;stroke:rgb(74.901961%,74.901961%,74.901961%);stroke-opacity:1;stroke-miterlimit:10;\" d=\"M 348.773438 -128 L 358.773438 -124.5 L 348.773438 -121 Z M 348.773438 -128 \" transform=\"matrix(1,0,0,1,4,242)\"/>\n",
       "<g style=\"fill:rgb(0%,0%,0%);fill-opacity:1;\">\n",
       "  <use xlink:href=\"#glyph1-1\" x=\"322\" y=\"114.699219\"/>\n",
       "  <use xlink:href=\"#glyph1-2\" x=\"325\" y=\"114.699219\"/>\n",
       "  <use xlink:href=\"#glyph1-3\" x=\"330.25\" y=\"114.699219\"/>\n",
       "  <use xlink:href=\"#glyph1-4\" x=\"336.25\" y=\"114.699219\"/>\n",
       "  <use xlink:href=\"#glyph1-1\" x=\"341.5\" y=\"114.699219\"/>\n",
       "</g>\n",
       "<path style=\"fill-rule:nonzero;fill:rgb(13.333333%,65.882353%,51.764706%);fill-opacity:1;stroke-width:4;stroke-linecap:butt;stroke-linejoin:miter;stroke:rgb(10.588235%,52.54902%,41.568627%);stroke-opacity:1;stroke-miterlimit:10;\" d=\"M 207 -158.5 C 207 -151.597656 201.402344 -146 194.5 -146 C 187.597656 -146 182 -151.597656 182 -158.5 C 182 -165.402344 187.597656 -171 194.5 -171 C 201.402344 -171 207 -165.402344 207 -158.5 \" transform=\"matrix(1,0,0,1,4,242)\"/>\n",
       "<g style=\"fill:rgb(0%,0%,0%);fill-opacity:1;\">\n",
       "  <use xlink:href=\"#glyph0-3\" x=\"189.5\" y=\"86.300781\"/>\n",
       "  <use xlink:href=\"#glyph0-2\" x=\"196.25\" y=\"86.300781\"/>\n",
       "  <use xlink:href=\"#glyph0-1\" x=\"200\" y=\"86.300781\"/>\n",
       "</g>\n",
       "<path style=\"fill:none;stroke-width:1;stroke-linecap:butt;stroke-linejoin:miter;stroke:rgb(74.901961%,74.901961%,74.901961%);stroke-opacity:1;stroke-miterlimit:10;\" d=\"M 206.660156 -154.332031 C 221.40625 -148.820312 247.664062 -139.011719 266.023438 -132.148438 \" transform=\"matrix(1,0,0,1,4,242)\"/>\n",
       "<path style=\"fill-rule:nonzero;fill:rgb(74.901961%,74.901961%,74.901961%);fill-opacity:1;stroke-width:1;stroke-linecap:butt;stroke-linejoin:miter;stroke:rgb(74.901961%,74.901961%,74.901961%);stroke-opacity:1;stroke-miterlimit:10;\" d=\"M 267.390625 -135.375 L 275.535156 -128.597656 L 264.941406 -128.816406 Z M 267.390625 -135.375 \" transform=\"matrix(1,0,0,1,4,242)\"/>\n",
       "<g style=\"fill:rgb(0%,0%,0%);fill-opacity:1;\">\n",
       "  <use xlink:href=\"#glyph1-5\" x=\"229\" y=\"92.699219\"/>\n",
       "  <use xlink:href=\"#glyph1-6\" x=\"235\" y=\"92.699219\"/>\n",
       "  <use xlink:href=\"#glyph1-7\" x=\"238\" y=\"92.699219\"/>\n",
       "  <use xlink:href=\"#glyph1-8\" x=\"244\" y=\"92.699219\"/>\n",
       "  <use xlink:href=\"#glyph1-9\" x=\"247\" y=\"92.699219\"/>\n",
       "  <use xlink:href=\"#glyph1-10\" x=\"250.75\" y=\"92.699219\"/>\n",
       "  <use xlink:href=\"#glyph1-11\" x=\"256.75\" y=\"92.699219\"/>\n",
       "</g>\n",
       "<path style=\"fill-rule:nonzero;fill:rgb(13.333333%,65.882353%,51.764706%);fill-opacity:1;stroke-width:4;stroke-linecap:butt;stroke-linejoin:miter;stroke:rgb(10.588235%,52.54902%,41.568627%);stroke-opacity:1;stroke-miterlimit:10;\" d=\"M 207 -79.5 C 207 -72.597656 201.402344 -67 194.5 -67 C 187.597656 -67 182 -72.597656 182 -79.5 C 182 -86.402344 187.597656 -92 194.5 -92 C 201.402344 -92 207 -86.402344 207 -79.5 \" transform=\"matrix(1,0,0,1,4,242)\"/>\n",
       "<g style=\"fill:rgb(0%,0%,0%);fill-opacity:1;\">\n",
       "  <use xlink:href=\"#glyph0-3\" x=\"189.5\" y=\"165.300781\"/>\n",
       "  <use xlink:href=\"#glyph0-2\" x=\"196.25\" y=\"165.300781\"/>\n",
       "  <use xlink:href=\"#glyph0-3\" x=\"200\" y=\"165.300781\"/>\n",
       "</g>\n",
       "<path style=\"fill:none;stroke-width:1;stroke-linecap:butt;stroke-linejoin:miter;stroke:rgb(74.901961%,74.901961%,74.901961%);stroke-opacity:1;stroke-miterlimit:10;\" d=\"M 205.9375 -84.660156 C 220.738281 -91.980469 248.097656 -105.511719 266.789062 -114.753906 \" transform=\"matrix(1,0,0,1,4,242)\"/>\n",
       "<path style=\"fill-rule:nonzero;fill:rgb(74.901961%,74.901961%,74.901961%);fill-opacity:1;stroke-width:1;stroke-linecap:butt;stroke-linejoin:miter;stroke:rgb(74.901961%,74.901961%,74.901961%);stroke-opacity:1;stroke-miterlimit:10;\" d=\"M 265.386719 -117.964844 L 275.902344 -119.257812 L 268.488281 -111.6875 Z M 265.386719 -117.964844 \" transform=\"matrix(1,0,0,1,4,242)\"/>\n",
       "<g style=\"fill:rgb(0%,0%,0%);fill-opacity:1;\">\n",
       "  <use xlink:href=\"#glyph1-5\" x=\"229\" y=\"130.699219\"/>\n",
       "  <use xlink:href=\"#glyph1-6\" x=\"235\" y=\"130.699219\"/>\n",
       "  <use xlink:href=\"#glyph1-5\" x=\"238\" y=\"130.699219\"/>\n",
       "  <use xlink:href=\"#glyph1-8\" x=\"244\" y=\"130.699219\"/>\n",
       "  <use xlink:href=\"#glyph1-9\" x=\"247\" y=\"130.699219\"/>\n",
       "  <use xlink:href=\"#glyph1-10\" x=\"250.75\" y=\"130.699219\"/>\n",
       "  <use xlink:href=\"#glyph1-11\" x=\"256.75\" y=\"130.699219\"/>\n",
       "</g>\n",
       "<path style=\"fill-rule:nonzero;fill:rgb(99.215686%,90.588235%,14.509804%);fill-opacity:1;stroke-width:4;stroke-linecap:butt;stroke-linejoin:miter;stroke:rgb(90.196078%,81.176471%,0.784314%);stroke-opacity:1;stroke-miterlimit:10;\" d=\"M 114 -201.5 C 114 -194.597656 108.402344 -189 101.5 -189 C 94.597656 -189 89 -194.597656 89 -201.5 C 89 -208.402344 94.597656 -214 101.5 -214 C 108.402344 -214 114 -208.402344 114 -201.5 \" transform=\"matrix(1,0,0,1,4,242)\"/>\n",
       "<g style=\"fill:rgb(0%,0%,0%);fill-opacity:1;\">\n",
       "  <use xlink:href=\"#glyph0-4\" x=\"96.5\" y=\"43.300781\"/>\n",
       "  <use xlink:href=\"#glyph0-2\" x=\"103.25\" y=\"43.300781\"/>\n",
       "  <use xlink:href=\"#glyph0-1\" x=\"107\" y=\"43.300781\"/>\n",
       "</g>\n",
       "<path style=\"fill:none;stroke-width:1;stroke-linecap:butt;stroke-linejoin:miter;stroke:rgb(74.901961%,74.901961%,74.901961%);stroke-opacity:1;stroke-miterlimit:10;\" d=\"M 113.296875 -196.398438 C 128.152344 -189.378906 155.164062 -176.617188 173.703125 -167.855469 \" transform=\"matrix(1,0,0,1,4,242)\"/>\n",
       "<path style=\"fill-rule:nonzero;fill:rgb(74.901961%,74.901961%,74.901961%);fill-opacity:1;stroke-width:1;stroke-linecap:butt;stroke-linejoin:miter;stroke:rgb(74.901961%,74.901961%,74.901961%);stroke-opacity:1;stroke-miterlimit:10;\" d=\"M 175.453125 -170.898438 L 183 -163.460938 L 172.460938 -164.570312 Z M 175.453125 -170.898438 \" transform=\"matrix(1,0,0,1,4,242)\"/>\n",
       "<g style=\"fill:rgb(0%,0%,0%);fill-opacity:1;\">\n",
       "  <use xlink:href=\"#glyph1-12\" x=\"136\" y=\"52.699219\"/>\n",
       "  <use xlink:href=\"#glyph1-6\" x=\"142\" y=\"52.699219\"/>\n",
       "  <use xlink:href=\"#glyph1-7\" x=\"145\" y=\"52.699219\"/>\n",
       "  <use xlink:href=\"#glyph1-8\" x=\"151\" y=\"52.699219\"/>\n",
       "  <use xlink:href=\"#glyph1-9\" x=\"154\" y=\"52.699219\"/>\n",
       "  <use xlink:href=\"#glyph1-13\" x=\"157.75\" y=\"52.699219\"/>\n",
       "  <use xlink:href=\"#glyph1-11\" x=\"163.75\" y=\"52.699219\"/>\n",
       "</g>\n",
       "<path style=\"fill-rule:nonzero;fill:rgb(99.215686%,90.588235%,14.509804%);fill-opacity:1;stroke-width:4;stroke-linecap:butt;stroke-linejoin:miter;stroke:rgb(90.196078%,81.176471%,0.784314%);stroke-opacity:1;stroke-miterlimit:10;\" d=\"M 114 -158.5 C 114 -151.597656 108.402344 -146 101.5 -146 C 94.597656 -146 89 -151.597656 89 -158.5 C 89 -165.402344 94.597656 -171 101.5 -171 C 108.402344 -171 114 -165.402344 114 -158.5 \" transform=\"matrix(1,0,0,1,4,242)\"/>\n",
       "<g style=\"fill:rgb(0%,0%,0%);fill-opacity:1;\">\n",
       "  <use xlink:href=\"#glyph0-4\" x=\"96.5\" y=\"86.300781\"/>\n",
       "  <use xlink:href=\"#glyph0-2\" x=\"103.25\" y=\"86.300781\"/>\n",
       "  <use xlink:href=\"#glyph0-3\" x=\"107\" y=\"86.300781\"/>\n",
       "</g>\n",
       "<path style=\"fill:none;stroke-width:1;stroke-linecap:butt;stroke-linejoin:miter;stroke:rgb(74.901961%,74.901961%,74.901961%);stroke-opacity:1;stroke-miterlimit:10;\" d=\"M 114.023438 -158.5 C 128.441406 -158.5 153.429688 -158.5 171.546875 -158.5 \" transform=\"matrix(1,0,0,1,4,242)\"/>\n",
       "<path style=\"fill-rule:nonzero;fill:rgb(74.901961%,74.901961%,74.901961%);fill-opacity:1;stroke-width:1;stroke-linecap:butt;stroke-linejoin:miter;stroke:rgb(74.901961%,74.901961%,74.901961%);stroke-opacity:1;stroke-miterlimit:10;\" d=\"M 171.78125 -162 L 181.78125 -158.5 L 171.78125 -155 Z M 171.78125 -162 \" transform=\"matrix(1,0,0,1,4,242)\"/>\n",
       "<g style=\"fill:rgb(0%,0%,0%);fill-opacity:1;\">\n",
       "  <use xlink:href=\"#glyph1-12\" x=\"136\" y=\"80.699219\"/>\n",
       "  <use xlink:href=\"#glyph1-6\" x=\"142\" y=\"80.699219\"/>\n",
       "  <use xlink:href=\"#glyph1-5\" x=\"145\" y=\"80.699219\"/>\n",
       "  <use xlink:href=\"#glyph1-8\" x=\"151\" y=\"80.699219\"/>\n",
       "  <use xlink:href=\"#glyph1-9\" x=\"154\" y=\"80.699219\"/>\n",
       "  <use xlink:href=\"#glyph1-13\" x=\"157.75\" y=\"80.699219\"/>\n",
       "  <use xlink:href=\"#glyph1-11\" x=\"163.75\" y=\"80.699219\"/>\n",
       "</g>\n",
       "<path style=\"fill-rule:nonzero;fill:rgb(99.215686%,90.588235%,14.509804%);fill-opacity:1;stroke-width:4;stroke-linecap:butt;stroke-linejoin:miter;stroke:rgb(90.196078%,81.176471%,0.784314%);stroke-opacity:1;stroke-miterlimit:10;\" d=\"M 114 -79.5 C 114 -72.597656 108.402344 -67 101.5 -67 C 94.597656 -67 89 -72.597656 89 -79.5 C 89 -86.402344 94.597656 -92 101.5 -92 C 108.402344 -92 114 -86.402344 114 -79.5 \" transform=\"matrix(1,0,0,1,4,242)\"/>\n",
       "<g style=\"fill:rgb(0%,0%,0%);fill-opacity:1;\">\n",
       "  <use xlink:href=\"#glyph0-4\" x=\"96.5\" y=\"165.300781\"/>\n",
       "  <use xlink:href=\"#glyph0-2\" x=\"103.25\" y=\"165.300781\"/>\n",
       "  <use xlink:href=\"#glyph0-4\" x=\"107\" y=\"165.300781\"/>\n",
       "</g>\n",
       "<path style=\"fill:none;stroke-width:1;stroke-linecap:butt;stroke-linejoin:miter;stroke:rgb(74.901961%,74.901961%,74.901961%);stroke-opacity:1;stroke-miterlimit:10;\" d=\"M 114.023438 -79.5 C 128.441406 -79.5 153.429688 -79.5 171.546875 -79.5 \" transform=\"matrix(1,0,0,1,4,242)\"/>\n",
       "<path style=\"fill-rule:nonzero;fill:rgb(74.901961%,74.901961%,74.901961%);fill-opacity:1;stroke-width:1;stroke-linecap:butt;stroke-linejoin:miter;stroke:rgb(74.901961%,74.901961%,74.901961%);stroke-opacity:1;stroke-miterlimit:10;\" d=\"M 171.78125 -83 L 181.78125 -79.5 L 171.78125 -76 Z M 171.78125 -83 \" transform=\"matrix(1,0,0,1,4,242)\"/>\n",
       "<g style=\"fill:rgb(0%,0%,0%);fill-opacity:1;\">\n",
       "  <use xlink:href=\"#glyph1-12\" x=\"136\" y=\"159.699219\"/>\n",
       "  <use xlink:href=\"#glyph1-6\" x=\"142\" y=\"159.699219\"/>\n",
       "  <use xlink:href=\"#glyph1-12\" x=\"145\" y=\"159.699219\"/>\n",
       "  <use xlink:href=\"#glyph1-8\" x=\"151\" y=\"159.699219\"/>\n",
       "  <use xlink:href=\"#glyph1-9\" x=\"154\" y=\"159.699219\"/>\n",
       "  <use xlink:href=\"#glyph1-13\" x=\"157.75\" y=\"159.699219\"/>\n",
       "  <use xlink:href=\"#glyph1-11\" x=\"163.75\" y=\"159.699219\"/>\n",
       "</g>\n",
       "<path style=\"fill-rule:nonzero;fill:rgb(99.215686%,90.588235%,14.509804%);fill-opacity:1;stroke-width:4;stroke-linecap:butt;stroke-linejoin:miter;stroke:rgb(90.196078%,81.176471%,0.784314%);stroke-opacity:1;stroke-miterlimit:10;\" d=\"M 114 -36.5 C 114 -29.597656 108.402344 -24 101.5 -24 C 94.597656 -24 89 -29.597656 89 -36.5 C 89 -43.402344 94.597656 -49 101.5 -49 C 108.402344 -49 114 -43.402344 114 -36.5 \" transform=\"matrix(1,0,0,1,4,242)\"/>\n",
       "<g style=\"fill:rgb(0%,0%,0%);fill-opacity:1;\">\n",
       "  <use xlink:href=\"#glyph0-4\" x=\"96.5\" y=\"208.300781\"/>\n",
       "  <use xlink:href=\"#glyph0-2\" x=\"103.25\" y=\"208.300781\"/>\n",
       "  <use xlink:href=\"#glyph0-5\" x=\"107\" y=\"208.300781\"/>\n",
       "</g>\n",
       "<path style=\"fill:none;stroke-width:1;stroke-linecap:butt;stroke-linejoin:miter;stroke:rgb(74.901961%,74.901961%,74.901961%);stroke-opacity:1;stroke-miterlimit:10;\" d=\"M 113.296875 -41.601562 C 128.152344 -48.621094 155.164062 -61.382812 173.703125 -70.144531 \" transform=\"matrix(1,0,0,1,4,242)\"/>\n",
       "<path style=\"fill-rule:nonzero;fill:rgb(74.901961%,74.901961%,74.901961%);fill-opacity:1;stroke-width:1;stroke-linecap:butt;stroke-linejoin:miter;stroke:rgb(74.901961%,74.901961%,74.901961%);stroke-opacity:1;stroke-miterlimit:10;\" d=\"M 172.460938 -73.429688 L 183 -74.539062 L 175.453125 -67.101562 Z M 172.460938 -73.429688 \" transform=\"matrix(1,0,0,1,4,242)\"/>\n",
       "<g style=\"fill:rgb(0%,0%,0%);fill-opacity:1;\">\n",
       "  <use xlink:href=\"#glyph1-12\" x=\"136\" y=\"173.699219\"/>\n",
       "  <use xlink:href=\"#glyph1-6\" x=\"142\" y=\"173.699219\"/>\n",
       "  <use xlink:href=\"#glyph1-14\" x=\"145\" y=\"173.699219\"/>\n",
       "  <use xlink:href=\"#glyph1-8\" x=\"151\" y=\"173.699219\"/>\n",
       "  <use xlink:href=\"#glyph1-9\" x=\"154\" y=\"173.699219\"/>\n",
       "  <use xlink:href=\"#glyph1-13\" x=\"157.75\" y=\"173.699219\"/>\n",
       "  <use xlink:href=\"#glyph1-11\" x=\"163.75\" y=\"173.699219\"/>\n",
       "</g>\n",
       "<path style=\"fill:none;stroke-width:1;stroke-linecap:butt;stroke-linejoin:miter;stroke:rgb(74.901961%,74.901961%,74.901961%);stroke-opacity:1;stroke-miterlimit:10;\" d=\"M 7.269531 -233.546875 C 17.765625 -229.9375 55.730469 -216.890625 79.855469 -208.597656 \" transform=\"matrix(1,0,0,1,4,242)\"/>\n",
       "<path style=\"fill-rule:nonzero;fill:rgb(74.901961%,74.901961%,74.901961%);fill-opacity:1;stroke-width:1;stroke-linecap:butt;stroke-linejoin:miter;stroke:rgb(74.901961%,74.901961%,74.901961%);stroke-opacity:1;stroke-miterlimit:10;\" d=\"M 81.203125 -211.835938 L 89.523438 -205.273438 L 78.929688 -205.214844 Z M 81.203125 -211.835938 \" transform=\"matrix(1,0,0,1,4,242)\"/>\n",
       "<g style=\"fill:rgb(0%,0%,0%);fill-opacity:1;\">\n",
       "  <use xlink:href=\"#glyph1-15\" x=\"29\" y=\"12.699219\"/>\n",
       "  <use xlink:href=\"#glyph1-2\" x=\"35\" y=\"12.699219\"/>\n",
       "  <use xlink:href=\"#glyph1-16\" x=\"40.25\" y=\"12.699219\"/>\n",
       "  <use xlink:href=\"#glyph1-2\" x=\"44\" y=\"12.699219\"/>\n",
       "  <use xlink:href=\"#glyph1-6\" x=\"49.25\" y=\"12.699219\"/>\n",
       "  <use xlink:href=\"#glyph1-7\" x=\"52.25\" y=\"12.699219\"/>\n",
       "  <use xlink:href=\"#glyph1-8\" x=\"58.25\" y=\"12.699219\"/>\n",
       "  <use xlink:href=\"#glyph1-9\" x=\"61.25\" y=\"12.699219\"/>\n",
       "  <use xlink:href=\"#glyph1-12\" x=\"65\" y=\"12.699219\"/>\n",
       "  <use xlink:href=\"#glyph1-11\" x=\"71\" y=\"12.699219\"/>\n",
       "</g>\n",
       "<path style=\"fill:none;stroke-width:1;stroke-linecap:butt;stroke-linejoin:miter;stroke:rgb(74.901961%,74.901961%,74.901961%);stroke-opacity:1;stroke-miterlimit:10;\" d=\"M 7.269531 -201.5 C 17.613281 -201.5 54.625 -201.5 78.789062 -201.5 \" transform=\"matrix(1,0,0,1,4,242)\"/>\n",
       "<path style=\"fill-rule:nonzero;fill:rgb(74.901961%,74.901961%,74.901961%);fill-opacity:1;stroke-width:1;stroke-linecap:butt;stroke-linejoin:miter;stroke:rgb(74.901961%,74.901961%,74.901961%);stroke-opacity:1;stroke-miterlimit:10;\" d=\"M 78.84375 -205 L 88.84375 -201.5 L 78.84375 -198 Z M 78.84375 -205 \" transform=\"matrix(1,0,0,1,4,242)\"/>\n",
       "<g style=\"fill:rgb(0%,0%,0%);fill-opacity:1;\">\n",
       "  <use xlink:href=\"#glyph1-15\" x=\"29\" y=\"37.699219\"/>\n",
       "  <use xlink:href=\"#glyph1-2\" x=\"35\" y=\"37.699219\"/>\n",
       "  <use xlink:href=\"#glyph1-16\" x=\"40.25\" y=\"37.699219\"/>\n",
       "  <use xlink:href=\"#glyph1-2\" x=\"44\" y=\"37.699219\"/>\n",
       "  <use xlink:href=\"#glyph1-6\" x=\"49.25\" y=\"37.699219\"/>\n",
       "  <use xlink:href=\"#glyph1-5\" x=\"52.25\" y=\"37.699219\"/>\n",
       "  <use xlink:href=\"#glyph1-8\" x=\"58.25\" y=\"37.699219\"/>\n",
       "  <use xlink:href=\"#glyph1-9\" x=\"61.25\" y=\"37.699219\"/>\n",
       "  <use xlink:href=\"#glyph1-12\" x=\"65\" y=\"37.699219\"/>\n",
       "  <use xlink:href=\"#glyph1-11\" x=\"71\" y=\"37.699219\"/>\n",
       "</g>\n",
       "<path style=\"fill:none;stroke-width:1;stroke-linecap:butt;stroke-linejoin:miter;stroke:rgb(74.901961%,74.901961%,74.901961%);stroke-opacity:1;stroke-miterlimit:10;\" d=\"M 7.269531 -168.210938 C 17.613281 -167.132812 54.625 -163.277344 78.789062 -160.761719 \" transform=\"matrix(1,0,0,1,4,242)\"/>\n",
       "<path style=\"fill-rule:nonzero;fill:rgb(74.901961%,74.901961%,74.901961%);fill-opacity:1;stroke-width:1;stroke-linecap:butt;stroke-linejoin:miter;stroke:rgb(74.901961%,74.901961%,74.901961%);stroke-opacity:1;stroke-miterlimit:10;\" d=\"M 79.257812 -164.230469 L 88.84375 -159.714844 L 78.535156 -157.269531 Z M 79.257812 -164.230469 \" transform=\"matrix(1,0,0,1,4,242)\"/>\n",
       "<g style=\"fill:rgb(0%,0%,0%);fill-opacity:1;\">\n",
       "  <use xlink:href=\"#glyph1-15\" x=\"29\" y=\"73.699219\"/>\n",
       "  <use xlink:href=\"#glyph1-2\" x=\"35\" y=\"73.699219\"/>\n",
       "  <use xlink:href=\"#glyph1-16\" x=\"40.25\" y=\"73.699219\"/>\n",
       "  <use xlink:href=\"#glyph1-2\" x=\"44\" y=\"73.699219\"/>\n",
       "  <use xlink:href=\"#glyph1-6\" x=\"49.25\" y=\"73.699219\"/>\n",
       "  <use xlink:href=\"#glyph1-12\" x=\"52.25\" y=\"73.699219\"/>\n",
       "  <use xlink:href=\"#glyph1-8\" x=\"58.25\" y=\"73.699219\"/>\n",
       "  <use xlink:href=\"#glyph1-9\" x=\"61.25\" y=\"73.699219\"/>\n",
       "  <use xlink:href=\"#glyph1-12\" x=\"65\" y=\"73.699219\"/>\n",
       "  <use xlink:href=\"#glyph1-11\" x=\"71\" y=\"73.699219\"/>\n",
       "</g>\n",
       "<path style=\"fill:none;stroke-width:1;stroke-linecap:butt;stroke-linejoin:miter;stroke:rgb(74.901961%,74.901961%,74.901961%);stroke-opacity:1;stroke-miterlimit:10;\" d=\"M 7.269531 -136.164062 C 17.667969 -138.65625 55.007812 -147.601562 79.160156 -153.386719 \" transform=\"matrix(1,0,0,1,4,242)\"/>\n",
       "<path style=\"fill-rule:nonzero;fill:rgb(74.901961%,74.901961%,74.901961%);fill-opacity:1;stroke-width:1;stroke-linecap:butt;stroke-linejoin:miter;stroke:rgb(74.901961%,74.901961%,74.901961%);stroke-opacity:1;stroke-miterlimit:10;\" d=\"M 78.644531 -156.863281 L 89.183594 -155.789062 L 80.273438 -150.054688 Z M 78.644531 -156.863281 \" transform=\"matrix(1,0,0,1,4,242)\"/>\n",
       "<g style=\"fill:rgb(0%,0%,0%);fill-opacity:1;\">\n",
       "  <use xlink:href=\"#glyph1-15\" x=\"29\" y=\"91.699219\"/>\n",
       "  <use xlink:href=\"#glyph1-2\" x=\"35\" y=\"91.699219\"/>\n",
       "  <use xlink:href=\"#glyph1-16\" x=\"40.25\" y=\"91.699219\"/>\n",
       "  <use xlink:href=\"#glyph1-2\" x=\"44\" y=\"91.699219\"/>\n",
       "  <use xlink:href=\"#glyph1-6\" x=\"49.25\" y=\"91.699219\"/>\n",
       "  <use xlink:href=\"#glyph1-14\" x=\"52.25\" y=\"91.699219\"/>\n",
       "  <use xlink:href=\"#glyph1-8\" x=\"58.25\" y=\"91.699219\"/>\n",
       "  <use xlink:href=\"#glyph1-9\" x=\"61.25\" y=\"91.699219\"/>\n",
       "  <use xlink:href=\"#glyph1-12\" x=\"65\" y=\"91.699219\"/>\n",
       "  <use xlink:href=\"#glyph1-11\" x=\"71\" y=\"91.699219\"/>\n",
       "</g>\n",
       "<path style=\"fill:none;stroke-width:1;stroke-linecap:butt;stroke-linejoin:miter;stroke:rgb(74.901961%,74.901961%,74.901961%);stroke-opacity:1;stroke-miterlimit:10;\" d=\"M 7.269531 -101.835938 C 17.667969 -99.34375 55.007812 -90.398438 79.160156 -84.613281 \" transform=\"matrix(1,0,0,1,4,242)\"/>\n",
       "<path style=\"fill-rule:nonzero;fill:rgb(74.901961%,74.901961%,74.901961%);fill-opacity:1;stroke-width:1;stroke-linecap:butt;stroke-linejoin:miter;stroke:rgb(74.901961%,74.901961%,74.901961%);stroke-opacity:1;stroke-miterlimit:10;\" d=\"M 80.273438 -87.945312 L 89.183594 -82.210938 L 78.644531 -81.136719 Z M 80.273438 -87.945312 \" transform=\"matrix(1,0,0,1,4,242)\"/>\n",
       "<g style=\"fill:rgb(0%,0%,0%);fill-opacity:1;\">\n",
       "  <use xlink:href=\"#glyph1-15\" x=\"29\" y=\"141.699219\"/>\n",
       "  <use xlink:href=\"#glyph1-2\" x=\"35\" y=\"141.699219\"/>\n",
       "  <use xlink:href=\"#glyph1-16\" x=\"40.25\" y=\"141.699219\"/>\n",
       "  <use xlink:href=\"#glyph1-2\" x=\"44\" y=\"141.699219\"/>\n",
       "  <use xlink:href=\"#glyph1-6\" x=\"49.25\" y=\"141.699219\"/>\n",
       "  <use xlink:href=\"#glyph1-13\" x=\"52.25\" y=\"141.699219\"/>\n",
       "  <use xlink:href=\"#glyph1-8\" x=\"58.25\" y=\"141.699219\"/>\n",
       "  <use xlink:href=\"#glyph1-9\" x=\"61.25\" y=\"141.699219\"/>\n",
       "  <use xlink:href=\"#glyph1-12\" x=\"65\" y=\"141.699219\"/>\n",
       "  <use xlink:href=\"#glyph1-11\" x=\"71\" y=\"141.699219\"/>\n",
       "</g>\n",
       "<path style=\"fill:none;stroke-width:1;stroke-linecap:butt;stroke-linejoin:miter;stroke:rgb(74.901961%,74.901961%,74.901961%);stroke-opacity:1;stroke-miterlimit:10;\" d=\"M 7.269531 -69.789062 C 17.613281 -70.867188 54.625 -74.722656 78.789062 -77.238281 \" transform=\"matrix(1,0,0,1,4,242)\"/>\n",
       "<path style=\"fill-rule:nonzero;fill:rgb(74.901961%,74.901961%,74.901961%);fill-opacity:1;stroke-width:1;stroke-linecap:butt;stroke-linejoin:miter;stroke:rgb(74.901961%,74.901961%,74.901961%);stroke-opacity:1;stroke-miterlimit:10;\" d=\"M 78.535156 -80.730469 L 88.84375 -78.285156 L 79.257812 -73.769531 Z M 78.535156 -80.730469 \" transform=\"matrix(1,0,0,1,4,242)\"/>\n",
       "<g style=\"fill:rgb(0%,0%,0%);fill-opacity:1;\">\n",
       "  <use xlink:href=\"#glyph1-15\" x=\"29\" y=\"168.699219\"/>\n",
       "  <use xlink:href=\"#glyph1-2\" x=\"35\" y=\"168.699219\"/>\n",
       "  <use xlink:href=\"#glyph1-16\" x=\"40.25\" y=\"168.699219\"/>\n",
       "  <use xlink:href=\"#glyph1-2\" x=\"44\" y=\"168.699219\"/>\n",
       "  <use xlink:href=\"#glyph1-6\" x=\"49.25\" y=\"168.699219\"/>\n",
       "  <use xlink:href=\"#glyph1-17\" x=\"52.25\" y=\"168.699219\"/>\n",
       "  <use xlink:href=\"#glyph1-8\" x=\"58.25\" y=\"168.699219\"/>\n",
       "  <use xlink:href=\"#glyph1-9\" x=\"61.25\" y=\"168.699219\"/>\n",
       "  <use xlink:href=\"#glyph1-12\" x=\"65\" y=\"168.699219\"/>\n",
       "  <use xlink:href=\"#glyph1-11\" x=\"71\" y=\"168.699219\"/>\n",
       "</g>\n",
       "<path style=\"fill:none;stroke-width:1;stroke-linecap:butt;stroke-linejoin:miter;stroke:rgb(74.901961%,74.901961%,74.901961%);stroke-opacity:1;stroke-miterlimit:10;\" d=\"M 7.269531 -36.5 C 17.613281 -36.5 54.625 -36.5 78.789062 -36.5 \" transform=\"matrix(1,0,0,1,4,242)\"/>\n",
       "<path style=\"fill-rule:nonzero;fill:rgb(74.901961%,74.901961%,74.901961%);fill-opacity:1;stroke-width:1;stroke-linecap:butt;stroke-linejoin:miter;stroke:rgb(74.901961%,74.901961%,74.901961%);stroke-opacity:1;stroke-miterlimit:10;\" d=\"M 78.84375 -40 L 88.84375 -36.5 L 78.84375 -33 Z M 78.84375 -40 \" transform=\"matrix(1,0,0,1,4,242)\"/>\n",
       "<g style=\"fill:rgb(0%,0%,0%);fill-opacity:1;\">\n",
       "  <use xlink:href=\"#glyph1-15\" x=\"29\" y=\"202.699219\"/>\n",
       "  <use xlink:href=\"#glyph1-2\" x=\"35\" y=\"202.699219\"/>\n",
       "  <use xlink:href=\"#glyph1-16\" x=\"40.25\" y=\"202.699219\"/>\n",
       "  <use xlink:href=\"#glyph1-2\" x=\"44\" y=\"202.699219\"/>\n",
       "  <use xlink:href=\"#glyph1-6\" x=\"49.25\" y=\"202.699219\"/>\n",
       "  <use xlink:href=\"#glyph1-18\" x=\"52.25\" y=\"202.699219\"/>\n",
       "  <use xlink:href=\"#glyph1-8\" x=\"58.25\" y=\"202.699219\"/>\n",
       "  <use xlink:href=\"#glyph1-9\" x=\"61.25\" y=\"202.699219\"/>\n",
       "  <use xlink:href=\"#glyph1-12\" x=\"65\" y=\"202.699219\"/>\n",
       "  <use xlink:href=\"#glyph1-11\" x=\"71\" y=\"202.699219\"/>\n",
       "</g>\n",
       "<path style=\"fill:none;stroke-width:1;stroke-linecap:butt;stroke-linejoin:miter;stroke:rgb(74.901961%,74.901961%,74.901961%);stroke-opacity:1;stroke-miterlimit:10;\" d=\"M 7.269531 -4.453125 C 17.765625 -8.0625 55.730469 -21.109375 79.855469 -29.402344 \" transform=\"matrix(1,0,0,1,4,242)\"/>\n",
       "<path style=\"fill-rule:nonzero;fill:rgb(74.901961%,74.901961%,74.901961%);fill-opacity:1;stroke-width:1;stroke-linecap:butt;stroke-linejoin:miter;stroke:rgb(74.901961%,74.901961%,74.901961%);stroke-opacity:1;stroke-miterlimit:10;\" d=\"M 78.929688 -32.785156 L 89.523438 -32.726562 L 81.203125 -26.164062 Z M 78.929688 -32.785156 \" transform=\"matrix(1,0,0,1,4,242)\"/>\n",
       "<g style=\"fill:rgb(0%,0%,0%);fill-opacity:1;\">\n",
       "  <use xlink:href=\"#glyph1-15\" x=\"29\" y=\"216.699219\"/>\n",
       "  <use xlink:href=\"#glyph1-2\" x=\"35\" y=\"216.699219\"/>\n",
       "  <use xlink:href=\"#glyph1-16\" x=\"40.25\" y=\"216.699219\"/>\n",
       "  <use xlink:href=\"#glyph1-2\" x=\"44\" y=\"216.699219\"/>\n",
       "  <use xlink:href=\"#glyph1-6\" x=\"49.25\" y=\"216.699219\"/>\n",
       "  <use xlink:href=\"#glyph1-19\" x=\"52.25\" y=\"216.699219\"/>\n",
       "  <use xlink:href=\"#glyph1-8\" x=\"58.25\" y=\"216.699219\"/>\n",
       "  <use xlink:href=\"#glyph1-9\" x=\"61.25\" y=\"216.699219\"/>\n",
       "  <use xlink:href=\"#glyph1-12\" x=\"65\" y=\"216.699219\"/>\n",
       "  <use xlink:href=\"#glyph1-11\" x=\"71\" y=\"216.699219\"/>\n",
       "</g>\n",
       "</g>\n",
       "</svg>\n"
      ],
      "text/plain": [
       "<graphviz.graphs.Digraph at 0x7fa2aa7833a0>"
      ]
     },
     "execution_count": 5,
     "metadata": {},
     "output_type": "execute_result"
    }
   ],
   "source": [
    "DEVICE = 'cuda'\n",
    "BOND_DIM = 8\n",
    "DTYPE = torch.float        # we use float for the quantization, as qtorch does not support double\n",
    "N_LABELS = 1\n",
    "\n",
    "qmodel = TTNModel(features, bond_dim=BOND_DIM, n_labels=N_LABELS, device=DEVICE, dtype=DTYPE, quantizer=Q)\n",
    "qmodel.draw()"
   ]
  },
  {
   "cell_type": "code",
   "execution_count": 8,
   "metadata": {},
   "outputs": [
    {
     "data": {
      "text/plain": [
       "tensor([[ 0.3117],\n",
       "        [ 0.2218],\n",
       "        [-0.9170],\n",
       "        [-0.7307],\n",
       "        [ 0.3098],\n",
       "        [-0.3790],\n",
       "        [ 0.3108],\n",
       "        [ 0.3061],\n",
       "        [-0.3175],\n",
       "        [-0.9547],\n",
       "        [-0.9547],\n",
       "        [ 0.2446],\n",
       "        [ 0.2472],\n",
       "        [-0.8134],\n",
       "        [ 0.3394],\n",
       "        [ 0.2151],\n",
       "        [ 0.2978],\n",
       "        [-0.9609],\n",
       "        [-0.9466],\n",
       "        [-0.7156],\n",
       "        [ 0.3055],\n",
       "        [-0.6844],\n",
       "        [ 0.2553],\n",
       "        [-0.3662],\n",
       "        [ 0.0686],\n",
       "        [ 0.0611],\n",
       "        [ 0.2980],\n",
       "        [-0.6676],\n",
       "        [ 0.2663],\n",
       "        [-0.7019],\n",
       "        [ 0.2507],\n",
       "        [ 0.2989],\n",
       "        [ 0.2795],\n",
       "        [ 0.0580],\n",
       "        [ 0.1829],\n",
       "        [-0.3181],\n",
       "        [-0.0289],\n",
       "        [ 0.2477],\n",
       "        [ 0.3064],\n",
       "        [-0.6222],\n",
       "        [-0.6238],\n",
       "        [-0.8812],\n",
       "        [ 0.3801],\n",
       "        [-0.8430],\n",
       "        [-0.4489],\n",
       "        [ 0.1656],\n",
       "        [ 0.3842],\n",
       "        [-0.6271],\n",
       "        [ 0.1765],\n",
       "        [-0.3492],\n",
       "        [ 0.2016],\n",
       "        [-0.4736],\n",
       "        [ 0.3874],\n",
       "        [ 0.3114],\n",
       "        [-0.6249],\n",
       "        [ 0.0706],\n",
       "        [ 0.2452],\n",
       "        [-0.9572],\n",
       "        [ 0.3093],\n",
       "        [-0.4063],\n",
       "        [ 0.3780],\n",
       "        [-0.5944],\n",
       "        [ 0.3094],\n",
       "        [ 0.3102]], device='cuda:0', grad_fn=<ViewBackward0>)"
      ]
     },
     "execution_count": 8,
     "metadata": {},
     "output_type": "execute_result"
    }
   ],
   "source": [
    "test = next(iter(train_dl))[0].to(DEVICE, dtype=DTYPE)\n",
    "qmodel(test, quantize=False)"
   ]
  },
  {
   "cell_type": "code",
   "execution_count": 6,
   "metadata": {},
   "outputs": [
    {
     "name": "stderr",
     "output_type": "stream",
     "text": [
      "ttn unsupervised init: 100%|██████████| 28/28 [00:00<00:00, 124.14it/s, done unsupervised init!]       \n",
      "100%|██████████| 11/11 [00:01<00:00, 10.82it/s, loss=0.934, epoch mean loss=1.09]\n",
      "100%|██████████| 11/11 [00:00<00:00, 22.80it/s, loss=0.642, epoch mean loss=0.741]\n",
      "100%|██████████| 11/11 [00:00<00:00, 19.52it/s, loss=0.453, epoch mean loss=0.511]\n",
      "100%|██████████| 11/11 [00:00<00:00, 22.08it/s, loss=0.336, epoch mean loss=0.369]\n",
      "100%|██████████| 11/11 [00:00<00:00, 21.62it/s, loss=0.265, epoch mean loss=0.284]\n",
      "100%|██████████| 11/11 [00:00<00:00, 19.92it/s, loss=0.222, epoch mean loss=0.233]\n",
      "100%|██████████| 11/11 [00:00<00:00, 19.63it/s, loss=0.196, epoch mean loss=0.204]\n",
      "100%|██████████| 11/11 [00:00<00:00, 19.39it/s, loss=0.18, epoch mean loss=0.186]\n",
      "100%|██████████| 11/11 [00:00<00:00, 20.49it/s, loss=0.17, epoch mean loss=0.174]\n",
      "100%|██████████| 11/11 [00:00<00:00, 22.49it/s, loss=0.162, epoch mean loss=0.166]\n",
      "100%|██████████| 11/11 [00:00<00:00, 23.46it/s, loss=0.157, epoch mean loss=0.16]\n",
      "100%|██████████| 11/11 [00:00<00:00, 22.85it/s, loss=0.153, epoch mean loss=0.156]\n",
      "100%|██████████| 11/11 [00:00<00:00, 22.90it/s, loss=0.15, epoch mean loss=0.153]\n",
      "100%|██████████| 11/11 [00:00<00:00, 22.88it/s, loss=0.148, epoch mean loss=0.15]\n",
      "100%|██████████| 11/11 [00:00<00:00, 21.56it/s, loss=0.146, epoch mean loss=0.149]\n",
      "ttn supervised init:   0%|          | 0/11 [00:08<?, ?it/s, doing epoch 15/15]\n"
     ]
    },
    {
     "data": {
      "text/plain": [
       "==========================================================================================\n",
       "Layer (type:depth-idx)                   Output Shape              Param #\n",
       "==========================================================================================\n",
       "TTNModel                                 [64, 1]                   384\n",
       "==========================================================================================\n",
       "Total params: 384\n",
       "Trainable params: 384\n",
       "Non-trainable params: 0\n",
       "Total mult-adds (M): 0\n",
       "==========================================================================================\n",
       "Input size (MB): 0.00\n",
       "Forward/backward pass size (MB): 0.00\n",
       "Params size (MB): 0.00\n",
       "Estimated Total Size (MB): 0.00\n",
       "=========================================================================================="
      ]
     },
     "execution_count": 6,
     "metadata": {},
     "output_type": "execute_result"
    }
   ],
   "source": [
    "INIT_EPOCHS = 15\n",
    "\n",
    "qmodel.initialize(True, train_dl, class_loss, INIT_EPOCHS)\n",
    "summary(qmodel, input_size=(BATCH_SIZE, features, 2), dtypes=[DTYPE], device=DEVICE)"
   ]
  },
  {
   "cell_type": "code",
   "execution_count": 110,
   "metadata": {},
   "outputs": [],
   "source": [
    "LR = 0.02\n",
    "EPOCHS = 80\n",
    "LAMBDA = 0.1\n",
    "SCHEDULER_STEPS = 5\n",
    "\n",
    "\n",
    "qmodel.train()\n",
    "qmodel.to(DEVICE)\n",
    "optimizer = torch.optim.Adam(qmodel.parameters(), lr=LR)\n",
    "# define custom quantization functions for different numbers\n",
    "weight_quant = lambda x : fixed_point_quantize(x, wl, fl, rounding=\"nearest\")\n",
    "# turn your optimizer into a low precision optimizer\n",
    "optimizer = OptimLP(optimizer,\n",
    "                    weight_quant=weight_quant)\n",
    "schedulers = [torch.optim.lr_scheduler.ExponentialLR(optimizer, 0.9, last_epoch=-1, verbose=False), torch.optim.lr_scheduler.CosineAnnealingLR(optimizer, 10, eta_min=1e-5)]\n",
    "scheduler = schedulers[0]"
   ]
  },
  {
   "cell_type": "code",
   "execution_count": 111,
   "metadata": {},
   "outputs": [
    {
     "name": "stderr",
     "output_type": "stream",
     "text": [
      "epochs:   0%|          | 0/80 [00:00<?, ?it/s]"
     ]
    },
    {
     "name": "stderr",
     "output_type": "stream",
     "text": [
      "100%|██████████| 6/6 [00:00<00:00,  9.62it/s, current loss=0.34, batches -10-0 loss=0, epoch mean loss=0.413]\n",
      "100%|██████████| 6/6 [00:00<00:00,  9.83it/s, current loss=0.192, batches -10-0 loss=0, epoch mean loss=0.237]\n",
      "100%|██████████| 6/6 [00:00<00:00,  9.07it/s, current loss=0.142, batches -10-0 loss=0, epoch mean loss=0.168]\n",
      "100%|██████████| 6/6 [00:00<00:00,  9.36it/s, current loss=0.113, batches -10-0 loss=0, epoch mean loss=0.131]\n",
      "100%|██████████| 6/6 [00:00<00:00,  9.11it/s, current loss=0.104, batches -10-0 loss=0, epoch mean loss=0.113]\n",
      "100%|██████████| 6/6 [00:00<00:00, 10.30it/s, current loss=0.0885, batches -10-0 loss=0, epoch mean loss=0.0994]\n",
      "100%|██████████| 6/6 [00:00<00:00, 10.32it/s, current loss=0.0824, batches -10-0 loss=0, epoch mean loss=0.091]\n",
      "100%|██████████| 6/6 [00:00<00:00,  9.44it/s, current loss=0.0821, batches -10-0 loss=0, epoch mean loss=0.0877]\n",
      "100%|██████████| 6/6 [00:00<00:00,  8.58it/s, current loss=0.0789, batches -10-0 loss=0, epoch mean loss=0.0856]\n",
      "100%|██████████| 6/6 [00:00<00:00,  8.98it/s, current loss=0.077, batches -10-0 loss=0, epoch mean loss=0.0835]\n",
      "100%|██████████| 6/6 [00:00<00:00,  8.68it/s, current loss=0.077, batches -10-0 loss=0, epoch mean loss=0.0825]\n",
      "100%|██████████| 6/6 [00:00<00:00,  9.72it/s, current loss=0.077, batches -10-0 loss=0, epoch mean loss=0.0821]\n",
      "100%|██████████| 6/6 [00:00<00:00,  9.21it/s, current loss=0.0765, batches -10-0 loss=0, epoch mean loss=0.0817]\n",
      "100%|██████████| 6/6 [00:00<00:00,  9.93it/s, current loss=0.0764, batches -10-0 loss=0, epoch mean loss=0.0814]\n",
      "100%|██████████| 6/6 [00:00<00:00,  9.63it/s, current loss=0.0766, batches -10-0 loss=0, epoch mean loss=0.0812]\n",
      "100%|██████████| 6/6 [00:00<00:00,  9.54it/s, current loss=0.0759, batches -10-0 loss=0, epoch mean loss=0.081]\n",
      "100%|██████████| 6/6 [00:00<00:00,  9.71it/s, current loss=0.0757, batches -10-0 loss=0, epoch mean loss=0.0807]\n",
      "100%|██████████| 6/6 [00:00<00:00,  9.15it/s, current loss=0.0762, batches -10-0 loss=0, epoch mean loss=0.0807]\n",
      "100%|██████████| 6/6 [00:00<00:00,  9.37it/s, current loss=0.0762, batches -10-0 loss=0, epoch mean loss=0.0808]\n",
      "100%|██████████| 6/6 [00:00<00:00,  8.94it/s, current loss=0.076, batches -10-0 loss=0, epoch mean loss=0.0807]\n",
      "100%|██████████| 6/6 [00:00<00:00, 10.57it/s, current loss=0.0755, batches -10-0 loss=0, epoch mean loss=0.0804]\n",
      "100%|██████████| 6/6 [00:00<00:00,  9.53it/s, current loss=0.0756, batches -10-0 loss=0, epoch mean loss=0.0803]\n",
      "100%|██████████| 6/6 [00:00<00:00,  9.10it/s, current loss=0.0758, batches -10-0 loss=0, epoch mean loss=0.0804]\n",
      "100%|██████████| 6/6 [00:00<00:00,  9.24it/s, current loss=0.0757, batches -10-0 loss=0, epoch mean loss=0.0804]\n",
      "100%|██████████| 6/6 [00:00<00:00,  9.48it/s, current loss=0.0757, batches -10-0 loss=0, epoch mean loss=0.0803]\n",
      "100%|██████████| 6/6 [00:00<00:00,  9.73it/s, current loss=0.0752, batches -10-0 loss=0, epoch mean loss=0.0802]\n",
      "100%|██████████| 6/6 [00:00<00:00,  9.53it/s, current loss=0.0753, batches -10-0 loss=0, epoch mean loss=0.0801]\n",
      "100%|██████████| 6/6 [00:00<00:00,  9.69it/s, current loss=0.0755, batches -10-0 loss=0, epoch mean loss=0.0802]\n",
      "100%|██████████| 6/6 [00:00<00:00,  9.54it/s, current loss=0.0754, batches -10-0 loss=0, epoch mean loss=0.0802]\n",
      "100%|██████████| 6/6 [00:00<00:00, 10.06it/s, current loss=0.0755, batches -10-0 loss=0, epoch mean loss=0.0802]\n",
      "100%|██████████| 6/6 [00:00<00:00, 10.29it/s, current loss=0.0751, batches -10-0 loss=0, epoch mean loss=0.0801]\n",
      "100%|██████████| 6/6 [00:00<00:00,  9.63it/s, current loss=0.0751, batches -10-0 loss=0, epoch mean loss=0.08]\n",
      "100%|██████████| 6/6 [00:00<00:00,  9.55it/s, current loss=0.0753, batches -10-0 loss=0, epoch mean loss=0.0801]\n",
      "100%|██████████| 6/6 [00:00<00:00,  9.84it/s, current loss=0.0752, batches -10-0 loss=0, epoch mean loss=0.08]\n",
      "100%|██████████| 6/6 [00:00<00:00,  9.28it/s, current loss=0.0752, batches -10-0 loss=0, epoch mean loss=0.08]\n",
      "100%|██████████| 6/6 [00:00<00:00,  9.50it/s, current loss=0.0749, batches -10-0 loss=0, epoch mean loss=0.0799]\n",
      "100%|██████████| 6/6 [00:00<00:00,  9.31it/s, current loss=0.075, batches -10-0 loss=0, epoch mean loss=0.0799]\n",
      "100%|██████████| 6/6 [00:00<00:00,  9.75it/s, current loss=0.0751, batches -10-0 loss=0, epoch mean loss=0.0799]\n",
      "100%|██████████| 6/6 [00:00<00:00,  9.32it/s, current loss=0.0749, batches -10-0 loss=0, epoch mean loss=0.0799]\n",
      "100%|██████████| 6/6 [00:00<00:00,  9.42it/s, current loss=0.075, batches -10-0 loss=0, epoch mean loss=0.0799]\n",
      "100%|██████████| 6/6 [00:00<00:00,  9.44it/s, current loss=0.0746, batches -10-0 loss=0, epoch mean loss=0.0798]\n",
      "100%|██████████| 6/6 [00:00<00:00, 10.08it/s, current loss=0.0747, batches -10-0 loss=0, epoch mean loss=0.0798]\n",
      "100%|██████████| 6/6 [00:00<00:00, 10.14it/s, current loss=0.0747, batches -10-0 loss=0, epoch mean loss=0.0798]\n",
      "100%|██████████| 6/6 [00:00<00:00,  9.75it/s, current loss=0.0746, batches -10-0 loss=0, epoch mean loss=0.0798]\n",
      "100%|██████████| 6/6 [00:00<00:00,  8.84it/s, current loss=0.0747, batches -10-0 loss=0, epoch mean loss=0.0797]\n",
      "100%|██████████| 6/6 [00:00<00:00,  9.54it/s, current loss=0.0744, batches -10-0 loss=0, epoch mean loss=0.0796]\n",
      "100%|██████████| 6/6 [00:00<00:00,  9.69it/s, current loss=0.0745, batches -10-0 loss=0, epoch mean loss=0.0796]\n",
      "100%|██████████| 6/6 [00:00<00:00,  9.86it/s, current loss=0.0745, batches -10-0 loss=0, epoch mean loss=0.0796]\n",
      "100%|██████████| 6/6 [00:00<00:00,  9.82it/s, current loss=0.0744, batches -10-0 loss=0, epoch mean loss=0.0796]\n",
      "100%|██████████| 6/6 [00:00<00:00,  9.36it/s, current loss=0.0745, batches -10-0 loss=0, epoch mean loss=0.0796]\n",
      "100%|██████████| 6/6 [00:00<00:00, 10.12it/s, current loss=0.0742, batches -10-0 loss=0, epoch mean loss=0.0795]\n",
      "100%|██████████| 6/6 [00:00<00:00,  9.43it/s, current loss=0.0744, batches -10-0 loss=0, epoch mean loss=0.0795]\n",
      "100%|██████████| 6/6 [00:00<00:00,  9.20it/s, current loss=0.0743, batches -10-0 loss=0, epoch mean loss=0.0795]\n",
      "100%|██████████| 6/6 [00:00<00:00,  9.64it/s, current loss=0.0743, batches -10-0 loss=0, epoch mean loss=0.0795]\n",
      "100%|██████████| 6/6 [00:00<00:00,  9.65it/s, current loss=0.0744, batches -10-0 loss=0, epoch mean loss=0.0795]\n",
      "100%|██████████| 6/6 [00:00<00:00,  9.36it/s, current loss=0.0742, batches -10-0 loss=0, epoch mean loss=0.0794]\n",
      "100%|██████████| 6/6 [00:00<00:00,  9.70it/s, current loss=0.0743, batches -10-0 loss=0, epoch mean loss=0.0794]\n",
      "100%|██████████| 6/6 [00:00<00:00, 10.13it/s, current loss=0.0742, batches -10-0 loss=0, epoch mean loss=0.0794]\n",
      "100%|██████████| 6/6 [00:00<00:00, 10.37it/s, current loss=0.0743, batches -10-0 loss=0, epoch mean loss=0.0794]\n",
      "100%|██████████| 6/6 [00:00<00:00, 10.25it/s, current loss=0.0742, batches -10-0 loss=0, epoch mean loss=0.0794]\n",
      "100%|██████████| 6/6 [00:00<00:00, 10.58it/s, current loss=0.0741, batches -10-0 loss=0, epoch mean loss=0.0794]\n",
      "100%|██████████| 6/6 [00:00<00:00,  9.75it/s, current loss=0.0742, batches -10-0 loss=0, epoch mean loss=0.0794]\n",
      "100%|██████████| 6/6 [00:00<00:00,  9.53it/s, current loss=0.0742, batches -10-0 loss=0, epoch mean loss=0.0794]\n",
      "100%|██████████| 6/6 [00:00<00:00,  9.31it/s, current loss=0.0742, batches -10-0 loss=0, epoch mean loss=0.0794]\n",
      "100%|██████████| 6/6 [00:00<00:00, 10.00it/s, current loss=0.0742, batches -10-0 loss=0, epoch mean loss=0.0795]\n",
      "100%|██████████| 6/6 [00:00<00:00,  9.53it/s, current loss=0.0741, batches -10-0 loss=0, epoch mean loss=0.0794]\n",
      "100%|██████████| 6/6 [00:00<00:00,  9.65it/s, current loss=0.0741, batches -10-0 loss=0, epoch mean loss=0.0794]\n",
      "100%|██████████| 6/6 [00:00<00:00,  9.64it/s, current loss=0.0741, batches -10-0 loss=0, epoch mean loss=0.0794]\n",
      "100%|██████████| 6/6 [00:00<00:00,  9.41it/s, current loss=0.0741, batches -10-0 loss=0, epoch mean loss=0.0794]\n",
      "100%|██████████| 6/6 [00:00<00:00,  9.71it/s, current loss=0.0741, batches -10-0 loss=0, epoch mean loss=0.0794]\n",
      "100%|██████████| 6/6 [00:00<00:00, 10.04it/s, current loss=0.074, batches -10-0 loss=0, epoch mean loss=0.0794]\n",
      "100%|██████████| 6/6 [00:00<00:00,  9.57it/s, current loss=0.0741, batches -10-0 loss=0, epoch mean loss=0.0794]\n",
      "100%|██████████| 6/6 [00:00<00:00,  9.75it/s, current loss=0.074, batches -10-0 loss=0, epoch mean loss=0.0794]\n",
      "100%|██████████| 6/6 [00:00<00:00, 10.41it/s, current loss=0.0741, batches -10-0 loss=0, epoch mean loss=0.0794]\n",
      "100%|██████████| 6/6 [00:00<00:00,  9.90it/s, current loss=0.0741, batches -10-0 loss=0, epoch mean loss=0.0795]\n",
      "100%|██████████| 6/6 [00:00<00:00,  9.35it/s, current loss=0.074, batches -10-0 loss=0, epoch mean loss=0.0794]\n",
      "100%|██████████| 6/6 [00:00<00:00, 10.26it/s, current loss=0.0741, batches -10-0 loss=0, epoch mean loss=0.0795]\n",
      "100%|██████████| 6/6 [00:00<00:00,  9.50it/s, current loss=0.0741, batches -10-0 loss=0, epoch mean loss=0.0795]\n",
      "100%|██████████| 6/6 [00:00<00:00,  9.40it/s, current loss=0.0741, batches -10-0 loss=0, epoch mean loss=0.0795]\n",
      "100%|██████████| 6/6 [00:00<00:00,  9.39it/s, current loss=0.0741, batches -10-0 loss=0, epoch mean loss=0.0795]\n",
      "epochs: 100%|██████████| 80/80 [01:33<00:00,  1.17s/it]\n"
     ]
    }
   ],
   "source": [
    "\n",
    "tot_loss_history = []\n",
    "now = datetime.now()\n",
    "for epoch in trange(EPOCHS, desc='epochs', position=0):\n",
    "    loss_history = train_one_epoch(qmodel, DEVICE, train_dl, lambda *x: class_loss(*x, l=LAMBDA), optimizer)\n",
    "    tot_loss_history += loss_history\n",
    "    if epoch % SCHEDULER_STEPS == SCHEDULER_STEPS-1:\n",
    "        scheduler.step()\n",
    "\n",
    "    \n",
    "loss_history = np.array(tot_loss_history)"
   ]
  },
  {
   "cell_type": "code",
   "execution_count": 112,
   "metadata": {},
   "outputs": [
    {
     "name": "stderr",
     "output_type": "stream",
     "text": [
      "test: 100%|██████████| 2/2 [00:00<00:00, 214.80it/s]\n",
      "train:   0%|          | 0/6 [00:00<?, ?it/s]"
     ]
    },
    {
     "name": "stderr",
     "output_type": "stream",
     "text": [
      "train: 100%|██████████| 6/6 [00:00<00:00,  8.83it/s]\n"
     ]
    },
    {
     "data": {
      "text/plain": [
       "(0.7691176470588236, 0.7705882352941177)"
      ]
     },
     "execution_count": 112,
     "metadata": {},
     "output_type": "execute_result"
    }
   ],
   "source": [
    "accuracy(qmodel, DEVICE, train_dl, test_dl, DTYPE)"
   ]
  },
  {
   "cell_type": "code",
   "execution_count": 113,
   "metadata": {},
   "outputs": [],
   "source": [
    "torch.save(model.state_dict, MODEL_DIR + f'/trainedmodel_{DATASET}_bd{BOND_DIM}_{MAPPING}_{now.strftime(\"%Y%m%d-%H%M%S\")}.dict')\n",
    "np.savez(MODEL_DIR + f'/modelweights_{DATASET}_bd{BOND_DIM}_{MAPPING}_{now.strftime(\"%Y%m%d-%H%M%S\")}.npz', **{key.name: value.cpu().detach() for key, value in qmodel._TTN__tensor_map.items()})"
   ]
  },
  {
   "cell_type": "code",
   "execution_count": 114,
   "metadata": {},
   "outputs": [
    {
     "name": "stderr",
     "output_type": "stream",
     "text": [
      "test:   0%|          | 0/6 [00:00<?, ?it/s]"
     ]
    },
    {
     "name": "stderr",
     "output_type": "stream",
     "text": [
      "test: 100%|██████████| 6/6 [00:00<00:00,  9.77it/s]\n",
      "test: 100%|██████████| 2/2 [00:00<00:00, 253.26it/s]\n"
     ]
    }
   ],
   "source": [
    "# save model output\n",
    "train_out = get_output(qmodel, DEVICE, train_dl, DTYPE)\n",
    "test_out = get_output(qmodel, DEVICE, test_dl, DTYPE)\n",
    "np.save(MODEL_DIR + f'/train_out_{DATASET}_bd{BOND_DIM}_{MAPPING}_{now.strftime(\"%Y%m%d-%H%M%S\")}.npy', train_out)\n",
    "np.save(MODEL_DIR + f'/test_out_{DATASET}_bd{BOND_DIM}_{MAPPING}_{now.strftime(\"%Y%m%d-%H%M%S\")}.npy', test_out)"
   ]
  },
  {
   "cell_type": "code",
   "execution_count": 115,
   "metadata": {},
   "outputs": [
    {
     "data": {
      "image/png": "[encoded data removed]",
      "text/plain": [
       "<Figure size 800x600 with 1 Axes>"
      ]
     },
     "metadata": {},
     "output_type": "display_data"
    }
   ],
   "source": [
    "fig, ax = plt.subplots(1, 1, figsize=(8, 6))\n",
    "\n",
    "ax.plot([loss_history[i*len(train_dl):((i+1)*len(train_dl) if i<EPOCHS-1 else None)].mean() for i in range(EPOCHS)])\n",
    "#ax.set_ylim(0, 0.3)\n",
    "ax.set_xlabel('Epoch', fontsize=FONTSIZE)\n",
    "ax.set_ylabel('Loss', fontsize=FONTSIZE)\n",
    "ax.set_title(F'Training Loss\\n{DATASET}, BD={BOND_DIM}', fontsize=FONTSIZE+2)\n",
    "ax.tick_params(axis='both', which='major', labelsize=FONTSIZE-2)\n",
    "ax.grid(axis='y')\n",
    "\n",
    "ax.hlines(loss_history[(EPOCHS-1)*len(train_dl):].mean(), 0, EPOCHS, colors='r', linestyles='dashed')\n",
    "ax.text(EPOCHS, loss_history[(EPOCHS-1)*len(train_dl):].mean()+0.001, f'{loss_history[(EPOCHS-1)*len(train_dl):].mean():.3f}', fontsize=FONTSIZE-2, color='r', verticalalignment='bottom', horizontalalignment='right')\n",
    "\n",
    "fig.savefig(MODEL_DIR + f'/loss_history_{DATASET}_bd{BOND_DIM}_{MAPPING}_{now.strftime(\"%Y%m%d-%H%M%S\")}.png')"
   ]
  },
  {
   "cell_type": "code",
   "execution_count": 116,
   "metadata": {},
   "outputs": [
    {
     "name": "stderr",
     "output_type": "stream",
     "text": [
      "test:   0%|          | 0/6 [00:00<?, ?it/s]"
     ]
    },
    {
     "name": "stderr",
     "output_type": "stream",
     "text": [
      "test: 100%|██████████| 6/6 [00:00<00:00,  9.42it/s]\n",
      "test: 100%|██████████| 2/2 [00:00<00:00, 244.99it/s]\n"
     ]
    },
    {
     "data": {
      "image/png": "[encoded data removed]",
      "text/plain": [
       "<Figure size 600x500 with 1 Axes>"
      ]
     },
     "metadata": {},
     "output_type": "display_data"
    }
   ],
   "source": [
    "train_pred = get_predictions(qmodel, DEVICE, train_dl, DTYPE)\n",
    "test_pred = get_predictions(qmodel, DEVICE, test_dl, DTYPE)\n",
    "\n",
    "fig, ax = plot_predictions(train_pred, test_pred, N_LABELS)\n",
    "\n",
    "train_acc, test_acc = accuracy(qmodel, DEVICE, train_dl, test_dl, DTYPE, disable_pbar=True)\n",
    "\n",
    "ax.legend([f'Train\\nacc: {train_acc:.1%}', f'Test\\nacc: {test_acc:.1%}'])\n",
    "ax.set_title(f'Predictions distribution\\n{DATASET}, BD={BOND_DIM}', fontsize=FONTSIZE+2)\n",
    "\n",
    "fig.savefig(MODEL_DIR + f'/predictions_dist_{DATASET}_bd{BOND_DIM}_{MAPPING}_{now.strftime(\"%Y%m%d-%H%M%S\")}.png')"
   ]
  },
  {
   "cell_type": "code",
   "execution_count": 117,
   "metadata": {},
   "outputs": [
    {
     "name": "stdout",
     "output_type": "stream",
     "text": [
      "ROC AUC Score: 0.81\n"
     ]
    },
    {
     "data": {
      "image/png": "[encoded data removed]",
      "text/plain": [
       "<Figure size 800x600 with 1 Axes>"
      ]
     },
     "metadata": {},
     "output_type": "display_data"
    }
   ],
   "source": [
    "y_true = torch.cat([y for _, y in test_dl], dim=0).numpy()\n",
    "\n",
    "fpr, tpr, thresholds = roc_curve(y_true, test_pred)\n",
    "auc = roc_auc_score(y_true, test_pred)\n",
    "\n",
    "props = dict(boxstyle='round', facecolor='white', alpha=0.5)\n",
    "\n",
    "fig, ax = plt.subplots(1, 1, figsize=(8, 6))\n",
    "ax.plot(fpr, tpr)\n",
    "ax.plot([0, 1], [0, 1], 'r--')\n",
    "ax.set_xlabel('False Positive Rate', fontsize=FONTSIZE)\n",
    "ax.set_ylabel('True Positive Rate', fontsize=FONTSIZE)\n",
    "ax.set_title(f'ROC Curve\\n{DATASET}, BD={BOND_DIM}', fontsize=FONTSIZE+2)\n",
    "ax.tick_params(axis='both', which='major', labelsize=FONTSIZE)\n",
    "ax.text(0.815, 0.05, f'AUC = {auc:.2f}', fontsize=FONTSIZE-2, bbox=props)\n",
    "ax.grid()\n",
    "fig.savefig(MODEL_DIR + f'/roc_curve_{DATASET}_bd{BOND_DIM}_{MAPPING}_{now.strftime(\"%Y%m%d-%H%M%S\")}.png')\n",
    "\n",
    "print('ROC AUC Score:', round(roc_auc_score(y_true, test_pred), 2))"
   ]
  },
  {
   "cell_type": "code",
   "execution_count": 43,
   "metadata": {},
   "outputs": [
    {
     "data": {
      "text/plain": [
       "torch.Size([8, 8, 1])"
      ]
     },
     "execution_count": 43,
     "metadata": {},
     "output_type": "execute_result"
    }
   ],
   "source": [
    "tensors = torch.load('qmodels/trainedmodel_titanic_bd4_spin_20240213-140002.dict')()\n",
    "list(tensors.values())[0].shape"
   ]
  },
  {
   "cell_type": "code",
   "execution_count": 50,
   "metadata": {},
   "outputs": [
    {
     "data": {
      "text/plain": [
       "(4, 4, 1)"
      ]
     },
     "execution_count": 50,
     "metadata": {},
     "output_type": "execute_result"
    }
   ],
   "source": [
    "tensors = np.load('qmodels/modelweights_titanic_bd4_spin_20240213-140002.npz')\n",
    "list(tensors.values())[0].shape"
   ]
  },
  {
   "cell_type": "code",
   "execution_count": 52,
   "metadata": {},
   "outputs": [],
   "source": [
    "qmodel.tensors = [torch.tensor(tensor).to(dtype=torch.float, device='cuda') for tensor in tensors.values()]"
   ]
  },
  {
   "cell_type": "code",
   "execution_count": 61,
   "metadata": {},
   "outputs": [
    {
     "data": {
      "text/plain": [
       "torch.Size([2, 2, 4])"
      ]
     },
     "execution_count": 61,
     "metadata": {},
     "output_type": "execute_result"
    }
   ],
   "source": [
    "qmodel['2.0']['2.0'].shape"
   ]
  },
  {
   "cell_type": "code",
   "execution_count": 75,
   "metadata": {},
   "outputs": [
    {
     "data": {
      "text/plain": [
       "tensor([[[6.1232e-17, 1.0000e+00],\n",
       "         [6.1232e-17, 1.0000e+00],\n",
       "         [9.4565e-01, 3.2519e-01],\n",
       "         [1.0000e+00, 0.0000e+00],\n",
       "         [1.0000e+00, 0.0000e+00],\n",
       "         [1.0000e+00, 8.1039e-05],\n",
       "         [9.9976e-01, 2.1843e-02],\n",
       "         [6.1232e-17, 1.0000e+00]],\n",
       "\n",
       "        [[6.1232e-17, 1.0000e+00],\n",
       "         [1.0000e+00, 0.0000e+00],\n",
       "         [8.3261e-01, 5.5386e-01],\n",
       "         [1.0000e+00, 0.0000e+00],\n",
       "         [1.0000e+00, 0.0000e+00],\n",
       "         [9.8128e-01, 1.9260e-01],\n",
       "         [9.9977e-01, 2.1307e-02],\n",
       "         [7.0711e-01, 7.0711e-01]],\n",
       "\n",
       "        [[6.1232e-17, 1.0000e+00],\n",
       "         [6.1232e-17, 1.0000e+00],\n",
       "         [9.1715e-01, 3.9853e-01],\n",
       "         [1.0000e+00, 0.0000e+00],\n",
       "         [1.0000e+00, 0.0000e+00],\n",
       "         [1.0000e+00, 1.3635e-03],\n",
       "         [9.9975e-01, 2.2150e-02],\n",
       "         [1.0000e+00, 0.0000e+00]],\n",
       "\n",
       "        [[7.0711e-01, 7.0711e-01],\n",
       "         [1.0000e+00, 0.0000e+00],\n",
       "         [9.9097e-01, 1.3405e-01],\n",
       "         [1.0000e+00, 0.0000e+00],\n",
       "         [8.6603e-01, 5.0000e-01],\n",
       "         [1.0000e+00, 3.2416e-05],\n",
       "         [9.9676e-01, 8.0395e-02],\n",
       "         [6.1232e-17, 1.0000e+00]],\n",
       "\n",
       "        [[6.1232e-17, 1.0000e+00],\n",
       "         [6.1232e-17, 1.0000e+00],\n",
       "         [9.9993e-01, 1.1477e-02],\n",
       "         [9.8079e-01, 1.9509e-01],\n",
       "         [9.6593e-01, 2.5882e-01],\n",
       "         [1.0000e+00, 7.4455e-05],\n",
       "         [9.9911e-01, 4.2221e-02],\n",
       "         [6.1232e-17, 1.0000e+00]],\n",
       "\n",
       "        [[7.0711e-01, 7.0711e-01],\n",
       "         [1.0000e+00, 0.0000e+00],\n",
       "         [9.1715e-01, 3.9853e-01],\n",
       "         [1.0000e+00, 0.0000e+00],\n",
       "         [1.0000e+00, 0.0000e+00],\n",
       "         [1.0000e+00, 2.1779e-05],\n",
       "         [9.9948e-01, 3.2187e-02],\n",
       "         [6.1232e-17, 1.0000e+00]],\n",
       "\n",
       "        [[7.0711e-01, 7.0711e-01],\n",
       "         [6.1232e-17, 1.0000e+00],\n",
       "         [6.0463e-01, 7.9650e-01],\n",
       "         [1.0000e+00, 0.0000e+00],\n",
       "         [1.0000e+00, 0.0000e+00],\n",
       "         [9.9277e-01, 1.2004e-01],\n",
       "         [9.9894e-01, 4.5974e-02],\n",
       "         [6.1232e-17, 1.0000e+00]],\n",
       "\n",
       "        [[6.1232e-17, 1.0000e+00],\n",
       "         [1.0000e+00, 0.0000e+00],\n",
       "         [9.0914e-01, 4.1650e-01],\n",
       "         [1.0000e+00, 0.0000e+00],\n",
       "         [1.0000e+00, 0.0000e+00],\n",
       "         [9.8459e-01, 1.7489e-01],\n",
       "         [9.9972e-01, 2.3836e-02],\n",
       "         [6.1232e-17, 1.0000e+00]],\n",
       "\n",
       "        [[6.1232e-17, 1.0000e+00],\n",
       "         [6.1232e-17, 1.0000e+00],\n",
       "         [9.0914e-01, 4.1650e-01],\n",
       "         [1.0000e+00, 0.0000e+00],\n",
       "         [1.0000e+00, 0.0000e+00],\n",
       "         [1.0000e+00, 1.3518e-03],\n",
       "         [9.9975e-01, 2.2163e-02],\n",
       "         [1.0000e+00, 0.0000e+00]],\n",
       "\n",
       "        [[1.0000e+00, 0.0000e+00],\n",
       "         [1.0000e+00, 0.0000e+00],\n",
       "         [4.1948e-01, 9.0777e-01],\n",
       "         [1.0000e+00, 0.0000e+00],\n",
       "         [9.6593e-01, 2.5882e-01],\n",
       "         [1.0000e+00, 4.2546e-05],\n",
       "         [8.9134e-01, 4.5334e-01],\n",
       "         [6.1232e-17, 1.0000e+00]],\n",
       "\n",
       "        [[6.1232e-17, 1.0000e+00],\n",
       "         [1.0000e+00, 0.0000e+00],\n",
       "         [7.3549e-01, 6.7754e-01],\n",
       "         [7.0711e-01, 7.0711e-01],\n",
       "         [8.6603e-01, 5.0000e-01],\n",
       "         [9.8459e-01, 1.7490e-01],\n",
       "         [9.9972e-01, 2.3836e-02],\n",
       "         [6.1232e-17, 1.0000e+00]],\n",
       "\n",
       "        [[7.0711e-01, 7.0711e-01],\n",
       "         [6.1232e-17, 1.0000e+00],\n",
       "         [9.9995e-01, 9.8378e-03],\n",
       "         [9.8079e-01, 1.9509e-01],\n",
       "         [9.6593e-01, 2.5882e-01],\n",
       "         [9.9195e-01, 1.2661e-01],\n",
       "         [9.9901e-01, 4.4442e-02],\n",
       "         [6.1232e-17, 1.0000e+00]],\n",
       "\n",
       "        [[1.0000e+00, 0.0000e+00],\n",
       "         [6.1232e-17, 1.0000e+00],\n",
       "         [2.9087e-01, 9.5676e-01],\n",
       "         [1.0000e+00, 0.0000e+00],\n",
       "         [1.0000e+00, 0.0000e+00],\n",
       "         [9.9998e-01, 6.8422e-03],\n",
       "         [9.9669e-01, 8.1312e-02],\n",
       "         [6.1232e-17, 1.0000e+00]],\n",
       "\n",
       "        [[7.0711e-01, 7.0711e-01],\n",
       "         [1.0000e+00, 0.0000e+00],\n",
       "         [8.3261e-01, 5.5386e-01],\n",
       "         [1.0000e+00, 0.0000e+00],\n",
       "         [1.0000e+00, 0.0000e+00],\n",
       "         [9.9294e-01, 1.1865e-01],\n",
       "         [9.9928e-01, 3.7856e-02],\n",
       "         [7.0711e-01, 7.0711e-01]],\n",
       "\n",
       "        [[6.1232e-17, 1.0000e+00],\n",
       "         [6.1232e-17, 1.0000e+00],\n",
       "         [8.2155e-01, 5.7014e-01],\n",
       "         [8.3147e-01, 5.5557e-01],\n",
       "         [1.0000e+00, 0.0000e+00],\n",
       "         [9.8470e-01, 1.7423e-01],\n",
       "         [9.9848e-01, 5.5160e-02],\n",
       "         [6.1232e-17, 1.0000e+00]],\n",
       "\n",
       "        [[6.1232e-17, 1.0000e+00],\n",
       "         [1.0000e+00, 0.0000e+00],\n",
       "         [9.9716e-01, 7.5352e-02],\n",
       "         [1.0000e+00, 0.0000e+00],\n",
       "         [8.6603e-01, 5.0000e-01],\n",
       "         [9.8729e-01, 1.5895e-01],\n",
       "         [9.9772e-01, 6.7477e-02],\n",
       "         [6.1232e-17, 1.0000e+00]]], device='cuda:0')"
      ]
     },
     "execution_count": 75,
     "metadata": {},
     "output_type": "execute_result"
    }
   ],
   "source": [
    "data = np.load('titanic_models/data_titanic_spin_20240213-134127.npy')\n",
    "data = torch.tensor(data[:16], dtype=torch.float, device='cuda')\n",
    "data"
   ]
  },
  {
   "cell_type": "code",
   "execution_count": 54,
   "metadata": {},
   "outputs": [
    {
     "data": {
      "image/svg+xml": [
       "<?xml version=\"1.0\" encoding=\"UTF-8\"?>\n",
       "<svg xmlns=\"http://www.w3.org/2000/svg\" xmlns:xlink=\"http://www.w3.org/1999/xlink\" width=\"392pt\" height=\"246pt\" viewBox=\"0 0 392 246\" version=\"1.1\">\n",
       "<defs>\n",
       "<g>\n",
       "<symbol overflow=\"visible\" id=\"glyph0-0\">\n",
       "<path style=\"stroke:none;\" d=\"M 0.546875 2 L 0.546875 -8 L 6.046875 -8 L 6.046875 2 Z M 1.171875 1 L 5.4375 1 L 5.4375 -7 L 1.171875 -7 Z M 1.171875 1 \"/>\n",
       "</symbol>\n",
       "<symbol overflow=\"visible\" id=\"glyph0-1\">\n",
       "<path style=\"stroke:none;\" d=\"M 3.5 -1 C 4.050781 -1 4.460938 -1.25 4.734375 -1.75 C 5.003906 -2.25 5.140625 -3 5.140625 -4 C 5.140625 -5.007812 5.003906 -5.757812 4.734375 -6.25 C 4.460938 -6.75 4.050781 -7 3.5 -7 C 2.945312 -7 2.535156 -6.75 2.265625 -6.25 C 1.992188 -5.757812 1.859375 -5.007812 1.859375 -4 C 1.859375 -3 1.992188 -2.25 2.265625 -1.75 C 2.535156 -1.25 2.945312 -1 3.5 -1 Z M 3.5 0 C 2.625 0 1.941406 -0.347656 1.453125 -1.046875 C 0.960938 -1.753906 0.71875 -2.738281 0.71875 -4 C 0.71875 -5.257812 0.960938 -6.238281 1.453125 -6.9375 C 1.941406 -7.644531 2.625 -8 3.5 -8 C 4.363281 -8 5.039062 -7.644531 5.53125 -6.9375 C 6.019531 -6.238281 6.265625 -5.257812 6.265625 -4 C 6.265625 -2.738281 6.019531 -1.753906 5.53125 -1.046875 C 5.039062 -0.347656 4.363281 0 3.5 0 Z M 3.5 0 \"/>\n",
       "</symbol>\n",
       "<symbol overflow=\"visible\" id=\"glyph0-2\">\n",
       "<path style=\"stroke:none;\" d=\"M 1.03125 -0.5 C 1.03125 -0.832031 1.097656 -1 1.234375 -1 C 1.367188 -1 1.539062 -1 1.75 -1 C 1.945312 -1 2.113281 -1 2.25 -1 C 2.394531 -1 2.46875 -0.832031 2.46875 -0.5 C 2.46875 -0.164062 2.394531 0 2.25 0 C 2.113281 0 1.945312 0 1.75 0 C 1.539062 0 1.367188 0 1.234375 0 C 1.097656 0 1.03125 -0.164062 1.03125 -0.5 Z M 1.03125 -0.5 \"/>\n",
       "</symbol>\n",
       "<symbol overflow=\"visible\" id=\"glyph0-3\">\n",
       "<path style=\"stroke:none;\" d=\"M 1.5625 0 L 1.5625 -1 L 2.953125 -1 L 2.953125 -7.265625 L 1.34375 -6.328125 L 1.34375 -7 L 3.296875 -8 L 4.046875 -8 L 4.046875 -1 L 5.4375 -1 L 5.4375 0 Z M 1.5625 0 \"/>\n",
       "</symbol>\n",
       "<symbol overflow=\"visible\" id=\"glyph0-4\">\n",
       "<path style=\"stroke:none;\" d=\"M 1.40625 -6 L 0.8125 -6 L 0.8125 -7 C 1.195312 -7.320312 1.582031 -7.566406 1.96875 -7.734375 C 2.351562 -7.910156 2.734375 -8 3.109375 -8 C 3.941406 -8 4.597656 -7.804688 5.078125 -7.421875 C 5.566406 -7.035156 5.8125 -6.507812 5.8125 -5.84375 C 5.8125 -5.09375 5.257812 -4.195312 4.15625 -3.15625 C 4.070312 -3.082031 4.007812 -3.023438 3.96875 -2.984375 L 1.9375 -1 L 5.296875 -1 L 5.296875 -2 L 5.921875 -2 L 5.921875 0 L 0.75 0 L 0.75 -0.59375 L 3.1875 -3.078125 C 3.71875 -3.535156 4.097656 -3.953125 4.328125 -4.328125 C 4.554688 -4.710938 4.671875 -5.113281 4.671875 -5.53125 C 4.671875 -5.988281 4.53125 -6.347656 4.25 -6.609375 C 3.96875 -6.867188 3.582031 -7 3.09375 -7 C 2.570312 -7 2.171875 -6.914062 1.890625 -6.75 C 1.617188 -6.582031 1.457031 -6.332031 1.40625 -6 Z M 1.40625 -6 \"/>\n",
       "</symbol>\n",
       "<symbol overflow=\"visible\" id=\"glyph0-5\">\n",
       "<path style=\"stroke:none;\" d=\"M 1.0625 -7 C 1.476562 -7.320312 1.878906 -7.566406 2.265625 -7.734375 C 2.648438 -7.910156 3.015625 -8 3.359375 -8 C 4.140625 -8 4.75 -7.84375 5.1875 -7.53125 C 5.632812 -7.226562 5.859375 -6.804688 5.859375 -6.265625 C 5.859375 -5.816406 5.707031 -5.445312 5.40625 -5.15625 C 5.101562 -4.863281 4.671875 -4.664062 4.109375 -4.5625 C 4.765625 -4.46875 5.273438 -4.226562 5.640625 -3.84375 C 6.003906 -3.457031 6.1875 -2.953125 6.1875 -2.328125 C 6.1875 -1.578125 5.929688 -1 5.421875 -0.59375 C 4.921875 -0.195312 4.203125 0 3.265625 0 C 2.835938 0 2.425781 -0.0820312 2.03125 -0.25 C 1.632812 -0.414062 1.238281 -0.664062 0.84375 -1 L 0.84375 -2 L 1.4375 -2 C 1.46875 -1.664062 1.640625 -1.414062 1.953125 -1.25 C 2.265625 -1.082031 2.707031 -1 3.28125 -1 C 3.820312 -1 4.25 -1.125 4.5625 -1.375 C 4.882812 -1.632812 5.046875 -1.988281 5.046875 -2.4375 C 5.046875 -2.945312 4.878906 -3.332031 4.546875 -3.59375 C 4.222656 -3.863281 3.75 -4 3.125 -4 L 2.609375 -4 L 2.609375 -5 L 2.890625 -5 C 3.515625 -5 3.984375 -5.082031 4.296875 -5.25 C 4.609375 -5.425781 4.765625 -5.6875 4.765625 -6.03125 C 4.765625 -6.34375 4.632812 -6.582031 4.375 -6.75 C 4.125 -6.914062 3.753906 -7 3.265625 -7 C 2.785156 -7 2.410156 -6.914062 2.140625 -6.75 C 1.867188 -6.582031 1.710938 -6.332031 1.671875 -6 L 1.0625 -6 Z M 1.0625 -7 \"/>\n",
       "</symbol>\n",
       "<symbol overflow=\"visible\" id=\"glyph1-0\">\n",
       "<path style=\"stroke:none;\" d=\"M 0.453125 2 L 0.453125 -6 L 4.953125 -6 L 4.953125 2 Z M 0.953125 1 L 4.453125 1 L 4.453125 -5 L 0.953125 -5 Z M 0.953125 1 \"/>\n",
       "</symbol>\n",
       "<symbol overflow=\"visible\" id=\"glyph1-1\">\n",
       "<path style=\"stroke:none;\" d=\"M 1.84375 -1 L 2.609375 -1 L 2.609375 0 L 0.265625 0 L 0.265625 -1 L 1.03125 -1 L 1.03125 -7 L 0.265625 -7 L 0.265625 -8 L 1.84375 -8 Z M 1.84375 -1 \"/>\n",
       "</symbol>\n",
       "<symbol overflow=\"visible\" id=\"glyph1-2\">\n",
       "<path style=\"stroke:none;\" d=\"M 3.578125 -1.5 L 3.578125 -2 L 2.546875 -2 C 2.140625 -2 1.835938 -1.957031 1.640625 -1.875 C 1.441406 -1.789062 1.34375 -1.664062 1.34375 -1.5 C 1.34375 -1.34375 1.441406 -1.21875 1.640625 -1.125 C 1.835938 -1.039062 2.109375 -1 2.453125 -1 C 2.785156 -1 3.054688 -1.046875 3.265625 -1.140625 C 3.472656 -1.234375 3.578125 -1.351562 3.578125 -1.5 Z M 4.390625 -2.984375 L 4.390625 -1 L 5.109375 -1 L 5.109375 0 L 3.578125 0 L 3.578125 -1.015625 C 3.398438 -0.671875 3.191406 -0.414062 2.953125 -0.25 C 2.722656 -0.0820312 2.453125 0 2.140625 0 C 1.617188 0 1.207031 -0.132812 0.90625 -0.40625 C 0.601562 -0.675781 0.453125 -1.039062 0.453125 -1.5 C 0.453125 -1.976562 0.625 -2.347656 0.96875 -2.609375 C 1.320312 -2.867188 1.816406 -3 2.453125 -3 L 3.578125 -3 L 3.578125 -4.125 C 3.578125 -4.082031 3.46875 -4.050781 3.25 -4.03125 C 3.039062 -4.007812 2.738281 -4 2.34375 -4 C 2.019531 -4 1.765625 -4.082031 1.578125 -4.25 C 1.390625 -4.414062 1.269531 -4.664062 1.21875 -5 L 0.8125 -5 C 1.09375 -5 1.363281 -5 1.625 -5 C 1.894531 -5 2.15625 -5 2.40625 -5 C 3.050781 -5 3.539062 -4.828125 3.875 -4.484375 C 4.21875 -4.140625 4.390625 -3.640625 4.390625 -2.984375 Z M 4.390625 -2.984375 \"/>\n",
       "</symbol>\n",
       "<symbol overflow=\"visible\" id=\"glyph1-3\">\n",
       "<path style=\"stroke:none;\" d=\"M 1.03125 -1 L 1.03125 -7 L 0.265625 -7 L 0.265625 -8 L 1.84375 -8 L 1.84375 -3.71875 C 2 -4.15625 2.195312 -4.476562 2.4375 -4.6875 C 2.6875 -4.894531 2.992188 -5 3.359375 -5 C 3.929688 -5 4.398438 -4.769531 4.765625 -4.3125 C 5.128906 -3.851562 5.3125 -3.25 5.3125 -2.5 C 5.3125 -1.757812 5.128906 -1.15625 4.765625 -0.6875 C 4.398438 -0.226562 3.929688 0 3.359375 0 C 2.992188 0 2.6875 -0.0976562 2.4375 -0.296875 C 2.195312 -0.492188 2 -0.796875 1.84375 -1.203125 L 1.84375 0 L 0.265625 0 L 0.265625 -1 Z M 1.84375 -2.28125 C 1.84375 -1.863281 1.945312 -1.546875 2.15625 -1.328125 C 2.375 -1.109375 2.691406 -1 3.109375 -1 C 3.515625 -1 3.820312 -1.125 4.03125 -1.375 C 4.25 -1.632812 4.359375 -2.007812 4.359375 -2.5 C 4.359375 -3 4.25 -3.375 4.03125 -3.625 C 3.820312 -3.875 3.515625 -4 3.109375 -4 C 2.691406 -4 2.375 -3.878906 2.15625 -3.640625 C 1.945312 -3.410156 1.84375 -3.078125 1.84375 -2.640625 Z M 1.84375 -2.28125 \"/>\n",
       "</symbol>\n",
       "<symbol overflow=\"visible\" id=\"glyph1-4\">\n",
       "<path style=\"stroke:none;\" d=\"M 4.875 -2 L 1.390625 -2 L 1.390625 -1.953125 C 1.390625 -1.640625 1.507812 -1.398438 1.75 -1.234375 C 1.988281 -1.078125 2.335938 -1 2.796875 -1 C 3.148438 -1 3.441406 -1 3.671875 -1 C 3.898438 -1 4.0625 -1 4.15625 -1 L 4.796875 -1 C 4.671875 -0.664062 4.429688 -0.414062 4.078125 -0.25 C 3.734375 -0.0820312 3.28125 0 2.71875 0 C 2.03125 0 1.476562 -0.226562 1.0625 -0.6875 C 0.65625 -1.144531 0.453125 -1.75 0.453125 -2.5 C 0.453125 -3.25 0.65625 -3.851562 1.0625 -4.3125 C 1.46875 -4.769531 2 -5 2.65625 -5 C 3.363281 -5 3.90625 -4.742188 4.28125 -4.234375 C 4.664062 -3.722656 4.863281 -2.976562 4.875 -2 Z M 3.921875 -3 C 3.898438 -3.332031 3.785156 -3.582031 3.578125 -3.75 C 3.367188 -3.914062 3.0625 -4 2.65625 -4 C 2.289062 -4 2 -3.914062 1.78125 -3.75 C 1.570312 -3.582031 1.441406 -3.332031 1.390625 -3 Z M 3.921875 -3 \"/>\n",
       "</symbol>\n",
       "<symbol overflow=\"visible\" id=\"glyph1-5\">\n",
       "<path style=\"stroke:none;\" d=\"M 1.28125 0 L 1.28125 -1 L 2.421875 -1 L 2.421875 -6.265625 L 1.09375 -5.4375 L 1.09375 -6 L 2.703125 -7 L 3.3125 -7 L 3.3125 -1 L 4.453125 -1 L 4.453125 0 Z M 1.28125 0 \"/>\n",
       "</symbol>\n",
       "<symbol overflow=\"visible\" id=\"glyph1-6\">\n",
       "<path style=\"stroke:none;\" d=\"M 0.84375 -0.5 C 0.84375 -0.832031 0.898438 -1 1.015625 -1 C 1.128906 -1 1.269531 -1 1.4375 -1 C 1.59375 -1 1.726562 -1 1.84375 -1 C 1.957031 -1 2.015625 -0.832031 2.015625 -0.5 C 2.015625 -0.164062 1.957031 0 1.84375 0 C 1.726562 0 1.59375 0 1.4375 0 C 1.269531 0 1.128906 0 1.015625 0 C 0.898438 0 0.84375 -0.164062 0.84375 -0.5 Z M 0.84375 -0.5 \"/>\n",
       "</symbol>\n",
       "<symbol overflow=\"visible\" id=\"glyph1-7\">\n",
       "<path style=\"stroke:none;\" d=\"M 2.859375 -1 C 3.304688 -1 3.640625 -1.207031 3.859375 -1.625 C 4.085938 -2.039062 4.203125 -2.664062 4.203125 -3.5 C 4.203125 -4.332031 4.085938 -4.957031 3.859375 -5.375 C 3.640625 -5.789062 3.304688 -6 2.859375 -6 C 2.410156 -6 2.070312 -5.789062 1.84375 -5.375 C 1.625 -4.957031 1.515625 -4.332031 1.515625 -3.5 C 1.515625 -2.664062 1.625 -2.039062 1.84375 -1.625 C 2.070312 -1.207031 2.410156 -1 2.859375 -1 Z M 2.859375 0 C 2.148438 0 1.59375 -0.304688 1.1875 -0.921875 C 0.789062 -1.535156 0.59375 -2.394531 0.59375 -3.5 C 0.59375 -4.601562 0.789062 -5.460938 1.1875 -6.078125 C 1.59375 -6.691406 2.148438 -7 2.859375 -7 C 3.578125 -7 4.132812 -6.691406 4.53125 -6.078125 C 4.925781 -5.460938 5.125 -4.601562 5.125 -3.5 C 5.125 -2.394531 4.925781 -1.535156 4.53125 -0.921875 C 4.132812 -0.304688 3.578125 0 2.859375 0 Z M 2.859375 0 \"/>\n",
       "</symbol>\n",
       "<symbol overflow=\"visible\" id=\"glyph1-8\">\n",
       "<path style=\"stroke:none;\" d=\"\"/>\n",
       "</symbol>\n",
       "<symbol overflow=\"visible\" id=\"glyph1-9\">\n",
       "<path style=\"stroke:none;\" d=\"M 0.78125 -8 L 2.8125 -8 L 2.8125 -7 L 1.609375 -7 L 1.609375 -1 L 2.8125 -1 L 2.8125 0 L 0.78125 0 Z M 0.78125 -8 \"/>\n",
       "</symbol>\n",
       "<symbol overflow=\"visible\" id=\"glyph1-10\">\n",
       "<path style=\"stroke:none;\" d=\"M 3.140625 -3 L 3.140625 -6.125 L 0.90625 -3 Z M 5.078125 0 L 2.09375 0 L 2.09375 -1 L 3.140625 -1 L 3.140625 -2 L 0.28125 -2 L 0.28125 -2.484375 L 3.140625 -7 L 4.015625 -7 L 4.015625 -3 L 5.28125 -3 L 5.28125 -2 L 4.015625 -2 L 4.015625 -1 L 5.078125 -1 Z M 5.078125 0 \"/>\n",
       "</symbol>\n",
       "<symbol overflow=\"visible\" id=\"glyph1-11\">\n",
       "<path style=\"stroke:none;\" d=\"M 2.734375 -8 L 2.734375 0 L 0.6875 0 L 0.6875 -1 L 1.90625 -1 L 1.90625 -7 L 0.6875 -7 L 0.6875 -8 Z M 2.734375 -8 \"/>\n",
       "</symbol>\n",
       "<symbol overflow=\"visible\" id=\"glyph1-12\">\n",
       "<path style=\"stroke:none;\" d=\"M 1.15625 -5 L 0.65625 -5 L 0.65625 -6 C 0.96875 -6.320312 1.28125 -6.566406 1.59375 -6.734375 C 1.914062 -6.910156 2.226562 -7 2.53125 -7 C 3.21875 -7 3.757812 -6.832031 4.15625 -6.5 C 4.550781 -6.175781 4.75 -5.734375 4.75 -5.171875 C 4.75 -4.535156 4.300781 -3.773438 3.40625 -2.890625 C 3.332031 -2.816406 3.28125 -2.765625 3.25 -2.734375 L 1.59375 -1 L 4.328125 -1 L 4.328125 -2 L 4.84375 -2 L 4.84375 0 L 0.609375 0 L 0.609375 -0.546875 L 2.609375 -2.8125 C 3.046875 -3.1875 3.359375 -3.523438 3.546875 -3.828125 C 3.734375 -4.140625 3.828125 -4.46875 3.828125 -4.8125 C 3.828125 -5.1875 3.710938 -5.476562 3.484375 -5.6875 C 3.253906 -5.894531 2.9375 -6 2.53125 -6 C 2.113281 -6 1.789062 -5.914062 1.5625 -5.75 C 1.332031 -5.582031 1.195312 -5.332031 1.15625 -5 Z M 1.15625 -5 \"/>\n",
       "</symbol>\n",
       "<symbol overflow=\"visible\" id=\"glyph1-13\">\n",
       "<path style=\"stroke:none;\" d=\"M 0.875 -6 C 1.21875 -6.320312 1.546875 -6.566406 1.859375 -6.734375 C 2.179688 -6.910156 2.476562 -7 2.75 -7 C 3.394531 -7 3.894531 -6.84375 4.25 -6.53125 C 4.613281 -6.226562 4.796875 -5.804688 4.796875 -5.265625 C 4.796875 -4.816406 4.671875 -4.445312 4.421875 -4.15625 C 4.171875 -3.863281 3.816406 -3.664062 3.359375 -3.5625 C 3.898438 -3.488281 4.316406 -3.300781 4.609375 -3 C 4.910156 -2.695312 5.0625 -2.304688 5.0625 -1.828125 C 5.0625 -1.234375 4.851562 -0.78125 4.4375 -0.46875 C 4.03125 -0.15625 3.441406 0 2.671875 0 C 2.328125 0 1.988281 -0.0820312 1.65625 -0.25 C 1.332031 -0.414062 1.007812 -0.664062 0.6875 -1 L 0.6875 -2 L 1.171875 -2 C 1.203125 -1.664062 1.34375 -1.414062 1.59375 -1.25 C 1.851562 -1.082031 2.210938 -1 2.671875 -1 C 3.117188 -1 3.472656 -1.082031 3.734375 -1.25 C 3.992188 -1.425781 4.125 -1.664062 4.125 -1.96875 C 4.125 -2.300781 3.988281 -2.554688 3.71875 -2.734375 C 3.457031 -2.910156 3.070312 -3 2.5625 -3 L 2.140625 -3 L 2.140625 -4 L 2.359375 -4 C 2.867188 -4 3.25 -4.082031 3.5 -4.25 C 3.757812 -4.425781 3.890625 -4.6875 3.890625 -5.03125 C 3.890625 -5.34375 3.785156 -5.582031 3.578125 -5.75 C 3.367188 -5.914062 3.066406 -6 2.671875 -6 C 2.273438 -6 1.96875 -5.914062 1.75 -5.75 C 1.53125 -5.582031 1.398438 -5.332031 1.359375 -5 L 0.875 -5 Z M 0.875 -6 \"/>\n",
       "</symbol>\n",
       "<symbol overflow=\"visible\" id=\"glyph1-14\">\n",
       "<path style=\"stroke:none;\" d=\"M 4.71875 -1 L 5.5 -1 L 5.5 0 L 3.921875 0 L 3.921875 -1.203125 C 3.765625 -0.796875 3.5625 -0.492188 3.3125 -0.296875 C 3.070312 -0.0976562 2.769531 0 2.40625 0 C 1.832031 0 1.363281 -0.226562 1 -0.6875 C 0.632812 -1.15625 0.453125 -1.757812 0.453125 -2.5 C 0.453125 -3.25 0.632812 -3.851562 1 -4.3125 C 1.363281 -4.769531 1.832031 -5 2.40625 -5 C 2.769531 -5 3.070312 -4.894531 3.3125 -4.6875 C 3.5625 -4.476562 3.765625 -4.15625 3.921875 -3.71875 L 3.921875 -7 L 3.15625 -7 L 3.15625 -8 L 4.71875 -8 Z M 3.921875 -2.28125 L 3.921875 -2.640625 C 3.921875 -3.078125 3.8125 -3.410156 3.59375 -3.640625 C 3.382812 -3.878906 3.070312 -4 2.65625 -4 C 2.238281 -4 1.921875 -3.875 1.703125 -3.625 C 1.492188 -3.375 1.390625 -3 1.390625 -2.5 C 1.390625 -2.007812 1.492188 -1.632812 1.703125 -1.375 C 1.921875 -1.125 2.238281 -1 2.65625 -1 C 3.070312 -1 3.382812 -1.109375 3.59375 -1.328125 C 3.8125 -1.546875 3.921875 -1.863281 3.921875 -2.28125 Z M 3.921875 -2.28125 \"/>\n",
       "</symbol>\n",
       "<symbol overflow=\"visible\" id=\"glyph1-15\">\n",
       "<path style=\"stroke:none;\" d=\"M 0.96875 -4 L 0.265625 -4 L 0.265625 -5 L 0.96875 -5 L 0.96875 -6 L 1.78125 -6 L 1.78125 -5 L 3.3125 -5 L 3.3125 -4 L 1.78125 -4 L 1.78125 -2.09375 C 1.78125 -1.625 1.816406 -1.320312 1.890625 -1.1875 C 1.972656 -1.0625 2.113281 -1 2.3125 -1 C 2.53125 -1 2.6875 -1.078125 2.78125 -1.234375 C 2.875 -1.390625 2.925781 -1.644531 2.9375 -2 L 3.546875 -2 C 3.523438 -1.300781 3.410156 -0.789062 3.203125 -0.46875 C 2.992188 -0.15625 2.675781 0 2.25 0 C 1.78125 0 1.445312 -0.15625 1.25 -0.46875 C 1.0625 -0.789062 0.96875 -1.332031 0.96875 -2.09375 Z M 0.96875 -4 \"/>\n",
       "</symbol>\n",
       "<symbol overflow=\"visible\" id=\"glyph1-16\">\n",
       "<path style=\"stroke:none;\" d=\"M 4.53125 -7 L 4.53125 -6 L 1.515625 -6 L 1.515625 -3.265625 C 1.671875 -3.503906 1.847656 -3.6875 2.046875 -3.8125 C 2.253906 -3.9375 2.484375 -4 2.734375 -4 C 3.441406 -4 4 -3.820312 4.40625 -3.46875 C 4.820312 -3.113281 5.03125 -2.625 5.03125 -2 C 5.03125 -1.375 4.820312 -0.882812 4.40625 -0.53125 C 3.988281 -0.175781 3.40625 0 2.65625 0 C 2.363281 0 2.054688 -0.0820312 1.734375 -0.25 C 1.421875 -0.414062 1.097656 -0.664062 0.765625 -1 L 0.765625 -2 L 1.265625 -2 C 1.296875 -1.675781 1.425781 -1.425781 1.65625 -1.25 C 1.894531 -1.082031 2.234375 -1 2.671875 -1 C 3.128906 -1 3.484375 -1.082031 3.734375 -1.25 C 3.984375 -1.425781 4.109375 -1.675781 4.109375 -2 C 4.109375 -2.320312 3.984375 -2.566406 3.734375 -2.734375 C 3.484375 -2.910156 3.128906 -3 2.671875 -3 C 2.398438 -3 2.164062 -3 1.96875 -3 C 1.769531 -3 1.59375 -3 1.4375 -3 L 1.0625 -3 L 1.0625 -7 Z M 4.53125 -7 \"/>\n",
       "</symbol>\n",
       "<symbol overflow=\"visible\" id=\"glyph1-17\">\n",
       "<path style=\"stroke:none;\" d=\"M 2.953125 -1 C 3.359375 -1 3.671875 -1.082031 3.890625 -1.25 C 4.117188 -1.425781 4.234375 -1.675781 4.234375 -2 C 4.234375 -2.320312 4.117188 -2.566406 3.890625 -2.734375 C 3.671875 -2.910156 3.359375 -3 2.953125 -3 C 2.523438 -3 2.203125 -2.914062 1.984375 -2.75 C 1.765625 -2.582031 1.65625 -2.34375 1.65625 -2.03125 C 1.65625 -1.695312 1.765625 -1.441406 1.984375 -1.265625 C 2.210938 -1.085938 2.535156 -1 2.953125 -1 Z M 1.515625 -2.875 C 1.710938 -3.25 1.9375 -3.53125 2.1875 -3.71875 C 2.4375 -3.90625 2.722656 -4 3.046875 -4 C 3.691406 -4 4.203125 -3.816406 4.578125 -3.453125 C 4.960938 -3.097656 5.15625 -2.613281 5.15625 -2 C 5.15625 -1.394531 4.953125 -0.910156 4.546875 -0.546875 C 4.140625 -0.179688 3.59375 0 2.90625 0 C 2.164062 0 1.597656 -0.28125 1.203125 -0.84375 C 0.804688 -1.414062 0.609375 -2.226562 0.609375 -3.28125 C 0.609375 -4.46875 0.84375 -5.382812 1.3125 -6.03125 C 1.78125 -6.675781 2.445312 -7 3.3125 -7 C 3.539062 -7 3.78125 -6.914062 4.03125 -6.75 C 4.28125 -6.582031 4.539062 -6.332031 4.8125 -6 L 4.8125 -5 L 4.3125 -5 C 4.28125 -5.320312 4.164062 -5.566406 3.96875 -5.734375 C 3.78125 -5.910156 3.523438 -6 3.203125 -6 C 2.640625 -6 2.21875 -5.742188 1.9375 -5.234375 C 1.664062 -4.722656 1.523438 -3.9375 1.515625 -2.875 Z M 1.515625 -2.875 \"/>\n",
       "</symbol>\n",
       "<symbol overflow=\"visible\" id=\"glyph1-18\">\n",
       "<path style=\"stroke:none;\" d=\"M 5.078125 -6.515625 L 2.515625 0 L 1.859375 0 L 4.296875 -6 L 1.265625 -6 L 1.265625 -5.171875 L 0.75 -5.171875 L 0.75 -7 L 5.078125 -7 Z M 5.078125 -6.515625 \"/>\n",
       "</symbol>\n",
       "</g>\n",
       "</defs>\n",
       "<g id=\"surface1\">\n",
       "<path style=\"fill-rule:nonzero;fill:rgb(25.490196%,26.666667%,52.941176%);fill-opacity:1;stroke-width:4;stroke-linecap:butt;stroke-linejoin:miter;stroke:rgb(20.392157%,21.176471%,42.352941%);stroke-opacity:1;stroke-miterlimit:10;\" d=\"M 300 -124.5 C 300 -117.597656 294.402344 -112 287.5 -112 C 280.597656 -112 275 -117.597656 275 -124.5 C 275 -131.402344 280.597656 -137 287.5 -137 C 294.402344 -137 300 -131.402344 300 -124.5 \" transform=\"matrix(1,0,0,1,4,242)\"/>\n",
       "<g style=\"fill:rgb(0%,0%,0%);fill-opacity:1;\">\n",
       "  <use xlink:href=\"#glyph0-1\" x=\"282.5\" y=\"120.300781\"/>\n",
       "  <use xlink:href=\"#glyph0-2\" x=\"289.25\" y=\"120.300781\"/>\n",
       "  <use xlink:href=\"#glyph0-1\" x=\"293\" y=\"120.300781\"/>\n",
       "</g>\n",
       "<path style=\"fill:none;stroke-width:1;stroke-linecap:butt;stroke-linejoin:miter;stroke:rgb(74.901961%,74.901961%,74.901961%);stroke-opacity:1;stroke-miterlimit:10;\" d=\"M 300.25 -124.5 C 312.792969 -124.5 332.957031 -124.5 348.472656 -124.5 \" transform=\"matrix(1,0,0,1,4,242)\"/>\n",
       "<path style=\"fill-rule:nonzero;fill:rgb(74.901961%,74.901961%,74.901961%);fill-opacity:1;stroke-width:1;stroke-linecap:butt;stroke-linejoin:miter;stroke:rgb(74.901961%,74.901961%,74.901961%);stroke-opacity:1;stroke-miterlimit:10;\" d=\"M 348.773438 -128 L 358.773438 -124.5 L 348.773438 -121 Z M 348.773438 -128 \" transform=\"matrix(1,0,0,1,4,242)\"/>\n",
       "<g style=\"fill:rgb(0%,0%,0%);fill-opacity:1;\">\n",
       "  <use xlink:href=\"#glyph1-1\" x=\"322\" y=\"114.699219\"/>\n",
       "  <use xlink:href=\"#glyph1-2\" x=\"325\" y=\"114.699219\"/>\n",
       "  <use xlink:href=\"#glyph1-3\" x=\"330.25\" y=\"114.699219\"/>\n",
       "  <use xlink:href=\"#glyph1-4\" x=\"336.25\" y=\"114.699219\"/>\n",
       "  <use xlink:href=\"#glyph1-1\" x=\"341.5\" y=\"114.699219\"/>\n",
       "</g>\n",
       "<path style=\"fill-rule:nonzero;fill:rgb(13.333333%,65.882353%,51.764706%);fill-opacity:1;stroke-width:4;stroke-linecap:butt;stroke-linejoin:miter;stroke:rgb(10.588235%,52.54902%,41.568627%);stroke-opacity:1;stroke-miterlimit:10;\" d=\"M 207 -158.5 C 207 -151.597656 201.402344 -146 194.5 -146 C 187.597656 -146 182 -151.597656 182 -158.5 C 182 -165.402344 187.597656 -171 194.5 -171 C 201.402344 -171 207 -165.402344 207 -158.5 \" transform=\"matrix(1,0,0,1,4,242)\"/>\n",
       "<g style=\"fill:rgb(0%,0%,0%);fill-opacity:1;\">\n",
       "  <use xlink:href=\"#glyph0-3\" x=\"189.5\" y=\"86.300781\"/>\n",
       "  <use xlink:href=\"#glyph0-2\" x=\"196.25\" y=\"86.300781\"/>\n",
       "  <use xlink:href=\"#glyph0-1\" x=\"200\" y=\"86.300781\"/>\n",
       "</g>\n",
       "<path style=\"fill:none;stroke-width:1;stroke-linecap:butt;stroke-linejoin:miter;stroke:rgb(74.901961%,74.901961%,74.901961%);stroke-opacity:1;stroke-miterlimit:10;\" d=\"M 206.660156 -154.332031 C 221.40625 -148.820312 247.664062 -139.011719 266.023438 -132.148438 \" transform=\"matrix(1,0,0,1,4,242)\"/>\n",
       "<path style=\"fill-rule:nonzero;fill:rgb(74.901961%,74.901961%,74.901961%);fill-opacity:1;stroke-width:1;stroke-linecap:butt;stroke-linejoin:miter;stroke:rgb(74.901961%,74.901961%,74.901961%);stroke-opacity:1;stroke-miterlimit:10;\" d=\"M 267.390625 -135.375 L 275.535156 -128.597656 L 264.941406 -128.816406 Z M 267.390625 -135.375 \" transform=\"matrix(1,0,0,1,4,242)\"/>\n",
       "<g style=\"fill:rgb(0%,0%,0%);fill-opacity:1;\">\n",
       "  <use xlink:href=\"#glyph1-5\" x=\"229\" y=\"92.699219\"/>\n",
       "  <use xlink:href=\"#glyph1-6\" x=\"235\" y=\"92.699219\"/>\n",
       "  <use xlink:href=\"#glyph1-7\" x=\"238\" y=\"92.699219\"/>\n",
       "  <use xlink:href=\"#glyph1-8\" x=\"244\" y=\"92.699219\"/>\n",
       "  <use xlink:href=\"#glyph1-9\" x=\"247\" y=\"92.699219\"/>\n",
       "  <use xlink:href=\"#glyph1-10\" x=\"250.75\" y=\"92.699219\"/>\n",
       "  <use xlink:href=\"#glyph1-11\" x=\"256.75\" y=\"92.699219\"/>\n",
       "</g>\n",
       "<path style=\"fill-rule:nonzero;fill:rgb(13.333333%,65.882353%,51.764706%);fill-opacity:1;stroke-width:4;stroke-linecap:butt;stroke-linejoin:miter;stroke:rgb(10.588235%,52.54902%,41.568627%);stroke-opacity:1;stroke-miterlimit:10;\" d=\"M 207 -79.5 C 207 -72.597656 201.402344 -67 194.5 -67 C 187.597656 -67 182 -72.597656 182 -79.5 C 182 -86.402344 187.597656 -92 194.5 -92 C 201.402344 -92 207 -86.402344 207 -79.5 \" transform=\"matrix(1,0,0,1,4,242)\"/>\n",
       "<g style=\"fill:rgb(0%,0%,0%);fill-opacity:1;\">\n",
       "  <use xlink:href=\"#glyph0-3\" x=\"189.5\" y=\"165.300781\"/>\n",
       "  <use xlink:href=\"#glyph0-2\" x=\"196.25\" y=\"165.300781\"/>\n",
       "  <use xlink:href=\"#glyph0-3\" x=\"200\" y=\"165.300781\"/>\n",
       "</g>\n",
       "<path style=\"fill:none;stroke-width:1;stroke-linecap:butt;stroke-linejoin:miter;stroke:rgb(74.901961%,74.901961%,74.901961%);stroke-opacity:1;stroke-miterlimit:10;\" d=\"M 205.9375 -84.660156 C 220.738281 -91.980469 248.097656 -105.511719 266.789062 -114.753906 \" transform=\"matrix(1,0,0,1,4,242)\"/>\n",
       "<path style=\"fill-rule:nonzero;fill:rgb(74.901961%,74.901961%,74.901961%);fill-opacity:1;stroke-width:1;stroke-linecap:butt;stroke-linejoin:miter;stroke:rgb(74.901961%,74.901961%,74.901961%);stroke-opacity:1;stroke-miterlimit:10;\" d=\"M 265.386719 -117.964844 L 275.902344 -119.257812 L 268.488281 -111.6875 Z M 265.386719 -117.964844 \" transform=\"matrix(1,0,0,1,4,242)\"/>\n",
       "<g style=\"fill:rgb(0%,0%,0%);fill-opacity:1;\">\n",
       "  <use xlink:href=\"#glyph1-5\" x=\"229\" y=\"130.699219\"/>\n",
       "  <use xlink:href=\"#glyph1-6\" x=\"235\" y=\"130.699219\"/>\n",
       "  <use xlink:href=\"#glyph1-5\" x=\"238\" y=\"130.699219\"/>\n",
       "  <use xlink:href=\"#glyph1-8\" x=\"244\" y=\"130.699219\"/>\n",
       "  <use xlink:href=\"#glyph1-9\" x=\"247\" y=\"130.699219\"/>\n",
       "  <use xlink:href=\"#glyph1-10\" x=\"250.75\" y=\"130.699219\"/>\n",
       "  <use xlink:href=\"#glyph1-11\" x=\"256.75\" y=\"130.699219\"/>\n",
       "</g>\n",
       "<path style=\"fill-rule:nonzero;fill:rgb(99.215686%,90.588235%,14.509804%);fill-opacity:1;stroke-width:4;stroke-linecap:butt;stroke-linejoin:miter;stroke:rgb(90.196078%,81.176471%,0.784314%);stroke-opacity:1;stroke-miterlimit:10;\" d=\"M 114 -201.5 C 114 -194.597656 108.402344 -189 101.5 -189 C 94.597656 -189 89 -194.597656 89 -201.5 C 89 -208.402344 94.597656 -214 101.5 -214 C 108.402344 -214 114 -208.402344 114 -201.5 \" transform=\"matrix(1,0,0,1,4,242)\"/>\n",
       "<g style=\"fill:rgb(0%,0%,0%);fill-opacity:1;\">\n",
       "  <use xlink:href=\"#glyph0-4\" x=\"96.5\" y=\"43.300781\"/>\n",
       "  <use xlink:href=\"#glyph0-2\" x=\"103.25\" y=\"43.300781\"/>\n",
       "  <use xlink:href=\"#glyph0-1\" x=\"107\" y=\"43.300781\"/>\n",
       "</g>\n",
       "<path style=\"fill:none;stroke-width:1;stroke-linecap:butt;stroke-linejoin:miter;stroke:rgb(74.901961%,74.901961%,74.901961%);stroke-opacity:1;stroke-miterlimit:10;\" d=\"M 113.296875 -196.398438 C 128.152344 -189.378906 155.164062 -176.617188 173.703125 -167.855469 \" transform=\"matrix(1,0,0,1,4,242)\"/>\n",
       "<path style=\"fill-rule:nonzero;fill:rgb(74.901961%,74.901961%,74.901961%);fill-opacity:1;stroke-width:1;stroke-linecap:butt;stroke-linejoin:miter;stroke:rgb(74.901961%,74.901961%,74.901961%);stroke-opacity:1;stroke-miterlimit:10;\" d=\"M 175.453125 -170.898438 L 183 -163.460938 L 172.460938 -164.570312 Z M 175.453125 -170.898438 \" transform=\"matrix(1,0,0,1,4,242)\"/>\n",
       "<g style=\"fill:rgb(0%,0%,0%);fill-opacity:1;\">\n",
       "  <use xlink:href=\"#glyph1-12\" x=\"136\" y=\"52.699219\"/>\n",
       "  <use xlink:href=\"#glyph1-6\" x=\"142\" y=\"52.699219\"/>\n",
       "  <use xlink:href=\"#glyph1-7\" x=\"145\" y=\"52.699219\"/>\n",
       "  <use xlink:href=\"#glyph1-8\" x=\"151\" y=\"52.699219\"/>\n",
       "  <use xlink:href=\"#glyph1-9\" x=\"154\" y=\"52.699219\"/>\n",
       "  <use xlink:href=\"#glyph1-10\" x=\"157.75\" y=\"52.699219\"/>\n",
       "  <use xlink:href=\"#glyph1-11\" x=\"163.75\" y=\"52.699219\"/>\n",
       "</g>\n",
       "<path style=\"fill-rule:nonzero;fill:rgb(99.215686%,90.588235%,14.509804%);fill-opacity:1;stroke-width:4;stroke-linecap:butt;stroke-linejoin:miter;stroke:rgb(90.196078%,81.176471%,0.784314%);stroke-opacity:1;stroke-miterlimit:10;\" d=\"M 114 -158.5 C 114 -151.597656 108.402344 -146 101.5 -146 C 94.597656 -146 89 -151.597656 89 -158.5 C 89 -165.402344 94.597656 -171 101.5 -171 C 108.402344 -171 114 -165.402344 114 -158.5 \" transform=\"matrix(1,0,0,1,4,242)\"/>\n",
       "<g style=\"fill:rgb(0%,0%,0%);fill-opacity:1;\">\n",
       "  <use xlink:href=\"#glyph0-4\" x=\"96.5\" y=\"86.300781\"/>\n",
       "  <use xlink:href=\"#glyph0-2\" x=\"103.25\" y=\"86.300781\"/>\n",
       "  <use xlink:href=\"#glyph0-3\" x=\"107\" y=\"86.300781\"/>\n",
       "</g>\n",
       "<path style=\"fill:none;stroke-width:1;stroke-linecap:butt;stroke-linejoin:miter;stroke:rgb(74.901961%,74.901961%,74.901961%);stroke-opacity:1;stroke-miterlimit:10;\" d=\"M 114.023438 -158.5 C 128.441406 -158.5 153.429688 -158.5 171.546875 -158.5 \" transform=\"matrix(1,0,0,1,4,242)\"/>\n",
       "<path style=\"fill-rule:nonzero;fill:rgb(74.901961%,74.901961%,74.901961%);fill-opacity:1;stroke-width:1;stroke-linecap:butt;stroke-linejoin:miter;stroke:rgb(74.901961%,74.901961%,74.901961%);stroke-opacity:1;stroke-miterlimit:10;\" d=\"M 171.78125 -162 L 181.78125 -158.5 L 171.78125 -155 Z M 171.78125 -162 \" transform=\"matrix(1,0,0,1,4,242)\"/>\n",
       "<g style=\"fill:rgb(0%,0%,0%);fill-opacity:1;\">\n",
       "  <use xlink:href=\"#glyph1-12\" x=\"136\" y=\"80.699219\"/>\n",
       "  <use xlink:href=\"#glyph1-6\" x=\"142\" y=\"80.699219\"/>\n",
       "  <use xlink:href=\"#glyph1-5\" x=\"145\" y=\"80.699219\"/>\n",
       "  <use xlink:href=\"#glyph1-8\" x=\"151\" y=\"80.699219\"/>\n",
       "  <use xlink:href=\"#glyph1-9\" x=\"154\" y=\"80.699219\"/>\n",
       "  <use xlink:href=\"#glyph1-10\" x=\"157.75\" y=\"80.699219\"/>\n",
       "  <use xlink:href=\"#glyph1-11\" x=\"163.75\" y=\"80.699219\"/>\n",
       "</g>\n",
       "<path style=\"fill-rule:nonzero;fill:rgb(99.215686%,90.588235%,14.509804%);fill-opacity:1;stroke-width:4;stroke-linecap:butt;stroke-linejoin:miter;stroke:rgb(90.196078%,81.176471%,0.784314%);stroke-opacity:1;stroke-miterlimit:10;\" d=\"M 114 -79.5 C 114 -72.597656 108.402344 -67 101.5 -67 C 94.597656 -67 89 -72.597656 89 -79.5 C 89 -86.402344 94.597656 -92 101.5 -92 C 108.402344 -92 114 -86.402344 114 -79.5 \" transform=\"matrix(1,0,0,1,4,242)\"/>\n",
       "<g style=\"fill:rgb(0%,0%,0%);fill-opacity:1;\">\n",
       "  <use xlink:href=\"#glyph0-4\" x=\"96.5\" y=\"165.300781\"/>\n",
       "  <use xlink:href=\"#glyph0-2\" x=\"103.25\" y=\"165.300781\"/>\n",
       "  <use xlink:href=\"#glyph0-4\" x=\"107\" y=\"165.300781\"/>\n",
       "</g>\n",
       "<path style=\"fill:none;stroke-width:1;stroke-linecap:butt;stroke-linejoin:miter;stroke:rgb(74.901961%,74.901961%,74.901961%);stroke-opacity:1;stroke-miterlimit:10;\" d=\"M 114.023438 -79.5 C 128.441406 -79.5 153.429688 -79.5 171.546875 -79.5 \" transform=\"matrix(1,0,0,1,4,242)\"/>\n",
       "<path style=\"fill-rule:nonzero;fill:rgb(74.901961%,74.901961%,74.901961%);fill-opacity:1;stroke-width:1;stroke-linecap:butt;stroke-linejoin:miter;stroke:rgb(74.901961%,74.901961%,74.901961%);stroke-opacity:1;stroke-miterlimit:10;\" d=\"M 171.78125 -83 L 181.78125 -79.5 L 171.78125 -76 Z M 171.78125 -83 \" transform=\"matrix(1,0,0,1,4,242)\"/>\n",
       "<g style=\"fill:rgb(0%,0%,0%);fill-opacity:1;\">\n",
       "  <use xlink:href=\"#glyph1-12\" x=\"136\" y=\"159.699219\"/>\n",
       "  <use xlink:href=\"#glyph1-6\" x=\"142\" y=\"159.699219\"/>\n",
       "  <use xlink:href=\"#glyph1-12\" x=\"145\" y=\"159.699219\"/>\n",
       "  <use xlink:href=\"#glyph1-8\" x=\"151\" y=\"159.699219\"/>\n",
       "  <use xlink:href=\"#glyph1-9\" x=\"154\" y=\"159.699219\"/>\n",
       "  <use xlink:href=\"#glyph1-10\" x=\"157.75\" y=\"159.699219\"/>\n",
       "  <use xlink:href=\"#glyph1-11\" x=\"163.75\" y=\"159.699219\"/>\n",
       "</g>\n",
       "<path style=\"fill-rule:nonzero;fill:rgb(99.215686%,90.588235%,14.509804%);fill-opacity:1;stroke-width:4;stroke-linecap:butt;stroke-linejoin:miter;stroke:rgb(90.196078%,81.176471%,0.784314%);stroke-opacity:1;stroke-miterlimit:10;\" d=\"M 114 -36.5 C 114 -29.597656 108.402344 -24 101.5 -24 C 94.597656 -24 89 -29.597656 89 -36.5 C 89 -43.402344 94.597656 -49 101.5 -49 C 108.402344 -49 114 -43.402344 114 -36.5 \" transform=\"matrix(1,0,0,1,4,242)\"/>\n",
       "<g style=\"fill:rgb(0%,0%,0%);fill-opacity:1;\">\n",
       "  <use xlink:href=\"#glyph0-4\" x=\"96.5\" y=\"208.300781\"/>\n",
       "  <use xlink:href=\"#glyph0-2\" x=\"103.25\" y=\"208.300781\"/>\n",
       "  <use xlink:href=\"#glyph0-5\" x=\"107\" y=\"208.300781\"/>\n",
       "</g>\n",
       "<path style=\"fill:none;stroke-width:1;stroke-linecap:butt;stroke-linejoin:miter;stroke:rgb(74.901961%,74.901961%,74.901961%);stroke-opacity:1;stroke-miterlimit:10;\" d=\"M 113.296875 -41.601562 C 128.152344 -48.621094 155.164062 -61.382812 173.703125 -70.144531 \" transform=\"matrix(1,0,0,1,4,242)\"/>\n",
       "<path style=\"fill-rule:nonzero;fill:rgb(74.901961%,74.901961%,74.901961%);fill-opacity:1;stroke-width:1;stroke-linecap:butt;stroke-linejoin:miter;stroke:rgb(74.901961%,74.901961%,74.901961%);stroke-opacity:1;stroke-miterlimit:10;\" d=\"M 172.460938 -73.429688 L 183 -74.539062 L 175.453125 -67.101562 Z M 172.460938 -73.429688 \" transform=\"matrix(1,0,0,1,4,242)\"/>\n",
       "<g style=\"fill:rgb(0%,0%,0%);fill-opacity:1;\">\n",
       "  <use xlink:href=\"#glyph1-12\" x=\"136\" y=\"173.699219\"/>\n",
       "  <use xlink:href=\"#glyph1-6\" x=\"142\" y=\"173.699219\"/>\n",
       "  <use xlink:href=\"#glyph1-13\" x=\"145\" y=\"173.699219\"/>\n",
       "  <use xlink:href=\"#glyph1-8\" x=\"151\" y=\"173.699219\"/>\n",
       "  <use xlink:href=\"#glyph1-9\" x=\"154\" y=\"173.699219\"/>\n",
       "  <use xlink:href=\"#glyph1-10\" x=\"157.75\" y=\"173.699219\"/>\n",
       "  <use xlink:href=\"#glyph1-11\" x=\"163.75\" y=\"173.699219\"/>\n",
       "</g>\n",
       "<path style=\"fill:none;stroke-width:1;stroke-linecap:butt;stroke-linejoin:miter;stroke:rgb(74.901961%,74.901961%,74.901961%);stroke-opacity:1;stroke-miterlimit:10;\" d=\"M 7.269531 -233.546875 C 17.765625 -229.9375 55.730469 -216.890625 79.855469 -208.597656 \" transform=\"matrix(1,0,0,1,4,242)\"/>\n",
       "<path style=\"fill-rule:nonzero;fill:rgb(74.901961%,74.901961%,74.901961%);fill-opacity:1;stroke-width:1;stroke-linecap:butt;stroke-linejoin:miter;stroke:rgb(74.901961%,74.901961%,74.901961%);stroke-opacity:1;stroke-miterlimit:10;\" d=\"M 81.203125 -211.835938 L 89.523438 -205.273438 L 78.929688 -205.214844 Z M 81.203125 -211.835938 \" transform=\"matrix(1,0,0,1,4,242)\"/>\n",
       "<g style=\"fill:rgb(0%,0%,0%);fill-opacity:1;\">\n",
       "  <use xlink:href=\"#glyph1-14\" x=\"29\" y=\"12.699219\"/>\n",
       "  <use xlink:href=\"#glyph1-2\" x=\"35\" y=\"12.699219\"/>\n",
       "  <use xlink:href=\"#glyph1-15\" x=\"40.25\" y=\"12.699219\"/>\n",
       "  <use xlink:href=\"#glyph1-2\" x=\"44\" y=\"12.699219\"/>\n",
       "  <use xlink:href=\"#glyph1-6\" x=\"49.25\" y=\"12.699219\"/>\n",
       "  <use xlink:href=\"#glyph1-7\" x=\"52.25\" y=\"12.699219\"/>\n",
       "  <use xlink:href=\"#glyph1-8\" x=\"58.25\" y=\"12.699219\"/>\n",
       "  <use xlink:href=\"#glyph1-9\" x=\"61.25\" y=\"12.699219\"/>\n",
       "  <use xlink:href=\"#glyph1-12\" x=\"65\" y=\"12.699219\"/>\n",
       "  <use xlink:href=\"#glyph1-11\" x=\"71\" y=\"12.699219\"/>\n",
       "</g>\n",
       "<path style=\"fill:none;stroke-width:1;stroke-linecap:butt;stroke-linejoin:miter;stroke:rgb(74.901961%,74.901961%,74.901961%);stroke-opacity:1;stroke-miterlimit:10;\" d=\"M 7.269531 -201.5 C 17.613281 -201.5 54.625 -201.5 78.789062 -201.5 \" transform=\"matrix(1,0,0,1,4,242)\"/>\n",
       "<path style=\"fill-rule:nonzero;fill:rgb(74.901961%,74.901961%,74.901961%);fill-opacity:1;stroke-width:1;stroke-linecap:butt;stroke-linejoin:miter;stroke:rgb(74.901961%,74.901961%,74.901961%);stroke-opacity:1;stroke-miterlimit:10;\" d=\"M 78.84375 -205 L 88.84375 -201.5 L 78.84375 -198 Z M 78.84375 -205 \" transform=\"matrix(1,0,0,1,4,242)\"/>\n",
       "<g style=\"fill:rgb(0%,0%,0%);fill-opacity:1;\">\n",
       "  <use xlink:href=\"#glyph1-14\" x=\"29\" y=\"37.699219\"/>\n",
       "  <use xlink:href=\"#glyph1-2\" x=\"35\" y=\"37.699219\"/>\n",
       "  <use xlink:href=\"#glyph1-15\" x=\"40.25\" y=\"37.699219\"/>\n",
       "  <use xlink:href=\"#glyph1-2\" x=\"44\" y=\"37.699219\"/>\n",
       "  <use xlink:href=\"#glyph1-6\" x=\"49.25\" y=\"37.699219\"/>\n",
       "  <use xlink:href=\"#glyph1-5\" x=\"52.25\" y=\"37.699219\"/>\n",
       "  <use xlink:href=\"#glyph1-8\" x=\"58.25\" y=\"37.699219\"/>\n",
       "  <use xlink:href=\"#glyph1-9\" x=\"61.25\" y=\"37.699219\"/>\n",
       "  <use xlink:href=\"#glyph1-12\" x=\"65\" y=\"37.699219\"/>\n",
       "  <use xlink:href=\"#glyph1-11\" x=\"71\" y=\"37.699219\"/>\n",
       "</g>\n",
       "<path style=\"fill:none;stroke-width:1;stroke-linecap:butt;stroke-linejoin:miter;stroke:rgb(74.901961%,74.901961%,74.901961%);stroke-opacity:1;stroke-miterlimit:10;\" d=\"M 7.269531 -168.210938 C 17.613281 -167.132812 54.625 -163.277344 78.789062 -160.761719 \" transform=\"matrix(1,0,0,1,4,242)\"/>\n",
       "<path style=\"fill-rule:nonzero;fill:rgb(74.901961%,74.901961%,74.901961%);fill-opacity:1;stroke-width:1;stroke-linecap:butt;stroke-linejoin:miter;stroke:rgb(74.901961%,74.901961%,74.901961%);stroke-opacity:1;stroke-miterlimit:10;\" d=\"M 79.257812 -164.230469 L 88.84375 -159.714844 L 78.535156 -157.269531 Z M 79.257812 -164.230469 \" transform=\"matrix(1,0,0,1,4,242)\"/>\n",
       "<g style=\"fill:rgb(0%,0%,0%);fill-opacity:1;\">\n",
       "  <use xlink:href=\"#glyph1-14\" x=\"29\" y=\"73.699219\"/>\n",
       "  <use xlink:href=\"#glyph1-2\" x=\"35\" y=\"73.699219\"/>\n",
       "  <use xlink:href=\"#glyph1-15\" x=\"40.25\" y=\"73.699219\"/>\n",
       "  <use xlink:href=\"#glyph1-2\" x=\"44\" y=\"73.699219\"/>\n",
       "  <use xlink:href=\"#glyph1-6\" x=\"49.25\" y=\"73.699219\"/>\n",
       "  <use xlink:href=\"#glyph1-12\" x=\"52.25\" y=\"73.699219\"/>\n",
       "  <use xlink:href=\"#glyph1-8\" x=\"58.25\" y=\"73.699219\"/>\n",
       "  <use xlink:href=\"#glyph1-9\" x=\"61.25\" y=\"73.699219\"/>\n",
       "  <use xlink:href=\"#glyph1-12\" x=\"65\" y=\"73.699219\"/>\n",
       "  <use xlink:href=\"#glyph1-11\" x=\"71\" y=\"73.699219\"/>\n",
       "</g>\n",
       "<path style=\"fill:none;stroke-width:1;stroke-linecap:butt;stroke-linejoin:miter;stroke:rgb(74.901961%,74.901961%,74.901961%);stroke-opacity:1;stroke-miterlimit:10;\" d=\"M 7.269531 -136.164062 C 17.667969 -138.65625 55.007812 -147.601562 79.160156 -153.386719 \" transform=\"matrix(1,0,0,1,4,242)\"/>\n",
       "<path style=\"fill-rule:nonzero;fill:rgb(74.901961%,74.901961%,74.901961%);fill-opacity:1;stroke-width:1;stroke-linecap:butt;stroke-linejoin:miter;stroke:rgb(74.901961%,74.901961%,74.901961%);stroke-opacity:1;stroke-miterlimit:10;\" d=\"M 78.644531 -156.863281 L 89.183594 -155.789062 L 80.273438 -150.054688 Z M 78.644531 -156.863281 \" transform=\"matrix(1,0,0,1,4,242)\"/>\n",
       "<g style=\"fill:rgb(0%,0%,0%);fill-opacity:1;\">\n",
       "  <use xlink:href=\"#glyph1-14\" x=\"29\" y=\"91.699219\"/>\n",
       "  <use xlink:href=\"#glyph1-2\" x=\"35\" y=\"91.699219\"/>\n",
       "  <use xlink:href=\"#glyph1-15\" x=\"40.25\" y=\"91.699219\"/>\n",
       "  <use xlink:href=\"#glyph1-2\" x=\"44\" y=\"91.699219\"/>\n",
       "  <use xlink:href=\"#glyph1-6\" x=\"49.25\" y=\"91.699219\"/>\n",
       "  <use xlink:href=\"#glyph1-13\" x=\"52.25\" y=\"91.699219\"/>\n",
       "  <use xlink:href=\"#glyph1-8\" x=\"58.25\" y=\"91.699219\"/>\n",
       "  <use xlink:href=\"#glyph1-9\" x=\"61.25\" y=\"91.699219\"/>\n",
       "  <use xlink:href=\"#glyph1-12\" x=\"65\" y=\"91.699219\"/>\n",
       "  <use xlink:href=\"#glyph1-11\" x=\"71\" y=\"91.699219\"/>\n",
       "</g>\n",
       "<path style=\"fill:none;stroke-width:1;stroke-linecap:butt;stroke-linejoin:miter;stroke:rgb(74.901961%,74.901961%,74.901961%);stroke-opacity:1;stroke-miterlimit:10;\" d=\"M 7.269531 -101.835938 C 17.667969 -99.34375 55.007812 -90.398438 79.160156 -84.613281 \" transform=\"matrix(1,0,0,1,4,242)\"/>\n",
       "<path style=\"fill-rule:nonzero;fill:rgb(74.901961%,74.901961%,74.901961%);fill-opacity:1;stroke-width:1;stroke-linecap:butt;stroke-linejoin:miter;stroke:rgb(74.901961%,74.901961%,74.901961%);stroke-opacity:1;stroke-miterlimit:10;\" d=\"M 80.273438 -87.945312 L 89.183594 -82.210938 L 78.644531 -81.136719 Z M 80.273438 -87.945312 \" transform=\"matrix(1,0,0,1,4,242)\"/>\n",
       "<g style=\"fill:rgb(0%,0%,0%);fill-opacity:1;\">\n",
       "  <use xlink:href=\"#glyph1-14\" x=\"29\" y=\"141.699219\"/>\n",
       "  <use xlink:href=\"#glyph1-2\" x=\"35\" y=\"141.699219\"/>\n",
       "  <use xlink:href=\"#glyph1-15\" x=\"40.25\" y=\"141.699219\"/>\n",
       "  <use xlink:href=\"#glyph1-2\" x=\"44\" y=\"141.699219\"/>\n",
       "  <use xlink:href=\"#glyph1-6\" x=\"49.25\" y=\"141.699219\"/>\n",
       "  <use xlink:href=\"#glyph1-10\" x=\"52.25\" y=\"141.699219\"/>\n",
       "  <use xlink:href=\"#glyph1-8\" x=\"58.25\" y=\"141.699219\"/>\n",
       "  <use xlink:href=\"#glyph1-9\" x=\"61.25\" y=\"141.699219\"/>\n",
       "  <use xlink:href=\"#glyph1-12\" x=\"65\" y=\"141.699219\"/>\n",
       "  <use xlink:href=\"#glyph1-11\" x=\"71\" y=\"141.699219\"/>\n",
       "</g>\n",
       "<path style=\"fill:none;stroke-width:1;stroke-linecap:butt;stroke-linejoin:miter;stroke:rgb(74.901961%,74.901961%,74.901961%);stroke-opacity:1;stroke-miterlimit:10;\" d=\"M 7.269531 -69.789062 C 17.613281 -70.867188 54.625 -74.722656 78.789062 -77.238281 \" transform=\"matrix(1,0,0,1,4,242)\"/>\n",
       "<path style=\"fill-rule:nonzero;fill:rgb(74.901961%,74.901961%,74.901961%);fill-opacity:1;stroke-width:1;stroke-linecap:butt;stroke-linejoin:miter;stroke:rgb(74.901961%,74.901961%,74.901961%);stroke-opacity:1;stroke-miterlimit:10;\" d=\"M 78.535156 -80.730469 L 88.84375 -78.285156 L 79.257812 -73.769531 Z M 78.535156 -80.730469 \" transform=\"matrix(1,0,0,1,4,242)\"/>\n",
       "<g style=\"fill:rgb(0%,0%,0%);fill-opacity:1;\">\n",
       "  <use xlink:href=\"#glyph1-14\" x=\"29\" y=\"168.699219\"/>\n",
       "  <use xlink:href=\"#glyph1-2\" x=\"35\" y=\"168.699219\"/>\n",
       "  <use xlink:href=\"#glyph1-15\" x=\"40.25\" y=\"168.699219\"/>\n",
       "  <use xlink:href=\"#glyph1-2\" x=\"44\" y=\"168.699219\"/>\n",
       "  <use xlink:href=\"#glyph1-6\" x=\"49.25\" y=\"168.699219\"/>\n",
       "  <use xlink:href=\"#glyph1-16\" x=\"52.25\" y=\"168.699219\"/>\n",
       "  <use xlink:href=\"#glyph1-8\" x=\"58.25\" y=\"168.699219\"/>\n",
       "  <use xlink:href=\"#glyph1-9\" x=\"61.25\" y=\"168.699219\"/>\n",
       "  <use xlink:href=\"#glyph1-12\" x=\"65\" y=\"168.699219\"/>\n",
       "  <use xlink:href=\"#glyph1-11\" x=\"71\" y=\"168.699219\"/>\n",
       "</g>\n",
       "<path style=\"fill:none;stroke-width:1;stroke-linecap:butt;stroke-linejoin:miter;stroke:rgb(74.901961%,74.901961%,74.901961%);stroke-opacity:1;stroke-miterlimit:10;\" d=\"M 7.269531 -36.5 C 17.613281 -36.5 54.625 -36.5 78.789062 -36.5 \" transform=\"matrix(1,0,0,1,4,242)\"/>\n",
       "<path style=\"fill-rule:nonzero;fill:rgb(74.901961%,74.901961%,74.901961%);fill-opacity:1;stroke-width:1;stroke-linecap:butt;stroke-linejoin:miter;stroke:rgb(74.901961%,74.901961%,74.901961%);stroke-opacity:1;stroke-miterlimit:10;\" d=\"M 78.84375 -40 L 88.84375 -36.5 L 78.84375 -33 Z M 78.84375 -40 \" transform=\"matrix(1,0,0,1,4,242)\"/>\n",
       "<g style=\"fill:rgb(0%,0%,0%);fill-opacity:1;\">\n",
       "  <use xlink:href=\"#glyph1-14\" x=\"29\" y=\"202.699219\"/>\n",
       "  <use xlink:href=\"#glyph1-2\" x=\"35\" y=\"202.699219\"/>\n",
       "  <use xlink:href=\"#glyph1-15\" x=\"40.25\" y=\"202.699219\"/>\n",
       "  <use xlink:href=\"#glyph1-2\" x=\"44\" y=\"202.699219\"/>\n",
       "  <use xlink:href=\"#glyph1-6\" x=\"49.25\" y=\"202.699219\"/>\n",
       "  <use xlink:href=\"#glyph1-17\" x=\"52.25\" y=\"202.699219\"/>\n",
       "  <use xlink:href=\"#glyph1-8\" x=\"58.25\" y=\"202.699219\"/>\n",
       "  <use xlink:href=\"#glyph1-9\" x=\"61.25\" y=\"202.699219\"/>\n",
       "  <use xlink:href=\"#glyph1-12\" x=\"65\" y=\"202.699219\"/>\n",
       "  <use xlink:href=\"#glyph1-11\" x=\"71\" y=\"202.699219\"/>\n",
       "</g>\n",
       "<path style=\"fill:none;stroke-width:1;stroke-linecap:butt;stroke-linejoin:miter;stroke:rgb(74.901961%,74.901961%,74.901961%);stroke-opacity:1;stroke-miterlimit:10;\" d=\"M 7.269531 -4.453125 C 17.765625 -8.0625 55.730469 -21.109375 79.855469 -29.402344 \" transform=\"matrix(1,0,0,1,4,242)\"/>\n",
       "<path style=\"fill-rule:nonzero;fill:rgb(74.901961%,74.901961%,74.901961%);fill-opacity:1;stroke-width:1;stroke-linecap:butt;stroke-linejoin:miter;stroke:rgb(74.901961%,74.901961%,74.901961%);stroke-opacity:1;stroke-miterlimit:10;\" d=\"M 78.929688 -32.785156 L 89.523438 -32.726562 L 81.203125 -26.164062 Z M 78.929688 -32.785156 \" transform=\"matrix(1,0,0,1,4,242)\"/>\n",
       "<g style=\"fill:rgb(0%,0%,0%);fill-opacity:1;\">\n",
       "  <use xlink:href=\"#glyph1-14\" x=\"29\" y=\"216.699219\"/>\n",
       "  <use xlink:href=\"#glyph1-2\" x=\"35\" y=\"216.699219\"/>\n",
       "  <use xlink:href=\"#glyph1-15\" x=\"40.25\" y=\"216.699219\"/>\n",
       "  <use xlink:href=\"#glyph1-2\" x=\"44\" y=\"216.699219\"/>\n",
       "  <use xlink:href=\"#glyph1-6\" x=\"49.25\" y=\"216.699219\"/>\n",
       "  <use xlink:href=\"#glyph1-18\" x=\"52.25\" y=\"216.699219\"/>\n",
       "  <use xlink:href=\"#glyph1-8\" x=\"58.25\" y=\"216.699219\"/>\n",
       "  <use xlink:href=\"#glyph1-9\" x=\"61.25\" y=\"216.699219\"/>\n",
       "  <use xlink:href=\"#glyph1-12\" x=\"65\" y=\"216.699219\"/>\n",
       "  <use xlink:href=\"#glyph1-11\" x=\"71\" y=\"216.699219\"/>\n",
       "</g>\n",
       "</g>\n",
       "</svg>\n"
      ],
      "text/plain": [
       "<graphviz.graphs.Digraph at 0x7f7eed3fbfd0>"
      ]
     },
     "execution_count": 54,
     "metadata": {},
     "output_type": "execute_result"
    }
   ],
   "source": [
    "qmodel.draw()"
   ]
  },
  {
   "cell_type": "code",
   "execution_count": 56,
   "metadata": {},
   "outputs": [
    {
     "data": {
      "text/plain": [
       "{TTNIndex: 2.0: tensor([[ 0.3688, -0.1398, -0.1765,  0.5350],\n",
       "         [-0.1143,  0.1140,  0.4149, -0.2851],\n",
       "         [ 0.3688, -0.1398, -0.1765,  0.5350],\n",
       "         [ 0.1741,  0.1238,  0.7998, -0.1366],\n",
       "         [ 0.3688, -0.1398, -0.1765,  0.5350],\n",
       "         [ 0.1741,  0.1238,  0.7998, -0.1366],\n",
       "         [ 0.2850, -0.1687, -0.3921,  0.5460],\n",
       "         [-0.1143,  0.1140,  0.4149, -0.2851],\n",
       "         [ 0.3688, -0.1398, -0.1765,  0.5350],\n",
       "         [ 0.3604,  0.0610,  0.7162,  0.0920],\n",
       "         [-0.1143,  0.1140,  0.4149, -0.2851],\n",
       "         [ 0.2850, -0.1687, -0.3921,  0.5460],\n",
       "         [ 0.0342, -0.0989, -0.3779,  0.2372],\n",
       "         [ 0.1741,  0.1238,  0.7998, -0.1366],\n",
       "         [ 0.3688, -0.1398, -0.1765,  0.5350],\n",
       "         [-0.1143,  0.1140,  0.4149, -0.2851]], device='cuda:0')}"
      ]
     },
     "execution_count": 56,
     "metadata": {},
     "output_type": "execute_result"
    }
   ],
   "source": [
    "branch = '2.0'\n",
    "qmodel._propagate_data_through_branch_({TIndex(f'data.{i}', [f'data.{i}']): data[:, i] for i in range(2)}, qmodel.get_branch(branch), keep=True)"
   ]
  },
  {
   "cell_type": "code",
   "execution_count": 68,
   "metadata": {},
   "outputs": [
    {
     "data": {
      "text/plain": [
       "tensor([[ 0.3688, -0.1398, -0.1765,  0.5350],\n",
       "        [-0.1143,  0.1140,  0.4149, -0.2851],\n",
       "        [ 0.3372,  0.0020,  0.4465,  0.2158],\n",
       "        [ 0.3604,  0.0610,  0.7162,  0.0920],\n",
       "        [ 0.3604,  0.0610,  0.7162,  0.0920],\n",
       "        [ 0.3602,  0.0408,  0.6299,  0.1360],\n",
       "        [ 0.3586,  0.0613,  0.7168,  0.0911],\n",
       "        [ 0.1800, -0.0182,  0.1685,  0.1768]], device='cuda:0')"
      ]
     },
     "execution_count": 68,
     "metadata": {},
     "output_type": "execute_result"
    }
   ],
   "source": [
    "contract_up(qmodel[branch][branch], data[:2], quantizer=Q)"
   ]
  },
  {
   "cell_type": "code",
   "execution_count": 80,
   "metadata": {},
   "outputs": [],
   "source": [
    "quantizer = Q\n",
    "tensor = qmodel[branch][branch]\n",
    "data_tensors = data[:1,:2].transpose(0, 1)\n",
    "tensor = quantizer(tensor)\n",
    "left   = quantizer(torch.matmul(quantizer(data_tensors[0]), tensor.contiguous().view(tensor.shape[0], -1)))\n",
    "right  = quantizer(torch.bmm(quantizer(data_tensors[1]).unsqueeze(1), left.view(-1, tensor.shape[1], tensor.shape[2])))"
   ]
  },
  {
   "cell_type": "code",
   "execution_count": 73,
   "metadata": {},
   "outputs": [
    {
     "data": {
      "text/plain": [
       "tensor([[-0.1143,  0.1140,  0.4149, -0.2851,  0.3688, -0.1398, -0.1765,  0.5350],\n",
       "        [-0.1143,  0.1140,  0.4149, -0.2851,  0.3688, -0.1398, -0.1765,  0.5350]],\n",
       "       device='cuda:0')"
      ]
     },
     "execution_count": 73,
     "metadata": {},
     "output_type": "execute_result"
    }
   ],
   "source": [
    "tensor\n",
    "left"
   ]
  },
  {
   "cell_type": "code",
   "execution_count": 83,
   "metadata": {},
   "outputs": [
    {
     "name": "stdout",
     "output_type": "stream",
     "text": [
      "tensor: tensor([[[ 0.3604,  0.0342],\n",
      "         [-0.1143,  0.3688]],\n",
      "\n",
      "        [[ 0.0610, -0.0989],\n",
      "         [ 0.1140, -0.1398]],\n",
      "\n",
      "        [[ 0.7162, -0.3779],\n",
      "         [ 0.4149, -0.1765]],\n",
      "\n",
      "        [[ 0.0920,  0.2372],\n",
      "         [-0.2851,  0.5350]]], device='cuda:0')\n",
      "left: tensor([[-0.1143,  0.1140,  0.4149, -0.2851,  0.3688, -0.1398, -0.1765,  0.5350]],\n",
      "       device='cuda:0')\n",
      "right: tensor([[[ 0.3688, -0.1398, -0.1765,  0.5350]]], device='cuda:0')\n",
      "data0: tensor([[0., 1.]], device='cuda:0')\n",
      "data1: tensor([[0., 1.]], device='cuda:0')\n"
     ]
    }
   ],
   "source": [
    "print('tensor:', tensor.permute(2, 0, 1))\n",
    "print('left:', left)\n",
    "print('right:', right)\n",
    "print('data0:', quantizer(data_tensors[0]))\n",
    "print('data1:', quantizer(data_tensors[1]))"
   ]
  },
  {
   "cell_type": "code",
   "execution_count": 66,
   "metadata": {},
   "outputs": [
    {
     "name": "stdout",
     "output_type": "stream",
     "text": [
      "0.5350341796875\n"
     ]
    }
   ],
   "source": [
    "print(qmodel['2.0']['2.0'][-1, -1, -1].item())"
   ]
  },
  {
   "cell_type": "markdown",
   "metadata": {},
   "source": [
    "# Trash"
   ]
  },
  {
   "cell_type": "code",
   "execution_count": 23,
   "metadata": {},
   "outputs": [
    {
     "data": {
      "text/plain": [
       "tensor([[[-3.7677e-04],\n",
       "         [-1.5435e-02],\n",
       "         [-1.8145e-04],\n",
       "         [-6.1096e-04]],\n",
       "\n",
       "        [[-7.9009e-04],\n",
       "         [ 1.0263e+00],\n",
       "         [ 5.1388e-05],\n",
       "         [ 1.5473e-04]],\n",
       "\n",
       "        [[ 7.0854e-04],\n",
       "         [-3.7704e-03],\n",
       "         [-9.0056e-05],\n",
       "         [-2.6149e-04]],\n",
       "\n",
       "        [[ 1.3896e-06],\n",
       "         [ 3.0381e-06],\n",
       "         [-4.7425e-08],\n",
       "         [ 3.6490e-08]]], device='cuda:0', dtype=torch.float64)"
      ]
     },
     "execution_count": 23,
     "metadata": {},
     "output_type": "execute_result"
    }
   ],
   "source": [
    "torch.load('data/grid_search/model_8_4_16_False_torch.float64.pth')['_TTN__tensors.0']"
   ]
  },
  {
   "cell_type": "code",
   "execution_count": 24,
   "metadata": {},
   "outputs": [
    {
     "data": {
      "text/html": [
       "<div>\n",
       "<style scoped>\n",
       "    .dataframe tbody tr th:only-of-type {\n",
       "        vertical-align: middle;\n",
       "    }\n",
       "\n",
       "    .dataframe tbody tr th {\n",
       "        vertical-align: top;\n",
       "    }\n",
       "\n",
       "    .dataframe thead th {\n",
       "        text-align: right;\n",
       "    }\n",
       "</style>\n",
       "<table border=\"1\" class=\"dataframe\">\n",
       "  <thead>\n",
       "    <tr style=\"text-align: right;\">\n",
       "      <th></th>\n",
       "      <th>pclass</th>\n",
       "      <th>survived</th>\n",
       "      <th>sex</th>\n",
       "      <th>age</th>\n",
       "      <th>sibsp</th>\n",
       "      <th>parch</th>\n",
       "      <th>ticket</th>\n",
       "      <th>fare</th>\n",
       "      <th>embarked</th>\n",
       "    </tr>\n",
       "  </thead>\n",
       "  <tbody>\n",
       "    <tr>\n",
       "      <th>0</th>\n",
       "      <td>1.0</td>\n",
       "      <td>1</td>\n",
       "      <td>female</td>\n",
       "      <td>29.0000</td>\n",
       "      <td>0.0</td>\n",
       "      <td>0.0</td>\n",
       "      <td>24160</td>\n",
       "      <td>211.3375</td>\n",
       "      <td>S</td>\n",
       "    </tr>\n",
       "    <tr>\n",
       "      <th>1</th>\n",
       "      <td>1.0</td>\n",
       "      <td>1</td>\n",
       "      <td>male</td>\n",
       "      <td>0.9167</td>\n",
       "      <td>1.0</td>\n",
       "      <td>2.0</td>\n",
       "      <td>113781</td>\n",
       "      <td>151.5500</td>\n",
       "      <td>S</td>\n",
       "    </tr>\n",
       "    <tr>\n",
       "      <th>2</th>\n",
       "      <td>1.0</td>\n",
       "      <td>0</td>\n",
       "      <td>female</td>\n",
       "      <td>2.0000</td>\n",
       "      <td>1.0</td>\n",
       "      <td>2.0</td>\n",
       "      <td>113781</td>\n",
       "      <td>151.5500</td>\n",
       "      <td>S</td>\n",
       "    </tr>\n",
       "    <tr>\n",
       "      <th>3</th>\n",
       "      <td>1.0</td>\n",
       "      <td>0</td>\n",
       "      <td>male</td>\n",
       "      <td>30.0000</td>\n",
       "      <td>1.0</td>\n",
       "      <td>2.0</td>\n",
       "      <td>113781</td>\n",
       "      <td>151.5500</td>\n",
       "      <td>S</td>\n",
       "    </tr>\n",
       "    <tr>\n",
       "      <th>4</th>\n",
       "      <td>1.0</td>\n",
       "      <td>0</td>\n",
       "      <td>female</td>\n",
       "      <td>25.0000</td>\n",
       "      <td>1.0</td>\n",
       "      <td>2.0</td>\n",
       "      <td>113781</td>\n",
       "      <td>151.5500</td>\n",
       "      <td>S</td>\n",
       "    </tr>\n",
       "    <tr>\n",
       "      <th>...</th>\n",
       "      <td>...</td>\n",
       "      <td>...</td>\n",
       "      <td>...</td>\n",
       "      <td>...</td>\n",
       "      <td>...</td>\n",
       "      <td>...</td>\n",
       "      <td>...</td>\n",
       "      <td>...</td>\n",
       "      <td>...</td>\n",
       "    </tr>\n",
       "    <tr>\n",
       "      <th>1301</th>\n",
       "      <td>3.0</td>\n",
       "      <td>0</td>\n",
       "      <td>male</td>\n",
       "      <td>45.5000</td>\n",
       "      <td>0.0</td>\n",
       "      <td>0.0</td>\n",
       "      <td>2628</td>\n",
       "      <td>7.2250</td>\n",
       "      <td>C</td>\n",
       "    </tr>\n",
       "    <tr>\n",
       "      <th>1304</th>\n",
       "      <td>3.0</td>\n",
       "      <td>0</td>\n",
       "      <td>female</td>\n",
       "      <td>14.5000</td>\n",
       "      <td>1.0</td>\n",
       "      <td>0.0</td>\n",
       "      <td>2665</td>\n",
       "      <td>14.4542</td>\n",
       "      <td>C</td>\n",
       "    </tr>\n",
       "    <tr>\n",
       "      <th>1306</th>\n",
       "      <td>3.0</td>\n",
       "      <td>0</td>\n",
       "      <td>male</td>\n",
       "      <td>26.5000</td>\n",
       "      <td>0.0</td>\n",
       "      <td>0.0</td>\n",
       "      <td>2656</td>\n",
       "      <td>7.2250</td>\n",
       "      <td>C</td>\n",
       "    </tr>\n",
       "    <tr>\n",
       "      <th>1307</th>\n",
       "      <td>3.0</td>\n",
       "      <td>0</td>\n",
       "      <td>male</td>\n",
       "      <td>27.0000</td>\n",
       "      <td>0.0</td>\n",
       "      <td>0.0</td>\n",
       "      <td>2670</td>\n",
       "      <td>7.2250</td>\n",
       "      <td>C</td>\n",
       "    </tr>\n",
       "    <tr>\n",
       "      <th>1308</th>\n",
       "      <td>3.0</td>\n",
       "      <td>0</td>\n",
       "      <td>male</td>\n",
       "      <td>29.0000</td>\n",
       "      <td>0.0</td>\n",
       "      <td>0.0</td>\n",
       "      <td>315082</td>\n",
       "      <td>7.8750</td>\n",
       "      <td>S</td>\n",
       "    </tr>\n",
       "  </tbody>\n",
       "</table>\n",
       "<p>1043 rows × 9 columns</p>\n",
       "</div>"
      ],
      "text/plain": [
       "      pclass survived     sex      age  sibsp  parch  ticket      fare  \\\n",
       "0        1.0        1  female  29.0000    0.0    0.0   24160  211.3375   \n",
       "1        1.0        1    male   0.9167    1.0    2.0  113781  151.5500   \n",
       "2        1.0        0  female   2.0000    1.0    2.0  113781  151.5500   \n",
       "3        1.0        0    male  30.0000    1.0    2.0  113781  151.5500   \n",
       "4        1.0        0  female  25.0000    1.0    2.0  113781  151.5500   \n",
       "...      ...      ...     ...      ...    ...    ...     ...       ...   \n",
       "1301     3.0        0    male  45.5000    0.0    0.0    2628    7.2250   \n",
       "1304     3.0        0  female  14.5000    1.0    0.0    2665   14.4542   \n",
       "1306     3.0        0    male  26.5000    0.0    0.0    2656    7.2250   \n",
       "1307     3.0        0    male  27.0000    0.0    0.0    2670    7.2250   \n",
       "1308     3.0        0    male  29.0000    0.0    0.0  315082    7.8750   \n",
       "\n",
       "     embarked  \n",
       "0           S  \n",
       "1           S  \n",
       "2           S  \n",
       "3           S  \n",
       "4           S  \n",
       "...       ...  \n",
       "1301        C  \n",
       "1304        C  \n",
       "1306        C  \n",
       "1307        C  \n",
       "1308        S  \n",
       "\n",
       "[1043 rows x 9 columns]"
      ]
     },
     "execution_count": 24,
     "metadata": {},
     "output_type": "execute_result"
    }
   ],
   "source": [
    "data_arff = arff.load(open('../data/titanic/titanic.arff', 'r'))\n",
    "dataframe = pd.DataFrame(data_arff['data'])\n",
    "dataframe.columns = [x[0] for x in data_arff['attributes']]\n",
    "dataframe.drop(columns=['name', 'cabin', 'body', 'boat', 'home.dest'], inplace=True)\n",
    "dataframe.dropna(inplace=True)\n",
    "dataframe.to_csv('../data/titanic/titanic.csv', index=False)\n",
    "dataframe"
   ]
  },
  {
   "cell_type": "code",
   "execution_count": 9,
   "metadata": {},
   "outputs": [
    {
     "data": {
      "text/plain": [
       "tensor([[0.0904, 0.0914, 0.0542,  ..., 0.0864, 0.1605, 0.0784],\n",
       "        [0.0696, 0.0101, 0.2556,  ..., 0.0958, 0.1628, 0.0855],\n",
       "        [0.1086, 0.0571, 0.0760,  ..., 0.0915, 0.1628, 0.0884],\n",
       "        ...,\n",
       "        [0.0738, 0.0417, 0.0953,  ..., 0.0465, 0.1630, 0.0200],\n",
       "        [0.1266, 0.0523, 0.1389,  ..., 0.0470, 0.1904, 0.0359],\n",
       "        [0.1017, 0.1164, 0.0242,  ..., 0.1215, 0.1623, 0.0765]])"
      ]
     },
     "execution_count": 9,
     "metadata": {},
     "output_type": "execute_result"
    }
   ],
   "source": [
    "path = '../data'\n",
    "train = torch.tensor(np.load(path + '/Higgs/higgs_train.npy'))\n",
    "permutation = torch.randperm(train.shape[1])\n",
    "train[:, permutation]"
   ]
  },
  {
   "cell_type": "code",
   "execution_count": 21,
   "metadata": {},
   "outputs": [
    {
     "data": {
      "text/plain": [
       "[2, 3, 4, 6, 5, 7, 0, 1]"
      ]
     },
     "execution_count": 21,
     "metadata": {},
     "output_type": "execute_result"
    }
   ],
   "source": [
    "torch.randperm(train.shape[1]).tolist()"
   ]
  },
  {
   "cell_type": "code",
   "execution_count": 17,
   "metadata": {},
   "outputs": [
    {
     "data": {
      "text/plain": [
       "[array([0, 1, 3, 2]),\n",
       " array([1, 2, 0, 3]),\n",
       " array([2, 3, 0, 1]),\n",
       " array([1, 2, 3, 0]),\n",
       " array([0, 1, 3, 2])]"
      ]
     },
     "execution_count": 17,
     "metadata": {},
     "output_type": "execute_result"
    }
   ],
   "source": [
    "[np.random.permutation(4) for _ in range(5)]"
   ]
  },
  {
   "cell_type": "code",
   "execution_count": null,
   "metadata": {},
   "outputs": [],
   "source": []
  }
 ],
 "metadata": {
  "kernelspec": {
   "display_name": ".ttn_venv",
   "language": "python",
   "name": "python3"
  },
  "language_info": {
   "codemirror_mode": {
    "name": "ipython",
    "version": 3
   },
   "file_extension": ".py",
   "mimetype": "text/x-python",
   "name": "python",
   "nbconvert_exporter": "python",
   "pygments_lexer": "ipython3",
   "version": "3.10.12"
  }
 },
 "nbformat": 4,
 "nbformat_minor": 2
}
