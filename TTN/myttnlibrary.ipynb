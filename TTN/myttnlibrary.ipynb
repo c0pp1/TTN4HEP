{
 "cells": [
  {
   "cell_type": "markdown",
   "metadata": {},
   "source": [
    "# My TTN library\n",
    "In this notebook I try to develop my personal library to handle TTNs, their definition, properties, automatic contraction and training."
   ]
  },
  {
   "cell_type": "code",
   "execution_count": 2,
   "metadata": {},
   "outputs": [],
   "source": [
    "%load_ext autoreload"
   ]
  },
  {
   "cell_type": "code",
   "execution_count": 3,
   "metadata": {},
   "outputs": [],
   "source": [
    "%autoreload 2\n",
    "import torch\n",
    "import numpy as np\n",
    "import pandas as pd\n",
    "import arff\n",
    "import matplotlib.pyplot as plt\n",
    "from sklearn.metrics import roc_auc_score, roc_curve\n",
    "from typing import Sequence, ValuesView\n",
    "from tqdm import tqdm, trange\n",
    "from string import ascii_letters\n",
    "from timeit import timeit\n",
    "from datetime import datetime\n",
    "\n",
    "from ttn_torch import TIndex, TTNIndex, TTN, TTNModel, check_correct_init\n",
    "from algebra import contract_up\n",
    "from utils import *\n",
    "from torchinfo import summary\n",
    "\n",
    "FONTSIZE = 14"
   ]
  },
  {
   "cell_type": "markdown",
   "metadata": {},
   "source": [
    "## TTN with automatic contractions\n",
    "Try to develop methods to do automatic contractions, also based on the network structure (separability of states)\n",
    "### Network description"
   ]
  },
  {
   "cell_type": "code",
   "execution_count": 4,
   "metadata": {},
   "outputs": [
    {
     "data": {
      "image/png": "[encoded data removed]",
      "text/plain": [
       "<graphviz.graphs.Digraph at 0x7f3309f144f0>"
      ]
     },
     "execution_count": 4,
     "metadata": {},
     "output_type": "execute_result"
    }
   ],
   "source": [
    "DEVICE = 'cuda'\n",
    "DTYPE = torch.double\n",
    "N_FEAT = 4\n",
    "ttn = TTN(N_FEAT, bond_dim=8, n_labels=2, device=DEVICE, dtype=DTYPE)\n",
    "ttn.draw()"
   ]
  },
  {
   "cell_type": "markdown",
   "metadata": {},
   "source": [
    "### Basic operations\n",
    "General purpose contraction, not optimized"
   ]
  },
  {
   "cell_type": "code",
   "execution_count": 9,
   "metadata": {},
   "outputs": [],
   "source": [
    "def contract(\n",
    "        tensors : Sequence[torch.Tensor] | ValuesView[torch.Tensor], \n",
    "        tindices: Sequence[TTNIndex | TIndex], \n",
    "        keep    : Sequence[str] | None=None, \n",
    "        outname : str | None=None\n",
    "):\n",
    "    \"\"\"\n",
    "    Contract two tensors along the matching TIndices in indices, except for the indices in keep.\n",
    "    \"\"\"\n",
    "    if len(tindices) != len(tensors):\n",
    "        raise ValueError(f\"Expected tensors and tindices to have same lenght, got {len(tensors)} and {len(tindices)}\")\n",
    "\n",
    "    if keep is None:\n",
    "        keep = []\n",
    "    elif isinstance(keep, str):\n",
    "        keep = [keep]\n",
    "    elif not isinstance(keep, Sequence):\n",
    "        raise TypeError(f\"Expected keep to be None, str or Sequence, got {type(keep)}\")\n",
    "\n",
    "    keep = list(keep)\n",
    "    unique_inds, counts = np.unique(np.concatenate([tindex.indices for tindex in tindices]), return_counts=True)\n",
    "    if np.any(np.isin(keep, unique_inds, invert=True)):\n",
    "        raise ValueError(f\"keep contains indices that are not in tindices: {np.asarray(keep)[np.where(np.isin(keep, unique_inds, invert=True))[0]]}\")\n",
    "    if len(unique_inds) > len(ascii_letters):\n",
    "        raise ValueError(f\"Too many indices to contract: {len(unique_inds)} > {len(ascii_letters)}\")\n",
    "\n",
    "    # find output indices (all indices that are not contracted or kept)\n",
    "    output_inds = unique_inds[np.isin(unique_inds, keep) | (counts == 1)]\n",
    "    \n",
    "    # map indices to letters\n",
    "    idx_to_char_map = {tind: ascii_letters[i] for i, tind in enumerate(unique_inds)}\n",
    "    \n",
    "    # contraction strings\n",
    "    ## tensor indices\n",
    "    tindices_str = [\"...\"+\"\".join([idx_to_char_map[i] for i in tindex.indices]) for tindex in tindices] # the ellipsis is for batch dimension\n",
    "    ## output indices\n",
    "    outinds_str = \"...\"+\"\".join([idx_to_char_map[i] for i in output_inds])\n",
    "\n",
    "    #print(tindices_str,'\\n' ,outinds_str)\n",
    "    # contract\n",
    "    C = torch.einsum(f\"{','.join(tindices_str)}->{outinds_str}\", *tensors)\n",
    "\n",
    "    return C, TIndex(f\"{min(tindices)}\" if outname is None else outname, output_inds)\n",
    "\n",
    "    "
   ]
  },
  {
   "cell_type": "markdown",
   "metadata": {},
   "source": [
    "Let's exploit the TTN topology to optimize contractions, i.e. make them go from bottom to top"
   ]
  },
  {
   "cell_type": "code",
   "execution_count": 10,
   "metadata": {},
   "outputs": [],
   "source": [
    "def contract_up_einsum(tensor: torch.Tensor, data_tensors: Sequence[torch.Tensor]):\n",
    "    # this function is the fundamental block for TTN contractions:\n",
    "    # it takes a ttn tensor and two data vectors and contracts them to a new vector\n",
    "\n",
    "    return torch.einsum('bi,ijk,bj->bk', data_tensors[0], tensor, data_tensors[1])"
   ]
  },
  {
   "cell_type": "markdown",
   "metadata": {},
   "source": [
    "### Tests"
   ]
  },
  {
   "cell_type": "code",
   "execution_count": 11,
   "metadata": {},
   "outputs": [
    {
     "data": {
      "text/plain": [
       "(0.42125636897981167, 4.402739965997171, 2.430211186001543)"
      ]
     },
     "execution_count": 11,
     "metadata": {},
     "output_type": "execute_result"
    }
   ],
   "source": [
    "data = torch.rand(N_FEAT, 10, 2, dtype=DTYPE, device=DEVICE).unbind(0)\n",
    "data_indices = [TIndex(f\"{ttn.n_layers}.{i}\", [f\"data.{i}\"]) for i in range(N_FEAT)]\n",
    "\n",
    "time1 = timeit(lambda: contract_up(ttn.tensors[-1], data[:2]), number=10000)\n",
    "time2 = timeit(lambda: contract((ttn.tensors[-1],) + data[:2], [ttn.indices[-1]]+data_indices[:2]), number=10000)\n",
    "time3 = timeit(lambda: contract_up_einsum(ttn.tensors[-1], data[:2]), number=10000)\n",
    "time1, time2, time3"
   ]
  },
  {
   "cell_type": "code",
   "execution_count": 12,
   "metadata": {},
   "outputs": [
    {
     "name": "stdout",
     "output_type": "stream",
     "text": [
      "0.01044276900938712 0.006214366003405303 0.014277718000812456\n"
     ]
    }
   ],
   "source": [
    "data = torch.rand(N_FEAT, 64, 2, dtype=DTYPE, device=DEVICE).unbind(0)\n",
    "data_indices = [TIndex(f\"data.{i}\", [f\"data.{i}\"]) for i in range(N_FEAT)]\n",
    "i=1\n",
    "time1 = timeit(lambda: ttn._propagate_data_through_branch_(dict(zip(data_indices, data)), ttn.get_branch('1.0')), number=100)\n",
    "time2 = timeit(lambda: ttn._propagate_data_through_branch_(dict(zip(data_indices, data)), ttn.get_branch('1.0'), keep=True), number=100)\n",
    "time3 = timeit(lambda: contract(list(ttn.get_branch(f'1.{i}').values()) + list(data[16*i:16*(i+1)]), list(ttn.get_branch(f'1.{i}').keys())+data_indices[16*i:16*(i+1)]), number=100)\n",
    "print(time1, time2, time3)"
   ]
  },
  {
   "cell_type": "markdown",
   "metadata": {},
   "source": [
    "TEST the contraction scheme by a synthetic dataset and the TTN initialized to identities"
   ]
  },
  {
   "cell_type": "code",
   "execution_count": 13,
   "metadata": {},
   "outputs": [
    {
     "name": "stderr",
     "output_type": "stream",
     "text": [
      "ttn test: 100%|██████████| 3/3 [00:00<00:00, 29.90it/s, contracted 0.0] \n"
     ]
    },
    {
     "data": {
      "text/plain": [
       "tensor([1., 0.], dtype=torch.float64)"
      ]
     },
     "execution_count": 13,
     "metadata": {},
     "output_type": "execute_result"
    }
   ],
   "source": [
    "def generate_i_state(n_sites, i, dtype=torch.double):\n",
    "    \"\"\"\n",
    "    Generates a separable state wich would be represented \n",
    "    as a vector with 1 at i-th position in the full form.\n",
    "    \"\"\"\n",
    "    sites = []\n",
    "    bin_str = f'{i:b}'\n",
    "    bin_str = '0'*(n_sites-len(bin_str)) + bin_str\n",
    "    for char in bin_str:\n",
    "        if char == '0':\n",
    "            sites.append(torch.as_tensor([1.0, 0.0], dtype=dtype))\n",
    "        else:\n",
    "            sites.append(torch.as_tensor([0.0, 1.0], dtype=dtype))\n",
    " \n",
    "    state = torch.stack(sites)\n",
    "\n",
    "    return state\n",
    "\n",
    "\n",
    "# create general purpose identity tensor\n",
    "# this is a 3d tensor with 1 on the diagonal\n",
    "ID = torch.zeros([4, 4, 4], dtype=DTYPE)\n",
    "for i in range(ID.shape[0]):\n",
    "    ID[i, i, i] = 1.0\n",
    "# create data\n",
    "# you can choose from different states\n",
    "I = 0 # position of 1 in the resulting state (starting from 0)\n",
    "test_states = {'up': [1, 0], 'down': [0, 1], 'plus': [1/(2**0.5), 1/(2**0.5)], 'minus': [1/(2**0.5), -1/(2**0.5)], 'i': generate_i_state(N_FEAT, I)}\n",
    "data = torch.expand_copy(torch.as_tensor(test_states['i'], dtype=DTYPE), [64, N_FEAT, 2])\n",
    "\n",
    "# transform to data dictionary to pass to _propagate_data_through_branch_\n",
    "data_dict = {TIndex(f\"data.{i}\", [f\"data.{i}\"]): datum for i, datum in enumerate(data.unbind(1))}\n",
    "# set TTN tensors to identity\n",
    "ttn.tensors = [torch.eye(tensor.shape[0]**2, dtype=DTYPE).reshape(*tensor.shape[:2], -1)[:,:,:tensor.shape[-1]] for tensor in ttn.tensors] #[ID[:tensor.shape[0], :tensor.shape[1], :tensor.shape[2]] for tensor in ttn.tensors]\n",
    "# contract\n",
    "pbar = tqdm(total=len(ttn.tensors), desc='ttn test', position=0)\n",
    "result = ttn._propagate_data_through_branch_(data_dict, ttn.get_branch('0.0'), keep=True, pbar=pbar)['0.0']\n",
    "pbar.close()\n",
    "result[0]"
   ]
  },
  {
   "cell_type": "markdown",
   "metadata": {},
   "source": [
    "## Torch Model"
   ]
  },
  {
   "cell_type": "markdown",
   "metadata": {},
   "source": [
    "### Test the model"
   ]
  },
  {
   "cell_type": "code",
   "execution_count": 3,
   "metadata": {},
   "outputs": [],
   "source": [
    "h = 2\n",
    "features = h**2\n",
    "BATCH_SIZE = 128\n",
    "DATASET = 'titanic'\n",
    "MAPPING = 'poly'\n",
    "MAP_DIM = 2\n",
    "\n",
    "if DATASET == 'mnist':\n",
    "    train_dl, test_dl, train_visual = get_mnist_data_loaders(h, batch_size=BATCH_SIZE, mapping=MAPPING, dim=MAP_DIM)\n",
    "elif DATASET == 'stripe':\n",
    "    train_dl, test_dl, features = get_stripeimage_data_loaders(4, h, batch_size=BATCH_SIZE, mapping=MAPPING, dim=MAP_DIM)\n",
    "elif DATASET == 'iris':\n",
    "    # worst performance with iris-versicolor and iris-virginica\n",
    "    train_dl, test_dl, features = get_iris_data_loaders(batch_size=BATCH_SIZE, sel_labels=['Iris-virginica', 'Iris-versicolor', 'Iris-setosa'], mapping=MAPPING, dim=MAP_DIM)\n",
    "elif DATASET == 'higgs':\n",
    "    train_dl, test_dl, features = get_higgs_data_loaders(batch_size=BATCH_SIZE, mapping=MAPPING, dim=MAP_DIM)\n",
    "elif DATASET == 'titanic':\n",
    "    train_dl, test_dl, features = get_titanic_data_loaders(batch_size=BATCH_SIZE, scale=(0, 1), mapping=MAPPING, dim=MAP_DIM)   # scales different from (0, 1) are reasonable only in the poly mapping"
   ]
  },
  {
   "cell_type": "code",
   "execution_count": 60,
   "metadata": {},
   "outputs": [
    {
     "data": {
      "image/svg+xml": [
       "<?xml version=\"1.0\" encoding=\"UTF-8\"?>\n",
       "<svg xmlns=\"http://www.w3.org/2000/svg\" xmlns:xlink=\"http://www.w3.org/1999/xlink\" width=\"398pt\" height=\"246pt\" viewBox=\"0 0 398 246\" version=\"1.1\">\n",
       "<defs>\n",
       "<g>\n",
       "<symbol overflow=\"visible\" id=\"glyph0-0\">\n",
       "<path style=\"stroke:none;\" d=\"M 0.546875 2 L 0.546875 -8 L 6.046875 -8 L 6.046875 2 Z M 1.171875 1 L 5.4375 1 L 5.4375 -7 L 1.171875 -7 Z M 1.171875 1 \"/>\n",
       "</symbol>\n",
       "<symbol overflow=\"visible\" id=\"glyph0-1\">\n",
       "<path style=\"stroke:none;\" d=\"M 3.5 -1 C 4.050781 -1 4.460938 -1.25 4.734375 -1.75 C 5.003906 -2.25 5.140625 -3 5.140625 -4 C 5.140625 -5.007812 5.003906 -5.757812 4.734375 -6.25 C 4.460938 -6.75 4.050781 -7 3.5 -7 C 2.945312 -7 2.535156 -6.75 2.265625 -6.25 C 1.992188 -5.757812 1.859375 -5.007812 1.859375 -4 C 1.859375 -3 1.992188 -2.25 2.265625 -1.75 C 2.535156 -1.25 2.945312 -1 3.5 -1 Z M 3.5 0 C 2.625 0 1.941406 -0.347656 1.453125 -1.046875 C 0.960938 -1.753906 0.71875 -2.738281 0.71875 -4 C 0.71875 -5.257812 0.960938 -6.238281 1.453125 -6.9375 C 1.941406 -7.644531 2.625 -8 3.5 -8 C 4.363281 -8 5.039062 -7.644531 5.53125 -6.9375 C 6.019531 -6.238281 6.265625 -5.257812 6.265625 -4 C 6.265625 -2.738281 6.019531 -1.753906 5.53125 -1.046875 C 5.039062 -0.347656 4.363281 0 3.5 0 Z M 3.5 0 \"/>\n",
       "</symbol>\n",
       "<symbol overflow=\"visible\" id=\"glyph0-2\">\n",
       "<path style=\"stroke:none;\" d=\"M 1.03125 -0.5 C 1.03125 -0.832031 1.097656 -1 1.234375 -1 C 1.367188 -1 1.539062 -1 1.75 -1 C 1.945312 -1 2.113281 -1 2.25 -1 C 2.394531 -1 2.46875 -0.832031 2.46875 -0.5 C 2.46875 -0.164062 2.394531 0 2.25 0 C 2.113281 0 1.945312 0 1.75 0 C 1.539062 0 1.367188 0 1.234375 0 C 1.097656 0 1.03125 -0.164062 1.03125 -0.5 Z M 1.03125 -0.5 \"/>\n",
       "</symbol>\n",
       "<symbol overflow=\"visible\" id=\"glyph0-3\">\n",
       "<path style=\"stroke:none;\" d=\"M 1.5625 0 L 1.5625 -1 L 2.953125 -1 L 2.953125 -7.265625 L 1.34375 -6.328125 L 1.34375 -7 L 3.296875 -8 L 4.046875 -8 L 4.046875 -1 L 5.4375 -1 L 5.4375 0 Z M 1.5625 0 \"/>\n",
       "</symbol>\n",
       "<symbol overflow=\"visible\" id=\"glyph0-4\">\n",
       "<path style=\"stroke:none;\" d=\"M 1.40625 -6 L 0.8125 -6 L 0.8125 -7 C 1.195312 -7.320312 1.582031 -7.566406 1.96875 -7.734375 C 2.351562 -7.910156 2.734375 -8 3.109375 -8 C 3.941406 -8 4.597656 -7.804688 5.078125 -7.421875 C 5.566406 -7.035156 5.8125 -6.507812 5.8125 -5.84375 C 5.8125 -5.09375 5.257812 -4.195312 4.15625 -3.15625 C 4.070312 -3.082031 4.007812 -3.023438 3.96875 -2.984375 L 1.9375 -1 L 5.296875 -1 L 5.296875 -2 L 5.921875 -2 L 5.921875 0 L 0.75 0 L 0.75 -0.59375 L 3.1875 -3.078125 C 3.71875 -3.535156 4.097656 -3.953125 4.328125 -4.328125 C 4.554688 -4.710938 4.671875 -5.113281 4.671875 -5.53125 C 4.671875 -5.988281 4.53125 -6.347656 4.25 -6.609375 C 3.96875 -6.867188 3.582031 -7 3.09375 -7 C 2.570312 -7 2.171875 -6.914062 1.890625 -6.75 C 1.617188 -6.582031 1.457031 -6.332031 1.40625 -6 Z M 1.40625 -6 \"/>\n",
       "</symbol>\n",
       "<symbol overflow=\"visible\" id=\"glyph0-5\">\n",
       "<path style=\"stroke:none;\" d=\"M 1.0625 -7 C 1.476562 -7.320312 1.878906 -7.566406 2.265625 -7.734375 C 2.648438 -7.910156 3.015625 -8 3.359375 -8 C 4.140625 -8 4.75 -7.84375 5.1875 -7.53125 C 5.632812 -7.226562 5.859375 -6.804688 5.859375 -6.265625 C 5.859375 -5.816406 5.707031 -5.445312 5.40625 -5.15625 C 5.101562 -4.863281 4.671875 -4.664062 4.109375 -4.5625 C 4.765625 -4.46875 5.273438 -4.226562 5.640625 -3.84375 C 6.003906 -3.457031 6.1875 -2.953125 6.1875 -2.328125 C 6.1875 -1.578125 5.929688 -1 5.421875 -0.59375 C 4.921875 -0.195312 4.203125 0 3.265625 0 C 2.835938 0 2.425781 -0.0820312 2.03125 -0.25 C 1.632812 -0.414062 1.238281 -0.664062 0.84375 -1 L 0.84375 -2 L 1.4375 -2 C 1.46875 -1.664062 1.640625 -1.414062 1.953125 -1.25 C 2.265625 -1.082031 2.707031 -1 3.28125 -1 C 3.820312 -1 4.25 -1.125 4.5625 -1.375 C 4.882812 -1.632812 5.046875 -1.988281 5.046875 -2.4375 C 5.046875 -2.945312 4.878906 -3.332031 4.546875 -3.59375 C 4.222656 -3.863281 3.75 -4 3.125 -4 L 2.609375 -4 L 2.609375 -5 L 2.890625 -5 C 3.515625 -5 3.984375 -5.082031 4.296875 -5.25 C 4.609375 -5.425781 4.765625 -5.6875 4.765625 -6.03125 C 4.765625 -6.34375 4.632812 -6.582031 4.375 -6.75 C 4.125 -6.914062 3.753906 -7 3.265625 -7 C 2.785156 -7 2.410156 -6.914062 2.140625 -6.75 C 1.867188 -6.582031 1.710938 -6.332031 1.671875 -6 L 1.0625 -6 Z M 1.0625 -7 \"/>\n",
       "</symbol>\n",
       "<symbol overflow=\"visible\" id=\"glyph1-0\">\n",
       "<path style=\"stroke:none;\" d=\"M 0.453125 2 L 0.453125 -6 L 4.953125 -6 L 4.953125 2 Z M 0.953125 1 L 4.453125 1 L 4.453125 -5 L 0.953125 -5 Z M 0.953125 1 \"/>\n",
       "</symbol>\n",
       "<symbol overflow=\"visible\" id=\"glyph1-1\">\n",
       "<path style=\"stroke:none;\" d=\"M 1.84375 -1 L 2.609375 -1 L 2.609375 0 L 0.265625 0 L 0.265625 -1 L 1.03125 -1 L 1.03125 -7 L 0.265625 -7 L 0.265625 -8 L 1.84375 -8 Z M 1.84375 -1 \"/>\n",
       "</symbol>\n",
       "<symbol overflow=\"visible\" id=\"glyph1-2\">\n",
       "<path style=\"stroke:none;\" d=\"M 3.578125 -1.5 L 3.578125 -2 L 2.546875 -2 C 2.140625 -2 1.835938 -1.957031 1.640625 -1.875 C 1.441406 -1.789062 1.34375 -1.664062 1.34375 -1.5 C 1.34375 -1.34375 1.441406 -1.21875 1.640625 -1.125 C 1.835938 -1.039062 2.109375 -1 2.453125 -1 C 2.785156 -1 3.054688 -1.046875 3.265625 -1.140625 C 3.472656 -1.234375 3.578125 -1.351562 3.578125 -1.5 Z M 4.390625 -2.984375 L 4.390625 -1 L 5.109375 -1 L 5.109375 0 L 3.578125 0 L 3.578125 -1.015625 C 3.398438 -0.671875 3.191406 -0.414062 2.953125 -0.25 C 2.722656 -0.0820312 2.453125 0 2.140625 0 C 1.617188 0 1.207031 -0.132812 0.90625 -0.40625 C 0.601562 -0.675781 0.453125 -1.039062 0.453125 -1.5 C 0.453125 -1.976562 0.625 -2.347656 0.96875 -2.609375 C 1.320312 -2.867188 1.816406 -3 2.453125 -3 L 3.578125 -3 L 3.578125 -4.125 C 3.578125 -4.082031 3.46875 -4.050781 3.25 -4.03125 C 3.039062 -4.007812 2.738281 -4 2.34375 -4 C 2.019531 -4 1.765625 -4.082031 1.578125 -4.25 C 1.390625 -4.414062 1.269531 -4.664062 1.21875 -5 L 0.8125 -5 C 1.09375 -5 1.363281 -5 1.625 -5 C 1.894531 -5 2.15625 -5 2.40625 -5 C 3.050781 -5 3.539062 -4.828125 3.875 -4.484375 C 4.21875 -4.140625 4.390625 -3.640625 4.390625 -2.984375 Z M 4.390625 -2.984375 \"/>\n",
       "</symbol>\n",
       "<symbol overflow=\"visible\" id=\"glyph1-3\">\n",
       "<path style=\"stroke:none;\" d=\"M 1.03125 -1 L 1.03125 -7 L 0.265625 -7 L 0.265625 -8 L 1.84375 -8 L 1.84375 -3.71875 C 2 -4.15625 2.195312 -4.476562 2.4375 -4.6875 C 2.6875 -4.894531 2.992188 -5 3.359375 -5 C 3.929688 -5 4.398438 -4.769531 4.765625 -4.3125 C 5.128906 -3.851562 5.3125 -3.25 5.3125 -2.5 C 5.3125 -1.757812 5.128906 -1.15625 4.765625 -0.6875 C 4.398438 -0.226562 3.929688 0 3.359375 0 C 2.992188 0 2.6875 -0.0976562 2.4375 -0.296875 C 2.195312 -0.492188 2 -0.796875 1.84375 -1.203125 L 1.84375 0 L 0.265625 0 L 0.265625 -1 Z M 1.84375 -2.28125 C 1.84375 -1.863281 1.945312 -1.546875 2.15625 -1.328125 C 2.375 -1.109375 2.691406 -1 3.109375 -1 C 3.515625 -1 3.820312 -1.125 4.03125 -1.375 C 4.25 -1.632812 4.359375 -2.007812 4.359375 -2.5 C 4.359375 -3 4.25 -3.375 4.03125 -3.625 C 3.820312 -3.875 3.515625 -4 3.109375 -4 C 2.691406 -4 2.375 -3.878906 2.15625 -3.640625 C 1.945312 -3.410156 1.84375 -3.078125 1.84375 -2.640625 Z M 1.84375 -2.28125 \"/>\n",
       "</symbol>\n",
       "<symbol overflow=\"visible\" id=\"glyph1-4\">\n",
       "<path style=\"stroke:none;\" d=\"M 4.875 -2 L 1.390625 -2 L 1.390625 -1.953125 C 1.390625 -1.640625 1.507812 -1.398438 1.75 -1.234375 C 1.988281 -1.078125 2.335938 -1 2.796875 -1 C 3.148438 -1 3.441406 -1 3.671875 -1 C 3.898438 -1 4.0625 -1 4.15625 -1 L 4.796875 -1 C 4.671875 -0.664062 4.429688 -0.414062 4.078125 -0.25 C 3.734375 -0.0820312 3.28125 0 2.71875 0 C 2.03125 0 1.476562 -0.226562 1.0625 -0.6875 C 0.65625 -1.144531 0.453125 -1.75 0.453125 -2.5 C 0.453125 -3.25 0.65625 -3.851562 1.0625 -4.3125 C 1.46875 -4.769531 2 -5 2.65625 -5 C 3.363281 -5 3.90625 -4.742188 4.28125 -4.234375 C 4.664062 -3.722656 4.863281 -2.976562 4.875 -2 Z M 3.921875 -3 C 3.898438 -3.332031 3.785156 -3.582031 3.578125 -3.75 C 3.367188 -3.914062 3.0625 -4 2.65625 -4 C 2.289062 -4 2 -3.914062 1.78125 -3.75 C 1.570312 -3.582031 1.441406 -3.332031 1.390625 -3 Z M 3.921875 -3 \"/>\n",
       "</symbol>\n",
       "<symbol overflow=\"visible\" id=\"glyph1-5\">\n",
       "<path style=\"stroke:none;\" d=\"M 1.28125 0 L 1.28125 -1 L 2.421875 -1 L 2.421875 -6.265625 L 1.09375 -5.4375 L 1.09375 -6 L 2.703125 -7 L 3.3125 -7 L 3.3125 -1 L 4.453125 -1 L 4.453125 0 Z M 1.28125 0 \"/>\n",
       "</symbol>\n",
       "<symbol overflow=\"visible\" id=\"glyph1-6\">\n",
       "<path style=\"stroke:none;\" d=\"M 0.84375 -0.5 C 0.84375 -0.832031 0.898438 -1 1.015625 -1 C 1.128906 -1 1.269531 -1 1.4375 -1 C 1.59375 -1 1.726562 -1 1.84375 -1 C 1.957031 -1 2.015625 -0.832031 2.015625 -0.5 C 2.015625 -0.164062 1.957031 0 1.84375 0 C 1.726562 0 1.59375 0 1.4375 0 C 1.269531 0 1.128906 0 1.015625 0 C 0.898438 0 0.84375 -0.164062 0.84375 -0.5 Z M 0.84375 -0.5 \"/>\n",
       "</symbol>\n",
       "<symbol overflow=\"visible\" id=\"glyph1-7\">\n",
       "<path style=\"stroke:none;\" d=\"M 2.859375 -1 C 3.304688 -1 3.640625 -1.207031 3.859375 -1.625 C 4.085938 -2.039062 4.203125 -2.664062 4.203125 -3.5 C 4.203125 -4.332031 4.085938 -4.957031 3.859375 -5.375 C 3.640625 -5.789062 3.304688 -6 2.859375 -6 C 2.410156 -6 2.070312 -5.789062 1.84375 -5.375 C 1.625 -4.957031 1.515625 -4.332031 1.515625 -3.5 C 1.515625 -2.664062 1.625 -2.039062 1.84375 -1.625 C 2.070312 -1.207031 2.410156 -1 2.859375 -1 Z M 2.859375 0 C 2.148438 0 1.59375 -0.304688 1.1875 -0.921875 C 0.789062 -1.535156 0.59375 -2.394531 0.59375 -3.5 C 0.59375 -4.601562 0.789062 -5.460938 1.1875 -6.078125 C 1.59375 -6.691406 2.148438 -7 2.859375 -7 C 3.578125 -7 4.132812 -6.691406 4.53125 -6.078125 C 4.925781 -5.460938 5.125 -4.601562 5.125 -3.5 C 5.125 -2.394531 4.925781 -1.535156 4.53125 -0.921875 C 4.132812 -0.304688 3.578125 0 2.859375 0 Z M 2.859375 0 \"/>\n",
       "</symbol>\n",
       "<symbol overflow=\"visible\" id=\"glyph1-8\">\n",
       "<path style=\"stroke:none;\" d=\"\"/>\n",
       "</symbol>\n",
       "<symbol overflow=\"visible\" id=\"glyph1-9\">\n",
       "<path style=\"stroke:none;\" d=\"M 0.78125 -8 L 2.8125 -8 L 2.8125 -7 L 1.609375 -7 L 1.609375 -1 L 2.8125 -1 L 2.8125 0 L 0.78125 0 Z M 0.78125 -8 \"/>\n",
       "</symbol>\n",
       "<symbol overflow=\"visible\" id=\"glyph1-10\">\n",
       "<path style=\"stroke:none;\" d=\"M 2.953125 -1 C 3.359375 -1 3.671875 -1.082031 3.890625 -1.25 C 4.117188 -1.425781 4.234375 -1.675781 4.234375 -2 C 4.234375 -2.320312 4.117188 -2.566406 3.890625 -2.734375 C 3.671875 -2.910156 3.359375 -3 2.953125 -3 C 2.523438 -3 2.203125 -2.914062 1.984375 -2.75 C 1.765625 -2.582031 1.65625 -2.34375 1.65625 -2.03125 C 1.65625 -1.695312 1.765625 -1.441406 1.984375 -1.265625 C 2.210938 -1.085938 2.535156 -1 2.953125 -1 Z M 1.515625 -2.875 C 1.710938 -3.25 1.9375 -3.53125 2.1875 -3.71875 C 2.4375 -3.90625 2.722656 -4 3.046875 -4 C 3.691406 -4 4.203125 -3.816406 4.578125 -3.453125 C 4.960938 -3.097656 5.15625 -2.613281 5.15625 -2 C 5.15625 -1.394531 4.953125 -0.910156 4.546875 -0.546875 C 4.140625 -0.179688 3.59375 0 2.90625 0 C 2.164062 0 1.597656 -0.28125 1.203125 -0.84375 C 0.804688 -1.414062 0.609375 -2.226562 0.609375 -3.28125 C 0.609375 -4.46875 0.84375 -5.382812 1.3125 -6.03125 C 1.78125 -6.675781 2.445312 -7 3.3125 -7 C 3.539062 -7 3.78125 -6.914062 4.03125 -6.75 C 4.28125 -6.582031 4.539062 -6.332031 4.8125 -6 L 4.8125 -5 L 4.3125 -5 C 4.28125 -5.320312 4.164062 -5.566406 3.96875 -5.734375 C 3.78125 -5.910156 3.523438 -6 3.203125 -6 C 2.640625 -6 2.21875 -5.742188 1.9375 -5.234375 C 1.664062 -4.722656 1.523438 -3.9375 1.515625 -2.875 Z M 1.515625 -2.875 \"/>\n",
       "</symbol>\n",
       "<symbol overflow=\"visible\" id=\"glyph1-11\">\n",
       "<path style=\"stroke:none;\" d=\"M 2.734375 -8 L 2.734375 0 L 0.6875 0 L 0.6875 -1 L 1.90625 -1 L 1.90625 -7 L 0.6875 -7 L 0.6875 -8 Z M 2.734375 -8 \"/>\n",
       "</symbol>\n",
       "<symbol overflow=\"visible\" id=\"glyph1-12\">\n",
       "<path style=\"stroke:none;\" d=\"M 1.15625 -5 L 0.65625 -5 L 0.65625 -6 C 0.96875 -6.320312 1.28125 -6.566406 1.59375 -6.734375 C 1.914062 -6.910156 2.226562 -7 2.53125 -7 C 3.21875 -7 3.757812 -6.832031 4.15625 -6.5 C 4.550781 -6.175781 4.75 -5.734375 4.75 -5.171875 C 4.75 -4.535156 4.300781 -3.773438 3.40625 -2.890625 C 3.332031 -2.816406 3.28125 -2.765625 3.25 -2.734375 L 1.59375 -1 L 4.328125 -1 L 4.328125 -2 L 4.84375 -2 L 4.84375 0 L 0.609375 0 L 0.609375 -0.546875 L 2.609375 -2.8125 C 3.046875 -3.1875 3.359375 -3.523438 3.546875 -3.828125 C 3.734375 -4.140625 3.828125 -4.46875 3.828125 -4.8125 C 3.828125 -5.1875 3.710938 -5.476562 3.484375 -5.6875 C 3.253906 -5.894531 2.9375 -6 2.53125 -6 C 2.113281 -6 1.789062 -5.914062 1.5625 -5.75 C 1.332031 -5.582031 1.195312 -5.332031 1.15625 -5 Z M 1.15625 -5 \"/>\n",
       "</symbol>\n",
       "<symbol overflow=\"visible\" id=\"glyph1-13\">\n",
       "<path style=\"stroke:none;\" d=\"M 3.140625 -3 L 3.140625 -6.125 L 0.90625 -3 Z M 5.078125 0 L 2.09375 0 L 2.09375 -1 L 3.140625 -1 L 3.140625 -2 L 0.28125 -2 L 0.28125 -2.484375 L 3.140625 -7 L 4.015625 -7 L 4.015625 -3 L 5.28125 -3 L 5.28125 -2 L 4.015625 -2 L 4.015625 -1 L 5.078125 -1 Z M 5.078125 0 \"/>\n",
       "</symbol>\n",
       "<symbol overflow=\"visible\" id=\"glyph1-14\">\n",
       "<path style=\"stroke:none;\" d=\"M 0.875 -6 C 1.21875 -6.320312 1.546875 -6.566406 1.859375 -6.734375 C 2.179688 -6.910156 2.476562 -7 2.75 -7 C 3.394531 -7 3.894531 -6.84375 4.25 -6.53125 C 4.613281 -6.226562 4.796875 -5.804688 4.796875 -5.265625 C 4.796875 -4.816406 4.671875 -4.445312 4.421875 -4.15625 C 4.171875 -3.863281 3.816406 -3.664062 3.359375 -3.5625 C 3.898438 -3.488281 4.316406 -3.300781 4.609375 -3 C 4.910156 -2.695312 5.0625 -2.304688 5.0625 -1.828125 C 5.0625 -1.234375 4.851562 -0.78125 4.4375 -0.46875 C 4.03125 -0.15625 3.441406 0 2.671875 0 C 2.328125 0 1.988281 -0.0820312 1.65625 -0.25 C 1.332031 -0.414062 1.007812 -0.664062 0.6875 -1 L 0.6875 -2 L 1.171875 -2 C 1.203125 -1.664062 1.34375 -1.414062 1.59375 -1.25 C 1.851562 -1.082031 2.210938 -1 2.671875 -1 C 3.117188 -1 3.472656 -1.082031 3.734375 -1.25 C 3.992188 -1.425781 4.125 -1.664062 4.125 -1.96875 C 4.125 -2.300781 3.988281 -2.554688 3.71875 -2.734375 C 3.457031 -2.910156 3.070312 -3 2.5625 -3 L 2.140625 -3 L 2.140625 -4 L 2.359375 -4 C 2.867188 -4 3.25 -4.082031 3.5 -4.25 C 3.757812 -4.425781 3.890625 -4.6875 3.890625 -5.03125 C 3.890625 -5.34375 3.785156 -5.582031 3.578125 -5.75 C 3.367188 -5.914062 3.066406 -6 2.671875 -6 C 2.273438 -6 1.96875 -5.914062 1.75 -5.75 C 1.53125 -5.582031 1.398438 -5.332031 1.359375 -5 L 0.875 -5 Z M 0.875 -6 \"/>\n",
       "</symbol>\n",
       "<symbol overflow=\"visible\" id=\"glyph1-15\">\n",
       "<path style=\"stroke:none;\" d=\"M 4.71875 -1 L 5.5 -1 L 5.5 0 L 3.921875 0 L 3.921875 -1.203125 C 3.765625 -0.796875 3.5625 -0.492188 3.3125 -0.296875 C 3.070312 -0.0976562 2.769531 0 2.40625 0 C 1.832031 0 1.363281 -0.226562 1 -0.6875 C 0.632812 -1.15625 0.453125 -1.757812 0.453125 -2.5 C 0.453125 -3.25 0.632812 -3.851562 1 -4.3125 C 1.363281 -4.769531 1.832031 -5 2.40625 -5 C 2.769531 -5 3.070312 -4.894531 3.3125 -4.6875 C 3.5625 -4.476562 3.765625 -4.15625 3.921875 -3.71875 L 3.921875 -7 L 3.15625 -7 L 3.15625 -8 L 4.71875 -8 Z M 3.921875 -2.28125 L 3.921875 -2.640625 C 3.921875 -3.078125 3.8125 -3.410156 3.59375 -3.640625 C 3.382812 -3.878906 3.070312 -4 2.65625 -4 C 2.238281 -4 1.921875 -3.875 1.703125 -3.625 C 1.492188 -3.375 1.390625 -3 1.390625 -2.5 C 1.390625 -2.007812 1.492188 -1.632812 1.703125 -1.375 C 1.921875 -1.125 2.238281 -1 2.65625 -1 C 3.070312 -1 3.382812 -1.109375 3.59375 -1.328125 C 3.8125 -1.546875 3.921875 -1.863281 3.921875 -2.28125 Z M 3.921875 -2.28125 \"/>\n",
       "</symbol>\n",
       "<symbol overflow=\"visible\" id=\"glyph1-16\">\n",
       "<path style=\"stroke:none;\" d=\"M 0.96875 -4 L 0.265625 -4 L 0.265625 -5 L 0.96875 -5 L 0.96875 -6 L 1.78125 -6 L 1.78125 -5 L 3.3125 -5 L 3.3125 -4 L 1.78125 -4 L 1.78125 -2.09375 C 1.78125 -1.625 1.816406 -1.320312 1.890625 -1.1875 C 1.972656 -1.0625 2.113281 -1 2.3125 -1 C 2.53125 -1 2.6875 -1.078125 2.78125 -1.234375 C 2.875 -1.390625 2.925781 -1.644531 2.9375 -2 L 3.546875 -2 C 3.523438 -1.300781 3.410156 -0.789062 3.203125 -0.46875 C 2.992188 -0.15625 2.675781 0 2.25 0 C 1.78125 0 1.445312 -0.15625 1.25 -0.46875 C 1.0625 -0.789062 0.96875 -1.332031 0.96875 -2.09375 Z M 0.96875 -4 \"/>\n",
       "</symbol>\n",
       "<symbol overflow=\"visible\" id=\"glyph1-17\">\n",
       "<path style=\"stroke:none;\" d=\"M 4.53125 -7 L 4.53125 -6 L 1.515625 -6 L 1.515625 -3.265625 C 1.671875 -3.503906 1.847656 -3.6875 2.046875 -3.8125 C 2.253906 -3.9375 2.484375 -4 2.734375 -4 C 3.441406 -4 4 -3.820312 4.40625 -3.46875 C 4.820312 -3.113281 5.03125 -2.625 5.03125 -2 C 5.03125 -1.375 4.820312 -0.882812 4.40625 -0.53125 C 3.988281 -0.175781 3.40625 0 2.65625 0 C 2.363281 0 2.054688 -0.0820312 1.734375 -0.25 C 1.421875 -0.414062 1.097656 -0.664062 0.765625 -1 L 0.765625 -2 L 1.265625 -2 C 1.296875 -1.675781 1.425781 -1.425781 1.65625 -1.25 C 1.894531 -1.082031 2.234375 -1 2.671875 -1 C 3.128906 -1 3.484375 -1.082031 3.734375 -1.25 C 3.984375 -1.425781 4.109375 -1.675781 4.109375 -2 C 4.109375 -2.320312 3.984375 -2.566406 3.734375 -2.734375 C 3.484375 -2.910156 3.128906 -3 2.671875 -3 C 2.398438 -3 2.164062 -3 1.96875 -3 C 1.769531 -3 1.59375 -3 1.4375 -3 L 1.0625 -3 L 1.0625 -7 Z M 4.53125 -7 \"/>\n",
       "</symbol>\n",
       "<symbol overflow=\"visible\" id=\"glyph1-18\">\n",
       "<path style=\"stroke:none;\" d=\"M 5.078125 -6.515625 L 2.515625 0 L 1.859375 0 L 4.296875 -6 L 1.265625 -6 L 1.265625 -5.171875 L 0.75 -5.171875 L 0.75 -7 L 5.078125 -7 Z M 5.078125 -6.515625 \"/>\n",
       "</symbol>\n",
       "</g>\n",
       "</defs>\n",
       "<g id=\"surface1\">\n",
       "<path style=\"fill-rule:nonzero;fill:rgb(25.490196%,26.666667%,52.941176%);fill-opacity:1;stroke-width:4;stroke-linecap:butt;stroke-linejoin:miter;stroke:rgb(20.392157%,21.176471%,42.352941%);stroke-opacity:1;stroke-miterlimit:10;\" d=\"M 306 -124.5 C 306 -117.597656 300.402344 -112 293.5 -112 C 286.597656 -112 281 -117.597656 281 -124.5 C 281 -131.402344 286.597656 -137 293.5 -137 C 300.402344 -137 306 -131.402344 306 -124.5 \" transform=\"matrix(1,0,0,1,4,242)\"/>\n",
       "<g style=\"fill:rgb(0%,0%,0%);fill-opacity:1;\">\n",
       "  <use xlink:href=\"#glyph0-1\" x=\"288.5\" y=\"120.300781\"/>\n",
       "  <use xlink:href=\"#glyph0-2\" x=\"295.25\" y=\"120.300781\"/>\n",
       "  <use xlink:href=\"#glyph0-1\" x=\"299\" y=\"120.300781\"/>\n",
       "</g>\n",
       "<path style=\"fill:none;stroke-width:1;stroke-linecap:butt;stroke-linejoin:miter;stroke:rgb(74.901961%,74.901961%,74.901961%);stroke-opacity:1;stroke-miterlimit:10;\" d=\"M 306.25 -124.5 C 318.792969 -124.5 338.957031 -124.5 354.472656 -124.5 \" transform=\"matrix(1,0,0,1,4,242)\"/>\n",
       "<path style=\"fill-rule:nonzero;fill:rgb(74.901961%,74.901961%,74.901961%);fill-opacity:1;stroke-width:1;stroke-linecap:butt;stroke-linejoin:miter;stroke:rgb(74.901961%,74.901961%,74.901961%);stroke-opacity:1;stroke-miterlimit:10;\" d=\"M 354.773438 -128 L 364.773438 -124.5 L 354.773438 -121 Z M 354.773438 -128 \" transform=\"matrix(1,0,0,1,4,242)\"/>\n",
       "<g style=\"fill:rgb(0%,0%,0%);fill-opacity:1;\">\n",
       "  <use xlink:href=\"#glyph1-1\" x=\"328\" y=\"114.699219\"/>\n",
       "  <use xlink:href=\"#glyph1-2\" x=\"331\" y=\"114.699219\"/>\n",
       "  <use xlink:href=\"#glyph1-3\" x=\"336.25\" y=\"114.699219\"/>\n",
       "  <use xlink:href=\"#glyph1-4\" x=\"342.25\" y=\"114.699219\"/>\n",
       "  <use xlink:href=\"#glyph1-1\" x=\"347.5\" y=\"114.699219\"/>\n",
       "</g>\n",
       "<path style=\"fill-rule:nonzero;fill:rgb(13.333333%,65.882353%,51.764706%);fill-opacity:1;stroke-width:4;stroke-linecap:butt;stroke-linejoin:miter;stroke:rgb(10.588235%,52.54902%,41.568627%);stroke-opacity:1;stroke-miterlimit:10;\" d=\"M 207 -158.5 C 207 -151.597656 201.402344 -146 194.5 -146 C 187.597656 -146 182 -151.597656 182 -158.5 C 182 -165.402344 187.597656 -171 194.5 -171 C 201.402344 -171 207 -165.402344 207 -158.5 \" transform=\"matrix(1,0,0,1,4,242)\"/>\n",
       "<g style=\"fill:rgb(0%,0%,0%);fill-opacity:1;\">\n",
       "  <use xlink:href=\"#glyph0-3\" x=\"189.5\" y=\"86.300781\"/>\n",
       "  <use xlink:href=\"#glyph0-2\" x=\"196.25\" y=\"86.300781\"/>\n",
       "  <use xlink:href=\"#glyph0-1\" x=\"200\" y=\"86.300781\"/>\n",
       "</g>\n",
       "<path style=\"fill:none;stroke-width:1;stroke-linecap:butt;stroke-linejoin:miter;stroke:rgb(74.901961%,74.901961%,74.901961%);stroke-opacity:1;stroke-miterlimit:10;\" d=\"M 206.628906 -154.601562 C 222.488281 -149.039062 251.878906 -138.738281 271.808594 -131.753906 \" transform=\"matrix(1,0,0,1,4,242)\"/>\n",
       "<path style=\"fill-rule:nonzero;fill:rgb(74.901961%,74.901961%,74.901961%);fill-opacity:1;stroke-width:1;stroke-linecap:butt;stroke-linejoin:miter;stroke:rgb(74.901961%,74.901961%,74.901961%);stroke-opacity:1;stroke-miterlimit:10;\" d=\"M 273.222656 -134.964844 L 281.503906 -128.355469 L 270.90625 -128.359375 Z M 273.222656 -134.964844 \" transform=\"matrix(1,0,0,1,4,242)\"/>\n",
       "<g style=\"fill:rgb(0%,0%,0%);fill-opacity:1;\">\n",
       "  <use xlink:href=\"#glyph1-5\" x=\"229\" y=\"91.699219\"/>\n",
       "  <use xlink:href=\"#glyph1-6\" x=\"235\" y=\"91.699219\"/>\n",
       "  <use xlink:href=\"#glyph1-7\" x=\"238\" y=\"91.699219\"/>\n",
       "  <use xlink:href=\"#glyph1-8\" x=\"244\" y=\"91.699219\"/>\n",
       "  <use xlink:href=\"#glyph1-9\" x=\"247\" y=\"91.699219\"/>\n",
       "  <use xlink:href=\"#glyph1-5\" x=\"250.75\" y=\"91.699219\"/>\n",
       "  <use xlink:href=\"#glyph1-10\" x=\"256.75\" y=\"91.699219\"/>\n",
       "  <use xlink:href=\"#glyph1-11\" x=\"262.75\" y=\"91.699219\"/>\n",
       "</g>\n",
       "<path style=\"fill-rule:nonzero;fill:rgb(13.333333%,65.882353%,51.764706%);fill-opacity:1;stroke-width:4;stroke-linecap:butt;stroke-linejoin:miter;stroke:rgb(10.588235%,52.54902%,41.568627%);stroke-opacity:1;stroke-miterlimit:10;\" d=\"M 207 -79.5 C 207 -72.597656 201.402344 -67 194.5 -67 C 187.597656 -67 182 -72.597656 182 -79.5 C 182 -86.402344 187.597656 -92 194.5 -92 C 201.402344 -92 207 -86.402344 207 -79.5 \" transform=\"matrix(1,0,0,1,4,242)\"/>\n",
       "<g style=\"fill:rgb(0%,0%,0%);fill-opacity:1;\">\n",
       "  <use xlink:href=\"#glyph0-3\" x=\"189.5\" y=\"165.300781\"/>\n",
       "  <use xlink:href=\"#glyph0-2\" x=\"196.25\" y=\"165.300781\"/>\n",
       "  <use xlink:href=\"#glyph0-3\" x=\"200\" y=\"165.300781\"/>\n",
       "</g>\n",
       "<path style=\"fill:none;stroke-width:1;stroke-linecap:butt;stroke-linejoin:miter;stroke:rgb(74.901961%,74.901961%,74.901961%);stroke-opacity:1;stroke-miterlimit:10;\" d=\"M 206.25 -84.488281 C 222.203125 -91.886719 252.40625 -105.902344 272.5 -115.222656 \" transform=\"matrix(1,0,0,1,4,242)\"/>\n",
       "<path style=\"fill-rule:nonzero;fill:rgb(74.901961%,74.901961%,74.901961%);fill-opacity:1;stroke-width:1;stroke-linecap:butt;stroke-linejoin:miter;stroke:rgb(74.901961%,74.901961%,74.901961%);stroke-opacity:1;stroke-miterlimit:10;\" d=\"M 271.15625 -118.457031 L 281.699219 -119.488281 L 274.101562 -112.105469 Z M 271.15625 -118.457031 \" transform=\"matrix(1,0,0,1,4,242)\"/>\n",
       "<g style=\"fill:rgb(0%,0%,0%);fill-opacity:1;\">\n",
       "  <use xlink:href=\"#glyph1-5\" x=\"229\" y=\"129.699219\"/>\n",
       "  <use xlink:href=\"#glyph1-6\" x=\"235\" y=\"129.699219\"/>\n",
       "  <use xlink:href=\"#glyph1-5\" x=\"238\" y=\"129.699219\"/>\n",
       "  <use xlink:href=\"#glyph1-8\" x=\"244\" y=\"129.699219\"/>\n",
       "  <use xlink:href=\"#glyph1-9\" x=\"247\" y=\"129.699219\"/>\n",
       "  <use xlink:href=\"#glyph1-5\" x=\"250.75\" y=\"129.699219\"/>\n",
       "  <use xlink:href=\"#glyph1-10\" x=\"256.75\" y=\"129.699219\"/>\n",
       "  <use xlink:href=\"#glyph1-11\" x=\"262.75\" y=\"129.699219\"/>\n",
       "</g>\n",
       "<path style=\"fill-rule:nonzero;fill:rgb(99.215686%,90.588235%,14.509804%);fill-opacity:1;stroke-width:4;stroke-linecap:butt;stroke-linejoin:miter;stroke:rgb(90.196078%,81.176471%,0.784314%);stroke-opacity:1;stroke-miterlimit:10;\" d=\"M 114 -201.5 C 114 -194.597656 108.402344 -189 101.5 -189 C 94.597656 -189 89 -194.597656 89 -201.5 C 89 -208.402344 94.597656 -214 101.5 -214 C 108.402344 -214 114 -208.402344 114 -201.5 \" transform=\"matrix(1,0,0,1,4,242)\"/>\n",
       "<g style=\"fill:rgb(0%,0%,0%);fill-opacity:1;\">\n",
       "  <use xlink:href=\"#glyph0-4\" x=\"96.5\" y=\"43.300781\"/>\n",
       "  <use xlink:href=\"#glyph0-2\" x=\"103.25\" y=\"43.300781\"/>\n",
       "  <use xlink:href=\"#glyph0-1\" x=\"107\" y=\"43.300781\"/>\n",
       "</g>\n",
       "<path style=\"fill:none;stroke-width:1;stroke-linecap:butt;stroke-linejoin:miter;stroke:rgb(74.901961%,74.901961%,74.901961%);stroke-opacity:1;stroke-miterlimit:10;\" d=\"M 113.296875 -196.398438 C 128.152344 -189.378906 155.164062 -176.617188 173.703125 -167.855469 \" transform=\"matrix(1,0,0,1,4,242)\"/>\n",
       "<path style=\"fill-rule:nonzero;fill:rgb(74.901961%,74.901961%,74.901961%);fill-opacity:1;stroke-width:1;stroke-linecap:butt;stroke-linejoin:miter;stroke:rgb(74.901961%,74.901961%,74.901961%);stroke-opacity:1;stroke-miterlimit:10;\" d=\"M 175.453125 -170.898438 L 183 -163.460938 L 172.460938 -164.570312 Z M 175.453125 -170.898438 \" transform=\"matrix(1,0,0,1,4,242)\"/>\n",
       "<g style=\"fill:rgb(0%,0%,0%);fill-opacity:1;\">\n",
       "  <use xlink:href=\"#glyph1-12\" x=\"136\" y=\"52.699219\"/>\n",
       "  <use xlink:href=\"#glyph1-6\" x=\"142\" y=\"52.699219\"/>\n",
       "  <use xlink:href=\"#glyph1-7\" x=\"145\" y=\"52.699219\"/>\n",
       "  <use xlink:href=\"#glyph1-8\" x=\"151\" y=\"52.699219\"/>\n",
       "  <use xlink:href=\"#glyph1-9\" x=\"154\" y=\"52.699219\"/>\n",
       "  <use xlink:href=\"#glyph1-13\" x=\"157.75\" y=\"52.699219\"/>\n",
       "  <use xlink:href=\"#glyph1-11\" x=\"163.75\" y=\"52.699219\"/>\n",
       "</g>\n",
       "<path style=\"fill-rule:nonzero;fill:rgb(99.215686%,90.588235%,14.509804%);fill-opacity:1;stroke-width:4;stroke-linecap:butt;stroke-linejoin:miter;stroke:rgb(90.196078%,81.176471%,0.784314%);stroke-opacity:1;stroke-miterlimit:10;\" d=\"M 114 -158.5 C 114 -151.597656 108.402344 -146 101.5 -146 C 94.597656 -146 89 -151.597656 89 -158.5 C 89 -165.402344 94.597656 -171 101.5 -171 C 108.402344 -171 114 -165.402344 114 -158.5 \" transform=\"matrix(1,0,0,1,4,242)\"/>\n",
       "<g style=\"fill:rgb(0%,0%,0%);fill-opacity:1;\">\n",
       "  <use xlink:href=\"#glyph0-4\" x=\"96.5\" y=\"86.300781\"/>\n",
       "  <use xlink:href=\"#glyph0-2\" x=\"103.25\" y=\"86.300781\"/>\n",
       "  <use xlink:href=\"#glyph0-3\" x=\"107\" y=\"86.300781\"/>\n",
       "</g>\n",
       "<path style=\"fill:none;stroke-width:1;stroke-linecap:butt;stroke-linejoin:miter;stroke:rgb(74.901961%,74.901961%,74.901961%);stroke-opacity:1;stroke-miterlimit:10;\" d=\"M 114.023438 -158.5 C 128.441406 -158.5 153.429688 -158.5 171.546875 -158.5 \" transform=\"matrix(1,0,0,1,4,242)\"/>\n",
       "<path style=\"fill-rule:nonzero;fill:rgb(74.901961%,74.901961%,74.901961%);fill-opacity:1;stroke-width:1;stroke-linecap:butt;stroke-linejoin:miter;stroke:rgb(74.901961%,74.901961%,74.901961%);stroke-opacity:1;stroke-miterlimit:10;\" d=\"M 171.78125 -162 L 181.78125 -158.5 L 171.78125 -155 Z M 171.78125 -162 \" transform=\"matrix(1,0,0,1,4,242)\"/>\n",
       "<g style=\"fill:rgb(0%,0%,0%);fill-opacity:1;\">\n",
       "  <use xlink:href=\"#glyph1-12\" x=\"136\" y=\"80.699219\"/>\n",
       "  <use xlink:href=\"#glyph1-6\" x=\"142\" y=\"80.699219\"/>\n",
       "  <use xlink:href=\"#glyph1-5\" x=\"145\" y=\"80.699219\"/>\n",
       "  <use xlink:href=\"#glyph1-8\" x=\"151\" y=\"80.699219\"/>\n",
       "  <use xlink:href=\"#glyph1-9\" x=\"154\" y=\"80.699219\"/>\n",
       "  <use xlink:href=\"#glyph1-13\" x=\"157.75\" y=\"80.699219\"/>\n",
       "  <use xlink:href=\"#glyph1-11\" x=\"163.75\" y=\"80.699219\"/>\n",
       "</g>\n",
       "<path style=\"fill-rule:nonzero;fill:rgb(99.215686%,90.588235%,14.509804%);fill-opacity:1;stroke-width:4;stroke-linecap:butt;stroke-linejoin:miter;stroke:rgb(90.196078%,81.176471%,0.784314%);stroke-opacity:1;stroke-miterlimit:10;\" d=\"M 114 -79.5 C 114 -72.597656 108.402344 -67 101.5 -67 C 94.597656 -67 89 -72.597656 89 -79.5 C 89 -86.402344 94.597656 -92 101.5 -92 C 108.402344 -92 114 -86.402344 114 -79.5 \" transform=\"matrix(1,0,0,1,4,242)\"/>\n",
       "<g style=\"fill:rgb(0%,0%,0%);fill-opacity:1;\">\n",
       "  <use xlink:href=\"#glyph0-4\" x=\"96.5\" y=\"165.300781\"/>\n",
       "  <use xlink:href=\"#glyph0-2\" x=\"103.25\" y=\"165.300781\"/>\n",
       "  <use xlink:href=\"#glyph0-4\" x=\"107\" y=\"165.300781\"/>\n",
       "</g>\n",
       "<path style=\"fill:none;stroke-width:1;stroke-linecap:butt;stroke-linejoin:miter;stroke:rgb(74.901961%,74.901961%,74.901961%);stroke-opacity:1;stroke-miterlimit:10;\" d=\"M 114.023438 -79.5 C 128.441406 -79.5 153.429688 -79.5 171.546875 -79.5 \" transform=\"matrix(1,0,0,1,4,242)\"/>\n",
       "<path style=\"fill-rule:nonzero;fill:rgb(74.901961%,74.901961%,74.901961%);fill-opacity:1;stroke-width:1;stroke-linecap:butt;stroke-linejoin:miter;stroke:rgb(74.901961%,74.901961%,74.901961%);stroke-opacity:1;stroke-miterlimit:10;\" d=\"M 171.78125 -83 L 181.78125 -79.5 L 171.78125 -76 Z M 171.78125 -83 \" transform=\"matrix(1,0,0,1,4,242)\"/>\n",
       "<g style=\"fill:rgb(0%,0%,0%);fill-opacity:1;\">\n",
       "  <use xlink:href=\"#glyph1-12\" x=\"136\" y=\"159.699219\"/>\n",
       "  <use xlink:href=\"#glyph1-6\" x=\"142\" y=\"159.699219\"/>\n",
       "  <use xlink:href=\"#glyph1-12\" x=\"145\" y=\"159.699219\"/>\n",
       "  <use xlink:href=\"#glyph1-8\" x=\"151\" y=\"159.699219\"/>\n",
       "  <use xlink:href=\"#glyph1-9\" x=\"154\" y=\"159.699219\"/>\n",
       "  <use xlink:href=\"#glyph1-13\" x=\"157.75\" y=\"159.699219\"/>\n",
       "  <use xlink:href=\"#glyph1-11\" x=\"163.75\" y=\"159.699219\"/>\n",
       "</g>\n",
       "<path style=\"fill-rule:nonzero;fill:rgb(99.215686%,90.588235%,14.509804%);fill-opacity:1;stroke-width:4;stroke-linecap:butt;stroke-linejoin:miter;stroke:rgb(90.196078%,81.176471%,0.784314%);stroke-opacity:1;stroke-miterlimit:10;\" d=\"M 114 -36.5 C 114 -29.597656 108.402344 -24 101.5 -24 C 94.597656 -24 89 -29.597656 89 -36.5 C 89 -43.402344 94.597656 -49 101.5 -49 C 108.402344 -49 114 -43.402344 114 -36.5 \" transform=\"matrix(1,0,0,1,4,242)\"/>\n",
       "<g style=\"fill:rgb(0%,0%,0%);fill-opacity:1;\">\n",
       "  <use xlink:href=\"#glyph0-4\" x=\"96.5\" y=\"208.300781\"/>\n",
       "  <use xlink:href=\"#glyph0-2\" x=\"103.25\" y=\"208.300781\"/>\n",
       "  <use xlink:href=\"#glyph0-5\" x=\"107\" y=\"208.300781\"/>\n",
       "</g>\n",
       "<path style=\"fill:none;stroke-width:1;stroke-linecap:butt;stroke-linejoin:miter;stroke:rgb(74.901961%,74.901961%,74.901961%);stroke-opacity:1;stroke-miterlimit:10;\" d=\"M 113.296875 -41.601562 C 128.152344 -48.621094 155.164062 -61.382812 173.703125 -70.144531 \" transform=\"matrix(1,0,0,1,4,242)\"/>\n",
       "<path style=\"fill-rule:nonzero;fill:rgb(74.901961%,74.901961%,74.901961%);fill-opacity:1;stroke-width:1;stroke-linecap:butt;stroke-linejoin:miter;stroke:rgb(74.901961%,74.901961%,74.901961%);stroke-opacity:1;stroke-miterlimit:10;\" d=\"M 172.460938 -73.429688 L 183 -74.539062 L 175.453125 -67.101562 Z M 172.460938 -73.429688 \" transform=\"matrix(1,0,0,1,4,242)\"/>\n",
       "<g style=\"fill:rgb(0%,0%,0%);fill-opacity:1;\">\n",
       "  <use xlink:href=\"#glyph1-12\" x=\"136\" y=\"173.699219\"/>\n",
       "  <use xlink:href=\"#glyph1-6\" x=\"142\" y=\"173.699219\"/>\n",
       "  <use xlink:href=\"#glyph1-14\" x=\"145\" y=\"173.699219\"/>\n",
       "  <use xlink:href=\"#glyph1-8\" x=\"151\" y=\"173.699219\"/>\n",
       "  <use xlink:href=\"#glyph1-9\" x=\"154\" y=\"173.699219\"/>\n",
       "  <use xlink:href=\"#glyph1-13\" x=\"157.75\" y=\"173.699219\"/>\n",
       "  <use xlink:href=\"#glyph1-11\" x=\"163.75\" y=\"173.699219\"/>\n",
       "</g>\n",
       "<path style=\"fill:none;stroke-width:1;stroke-linecap:butt;stroke-linejoin:miter;stroke:rgb(74.901961%,74.901961%,74.901961%);stroke-opacity:1;stroke-miterlimit:10;\" d=\"M 7.269531 -233.546875 C 17.765625 -229.9375 55.730469 -216.890625 79.855469 -208.597656 \" transform=\"matrix(1,0,0,1,4,242)\"/>\n",
       "<path style=\"fill-rule:nonzero;fill:rgb(74.901961%,74.901961%,74.901961%);fill-opacity:1;stroke-width:1;stroke-linecap:butt;stroke-linejoin:miter;stroke:rgb(74.901961%,74.901961%,74.901961%);stroke-opacity:1;stroke-miterlimit:10;\" d=\"M 81.203125 -211.835938 L 89.523438 -205.273438 L 78.929688 -205.214844 Z M 81.203125 -211.835938 \" transform=\"matrix(1,0,0,1,4,242)\"/>\n",
       "<g style=\"fill:rgb(0%,0%,0%);fill-opacity:1;\">\n",
       "  <use xlink:href=\"#glyph1-15\" x=\"29\" y=\"12.699219\"/>\n",
       "  <use xlink:href=\"#glyph1-2\" x=\"35\" y=\"12.699219\"/>\n",
       "  <use xlink:href=\"#glyph1-16\" x=\"40.25\" y=\"12.699219\"/>\n",
       "  <use xlink:href=\"#glyph1-2\" x=\"44\" y=\"12.699219\"/>\n",
       "  <use xlink:href=\"#glyph1-6\" x=\"49.25\" y=\"12.699219\"/>\n",
       "  <use xlink:href=\"#glyph1-7\" x=\"52.25\" y=\"12.699219\"/>\n",
       "  <use xlink:href=\"#glyph1-8\" x=\"58.25\" y=\"12.699219\"/>\n",
       "  <use xlink:href=\"#glyph1-9\" x=\"61.25\" y=\"12.699219\"/>\n",
       "  <use xlink:href=\"#glyph1-12\" x=\"65\" y=\"12.699219\"/>\n",
       "  <use xlink:href=\"#glyph1-11\" x=\"71\" y=\"12.699219\"/>\n",
       "</g>\n",
       "<path style=\"fill:none;stroke-width:1;stroke-linecap:butt;stroke-linejoin:miter;stroke:rgb(74.901961%,74.901961%,74.901961%);stroke-opacity:1;stroke-miterlimit:10;\" d=\"M 7.269531 -201.5 C 17.613281 -201.5 54.625 -201.5 78.789062 -201.5 \" transform=\"matrix(1,0,0,1,4,242)\"/>\n",
       "<path style=\"fill-rule:nonzero;fill:rgb(74.901961%,74.901961%,74.901961%);fill-opacity:1;stroke-width:1;stroke-linecap:butt;stroke-linejoin:miter;stroke:rgb(74.901961%,74.901961%,74.901961%);stroke-opacity:1;stroke-miterlimit:10;\" d=\"M 78.84375 -205 L 88.84375 -201.5 L 78.84375 -198 Z M 78.84375 -205 \" transform=\"matrix(1,0,0,1,4,242)\"/>\n",
       "<g style=\"fill:rgb(0%,0%,0%);fill-opacity:1;\">\n",
       "  <use xlink:href=\"#glyph1-15\" x=\"29\" y=\"37.699219\"/>\n",
       "  <use xlink:href=\"#glyph1-2\" x=\"35\" y=\"37.699219\"/>\n",
       "  <use xlink:href=\"#glyph1-16\" x=\"40.25\" y=\"37.699219\"/>\n",
       "  <use xlink:href=\"#glyph1-2\" x=\"44\" y=\"37.699219\"/>\n",
       "  <use xlink:href=\"#glyph1-6\" x=\"49.25\" y=\"37.699219\"/>\n",
       "  <use xlink:href=\"#glyph1-5\" x=\"52.25\" y=\"37.699219\"/>\n",
       "  <use xlink:href=\"#glyph1-8\" x=\"58.25\" y=\"37.699219\"/>\n",
       "  <use xlink:href=\"#glyph1-9\" x=\"61.25\" y=\"37.699219\"/>\n",
       "  <use xlink:href=\"#glyph1-12\" x=\"65\" y=\"37.699219\"/>\n",
       "  <use xlink:href=\"#glyph1-11\" x=\"71\" y=\"37.699219\"/>\n",
       "</g>\n",
       "<path style=\"fill:none;stroke-width:1;stroke-linecap:butt;stroke-linejoin:miter;stroke:rgb(74.901961%,74.901961%,74.901961%);stroke-opacity:1;stroke-miterlimit:10;\" d=\"M 7.269531 -168.210938 C 17.613281 -167.132812 54.625 -163.277344 78.789062 -160.761719 \" transform=\"matrix(1,0,0,1,4,242)\"/>\n",
       "<path style=\"fill-rule:nonzero;fill:rgb(74.901961%,74.901961%,74.901961%);fill-opacity:1;stroke-width:1;stroke-linecap:butt;stroke-linejoin:miter;stroke:rgb(74.901961%,74.901961%,74.901961%);stroke-opacity:1;stroke-miterlimit:10;\" d=\"M 79.257812 -164.230469 L 88.84375 -159.714844 L 78.535156 -157.269531 Z M 79.257812 -164.230469 \" transform=\"matrix(1,0,0,1,4,242)\"/>\n",
       "<g style=\"fill:rgb(0%,0%,0%);fill-opacity:1;\">\n",
       "  <use xlink:href=\"#glyph1-15\" x=\"29\" y=\"73.699219\"/>\n",
       "  <use xlink:href=\"#glyph1-2\" x=\"35\" y=\"73.699219\"/>\n",
       "  <use xlink:href=\"#glyph1-16\" x=\"40.25\" y=\"73.699219\"/>\n",
       "  <use xlink:href=\"#glyph1-2\" x=\"44\" y=\"73.699219\"/>\n",
       "  <use xlink:href=\"#glyph1-6\" x=\"49.25\" y=\"73.699219\"/>\n",
       "  <use xlink:href=\"#glyph1-12\" x=\"52.25\" y=\"73.699219\"/>\n",
       "  <use xlink:href=\"#glyph1-8\" x=\"58.25\" y=\"73.699219\"/>\n",
       "  <use xlink:href=\"#glyph1-9\" x=\"61.25\" y=\"73.699219\"/>\n",
       "  <use xlink:href=\"#glyph1-12\" x=\"65\" y=\"73.699219\"/>\n",
       "  <use xlink:href=\"#glyph1-11\" x=\"71\" y=\"73.699219\"/>\n",
       "</g>\n",
       "<path style=\"fill:none;stroke-width:1;stroke-linecap:butt;stroke-linejoin:miter;stroke:rgb(74.901961%,74.901961%,74.901961%);stroke-opacity:1;stroke-miterlimit:10;\" d=\"M 7.269531 -136.164062 C 17.667969 -138.65625 55.007812 -147.601562 79.160156 -153.386719 \" transform=\"matrix(1,0,0,1,4,242)\"/>\n",
       "<path style=\"fill-rule:nonzero;fill:rgb(74.901961%,74.901961%,74.901961%);fill-opacity:1;stroke-width:1;stroke-linecap:butt;stroke-linejoin:miter;stroke:rgb(74.901961%,74.901961%,74.901961%);stroke-opacity:1;stroke-miterlimit:10;\" d=\"M 78.644531 -156.863281 L 89.183594 -155.789062 L 80.273438 -150.054688 Z M 78.644531 -156.863281 \" transform=\"matrix(1,0,0,1,4,242)\"/>\n",
       "<g style=\"fill:rgb(0%,0%,0%);fill-opacity:1;\">\n",
       "  <use xlink:href=\"#glyph1-15\" x=\"29\" y=\"91.699219\"/>\n",
       "  <use xlink:href=\"#glyph1-2\" x=\"35\" y=\"91.699219\"/>\n",
       "  <use xlink:href=\"#glyph1-16\" x=\"40.25\" y=\"91.699219\"/>\n",
       "  <use xlink:href=\"#glyph1-2\" x=\"44\" y=\"91.699219\"/>\n",
       "  <use xlink:href=\"#glyph1-6\" x=\"49.25\" y=\"91.699219\"/>\n",
       "  <use xlink:href=\"#glyph1-14\" x=\"52.25\" y=\"91.699219\"/>\n",
       "  <use xlink:href=\"#glyph1-8\" x=\"58.25\" y=\"91.699219\"/>\n",
       "  <use xlink:href=\"#glyph1-9\" x=\"61.25\" y=\"91.699219\"/>\n",
       "  <use xlink:href=\"#glyph1-12\" x=\"65\" y=\"91.699219\"/>\n",
       "  <use xlink:href=\"#glyph1-11\" x=\"71\" y=\"91.699219\"/>\n",
       "</g>\n",
       "<path style=\"fill:none;stroke-width:1;stroke-linecap:butt;stroke-linejoin:miter;stroke:rgb(74.901961%,74.901961%,74.901961%);stroke-opacity:1;stroke-miterlimit:10;\" d=\"M 7.269531 -101.835938 C 17.667969 -99.34375 55.007812 -90.398438 79.160156 -84.613281 \" transform=\"matrix(1,0,0,1,4,242)\"/>\n",
       "<path style=\"fill-rule:nonzero;fill:rgb(74.901961%,74.901961%,74.901961%);fill-opacity:1;stroke-width:1;stroke-linecap:butt;stroke-linejoin:miter;stroke:rgb(74.901961%,74.901961%,74.901961%);stroke-opacity:1;stroke-miterlimit:10;\" d=\"M 80.273438 -87.945312 L 89.183594 -82.210938 L 78.644531 -81.136719 Z M 80.273438 -87.945312 \" transform=\"matrix(1,0,0,1,4,242)\"/>\n",
       "<g style=\"fill:rgb(0%,0%,0%);fill-opacity:1;\">\n",
       "  <use xlink:href=\"#glyph1-15\" x=\"29\" y=\"141.699219\"/>\n",
       "  <use xlink:href=\"#glyph1-2\" x=\"35\" y=\"141.699219\"/>\n",
       "  <use xlink:href=\"#glyph1-16\" x=\"40.25\" y=\"141.699219\"/>\n",
       "  <use xlink:href=\"#glyph1-2\" x=\"44\" y=\"141.699219\"/>\n",
       "  <use xlink:href=\"#glyph1-6\" x=\"49.25\" y=\"141.699219\"/>\n",
       "  <use xlink:href=\"#glyph1-13\" x=\"52.25\" y=\"141.699219\"/>\n",
       "  <use xlink:href=\"#glyph1-8\" x=\"58.25\" y=\"141.699219\"/>\n",
       "  <use xlink:href=\"#glyph1-9\" x=\"61.25\" y=\"141.699219\"/>\n",
       "  <use xlink:href=\"#glyph1-12\" x=\"65\" y=\"141.699219\"/>\n",
       "  <use xlink:href=\"#glyph1-11\" x=\"71\" y=\"141.699219\"/>\n",
       "</g>\n",
       "<path style=\"fill:none;stroke-width:1;stroke-linecap:butt;stroke-linejoin:miter;stroke:rgb(74.901961%,74.901961%,74.901961%);stroke-opacity:1;stroke-miterlimit:10;\" d=\"M 7.269531 -69.789062 C 17.613281 -70.867188 54.625 -74.722656 78.789062 -77.238281 \" transform=\"matrix(1,0,0,1,4,242)\"/>\n",
       "<path style=\"fill-rule:nonzero;fill:rgb(74.901961%,74.901961%,74.901961%);fill-opacity:1;stroke-width:1;stroke-linecap:butt;stroke-linejoin:miter;stroke:rgb(74.901961%,74.901961%,74.901961%);stroke-opacity:1;stroke-miterlimit:10;\" d=\"M 78.535156 -80.730469 L 88.84375 -78.285156 L 79.257812 -73.769531 Z M 78.535156 -80.730469 \" transform=\"matrix(1,0,0,1,4,242)\"/>\n",
       "<g style=\"fill:rgb(0%,0%,0%);fill-opacity:1;\">\n",
       "  <use xlink:href=\"#glyph1-15\" x=\"29\" y=\"168.699219\"/>\n",
       "  <use xlink:href=\"#glyph1-2\" x=\"35\" y=\"168.699219\"/>\n",
       "  <use xlink:href=\"#glyph1-16\" x=\"40.25\" y=\"168.699219\"/>\n",
       "  <use xlink:href=\"#glyph1-2\" x=\"44\" y=\"168.699219\"/>\n",
       "  <use xlink:href=\"#glyph1-6\" x=\"49.25\" y=\"168.699219\"/>\n",
       "  <use xlink:href=\"#glyph1-17\" x=\"52.25\" y=\"168.699219\"/>\n",
       "  <use xlink:href=\"#glyph1-8\" x=\"58.25\" y=\"168.699219\"/>\n",
       "  <use xlink:href=\"#glyph1-9\" x=\"61.25\" y=\"168.699219\"/>\n",
       "  <use xlink:href=\"#glyph1-12\" x=\"65\" y=\"168.699219\"/>\n",
       "  <use xlink:href=\"#glyph1-11\" x=\"71\" y=\"168.699219\"/>\n",
       "</g>\n",
       "<path style=\"fill:none;stroke-width:1;stroke-linecap:butt;stroke-linejoin:miter;stroke:rgb(74.901961%,74.901961%,74.901961%);stroke-opacity:1;stroke-miterlimit:10;\" d=\"M 7.269531 -36.5 C 17.613281 -36.5 54.625 -36.5 78.789062 -36.5 \" transform=\"matrix(1,0,0,1,4,242)\"/>\n",
       "<path style=\"fill-rule:nonzero;fill:rgb(74.901961%,74.901961%,74.901961%);fill-opacity:1;stroke-width:1;stroke-linecap:butt;stroke-linejoin:miter;stroke:rgb(74.901961%,74.901961%,74.901961%);stroke-opacity:1;stroke-miterlimit:10;\" d=\"M 78.84375 -40 L 88.84375 -36.5 L 78.84375 -33 Z M 78.84375 -40 \" transform=\"matrix(1,0,0,1,4,242)\"/>\n",
       "<g style=\"fill:rgb(0%,0%,0%);fill-opacity:1;\">\n",
       "  <use xlink:href=\"#glyph1-15\" x=\"29\" y=\"202.699219\"/>\n",
       "  <use xlink:href=\"#glyph1-2\" x=\"35\" y=\"202.699219\"/>\n",
       "  <use xlink:href=\"#glyph1-16\" x=\"40.25\" y=\"202.699219\"/>\n",
       "  <use xlink:href=\"#glyph1-2\" x=\"44\" y=\"202.699219\"/>\n",
       "  <use xlink:href=\"#glyph1-6\" x=\"49.25\" y=\"202.699219\"/>\n",
       "  <use xlink:href=\"#glyph1-10\" x=\"52.25\" y=\"202.699219\"/>\n",
       "  <use xlink:href=\"#glyph1-8\" x=\"58.25\" y=\"202.699219\"/>\n",
       "  <use xlink:href=\"#glyph1-9\" x=\"61.25\" y=\"202.699219\"/>\n",
       "  <use xlink:href=\"#glyph1-12\" x=\"65\" y=\"202.699219\"/>\n",
       "  <use xlink:href=\"#glyph1-11\" x=\"71\" y=\"202.699219\"/>\n",
       "</g>\n",
       "<path style=\"fill:none;stroke-width:1;stroke-linecap:butt;stroke-linejoin:miter;stroke:rgb(74.901961%,74.901961%,74.901961%);stroke-opacity:1;stroke-miterlimit:10;\" d=\"M 7.269531 -4.453125 C 17.765625 -8.0625 55.730469 -21.109375 79.855469 -29.402344 \" transform=\"matrix(1,0,0,1,4,242)\"/>\n",
       "<path style=\"fill-rule:nonzero;fill:rgb(74.901961%,74.901961%,74.901961%);fill-opacity:1;stroke-width:1;stroke-linecap:butt;stroke-linejoin:miter;stroke:rgb(74.901961%,74.901961%,74.901961%);stroke-opacity:1;stroke-miterlimit:10;\" d=\"M 78.929688 -32.785156 L 89.523438 -32.726562 L 81.203125 -26.164062 Z M 78.929688 -32.785156 \" transform=\"matrix(1,0,0,1,4,242)\"/>\n",
       "<g style=\"fill:rgb(0%,0%,0%);fill-opacity:1;\">\n",
       "  <use xlink:href=\"#glyph1-15\" x=\"29\" y=\"216.699219\"/>\n",
       "  <use xlink:href=\"#glyph1-2\" x=\"35\" y=\"216.699219\"/>\n",
       "  <use xlink:href=\"#glyph1-16\" x=\"40.25\" y=\"216.699219\"/>\n",
       "  <use xlink:href=\"#glyph1-2\" x=\"44\" y=\"216.699219\"/>\n",
       "  <use xlink:href=\"#glyph1-6\" x=\"49.25\" y=\"216.699219\"/>\n",
       "  <use xlink:href=\"#glyph1-18\" x=\"52.25\" y=\"216.699219\"/>\n",
       "  <use xlink:href=\"#glyph1-8\" x=\"58.25\" y=\"216.699219\"/>\n",
       "  <use xlink:href=\"#glyph1-9\" x=\"61.25\" y=\"216.699219\"/>\n",
       "  <use xlink:href=\"#glyph1-12\" x=\"65\" y=\"216.699219\"/>\n",
       "  <use xlink:href=\"#glyph1-11\" x=\"71\" y=\"216.699219\"/>\n",
       "</g>\n",
       "</g>\n",
       "</svg>\n"
      ],
      "text/plain": [
       "<graphviz.graphs.Digraph at 0x7f34480ffe50>"
      ]
     },
     "execution_count": 60,
     "metadata": {},
     "output_type": "execute_result"
    }
   ],
   "source": [
    "DEVICE = 'cuda'\n",
    "BOND_DIM = 16\n",
    "DTYPE = torch.double\n",
    "N_LABELS = 1\n",
    "MODEL_DIR = 'titanic_models'\n",
    "\n",
    "model = TTNModel(features, n_phys=MAP_DIM, bond_dim=BOND_DIM, n_labels=N_LABELS, device=DEVICE, dtype=DTYPE)\n",
    "model.draw()"
   ]
  },
  {
   "cell_type": "code",
   "execution_count": 61,
   "metadata": {},
   "outputs": [
    {
     "name": "stderr",
     "output_type": "stream",
     "text": [
      "ttn unsupervised init: 100%|██████████| 18/18 [00:00<00:00, 464.41it/s, done unsupervised init!]        \n",
      "100%|██████████| 6/6 [00:00<00:00,  9.63it/s, loss=5.95, epoch mean loss=6.48]\n",
      "100%|██████████| 6/6 [00:00<00:00,  9.61it/s, loss=4.8, epoch mean loss=5.25]\n",
      "100%|██████████| 6/6 [00:00<00:00, 10.32it/s, loss=3.84, epoch mean loss=4.21]\n",
      "100%|██████████| 6/6 [00:00<00:00, 10.55it/s, loss=3.05, epoch mean loss=3.36]\n",
      "100%|██████████| 6/6 [00:00<00:00,  8.58it/s, loss=2.4, epoch mean loss=2.66]\n",
      "100%|██████████| 6/6 [00:00<00:00, 10.09it/s, loss=1.89, epoch mean loss=2.09]\n",
      "100%|██████████| 6/6 [00:00<00:00,  7.38it/s, loss=1.48, epoch mean loss=1.64]\n",
      "100%|██████████| 6/6 [00:00<00:00,  8.51it/s, loss=1.15, epoch mean loss=1.28]\n",
      "100%|██████████| 6/6 [00:00<00:00,  8.01it/s, loss=0.9, epoch mean loss=1]5]\n",
      "100%|██████████| 6/6 [00:00<00:00,  9.55it/s, loss=0.703, epoch mean loss=0.782]\n",
      "100%|██████████| 6/6 [00:00<00:00,  8.88it/s, loss=0.552, epoch mean loss=0.613]\n",
      "100%|██████████| 6/6 [00:00<00:00,  8.86it/s, loss=0.436, epoch mean loss=0.483]\n",
      "100%|██████████| 6/6 [00:00<00:00,  8.62it/s, loss=0.348, epoch mean loss=0.385]\n",
      "100%|██████████| 6/6 [00:00<00:00, 10.09it/s, loss=0.281, epoch mean loss=0.31]\n",
      "100%|██████████| 6/6 [00:00<00:00,  9.31it/s, loss=0.232, epoch mean loss=0.255]\n",
      "ttn supervised init:   0%|          | 0/6 [00:09<?, ?it/s, doing epoch 15/15]\n"
     ]
    }
   ],
   "source": [
    "INIT_EPOCHS = 15\n",
    "\n",
    "model.initialize(True, train_dl, class_loss, INIT_EPOCHS)"
   ]
  },
  {
   "cell_type": "code",
   "execution_count": 62,
   "metadata": {},
   "outputs": [
    {
     "name": "stdout",
     "output_type": "stream",
     "text": [
      "(True, 0)\n"
     ]
    },
    {
     "data": {
      "text/plain": [
       "==========================================================================================\n",
       "Layer (type:depth-idx)                   Output Shape              Param #\n",
       "==========================================================================================\n",
       "TTNModel                                 [128, 1]                  832\n",
       "==========================================================================================\n",
       "Total params: 832\n",
       "Trainable params: 832\n",
       "Non-trainable params: 0\n",
       "Total mult-adds (M): 0\n",
       "==========================================================================================\n",
       "Input size (MB): 0.02\n",
       "Forward/backward pass size (MB): 0.00\n",
       "Params size (MB): 0.00\n",
       "Estimated Total Size (MB): 0.02\n",
       "=========================================================================================="
      ]
     },
     "execution_count": 62,
     "metadata": {},
     "output_type": "execute_result"
    }
   ],
   "source": [
    "print(check_correct_init(model))\n",
    "summary(model, input_size=(BATCH_SIZE, features, MAP_DIM), dtypes=[DTYPE], device=DEVICE)"
   ]
  },
  {
   "cell_type": "code",
   "execution_count": 63,
   "metadata": {},
   "outputs": [],
   "source": [
    "LR = 0.02\n",
    "EPOCHS = 80\n",
    "LAMBDA = 0.1\n",
    "SCHEDULER_STEPS = 5\n",
    "\n",
    "\n",
    "model.train()\n",
    "model.to(DEVICE)\n",
    "optimizer = torch.optim.Adam(model.parameters(), lr=LR)\n",
    "schedulers = [torch.optim.lr_scheduler.ExponentialLR(optimizer, 0.9, last_epoch=-1, verbose=False), torch.optim.lr_scheduler.CosineAnnealingLR(optimizer, 10, eta_min=1e-5)]\n",
    "scheduler = schedulers[0]"
   ]
  },
  {
   "cell_type": "code",
   "execution_count": 64,
   "metadata": {},
   "outputs": [
    {
     "name": "stderr",
     "output_type": "stream",
     "text": [
      "epochs:   0%|          | 0/80 [00:00<?, ?it/s]"
     ]
    },
    {
     "name": "stderr",
     "output_type": "stream",
     "text": [
      "100%|██████████| 6/6 [00:00<00:00,  9.94it/s, current loss=0.255, batches -10-0 loss=0, epoch mean loss=0.301]\n",
      "100%|██████████| 6/6 [00:00<00:00, 10.39it/s, current loss=0.175, batches -10-0 loss=0, epoch mean loss=0.204]\n",
      "100%|██████████| 6/6 [00:00<00:00, 10.95it/s, current loss=0.132, batches -10-0 loss=0, epoch mean loss=0.155]\n",
      "100%|██████████| 6/6 [00:00<00:00,  9.89it/s, current loss=0.114, batches -10-0 loss=0, epoch mean loss=0.127]\n",
      "100%|██████████| 6/6 [00:00<00:00,  9.75it/s, current loss=0.0973, batches -10-0 loss=0, epoch mean loss=0.109]\n",
      "100%|██████████| 6/6 [00:00<00:00, 10.18it/s, current loss=0.0866, batches -10-0 loss=0, epoch mean loss=0.0966]\n",
      "100%|██████████| 6/6 [00:00<00:00, 10.08it/s, current loss=0.0838, batches -10-0 loss=0, epoch mean loss=0.0905]\n",
      "100%|██████████| 6/6 [00:00<00:00, 10.29it/s, current loss=0.08, batches -10-0 loss=0, epoch mean loss=0.0869]\n",
      "100%|██████████| 6/6 [00:00<00:00,  9.50it/s, current loss=0.0775, batches -10-0 loss=0, epoch mean loss=0.0842]\n",
      "100%|██████████| 6/6 [00:00<00:00, 11.19it/s, current loss=0.0774, batches -10-0 loss=0, epoch mean loss=0.0829]\n",
      "100%|██████████| 6/6 [00:00<00:00, 11.56it/s, current loss=0.0763, batches -10-0 loss=0, epoch mean loss=0.0821]\n",
      "100%|██████████| 6/6 [00:00<00:00, 11.09it/s, current loss=0.0755, batches -10-0 loss=0, epoch mean loss=0.0813]\n",
      "100%|██████████| 6/6 [00:00<00:00, 10.73it/s, current loss=0.0758, batches -10-0 loss=0, epoch mean loss=0.081]\n",
      "100%|██████████| 6/6 [00:00<00:00, 11.10it/s, current loss=0.0755, batches -10-0 loss=0, epoch mean loss=0.0808]\n",
      "100%|██████████| 6/6 [00:00<00:00, 11.11it/s, current loss=0.0752, batches -10-0 loss=0, epoch mean loss=0.0805]\n",
      "100%|██████████| 6/6 [00:00<00:00, 10.27it/s, current loss=0.0749, batches -10-0 loss=0, epoch mean loss=0.0802]\n",
      "100%|██████████| 6/6 [00:00<00:00,  9.69it/s, current loss=0.0748, batches -10-0 loss=0, epoch mean loss=0.0801]\n",
      "100%|██████████| 6/6 [00:00<00:00, 10.66it/s, current loss=0.0749, batches -10-0 loss=0, epoch mean loss=0.08]\n",
      "100%|██████████| 6/6 [00:00<00:00, 10.41it/s, current loss=0.0748, batches -10-0 loss=0, epoch mean loss=0.0799]\n",
      "100%|██████████| 6/6 [00:00<00:00, 10.27it/s, current loss=0.0748, batches -10-0 loss=0, epoch mean loss=0.0799]\n",
      "100%|██████████| 6/6 [00:00<00:00,  8.73it/s, current loss=0.0744, batches -10-0 loss=0, epoch mean loss=0.0797]\n",
      "100%|██████████| 6/6 [00:00<00:00, 10.39it/s, current loss=0.0744, batches -10-0 loss=0, epoch mean loss=0.0796]\n",
      "100%|██████████| 6/6 [00:00<00:00, 10.40it/s, current loss=0.0745, batches -10-0 loss=0, epoch mean loss=0.0796]\n",
      "100%|██████████| 6/6 [00:00<00:00, 11.49it/s, current loss=0.0744, batches -10-0 loss=0, epoch mean loss=0.0796]\n",
      "100%|██████████| 6/6 [00:00<00:00, 11.13it/s, current loss=0.0744, batches -10-0 loss=0, epoch mean loss=0.0795]\n",
      "100%|██████████| 6/6 [00:00<00:00, 10.56it/s, current loss=0.0741, batches -10-0 loss=0, epoch mean loss=0.0794]\n",
      "100%|██████████| 6/6 [00:00<00:00, 11.25it/s, current loss=0.0742, batches -10-0 loss=0, epoch mean loss=0.0793]\n",
      "100%|██████████| 6/6 [00:00<00:00,  9.75it/s, current loss=0.0742, batches -10-0 loss=0, epoch mean loss=0.0794]\n",
      "100%|██████████| 6/6 [00:00<00:00, 10.10it/s, current loss=0.0741, batches -10-0 loss=0, epoch mean loss=0.0793]\n",
      "100%|██████████| 6/6 [00:00<00:00, 10.17it/s, current loss=0.0742, batches -10-0 loss=0, epoch mean loss=0.0793]\n",
      "100%|██████████| 6/6 [00:00<00:00, 10.87it/s, current loss=0.0739, batches -10-0 loss=0, epoch mean loss=0.0792]\n",
      "100%|██████████| 6/6 [00:00<00:00, 11.31it/s, current loss=0.074, batches -10-0 loss=0, epoch mean loss=0.0792]\n",
      "100%|██████████| 6/6 [00:00<00:00, 11.77it/s, current loss=0.074, batches -10-0 loss=0, epoch mean loss=0.0792]\n",
      "100%|██████████| 6/6 [00:00<00:00, 10.07it/s, current loss=0.074, batches -10-0 loss=0, epoch mean loss=0.0791]\n",
      "100%|██████████| 6/6 [00:00<00:00, 10.99it/s, current loss=0.074, batches -10-0 loss=0, epoch mean loss=0.0791]\n",
      "100%|██████████| 6/6 [00:00<00:00, 11.09it/s, current loss=0.0737, batches -10-0 loss=0, epoch mean loss=0.0791]\n",
      "100%|██████████| 6/6 [00:00<00:00, 11.45it/s, current loss=0.0739, batches -10-0 loss=0, epoch mean loss=0.079]\n",
      "100%|██████████| 6/6 [00:00<00:00,  9.49it/s, current loss=0.0738, batches -10-0 loss=0, epoch mean loss=0.0791]\n",
      "100%|██████████| 6/6 [00:00<00:00, 10.11it/s, current loss=0.0738, batches -10-0 loss=0, epoch mean loss=0.079]\n",
      "100%|██████████| 6/6 [00:00<00:00, 10.27it/s, current loss=0.0739, batches -10-0 loss=0, epoch mean loss=0.079]\n",
      "100%|██████████| 6/6 [00:00<00:00, 10.72it/s, current loss=0.0736, batches -10-0 loss=0, epoch mean loss=0.079]\n",
      "100%|██████████| 6/6 [00:00<00:00, 10.12it/s, current loss=0.0738, batches -10-0 loss=0, epoch mean loss=0.079]\n",
      "100%|██████████| 6/6 [00:00<00:00, 10.13it/s, current loss=0.0737, batches -10-0 loss=0, epoch mean loss=0.0789]\n",
      "100%|██████████| 6/6 [00:00<00:00, 11.05it/s, current loss=0.0737, batches -10-0 loss=0, epoch mean loss=0.0789]\n",
      "100%|██████████| 6/6 [00:00<00:00, 10.23it/s, current loss=0.0737, batches -10-0 loss=0, epoch mean loss=0.0789]\n",
      "100%|██████████| 6/6 [00:00<00:00, 10.02it/s, current loss=0.0735, batches -10-0 loss=0, epoch mean loss=0.0789]\n",
      "100%|██████████| 6/6 [00:00<00:00, 10.22it/s, current loss=0.0736, batches -10-0 loss=0, epoch mean loss=0.0789]\n",
      "100%|██████████| 6/6 [00:00<00:00, 10.81it/s, current loss=0.0736, batches -10-0 loss=0, epoch mean loss=0.0789]\n",
      "100%|██████████| 6/6 [00:00<00:00, 10.64it/s, current loss=0.0736, batches -10-0 loss=0, epoch mean loss=0.0789]\n",
      "100%|██████████| 6/6 [00:00<00:00, 11.00it/s, current loss=0.0736, batches -10-0 loss=0, epoch mean loss=0.0789]\n",
      "100%|██████████| 6/6 [00:00<00:00, 11.31it/s, current loss=0.0735, batches -10-0 loss=0, epoch mean loss=0.0788]\n",
      "100%|██████████| 6/6 [00:00<00:00, 10.01it/s, current loss=0.0735, batches -10-0 loss=0, epoch mean loss=0.0788]\n",
      "100%|██████████| 6/6 [00:00<00:00,  9.59it/s, current loss=0.0735, batches -10-0 loss=0, epoch mean loss=0.0788]\n",
      "100%|██████████| 6/6 [00:00<00:00,  9.61it/s, current loss=0.0735, batches -10-0 loss=0, epoch mean loss=0.0788]\n",
      "100%|██████████| 6/6 [00:00<00:00, 10.09it/s, current loss=0.0735, batches -10-0 loss=0, epoch mean loss=0.0788]\n",
      "100%|██████████| 6/6 [00:00<00:00, 11.12it/s, current loss=0.0734, batches -10-0 loss=0, epoch mean loss=0.0788]\n",
      "100%|██████████| 6/6 [00:00<00:00,  9.70it/s, current loss=0.0734, batches -10-0 loss=0, epoch mean loss=0.0788]\n",
      "100%|██████████| 6/6 [00:00<00:00,  9.68it/s, current loss=0.0734, batches -10-0 loss=0, epoch mean loss=0.0788]\n",
      "100%|██████████| 6/6 [00:00<00:00, 10.00it/s, current loss=0.0734, batches -10-0 loss=0, epoch mean loss=0.0788]\n",
      "100%|██████████| 6/6 [00:00<00:00, 10.42it/s, current loss=0.0734, batches -10-0 loss=0, epoch mean loss=0.0787]\n",
      "100%|██████████| 6/6 [00:00<00:00, 11.26it/s, current loss=0.0733, batches -10-0 loss=0, epoch mean loss=0.0787]\n",
      "100%|██████████| 6/6 [00:00<00:00, 10.71it/s, current loss=0.0734, batches -10-0 loss=0, epoch mean loss=0.0787]\n",
      "100%|██████████| 6/6 [00:00<00:00, 10.43it/s, current loss=0.0733, batches -10-0 loss=0, epoch mean loss=0.0787]\n",
      "100%|██████████| 6/6 [00:00<00:00,  9.99it/s, current loss=0.0734, batches -10-0 loss=0, epoch mean loss=0.0787]\n",
      "100%|██████████| 6/6 [00:00<00:00,  9.86it/s, current loss=0.0734, batches -10-0 loss=0, epoch mean loss=0.0787]\n",
      "100%|██████████| 6/6 [00:00<00:00, 11.36it/s, current loss=0.0733, batches -10-0 loss=0, epoch mean loss=0.0787]\n",
      "100%|██████████| 6/6 [00:00<00:00, 10.37it/s, current loss=0.0733, batches -10-0 loss=0, epoch mean loss=0.0787]\n",
      "100%|██████████| 6/6 [00:00<00:00, 10.28it/s, current loss=0.0733, batches -10-0 loss=0, epoch mean loss=0.0787]\n",
      "100%|██████████| 6/6 [00:00<00:00, 10.06it/s, current loss=0.0733, batches -10-0 loss=0, epoch mean loss=0.0787]\n",
      "100%|██████████| 6/6 [00:00<00:00, 10.23it/s, current loss=0.0733, batches -10-0 loss=0, epoch mean loss=0.0787]\n",
      "100%|██████████| 6/6 [00:00<00:00, 10.30it/s, current loss=0.0732, batches -10-0 loss=0, epoch mean loss=0.0786]\n",
      "100%|██████████| 6/6 [00:00<00:00, 10.83it/s, current loss=0.0733, batches -10-0 loss=0, epoch mean loss=0.0786]\n",
      "100%|██████████| 6/6 [00:00<00:00, 10.79it/s, current loss=0.0732, batches -10-0 loss=0, epoch mean loss=0.0786]\n",
      "100%|██████████| 6/6 [00:00<00:00, 11.31it/s, current loss=0.0732, batches -10-0 loss=0, epoch mean loss=0.0786]\n",
      "100%|██████████| 6/6 [00:00<00:00, 10.17it/s, current loss=0.0733, batches -10-0 loss=0, epoch mean loss=0.0786]\n",
      "100%|██████████| 6/6 [00:00<00:00, 11.79it/s, current loss=0.0732, batches -10-0 loss=0, epoch mean loss=0.0786]\n",
      "100%|██████████| 6/6 [00:00<00:00,  9.56it/s, current loss=0.0732, batches -10-0 loss=0, epoch mean loss=0.0786]\n",
      "100%|██████████| 6/6 [00:00<00:00,  9.89it/s, current loss=0.0732, batches -10-0 loss=0, epoch mean loss=0.0786]\n",
      "100%|██████████| 6/6 [00:00<00:00, 10.43it/s, current loss=0.0732, batches -10-0 loss=0, epoch mean loss=0.0786]\n",
      "100%|██████████| 6/6 [00:00<00:00,  9.42it/s, current loss=0.0732, batches -10-0 loss=0, epoch mean loss=0.0786]\n",
      "epochs: 100%|██████████| 80/80 [01:27<00:00,  1.09s/it]\n"
     ]
    }
   ],
   "source": [
    "\n",
    "tot_loss_history = []\n",
    "now = datetime.now()\n",
    "for epoch in trange(EPOCHS, desc='epochs', position=0):\n",
    "    loss_history = train_one_epoch(model, DEVICE, train_dl, lambda *x: class_loss(*x, l=LAMBDA), optimizer)\n",
    "    tot_loss_history += loss_history\n",
    "    if epoch % SCHEDULER_STEPS == SCHEDULER_STEPS-1:\n",
    "        scheduler.step()\n",
    "\n",
    "    \n",
    "loss_history = np.array(tot_loss_history)"
   ]
  },
  {
   "cell_type": "code",
   "execution_count": 65,
   "metadata": {},
   "outputs": [
    {
     "name": "stderr",
     "output_type": "stream",
     "text": [
      "test: 100%|██████████| 2/2 [00:00<00:00, 413.17it/s]\n",
      "train:   0%|          | 0/6 [00:00<?, ?it/s]"
     ]
    },
    {
     "name": "stderr",
     "output_type": "stream",
     "text": [
      "train: 100%|██████████| 6/6 [00:00<00:00, 10.47it/s]\n"
     ]
    },
    {
     "data": {
      "text/plain": [
       "(0.7676470588235295, 0.7705882352941177)"
      ]
     },
     "execution_count": 65,
     "metadata": {},
     "output_type": "execute_result"
    }
   ],
   "source": [
    "accuracy(model, DEVICE, train_dl, test_dl, DTYPE)"
   ]
  },
  {
   "cell_type": "code",
   "execution_count": 66,
   "metadata": {},
   "outputs": [],
   "source": [
    "torch.save(model.state_dict, MODEL_DIR + f'/trainedmodel_{DATASET}_bd{BOND_DIM}_{MAPPING}_{now.strftime(\"%Y%m%d-%H%M%S\")}.dict')\n",
    "np.save(MODEL_DIR + f'/loss_history_{now.strftime(\"%Y%m%d-%H%M%S\")}.npy', loss_history)"
   ]
  },
  {
   "cell_type": "markdown",
   "metadata": {},
   "source": [
    "### Plots"
   ]
  },
  {
   "cell_type": "code",
   "execution_count": 67,
   "metadata": {},
   "outputs": [
    {
     "data": {
      "image/png": "[encoded data removed]",
      "text/plain": [
       "<Figure size 800x600 with 1 Axes>"
      ]
     },
     "metadata": {},
     "output_type": "display_data"
    }
   ],
   "source": [
    "fig, ax = plt.subplots(1, 1, figsize=(8, 6))\n",
    "\n",
    "ax.plot([loss_history[i*len(train_dl):((i+1)*len(train_dl) if i<EPOCHS-1 else None)].mean() for i in range(EPOCHS)])\n",
    "#ax.set_ylim(0, 0.3)\n",
    "ax.set_xlabel('Epoch', fontsize=FONTSIZE)\n",
    "ax.set_ylabel('Loss', fontsize=FONTSIZE)\n",
    "ax.set_title(F'Training Loss\\n{DATASET}, BD={BOND_DIM}', fontsize=FONTSIZE+2)\n",
    "ax.tick_params(axis='both', which='major', labelsize=FONTSIZE-2)\n",
    "ax.grid(axis='y')\n",
    "\n",
    "ax.hlines(loss_history[(EPOCHS-1)*len(train_dl):].mean(), 0, EPOCHS, colors='r', linestyles='dashed')\n",
    "ax.text(EPOCHS, loss_history[(EPOCHS-1)*len(train_dl):].mean()+0.001, f'{loss_history[(EPOCHS-1)*len(train_dl):].mean():.3f}', fontsize=FONTSIZE-2, color='r', verticalalignment='bottom', horizontalalignment='right')\n",
    "fig.savefig(MODEL_DIR + f'/loss_history_{DATASET}_bd{BOND_DIM}_{MAPPING}_{now.strftime(\"%Y%m%d-%H%M%S\")}.png')"
   ]
  },
  {
   "cell_type": "code",
   "execution_count": 68,
   "metadata": {},
   "outputs": [],
   "source": [
    "def get_predictions(model, device, dl, dtype=torch.complex128, disable_pbar=False):\n",
    "\n",
    "    model.eval()\n",
    "    model.to(device)\n",
    "    predictions = []\n",
    "    with torch.no_grad():\n",
    "        for data in tqdm(dl, total=len(dl), position=0, desc='test', disable=disable_pbar):\n",
    "            images, labels = data\n",
    "            images, labels = images.to(device, dtype=dtype).squeeze(), labels.to(device)\n",
    "            outputs = model(images)\n",
    "            probs = torch.pow(torch.abs(outputs), 2)\n",
    "            #probs = probs / torch.sum(probs)\n",
    "            predictions.append(probs.squeeze().detach().cpu())\n",
    "\n",
    "    return torch.concat(predictions, dim=0)\n",
    "\n",
    "\n",
    "def get_output(model, device, dl, dtype=torch.complex128, disable_pbar=False):\n",
    "\n",
    "    model.eval()\n",
    "    model.to(device)\n",
    "    outputs = []\n",
    "    with torch.no_grad():\n",
    "        for data in tqdm(dl, total=len(dl), position=0, desc='test', disable=disable_pbar):\n",
    "            images, labels = data\n",
    "            images, labels = images.to(device, dtype=dtype).squeeze(), labels.to(device)\n",
    "            outputs.append(model(images).squeeze().detach().cpu())\n",
    "\n",
    "    return torch.concat(outputs, dim=0)"
   ]
  },
  {
   "cell_type": "code",
   "execution_count": 69,
   "metadata": {},
   "outputs": [
    {
     "name": "stderr",
     "output_type": "stream",
     "text": [
      "test:   0%|          | 0/6 [00:00<?, ?it/s]"
     ]
    },
    {
     "name": "stderr",
     "output_type": "stream",
     "text": [
      "test: 100%|██████████| 6/6 [00:00<00:00,  9.55it/s]\n",
      "test: 100%|██████████| 2/2 [00:00<00:00, 516.83it/s]\n"
     ]
    },
    {
     "data": {
      "image/png": "[encoded data removed]",
      "text/plain": [
       "<Figure size 600x500 with 1 Axes>"
      ]
     },
     "metadata": {},
     "output_type": "display_data"
    }
   ],
   "source": [
    "import sys\n",
    "sys.path.insert(0, '../')\n",
    "from images.plot_utils import plot_predictions\n",
    "\n",
    "train_pred = get_predictions(model, DEVICE, train_dl, DTYPE)\n",
    "test_pred = get_predictions(model, DEVICE, test_dl, DTYPE)\n",
    "\n",
    "fig, ax = plot_predictions(train_pred, test_pred, N_LABELS)\n",
    "\n",
    "train_acc, test_acc = accuracy(model, DEVICE, train_dl, test_dl, DTYPE, disable_pbar=True)\n",
    "\n",
    "ax.legend([f'Train\\nacc: {train_acc:.1%}', f'Test\\nacc: {test_acc:.1%}'])\n",
    "ax.set_title(f'Predictions distribution\\n{DATASET}, BD={BOND_DIM}', fontsize=FONTSIZE+2)\n",
    "\n",
    "fig.savefig(MODEL_DIR + f'/predictions_dist_{DATASET}_bd{BOND_DIM}_{MAPPING}_{now.strftime(\"%Y%m%d-%H%M%S\")}.png')"
   ]
  },
  {
   "cell_type": "code",
   "execution_count": 70,
   "metadata": {},
   "outputs": [
    {
     "name": "stderr",
     "output_type": "stream",
     "text": [
      "test:   0%|          | 0/6 [00:00<?, ?it/s]"
     ]
    },
    {
     "name": "stderr",
     "output_type": "stream",
     "text": [
      "test: 100%|██████████| 6/6 [00:00<00:00,  9.38it/s]\n",
      "test: 100%|██████████| 2/2 [00:00<00:00, 553.67it/s]\n"
     ]
    }
   ],
   "source": [
    "# save model output\n",
    "train_out = get_output(model, DEVICE, train_dl, DTYPE)\n",
    "test_out = get_output(model, DEVICE, test_dl, DTYPE)\n",
    "np.save(MODEL_DIR + f'/train_out_{DATASET}_bd{BOND_DIM}_{MAPPING}_{now.strftime(\"%Y%m%d-%H%M%S\")}.npy', train_out)\n",
    "np.save(MODEL_DIR + f'/test_out_{DATASET}_bd{BOND_DIM}_{MAPPING}_{now.strftime(\"%Y%m%d-%H%M%S\")}.npy', test_out)"
   ]
  },
  {
   "cell_type": "markdown",
   "metadata": {},
   "source": [
    "### ROC"
   ]
  },
  {
   "cell_type": "code",
   "execution_count": 71,
   "metadata": {},
   "outputs": [
    {
     "name": "stdout",
     "output_type": "stream",
     "text": [
      "ROC AUC Score: 0.81\n"
     ]
    },
    {
     "data": {
      "image/png": "[encoded data removed]",
      "text/plain": [
       "<Figure size 800x600 with 1 Axes>"
      ]
     },
     "metadata": {},
     "output_type": "display_data"
    }
   ],
   "source": [
    "y_true = torch.cat([y for _, y in test_dl], dim=0).numpy()\n",
    "\n",
    "fpr, tpr, thresholds = roc_curve(y_true, test_pred)\n",
    "auc = roc_auc_score(y_true, test_pred)\n",
    "\n",
    "props = dict(boxstyle='round', facecolor='white', alpha=0.5)\n",
    "\n",
    "fig, ax = plt.subplots(1, 1, figsize=(8, 6))\n",
    "ax.plot(fpr, tpr)\n",
    "ax.plot([0, 1], [0, 1], 'r--')\n",
    "ax.set_xlabel('False Positive Rate', fontsize=FONTSIZE)\n",
    "ax.set_ylabel('True Positive Rate', fontsize=FONTSIZE)\n",
    "ax.set_title(f'ROC Curve\\n{DATASET}, BD={BOND_DIM}', fontsize=FONTSIZE+2)\n",
    "ax.tick_params(axis='both', which='major', labelsize=FONTSIZE)\n",
    "ax.text(0.815, 0.05, f'AUC = {auc:.2f}', fontsize=FONTSIZE-2, bbox=props)\n",
    "ax.grid()\n",
    "fig.savefig(MODEL_DIR + f'/roc_curve_{DATASET}_bd{BOND_DIM}_{MAPPING}_{now.strftime(\"%Y%m%d-%H%M%S\")}.png')\n",
    "\n",
    "print('ROC AUC Score:', round(roc_auc_score(y_true, test_pred), 2))"
   ]
  },
  {
   "cell_type": "code",
   "execution_count": 72,
   "metadata": {},
   "outputs": [
    {
     "name": "stdout",
     "output_type": "stream",
     "text": [
      "[0.67058824 0.68235294 0.58823529 0.6        0.56470588 0.62352941\n",
      " 0.70588235 0.58823529 0.67058824 0.6       ]\n",
      "[0.11764706 0.14117647 0.04705882 0.05882353 0.02352941 0.08235294\n",
      " 0.17647059 0.05882353 0.14117647 0.08235294]\n"
     ]
    },
    {
     "data": {
      "text/plain": [
       "array([0.58461853, 0.54063634, 0.65062164, 0.63368815, 0.7175523 ,\n",
       "       0.61949511, 0.43592662, 0.63718274, 0.5437992 , 0.62687403])"
      ]
     },
     "execution_count": 72,
     "metadata": {},
     "output_type": "execute_result"
    }
   ],
   "source": [
    "best_10 = np.argsort(tpr-fpr)[::-1][:10]\n",
    "\n",
    "print(tpr[best_10], fpr[best_10], sep='\\n')\n",
    "thresholds[best_10]"
   ]
  },
  {
   "cell_type": "code",
   "execution_count": 73,
   "metadata": {},
   "outputs": [],
   "source": [
    "#save model weights\n",
    "np.savez(MODEL_DIR + f'/weights_{DATASET}_bd{BOND_DIM}_{MAPPING}_{now.strftime(\"%Y%m%d-%H%M%S\")}.npz', **{key.name : value.cpu().detach() for key, value in model._TTN__tensor_map.items()})"
   ]
  },
  {
   "cell_type": "code",
   "execution_count": 17,
   "metadata": {},
   "outputs": [],
   "source": [
    "data = []\n",
    "labels = []\n",
    "\n",
    "for x, y in train_dl:\n",
    "    data.append(x)\n",
    "    labels.append(y)\n",
    "\n",
    "for x, y in test_dl:\n",
    "    data.append(x)\n",
    "    labels.append(y)\n",
    "\n",
    "data = torch.cat(data, dim=0)\n",
    "labels = torch.cat(labels, dim=0)\n",
    "\n",
    "np.save(MODEL_DIR + f'/data_{DATASET}_{MAPPING}_{now.strftime(\"%Y%m%d-%H%M%S\")}.npy', data)\n",
    "np.save(MODEL_DIR + f'/labels_{DATASET}_{MAPPING}_{now.strftime(\"%Y%m%d-%H%M%S\")}.npy', labels)"
   ]
  },
  {
   "cell_type": "markdown",
   "metadata": {},
   "source": [
    "## Get weights distribution"
   ]
  },
  {
   "cell_type": "code",
   "execution_count": 162,
   "metadata": {},
   "outputs": [],
   "source": [
    "def get_weights_population(n, dataloader, disable_pbar=False, **kws):\n",
    "    weights_ls = []\n",
    "    DEVICE = 'cuda'\n",
    "    BATCH_SIZE = 64\n",
    "    DTYPE = torch.double\n",
    "    INIT_EPOCHS = 5\n",
    "    LR = 0.05\n",
    "    EPOCHS = 80\n",
    "    SCHEDULER_STEPS = 4\n",
    "    train_dl, test_dl, features = dataloader(batch_size=BATCH_SIZE, **kws)\n",
    "\n",
    "    label_shape = next(iter(train_dl))[1].shape\n",
    "    N_LABELS = 1 if len(label_shape) == 1 else label_shape[1]\n",
    "    \n",
    "    pbar = tqdm(total=n*EPOCHS*len(train_dl), position=0, desc='weights population', leave=True, disable=disable_pbar)\n",
    "    for _ in range(n):        \n",
    "        model = TTNModel(features, bond_dim=BOND_DIM, n_labels=N_LABELS, device=DEVICE, dtype=DTYPE)\n",
    "        model.initialize(True, train_dl, class_loss, INIT_EPOCHS, disable_pbar=True)\n",
    "        model.train()\n",
    "        model.to(DEVICE)\n",
    "        optimizer = torch.optim.Adam(model.parameters(), lr=LR, weight_decay=1e-4)\n",
    "        schedulers = [torch.optim.lr_scheduler.ExponentialLR(optimizer, 0.9, last_epoch=-1, verbose=False), torch.optim.lr_scheduler.CosineAnnealingLR(optimizer, 10, eta_min=1e-5)]\n",
    "        scheduler = schedulers[0]\n",
    "        tot_loss_history = []\n",
    "        for epoch in range(EPOCHS):\n",
    "            loss_history = train_one_epoch(model, DEVICE, train_dl, class_loss, optimizer, pbar=pbar, disable_pbar=disable_pbar)\n",
    "            tot_loss_history += loss_history\n",
    "            if epoch % SCHEDULER_STEPS == SCHEDULER_STEPS-1:\n",
    "                scheduler.step()\n",
    "\n",
    "        loss_history = np.array(tot_loss_history)\n",
    "        print('Accuracy on train and test set:', accuracy(model, DEVICE, train_dl, test_dl, DTYPE, disable_pbar=True))\n",
    "\n",
    "        weights = [tensor.detach().cpu().flatten() for tensor in model.tensors]\n",
    "        weights_ls.append(torch.concat(weights, dim=0))\n",
    "        train_dl, test_dl, h = dataloader(batch_size=BATCH_SIZE, **kws)\n",
    "    return torch.stack(weights_ls)"
   ]
  },
  {
   "cell_type": "code",
   "execution_count": 163,
   "metadata": {},
   "outputs": [
    {
     "name": "stderr",
     "output_type": "stream",
     "text": [
      "weights population:  20%|██        | 1120/5600 [00:45<02:50, 26.26it/s, current loss=0.0179, batches 0-10 loss=0.0884, epoch mean loss=0.0826]"
     ]
    },
    {
     "name": "stdout",
     "output_type": "stream",
     "text": [
      "Accuracy on train and test set: (0.7709832134292566, 0.7751196172248804)\n"
     ]
    },
    {
     "name": "stderr",
     "output_type": "stream",
     "text": [
      "weights population:  40%|████      | 2240/5600 [01:31<02:07, 26.43it/s, current loss=0.00987, batches 0-10 loss=0.0898, epoch mean loss=0.0837]"
     ]
    },
    {
     "name": "stdout",
     "output_type": "stream",
     "text": [
      "Accuracy on train and test set: (0.762589928057554, 0.8038277511961722)\n"
     ]
    },
    {
     "name": "stderr",
     "output_type": "stream",
     "text": [
      "weights population:  60%|██████    | 3360/5600 [02:17<01:24, 26.48it/s, current loss=0.0152, batches 0-10 loss=0.0905, epoch mean loss=0.0824] "
     ]
    },
    {
     "name": "stdout",
     "output_type": "stream",
     "text": [
      "Accuracy on train and test set: (0.7997601918465228, 0.8038277511961722)\n"
     ]
    },
    {
     "name": "stderr",
     "output_type": "stream",
     "text": [
      "weights population:  80%|████████  | 4480/5600 [03:03<00:42, 26.64it/s, current loss=0.0278, batches 0-10 loss=0.0893, epoch mean loss=0.0857]"
     ]
    },
    {
     "name": "stdout",
     "output_type": "stream",
     "text": [
      "Accuracy on train and test set: (0.7805755395683454, 0.7751196172248804)\n"
     ]
    },
    {
     "name": "stderr",
     "output_type": "stream",
     "text": [
      "weights population: 100%|██████████| 5600/5600 [03:50<00:00, 24.31it/s, current loss=0.00934, batches 0-10 loss=0.0808, epoch mean loss=0.08]  "
     ]
    },
    {
     "name": "stdout",
     "output_type": "stream",
     "text": [
      "Accuracy on train and test set: (0.7889688249400479, 0.7464114832535885)\n"
     ]
    },
    {
     "name": "stderr",
     "output_type": "stream",
     "text": [
      "\n"
     ]
    }
   ],
   "source": [
    "BOND_DIM = 10\n",
    "weights = get_weights_population(5, get_titanic_data_loaders)"
   ]
  },
  {
   "cell_type": "code",
   "execution_count": 177,
   "metadata": {},
   "outputs": [
    {
     "data": {
      "image/png": "[encoded data removed]",
      "text/plain": [
       "<Figure size 800x600 with 1 Axes>"
      ]
     },
     "metadata": {},
     "output_type": "display_data"
    }
   ],
   "source": [
    "weights_plt = weights.flatten().numpy()\n",
    "np.save(f'models/weights_{BOND_DIM}_{now.strftime(\"%Y%m%d-%H%M%S\")}.npy', weights.numpy())\n",
    "FS = 16\n",
    "fig, ax = plt.subplots(1, 1, figsize=(8, 6))\n",
    "ax.hist(weights_plt, bins=40)\n",
    "ax.set_xlabel('Weight', fontsize=FS)\n",
    "ax.set_ylabel('Counts', fontsize=FS)\n",
    "ax.set_title('Weights Distribution', fontsize=FS+2)\n",
    "ax.tick_params(axis='both', which='major', labelsize=FS-2)\n",
    "#ax.set_yticklabels(ax.get_yticks(), fontsize=FS-2)\n",
    "\n",
    "fig.savefig(f'models/weight_distribution_{BOND_DIM}_{now.strftime(\"%Y%m%d-%H%M%S\")}.svg')"
   ]
  },
  {
   "cell_type": "code",
   "execution_count": 180,
   "metadata": {},
   "outputs": [
    {
     "name": "stdout",
     "output_type": "stream",
     "text": [
      "min\n",
      "2.1533213614432906e-20\n",
      "max\n",
      "1.068453143754883\n"
     ]
    }
   ],
   "source": [
    "print('min', np.abs(weights.numpy()).min(axis=1).mean(), 'max', np.abs(weights.numpy()).max(axis=1).mean(), sep='\\n')"
   ]
  },
  {
   "cell_type": "markdown",
   "metadata": {},
   "source": [
    "# Quantized model"
   ]
  },
  {
   "cell_type": "code",
   "execution_count": 4,
   "metadata": {},
   "outputs": [],
   "source": [
    "from qtorch import FixedPoint, FloatingPoint\n",
    "from qtorch.quant import Quantizer, fixed_point_quantize\n",
    "from qtorch.optim import OptimLP\n",
    "\n",
    "wl = 16\n",
    "fl = 14\n",
    "\n",
    "forward_num = FixedPoint(wl=wl, fl=fl)\n",
    "backward_num = FixedPoint(wl=wl, fl=fl)\n",
    "\n",
    "# Create a quantizer\n",
    "Q = Quantizer(forward_number=forward_num, backward_number=backward_num,\n",
    "              forward_rounding=\"nearest\", backward_rounding=\"nearest\")\n",
    "\n",
    "MODEL_DIR = 'qmodels'"
   ]
  },
  {
   "cell_type": "code",
   "execution_count": 23,
   "metadata": {},
   "outputs": [
    {
     "data": {
      "text/plain": [
       "tensor([ 0.4990, -0.4990,  0.4990, -0.4990])"
      ]
     },
     "execution_count": 23,
     "metadata": {},
     "output_type": "execute_result"
    }
   ],
   "source": [
    "fixed_point_quantize(torch.tensor([1.2, -2.2, 3.4, -0.8]), 10, 10, rounding='nearest', symmetric=True)"
   ]
  },
  {
   "cell_type": "code",
   "execution_count": 108,
   "metadata": {},
   "outputs": [
    {
     "data": {
      "image/svg+xml": [
       "<?xml version=\"1.0\" encoding=\"UTF-8\"?>\n",
       "<svg xmlns=\"http://www.w3.org/2000/svg\" xmlns:xlink=\"http://www.w3.org/1999/xlink\" width=\"398pt\" height=\"246pt\" viewBox=\"0 0 398 246\" version=\"1.1\">\n",
       "<defs>\n",
       "<g>\n",
       "<symbol overflow=\"visible\" id=\"glyph0-0\">\n",
       "<path style=\"stroke:none;\" d=\"M 0.546875 2 L 0.546875 -8 L 6.046875 -8 L 6.046875 2 Z M 1.171875 1 L 5.4375 1 L 5.4375 -7 L 1.171875 -7 Z M 1.171875 1 \"/>\n",
       "</symbol>\n",
       "<symbol overflow=\"visible\" id=\"glyph0-1\">\n",
       "<path style=\"stroke:none;\" d=\"M 3.5 -1 C 4.050781 -1 4.460938 -1.25 4.734375 -1.75 C 5.003906 -2.25 5.140625 -3 5.140625 -4 C 5.140625 -5.007812 5.003906 -5.757812 4.734375 -6.25 C 4.460938 -6.75 4.050781 -7 3.5 -7 C 2.945312 -7 2.535156 -6.75 2.265625 -6.25 C 1.992188 -5.757812 1.859375 -5.007812 1.859375 -4 C 1.859375 -3 1.992188 -2.25 2.265625 -1.75 C 2.535156 -1.25 2.945312 -1 3.5 -1 Z M 3.5 0 C 2.625 0 1.941406 -0.347656 1.453125 -1.046875 C 0.960938 -1.753906 0.71875 -2.738281 0.71875 -4 C 0.71875 -5.257812 0.960938 -6.238281 1.453125 -6.9375 C 1.941406 -7.644531 2.625 -8 3.5 -8 C 4.363281 -8 5.039062 -7.644531 5.53125 -6.9375 C 6.019531 -6.238281 6.265625 -5.257812 6.265625 -4 C 6.265625 -2.738281 6.019531 -1.753906 5.53125 -1.046875 C 5.039062 -0.347656 4.363281 0 3.5 0 Z M 3.5 0 \"/>\n",
       "</symbol>\n",
       "<symbol overflow=\"visible\" id=\"glyph0-2\">\n",
       "<path style=\"stroke:none;\" d=\"M 1.03125 -0.5 C 1.03125 -0.832031 1.097656 -1 1.234375 -1 C 1.367188 -1 1.539062 -1 1.75 -1 C 1.945312 -1 2.113281 -1 2.25 -1 C 2.394531 -1 2.46875 -0.832031 2.46875 -0.5 C 2.46875 -0.164062 2.394531 0 2.25 0 C 2.113281 0 1.945312 0 1.75 0 C 1.539062 0 1.367188 0 1.234375 0 C 1.097656 0 1.03125 -0.164062 1.03125 -0.5 Z M 1.03125 -0.5 \"/>\n",
       "</symbol>\n",
       "<symbol overflow=\"visible\" id=\"glyph0-3\">\n",
       "<path style=\"stroke:none;\" d=\"M 1.5625 0 L 1.5625 -1 L 2.953125 -1 L 2.953125 -7.265625 L 1.34375 -6.328125 L 1.34375 -7 L 3.296875 -8 L 4.046875 -8 L 4.046875 -1 L 5.4375 -1 L 5.4375 0 Z M 1.5625 0 \"/>\n",
       "</symbol>\n",
       "<symbol overflow=\"visible\" id=\"glyph0-4\">\n",
       "<path style=\"stroke:none;\" d=\"M 1.40625 -6 L 0.8125 -6 L 0.8125 -7 C 1.195312 -7.320312 1.582031 -7.566406 1.96875 -7.734375 C 2.351562 -7.910156 2.734375 -8 3.109375 -8 C 3.941406 -8 4.597656 -7.804688 5.078125 -7.421875 C 5.566406 -7.035156 5.8125 -6.507812 5.8125 -5.84375 C 5.8125 -5.09375 5.257812 -4.195312 4.15625 -3.15625 C 4.070312 -3.082031 4.007812 -3.023438 3.96875 -2.984375 L 1.9375 -1 L 5.296875 -1 L 5.296875 -2 L 5.921875 -2 L 5.921875 0 L 0.75 0 L 0.75 -0.59375 L 3.1875 -3.078125 C 3.71875 -3.535156 4.097656 -3.953125 4.328125 -4.328125 C 4.554688 -4.710938 4.671875 -5.113281 4.671875 -5.53125 C 4.671875 -5.988281 4.53125 -6.347656 4.25 -6.609375 C 3.96875 -6.867188 3.582031 -7 3.09375 -7 C 2.570312 -7 2.171875 -6.914062 1.890625 -6.75 C 1.617188 -6.582031 1.457031 -6.332031 1.40625 -6 Z M 1.40625 -6 \"/>\n",
       "</symbol>\n",
       "<symbol overflow=\"visible\" id=\"glyph0-5\">\n",
       "<path style=\"stroke:none;\" d=\"M 1.0625 -7 C 1.476562 -7.320312 1.878906 -7.566406 2.265625 -7.734375 C 2.648438 -7.910156 3.015625 -8 3.359375 -8 C 4.140625 -8 4.75 -7.84375 5.1875 -7.53125 C 5.632812 -7.226562 5.859375 -6.804688 5.859375 -6.265625 C 5.859375 -5.816406 5.707031 -5.445312 5.40625 -5.15625 C 5.101562 -4.863281 4.671875 -4.664062 4.109375 -4.5625 C 4.765625 -4.46875 5.273438 -4.226562 5.640625 -3.84375 C 6.003906 -3.457031 6.1875 -2.953125 6.1875 -2.328125 C 6.1875 -1.578125 5.929688 -1 5.421875 -0.59375 C 4.921875 -0.195312 4.203125 0 3.265625 0 C 2.835938 0 2.425781 -0.0820312 2.03125 -0.25 C 1.632812 -0.414062 1.238281 -0.664062 0.84375 -1 L 0.84375 -2 L 1.4375 -2 C 1.46875 -1.664062 1.640625 -1.414062 1.953125 -1.25 C 2.265625 -1.082031 2.707031 -1 3.28125 -1 C 3.820312 -1 4.25 -1.125 4.5625 -1.375 C 4.882812 -1.632812 5.046875 -1.988281 5.046875 -2.4375 C 5.046875 -2.945312 4.878906 -3.332031 4.546875 -3.59375 C 4.222656 -3.863281 3.75 -4 3.125 -4 L 2.609375 -4 L 2.609375 -5 L 2.890625 -5 C 3.515625 -5 3.984375 -5.082031 4.296875 -5.25 C 4.609375 -5.425781 4.765625 -5.6875 4.765625 -6.03125 C 4.765625 -6.34375 4.632812 -6.582031 4.375 -6.75 C 4.125 -6.914062 3.753906 -7 3.265625 -7 C 2.785156 -7 2.410156 -6.914062 2.140625 -6.75 C 1.867188 -6.582031 1.710938 -6.332031 1.671875 -6 L 1.0625 -6 Z M 1.0625 -7 \"/>\n",
       "</symbol>\n",
       "<symbol overflow=\"visible\" id=\"glyph1-0\">\n",
       "<path style=\"stroke:none;\" d=\"M 0.453125 2 L 0.453125 -6 L 4.953125 -6 L 4.953125 2 Z M 0.953125 1 L 4.453125 1 L 4.453125 -5 L 0.953125 -5 Z M 0.953125 1 \"/>\n",
       "</symbol>\n",
       "<symbol overflow=\"visible\" id=\"glyph1-1\">\n",
       "<path style=\"stroke:none;\" d=\"M 1.84375 -1 L 2.609375 -1 L 2.609375 0 L 0.265625 0 L 0.265625 -1 L 1.03125 -1 L 1.03125 -7 L 0.265625 -7 L 0.265625 -8 L 1.84375 -8 Z M 1.84375 -1 \"/>\n",
       "</symbol>\n",
       "<symbol overflow=\"visible\" id=\"glyph1-2\">\n",
       "<path style=\"stroke:none;\" d=\"M 3.578125 -1.5 L 3.578125 -2 L 2.546875 -2 C 2.140625 -2 1.835938 -1.957031 1.640625 -1.875 C 1.441406 -1.789062 1.34375 -1.664062 1.34375 -1.5 C 1.34375 -1.34375 1.441406 -1.21875 1.640625 -1.125 C 1.835938 -1.039062 2.109375 -1 2.453125 -1 C 2.785156 -1 3.054688 -1.046875 3.265625 -1.140625 C 3.472656 -1.234375 3.578125 -1.351562 3.578125 -1.5 Z M 4.390625 -2.984375 L 4.390625 -1 L 5.109375 -1 L 5.109375 0 L 3.578125 0 L 3.578125 -1.015625 C 3.398438 -0.671875 3.191406 -0.414062 2.953125 -0.25 C 2.722656 -0.0820312 2.453125 0 2.140625 0 C 1.617188 0 1.207031 -0.132812 0.90625 -0.40625 C 0.601562 -0.675781 0.453125 -1.039062 0.453125 -1.5 C 0.453125 -1.976562 0.625 -2.347656 0.96875 -2.609375 C 1.320312 -2.867188 1.816406 -3 2.453125 -3 L 3.578125 -3 L 3.578125 -4.125 C 3.578125 -4.082031 3.46875 -4.050781 3.25 -4.03125 C 3.039062 -4.007812 2.738281 -4 2.34375 -4 C 2.019531 -4 1.765625 -4.082031 1.578125 -4.25 C 1.390625 -4.414062 1.269531 -4.664062 1.21875 -5 L 0.8125 -5 C 1.09375 -5 1.363281 -5 1.625 -5 C 1.894531 -5 2.15625 -5 2.40625 -5 C 3.050781 -5 3.539062 -4.828125 3.875 -4.484375 C 4.21875 -4.140625 4.390625 -3.640625 4.390625 -2.984375 Z M 4.390625 -2.984375 \"/>\n",
       "</symbol>\n",
       "<symbol overflow=\"visible\" id=\"glyph1-3\">\n",
       "<path style=\"stroke:none;\" d=\"M 1.03125 -1 L 1.03125 -7 L 0.265625 -7 L 0.265625 -8 L 1.84375 -8 L 1.84375 -3.71875 C 2 -4.15625 2.195312 -4.476562 2.4375 -4.6875 C 2.6875 -4.894531 2.992188 -5 3.359375 -5 C 3.929688 -5 4.398438 -4.769531 4.765625 -4.3125 C 5.128906 -3.851562 5.3125 -3.25 5.3125 -2.5 C 5.3125 -1.757812 5.128906 -1.15625 4.765625 -0.6875 C 4.398438 -0.226562 3.929688 0 3.359375 0 C 2.992188 0 2.6875 -0.0976562 2.4375 -0.296875 C 2.195312 -0.492188 2 -0.796875 1.84375 -1.203125 L 1.84375 0 L 0.265625 0 L 0.265625 -1 Z M 1.84375 -2.28125 C 1.84375 -1.863281 1.945312 -1.546875 2.15625 -1.328125 C 2.375 -1.109375 2.691406 -1 3.109375 -1 C 3.515625 -1 3.820312 -1.125 4.03125 -1.375 C 4.25 -1.632812 4.359375 -2.007812 4.359375 -2.5 C 4.359375 -3 4.25 -3.375 4.03125 -3.625 C 3.820312 -3.875 3.515625 -4 3.109375 -4 C 2.691406 -4 2.375 -3.878906 2.15625 -3.640625 C 1.945312 -3.410156 1.84375 -3.078125 1.84375 -2.640625 Z M 1.84375 -2.28125 \"/>\n",
       "</symbol>\n",
       "<symbol overflow=\"visible\" id=\"glyph1-4\">\n",
       "<path style=\"stroke:none;\" d=\"M 4.875 -2 L 1.390625 -2 L 1.390625 -1.953125 C 1.390625 -1.640625 1.507812 -1.398438 1.75 -1.234375 C 1.988281 -1.078125 2.335938 -1 2.796875 -1 C 3.148438 -1 3.441406 -1 3.671875 -1 C 3.898438 -1 4.0625 -1 4.15625 -1 L 4.796875 -1 C 4.671875 -0.664062 4.429688 -0.414062 4.078125 -0.25 C 3.734375 -0.0820312 3.28125 0 2.71875 0 C 2.03125 0 1.476562 -0.226562 1.0625 -0.6875 C 0.65625 -1.144531 0.453125 -1.75 0.453125 -2.5 C 0.453125 -3.25 0.65625 -3.851562 1.0625 -4.3125 C 1.46875 -4.769531 2 -5 2.65625 -5 C 3.363281 -5 3.90625 -4.742188 4.28125 -4.234375 C 4.664062 -3.722656 4.863281 -2.976562 4.875 -2 Z M 3.921875 -3 C 3.898438 -3.332031 3.785156 -3.582031 3.578125 -3.75 C 3.367188 -3.914062 3.0625 -4 2.65625 -4 C 2.289062 -4 2 -3.914062 1.78125 -3.75 C 1.570312 -3.582031 1.441406 -3.332031 1.390625 -3 Z M 3.921875 -3 \"/>\n",
       "</symbol>\n",
       "<symbol overflow=\"visible\" id=\"glyph1-5\">\n",
       "<path style=\"stroke:none;\" d=\"M 1.28125 0 L 1.28125 -1 L 2.421875 -1 L 2.421875 -6.265625 L 1.09375 -5.4375 L 1.09375 -6 L 2.703125 -7 L 3.3125 -7 L 3.3125 -1 L 4.453125 -1 L 4.453125 0 Z M 1.28125 0 \"/>\n",
       "</symbol>\n",
       "<symbol overflow=\"visible\" id=\"glyph1-6\">\n",
       "<path style=\"stroke:none;\" d=\"M 0.84375 -0.5 C 0.84375 -0.832031 0.898438 -1 1.015625 -1 C 1.128906 -1 1.269531 -1 1.4375 -1 C 1.59375 -1 1.726562 -1 1.84375 -1 C 1.957031 -1 2.015625 -0.832031 2.015625 -0.5 C 2.015625 -0.164062 1.957031 0 1.84375 0 C 1.726562 0 1.59375 0 1.4375 0 C 1.269531 0 1.128906 0 1.015625 0 C 0.898438 0 0.84375 -0.164062 0.84375 -0.5 Z M 0.84375 -0.5 \"/>\n",
       "</symbol>\n",
       "<symbol overflow=\"visible\" id=\"glyph1-7\">\n",
       "<path style=\"stroke:none;\" d=\"M 2.859375 -1 C 3.304688 -1 3.640625 -1.207031 3.859375 -1.625 C 4.085938 -2.039062 4.203125 -2.664062 4.203125 -3.5 C 4.203125 -4.332031 4.085938 -4.957031 3.859375 -5.375 C 3.640625 -5.789062 3.304688 -6 2.859375 -6 C 2.410156 -6 2.070312 -5.789062 1.84375 -5.375 C 1.625 -4.957031 1.515625 -4.332031 1.515625 -3.5 C 1.515625 -2.664062 1.625 -2.039062 1.84375 -1.625 C 2.070312 -1.207031 2.410156 -1 2.859375 -1 Z M 2.859375 0 C 2.148438 0 1.59375 -0.304688 1.1875 -0.921875 C 0.789062 -1.535156 0.59375 -2.394531 0.59375 -3.5 C 0.59375 -4.601562 0.789062 -5.460938 1.1875 -6.078125 C 1.59375 -6.691406 2.148438 -7 2.859375 -7 C 3.578125 -7 4.132812 -6.691406 4.53125 -6.078125 C 4.925781 -5.460938 5.125 -4.601562 5.125 -3.5 C 5.125 -2.394531 4.925781 -1.535156 4.53125 -0.921875 C 4.132812 -0.304688 3.578125 0 2.859375 0 Z M 2.859375 0 \"/>\n",
       "</symbol>\n",
       "<symbol overflow=\"visible\" id=\"glyph1-8\">\n",
       "<path style=\"stroke:none;\" d=\"\"/>\n",
       "</symbol>\n",
       "<symbol overflow=\"visible\" id=\"glyph1-9\">\n",
       "<path style=\"stroke:none;\" d=\"M 0.78125 -8 L 2.8125 -8 L 2.8125 -7 L 1.609375 -7 L 1.609375 -1 L 2.8125 -1 L 2.8125 0 L 0.78125 0 Z M 0.78125 -8 \"/>\n",
       "</symbol>\n",
       "<symbol overflow=\"visible\" id=\"glyph1-10\">\n",
       "<path style=\"stroke:none;\" d=\"M 2.953125 -1 C 3.359375 -1 3.671875 -1.082031 3.890625 -1.25 C 4.117188 -1.425781 4.234375 -1.675781 4.234375 -2 C 4.234375 -2.320312 4.117188 -2.566406 3.890625 -2.734375 C 3.671875 -2.910156 3.359375 -3 2.953125 -3 C 2.523438 -3 2.203125 -2.914062 1.984375 -2.75 C 1.765625 -2.582031 1.65625 -2.34375 1.65625 -2.03125 C 1.65625 -1.695312 1.765625 -1.441406 1.984375 -1.265625 C 2.210938 -1.085938 2.535156 -1 2.953125 -1 Z M 1.515625 -2.875 C 1.710938 -3.25 1.9375 -3.53125 2.1875 -3.71875 C 2.4375 -3.90625 2.722656 -4 3.046875 -4 C 3.691406 -4 4.203125 -3.816406 4.578125 -3.453125 C 4.960938 -3.097656 5.15625 -2.613281 5.15625 -2 C 5.15625 -1.394531 4.953125 -0.910156 4.546875 -0.546875 C 4.140625 -0.179688 3.59375 0 2.90625 0 C 2.164062 0 1.597656 -0.28125 1.203125 -0.84375 C 0.804688 -1.414062 0.609375 -2.226562 0.609375 -3.28125 C 0.609375 -4.46875 0.84375 -5.382812 1.3125 -6.03125 C 1.78125 -6.675781 2.445312 -7 3.3125 -7 C 3.539062 -7 3.78125 -6.914062 4.03125 -6.75 C 4.28125 -6.582031 4.539062 -6.332031 4.8125 -6 L 4.8125 -5 L 4.3125 -5 C 4.28125 -5.320312 4.164062 -5.566406 3.96875 -5.734375 C 3.78125 -5.910156 3.523438 -6 3.203125 -6 C 2.640625 -6 2.21875 -5.742188 1.9375 -5.234375 C 1.664062 -4.722656 1.523438 -3.9375 1.515625 -2.875 Z M 1.515625 -2.875 \"/>\n",
       "</symbol>\n",
       "<symbol overflow=\"visible\" id=\"glyph1-11\">\n",
       "<path style=\"stroke:none;\" d=\"M 2.734375 -8 L 2.734375 0 L 0.6875 0 L 0.6875 -1 L 1.90625 -1 L 1.90625 -7 L 0.6875 -7 L 0.6875 -8 Z M 2.734375 -8 \"/>\n",
       "</symbol>\n",
       "<symbol overflow=\"visible\" id=\"glyph1-12\">\n",
       "<path style=\"stroke:none;\" d=\"M 1.15625 -5 L 0.65625 -5 L 0.65625 -6 C 0.96875 -6.320312 1.28125 -6.566406 1.59375 -6.734375 C 1.914062 -6.910156 2.226562 -7 2.53125 -7 C 3.21875 -7 3.757812 -6.832031 4.15625 -6.5 C 4.550781 -6.175781 4.75 -5.734375 4.75 -5.171875 C 4.75 -4.535156 4.300781 -3.773438 3.40625 -2.890625 C 3.332031 -2.816406 3.28125 -2.765625 3.25 -2.734375 L 1.59375 -1 L 4.328125 -1 L 4.328125 -2 L 4.84375 -2 L 4.84375 0 L 0.609375 0 L 0.609375 -0.546875 L 2.609375 -2.8125 C 3.046875 -3.1875 3.359375 -3.523438 3.546875 -3.828125 C 3.734375 -4.140625 3.828125 -4.46875 3.828125 -4.8125 C 3.828125 -5.1875 3.710938 -5.476562 3.484375 -5.6875 C 3.253906 -5.894531 2.9375 -6 2.53125 -6 C 2.113281 -6 1.789062 -5.914062 1.5625 -5.75 C 1.332031 -5.582031 1.195312 -5.332031 1.15625 -5 Z M 1.15625 -5 \"/>\n",
       "</symbol>\n",
       "<symbol overflow=\"visible\" id=\"glyph1-13\">\n",
       "<path style=\"stroke:none;\" d=\"M 3.140625 -3 L 3.140625 -6.125 L 0.90625 -3 Z M 5.078125 0 L 2.09375 0 L 2.09375 -1 L 3.140625 -1 L 3.140625 -2 L 0.28125 -2 L 0.28125 -2.484375 L 3.140625 -7 L 4.015625 -7 L 4.015625 -3 L 5.28125 -3 L 5.28125 -2 L 4.015625 -2 L 4.015625 -1 L 5.078125 -1 Z M 5.078125 0 \"/>\n",
       "</symbol>\n",
       "<symbol overflow=\"visible\" id=\"glyph1-14\">\n",
       "<path style=\"stroke:none;\" d=\"M 0.875 -6 C 1.21875 -6.320312 1.546875 -6.566406 1.859375 -6.734375 C 2.179688 -6.910156 2.476562 -7 2.75 -7 C 3.394531 -7 3.894531 -6.84375 4.25 -6.53125 C 4.613281 -6.226562 4.796875 -5.804688 4.796875 -5.265625 C 4.796875 -4.816406 4.671875 -4.445312 4.421875 -4.15625 C 4.171875 -3.863281 3.816406 -3.664062 3.359375 -3.5625 C 3.898438 -3.488281 4.316406 -3.300781 4.609375 -3 C 4.910156 -2.695312 5.0625 -2.304688 5.0625 -1.828125 C 5.0625 -1.234375 4.851562 -0.78125 4.4375 -0.46875 C 4.03125 -0.15625 3.441406 0 2.671875 0 C 2.328125 0 1.988281 -0.0820312 1.65625 -0.25 C 1.332031 -0.414062 1.007812 -0.664062 0.6875 -1 L 0.6875 -2 L 1.171875 -2 C 1.203125 -1.664062 1.34375 -1.414062 1.59375 -1.25 C 1.851562 -1.082031 2.210938 -1 2.671875 -1 C 3.117188 -1 3.472656 -1.082031 3.734375 -1.25 C 3.992188 -1.425781 4.125 -1.664062 4.125 -1.96875 C 4.125 -2.300781 3.988281 -2.554688 3.71875 -2.734375 C 3.457031 -2.910156 3.070312 -3 2.5625 -3 L 2.140625 -3 L 2.140625 -4 L 2.359375 -4 C 2.867188 -4 3.25 -4.082031 3.5 -4.25 C 3.757812 -4.425781 3.890625 -4.6875 3.890625 -5.03125 C 3.890625 -5.34375 3.785156 -5.582031 3.578125 -5.75 C 3.367188 -5.914062 3.066406 -6 2.671875 -6 C 2.273438 -6 1.96875 -5.914062 1.75 -5.75 C 1.53125 -5.582031 1.398438 -5.332031 1.359375 -5 L 0.875 -5 Z M 0.875 -6 \"/>\n",
       "</symbol>\n",
       "<symbol overflow=\"visible\" id=\"glyph1-15\">\n",
       "<path style=\"stroke:none;\" d=\"M 4.71875 -1 L 5.5 -1 L 5.5 0 L 3.921875 0 L 3.921875 -1.203125 C 3.765625 -0.796875 3.5625 -0.492188 3.3125 -0.296875 C 3.070312 -0.0976562 2.769531 0 2.40625 0 C 1.832031 0 1.363281 -0.226562 1 -0.6875 C 0.632812 -1.15625 0.453125 -1.757812 0.453125 -2.5 C 0.453125 -3.25 0.632812 -3.851562 1 -4.3125 C 1.363281 -4.769531 1.832031 -5 2.40625 -5 C 2.769531 -5 3.070312 -4.894531 3.3125 -4.6875 C 3.5625 -4.476562 3.765625 -4.15625 3.921875 -3.71875 L 3.921875 -7 L 3.15625 -7 L 3.15625 -8 L 4.71875 -8 Z M 3.921875 -2.28125 L 3.921875 -2.640625 C 3.921875 -3.078125 3.8125 -3.410156 3.59375 -3.640625 C 3.382812 -3.878906 3.070312 -4 2.65625 -4 C 2.238281 -4 1.921875 -3.875 1.703125 -3.625 C 1.492188 -3.375 1.390625 -3 1.390625 -2.5 C 1.390625 -2.007812 1.492188 -1.632812 1.703125 -1.375 C 1.921875 -1.125 2.238281 -1 2.65625 -1 C 3.070312 -1 3.382812 -1.109375 3.59375 -1.328125 C 3.8125 -1.546875 3.921875 -1.863281 3.921875 -2.28125 Z M 3.921875 -2.28125 \"/>\n",
       "</symbol>\n",
       "<symbol overflow=\"visible\" id=\"glyph1-16\">\n",
       "<path style=\"stroke:none;\" d=\"M 0.96875 -4 L 0.265625 -4 L 0.265625 -5 L 0.96875 -5 L 0.96875 -6 L 1.78125 -6 L 1.78125 -5 L 3.3125 -5 L 3.3125 -4 L 1.78125 -4 L 1.78125 -2.09375 C 1.78125 -1.625 1.816406 -1.320312 1.890625 -1.1875 C 1.972656 -1.0625 2.113281 -1 2.3125 -1 C 2.53125 -1 2.6875 -1.078125 2.78125 -1.234375 C 2.875 -1.390625 2.925781 -1.644531 2.9375 -2 L 3.546875 -2 C 3.523438 -1.300781 3.410156 -0.789062 3.203125 -0.46875 C 2.992188 -0.15625 2.675781 0 2.25 0 C 1.78125 0 1.445312 -0.15625 1.25 -0.46875 C 1.0625 -0.789062 0.96875 -1.332031 0.96875 -2.09375 Z M 0.96875 -4 \"/>\n",
       "</symbol>\n",
       "<symbol overflow=\"visible\" id=\"glyph1-17\">\n",
       "<path style=\"stroke:none;\" d=\"M 4.53125 -7 L 4.53125 -6 L 1.515625 -6 L 1.515625 -3.265625 C 1.671875 -3.503906 1.847656 -3.6875 2.046875 -3.8125 C 2.253906 -3.9375 2.484375 -4 2.734375 -4 C 3.441406 -4 4 -3.820312 4.40625 -3.46875 C 4.820312 -3.113281 5.03125 -2.625 5.03125 -2 C 5.03125 -1.375 4.820312 -0.882812 4.40625 -0.53125 C 3.988281 -0.175781 3.40625 0 2.65625 0 C 2.363281 0 2.054688 -0.0820312 1.734375 -0.25 C 1.421875 -0.414062 1.097656 -0.664062 0.765625 -1 L 0.765625 -2 L 1.265625 -2 C 1.296875 -1.675781 1.425781 -1.425781 1.65625 -1.25 C 1.894531 -1.082031 2.234375 -1 2.671875 -1 C 3.128906 -1 3.484375 -1.082031 3.734375 -1.25 C 3.984375 -1.425781 4.109375 -1.675781 4.109375 -2 C 4.109375 -2.320312 3.984375 -2.566406 3.734375 -2.734375 C 3.484375 -2.910156 3.128906 -3 2.671875 -3 C 2.398438 -3 2.164062 -3 1.96875 -3 C 1.769531 -3 1.59375 -3 1.4375 -3 L 1.0625 -3 L 1.0625 -7 Z M 4.53125 -7 \"/>\n",
       "</symbol>\n",
       "<symbol overflow=\"visible\" id=\"glyph1-18\">\n",
       "<path style=\"stroke:none;\" d=\"M 5.078125 -6.515625 L 2.515625 0 L 1.859375 0 L 4.296875 -6 L 1.265625 -6 L 1.265625 -5.171875 L 0.75 -5.171875 L 0.75 -7 L 5.078125 -7 Z M 5.078125 -6.515625 \"/>\n",
       "</symbol>\n",
       "</g>\n",
       "</defs>\n",
       "<g id=\"surface1\">\n",
       "<path style=\"fill-rule:nonzero;fill:rgb(25.490196%,26.666667%,52.941176%);fill-opacity:1;stroke-width:4;stroke-linecap:butt;stroke-linejoin:miter;stroke:rgb(20.392157%,21.176471%,42.352941%);stroke-opacity:1;stroke-miterlimit:10;\" d=\"M 306 -124.5 C 306 -117.597656 300.402344 -112 293.5 -112 C 286.597656 -112 281 -117.597656 281 -124.5 C 281 -131.402344 286.597656 -137 293.5 -137 C 300.402344 -137 306 -131.402344 306 -124.5 \" transform=\"matrix(1,0,0,1,4,242)\"/>\n",
       "<g style=\"fill:rgb(0%,0%,0%);fill-opacity:1;\">\n",
       "  <use xlink:href=\"#glyph0-1\" x=\"288.5\" y=\"120.300781\"/>\n",
       "  <use xlink:href=\"#glyph0-2\" x=\"295.25\" y=\"120.300781\"/>\n",
       "  <use xlink:href=\"#glyph0-1\" x=\"299\" y=\"120.300781\"/>\n",
       "</g>\n",
       "<path style=\"fill:none;stroke-width:1;stroke-linecap:butt;stroke-linejoin:miter;stroke:rgb(74.901961%,74.901961%,74.901961%);stroke-opacity:1;stroke-miterlimit:10;\" d=\"M 306.25 -124.5 C 318.792969 -124.5 338.957031 -124.5 354.472656 -124.5 \" transform=\"matrix(1,0,0,1,4,242)\"/>\n",
       "<path style=\"fill-rule:nonzero;fill:rgb(74.901961%,74.901961%,74.901961%);fill-opacity:1;stroke-width:1;stroke-linecap:butt;stroke-linejoin:miter;stroke:rgb(74.901961%,74.901961%,74.901961%);stroke-opacity:1;stroke-miterlimit:10;\" d=\"M 354.773438 -128 L 364.773438 -124.5 L 354.773438 -121 Z M 354.773438 -128 \" transform=\"matrix(1,0,0,1,4,242)\"/>\n",
       "<g style=\"fill:rgb(0%,0%,0%);fill-opacity:1;\">\n",
       "  <use xlink:href=\"#glyph1-1\" x=\"328\" y=\"114.699219\"/>\n",
       "  <use xlink:href=\"#glyph1-2\" x=\"331\" y=\"114.699219\"/>\n",
       "  <use xlink:href=\"#glyph1-3\" x=\"336.25\" y=\"114.699219\"/>\n",
       "  <use xlink:href=\"#glyph1-4\" x=\"342.25\" y=\"114.699219\"/>\n",
       "  <use xlink:href=\"#glyph1-1\" x=\"347.5\" y=\"114.699219\"/>\n",
       "</g>\n",
       "<path style=\"fill-rule:nonzero;fill:rgb(13.333333%,65.882353%,51.764706%);fill-opacity:1;stroke-width:4;stroke-linecap:butt;stroke-linejoin:miter;stroke:rgb(10.588235%,52.54902%,41.568627%);stroke-opacity:1;stroke-miterlimit:10;\" d=\"M 207 -158.5 C 207 -151.597656 201.402344 -146 194.5 -146 C 187.597656 -146 182 -151.597656 182 -158.5 C 182 -165.402344 187.597656 -171 194.5 -171 C 201.402344 -171 207 -165.402344 207 -158.5 \" transform=\"matrix(1,0,0,1,4,242)\"/>\n",
       "<g style=\"fill:rgb(0%,0%,0%);fill-opacity:1;\">\n",
       "  <use xlink:href=\"#glyph0-3\" x=\"189.5\" y=\"86.300781\"/>\n",
       "  <use xlink:href=\"#glyph0-2\" x=\"196.25\" y=\"86.300781\"/>\n",
       "  <use xlink:href=\"#glyph0-1\" x=\"200\" y=\"86.300781\"/>\n",
       "</g>\n",
       "<path style=\"fill:none;stroke-width:1;stroke-linecap:butt;stroke-linejoin:miter;stroke:rgb(74.901961%,74.901961%,74.901961%);stroke-opacity:1;stroke-miterlimit:10;\" d=\"M 206.628906 -154.601562 C 222.488281 -149.039062 251.878906 -138.738281 271.808594 -131.753906 \" transform=\"matrix(1,0,0,1,4,242)\"/>\n",
       "<path style=\"fill-rule:nonzero;fill:rgb(74.901961%,74.901961%,74.901961%);fill-opacity:1;stroke-width:1;stroke-linecap:butt;stroke-linejoin:miter;stroke:rgb(74.901961%,74.901961%,74.901961%);stroke-opacity:1;stroke-miterlimit:10;\" d=\"M 273.222656 -134.964844 L 281.503906 -128.355469 L 270.90625 -128.359375 Z M 273.222656 -134.964844 \" transform=\"matrix(1,0,0,1,4,242)\"/>\n",
       "<g style=\"fill:rgb(0%,0%,0%);fill-opacity:1;\">\n",
       "  <use xlink:href=\"#glyph1-5\" x=\"229\" y=\"91.699219\"/>\n",
       "  <use xlink:href=\"#glyph1-6\" x=\"235\" y=\"91.699219\"/>\n",
       "  <use xlink:href=\"#glyph1-7\" x=\"238\" y=\"91.699219\"/>\n",
       "  <use xlink:href=\"#glyph1-8\" x=\"244\" y=\"91.699219\"/>\n",
       "  <use xlink:href=\"#glyph1-9\" x=\"247\" y=\"91.699219\"/>\n",
       "  <use xlink:href=\"#glyph1-5\" x=\"250.75\" y=\"91.699219\"/>\n",
       "  <use xlink:href=\"#glyph1-10\" x=\"256.75\" y=\"91.699219\"/>\n",
       "  <use xlink:href=\"#glyph1-11\" x=\"262.75\" y=\"91.699219\"/>\n",
       "</g>\n",
       "<path style=\"fill-rule:nonzero;fill:rgb(13.333333%,65.882353%,51.764706%);fill-opacity:1;stroke-width:4;stroke-linecap:butt;stroke-linejoin:miter;stroke:rgb(10.588235%,52.54902%,41.568627%);stroke-opacity:1;stroke-miterlimit:10;\" d=\"M 207 -79.5 C 207 -72.597656 201.402344 -67 194.5 -67 C 187.597656 -67 182 -72.597656 182 -79.5 C 182 -86.402344 187.597656 -92 194.5 -92 C 201.402344 -92 207 -86.402344 207 -79.5 \" transform=\"matrix(1,0,0,1,4,242)\"/>\n",
       "<g style=\"fill:rgb(0%,0%,0%);fill-opacity:1;\">\n",
       "  <use xlink:href=\"#glyph0-3\" x=\"189.5\" y=\"165.300781\"/>\n",
       "  <use xlink:href=\"#glyph0-2\" x=\"196.25\" y=\"165.300781\"/>\n",
       "  <use xlink:href=\"#glyph0-3\" x=\"200\" y=\"165.300781\"/>\n",
       "</g>\n",
       "<path style=\"fill:none;stroke-width:1;stroke-linecap:butt;stroke-linejoin:miter;stroke:rgb(74.901961%,74.901961%,74.901961%);stroke-opacity:1;stroke-miterlimit:10;\" d=\"M 206.25 -84.488281 C 222.203125 -91.886719 252.40625 -105.902344 272.5 -115.222656 \" transform=\"matrix(1,0,0,1,4,242)\"/>\n",
       "<path style=\"fill-rule:nonzero;fill:rgb(74.901961%,74.901961%,74.901961%);fill-opacity:1;stroke-width:1;stroke-linecap:butt;stroke-linejoin:miter;stroke:rgb(74.901961%,74.901961%,74.901961%);stroke-opacity:1;stroke-miterlimit:10;\" d=\"M 271.15625 -118.457031 L 281.699219 -119.488281 L 274.101562 -112.105469 Z M 271.15625 -118.457031 \" transform=\"matrix(1,0,0,1,4,242)\"/>\n",
       "<g style=\"fill:rgb(0%,0%,0%);fill-opacity:1;\">\n",
       "  <use xlink:href=\"#glyph1-5\" x=\"229\" y=\"129.699219\"/>\n",
       "  <use xlink:href=\"#glyph1-6\" x=\"235\" y=\"129.699219\"/>\n",
       "  <use xlink:href=\"#glyph1-5\" x=\"238\" y=\"129.699219\"/>\n",
       "  <use xlink:href=\"#glyph1-8\" x=\"244\" y=\"129.699219\"/>\n",
       "  <use xlink:href=\"#glyph1-9\" x=\"247\" y=\"129.699219\"/>\n",
       "  <use xlink:href=\"#glyph1-5\" x=\"250.75\" y=\"129.699219\"/>\n",
       "  <use xlink:href=\"#glyph1-10\" x=\"256.75\" y=\"129.699219\"/>\n",
       "  <use xlink:href=\"#glyph1-11\" x=\"262.75\" y=\"129.699219\"/>\n",
       "</g>\n",
       "<path style=\"fill-rule:nonzero;fill:rgb(99.215686%,90.588235%,14.509804%);fill-opacity:1;stroke-width:4;stroke-linecap:butt;stroke-linejoin:miter;stroke:rgb(90.196078%,81.176471%,0.784314%);stroke-opacity:1;stroke-miterlimit:10;\" d=\"M 114 -201.5 C 114 -194.597656 108.402344 -189 101.5 -189 C 94.597656 -189 89 -194.597656 89 -201.5 C 89 -208.402344 94.597656 -214 101.5 -214 C 108.402344 -214 114 -208.402344 114 -201.5 \" transform=\"matrix(1,0,0,1,4,242)\"/>\n",
       "<g style=\"fill:rgb(0%,0%,0%);fill-opacity:1;\">\n",
       "  <use xlink:href=\"#glyph0-4\" x=\"96.5\" y=\"43.300781\"/>\n",
       "  <use xlink:href=\"#glyph0-2\" x=\"103.25\" y=\"43.300781\"/>\n",
       "  <use xlink:href=\"#glyph0-1\" x=\"107\" y=\"43.300781\"/>\n",
       "</g>\n",
       "<path style=\"fill:none;stroke-width:1;stroke-linecap:butt;stroke-linejoin:miter;stroke:rgb(74.901961%,74.901961%,74.901961%);stroke-opacity:1;stroke-miterlimit:10;\" d=\"M 113.296875 -196.398438 C 128.152344 -189.378906 155.164062 -176.617188 173.703125 -167.855469 \" transform=\"matrix(1,0,0,1,4,242)\"/>\n",
       "<path style=\"fill-rule:nonzero;fill:rgb(74.901961%,74.901961%,74.901961%);fill-opacity:1;stroke-width:1;stroke-linecap:butt;stroke-linejoin:miter;stroke:rgb(74.901961%,74.901961%,74.901961%);stroke-opacity:1;stroke-miterlimit:10;\" d=\"M 175.453125 -170.898438 L 183 -163.460938 L 172.460938 -164.570312 Z M 175.453125 -170.898438 \" transform=\"matrix(1,0,0,1,4,242)\"/>\n",
       "<g style=\"fill:rgb(0%,0%,0%);fill-opacity:1;\">\n",
       "  <use xlink:href=\"#glyph1-12\" x=\"136\" y=\"52.699219\"/>\n",
       "  <use xlink:href=\"#glyph1-6\" x=\"142\" y=\"52.699219\"/>\n",
       "  <use xlink:href=\"#glyph1-7\" x=\"145\" y=\"52.699219\"/>\n",
       "  <use xlink:href=\"#glyph1-8\" x=\"151\" y=\"52.699219\"/>\n",
       "  <use xlink:href=\"#glyph1-9\" x=\"154\" y=\"52.699219\"/>\n",
       "  <use xlink:href=\"#glyph1-13\" x=\"157.75\" y=\"52.699219\"/>\n",
       "  <use xlink:href=\"#glyph1-11\" x=\"163.75\" y=\"52.699219\"/>\n",
       "</g>\n",
       "<path style=\"fill-rule:nonzero;fill:rgb(99.215686%,90.588235%,14.509804%);fill-opacity:1;stroke-width:4;stroke-linecap:butt;stroke-linejoin:miter;stroke:rgb(90.196078%,81.176471%,0.784314%);stroke-opacity:1;stroke-miterlimit:10;\" d=\"M 114 -158.5 C 114 -151.597656 108.402344 -146 101.5 -146 C 94.597656 -146 89 -151.597656 89 -158.5 C 89 -165.402344 94.597656 -171 101.5 -171 C 108.402344 -171 114 -165.402344 114 -158.5 \" transform=\"matrix(1,0,0,1,4,242)\"/>\n",
       "<g style=\"fill:rgb(0%,0%,0%);fill-opacity:1;\">\n",
       "  <use xlink:href=\"#glyph0-4\" x=\"96.5\" y=\"86.300781\"/>\n",
       "  <use xlink:href=\"#glyph0-2\" x=\"103.25\" y=\"86.300781\"/>\n",
       "  <use xlink:href=\"#glyph0-3\" x=\"107\" y=\"86.300781\"/>\n",
       "</g>\n",
       "<path style=\"fill:none;stroke-width:1;stroke-linecap:butt;stroke-linejoin:miter;stroke:rgb(74.901961%,74.901961%,74.901961%);stroke-opacity:1;stroke-miterlimit:10;\" d=\"M 114.023438 -158.5 C 128.441406 -158.5 153.429688 -158.5 171.546875 -158.5 \" transform=\"matrix(1,0,0,1,4,242)\"/>\n",
       "<path style=\"fill-rule:nonzero;fill:rgb(74.901961%,74.901961%,74.901961%);fill-opacity:1;stroke-width:1;stroke-linecap:butt;stroke-linejoin:miter;stroke:rgb(74.901961%,74.901961%,74.901961%);stroke-opacity:1;stroke-miterlimit:10;\" d=\"M 171.78125 -162 L 181.78125 -158.5 L 171.78125 -155 Z M 171.78125 -162 \" transform=\"matrix(1,0,0,1,4,242)\"/>\n",
       "<g style=\"fill:rgb(0%,0%,0%);fill-opacity:1;\">\n",
       "  <use xlink:href=\"#glyph1-12\" x=\"136\" y=\"80.699219\"/>\n",
       "  <use xlink:href=\"#glyph1-6\" x=\"142\" y=\"80.699219\"/>\n",
       "  <use xlink:href=\"#glyph1-5\" x=\"145\" y=\"80.699219\"/>\n",
       "  <use xlink:href=\"#glyph1-8\" x=\"151\" y=\"80.699219\"/>\n",
       "  <use xlink:href=\"#glyph1-9\" x=\"154\" y=\"80.699219\"/>\n",
       "  <use xlink:href=\"#glyph1-13\" x=\"157.75\" y=\"80.699219\"/>\n",
       "  <use xlink:href=\"#glyph1-11\" x=\"163.75\" y=\"80.699219\"/>\n",
       "</g>\n",
       "<path style=\"fill-rule:nonzero;fill:rgb(99.215686%,90.588235%,14.509804%);fill-opacity:1;stroke-width:4;stroke-linecap:butt;stroke-linejoin:miter;stroke:rgb(90.196078%,81.176471%,0.784314%);stroke-opacity:1;stroke-miterlimit:10;\" d=\"M 114 -79.5 C 114 -72.597656 108.402344 -67 101.5 -67 C 94.597656 -67 89 -72.597656 89 -79.5 C 89 -86.402344 94.597656 -92 101.5 -92 C 108.402344 -92 114 -86.402344 114 -79.5 \" transform=\"matrix(1,0,0,1,4,242)\"/>\n",
       "<g style=\"fill:rgb(0%,0%,0%);fill-opacity:1;\">\n",
       "  <use xlink:href=\"#glyph0-4\" x=\"96.5\" y=\"165.300781\"/>\n",
       "  <use xlink:href=\"#glyph0-2\" x=\"103.25\" y=\"165.300781\"/>\n",
       "  <use xlink:href=\"#glyph0-4\" x=\"107\" y=\"165.300781\"/>\n",
       "</g>\n",
       "<path style=\"fill:none;stroke-width:1;stroke-linecap:butt;stroke-linejoin:miter;stroke:rgb(74.901961%,74.901961%,74.901961%);stroke-opacity:1;stroke-miterlimit:10;\" d=\"M 114.023438 -79.5 C 128.441406 -79.5 153.429688 -79.5 171.546875 -79.5 \" transform=\"matrix(1,0,0,1,4,242)\"/>\n",
       "<path style=\"fill-rule:nonzero;fill:rgb(74.901961%,74.901961%,74.901961%);fill-opacity:1;stroke-width:1;stroke-linecap:butt;stroke-linejoin:miter;stroke:rgb(74.901961%,74.901961%,74.901961%);stroke-opacity:1;stroke-miterlimit:10;\" d=\"M 171.78125 -83 L 181.78125 -79.5 L 171.78125 -76 Z M 171.78125 -83 \" transform=\"matrix(1,0,0,1,4,242)\"/>\n",
       "<g style=\"fill:rgb(0%,0%,0%);fill-opacity:1;\">\n",
       "  <use xlink:href=\"#glyph1-12\" x=\"136\" y=\"159.699219\"/>\n",
       "  <use xlink:href=\"#glyph1-6\" x=\"142\" y=\"159.699219\"/>\n",
       "  <use xlink:href=\"#glyph1-12\" x=\"145\" y=\"159.699219\"/>\n",
       "  <use xlink:href=\"#glyph1-8\" x=\"151\" y=\"159.699219\"/>\n",
       "  <use xlink:href=\"#glyph1-9\" x=\"154\" y=\"159.699219\"/>\n",
       "  <use xlink:href=\"#glyph1-13\" x=\"157.75\" y=\"159.699219\"/>\n",
       "  <use xlink:href=\"#glyph1-11\" x=\"163.75\" y=\"159.699219\"/>\n",
       "</g>\n",
       "<path style=\"fill-rule:nonzero;fill:rgb(99.215686%,90.588235%,14.509804%);fill-opacity:1;stroke-width:4;stroke-linecap:butt;stroke-linejoin:miter;stroke:rgb(90.196078%,81.176471%,0.784314%);stroke-opacity:1;stroke-miterlimit:10;\" d=\"M 114 -36.5 C 114 -29.597656 108.402344 -24 101.5 -24 C 94.597656 -24 89 -29.597656 89 -36.5 C 89 -43.402344 94.597656 -49 101.5 -49 C 108.402344 -49 114 -43.402344 114 -36.5 \" transform=\"matrix(1,0,0,1,4,242)\"/>\n",
       "<g style=\"fill:rgb(0%,0%,0%);fill-opacity:1;\">\n",
       "  <use xlink:href=\"#glyph0-4\" x=\"96.5\" y=\"208.300781\"/>\n",
       "  <use xlink:href=\"#glyph0-2\" x=\"103.25\" y=\"208.300781\"/>\n",
       "  <use xlink:href=\"#glyph0-5\" x=\"107\" y=\"208.300781\"/>\n",
       "</g>\n",
       "<path style=\"fill:none;stroke-width:1;stroke-linecap:butt;stroke-linejoin:miter;stroke:rgb(74.901961%,74.901961%,74.901961%);stroke-opacity:1;stroke-miterlimit:10;\" d=\"M 113.296875 -41.601562 C 128.152344 -48.621094 155.164062 -61.382812 173.703125 -70.144531 \" transform=\"matrix(1,0,0,1,4,242)\"/>\n",
       "<path style=\"fill-rule:nonzero;fill:rgb(74.901961%,74.901961%,74.901961%);fill-opacity:1;stroke-width:1;stroke-linecap:butt;stroke-linejoin:miter;stroke:rgb(74.901961%,74.901961%,74.901961%);stroke-opacity:1;stroke-miterlimit:10;\" d=\"M 172.460938 -73.429688 L 183 -74.539062 L 175.453125 -67.101562 Z M 172.460938 -73.429688 \" transform=\"matrix(1,0,0,1,4,242)\"/>\n",
       "<g style=\"fill:rgb(0%,0%,0%);fill-opacity:1;\">\n",
       "  <use xlink:href=\"#glyph1-12\" x=\"136\" y=\"173.699219\"/>\n",
       "  <use xlink:href=\"#glyph1-6\" x=\"142\" y=\"173.699219\"/>\n",
       "  <use xlink:href=\"#glyph1-14\" x=\"145\" y=\"173.699219\"/>\n",
       "  <use xlink:href=\"#glyph1-8\" x=\"151\" y=\"173.699219\"/>\n",
       "  <use xlink:href=\"#glyph1-9\" x=\"154\" y=\"173.699219\"/>\n",
       "  <use xlink:href=\"#glyph1-13\" x=\"157.75\" y=\"173.699219\"/>\n",
       "  <use xlink:href=\"#glyph1-11\" x=\"163.75\" y=\"173.699219\"/>\n",
       "</g>\n",
       "<path style=\"fill:none;stroke-width:1;stroke-linecap:butt;stroke-linejoin:miter;stroke:rgb(74.901961%,74.901961%,74.901961%);stroke-opacity:1;stroke-miterlimit:10;\" d=\"M 7.269531 -233.546875 C 17.765625 -229.9375 55.730469 -216.890625 79.855469 -208.597656 \" transform=\"matrix(1,0,0,1,4,242)\"/>\n",
       "<path style=\"fill-rule:nonzero;fill:rgb(74.901961%,74.901961%,74.901961%);fill-opacity:1;stroke-width:1;stroke-linecap:butt;stroke-linejoin:miter;stroke:rgb(74.901961%,74.901961%,74.901961%);stroke-opacity:1;stroke-miterlimit:10;\" d=\"M 81.203125 -211.835938 L 89.523438 -205.273438 L 78.929688 -205.214844 Z M 81.203125 -211.835938 \" transform=\"matrix(1,0,0,1,4,242)\"/>\n",
       "<g style=\"fill:rgb(0%,0%,0%);fill-opacity:1;\">\n",
       "  <use xlink:href=\"#glyph1-15\" x=\"29\" y=\"12.699219\"/>\n",
       "  <use xlink:href=\"#glyph1-2\" x=\"35\" y=\"12.699219\"/>\n",
       "  <use xlink:href=\"#glyph1-16\" x=\"40.25\" y=\"12.699219\"/>\n",
       "  <use xlink:href=\"#glyph1-2\" x=\"44\" y=\"12.699219\"/>\n",
       "  <use xlink:href=\"#glyph1-6\" x=\"49.25\" y=\"12.699219\"/>\n",
       "  <use xlink:href=\"#glyph1-7\" x=\"52.25\" y=\"12.699219\"/>\n",
       "  <use xlink:href=\"#glyph1-8\" x=\"58.25\" y=\"12.699219\"/>\n",
       "  <use xlink:href=\"#glyph1-9\" x=\"61.25\" y=\"12.699219\"/>\n",
       "  <use xlink:href=\"#glyph1-12\" x=\"65\" y=\"12.699219\"/>\n",
       "  <use xlink:href=\"#glyph1-11\" x=\"71\" y=\"12.699219\"/>\n",
       "</g>\n",
       "<path style=\"fill:none;stroke-width:1;stroke-linecap:butt;stroke-linejoin:miter;stroke:rgb(74.901961%,74.901961%,74.901961%);stroke-opacity:1;stroke-miterlimit:10;\" d=\"M 7.269531 -201.5 C 17.613281 -201.5 54.625 -201.5 78.789062 -201.5 \" transform=\"matrix(1,0,0,1,4,242)\"/>\n",
       "<path style=\"fill-rule:nonzero;fill:rgb(74.901961%,74.901961%,74.901961%);fill-opacity:1;stroke-width:1;stroke-linecap:butt;stroke-linejoin:miter;stroke:rgb(74.901961%,74.901961%,74.901961%);stroke-opacity:1;stroke-miterlimit:10;\" d=\"M 78.84375 -205 L 88.84375 -201.5 L 78.84375 -198 Z M 78.84375 -205 \" transform=\"matrix(1,0,0,1,4,242)\"/>\n",
       "<g style=\"fill:rgb(0%,0%,0%);fill-opacity:1;\">\n",
       "  <use xlink:href=\"#glyph1-15\" x=\"29\" y=\"37.699219\"/>\n",
       "  <use xlink:href=\"#glyph1-2\" x=\"35\" y=\"37.699219\"/>\n",
       "  <use xlink:href=\"#glyph1-16\" x=\"40.25\" y=\"37.699219\"/>\n",
       "  <use xlink:href=\"#glyph1-2\" x=\"44\" y=\"37.699219\"/>\n",
       "  <use xlink:href=\"#glyph1-6\" x=\"49.25\" y=\"37.699219\"/>\n",
       "  <use xlink:href=\"#glyph1-5\" x=\"52.25\" y=\"37.699219\"/>\n",
       "  <use xlink:href=\"#glyph1-8\" x=\"58.25\" y=\"37.699219\"/>\n",
       "  <use xlink:href=\"#glyph1-9\" x=\"61.25\" y=\"37.699219\"/>\n",
       "  <use xlink:href=\"#glyph1-12\" x=\"65\" y=\"37.699219\"/>\n",
       "  <use xlink:href=\"#glyph1-11\" x=\"71\" y=\"37.699219\"/>\n",
       "</g>\n",
       "<path style=\"fill:none;stroke-width:1;stroke-linecap:butt;stroke-linejoin:miter;stroke:rgb(74.901961%,74.901961%,74.901961%);stroke-opacity:1;stroke-miterlimit:10;\" d=\"M 7.269531 -168.210938 C 17.613281 -167.132812 54.625 -163.277344 78.789062 -160.761719 \" transform=\"matrix(1,0,0,1,4,242)\"/>\n",
       "<path style=\"fill-rule:nonzero;fill:rgb(74.901961%,74.901961%,74.901961%);fill-opacity:1;stroke-width:1;stroke-linecap:butt;stroke-linejoin:miter;stroke:rgb(74.901961%,74.901961%,74.901961%);stroke-opacity:1;stroke-miterlimit:10;\" d=\"M 79.257812 -164.230469 L 88.84375 -159.714844 L 78.535156 -157.269531 Z M 79.257812 -164.230469 \" transform=\"matrix(1,0,0,1,4,242)\"/>\n",
       "<g style=\"fill:rgb(0%,0%,0%);fill-opacity:1;\">\n",
       "  <use xlink:href=\"#glyph1-15\" x=\"29\" y=\"73.699219\"/>\n",
       "  <use xlink:href=\"#glyph1-2\" x=\"35\" y=\"73.699219\"/>\n",
       "  <use xlink:href=\"#glyph1-16\" x=\"40.25\" y=\"73.699219\"/>\n",
       "  <use xlink:href=\"#glyph1-2\" x=\"44\" y=\"73.699219\"/>\n",
       "  <use xlink:href=\"#glyph1-6\" x=\"49.25\" y=\"73.699219\"/>\n",
       "  <use xlink:href=\"#glyph1-12\" x=\"52.25\" y=\"73.699219\"/>\n",
       "  <use xlink:href=\"#glyph1-8\" x=\"58.25\" y=\"73.699219\"/>\n",
       "  <use xlink:href=\"#glyph1-9\" x=\"61.25\" y=\"73.699219\"/>\n",
       "  <use xlink:href=\"#glyph1-12\" x=\"65\" y=\"73.699219\"/>\n",
       "  <use xlink:href=\"#glyph1-11\" x=\"71\" y=\"73.699219\"/>\n",
       "</g>\n",
       "<path style=\"fill:none;stroke-width:1;stroke-linecap:butt;stroke-linejoin:miter;stroke:rgb(74.901961%,74.901961%,74.901961%);stroke-opacity:1;stroke-miterlimit:10;\" d=\"M 7.269531 -136.164062 C 17.667969 -138.65625 55.007812 -147.601562 79.160156 -153.386719 \" transform=\"matrix(1,0,0,1,4,242)\"/>\n",
       "<path style=\"fill-rule:nonzero;fill:rgb(74.901961%,74.901961%,74.901961%);fill-opacity:1;stroke-width:1;stroke-linecap:butt;stroke-linejoin:miter;stroke:rgb(74.901961%,74.901961%,74.901961%);stroke-opacity:1;stroke-miterlimit:10;\" d=\"M 78.644531 -156.863281 L 89.183594 -155.789062 L 80.273438 -150.054688 Z M 78.644531 -156.863281 \" transform=\"matrix(1,0,0,1,4,242)\"/>\n",
       "<g style=\"fill:rgb(0%,0%,0%);fill-opacity:1;\">\n",
       "  <use xlink:href=\"#glyph1-15\" x=\"29\" y=\"91.699219\"/>\n",
       "  <use xlink:href=\"#glyph1-2\" x=\"35\" y=\"91.699219\"/>\n",
       "  <use xlink:href=\"#glyph1-16\" x=\"40.25\" y=\"91.699219\"/>\n",
       "  <use xlink:href=\"#glyph1-2\" x=\"44\" y=\"91.699219\"/>\n",
       "  <use xlink:href=\"#glyph1-6\" x=\"49.25\" y=\"91.699219\"/>\n",
       "  <use xlink:href=\"#glyph1-14\" x=\"52.25\" y=\"91.699219\"/>\n",
       "  <use xlink:href=\"#glyph1-8\" x=\"58.25\" y=\"91.699219\"/>\n",
       "  <use xlink:href=\"#glyph1-9\" x=\"61.25\" y=\"91.699219\"/>\n",
       "  <use xlink:href=\"#glyph1-12\" x=\"65\" y=\"91.699219\"/>\n",
       "  <use xlink:href=\"#glyph1-11\" x=\"71\" y=\"91.699219\"/>\n",
       "</g>\n",
       "<path style=\"fill:none;stroke-width:1;stroke-linecap:butt;stroke-linejoin:miter;stroke:rgb(74.901961%,74.901961%,74.901961%);stroke-opacity:1;stroke-miterlimit:10;\" d=\"M 7.269531 -101.835938 C 17.667969 -99.34375 55.007812 -90.398438 79.160156 -84.613281 \" transform=\"matrix(1,0,0,1,4,242)\"/>\n",
       "<path style=\"fill-rule:nonzero;fill:rgb(74.901961%,74.901961%,74.901961%);fill-opacity:1;stroke-width:1;stroke-linecap:butt;stroke-linejoin:miter;stroke:rgb(74.901961%,74.901961%,74.901961%);stroke-opacity:1;stroke-miterlimit:10;\" d=\"M 80.273438 -87.945312 L 89.183594 -82.210938 L 78.644531 -81.136719 Z M 80.273438 -87.945312 \" transform=\"matrix(1,0,0,1,4,242)\"/>\n",
       "<g style=\"fill:rgb(0%,0%,0%);fill-opacity:1;\">\n",
       "  <use xlink:href=\"#glyph1-15\" x=\"29\" y=\"141.699219\"/>\n",
       "  <use xlink:href=\"#glyph1-2\" x=\"35\" y=\"141.699219\"/>\n",
       "  <use xlink:href=\"#glyph1-16\" x=\"40.25\" y=\"141.699219\"/>\n",
       "  <use xlink:href=\"#glyph1-2\" x=\"44\" y=\"141.699219\"/>\n",
       "  <use xlink:href=\"#glyph1-6\" x=\"49.25\" y=\"141.699219\"/>\n",
       "  <use xlink:href=\"#glyph1-13\" x=\"52.25\" y=\"141.699219\"/>\n",
       "  <use xlink:href=\"#glyph1-8\" x=\"58.25\" y=\"141.699219\"/>\n",
       "  <use xlink:href=\"#glyph1-9\" x=\"61.25\" y=\"141.699219\"/>\n",
       "  <use xlink:href=\"#glyph1-12\" x=\"65\" y=\"141.699219\"/>\n",
       "  <use xlink:href=\"#glyph1-11\" x=\"71\" y=\"141.699219\"/>\n",
       "</g>\n",
       "<path style=\"fill:none;stroke-width:1;stroke-linecap:butt;stroke-linejoin:miter;stroke:rgb(74.901961%,74.901961%,74.901961%);stroke-opacity:1;stroke-miterlimit:10;\" d=\"M 7.269531 -69.789062 C 17.613281 -70.867188 54.625 -74.722656 78.789062 -77.238281 \" transform=\"matrix(1,0,0,1,4,242)\"/>\n",
       "<path style=\"fill-rule:nonzero;fill:rgb(74.901961%,74.901961%,74.901961%);fill-opacity:1;stroke-width:1;stroke-linecap:butt;stroke-linejoin:miter;stroke:rgb(74.901961%,74.901961%,74.901961%);stroke-opacity:1;stroke-miterlimit:10;\" d=\"M 78.535156 -80.730469 L 88.84375 -78.285156 L 79.257812 -73.769531 Z M 78.535156 -80.730469 \" transform=\"matrix(1,0,0,1,4,242)\"/>\n",
       "<g style=\"fill:rgb(0%,0%,0%);fill-opacity:1;\">\n",
       "  <use xlink:href=\"#glyph1-15\" x=\"29\" y=\"168.699219\"/>\n",
       "  <use xlink:href=\"#glyph1-2\" x=\"35\" y=\"168.699219\"/>\n",
       "  <use xlink:href=\"#glyph1-16\" x=\"40.25\" y=\"168.699219\"/>\n",
       "  <use xlink:href=\"#glyph1-2\" x=\"44\" y=\"168.699219\"/>\n",
       "  <use xlink:href=\"#glyph1-6\" x=\"49.25\" y=\"168.699219\"/>\n",
       "  <use xlink:href=\"#glyph1-17\" x=\"52.25\" y=\"168.699219\"/>\n",
       "  <use xlink:href=\"#glyph1-8\" x=\"58.25\" y=\"168.699219\"/>\n",
       "  <use xlink:href=\"#glyph1-9\" x=\"61.25\" y=\"168.699219\"/>\n",
       "  <use xlink:href=\"#glyph1-12\" x=\"65\" y=\"168.699219\"/>\n",
       "  <use xlink:href=\"#glyph1-11\" x=\"71\" y=\"168.699219\"/>\n",
       "</g>\n",
       "<path style=\"fill:none;stroke-width:1;stroke-linecap:butt;stroke-linejoin:miter;stroke:rgb(74.901961%,74.901961%,74.901961%);stroke-opacity:1;stroke-miterlimit:10;\" d=\"M 7.269531 -36.5 C 17.613281 -36.5 54.625 -36.5 78.789062 -36.5 \" transform=\"matrix(1,0,0,1,4,242)\"/>\n",
       "<path style=\"fill-rule:nonzero;fill:rgb(74.901961%,74.901961%,74.901961%);fill-opacity:1;stroke-width:1;stroke-linecap:butt;stroke-linejoin:miter;stroke:rgb(74.901961%,74.901961%,74.901961%);stroke-opacity:1;stroke-miterlimit:10;\" d=\"M 78.84375 -40 L 88.84375 -36.5 L 78.84375 -33 Z M 78.84375 -40 \" transform=\"matrix(1,0,0,1,4,242)\"/>\n",
       "<g style=\"fill:rgb(0%,0%,0%);fill-opacity:1;\">\n",
       "  <use xlink:href=\"#glyph1-15\" x=\"29\" y=\"202.699219\"/>\n",
       "  <use xlink:href=\"#glyph1-2\" x=\"35\" y=\"202.699219\"/>\n",
       "  <use xlink:href=\"#glyph1-16\" x=\"40.25\" y=\"202.699219\"/>\n",
       "  <use xlink:href=\"#glyph1-2\" x=\"44\" y=\"202.699219\"/>\n",
       "  <use xlink:href=\"#glyph1-6\" x=\"49.25\" y=\"202.699219\"/>\n",
       "  <use xlink:href=\"#glyph1-10\" x=\"52.25\" y=\"202.699219\"/>\n",
       "  <use xlink:href=\"#glyph1-8\" x=\"58.25\" y=\"202.699219\"/>\n",
       "  <use xlink:href=\"#glyph1-9\" x=\"61.25\" y=\"202.699219\"/>\n",
       "  <use xlink:href=\"#glyph1-12\" x=\"65\" y=\"202.699219\"/>\n",
       "  <use xlink:href=\"#glyph1-11\" x=\"71\" y=\"202.699219\"/>\n",
       "</g>\n",
       "<path style=\"fill:none;stroke-width:1;stroke-linecap:butt;stroke-linejoin:miter;stroke:rgb(74.901961%,74.901961%,74.901961%);stroke-opacity:1;stroke-miterlimit:10;\" d=\"M 7.269531 -4.453125 C 17.765625 -8.0625 55.730469 -21.109375 79.855469 -29.402344 \" transform=\"matrix(1,0,0,1,4,242)\"/>\n",
       "<path style=\"fill-rule:nonzero;fill:rgb(74.901961%,74.901961%,74.901961%);fill-opacity:1;stroke-width:1;stroke-linecap:butt;stroke-linejoin:miter;stroke:rgb(74.901961%,74.901961%,74.901961%);stroke-opacity:1;stroke-miterlimit:10;\" d=\"M 78.929688 -32.785156 L 89.523438 -32.726562 L 81.203125 -26.164062 Z M 78.929688 -32.785156 \" transform=\"matrix(1,0,0,1,4,242)\"/>\n",
       "<g style=\"fill:rgb(0%,0%,0%);fill-opacity:1;\">\n",
       "  <use xlink:href=\"#glyph1-15\" x=\"29\" y=\"216.699219\"/>\n",
       "  <use xlink:href=\"#glyph1-2\" x=\"35\" y=\"216.699219\"/>\n",
       "  <use xlink:href=\"#glyph1-16\" x=\"40.25\" y=\"216.699219\"/>\n",
       "  <use xlink:href=\"#glyph1-2\" x=\"44\" y=\"216.699219\"/>\n",
       "  <use xlink:href=\"#glyph1-6\" x=\"49.25\" y=\"216.699219\"/>\n",
       "  <use xlink:href=\"#glyph1-18\" x=\"52.25\" y=\"216.699219\"/>\n",
       "  <use xlink:href=\"#glyph1-8\" x=\"58.25\" y=\"216.699219\"/>\n",
       "  <use xlink:href=\"#glyph1-9\" x=\"61.25\" y=\"216.699219\"/>\n",
       "  <use xlink:href=\"#glyph1-12\" x=\"65\" y=\"216.699219\"/>\n",
       "  <use xlink:href=\"#glyph1-11\" x=\"71\" y=\"216.699219\"/>\n",
       "</g>\n",
       "</g>\n",
       "</svg>\n"
      ],
      "text/plain": [
       "<graphviz.graphs.Digraph at 0x7f3440777b80>"
      ]
     },
     "execution_count": 108,
     "metadata": {},
     "output_type": "execute_result"
    }
   ],
   "source": [
    "DEVICE = 'cuda'\n",
    "BOND_DIM = 16\n",
    "DTYPE = torch.float        # we use float for the quantization, as qtorch does not support double\n",
    "N_LABELS = 1\n",
    "\n",
    "qmodel = TTNModel(features, bond_dim=BOND_DIM, n_labels=N_LABELS, device=DEVICE, dtype=DTYPE, quantizer=Q)\n",
    "qmodel.draw()"
   ]
  },
  {
   "cell_type": "code",
   "execution_count": 109,
   "metadata": {},
   "outputs": [
    {
     "name": "stderr",
     "output_type": "stream",
     "text": [
      "ttn unsupervised init: 100%|██████████| 18/18 [00:00<00:00, 507.67it/s, done unsupervised init!]        \n",
      "100%|██████████| 6/6 [00:00<00:00,  9.23it/s, loss=5.48, epoch mean loss=6.02]\n",
      "100%|██████████| 6/6 [00:00<00:00,  9.42it/s, loss=4.4, epoch mean loss=4.85]\n",
      "100%|██████████| 6/6 [00:00<00:00,  8.72it/s, loss=3.51, epoch mean loss=3.88]\n",
      "100%|██████████| 6/6 [00:00<00:00,  7.70it/s, loss=2.77, epoch mean loss=3.07]\n",
      "100%|██████████| 6/6 [00:00<00:00, 10.56it/s, loss=2.17, epoch mean loss=2.41]\n",
      "100%|██████████| 6/6 [00:00<00:00, 10.18it/s, loss=1.69, epoch mean loss=1.88]\n",
      "100%|██████████| 6/6 [00:00<00:00,  9.15it/s, loss=1.31, epoch mean loss=1.46]\n",
      "100%|██████████| 6/6 [00:00<00:00,  8.67it/s, loss=1.01, epoch mean loss=1.13]\n",
      "100%|██████████| 6/6 [00:00<00:00,  8.74it/s, loss=0.779, epoch mean loss=0.871]\n",
      "100%|██████████| 6/6 [00:00<00:00,  7.76it/s, loss=0.602, epoch mean loss=0.673]\n",
      "100%|██████████| 6/6 [00:00<00:00,  8.39it/s, loss=0.468, epoch mean loss=0.523]\n",
      "100%|██████████| 6/6 [00:00<00:00,  9.31it/s, loss=0.368, epoch mean loss=0.41]\n",
      "100%|██████████| 6/6 [00:00<00:00,  8.51it/s, loss=0.293, epoch mean loss=0.325]\n",
      "100%|██████████| 6/6 [00:00<00:00,  9.79it/s, loss=0.238, epoch mean loss=0.263]\n",
      "100%|██████████| 6/6 [00:00<00:00,  9.43it/s, loss=0.198, epoch mean loss=0.217]\n",
      "ttn supervised init:   0%|          | 0/6 [00:10<?, ?it/s, doing epoch 15/15]\n"
     ]
    },
    {
     "data": {
      "text/plain": [
       "==========================================================================================\n",
       "Layer (type:depth-idx)                   Output Shape              Param #\n",
       "==========================================================================================\n",
       "TTNModel                                 [128, 1]                  832\n",
       "├─Quantizer: 1-1                         [2, 2, 4]                 --\n",
       "├─Quantizer: 1-2                         [128, 2]                  --\n",
       "├─Quantizer: 1-3                         [128, 8]                  --\n",
       "├─Quantizer: 1-4                         [128, 2]                  --\n",
       "├─Quantizer: 1-5                         [128, 1, 4]               --\n",
       "├─Quantizer: 1-6                         [2, 2, 4]                 --\n",
       "├─Quantizer: 1-7                         [128, 2]                  --\n",
       "├─Quantizer: 1-8                         [128, 8]                  --\n",
       "├─Quantizer: 1-9                         [128, 2]                  --\n",
       "├─Quantizer: 1-10                        [128, 1, 4]               --\n",
       "├─Quantizer: 1-11                        [2, 2, 4]                 --\n",
       "├─Quantizer: 1-12                        [128, 2]                  --\n",
       "├─Quantizer: 1-13                        [128, 8]                  --\n",
       "├─Quantizer: 1-14                        [128, 2]                  --\n",
       "├─Quantizer: 1-15                        [128, 1, 4]               --\n",
       "├─Quantizer: 1-16                        [2, 2, 4]                 --\n",
       "├─Quantizer: 1-17                        [128, 2]                  --\n",
       "├─Quantizer: 1-18                        [128, 8]                  --\n",
       "├─Quantizer: 1-19                        [128, 2]                  --\n",
       "├─Quantizer: 1-20                        [128, 1, 4]               --\n",
       "├─Quantizer: 1-21                        [4, 4, 16]                --\n",
       "├─Quantizer: 1-22                        [128, 4]                  --\n",
       "├─Quantizer: 1-23                        [128, 64]                 --\n",
       "├─Quantizer: 1-24                        [128, 4]                  --\n",
       "├─Quantizer: 1-25                        [128, 1, 16]              --\n",
       "├─Quantizer: 1-26                        [4, 4, 16]                --\n",
       "├─Quantizer: 1-27                        [128, 4]                  --\n",
       "├─Quantizer: 1-28                        [128, 64]                 --\n",
       "├─Quantizer: 1-29                        [128, 4]                  --\n",
       "├─Quantizer: 1-30                        [128, 1, 16]              --\n",
       "├─Quantizer: 1-31                        [16, 16, 1]               --\n",
       "├─Quantizer: 1-32                        [128, 16]                 --\n",
       "├─Quantizer: 1-33                        [128, 16]                 --\n",
       "├─Quantizer: 1-34                        [128, 16]                 --\n",
       "├─Quantizer: 1-35                        [128, 1, 1]               --\n",
       "==========================================================================================\n",
       "Total params: 832\n",
       "Trainable params: 832\n",
       "Non-trainable params: 0\n",
       "Total mult-adds (M): 0\n",
       "==========================================================================================\n",
       "Input size (MB): 0.01\n",
       "Forward/backward pass size (MB): 0.00\n",
       "Params size (MB): 0.00\n",
       "Estimated Total Size (MB): 0.01\n",
       "=========================================================================================="
      ]
     },
     "execution_count": 109,
     "metadata": {},
     "output_type": "execute_result"
    }
   ],
   "source": [
    "INIT_EPOCHS = 15\n",
    "\n",
    "qmodel.initialize(True, train_dl, class_loss, INIT_EPOCHS)\n",
    "summary(qmodel, input_size=(BATCH_SIZE, features, 2), dtypes=[DTYPE], device=DEVICE)"
   ]
  },
  {
   "cell_type": "code",
   "execution_count": 110,
   "metadata": {},
   "outputs": [],
   "source": [
    "LR = 0.02\n",
    "EPOCHS = 80\n",
    "LAMBDA = 0.1\n",
    "SCHEDULER_STEPS = 5\n",
    "\n",
    "\n",
    "qmodel.train()\n",
    "qmodel.to(DEVICE)\n",
    "optimizer = torch.optim.Adam(qmodel.parameters(), lr=LR)\n",
    "# define custom quantization functions for different numbers\n",
    "weight_quant = lambda x : fixed_point_quantize(x, wl, fl, rounding=\"nearest\")\n",
    "# turn your optimizer into a low precision optimizer\n",
    "optimizer = OptimLP(optimizer,\n",
    "                    weight_quant=weight_quant)\n",
    "schedulers = [torch.optim.lr_scheduler.ExponentialLR(optimizer, 0.9, last_epoch=-1, verbose=False), torch.optim.lr_scheduler.CosineAnnealingLR(optimizer, 10, eta_min=1e-5)]\n",
    "scheduler = schedulers[0]"
   ]
  },
  {
   "cell_type": "code",
   "execution_count": 111,
   "metadata": {},
   "outputs": [
    {
     "name": "stderr",
     "output_type": "stream",
     "text": [
      "epochs:   0%|          | 0/80 [00:00<?, ?it/s]"
     ]
    },
    {
     "name": "stderr",
     "output_type": "stream",
     "text": [
      "100%|██████████| 6/6 [00:00<00:00,  9.62it/s, current loss=0.34, batches -10-0 loss=0, epoch mean loss=0.413]\n",
      "100%|██████████| 6/6 [00:00<00:00,  9.83it/s, current loss=0.192, batches -10-0 loss=0, epoch mean loss=0.237]\n",
      "100%|██████████| 6/6 [00:00<00:00,  9.07it/s, current loss=0.142, batches -10-0 loss=0, epoch mean loss=0.168]\n",
      "100%|██████████| 6/6 [00:00<00:00,  9.36it/s, current loss=0.113, batches -10-0 loss=0, epoch mean loss=0.131]\n",
      "100%|██████████| 6/6 [00:00<00:00,  9.11it/s, current loss=0.104, batches -10-0 loss=0, epoch mean loss=0.113]\n",
      "100%|██████████| 6/6 [00:00<00:00, 10.30it/s, current loss=0.0885, batches -10-0 loss=0, epoch mean loss=0.0994]\n",
      "100%|██████████| 6/6 [00:00<00:00, 10.32it/s, current loss=0.0824, batches -10-0 loss=0, epoch mean loss=0.091]\n",
      "100%|██████████| 6/6 [00:00<00:00,  9.44it/s, current loss=0.0821, batches -10-0 loss=0, epoch mean loss=0.0877]\n",
      "100%|██████████| 6/6 [00:00<00:00,  8.58it/s, current loss=0.0789, batches -10-0 loss=0, epoch mean loss=0.0856]\n",
      "100%|██████████| 6/6 [00:00<00:00,  8.98it/s, current loss=0.077, batches -10-0 loss=0, epoch mean loss=0.0835]\n",
      "100%|██████████| 6/6 [00:00<00:00,  8.68it/s, current loss=0.077, batches -10-0 loss=0, epoch mean loss=0.0825]\n",
      "100%|██████████| 6/6 [00:00<00:00,  9.72it/s, current loss=0.077, batches -10-0 loss=0, epoch mean loss=0.0821]\n",
      "100%|██████████| 6/6 [00:00<00:00,  9.21it/s, current loss=0.0765, batches -10-0 loss=0, epoch mean loss=0.0817]\n",
      "100%|██████████| 6/6 [00:00<00:00,  9.93it/s, current loss=0.0764, batches -10-0 loss=0, epoch mean loss=0.0814]\n",
      "100%|██████████| 6/6 [00:00<00:00,  9.63it/s, current loss=0.0766, batches -10-0 loss=0, epoch mean loss=0.0812]\n",
      "100%|██████████| 6/6 [00:00<00:00,  9.54it/s, current loss=0.0759, batches -10-0 loss=0, epoch mean loss=0.081]\n",
      "100%|██████████| 6/6 [00:00<00:00,  9.71it/s, current loss=0.0757, batches -10-0 loss=0, epoch mean loss=0.0807]\n",
      "100%|██████████| 6/6 [00:00<00:00,  9.15it/s, current loss=0.0762, batches -10-0 loss=0, epoch mean loss=0.0807]\n",
      "100%|██████████| 6/6 [00:00<00:00,  9.37it/s, current loss=0.0762, batches -10-0 loss=0, epoch mean loss=0.0808]\n",
      "100%|██████████| 6/6 [00:00<00:00,  8.94it/s, current loss=0.076, batches -10-0 loss=0, epoch mean loss=0.0807]\n",
      "100%|██████████| 6/6 [00:00<00:00, 10.57it/s, current loss=0.0755, batches -10-0 loss=0, epoch mean loss=0.0804]\n",
      "100%|██████████| 6/6 [00:00<00:00,  9.53it/s, current loss=0.0756, batches -10-0 loss=0, epoch mean loss=0.0803]\n",
      "100%|██████████| 6/6 [00:00<00:00,  9.10it/s, current loss=0.0758, batches -10-0 loss=0, epoch mean loss=0.0804]\n",
      "100%|██████████| 6/6 [00:00<00:00,  9.24it/s, current loss=0.0757, batches -10-0 loss=0, epoch mean loss=0.0804]\n",
      "100%|██████████| 6/6 [00:00<00:00,  9.48it/s, current loss=0.0757, batches -10-0 loss=0, epoch mean loss=0.0803]\n",
      "100%|██████████| 6/6 [00:00<00:00,  9.73it/s, current loss=0.0752, batches -10-0 loss=0, epoch mean loss=0.0802]\n",
      "100%|██████████| 6/6 [00:00<00:00,  9.53it/s, current loss=0.0753, batches -10-0 loss=0, epoch mean loss=0.0801]\n",
      "100%|██████████| 6/6 [00:00<00:00,  9.69it/s, current loss=0.0755, batches -10-0 loss=0, epoch mean loss=0.0802]\n",
      "100%|██████████| 6/6 [00:00<00:00,  9.54it/s, current loss=0.0754, batches -10-0 loss=0, epoch mean loss=0.0802]\n",
      "100%|██████████| 6/6 [00:00<00:00, 10.06it/s, current loss=0.0755, batches -10-0 loss=0, epoch mean loss=0.0802]\n",
      "100%|██████████| 6/6 [00:00<00:00, 10.29it/s, current loss=0.0751, batches -10-0 loss=0, epoch mean loss=0.0801]\n",
      "100%|██████████| 6/6 [00:00<00:00,  9.63it/s, current loss=0.0751, batches -10-0 loss=0, epoch mean loss=0.08]\n",
      "100%|██████████| 6/6 [00:00<00:00,  9.55it/s, current loss=0.0753, batches -10-0 loss=0, epoch mean loss=0.0801]\n",
      "100%|██████████| 6/6 [00:00<00:00,  9.84it/s, current loss=0.0752, batches -10-0 loss=0, epoch mean loss=0.08]\n",
      "100%|██████████| 6/6 [00:00<00:00,  9.28it/s, current loss=0.0752, batches -10-0 loss=0, epoch mean loss=0.08]\n",
      "100%|██████████| 6/6 [00:00<00:00,  9.50it/s, current loss=0.0749, batches -10-0 loss=0, epoch mean loss=0.0799]\n",
      "100%|██████████| 6/6 [00:00<00:00,  9.31it/s, current loss=0.075, batches -10-0 loss=0, epoch mean loss=0.0799]\n",
      "100%|██████████| 6/6 [00:00<00:00,  9.75it/s, current loss=0.0751, batches -10-0 loss=0, epoch mean loss=0.0799]\n",
      "100%|██████████| 6/6 [00:00<00:00,  9.32it/s, current loss=0.0749, batches -10-0 loss=0, epoch mean loss=0.0799]\n",
      "100%|██████████| 6/6 [00:00<00:00,  9.42it/s, current loss=0.075, batches -10-0 loss=0, epoch mean loss=0.0799]\n",
      "100%|██████████| 6/6 [00:00<00:00,  9.44it/s, current loss=0.0746, batches -10-0 loss=0, epoch mean loss=0.0798]\n",
      "100%|██████████| 6/6 [00:00<00:00, 10.08it/s, current loss=0.0747, batches -10-0 loss=0, epoch mean loss=0.0798]\n",
      "100%|██████████| 6/6 [00:00<00:00, 10.14it/s, current loss=0.0747, batches -10-0 loss=0, epoch mean loss=0.0798]\n",
      "100%|██████████| 6/6 [00:00<00:00,  9.75it/s, current loss=0.0746, batches -10-0 loss=0, epoch mean loss=0.0798]\n",
      "100%|██████████| 6/6 [00:00<00:00,  8.84it/s, current loss=0.0747, batches -10-0 loss=0, epoch mean loss=0.0797]\n",
      "100%|██████████| 6/6 [00:00<00:00,  9.54it/s, current loss=0.0744, batches -10-0 loss=0, epoch mean loss=0.0796]\n",
      "100%|██████████| 6/6 [00:00<00:00,  9.69it/s, current loss=0.0745, batches -10-0 loss=0, epoch mean loss=0.0796]\n",
      "100%|██████████| 6/6 [00:00<00:00,  9.86it/s, current loss=0.0745, batches -10-0 loss=0, epoch mean loss=0.0796]\n",
      "100%|██████████| 6/6 [00:00<00:00,  9.82it/s, current loss=0.0744, batches -10-0 loss=0, epoch mean loss=0.0796]\n",
      "100%|██████████| 6/6 [00:00<00:00,  9.36it/s, current loss=0.0745, batches -10-0 loss=0, epoch mean loss=0.0796]\n",
      "100%|██████████| 6/6 [00:00<00:00, 10.12it/s, current loss=0.0742, batches -10-0 loss=0, epoch mean loss=0.0795]\n",
      "100%|██████████| 6/6 [00:00<00:00,  9.43it/s, current loss=0.0744, batches -10-0 loss=0, epoch mean loss=0.0795]\n",
      "100%|██████████| 6/6 [00:00<00:00,  9.20it/s, current loss=0.0743, batches -10-0 loss=0, epoch mean loss=0.0795]\n",
      "100%|██████████| 6/6 [00:00<00:00,  9.64it/s, current loss=0.0743, batches -10-0 loss=0, epoch mean loss=0.0795]\n",
      "100%|██████████| 6/6 [00:00<00:00,  9.65it/s, current loss=0.0744, batches -10-0 loss=0, epoch mean loss=0.0795]\n",
      "100%|██████████| 6/6 [00:00<00:00,  9.36it/s, current loss=0.0742, batches -10-0 loss=0, epoch mean loss=0.0794]\n",
      "100%|██████████| 6/6 [00:00<00:00,  9.70it/s, current loss=0.0743, batches -10-0 loss=0, epoch mean loss=0.0794]\n",
      "100%|██████████| 6/6 [00:00<00:00, 10.13it/s, current loss=0.0742, batches -10-0 loss=0, epoch mean loss=0.0794]\n",
      "100%|██████████| 6/6 [00:00<00:00, 10.37it/s, current loss=0.0743, batches -10-0 loss=0, epoch mean loss=0.0794]\n",
      "100%|██████████| 6/6 [00:00<00:00, 10.25it/s, current loss=0.0742, batches -10-0 loss=0, epoch mean loss=0.0794]\n",
      "100%|██████████| 6/6 [00:00<00:00, 10.58it/s, current loss=0.0741, batches -10-0 loss=0, epoch mean loss=0.0794]\n",
      "100%|██████████| 6/6 [00:00<00:00,  9.75it/s, current loss=0.0742, batches -10-0 loss=0, epoch mean loss=0.0794]\n",
      "100%|██████████| 6/6 [00:00<00:00,  9.53it/s, current loss=0.0742, batches -10-0 loss=0, epoch mean loss=0.0794]\n",
      "100%|██████████| 6/6 [00:00<00:00,  9.31it/s, current loss=0.0742, batches -10-0 loss=0, epoch mean loss=0.0794]\n",
      "100%|██████████| 6/6 [00:00<00:00, 10.00it/s, current loss=0.0742, batches -10-0 loss=0, epoch mean loss=0.0795]\n",
      "100%|██████████| 6/6 [00:00<00:00,  9.53it/s, current loss=0.0741, batches -10-0 loss=0, epoch mean loss=0.0794]\n",
      "100%|██████████| 6/6 [00:00<00:00,  9.65it/s, current loss=0.0741, batches -10-0 loss=0, epoch mean loss=0.0794]\n",
      "100%|██████████| 6/6 [00:00<00:00,  9.64it/s, current loss=0.0741, batches -10-0 loss=0, epoch mean loss=0.0794]\n",
      "100%|██████████| 6/6 [00:00<00:00,  9.41it/s, current loss=0.0741, batches -10-0 loss=0, epoch mean loss=0.0794]\n",
      "100%|██████████| 6/6 [00:00<00:00,  9.71it/s, current loss=0.0741, batches -10-0 loss=0, epoch mean loss=0.0794]\n",
      "100%|██████████| 6/6 [00:00<00:00, 10.04it/s, current loss=0.074, batches -10-0 loss=0, epoch mean loss=0.0794]\n",
      "100%|██████████| 6/6 [00:00<00:00,  9.57it/s, current loss=0.0741, batches -10-0 loss=0, epoch mean loss=0.0794]\n",
      "100%|██████████| 6/6 [00:00<00:00,  9.75it/s, current loss=0.074, batches -10-0 loss=0, epoch mean loss=0.0794]\n",
      "100%|██████████| 6/6 [00:00<00:00, 10.41it/s, current loss=0.0741, batches -10-0 loss=0, epoch mean loss=0.0794]\n",
      "100%|██████████| 6/6 [00:00<00:00,  9.90it/s, current loss=0.0741, batches -10-0 loss=0, epoch mean loss=0.0795]\n",
      "100%|██████████| 6/6 [00:00<00:00,  9.35it/s, current loss=0.074, batches -10-0 loss=0, epoch mean loss=0.0794]\n",
      "100%|██████████| 6/6 [00:00<00:00, 10.26it/s, current loss=0.0741, batches -10-0 loss=0, epoch mean loss=0.0795]\n",
      "100%|██████████| 6/6 [00:00<00:00,  9.50it/s, current loss=0.0741, batches -10-0 loss=0, epoch mean loss=0.0795]\n",
      "100%|██████████| 6/6 [00:00<00:00,  9.40it/s, current loss=0.0741, batches -10-0 loss=0, epoch mean loss=0.0795]\n",
      "100%|██████████| 6/6 [00:00<00:00,  9.39it/s, current loss=0.0741, batches -10-0 loss=0, epoch mean loss=0.0795]\n",
      "epochs: 100%|██████████| 80/80 [01:33<00:00,  1.17s/it]\n"
     ]
    }
   ],
   "source": [
    "\n",
    "tot_loss_history = []\n",
    "now = datetime.now()\n",
    "for epoch in trange(EPOCHS, desc='epochs', position=0):\n",
    "    loss_history = train_one_epoch(qmodel, DEVICE, train_dl, lambda *x: class_loss(*x, l=LAMBDA), optimizer)\n",
    "    tot_loss_history += loss_history\n",
    "    if epoch % SCHEDULER_STEPS == SCHEDULER_STEPS-1:\n",
    "        scheduler.step()\n",
    "\n",
    "    \n",
    "loss_history = np.array(tot_loss_history)"
   ]
  },
  {
   "cell_type": "code",
   "execution_count": 112,
   "metadata": {},
   "outputs": [
    {
     "name": "stderr",
     "output_type": "stream",
     "text": [
      "test: 100%|██████████| 2/2 [00:00<00:00, 214.80it/s]\n",
      "train:   0%|          | 0/6 [00:00<?, ?it/s]"
     ]
    },
    {
     "name": "stderr",
     "output_type": "stream",
     "text": [
      "train: 100%|██████████| 6/6 [00:00<00:00,  8.83it/s]\n"
     ]
    },
    {
     "data": {
      "text/plain": [
       "(0.7691176470588236, 0.7705882352941177)"
      ]
     },
     "execution_count": 112,
     "metadata": {},
     "output_type": "execute_result"
    }
   ],
   "source": [
    "accuracy(qmodel, DEVICE, train_dl, test_dl, DTYPE)"
   ]
  },
  {
   "cell_type": "code",
   "execution_count": 113,
   "metadata": {},
   "outputs": [],
   "source": [
    "torch.save(model.state_dict, MODEL_DIR + f'/trainedmodel_{DATASET}_bd{BOND_DIM}_{MAPPING}_{now.strftime(\"%Y%m%d-%H%M%S\")}.dict')\n",
    "np.savez(MODEL_DIR + f'/modelweights_{DATASET}_bd{BOND_DIM}_{MAPPING}_{now.strftime(\"%Y%m%d-%H%M%S\")}.npz', **{key.name: value.cpu().detach() for key, value in qmodel._TTN__tensor_map.items()})"
   ]
  },
  {
   "cell_type": "code",
   "execution_count": 114,
   "metadata": {},
   "outputs": [
    {
     "name": "stderr",
     "output_type": "stream",
     "text": [
      "test:   0%|          | 0/6 [00:00<?, ?it/s]"
     ]
    },
    {
     "name": "stderr",
     "output_type": "stream",
     "text": [
      "test: 100%|██████████| 6/6 [00:00<00:00,  9.77it/s]\n",
      "test: 100%|██████████| 2/2 [00:00<00:00, 253.26it/s]\n"
     ]
    }
   ],
   "source": [
    "# save model output\n",
    "train_out = get_output(qmodel, DEVICE, train_dl, DTYPE)\n",
    "test_out = get_output(qmodel, DEVICE, test_dl, DTYPE)\n",
    "np.save(MODEL_DIR + f'/train_out_{DATASET}_bd{BOND_DIM}_{MAPPING}_{now.strftime(\"%Y%m%d-%H%M%S\")}.npy', train_out)\n",
    "np.save(MODEL_DIR + f'/test_out_{DATASET}_bd{BOND_DIM}_{MAPPING}_{now.strftime(\"%Y%m%d-%H%M%S\")}.npy', test_out)"
   ]
  },
  {
   "cell_type": "code",
   "execution_count": 115,
   "metadata": {},
   "outputs": [
    {
     "data": {
      "image/png": "[encoded data removed]",
      "text/plain": [
       "<Figure size 800x600 with 1 Axes>"
      ]
     },
     "metadata": {},
     "output_type": "display_data"
    }
   ],
   "source": [
    "fig, ax = plt.subplots(1, 1, figsize=(8, 6))\n",
    "\n",
    "ax.plot([loss_history[i*len(train_dl):((i+1)*len(train_dl) if i<EPOCHS-1 else None)].mean() for i in range(EPOCHS)])\n",
    "#ax.set_ylim(0, 0.3)\n",
    "ax.set_xlabel('Epoch', fontsize=FONTSIZE)\n",
    "ax.set_ylabel('Loss', fontsize=FONTSIZE)\n",
    "ax.set_title(F'Training Loss\\n{DATASET}, BD={BOND_DIM}', fontsize=FONTSIZE+2)\n",
    "ax.tick_params(axis='both', which='major', labelsize=FONTSIZE-2)\n",
    "ax.grid(axis='y')\n",
    "\n",
    "ax.hlines(loss_history[(EPOCHS-1)*len(train_dl):].mean(), 0, EPOCHS, colors='r', linestyles='dashed')\n",
    "ax.text(EPOCHS, loss_history[(EPOCHS-1)*len(train_dl):].mean()+0.001, f'{loss_history[(EPOCHS-1)*len(train_dl):].mean():.3f}', fontsize=FONTSIZE-2, color='r', verticalalignment='bottom', horizontalalignment='right')\n",
    "\n",
    "fig.savefig(MODEL_DIR + f'/loss_history_{DATASET}_bd{BOND_DIM}_{MAPPING}_{now.strftime(\"%Y%m%d-%H%M%S\")}.png')"
   ]
  },
  {
   "cell_type": "code",
   "execution_count": 116,
   "metadata": {},
   "outputs": [
    {
     "name": "stderr",
     "output_type": "stream",
     "text": [
      "test:   0%|          | 0/6 [00:00<?, ?it/s]"
     ]
    },
    {
     "name": "stderr",
     "output_type": "stream",
     "text": [
      "test: 100%|██████████| 6/6 [00:00<00:00,  9.42it/s]\n",
      "test: 100%|██████████| 2/2 [00:00<00:00, 244.99it/s]\n"
     ]
    },
    {
     "data": {
      "image/png": "[encoded data removed]",
      "text/plain": [
       "<Figure size 600x500 with 1 Axes>"
      ]
     },
     "metadata": {},
     "output_type": "display_data"
    }
   ],
   "source": [
    "train_pred = get_predictions(qmodel, DEVICE, train_dl, DTYPE)\n",
    "test_pred = get_predictions(qmodel, DEVICE, test_dl, DTYPE)\n",
    "\n",
    "fig, ax = plot_predictions(train_pred, test_pred, N_LABELS)\n",
    "\n",
    "train_acc, test_acc = accuracy(qmodel, DEVICE, train_dl, test_dl, DTYPE, disable_pbar=True)\n",
    "\n",
    "ax.legend([f'Train\\nacc: {train_acc:.1%}', f'Test\\nacc: {test_acc:.1%}'])\n",
    "ax.set_title(f'Predictions distribution\\n{DATASET}, BD={BOND_DIM}', fontsize=FONTSIZE+2)\n",
    "\n",
    "fig.savefig(MODEL_DIR + f'/predictions_dist_{DATASET}_bd{BOND_DIM}_{MAPPING}_{now.strftime(\"%Y%m%d-%H%M%S\")}.png')"
   ]
  },
  {
   "cell_type": "code",
   "execution_count": 117,
   "metadata": {},
   "outputs": [
    {
     "name": "stdout",
     "output_type": "stream",
     "text": [
      "ROC AUC Score: 0.81\n"
     ]
    },
    {
     "data": {
      "image/png": "[encoded data removed]",
      "text/plain": [
       "<Figure size 800x600 with 1 Axes>"
      ]
     },
     "metadata": {},
     "output_type": "display_data"
    }
   ],
   "source": [
    "y_true = torch.cat([y for _, y in test_dl], dim=0).numpy()\n",
    "\n",
    "fpr, tpr, thresholds = roc_curve(y_true, test_pred)\n",
    "auc = roc_auc_score(y_true, test_pred)\n",
    "\n",
    "props = dict(boxstyle='round', facecolor='white', alpha=0.5)\n",
    "\n",
    "fig, ax = plt.subplots(1, 1, figsize=(8, 6))\n",
    "ax.plot(fpr, tpr)\n",
    "ax.plot([0, 1], [0, 1], 'r--')\n",
    "ax.set_xlabel('False Positive Rate', fontsize=FONTSIZE)\n",
    "ax.set_ylabel('True Positive Rate', fontsize=FONTSIZE)\n",
    "ax.set_title(f'ROC Curve\\n{DATASET}, BD={BOND_DIM}', fontsize=FONTSIZE+2)\n",
    "ax.tick_params(axis='both', which='major', labelsize=FONTSIZE)\n",
    "ax.text(0.815, 0.05, f'AUC = {auc:.2f}', fontsize=FONTSIZE-2, bbox=props)\n",
    "ax.grid()\n",
    "fig.savefig(MODEL_DIR + f'/roc_curve_{DATASET}_bd{BOND_DIM}_{MAPPING}_{now.strftime(\"%Y%m%d-%H%M%S\")}.png')\n",
    "\n",
    "print('ROC AUC Score:', round(roc_auc_score(y_true, test_pred), 2))"
   ]
  },
  {
   "cell_type": "markdown",
   "metadata": {},
   "source": [
    "# Trash"
   ]
  },
  {
   "cell_type": "code",
   "execution_count": 23,
   "metadata": {},
   "outputs": [
    {
     "data": {
      "text/plain": [
       "tensor([[[-3.7677e-04],\n",
       "         [-1.5435e-02],\n",
       "         [-1.8145e-04],\n",
       "         [-6.1096e-04]],\n",
       "\n",
       "        [[-7.9009e-04],\n",
       "         [ 1.0263e+00],\n",
       "         [ 5.1388e-05],\n",
       "         [ 1.5473e-04]],\n",
       "\n",
       "        [[ 7.0854e-04],\n",
       "         [-3.7704e-03],\n",
       "         [-9.0056e-05],\n",
       "         [-2.6149e-04]],\n",
       "\n",
       "        [[ 1.3896e-06],\n",
       "         [ 3.0381e-06],\n",
       "         [-4.7425e-08],\n",
       "         [ 3.6490e-08]]], device='cuda:0', dtype=torch.float64)"
      ]
     },
     "execution_count": 23,
     "metadata": {},
     "output_type": "execute_result"
    }
   ],
   "source": [
    "torch.load('data/grid_search/model_8_4_16_False_torch.float64.pth')['_TTN__tensors.0']"
   ]
  },
  {
   "cell_type": "code",
   "execution_count": 24,
   "metadata": {},
   "outputs": [
    {
     "data": {
      "text/html": [
       "<div>\n",
       "<style scoped>\n",
       "    .dataframe tbody tr th:only-of-type {\n",
       "        vertical-align: middle;\n",
       "    }\n",
       "\n",
       "    .dataframe tbody tr th {\n",
       "        vertical-align: top;\n",
       "    }\n",
       "\n",
       "    .dataframe thead th {\n",
       "        text-align: right;\n",
       "    }\n",
       "</style>\n",
       "<table border=\"1\" class=\"dataframe\">\n",
       "  <thead>\n",
       "    <tr style=\"text-align: right;\">\n",
       "      <th></th>\n",
       "      <th>pclass</th>\n",
       "      <th>survived</th>\n",
       "      <th>sex</th>\n",
       "      <th>age</th>\n",
       "      <th>sibsp</th>\n",
       "      <th>parch</th>\n",
       "      <th>ticket</th>\n",
       "      <th>fare</th>\n",
       "      <th>embarked</th>\n",
       "    </tr>\n",
       "  </thead>\n",
       "  <tbody>\n",
       "    <tr>\n",
       "      <th>0</th>\n",
       "      <td>1.0</td>\n",
       "      <td>1</td>\n",
       "      <td>female</td>\n",
       "      <td>29.0000</td>\n",
       "      <td>0.0</td>\n",
       "      <td>0.0</td>\n",
       "      <td>24160</td>\n",
       "      <td>211.3375</td>\n",
       "      <td>S</td>\n",
       "    </tr>\n",
       "    <tr>\n",
       "      <th>1</th>\n",
       "      <td>1.0</td>\n",
       "      <td>1</td>\n",
       "      <td>male</td>\n",
       "      <td>0.9167</td>\n",
       "      <td>1.0</td>\n",
       "      <td>2.0</td>\n",
       "      <td>113781</td>\n",
       "      <td>151.5500</td>\n",
       "      <td>S</td>\n",
       "    </tr>\n",
       "    <tr>\n",
       "      <th>2</th>\n",
       "      <td>1.0</td>\n",
       "      <td>0</td>\n",
       "      <td>female</td>\n",
       "      <td>2.0000</td>\n",
       "      <td>1.0</td>\n",
       "      <td>2.0</td>\n",
       "      <td>113781</td>\n",
       "      <td>151.5500</td>\n",
       "      <td>S</td>\n",
       "    </tr>\n",
       "    <tr>\n",
       "      <th>3</th>\n",
       "      <td>1.0</td>\n",
       "      <td>0</td>\n",
       "      <td>male</td>\n",
       "      <td>30.0000</td>\n",
       "      <td>1.0</td>\n",
       "      <td>2.0</td>\n",
       "      <td>113781</td>\n",
       "      <td>151.5500</td>\n",
       "      <td>S</td>\n",
       "    </tr>\n",
       "    <tr>\n",
       "      <th>4</th>\n",
       "      <td>1.0</td>\n",
       "      <td>0</td>\n",
       "      <td>female</td>\n",
       "      <td>25.0000</td>\n",
       "      <td>1.0</td>\n",
       "      <td>2.0</td>\n",
       "      <td>113781</td>\n",
       "      <td>151.5500</td>\n",
       "      <td>S</td>\n",
       "    </tr>\n",
       "    <tr>\n",
       "      <th>...</th>\n",
       "      <td>...</td>\n",
       "      <td>...</td>\n",
       "      <td>...</td>\n",
       "      <td>...</td>\n",
       "      <td>...</td>\n",
       "      <td>...</td>\n",
       "      <td>...</td>\n",
       "      <td>...</td>\n",
       "      <td>...</td>\n",
       "    </tr>\n",
       "    <tr>\n",
       "      <th>1301</th>\n",
       "      <td>3.0</td>\n",
       "      <td>0</td>\n",
       "      <td>male</td>\n",
       "      <td>45.5000</td>\n",
       "      <td>0.0</td>\n",
       "      <td>0.0</td>\n",
       "      <td>2628</td>\n",
       "      <td>7.2250</td>\n",
       "      <td>C</td>\n",
       "    </tr>\n",
       "    <tr>\n",
       "      <th>1304</th>\n",
       "      <td>3.0</td>\n",
       "      <td>0</td>\n",
       "      <td>female</td>\n",
       "      <td>14.5000</td>\n",
       "      <td>1.0</td>\n",
       "      <td>0.0</td>\n",
       "      <td>2665</td>\n",
       "      <td>14.4542</td>\n",
       "      <td>C</td>\n",
       "    </tr>\n",
       "    <tr>\n",
       "      <th>1306</th>\n",
       "      <td>3.0</td>\n",
       "      <td>0</td>\n",
       "      <td>male</td>\n",
       "      <td>26.5000</td>\n",
       "      <td>0.0</td>\n",
       "      <td>0.0</td>\n",
       "      <td>2656</td>\n",
       "      <td>7.2250</td>\n",
       "      <td>C</td>\n",
       "    </tr>\n",
       "    <tr>\n",
       "      <th>1307</th>\n",
       "      <td>3.0</td>\n",
       "      <td>0</td>\n",
       "      <td>male</td>\n",
       "      <td>27.0000</td>\n",
       "      <td>0.0</td>\n",
       "      <td>0.0</td>\n",
       "      <td>2670</td>\n",
       "      <td>7.2250</td>\n",
       "      <td>C</td>\n",
       "    </tr>\n",
       "    <tr>\n",
       "      <th>1308</th>\n",
       "      <td>3.0</td>\n",
       "      <td>0</td>\n",
       "      <td>male</td>\n",
       "      <td>29.0000</td>\n",
       "      <td>0.0</td>\n",
       "      <td>0.0</td>\n",
       "      <td>315082</td>\n",
       "      <td>7.8750</td>\n",
       "      <td>S</td>\n",
       "    </tr>\n",
       "  </tbody>\n",
       "</table>\n",
       "<p>1043 rows × 9 columns</p>\n",
       "</div>"
      ],
      "text/plain": [
       "      pclass survived     sex      age  sibsp  parch  ticket      fare  \\\n",
       "0        1.0        1  female  29.0000    0.0    0.0   24160  211.3375   \n",
       "1        1.0        1    male   0.9167    1.0    2.0  113781  151.5500   \n",
       "2        1.0        0  female   2.0000    1.0    2.0  113781  151.5500   \n",
       "3        1.0        0    male  30.0000    1.0    2.0  113781  151.5500   \n",
       "4        1.0        0  female  25.0000    1.0    2.0  113781  151.5500   \n",
       "...      ...      ...     ...      ...    ...    ...     ...       ...   \n",
       "1301     3.0        0    male  45.5000    0.0    0.0    2628    7.2250   \n",
       "1304     3.0        0  female  14.5000    1.0    0.0    2665   14.4542   \n",
       "1306     3.0        0    male  26.5000    0.0    0.0    2656    7.2250   \n",
       "1307     3.0        0    male  27.0000    0.0    0.0    2670    7.2250   \n",
       "1308     3.0        0    male  29.0000    0.0    0.0  315082    7.8750   \n",
       "\n",
       "     embarked  \n",
       "0           S  \n",
       "1           S  \n",
       "2           S  \n",
       "3           S  \n",
       "4           S  \n",
       "...       ...  \n",
       "1301        C  \n",
       "1304        C  \n",
       "1306        C  \n",
       "1307        C  \n",
       "1308        S  \n",
       "\n",
       "[1043 rows x 9 columns]"
      ]
     },
     "execution_count": 24,
     "metadata": {},
     "output_type": "execute_result"
    }
   ],
   "source": [
    "data_arff = arff.load(open('../data/titanic/titanic.arff', 'r'))\n",
    "dataframe = pd.DataFrame(data_arff['data'])\n",
    "dataframe.columns = [x[0] for x in data_arff['attributes']]\n",
    "dataframe.drop(columns=['name', 'cabin', 'body', 'boat', 'home.dest'], inplace=True)\n",
    "dataframe.dropna(inplace=True)\n",
    "dataframe.to_csv('../data/titanic/titanic.csv', index=False)\n",
    "dataframe"
   ]
  },
  {
   "cell_type": "code",
   "execution_count": 9,
   "metadata": {},
   "outputs": [
    {
     "data": {
      "text/plain": [
       "tensor([[0.0904, 0.0914, 0.0542,  ..., 0.0864, 0.1605, 0.0784],\n",
       "        [0.0696, 0.0101, 0.2556,  ..., 0.0958, 0.1628, 0.0855],\n",
       "        [0.1086, 0.0571, 0.0760,  ..., 0.0915, 0.1628, 0.0884],\n",
       "        ...,\n",
       "        [0.0738, 0.0417, 0.0953,  ..., 0.0465, 0.1630, 0.0200],\n",
       "        [0.1266, 0.0523, 0.1389,  ..., 0.0470, 0.1904, 0.0359],\n",
       "        [0.1017, 0.1164, 0.0242,  ..., 0.1215, 0.1623, 0.0765]])"
      ]
     },
     "execution_count": 9,
     "metadata": {},
     "output_type": "execute_result"
    }
   ],
   "source": [
    "path = '../data'\n",
    "train = torch.tensor(np.load(path + '/Higgs/higgs_train.npy'))\n",
    "permutation = torch.randperm(train.shape[1])\n",
    "train[:, permutation]"
   ]
  },
  {
   "cell_type": "code",
   "execution_count": 21,
   "metadata": {},
   "outputs": [
    {
     "data": {
      "text/plain": [
       "[2, 3, 4, 6, 5, 7, 0, 1]"
      ]
     },
     "execution_count": 21,
     "metadata": {},
     "output_type": "execute_result"
    }
   ],
   "source": [
    "torch.randperm(train.shape[1]).tolist()"
   ]
  },
  {
   "cell_type": "code",
   "execution_count": 17,
   "metadata": {},
   "outputs": [
    {
     "data": {
      "text/plain": [
       "[array([0, 1, 3, 2]),\n",
       " array([1, 2, 0, 3]),\n",
       " array([2, 3, 0, 1]),\n",
       " array([1, 2, 3, 0]),\n",
       " array([0, 1, 3, 2])]"
      ]
     },
     "execution_count": 17,
     "metadata": {},
     "output_type": "execute_result"
    }
   ],
   "source": [
    "[np.random.permutation(4) for _ in range(5)]"
   ]
  },
  {
   "cell_type": "code",
   "execution_count": null,
   "metadata": {},
   "outputs": [],
   "source": []
  }
 ],
 "metadata": {
  "kernelspec": {
   "display_name": ".ttn_venv",
   "language": "python",
   "name": "python3"
  },
  "language_info": {
   "codemirror_mode": {
    "name": "ipython",
    "version": 3
   },
   "file_extension": ".py",
   "mimetype": "text/x-python",
   "name": "python",
   "nbconvert_exporter": "python",
   "pygments_lexer": "ipython3",
   "version": "3.10.12"
  }
 },
 "nbformat": 4,
 "nbformat_minor": 2
}
