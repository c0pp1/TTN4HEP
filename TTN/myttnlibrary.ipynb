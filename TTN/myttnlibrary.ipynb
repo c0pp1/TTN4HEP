{
 "cells": [
  {
   "cell_type": "markdown",
   "metadata": {},
   "source": [
    "# My TTN library\n",
    "In this notebook I try to develop my personal library to handle TTNs, their definition, properties, automatic contraction and training."
   ]
  },
  {
   "cell_type": "code",
   "execution_count": 1,
   "metadata": {},
   "outputs": [],
   "source": [
    "import torch\n",
    "import numpy as np\n",
    "from typing import Sequence, List, Tuple, ValuesView\n",
    "import graphviz\n",
    "graphviz.set_jupyter_format('png')\n",
    "from matplotlib import colormaps, colors\n",
    "import matplotlib.pyplot as plt\n",
    "import colorsys\n",
    "from tqdm import tqdm, trange\n",
    "from string import ascii_letters\n",
    "from timeit import timeit\n",
    "from datetime import datetime\n",
    "from algebra import contract_up, sep_partial_dm, kron\n",
    "from utils import adjust_lightness, get_mnist_data_loaders, accuracy, accuracy_binary, get_stripeimage_data_loaders, get_iris_data_loaders\n",
    "from torchinfo import summary"
   ]
  },
  {
   "cell_type": "markdown",
   "metadata": {},
   "source": [
    "## Automatic contractions\n",
    "Try to develop methods to do automatic contractions, also based on the network structure (separability of states)\n",
    "### Network description"
   ]
  },
  {
   "cell_type": "code",
   "execution_count": 2,
   "metadata": {},
   "outputs": [],
   "source": [
    "from __future__ import annotations\n",
    "from collections import UserString\n",
    "\n",
    "class TIndex:\n",
    "    def __init__(self, name, inds: Sequence[str] | np.ndarray):\n",
    "        self.__name = name\n",
    "        self.__tindices = np.array(inds, dtype=np.str_) # problems with string lenghts\n",
    "        self.__ndims = len(inds)\n",
    "    \n",
    "    def __getitem__(self, key: int) -> str:\n",
    "        return self.__tindices[key]\n",
    "    \n",
    "    def __setitem__(self, key: int, value: str):\n",
    "        old_len = self.__tindices.dtype.itemsize / 4\n",
    "        new_len = max(old_len, len(value))\n",
    "        self.__tindices = self.__tindices.astype(f\"<U{new_len:.0f}\")\n",
    "        self.__tindices[key] = value\n",
    "    \n",
    "    @property\n",
    "    def name(self):\n",
    "        return self.__name \n",
    "\n",
    "    @property\n",
    "    def indices(self):\n",
    "        return self.__tindices\n",
    "    \n",
    "    @property\n",
    "    def ndims(self):\n",
    "        return self.__ndims\n",
    "    \n",
    "    ''' I do not want them to be changed by design   \n",
    "    @indices.setter\n",
    "    def indices(self, value: Sequence[str]):\n",
    "        self.__indices = value\n",
    "    '''\n",
    "    \n",
    "    def __eq__(self, __value: TIndex | str) -> bool:\n",
    "        if isinstance(__value, str):\n",
    "            return self.__name == __value\n",
    "        return self.__name == __value.name and np.all(self.__tindices == __value.indices)\n",
    "    \n",
    "    def __gt__(self, __value: TIndex | str) -> bool:\n",
    "        compare = __value if isinstance(__value, str) else __value.name\n",
    "        try:    compare_layer = int(compare.split('.')[0])\n",
    "        except: compare_layer = np.inf\n",
    "        try:    self_layer = int(self.__name.split('.')[0])\n",
    "        except: self_layer = np.inf\n",
    "\n",
    "        if self_layer > compare_layer:\n",
    "            return True\n",
    "        elif self_layer == compare_layer:\n",
    "            return int(self.__name.split('.')[1]) > int(compare.split('.')[1])\n",
    "        return False\n",
    "    \n",
    "    def __lt__(self, __value: TIndex | str) -> bool:\n",
    "        compare = __value if isinstance(__value, str) else __value.name\n",
    "        try:    compare_layer = int(compare.split('.')[0])\n",
    "        except: compare_layer = np.inf\n",
    "        try:    self_layer = int(self.__name.split('.')[0])\n",
    "        except: self_layer = np.inf\n",
    "\n",
    "        if self_layer < compare_layer:\n",
    "            return True\n",
    "        elif self_layer == compare_layer:\n",
    "            return int(self.__name.split('.')[1]) < int(compare.split('.')[1])\n",
    "        return False\n",
    "    \n",
    "    def __ge__(self, __value: TIndex | str) -> bool:\n",
    "        return self.__gt__(__value) or self.__eq__(__value)\n",
    "    \n",
    "    def __le__(self, __value: TIndex | str) -> bool:\n",
    "        return self.__lt__(__value) or self.__eq__(__value)\n",
    "    \n",
    "    def __hash__(self):\n",
    "        return hash(self.__name)\n",
    "    \n",
    "    def __str__(self) -> str:\n",
    "        return self.__name\n",
    "    \n",
    "    def __repr__(self) -> str:\n",
    "        return 'TIndex: ' + self.__name\n",
    "    \n",
    "    def _repr_markdown_(self):\n",
    "        return f'**{self.__repr__()}**'\n",
    "    \n",
    "    def _repr_html_(self):\n",
    "        markdown_str = f'<details><summary><b style=\"color:#0088d9; font-size:100%; font-family: verdana, sans-serif\">{self.__repr__()} </b></summary>'\n",
    "        for index in self.__tindices:\n",
    "            markdown_str += f'&emsp;&ensp; <b style=\"color:#be00d9\">{index}</b><br>'\n",
    "        return markdown_str + '</details>'\n",
    "    \n",
    "class TTNIndex(TIndex):\n",
    "    def __init__(self, layer: int, layer_index: int):\n",
    "\n",
    "        self.__layer = layer\n",
    "        self.__layer_index = layer_index\n",
    "        super(TTNIndex, self).__init__(f\"{layer}.{layer_index}\",\n",
    "                                       [f\"{layer+1}.{2*layer_index}\", f\"{layer+1}.{2*layer_index+1}\", f\"{layer}.{layer_index}\"], \n",
    "                                       )\n",
    "    \n",
    "    def __repr__(self) -> str:\n",
    "        return f\"TTNIndex: {self.__layer}.{self.__layer_index}\"\n",
    "    \n",
    "# class which represent the link between two tensors in the TTN\n",
    "class TLink:\n",
    "    def __init__(self, source: TIndex, target: TIndex, dim: int, dependencies: List[TIndex] = [], name: str = None):\n",
    "        self.__source = source\n",
    "        self.__target = target\n",
    "        self.__dim = dim\n",
    "        self.__vector = None\n",
    "        self.__has_updated_vector = False\n",
    "        self.__name = name if name is not None else f\"{source.name}\"\n",
    "        self.__dependencies = dependencies\n",
    "\n",
    "    @property\n",
    "    def source(self):\n",
    "        return self.__source\n",
    "    \n",
    "    @property\n",
    "    def target(self):\n",
    "        return self.__target\n",
    "    \n",
    "    @property\n",
    "    def name(self):\n",
    "        return self.__name\n",
    "    \n",
    "    @property\n",
    "    def vector(self):\n",
    "        if self.__has_updated_vector:\n",
    "            return self.__vector\n",
    "        elif self.__vector is not None:\n",
    "            raise ValueError(f\"No vector is set for TLink {self.__name}.\")\n",
    "        else:\n",
    "            raise ValueError(f\"TLink {self.__name} vector is not updated.\")\n",
    "        \n",
    "    @vector.setter\n",
    "    def vector(self, value):\n",
    "        self.__vector = value\n",
    "        self.__has_updated_vector = True\n",
    "\n",
    "    @property\n",
    "    def is_updated(self):\n",
    "        return self.__has_updated_vector\n",
    "    \n",
    "    def depends_on(self, __value: TIndex | str) -> bool:\n",
    "        return __value in self.__dependencies\n",
    "\n",
    "    \n"
   ]
  },
  {
   "cell_type": "code",
   "execution_count": 22,
   "metadata": {},
   "outputs": [],
   "source": [
    "def one_epoch_one_tensor_torch(tensor, data_batched, train_dl, optimizer, loss_fn, device='cuda', pbar=None, disable_pbar=False):\n",
    "    # perform one epoch of optimization of a single tensor\n",
    "    # given the data_tn and the optimizer\n",
    "    tot_data = 0\n",
    "    lossess = []\n",
    "    n_labels = tensor.shape[-1]\n",
    "    if pbar is None:\n",
    "        pbar = tqdm(data_batched, total=len(data_batched),position=0, disable=disable_pbar)\n",
    "    with torch.autograd.set_detect_anomaly(True):\n",
    "        for data, batch in zip(data_batched, train_dl):\n",
    "            optimizer.zero_grad()\n",
    "            labels = batch[1].to(device=device)\n",
    "            \n",
    "            outputs = contract_up(tensor, data.unbind(1))\n",
    "            \n",
    "            probs = torch.real(torch.pow(outputs, 2))\n",
    "            if n_labels > 1:\n",
    "                probs = probs / torch.sum(probs)\n",
    "            loss = loss_fn(labels, probs)\n",
    "\n",
    "            loss.backward()\n",
    "            optimizer.step()\n",
    "            lossess.append(loss.cpu())\n",
    "            tot_data += labels.shape[0]\n",
    "            pbar.update()\n",
    "            pbar.set_postfix_str(f'loss: {loss.item():.3f}')\n",
    "    \n",
    "    pbar.set_postfix({'loss': loss.item(), 'epoch mean loss': np.array([loss.item() for loss in lossess]).mean()})\n",
    "    pbar.close()\n",
    "    return lossess"
   ]
  },
  {
   "cell_type": "markdown",
   "metadata": {},
   "source": [
    "#### Reimplement initialization"
   ]
  },
  {
   "cell_type": "code",
   "execution_count": 4,
   "metadata": {},
   "outputs": [],
   "source": [
    "def sep_partial_dm_torch(\n",
    "    keep_index,\n",
    "    sep_states: torch.utils.data.DataLoader | torch.Tensor, # TODO: support also list of tensors with eventually different shapes\n",
    "    skip_norm=False,\n",
    "    device=\"cpu\",\n",
    "):\n",
    "    if not isinstance(keep_index, torch.Tensor):\n",
    "        keep_index = torch.tensor(keep_index, device=device, dtype=torch.int64)\n",
    "    if isinstance(sep_states, torch.utils.data.DataLoader):\n",
    "        discard_index = torch.ones(\n",
    "            next(iter(sep_states))[0].shape[-2], dtype=torch.bool\n",
    "        )\n",
    "        discard_index[keep_index] = False\n",
    "        rho_list = []\n",
    "        for batch in tqdm(sep_states, desc=\"sep_partial_dm\", position=1):\n",
    "            batch = batch[0].to(device)\n",
    "            if skip_norm:\n",
    "                norm_factor = torch.eye(1, device=device)\n",
    "            else:\n",
    "                norm_factor = torch.prod(\n",
    "                    torch.sum(batch[..., discard_index, :] ** 2, dim=-1), dim=-1\n",
    "                ).squeeze()\n",
    "\n",
    "            rhos = torch.einsum(\n",
    "                \"...i,...j->...ij\",\n",
    "                batch[..., keep_index, :].conj(),\n",
    "                batch[..., keep_index, :],\n",
    "            )\n",
    "            rho = torch.eye(1, device=device, dtype=torch.complex128)\n",
    "\n",
    "            for i in (\n",
    "                keep_index - keep_index.min()\n",
    "            ):  # strange way to index but in this way we can get the partial density matrix also for different permutations of the sites\n",
    "                rho = kron(rho, rhos[..., i, :, :], batchs=batch.shape[0])\n",
    "\n",
    "            rho_list.append(\n",
    "                rho * norm_factor.view([-1] + [1] * (rho.ndim - norm_factor.ndim))\n",
    "            )\n",
    "        return torch.concat(rho_list, dim=0)\n",
    "    \n",
    "    elif isinstance(sep_states, torch.Tensor):\n",
    "        # sep_states is a tensor of separable states with shape B x N x d \n",
    "        # (B is optional batch dimension, N is number of sites, d is local dimension)\n",
    "        batch = sep_states.to(device)\n",
    "        if skip_norm:\n",
    "            norm_factor = torch.eye(1, device=device, dtype=sep_states.dtype)\n",
    "        else:\n",
    "            discard_index = torch.ones(sep_states.shape[-2], dtype=torch.bool)\n",
    "            discard_index[keep_index] = False\n",
    "            norm_factor = torch.prod(\n",
    "                torch.sum(batch[..., discard_index, :] ** 2, dim=-1), dim=-1\n",
    "            ).squeeze()\n",
    "\n",
    "        # get rhos of single sites\n",
    "        rhos = torch.einsum(\n",
    "            \"...i,...j->...ij\",\n",
    "            batch[..., keep_index, :].conj(),\n",
    "            batch[..., keep_index, :],\n",
    "        )\n",
    "        rho = torch.eye(1, device=device)\n",
    "\n",
    "        # tensor product of rhos of single sites if they are selected\n",
    "        for i in keep_index - keep_index.min():\n",
    "            rho = kron(rho, rhos[..., i, :, :], batchs=batch.shape[0])\n",
    "\n",
    "        return rho * norm_factor.view([-1] + [1] * (rho.ndim - norm_factor.ndim))\n",
    "    \n",
    "    else:\n",
    "        raise TypeError(\n",
    "            f\"sep_states must be one of torch.utils.data.DataLoader, torch.Tensor or quimb.tensor.TensorNetwork, got: {type(sep_states)}\"\n",
    "        )\n"
   ]
  },
  {
   "cell_type": "markdown",
   "metadata": {},
   "source": [
    "#### TTN class"
   ]
  },
  {
   "cell_type": "code",
   "execution_count": 61,
   "metadata": {},
   "outputs": [],
   "source": [
    "class TTN:\n",
    "    def __init__(\n",
    "        self,\n",
    "        n_features,\n",
    "        n_phys=2,\n",
    "        n_labels=2,\n",
    "        label_tag=\"label\",\n",
    "        bond_dim=4,\n",
    "        dtype=torch.cdouble,\n",
    "        device=\"cpu\",\n",
    "    ):\n",
    "        if (n_features % 2) != 0:\n",
    "            raise ValueError(f\"n_features must be  power of 2, got: {n_features}\")\n",
    "\n",
    "        self.n_features = n_features\n",
    "        self.n_phys     = n_phys\n",
    "        self.n_labels   = n_labels\n",
    "        self.label_tag  = label_tag\n",
    "        self.bond_dim   = bond_dim\n",
    "        self.device     = device\n",
    "\n",
    "        self.__dtype    = dtype\n",
    "        self.__n_layers = int(np.log2(n_features))\n",
    "        self.__tensors  = []\n",
    "        self.__indices  = [TTNIndex(l, i) for l in range(self.__n_layers) for i in range(2**l)]\n",
    "        # label top edge as label\n",
    "        self.__indices[0][2] = label_tag\n",
    "        # label bottom edges as data\n",
    "        for ttnindex in self.__indices[-2**(self.__n_layers-1):]:\n",
    "            ttnindex[0] = f'data.{ttnindex[0].split(\".\")[1]}'\n",
    "            ttnindex[1] = f'data.{ttnindex[1].split(\".\")[1]}'\n",
    "        # convert to numpy array for easier indexing\n",
    "        self.__indices = np.asarray(self.__indices)\n",
    "\n",
    "        self.__initialized = False\n",
    "\n",
    "        ## INITIALIZE TENSORS ##\n",
    "        # add first tensor with special index\n",
    "        if not (self.__n_layers - 1):\n",
    "            self.__tensors.append(\n",
    "                torch.rand(\n",
    "                    size=(self.n_phys, self.n_phys, self.n_labels),\n",
    "                    dtype=self.__dtype,\n",
    "                    device=self.device\n",
    "                )\n",
    "            )\n",
    "        else:\n",
    "            dim = min(self.n_phys**2**(self.__n_layers-1), self.bond_dim)\n",
    "            self.__tensors.append(\n",
    "                torch.rand(\n",
    "                    size=(dim, dim, self.n_labels),\n",
    "                    dtype=self.__dtype,\n",
    "                    device=self.device\n",
    "                )\n",
    "            )\n",
    "\n",
    "        for l in range(1, self.__n_layers - 1):  # constructing the ttn starting from the top\n",
    "            dim_pre = min(self.n_phys**2**(self.__n_layers - l - 1), self.bond_dim)\n",
    "            dim_post = min(self.n_phys **2** (self.__n_layers - l ), self.bond_dim)\n",
    "            self.__tensors.extend(\n",
    "                [\n",
    "                    torch.rand(\n",
    "                        size=[dim_pre] * 2 + [dim_post],\n",
    "                        dtype=self.__dtype,\n",
    "                        device=self.device\n",
    "                    )\n",
    "                    if np.random.rand() < 0.5\n",
    "                    else torch.eye(\n",
    "                        dim_pre**2, \n",
    "                        dtype=self.__dtype,\n",
    "                        device=self.device)\n",
    "                        .reshape(dim_pre, dim_pre, -1)[:, :, :dim_post]\n",
    "                    for i in range(2**l)\n",
    "                ]\n",
    "            )\n",
    "\n",
    "        dim = min(self.n_phys**2, self.bond_dim)\n",
    "        self.__tensors.extend(\n",
    "            [\n",
    "                torch.rand(\n",
    "                    size=[self.n_phys] * 2 + [dim],\n",
    "                    dtype=self.__dtype,\n",
    "                    device=self.device\n",
    "                )\n",
    "                for i in range(2 ** (self.__n_layers - 1))\n",
    "            ]\n",
    "        )\n",
    "        ########################\n",
    "        self.__tensor_map = dict(zip(self.__indices, self.__tensors))\n",
    "    \n",
    "    def __getitem__(self, key: Sequence[TTNIndex | str] | str | int | slice) -> dict[TTNIndex, torch.Tensor]:\n",
    "\n",
    "        if isinstance(key, int):\n",
    "            return {self.__indices[key]: self.__tensor_map[self.__indices[key]]}\n",
    "        elif isinstance(key, str):\n",
    "            return {self.__indices[self.__indices==key].item(): self.__tensor_map[key]}\n",
    "        elif isinstance(key, Sequence):\n",
    "            return {k if isinstance(k, TTNIndex) else self.__indices[self.__indices==k].item(): self.__tensor_map[k] for k in key}\n",
    "        elif isinstance(key, slice):\n",
    "            return {k: self.__tensor_map[k] for k in self.__indices[key]}\n",
    "        else:\n",
    "            raise TypeError(f\"Invalid argument type: {type(key)}\")\n",
    "        \n",
    "    @property\n",
    "    def indices(self):\n",
    "        return self.__indices\n",
    "    \n",
    "    @property\n",
    "    def tensors(self):\n",
    "        return self.__tensors\n",
    "    \n",
    "    @tensors.setter\n",
    "    def tensors(self, value: Sequence[torch.Tensor] | torch.nn.ParameterList):\n",
    "        self.__tensor_map = dict(zip(self.__indices, value))    # had to put this line before because the setter stops the execution of the rest of the function\n",
    "        self.__tensors = value\n",
    "\n",
    "    @property\n",
    "    def dtype(self):\n",
    "        return self.__dtype\n",
    "    \n",
    "    @property\n",
    "    def n_layers(self):\n",
    "        return self.__n_layers\n",
    "    \n",
    "    @property\n",
    "    def initialized(self):\n",
    "        return self.__initialized\n",
    "        \n",
    "    def __repr__(self) -> str:\n",
    "        return f\"TTN\"\n",
    "    \n",
    "    def _repr_html_(self):\n",
    "        markdown_str = f'<details><summary><b style=\"color:#d95100; font-size:100%; font-family: verdana, sans-serif\">{self.__repr__()} </b></summary>'\n",
    "        for tindex in self.__indices:\n",
    "            markdown_str += f'{tindex._repr_html_()}'\n",
    "        return markdown_str + '</details>'\n",
    "    \n",
    "    def get_branch(self, tindex: TTNIndex | str, till: str='data') -> dict[TTNIndex, torch.Tensor]:\n",
    "        \"\"\"\n",
    "        Returns a dictionary of tensors and indices of the branch starting at tindex, going down to the bottom of the TTN.\n",
    "        \"\"\"\n",
    "        if isinstance(tindex, str):\n",
    "            tindex = self.__indices[self.__indices==tindex].item()\n",
    "        branch_indices = [tindex]\n",
    "        branch_layer   = [tindex]\n",
    "        while till not in branch_layer[0][0]:\n",
    "            branch_layer = [self.__indices[self.__indices==tindex[i]].item() for tindex in branch_layer for i in range(tindex.ndims-1)] \n",
    "            branch_indices.extend(branch_layer) \n",
    "\n",
    "        return self.__getitem__(branch_indices)\n",
    "    \n",
    "    def get_layer(self, layer: int) -> dict[TTNIndex, torch.Tensor]:\n",
    "        \"\"\"\n",
    "        Returns a dictionary of tensors and indices of the layer layer.\n",
    "        \"\"\"\n",
    "        return {tindex: self.__tensor_map[tindex] for tindex in self.__indices if int(tindex.name.split('.')[0]) == layer}\n",
    "    \n",
    "    \n",
    "    def _propagate_data_through_branch_(self, data: dict[TIndex, torch.Tensor], branch: dict[TTNIndex, torch.Tensor], keep=False, pbar=None) -> dict[TIndex, torch.Tensor] :\n",
    "        \"\"\"\n",
    "        Propagates data through a branch of the TTN.\n",
    "        \"\"\"\n",
    "\n",
    "        sorted_branch_keys = sorted(branch.keys(), reverse=True)\n",
    "        last_idx = sorted_branch_keys[-1]\n",
    "        branch_data = data | branch\n",
    "        for tindex in sorted_branch_keys:\n",
    "            if pbar is not None:\n",
    "                pbar.set_postfix_str(f\"contracting {tindex.name}\")\n",
    "            branch_data[tindex] = contract_up(branch_data[tindex].contiguous(), [branch_data[tindex[0]], branch_data[tindex[1]]])\n",
    "            if pbar is not None:\n",
    "                pbar.update(1)\n",
    "                pbar.set_postfix_str(f\"contracted {tindex.name}\")\n",
    "                \n",
    "\n",
    "        if not keep:\n",
    "            result = branch_data[last_idx].clone()\n",
    "            del branch_data\n",
    "\n",
    "        return {key: branch_data[key] for key in sorted_branch_keys} if keep else {TIndex(last_idx.name, last_idx[2]): result}\n",
    "\n",
    "    \n",
    "    def draw(self, name='TTN', cmap='viridis', fontsize=11):\n",
    "        cmap = colormaps.get_cmap(cmap)\n",
    "        categories = np.linspace(0.2, 1, self.__n_layers)\n",
    "        dot = graphviz.Digraph(name, comment='TTN: ' + name, format='svg', engine='dot', renderer='cairo', graph_attr={'bgcolour': 'transparent', 'rankdir': 'LR', 'splines':'false', 'size':'16,14', 'ratio':'compress', 'fontname':'Arial'})\n",
    "        dot.attr('node', shape='circle', width='0.35', fixedsize='true', fontsize=str(fontsize))\n",
    "        dot.attr('edge', color='#bfbfbf', fontsize=str(fontsize-2))\n",
    "        dot.edge('0.0', 'hide', label=self.label_tag)\n",
    "        dot.node('hide', '', shape='plaintext')\n",
    "        for tindex in self.__indices:\n",
    "            c_rgba = list(cmap(categories[int(tindex.name.split('.')[0])]))\n",
    "\n",
    "            dot.node(tindex.name, tindex.name, fillcolor=colors.rgb2hex(c_rgba), style='filled', color=colors.rgb2hex(adjust_lightness(c_rgba, amount=0.8)), penwidth='4')\n",
    "            \n",
    "            dot.edge(tindex[0], tindex.name, label=tindex[0]+f' [{self.__tensor_map[tindex].shape[0]}]', weight=str((int(tindex.name.split('.')[0])+1)**2))\n",
    "            dot.edge(tindex[1], tindex.name, label=tindex[1]+f' [{self.__tensor_map[tindex].shape[1]}]', weight=str((int(tindex.name.split('.')[0])+1)**2))\n",
    "        \n",
    "        for i in range(2**self.__n_layers):\n",
    "            dot.node(f'data.{i}', '', shape='plaintext', width='0.1', height='0.1')\n",
    "        return dot\n",
    "    \n",
    "    def initialize(self, train_dl: torch.utils.data.DataLoader, loss_fn, epochs = 5, disable_pbar=False):\n",
    "        # now we want to run across the ttn, layer by layer\n",
    "        # and initialize the tensors by getting the partial dm\n",
    "        # of two sites of the previous layer, diagonalizing it,\n",
    "        # and isometrizing the rotation matrix (with n eigenvectors\n",
    "        # corresponding to the n=bond_dim greatest eigenvalues)\n",
    "        \n",
    "        data = [data_batch.squeeze().to(self.device, dtype=self.__dtype) for data_batch, _ in train_dl]\n",
    "        data_indices = [TIndex(f'data.{i}', [f'data.{i}']) for i in range(data[0].shape[1])]\n",
    "        \n",
    "        pbar = tqdm(\n",
    "            total=(self.n_layers - 1) * len(train_dl)\n",
    "                  + 2 * (2 ** (self.n_layers - 1) - 1),\n",
    "            desc=\"ttn unsupervised init\",\n",
    "            position=0,\n",
    "            leave=True,\n",
    "            disable=disable_pbar,\n",
    "        )\n",
    "        for layer in range(self.n_layers - 1, 0, -1):  # do this for all layers except the uppermost one\n",
    "            pbar.set_postfix_str(f\"doing layer {layer}\")\n",
    "            next_layer_list = []\n",
    "            ttn_curr_layer = self.get_layer(layer)\n",
    "            # perform initialization of current layer with partial dm\n",
    "            # of state at previous layer\n",
    "            for tindex, tensor in ttn_curr_layer.items():\n",
    "                pbar.set_postfix_str(f\"doing layer {layer}, tensor {tindex.name.split('.')[1]}/{2**layer}\")\n",
    "                sel_sites = [int(index.split(\".\")[-1]) for index in tindex.indices[:2]]\n",
    "                partial_dm = 0\n",
    "                \n",
    "                for data_batch in data:\n",
    "                    partial_dm += sep_partial_dm_torch(sel_sites, data_batch, skip_norm=True, device=self.device).sum(dim=0)\n",
    "                partial_dm /= np.prod([data_batch.shape[0] for data_batch in data], dtype=np.float64)\n",
    "                # now we have to diagonalize the partial dm\n",
    "                eigvals, eigvecs = torch.linalg.eigh(partial_dm)\n",
    "                del partial_dm\n",
    "                # the eigenvectors matrix should be isometrized, but let's check it first\n",
    "                if not torch.allclose(torch.eye(eigvecs.shape[0], device=self.device), torch.matmul(eigvecs , eigvecs.T.conj()).float()):\n",
    "                    raise ValueError(f\"eigenvectors matrix is not isometrized for tensor {tindex.name}\")\n",
    "                \n",
    "                # now we have to select the n eigenvectors corresponding to the n greatest eigenvalues\n",
    "                # and reshape, as the physical indices of the two sites are fused in the first index\n",
    "                self.__tensor_map[tindex] = eigvecs[:, -tensor.shape[-1]:].reshape(tensor.shape).to(dtype=self.__dtype)\n",
    "\n",
    "                # check that the eigenvectors matrix is reshaped correctly\n",
    "                data_eig_contr = 0\n",
    "                for data_batch in data:\n",
    "                    data_eig_contr += contract_up(self.__tensor_map[tindex], data_batch[:, sel_sites, :].unbind(1)).sum(dim=0)\n",
    "                data_eig_contr /= np.prod([data_batch.shape[0] for data_batch in data], dtype=np.float64)\n",
    "                if not torch.allclose(eigvals[-tensor.shape[-1]:].to(dtype=self.__dtype), data_eig_contr.to(dtype=self.__dtype)):\n",
    "                    raise ValueError(f\"eigenvectors matrix is reshaped badly for tensor {tindex.name}\"\n",
    "                                     f\"eigvals: {eigvals[-tensor.shape[-1]:]}\"\n",
    "                                     f\"data_eig_contr: {data_eig_contr}\")\n",
    "\n",
    "                del eigvecs\n",
    "                pbar.update(1)\n",
    "\n",
    "            # calculate next propagation of data to this layer\n",
    "            # with the updated tensors\n",
    "            ttn_curr_layer = self.get_layer(layer)\n",
    "            pbar.set_postfix_str(f\"doing layer {layer}, propagating data\")\n",
    "            for data_batch in data:\n",
    "                new_data_layer = self._propagate_data_through_branch_(dict(zip(data_indices, data_batch.unbind(1))), ttn_curr_layer, keep=True).values()\n",
    "                next_layer_list.append(torch.stack(list(new_data_layer), 1))\n",
    "\n",
    "                pbar.update(1)\n",
    "            del data\n",
    "            data = next_layer_list\n",
    "            data_indices = [TIndex(tindex.name, tindex.indices[-1:]) for tindex in ttn_curr_layer.keys()]\n",
    "        pbar.set_postfix_str(f'done unsupervised init!')\n",
    "        pbar.close()\n",
    "        \n",
    "        # now we want to initialize the top tensor\n",
    "        # ! not working properly\n",
    "        pbar = tqdm(data, total=len(data), desc='ttn supervised init',position=0, disable=disable_pbar)\n",
    "        top_tensor = self.__tensor_map['0.0']\n",
    "        top_parameter = torch.nn.Parameter(top_tensor, requires_grad=True)\n",
    "        optimizer = torch.optim.Adam([top_parameter], 1e-2)\n",
    "        scheduler = torch.optim.lr_scheduler.ReduceLROnPlateau(optimizer, factor=0.4, patience=2, min_lr=1e-5, verbose=True)\n",
    "        for epoch in range(epochs):\n",
    "            pbar.set_postfix_str(f\"doing epoch {epoch+1}/{epochs}\")\n",
    "            losses = one_epoch_one_tensor_torch(top_parameter, data, train_dl, optimizer, loss_fn, device=self.device, disable_pbar=disable_pbar)\n",
    "            scheduler.step(np.array([loss.item() for loss in losses]).mean())\n",
    "        self.__tensor_map['0.0'] = top_parameter.detach()\n",
    "        \n",
    "        self.__tensors = [self.__tensor_map[idx] for idx in self.__indices] # ? this is a bit of a hack, but it works\n",
    "        self.__initialized = True"
   ]
  },
  {
   "cell_type": "code",
   "execution_count": 6,
   "metadata": {},
   "outputs": [
    {
     "data": {
      "text/plain": [
       "(tensor([[[0., 0., 0.],\n",
       "          [0., 0., 1.]],\n",
       " \n",
       "         [[0., 1., 0.],\n",
       "          [1., 0., 0.]]], dtype=torch.float64),\n",
       " tensor([0.0000, 0.0000, 0.5000, 0.5000], dtype=torch.float64))"
      ]
     },
     "execution_count": 6,
     "metadata": {},
     "output_type": "execute_result"
    }
   ],
   "source": [
    "site1 = torch.tensor([1, 0], dtype=torch.double)\n",
    "site2 = torch.tensor([0, 1], dtype=torch.double)\n",
    "\n",
    "dm = torch.kron(site1.outer(site1), site2.outer(site2))\n",
    "dm += torch.kron(site2.outer(site2), site1.outer(site1))\n",
    "dm /= 2.\n",
    "eigvals, eigvecs = torch.linalg.eigh(dm)\n",
    "reshaped = eigvecs[:,-3:].reshape(2, 2, 3)\n",
    "reshaped, eigvals"
   ]
  },
  {
   "cell_type": "code",
   "execution_count": 7,
   "metadata": {},
   "outputs": [
    {
     "data": {
      "text/plain": [
       "tensor([[0., 0., 1.],\n",
       "        [0., 1., 0.]], dtype=torch.float64)"
      ]
     },
     "execution_count": 7,
     "metadata": {},
     "output_type": "execute_result"
    }
   ],
   "source": [
    "contract_up(reshaped, [torch.stack([site1, site2]), torch.stack([site2, site1])])"
   ]
  },
  {
   "cell_type": "code",
   "execution_count": 8,
   "metadata": {},
   "outputs": [
    {
     "data": {
      "text/plain": [
       "tensor([0., 1., 0.], dtype=torch.float64)"
      ]
     },
     "execution_count": 8,
     "metadata": {},
     "output_type": "execute_result"
    }
   ],
   "source": [
    "torch.einsum('i,j,ijk->k', site2, site1, reshaped)"
   ]
  },
  {
   "cell_type": "code",
   "execution_count": 6,
   "metadata": {},
   "outputs": [],
   "source": [
    "def check_correct_init(model: TTN):\n",
    "    # gives true if correctly initialized and also the number of errors\n",
    "    result_list = []\n",
    "    for layer in range(model.n_layers-1,0,-1):\n",
    "        layer_tensors = model.get_layer(layer)\n",
    "        for tidx, tensor in enumerate(layer_tensors.values()):\n",
    "            matrix = tensor.reshape(-1, tensor.shape[-1])\n",
    "            contr = torch.matmul(matrix.T.conj(), matrix)\n",
    "            result = torch.allclose(contr.data, torch.eye(contr.shape[-1], dtype=model.dtype, device='cuda'))\n",
    "            if not result:\n",
    "                print(f'Layer {layer}, tensor {tidx} is not initialized correctly')\n",
    "            result_list.append(not result)\n",
    "    \n",
    "    n_errors = torch.tensor(result_list, dtype=torch.bool).sum().item()\n",
    "    return n_errors == 0, n_errors"
   ]
  },
  {
   "cell_type": "code",
   "execution_count": 7,
   "metadata": {},
   "outputs": [
    {
     "data": {
      "image/png": "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",
      "text/plain": [
<<<<<<< HEAD
       "<graphviz.graphs.Digraph at 0x7fed4b1adb90>"
=======
       "<graphviz.graphs.Digraph at 0x7fa9210c0ee0>"
>>>>>>> 3a2ab141f37a05610f8e8e489c3d462d1fb10d65
      ]
     },
     "execution_count": 7,
     "metadata": {},
     "output_type": "execute_result"
    }
   ],
   "source": [
    "DEVICE = 'cuda'\n",
    "DTYPE = torch.double\n",
    "N_FEAT = 4\n",
    "ttn = TTN(N_FEAT, bond_dim=8, n_labels=2, device=DEVICE, dtype=DTYPE)\n",
    "ttn.draw()"
   ]
  },
  {
   "cell_type": "markdown",
   "metadata": {},
   "source": [
    "### Basic operations\n",
    "General purpose contraction, not optimized"
   ]
  },
  {
   "cell_type": "code",
   "execution_count": 8,
   "metadata": {},
   "outputs": [],
   "source": [
    "def contract(\n",
    "        tensors : Sequence[torch.Tensor] | ValuesView[torch.Tensor], \n",
    "        tindices: Sequence[TTNIndex | TIndex], \n",
    "        keep    : Sequence[str] | None=None, \n",
    "        outname : str | None=None\n",
    "):\n",
    "    \"\"\"\n",
    "    Contract two tensors along the matching TIndices in indices, except for the indices in keep.\n",
    "    \"\"\"\n",
    "    if len(tindices) != len(tensors):\n",
    "        raise ValueError(f\"Expected tensors and tindices to have same lenght, got {len(tensors)} and {len(tindices)}\")\n",
    "\n",
    "    if keep is None:\n",
    "        keep = []\n",
    "    elif isinstance(keep, str):\n",
    "        keep = [keep]\n",
    "    elif not isinstance(keep, Sequence):\n",
    "        raise TypeError(f\"Expected keep to be None, str or Sequence, got {type(keep)}\")\n",
    "\n",
    "    keep = list(keep)\n",
    "    unique_inds, counts = np.unique(np.concatenate([tindex.indices for tindex in tindices]), return_counts=True)\n",
    "    if np.any(np.isin(keep, unique_inds, invert=True)):\n",
    "        raise ValueError(f\"keep contains indices that are not in tindices: {np.asarray(keep)[np.where(np.isin(keep, unique_inds, invert=True))[0]]}\")\n",
    "    if len(unique_inds) > len(ascii_letters):\n",
    "        raise ValueError(f\"Too many indices to contract: {len(unique_inds)} > {len(ascii_letters)}\")\n",
    "\n",
    "    # find output indices (all indices that are not contracted or kept)\n",
    "    output_inds = unique_inds[np.isin(unique_inds, keep) | (counts == 1)]\n",
    "    \n",
    "    # map indices to letters\n",
    "    idx_to_char_map = {tind: ascii_letters[i] for i, tind in enumerate(unique_inds)}\n",
    "    \n",
    "    # contraction strings\n",
    "    ## tensor indices\n",
    "    tindices_str = [\"...\"+\"\".join([idx_to_char_map[i] for i in tindex.indices]) for tindex in tindices] # the ellipsis is for batch dimension\n",
    "    ## output indices\n",
    "    outinds_str = \"...\"+\"\".join([idx_to_char_map[i] for i in output_inds])\n",
    "\n",
    "    #print(tindices_str,'\\n' ,outinds_str)\n",
    "    # contract\n",
    "    C = torch.einsum(f\"{','.join(tindices_str)}->{outinds_str}\", *tensors)\n",
    "\n",
    "    return C, TIndex(f\"{min(tindices)}\" if outname is None else outname, output_inds)\n",
    "\n",
    "    "
   ]
  },
  {
   "cell_type": "markdown",
   "metadata": {},
   "source": [
    "Let's exploit the TTN topology to optimize contractions, i.e. make them go from bottom to top"
   ]
  },
  {
   "cell_type": "code",
   "execution_count": 9,
   "metadata": {},
   "outputs": [],
   "source": [
    "'''\n",
    "def contract_up(tensor: torch.Tensor, data_tensors: Sequence[torch.Tensor]):\n",
    "    # this function is the fundamental block for TTN contractions:\n",
    "    # it takes a ttn tensor and two data vectors and contracts them to a new vector\n",
    "    \n",
    "    left = torch.matmul(data_tensors[0], tensor.view(tensor.shape[0], -1))              # left contraction with data (b x p) @ (p x d) -> (b x d) where d is m*n\n",
    "    right = torch.bmm(data_tensors[1].unsqueeze(1), left.view(-1, *tensor.shape[1:]))   # right contraction with data (b x 1 x m) @ (b x m x n) -> (b x n) \n",
    "\n",
    "    return right.view(-1, tensor.shape[2])\n",
    "'''\n",
    "def contract_up_einsum(tensor: torch.Tensor, data_tensors: Sequence[torch.Tensor]):\n",
    "    # this function is the fundamental block for TTN contractions:\n",
    "    # it takes a ttn tensor and two data vectors and contracts them to a new vector\n",
    "\n",
    "    return torch.einsum('bi,ijk,bj->bk', data_tensors[0], tensor, data_tensors[1])"
   ]
  },
  {
   "cell_type": "markdown",
   "metadata": {},
   "source": [
    "### Tests"
   ]
  },
  {
   "cell_type": "code",
   "execution_count": 10,
   "metadata": {},
   "outputs": [
    {
     "data": {
      "text/plain": [
<<<<<<< HEAD
       "(0.4530770929995924, 3.936759723999785, 2.0237024870002642)"
=======
       "(0.8343078440000227, 4.3471605679999925, 2.7244657690000054)"
>>>>>>> 3a2ab141f37a05610f8e8e489c3d462d1fb10d65
      ]
     },
     "execution_count": 10,
     "metadata": {},
     "output_type": "execute_result"
    }
   ],
   "source": [
    "data = torch.rand(N_FEAT, 10, 2, dtype=DTYPE, device=DEVICE).unbind(0)\n",
    "data_indices = [TIndex(f\"{ttn.n_layers}.{i}\", [f\"data.{i}\"]) for i in range(N_FEAT)]\n",
    "\n",
    "time1 = timeit(lambda: contract_up(ttn.tensors[-1], data[:2]), number=10000)\n",
    "time2 = timeit(lambda: contract((ttn.tensors[-1],) + data[:2], [ttn.indices[-1]]+data_indices[:2]), number=10000)\n",
    "time3 = timeit(lambda: contract_up_einsum(ttn.tensors[-1], data[:2]), number=10000)\n",
    "time1, time2, time3"
   ]
  },
  {
   "cell_type": "code",
   "execution_count": 11,
   "metadata": {},
   "outputs": [
    {
     "name": "stdout",
     "output_type": "stream",
     "text": [
<<<<<<< HEAD
      "0.012087147999409353 0.008008181999684894 0.015907669001535396\n"
=======
      "0.044860923999976876 0.012385537999989538 0.020050660000009657\n"
>>>>>>> 3a2ab141f37a05610f8e8e489c3d462d1fb10d65
     ]
    }
   ],
   "source": [
    "data = torch.rand(N_FEAT, 64, 2, dtype=DTYPE, device=DEVICE).unbind(0)\n",
    "data_indices = [TIndex(f\"data.{i}\", [f\"data.{i}\"]) for i in range(N_FEAT)]\n",
    "i=1\n",
    "time1 = timeit(lambda: ttn._propagate_data_through_branch_(dict(zip(data_indices, data)), ttn.get_branch('1.0')), number=100)\n",
    "time2 = timeit(lambda: ttn._propagate_data_through_branch_(dict(zip(data_indices, data)), ttn.get_branch('1.0'), keep=True), number=100)\n",
    "time3 = timeit(lambda: contract(list(ttn.get_branch(f'1.{i}').values()) + list(data[16*i:16*(i+1)]), list(ttn.get_branch(f'1.{i}').keys())+data_indices[16*i:16*(i+1)]), number=100)\n",
    "print(time1, time2, time3)"
   ]
  },
  {
   "cell_type": "markdown",
   "metadata": {},
   "source": [
    "TEST the contraction scheme by a synthetic dataset and the TTN initialized to identities"
   ]
  },
  {
   "cell_type": "code",
   "execution_count": 12,
   "metadata": {},
   "outputs": [
    {
     "name": "stderr",
     "output_type": "stream",
     "text": [
<<<<<<< HEAD
      "ttn test: 100%|██████████| 3/3 [00:00<00:00, 591.36it/s, contracted 0.0] \n"
=======
      "ttn test: 100%|██████████| 3/3 [00:00<00:00, 286.84it/s, contracted 0.0] "
     ]
    },
    {
     "name": "stderr",
     "output_type": "stream",
     "text": [
      "\n"
>>>>>>> 3a2ab141f37a05610f8e8e489c3d462d1fb10d65
     ]
    },
    {
     "data": {
      "text/plain": [
       "tensor([1., 0.], dtype=torch.float64)"
      ]
     },
     "execution_count": 12,
     "metadata": {},
     "output_type": "execute_result"
    }
   ],
   "source": [
    "def generate_i_state(n_sites, i, dtype=torch.double):\n",
    "    \"\"\"\n",
    "    Generates a separable state wich would be represented \n",
    "    as a vector with 1 at i-th position in the full form.\n",
    "    \"\"\"\n",
    "    sites = []\n",
    "    bin_str = f'{i:b}'\n",
    "    bin_str = '0'*(n_sites-len(bin_str)) + bin_str\n",
    "    for char in bin_str:\n",
    "        if char == '0':\n",
    "            sites.append(torch.as_tensor([1.0, 0.0], dtype=dtype))\n",
    "        else:\n",
    "            sites.append(torch.as_tensor([0.0, 1.0], dtype=dtype))\n",
    " \n",
    "    state = torch.stack(sites)\n",
    "\n",
    "    return state\n",
    "\n",
    "\n",
    "# create general purpose identity tensor\n",
    "# this is a 3d tensor with 1 on the diagonal\n",
    "ID = torch.zeros([4, 4, 4], dtype=DTYPE)\n",
    "for i in range(ID.shape[0]):\n",
    "    ID[i, i, i] = 1.0\n",
    "# create data\n",
    "# you can choose from different states\n",
    "I = 0 # position of 1 in the resulting state (starting from 0)\n",
    "test_states = {'up': [1, 0], 'down': [0, 1], 'plus': [1/(2**0.5), 1/(2**0.5)], 'minus': [1/(2**0.5), -1/(2**0.5)], 'i': generate_i_state(N_FEAT, I)}\n",
    "data = torch.expand_copy(torch.as_tensor(test_states['i'], dtype=DTYPE), [64, N_FEAT, 2])\n",
    "\n",
    "# transform to data dictionary to pass to _propagate_data_through_branch_\n",
    "data_dict = {TIndex(f\"data.{i}\", [f\"data.{i}\"]): datum for i, datum in enumerate(data.unbind(1))}\n",
    "# set TTN tensors to identity\n",
    "ttn.tensors = [torch.eye(tensor.shape[0]**2, dtype=DTYPE).reshape(*tensor.shape[:2], -1)[:,:,:tensor.shape[-1]] for tensor in ttn.tensors] #[ID[:tensor.shape[0], :tensor.shape[1], :tensor.shape[2]] for tensor in ttn.tensors]\n",
    "# contract\n",
    "pbar = tqdm(total=len(ttn.tensors), desc='ttn test', position=0)\n",
    "result = ttn._propagate_data_through_branch_(data_dict, ttn.get_branch('0.0'), keep=True, pbar=pbar)['0.0']\n",
    "pbar.close()\n",
    "result[0]"
   ]
  },
  {
   "cell_type": "markdown",
   "metadata": {},
   "source": [
    "## Torch Model"
   ]
  },
  {
   "cell_type": "code",
<<<<<<< HEAD
   "execution_count": 8,
=======
   "execution_count": 62,
>>>>>>> 3a2ab141f37a05610f8e8e489c3d462d1fb10d65
   "metadata": {},
   "outputs": [],
   "source": [
    "\n",
    "class TTNModel(torch.nn.Module, TTN):\n",
    "    def __init__(\n",
    "            self,\n",
    "            n_features,\n",
    "            n_phys=2,\n",
    "            n_labels=2,\n",
    "            label_tag=\"label\",\n",
    "            bond_dim=8,\n",
    "            dtype=torch.cdouble,\n",
    "            device=\"cpu\"\n",
    "    ):\n",
    "        torch.nn.Module.__init__(self)\n",
    "        TTN.__init__(self, n_features, n_phys, n_labels, label_tag, bond_dim, dtype, device)\n",
    "\n",
    "    def initialize(self, dm_init=False, train_dl: torch.utils.data.Dataloader = None, loss_fn = None, epochs=5, disable_pbar=False):\n",
    "        if dm_init:\n",
    "            if (train_dl is None) or (loss_fn is None):\n",
    "                raise ValueError(f\"The unsupervised and supervised initialization were invoked but the dataloader was: {train_dl}\\n and the loss function was: {loss_fn}\")\n",
    "            else:\n",
    "                TTN.initialize(self, train_dl, loss_fn, epochs, disable_pbar=disable_pbar)\n",
    "        \n",
    "        super(TTNModel, type(self)).tensors.fset(self, torch.nn.ParameterList([torch.nn.Parameter(t, requires_grad=True) for t in self.tensors]))\n",
    "        self.model_init = True\n",
    "\n",
    "    def draw(self):\n",
    "        return TTN.draw(self)\n",
    "\n",
    "    def forward_old(self, x: torch.Tensor):\n",
    "        if not self.initialized:\n",
    "            raise RuntimeError(\"TTNModel not initialized\")\n",
    "        data = x.unbind(0)\n",
    "        data_indices = tuple([TIndex(f\"{self.n_layers}.{i}\", [f\"data.{i}\"]) for i in range(len(data))])\n",
    "    \n",
    "        # propagate data (max 4 layers at once)\n",
    "        skip = 2\n",
    "        for i in range(self.n_layers, 0, -skip):\n",
    "            layer = i-skip if i > skip else 0\n",
    "            print('propagating', layer, i)\n",
    "            propagated = [contract(tuple(self.get_branch(f'{layer}.{j}', till=f'{i if i!=self.n_layers else \"data\"}').values()) + data[2**(i-1)*j:2*(i-1)*(j+1)], \n",
    "                                   tuple(self.get_branch(f'{layer}.{j}', till=f'{i if i!=self.n_layers else \"data\"}').keys()) + data_indices[2**(i-1)*j:2*(i-1)*(j+1)]) for j in range(2**layer)]\n",
    "            data, data_indices = zip(*propagated)\n",
    "            print('done', i, type(data), type(data_indices))\n",
    "\n",
    "        return data[0]\n",
    "    \n",
    "    def forward(self, x: torch.Tensor):\n",
    "        if not self.model_init:\n",
    "            raise RuntimeError(\"TTNModel not initialized\")\n",
    "        data_dict = {TIndex(f\"data.{i}\", [f\"data.{i}\"]): datum for i, datum in enumerate(x.unbind(1))}\n",
    "\n",
    "        return self._propagate_data_through_branch_(data_dict, self.get_branch('0.0'), keep=True)['0.0']\n"
   ]
  },
  {
   "cell_type": "markdown",
   "metadata": {},
   "source": [
    "# Test the model"
   ]
  },
  {
   "cell_type": "code",
<<<<<<< HEAD
   "execution_count": 31,
=======
   "execution_count": 63,
>>>>>>> 3a2ab141f37a05610f8e8e489c3d462d1fb10d65
   "metadata": {},
   "outputs": [],
   "source": [
    "h = 4\n",
    "BATCH_SIZE = 128\n",
    "DATASET = 'stripe'\n",
    "\n",
    "if DATASET == 'mnist':\n",
    "    train_dl, test_dl, train_visual = get_mnist_data_loaders(h, batch_size=BATCH_SIZE)\n",
    "elif DATASET == 'stripe':\n",
    "    train_dl, test_dl = get_stripeimage_data_loaders(h, h, batch_size=BATCH_SIZE)\n",
    "elif DATASET == 'iris':\n",
    "    # worst performance with iris-versicolor and iris-virginica\n",
    "    train_dl, test_dl, h = get_iris_data_loaders(batch_size=BATCH_SIZE, sel_labels=['Iris-virginica', 'Iris-versicolor', 'Iris-setosa'])"
   ]
  },
  {
   "cell_type": "code",
<<<<<<< HEAD
   "execution_count": 32,
=======
   "execution_count": 64,
>>>>>>> 3a2ab141f37a05610f8e8e489c3d462d1fb10d65
   "metadata": {},
   "outputs": [],
   "source": [
    "def loss(labels, output):\n",
    "    return torch.mean((output.squeeze() - labels)**2)/2"
   ]
  },
  {
   "cell_type": "code",
<<<<<<< HEAD
   "execution_count": 33,
=======
   "execution_count": 65,
>>>>>>> 3a2ab141f37a05610f8e8e489c3d462d1fb10d65
   "metadata": {},
   "outputs": [
    {
     "data": {
      "image/png": "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",
      "text/plain": [
<<<<<<< HEAD
       "<graphviz.graphs.Digraph at 0x7fed49cd5090>"
      ]
     },
     "execution_count": 33,
=======
       "<graphviz.graphs.Digraph at 0x7fa804d2da80>"
      ]
     },
     "execution_count": 65,
>>>>>>> 3a2ab141f37a05610f8e8e489c3d462d1fb10d65
     "metadata": {},
     "output_type": "execute_result"
    }
   ],
   "source": [
    "DEVICE = 'cuda'\n",
<<<<<<< HEAD
    "BOND_DIM = 4\n",
    "DTYPE = torch.double\n",
    "N_LABELS = 3\n",
=======
    "BOND_DIM = 32\n",
    "DTYPE = torch.cdouble\n",
>>>>>>> 3a2ab141f37a05610f8e8e489c3d462d1fb10d65
    "features = h**2\n",
    "\n",
    "model = TTNModel(features, bond_dim=BOND_DIM, n_labels=N_LABELS, device=DEVICE, dtype=DTYPE)\n",
    "model.draw()"
   ]
  },
  {
   "cell_type": "code",
<<<<<<< HEAD
   "execution_count": 34,
   "metadata": {},
   "outputs": [
    {
     "data": {
      "text/plain": [
       "torch.Size([8, 3])"
      ]
     },
     "execution_count": 34,
     "metadata": {},
     "output_type": "execute_result"
    }
   ],
   "source": [
    "next(iter(train_dl))[1].shape"
   ]
  },
  {
   "cell_type": "code",
   "execution_count": 35,
=======
   "execution_count": 66,
>>>>>>> 3a2ab141f37a05610f8e8e489c3d462d1fb10d65
   "metadata": {},
   "outputs": [
    {
     "name": "stderr",
     "output_type": "stream",
     "text": [
<<<<<<< HEAD
      "ttn unsupervised init: 100%|██████████| 17/17 [00:00<00:00, 800.06it/s, done unsupervised init!]       \n",
      "100%|██████████| 15/15 [00:00<00:00, 33.37it/s, loss=0.155, epoch mean loss=0.154]\n",
      "100%|██████████| 15/15 [00:00<00:00, 32.26it/s, loss=0.155, epoch mean loss=0.154]\n",
      "100%|██████████| 15/15 [00:00<00:00, 29.22it/s, loss=0.154, epoch mean loss=0.154]\n",
      "100%|██████████| 15/15 [00:00<00:00, 34.62it/s, loss=0.154, epoch mean loss=0.154]\n",
      "100%|██████████| 15/15 [00:00<00:00, 34.64it/s, loss=0.154, epoch mean loss=0.154]\n",
      "ttn supervised init:   0%|          | 0/15 [00:02<?, ?it/s, doing epoch 5/5]\n"
=======
      "ttn unsupervised init: 100%|██████████| 251/251 [00:04<00:00, 53.44it/s, done unsupervised init!]         \n",
      "100%|██████████| 79/79 [00:01<00:00, 76.71it/s, loss=0.0938, epoch mean loss=0.185]\n",
      "100%|██████████| 79/79 [00:01<00:00, 76.63it/s, loss=0.145, epoch mean loss=0.146]\n",
      "100%|██████████| 79/79 [00:01<00:00, 71.97it/s, loss=0.197, epoch mean loss=0.143]\n",
      "100%|██████████| 79/79 [00:01<00:00, 73.00it/s, loss=0.153, epoch mean loss=0.141]\n",
      "100%|██████████| 79/79 [00:01<00:00, 72.99it/s, loss=0.125, epoch mean loss=0.14]\n",
      "100%|██████████| 79/79 [00:01<00:00, 72.86it/s, loss=0.114, epoch mean loss=0.138]\n",
      "100%|██████████| 79/79 [00:01<00:00, 72.18it/s, loss=0.137, epoch mean loss=0.137]\n",
      "100%|██████████| 79/79 [00:01<00:00, 71.63it/s, loss=0.13, epoch mean loss=0.135]\n",
      "100%|██████████| 79/79 [00:01<00:00, 67.04it/s, loss=0.155, epoch mean loss=0.133]\n",
      "100%|██████████| 79/79 [00:01<00:00, 72.77it/s, loss=0.119, epoch mean loss=0.131]\n",
      "100%|██████████| 79/79 [00:01<00:00, 71.92it/s, loss=0.117, epoch mean loss=0.131]\n",
      "100%|██████████| 79/79 [00:01<00:00, 73.33it/s, loss=0.111, epoch mean loss=0.13]\n",
      "100%|██████████| 79/79 [00:01<00:00, 66.57it/s, loss=0.14, epoch mean loss=0.131]\n",
      "100%|██████████| 79/79 [00:01<00:00, 71.80it/s, loss=0.122, epoch mean loss=0.129]\n",
      "100%|██████████| 79/79 [00:01<00:00, 70.72it/s, loss=0.149, epoch mean loss=0.131]\n",
      "100%|██████████| 79/79 [00:01<00:00, 66.20it/s, loss=0.123, epoch mean loss=0.13]\n",
      "100%|██████████| 79/79 [00:01<00:00, 67.98it/s, loss=0.124, epoch mean loss=0.13]\n",
      "ttn supervised init:   0%|          | 0/79 [00:18<?, ?it/s, doing epoch 18/25]"
     ]
    },
    {
     "name": "stdout",
     "output_type": "stream",
     "text": [
      "Epoch 00017: reducing learning rate of group 0 to 4.0000e-03.\n"
     ]
    },
    {
     "name": "stderr",
     "output_type": "stream",
     "text": [
      "100%|██████████| 79/79 [00:01<00:00, 69.90it/s, loss=0.15, epoch mean loss=0.129]\n",
      "100%|██████████| 79/79 [00:01<00:00, 67.02it/s, loss=0.123, epoch mean loss=0.129]\n",
      "100%|██████████| 79/79 [00:01<00:00, 68.25it/s, loss=0.118, epoch mean loss=0.129]\n",
      "100%|██████████| 79/79 [00:01<00:00, 70.89it/s, loss=0.134, epoch mean loss=0.129]\n",
      "100%|██████████| 79/79 [00:01<00:00, 66.73it/s, loss=0.129, epoch mean loss=0.128]\n",
      "100%|██████████| 79/79 [00:01<00:00, 69.51it/s, loss=0.124, epoch mean loss=0.129]\n",
      "100%|██████████| 79/79 [00:01<00:00, 69.85it/s, loss=0.131, epoch mean loss=0.128]\n",
      "100%|██████████| 79/79 [00:01<00:00, 66.90it/s, loss=0.115, epoch mean loss=0.128]\n",
      "ttn supervised init:   0%|          | 0/79 [00:28<?, ?it/s, doing epoch 25/25]\n"
>>>>>>> 3a2ab141f37a05610f8e8e489c3d462d1fb10d65
     ]
    }
   ],
   "source": [
<<<<<<< HEAD
    "INIT_EPOCHS = 5\n",
=======
    "INIT_EPOCHS = 25\n",
>>>>>>> 3a2ab141f37a05610f8e8e489c3d462d1fb10d65
    "\n",
    "model.initialize(True, train_dl, loss, INIT_EPOCHS)"
   ]
  },
  {
   "cell_type": "code",
<<<<<<< HEAD
   "execution_count": 36,
=======
   "execution_count": 41,
>>>>>>> 3a2ab141f37a05610f8e8e489c3d462d1fb10d65
   "metadata": {},
   "outputs": [
    {
     "name": "stdout",
     "output_type": "stream",
     "text": [
      "(True, 0)\n"
     ]
    },
    {
     "data": {
      "text/plain": [
       "==========================================================================================\n",
       "Layer (type:depth-idx)                   Output Shape              Param #\n",
       "==========================================================================================\n",
<<<<<<< HEAD
       "TTNModel                                 [8, 3]                    80\n",
       "==========================================================================================\n",
       "Total params: 80\n",
       "Trainable params: 80\n",
=======
       "TTNModel                                 [64, 1]                   1,728\n",
       "==========================================================================================\n",
       "Total params: 1,728\n",
       "Trainable params: 1,728\n",
>>>>>>> 3a2ab141f37a05610f8e8e489c3d462d1fb10d65
       "Non-trainable params: 0\n",
       "Total mult-adds (M): 0\n",
       "==========================================================================================\n",
       "Input size (MB): 0.03\n",
       "Forward/backward pass size (MB): 0.00\n",
       "Params size (MB): 0.00\n",
       "Estimated Total Size (MB): 0.03\n",
       "=========================================================================================="
      ]
     },
<<<<<<< HEAD
     "execution_count": 36,
=======
     "execution_count": 41,
>>>>>>> 3a2ab141f37a05610f8e8e489c3d462d1fb10d65
     "metadata": {},
     "output_type": "execute_result"
    }
   ],
   "source": [
    "print(check_correct_init(model))\n",
    "summary(model, input_size=(BATCH_SIZE, features, 2), dtypes=[DTYPE], device=DEVICE)"
   ]
  },
  {
   "cell_type": "code",
<<<<<<< HEAD
   "execution_count": 15,
=======
   "execution_count": 21,
>>>>>>> 3a2ab141f37a05610f8e8e489c3d462d1fb10d65
   "metadata": {},
   "outputs": [
    {
     "data": {
      "text/plain": [
<<<<<<< HEAD
       "0.3010895819988946"
      ]
     },
     "execution_count": 15,
=======
       "0.6007520690000092"
      ]
     },
     "execution_count": 21,
>>>>>>> 3a2ab141f37a05610f8e8e489c3d462d1fb10d65
     "metadata": {},
     "output_type": "execute_result"
    }
   ],
   "source": [
    "data = torch.rand(256, features, 2, dtype=DTYPE, device=DEVICE)\n",
    "with torch.no_grad():\n",
    "    result = timeit(lambda: model(data), number=1000)\n",
    "result"
   ]
  },
  {
   "cell_type": "code",
<<<<<<< HEAD
   "execution_count": 37,
=======
   "execution_count": 43,
>>>>>>> 3a2ab141f37a05610f8e8e489c3d462d1fb10d65
   "metadata": {},
   "outputs": [],
   "source": [
    "\n",
    "def train_one_epoch(model, device, train_dl, loss_fn, optimizer, pbar=None, disable_pbar=False):\n",
    "    running_loss = 0.\n",
    "    last_loss = 0.\n",
    "    last_batch = 0\n",
    "    loss_history = []\n",
    "    close_pbar = False\n",
    "    if pbar is None:\n",
    "        close_pbar = True\n",
    "        pbar = tqdm(enumerate(train_dl), total=len(train_dl),position=0, leave=True, disable=disable_pbar)\n",
    "    for i, data in enumerate(train_dl):\n",
    "\n",
    "        # Every data instance is an input + label pair\n",
    "        inputs, labels = data\n",
    "        inputs, labels = inputs.squeeze().to(device, dtype=DTYPE, non_blocking=True), labels.to(device)\n",
    "\n",
    "        # Zero your gradients for every batch!\n",
    "        optimizer.zero_grad()\n",
    "\n",
    "        # Make predictions for this batch\n",
    "        outputs = model(inputs)\n",
    "        probs = torch.pow(outputs, 2)\n",
    "        if DTYPE == torch.cdouble:\n",
    "            probs = torch.real(probs)\n",
    "\n",
    "        #probs = probs / torch.sum(probs, -1)\n",
    "        \n",
    "        # Compute the loss and its gradients\n",
    "        loss = loss_fn(labels, probs)\n",
    "        loss.backward()\n",
    "        \n",
    "        # Adjust learning weights\n",
    "        optimizer.step()\n",
    "\n",
    "        # Gather data and report\n",
    "        running_loss += loss.item()\n",
    "        loss_history.append(loss.item())\n",
    "        if i % 10 == 9:\n",
    "            last_batch = i+1\n",
    "            last_loss = running_loss / 10 # mean loss over 10 batches\n",
    "            running_loss = 0.  \n",
    "        pbar.update()\n",
    "        pbar.set_postfix({'current loss': loss.item(), \n",
    "                          f'batches {last_batch-10}-{last_batch} loss': last_loss, \n",
    "                          'weight_norm': torch.as_tensor([torch.norm(tensor) for tensor in model.tensors]).mean(0).item()})\n",
    "        \n",
    "    pbar.set_postfix({'current loss': loss.item(), f'batches {last_batch-10}-{last_batch} loss': last_loss, 'epoch mean loss': np.array(loss_history).mean()}) # not correct as the last batch is averaged on less samples\n",
    "    if close_pbar:\n",
    "        pbar.close()\n",
    "    return loss_history\n"
   ]
  },
  {
   "cell_type": "code",
<<<<<<< HEAD
   "execution_count": 38,
=======
   "execution_count": 68,
>>>>>>> 3a2ab141f37a05610f8e8e489c3d462d1fb10d65
   "metadata": {},
   "outputs": [],
   "source": [
    "LR = 0.02\n",
    "EPOCHS = 80\n",
    "SCHEDULER_STEPS = 4\n",
    "\n",
    "\n",
    "model.train()\n",
    "model.to(DEVICE)\n",
    "optimizer = torch.optim.Adam(model.parameters(), lr=LR, weight_decay=1e-4)\n",
    "schedulers = [torch.optim.lr_scheduler.ExponentialLR(optimizer, 0.9, last_epoch=-1, verbose=False), torch.optim.lr_scheduler.CosineAnnealingLR(optimizer, 10, eta_min=1e-5)]\n",
    "scheduler = schedulers[0]"
   ]
  },
  {
   "cell_type": "code",
<<<<<<< HEAD
   "execution_count": 39,
=======
   "execution_count": 69,
>>>>>>> 3a2ab141f37a05610f8e8e489c3d462d1fb10d65
   "metadata": {},
   "outputs": [
    {
     "name": "stderr",
     "output_type": "stream",
     "text": [
<<<<<<< HEAD
      "100%|██████████| 15/15 [00:00<00:00, 76.30it/s, current loss=0.0766, batches 0-10 loss=0.106, epoch mean loss=0.0955]\n",
      "100%|██████████| 15/15 [00:00<00:00, 72.94it/s, current loss=0.0279, batches 0-10 loss=0.0391, epoch mean loss=0.0352]\n",
      "100%|██████████| 15/15 [00:00<00:00, 76.08it/s, current loss=0.0154, batches 0-10 loss=0.0205, epoch mean loss=0.0199]\n",
      "100%|██████████| 15/15 [00:00<00:00, 64.24it/s, current loss=0.015, batches 0-10 loss=0.0161, epoch mean loss=0.0158]\n",
      "100%|██████████| 15/15 [00:00<00:00, 63.31it/s, current loss=0.0128, batches 0-10 loss=0.0145, epoch mean loss=0.0143]\n",
      "100%|██████████| 15/15 [00:00<00:00, 80.01it/s, current loss=0.0121, batches 0-10 loss=0.0136, epoch mean loss=0.0135]\n",
      "100%|██████████| 15/15 [00:00<00:00, 81.36it/s, current loss=0.0123, batches 0-10 loss=0.0132, epoch mean loss=0.0132]\n",
      "100%|██████████| 15/15 [00:00<00:00, 58.70it/s, current loss=0.0121, batches 0-10 loss=0.013, epoch mean loss=0.0129]\n",
      "100%|██████████| 15/15 [00:00<00:00, 76.94it/s, current loss=0.0113, batches 0-10 loss=0.0126, epoch mean loss=0.0125]\n",
      "100%|██████████| 15/15 [00:00<00:00, 78.45it/s, current loss=0.0109, batches 0-10 loss=0.0123, epoch mean loss=0.0123]\n",
      "100%|██████████| 15/15 [00:00<00:00, 63.05it/s, current loss=0.0109, batches 0-10 loss=0.012, epoch mean loss=0.012]\n",
      "100%|██████████| 15/15 [00:00<00:00, 59.31it/s, current loss=0.0108, batches 0-10 loss=0.0119, epoch mean loss=0.0119]\n",
      "100%|██████████| 15/15 [00:00<00:00, 71.95it/s, current loss=0.0103, batches 0-10 loss=0.0117, epoch mean loss=0.0118]\n",
      "100%|██████████| 15/15 [00:00<00:00, 71.69it/s, current loss=0.01, batches 0-10 loss=0.0115, epoch mean loss=0.0116]\n",
      "100%|██████████| 15/15 [00:00<00:00, 75.14it/s, current loss=0.01, batches 0-10 loss=0.0113, epoch mean loss=0.0115]\n",
      "100%|██████████| 15/15 [00:00<00:00, 63.60it/s, current loss=0.01, batches 0-10 loss=0.0113, epoch mean loss=0.0114]\n",
      "100%|██████████| 15/15 [00:00<00:00, 78.06it/s, current loss=0.00946, batches 0-10 loss=0.0111, epoch mean loss=0.0113]\n",
      "100%|██████████| 15/15 [00:00<00:00, 74.36it/s, current loss=0.0093, batches 0-10 loss=0.011, epoch mean loss=0.0111]\n",
      "100%|██████████| 15/15 [00:00<00:00, 76.19it/s, current loss=0.00934, batches 0-10 loss=0.0109, epoch mean loss=0.011]\n",
      "100%|██████████| 15/15 [00:00<00:00, 66.13it/s, current loss=0.0093, batches 0-10 loss=0.0109, epoch mean loss=0.011]\n",
      "100%|██████████| 15/15 [00:00<00:00, 72.03it/s, current loss=0.00879, batches 0-10 loss=0.0107, epoch mean loss=0.0109]\n",
      "100%|██████████| 15/15 [00:00<00:00, 80.43it/s, current loss=0.00874, batches 0-10 loss=0.0106, epoch mean loss=0.0107]\n",
      "100%|██████████| 15/15 [00:00<00:00, 66.99it/s, current loss=0.0088, batches 0-10 loss=0.0106, epoch mean loss=0.0107]\n",
      "100%|██████████| 15/15 [00:00<00:00, 64.56it/s, current loss=0.00874, batches 0-10 loss=0.0106, epoch mean loss=0.0107]\n",
      "100%|██████████| 15/15 [00:00<00:00, 74.37it/s, current loss=0.00831, batches 0-10 loss=0.0104, epoch mean loss=0.0106]\n",
      "100%|██████████| 15/15 [00:00<00:00, 75.94it/s, current loss=0.00833, batches 0-10 loss=0.0103, epoch mean loss=0.0105]\n",
      "100%|██████████| 15/15 [00:00<00:00, 75.89it/s, current loss=0.00837, batches 0-10 loss=0.0103, epoch mean loss=0.0104]\n",
      "100%|██████████| 15/15 [00:00<00:00, 75.09it/s, current loss=0.00832, batches 0-10 loss=0.0103, epoch mean loss=0.0104]\n",
      "100%|██████████| 15/15 [00:00<00:00, 74.75it/s, current loss=0.00795, batches 0-10 loss=0.0102, epoch mean loss=0.0103]\n",
      "100%|██████████| 15/15 [00:00<00:00, 72.88it/s, current loss=0.00801, batches 0-10 loss=0.0101, epoch mean loss=0.0102]\n",
      "100%|██████████| 15/15 [00:00<00:00, 60.76it/s, current loss=0.00802, batches 0-10 loss=0.0101, epoch mean loss=0.0102]\n",
      "100%|██████████| 15/15 [00:00<00:00, 71.93it/s, current loss=0.00798, batches 0-10 loss=0.0101, epoch mean loss=0.0102]\n",
      "100%|██████████| 15/15 [00:00<00:00, 69.83it/s, current loss=0.00766, batches 0-10 loss=0.01, epoch mean loss=0.0101]\n",
      "100%|██████████| 15/15 [00:00<00:00, 58.72it/s, current loss=0.00774, batches 0-10 loss=0.00995, epoch mean loss=0.0101]\n",
      "100%|██████████| 15/15 [00:00<00:00, 71.72it/s, current loss=0.00772, batches 0-10 loss=0.00996, epoch mean loss=0.0101]\n",
      "100%|██████████| 15/15 [00:00<00:00, 78.57it/s, current loss=0.0077, batches 0-10 loss=0.00994, epoch mean loss=0.01]\n",
      "100%|██████████| 15/15 [00:00<00:00, 69.92it/s, current loss=0.00743, batches 0-10 loss=0.00986, epoch mean loss=0.00995]\n",
      "100%|██████████| 15/15 [00:00<00:00, 74.02it/s, current loss=0.00751, batches 0-10 loss=0.00981, epoch mean loss=0.0099]\n",
      "100%|██████████| 15/15 [00:00<00:00, 77.25it/s, current loss=0.00747, batches 0-10 loss=0.00983, epoch mean loss=0.00991]\n",
      "100%|██████████| 15/15 [00:00<00:00, 71.55it/s, current loss=0.00747, batches 0-10 loss=0.00981, epoch mean loss=0.00989]\n",
      "100%|██████████| 15/15 [00:00<00:00, 61.57it/s, current loss=0.00723, batches 0-10 loss=0.00975, epoch mean loss=0.00982]\n",
      "100%|██████████| 15/15 [00:00<00:00, 76.04it/s, current loss=0.00732, batches 0-10 loss=0.00971, epoch mean loss=0.00978]\n",
      "100%|██████████| 15/15 [00:00<00:00, 71.85it/s, current loss=0.00727, batches 0-10 loss=0.00972, epoch mean loss=0.00979]\n",
      "100%|██████████| 15/15 [00:00<00:00, 77.61it/s, current loss=0.00728, batches 0-10 loss=0.00971, epoch mean loss=0.00977]\n",
      "100%|██████████| 15/15 [00:00<00:00, 64.58it/s, current loss=0.00707, batches 0-10 loss=0.00966, epoch mean loss=0.00972]\n",
      "100%|██████████| 15/15 [00:00<00:00, 80.54it/s, current loss=0.00716, batches 0-10 loss=0.00962, epoch mean loss=0.00968]\n",
      "100%|██████████| 15/15 [00:00<00:00, 73.11it/s, current loss=0.00711, batches 0-10 loss=0.00963, epoch mean loss=0.00968]\n",
      "100%|██████████| 15/15 [00:00<00:00, 52.96it/s, current loss=0.00714, batches 0-10 loss=0.00961, epoch mean loss=0.00966]\n",
      "100%|██████████| 15/15 [00:00<00:00, 71.81it/s, current loss=0.00696, batches 0-10 loss=0.00956, epoch mean loss=0.00962]\n",
      "100%|██████████| 15/15 [00:00<00:00, 65.48it/s, current loss=0.00705, batches 0-10 loss=0.00951, epoch mean loss=0.00958]\n",
      "100%|██████████| 15/15 [00:00<00:00, 74.78it/s, current loss=0.00699, batches 0-10 loss=0.00951, epoch mean loss=0.00958]\n",
      "100%|██████████| 15/15 [00:00<00:00, 59.96it/s, current loss=0.00702, batches 0-10 loss=0.00949, epoch mean loss=0.00956]\n",
      "100%|██████████| 15/15 [00:00<00:00, 73.49it/s, current loss=0.00686, batches 0-10 loss=0.00945, epoch mean loss=0.00952]\n",
      "100%|██████████| 15/15 [00:00<00:00, 74.61it/s, current loss=0.00695, batches 0-10 loss=0.00941, epoch mean loss=0.00949]\n",
      "100%|██████████| 15/15 [00:00<00:00, 73.25it/s, current loss=0.00689, batches 0-10 loss=0.0094, epoch mean loss=0.00948]\n",
      "100%|██████████| 15/15 [00:00<00:00, 77.32it/s, current loss=0.00692, batches 0-10 loss=0.00938, epoch mean loss=0.00946]\n",
      "100%|██████████| 15/15 [00:00<00:00, 73.47it/s, current loss=0.00678, batches 0-10 loss=0.00935, epoch mean loss=0.00943]\n",
      "100%|██████████| 15/15 [00:00<00:00, 76.66it/s, current loss=0.00685, batches 0-10 loss=0.00932, epoch mean loss=0.00941]\n",
      "100%|██████████| 15/15 [00:00<00:00, 62.04it/s, current loss=0.0068, batches 0-10 loss=0.00931, epoch mean loss=0.00939]\n",
      "100%|██████████| 15/15 [00:00<00:00, 72.22it/s, current loss=0.00682, batches 0-10 loss=0.00931, epoch mean loss=0.00939]\n",
      "100%|██████████| 15/15 [00:00<00:00, 66.99it/s, current loss=0.00671, batches 0-10 loss=0.00928, epoch mean loss=0.00935]\n",
      "100%|██████████| 15/15 [00:00<00:00, 78.22it/s, current loss=0.00675, batches 0-10 loss=0.00925, epoch mean loss=0.00934]\n",
      "100%|██████████| 15/15 [00:00<00:00, 75.71it/s, current loss=0.00672, batches 0-10 loss=0.00924, epoch mean loss=0.00932]\n",
      "100%|██████████| 15/15 [00:00<00:00, 76.93it/s, current loss=0.00673, batches 0-10 loss=0.00924, epoch mean loss=0.00932]\n",
      "100%|██████████| 15/15 [00:00<00:00, 71.67it/s, current loss=0.00664, batches 0-10 loss=0.00921, epoch mean loss=0.00929]\n",
      "100%|██████████| 15/15 [00:00<00:00, 64.48it/s, current loss=0.00667, batches 0-10 loss=0.00919, epoch mean loss=0.00927]\n",
      "100%|██████████| 15/15 [00:00<00:00, 74.58it/s, current loss=0.00665, batches 0-10 loss=0.00918, epoch mean loss=0.00926]\n",
      "100%|██████████| 15/15 [00:00<00:00, 68.60it/s, current loss=0.00665, batches 0-10 loss=0.00918, epoch mean loss=0.00926]\n",
      "100%|██████████| 15/15 [00:00<00:00, 72.56it/s, current loss=0.00658, batches 0-10 loss=0.00916, epoch mean loss=0.00923]\n",
      "100%|██████████| 15/15 [00:00<00:00, 70.60it/s, current loss=0.0066, batches 0-10 loss=0.00914, epoch mean loss=0.00922]\n",
      "100%|██████████| 15/15 [00:00<00:00, 71.21it/s, current loss=0.00659, batches 0-10 loss=0.00913, epoch mean loss=0.00921]\n",
      "100%|██████████| 15/15 [00:00<00:00, 71.84it/s, current loss=0.00658, batches 0-10 loss=0.00913, epoch mean loss=0.0092]\n",
      "100%|██████████| 15/15 [00:00<00:00, 74.94it/s, current loss=0.00652, batches 0-10 loss=0.00911, epoch mean loss=0.00918]\n",
      "100%|██████████| 15/15 [00:00<00:00, 72.00it/s, current loss=0.00653, batches 0-10 loss=0.00909, epoch mean loss=0.00917]\n",
      "100%|██████████| 15/15 [00:00<00:00, 57.61it/s, current loss=0.00653, batches 0-10 loss=0.00909, epoch mean loss=0.00916]\n",
      "100%|██████████| 15/15 [00:00<00:00, 73.76it/s, current loss=0.00652, batches 0-10 loss=0.00909, epoch mean loss=0.00916]\n",
      "100%|██████████| 15/15 [00:00<00:00, 57.41it/s, current loss=0.00647, batches 0-10 loss=0.00906, epoch mean loss=0.00913]\n",
      "100%|██████████| 15/15 [00:00<00:00, 73.07it/s, current loss=0.00647, batches 0-10 loss=0.00905, epoch mean loss=0.00912]\n",
      "100%|██████████| 15/15 [00:00<00:00, 72.52it/s, current loss=0.00647, batches 0-10 loss=0.00905, epoch mean loss=0.00912]\n",
      "100%|██████████| 15/15 [00:00<00:00, 65.18it/s, current loss=0.00647, batches 0-10 loss=0.00905, epoch mean loss=0.00911]\n",
      "epochs: 100%|██████████| 80/80 [00:27<00:00,  2.90it/s]\n"
=======
      "100%|██████████| 79/79 [00:02<00:00, 36.95it/s, current loss=0.0167, batches 60-70 loss=0.0127, epoch mean loss=0.195]\n",
      "100%|██████████| 79/79 [00:02<00:00, 37.42it/s, current loss=0.00491, batches 60-70 loss=0.00667, epoch mean loss=0.00778]\n",
      "100%|██████████| 79/79 [00:02<00:00, 37.24it/s, current loss=0.00718, batches 60-70 loss=0.00625, epoch mean loss=0.00666]\n",
      "100%|██████████| 79/79 [00:02<00:00, 37.23it/s, current loss=0.00603, batches 60-70 loss=0.00653, epoch mean loss=0.00613]\n",
      "100%|██████████| 79/79 [00:02<00:00, 36.27it/s, current loss=0.00145, batches 60-70 loss=0.00658, epoch mean loss=0.00596]\n",
      "100%|██████████| 79/79 [00:02<00:00, 37.30it/s, current loss=0.00705, batches 60-70 loss=0.00656, epoch mean loss=0.00628]\n",
      "epochs:   8%|▊         | 6/80 [00:14<03:03,  2.48s/it]t loss=0.00781, batches 20-30 loss=0.007, weight_norm=3.62]  \n"
     ]
    },
    {
     "ename": "KeyboardInterrupt",
     "evalue": "",
     "output_type": "error",
     "traceback": [
      "\u001b[0;31m---------------------------------------------------------------------------\u001b[0m",
      "\u001b[0;31mKeyboardInterrupt\u001b[0m                         Traceback (most recent call last)",
      "Cell \u001b[0;32mIn[69], line 4\u001b[0m\n\u001b[1;32m      2\u001b[0m now \u001b[38;5;241m=\u001b[39m datetime\u001b[38;5;241m.\u001b[39mnow()\n\u001b[1;32m      3\u001b[0m \u001b[38;5;28;01mfor\u001b[39;00m epoch \u001b[38;5;129;01min\u001b[39;00m trange(EPOCHS, desc\u001b[38;5;241m=\u001b[39m\u001b[38;5;124m'\u001b[39m\u001b[38;5;124mepochs\u001b[39m\u001b[38;5;124m'\u001b[39m, position\u001b[38;5;241m=\u001b[39m\u001b[38;5;241m0\u001b[39m):\n\u001b[0;32m----> 4\u001b[0m     loss_history \u001b[38;5;241m=\u001b[39m \u001b[43mtrain_one_epoch\u001b[49m\u001b[43m(\u001b[49m\u001b[43mmodel\u001b[49m\u001b[43m,\u001b[49m\u001b[43m \u001b[49m\u001b[43mDEVICE\u001b[49m\u001b[43m,\u001b[49m\u001b[43m \u001b[49m\u001b[43mtrain_dl\u001b[49m\u001b[43m,\u001b[49m\u001b[43m \u001b[49m\u001b[43mloss\u001b[49m\u001b[43m,\u001b[49m\u001b[43m \u001b[49m\u001b[43moptimizer\u001b[49m\u001b[43m)\u001b[49m\n\u001b[1;32m      5\u001b[0m     tot_loss_history \u001b[38;5;241m+\u001b[39m\u001b[38;5;241m=\u001b[39m loss_history\n\u001b[1;32m      6\u001b[0m     \u001b[38;5;28;01mif\u001b[39;00m epoch \u001b[38;5;241m%\u001b[39m SCHEDULER_STEPS \u001b[38;5;241m==\u001b[39m SCHEDULER_STEPS\u001b[38;5;241m-\u001b[39m\u001b[38;5;241m1\u001b[39m:\n",
      "Cell \u001b[0;32mIn[43], line 35\u001b[0m, in \u001b[0;36mtrain_one_epoch\u001b[0;34m(model, device, train_dl, loss_fn, optimizer, pbar, disable_pbar)\u001b[0m\n\u001b[1;32m     32\u001b[0m optimizer\u001b[38;5;241m.\u001b[39mstep()\n\u001b[1;32m     34\u001b[0m \u001b[38;5;66;03m# Gather data and report\u001b[39;00m\n\u001b[0;32m---> 35\u001b[0m running_loss \u001b[38;5;241m+\u001b[39m\u001b[38;5;241m=\u001b[39m \u001b[43mloss\u001b[49m\u001b[38;5;241;43m.\u001b[39;49m\u001b[43mitem\u001b[49m\u001b[43m(\u001b[49m\u001b[43m)\u001b[49m\n\u001b[1;32m     36\u001b[0m loss_history\u001b[38;5;241m.\u001b[39mappend(loss\u001b[38;5;241m.\u001b[39mitem())\n\u001b[1;32m     37\u001b[0m \u001b[38;5;28;01mif\u001b[39;00m i \u001b[38;5;241m%\u001b[39m \u001b[38;5;241m10\u001b[39m \u001b[38;5;241m==\u001b[39m \u001b[38;5;241m9\u001b[39m:\n",
      "\u001b[0;31mKeyboardInterrupt\u001b[0m: "
>>>>>>> 3a2ab141f37a05610f8e8e489c3d462d1fb10d65
     ]
    }
   ],
   "source": [
    "\n",
    "tot_loss_history = []\n",
    "now = datetime.now()\n",
    "for epoch in trange(EPOCHS, desc='epochs', position=0):\n",
    "    loss_history = train_one_epoch(model, DEVICE, train_dl, loss, optimizer)\n",
    "    tot_loss_history += loss_history\n",
    "    if epoch % SCHEDULER_STEPS == SCHEDULER_STEPS-1:\n",
    "        scheduler.step()\n",
    "\n",
    "    \n",
    "loss_history = np.array(tot_loss_history)"
   ]
  },
  {
   "cell_type": "code",
<<<<<<< HEAD
   "execution_count": 40,
=======
   "execution_count": 25,
>>>>>>> 3a2ab141f37a05610f8e8e489c3d462d1fb10d65
   "metadata": {},
   "outputs": [
    {
     "data": {
      "text/plain": [
       "[0.002431533091811388]"
      ]
     },
<<<<<<< HEAD
     "execution_count": 40,
=======
     "execution_count": 25,
>>>>>>> 3a2ab141f37a05610f8e8e489c3d462d1fb10d65
     "metadata": {},
     "output_type": "execute_result"
    }
   ],
   "source": [
    "scheduler.get_last_lr()"
   ]
  },
  {
   "cell_type": "code",
<<<<<<< HEAD
   "execution_count": 41,
=======
   "execution_count": 35,
   "metadata": {},
   "outputs": [],
   "source": [
    "def accuracy(model, device, train_dl, test_dl, dtype=torch.complex128, disable_pbar=False):\n",
    "    correct = 0\n",
    "    total = 0\n",
    "\n",
    "    model.eval()\n",
    "    model.to(device)\n",
    "\n",
    "    with torch.no_grad():\n",
    "        for data in tqdm(test_dl, total=len(test_dl), position=0, desc='test', disable=disable_pbar):\n",
    "            images, labels = data\n",
    "            images, labels = images.to(device, dtype=dtype).squeeze(), labels.to(device)\n",
    "            outputs = model(images)\n",
    "            probs = torch.real(torch.pow(outputs, 2))\n",
    "            #probs = probs / torch.sum(probs)\n",
    "            predicted = torch.round(probs.squeeze().data)\n",
    "            total += labels.size(0)\n",
    "            correct += (predicted == labels).sum().item()\n",
    "\n",
    "        test_accuracy = correct / total\n",
    "\n",
    "        correct = 0\n",
    "        total = 0\n",
    "\n",
    "        for data in tqdm(train_dl, total=len(train_dl), position=0, desc='train', disable=disable_pbar):\n",
    "            images, labels = data\n",
    "            images, labels = images.to(device, dtype=dtype).squeeze(), labels.to(device)\n",
    "            outputs = model(images)\n",
    "            probs = torch.real(torch.pow(outputs, 2))\n",
    "            #probs = probs / torch.sum(probs)\n",
    "            predicted = torch.round(probs.squeeze().data)\n",
    "            total += labels.size(0)\n",
    "            correct += (predicted == labels).sum().item()\n",
    "        \n",
    "        train_accuracy = correct / total\n",
    "\n",
    "    return train_accuracy, test_accuracy\n"
   ]
  },
  {
   "cell_type": "code",
   "execution_count": 70,
>>>>>>> 3a2ab141f37a05610f8e8e489c3d462d1fb10d65
   "metadata": {},
   "outputs": [
    {
     "name": "stderr",
     "output_type": "stream",
     "text": [
<<<<<<< HEAD
      "test: 100%|██████████| 4/4 [00:00<00:00, 738.60it/s]\n",
      "train: 100%|██████████| 15/15 [00:00<00:00, 72.94it/s]\n"
=======
      "test: 100%|██████████| 8/8 [00:00<00:00, 171.06it/s]\n",
      "train: 100%|██████████| 79/79 [00:00<00:00, 133.04it/s]\n"
>>>>>>> 3a2ab141f37a05610f8e8e489c3d462d1fb10d65
     ]
    },
    {
     "data": {
      "text/plain": [
<<<<<<< HEAD
       "(1.0, 0.9333333333333333)"
      ]
     },
     "execution_count": 41,
=======
       "(0.9994, 0.999)"
      ]
     },
     "execution_count": 70,
>>>>>>> 3a2ab141f37a05610f8e8e489c3d462d1fb10d65
     "metadata": {},
     "output_type": "execute_result"
    },
    {
     "name": "stderr",
     "output_type": "stream",
     "text": [
      " 43%|████▎     | 34/79 [00:19<00:01, 37.73it/s, current loss=0.00781, batches 20-30 loss=0.007, weight_norm=3.62]"
     ]
    }
   ],
   "source": [
    "accuracy(model, DEVICE, train_dl, test_dl, DTYPE)"
   ]
  },
  {
   "cell_type": "code",
   "execution_count": 42,
   "metadata": {},
   "outputs": [],
   "source": [
    "torch.save(model.state_dict, f'models/trainedmodel_{DATASET}_bond{BOND_DIM}_type{str(DTYPE).split(\".\")[1]}_{now.strftime(\"%Y%m%d-%H%M%S\")}.dict')\n",
    "np.save(f'models/loss_history_{now.strftime(\"%Y%m%d-%H%M%S\")}.npy', loss_history)"
   ]
  },
  {
   "cell_type": "code",
   "execution_count": 43,
   "metadata": {},
   "outputs": [
    {
     "name": "stdout",
     "output_type": "stream",
     "text": [
      "0.009607723209685528\n"
     ]
    },
    {
     "data": {
      "image/png": "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",
      "text/plain": [
       "<Figure size 640x480 with 1 Axes>"
      ]
     },
     "metadata": {},
     "output_type": "display_data"
    }
   ],
   "source": [
    "plt.plot(range(len(loss_history)), loss_history)\n",
    "#plt.ylim(0, 2)\n",
    "print(np.mean(loss_history[-10:]))"
   ]
  },
  {
   "cell_type": "code",
   "execution_count": 44,
   "metadata": {},
   "outputs": [
    {
     "data": {
      "image/png": "iVBORw0KGgoAAAANSUhEUgAAArwAAAIjCAYAAADhisjVAAAAOXRFWHRTb2Z0d2FyZQBNYXRwbG90bGliIHZlcnNpb24zLjguMCwgaHR0cHM6Ly9tYXRwbG90bGliLm9yZy81sbWrAAAACXBIWXMAAA9hAAAPYQGoP6dpAABI3ElEQVR4nO3deXxU9b3/8ffs2UiABBLCLnIJyFbZDC7YKxWVWwXtLVJUQG+tFRSLtQoKiNaibbVatVCtS1Usij+JaBFBFFsVi2wqlM0NKJgEBJKQdTJzfn9MZpIxCWQ5yZyZvJ6PRx4zc+bMnO85DOE9Xz7f79dmGIYhAAAAIEbZI90AAAAAoCUReAEAABDTCLwAAACIaQReAAAAxDQCLwAAAGIagRcAAAAxjcALAACAmEbgBQAAQEwj8AIAACCmEXgBIEKmTZumXr16Nem1d999t2w2m7kNAoAYReAFgO+w2WwN+lm/fn2kmxoR06ZNU1JSUqSbAQANZjMMw4h0IwDASl544YWwx88995zWrl2r559/Pmz7D37wA6Wnpzf5OF6vV36/Xx6Pp9GvraysVGVlpeLi4pp8/KaaNm2aXnnlFZ04caLVjw0ATeGMdAMAwGquuuqqsMcfffSR1q5dW2v7d5WUlCghIaHBx3G5XE1qnyQ5nU45nfwKB4CGoKQBAJrg/PPP18CBA7V582add955SkhI0Ny5cyVJr732msaPH6/MzEx5PB716dNH9957r3w+X9h7fLeG9+uvv5bNZtPvf/97PfHEE+rTp488Ho9GjBihjz/+OOy1ddXw2mw2zZw5Uzk5ORo4cKA8Ho/OOOMMrV69ulb7169fr+HDhysuLk59+vTRn//8Z9PrgpcvX65hw4YpPj5eaWlpuuqqq3Tw4MGwfXJzczV9+nR169ZNHo9HXbp00WWXXaavv/46tM+mTZs0btw4paWlKT4+Xr1799a1115rWjsBxD66BwCgib799ltdfPHFuvLKK3XVVVeFyhueffZZJSUlafbs2UpKStI777yj+fPnq7CwUL/73e9O+b4vvviiioqK9LOf/Uw2m02//e1vdfnll+vLL788Za/w+++/r1dffVU33nij2rVrpz/+8Y+64oortH//fqWmpkqStm7dqosuukhdunTRwoUL5fP5dM8996hTp07NvyhVnn32WU2fPl0jRozQokWLlJeXp0ceeUQffPCBtm7dqvbt20uSrrjiCu3YsUM33XSTevXqpfz8fK1du1b79+8PPb7wwgvVqVMn3XHHHWrfvr2+/vprvfrqq6a1FUAbYAAATmrGjBnGd39djhkzxpBkLFmypNb+JSUltbb97Gc/MxISEoyysrLQtqlTpxo9e/YMPf7qq68MSUZqaqpx9OjR0PbXXnvNkGS8/vrroW0LFiyo1SZJhtvtNj7//PPQtk8++cSQZDz66KOhbT/84Q+NhIQE4+DBg6Fte/fuNZxOZ633rMvUqVONxMTEep+vqKgwOnfubAwcONAoLS0NbX/jjTcMScb8+fMNwzCMY8eOGZKM3/3ud/W+14oVKwxJxscff3zKdgFAfShpAIAm8ng8mj59eq3t8fHxoftFRUU6cuSIzj33XJWUlGjXrl2nfN9JkyapQ4cOocfnnnuuJOnLL7885WvHjh2rPn36hB4PHjxYycnJodf6fD69/fbbmjBhgjIzM0P7nX766br44otP+f4NsWnTJuXn5+vGG28MG1Q3fvx4ZWVl6e9//7ukwHVyu91av369jh07Vud7BXuC33jjDXm9XlPaB6DtIfACQBN17dpVbre71vYdO3Zo4sSJSklJUXJysjp16hQa8FZQUHDK9+3Ro0fY42D4rS8Unuy1wdcHX5ufn6/S0lKdfvrptfara1tT7Nu3T5LUr1+/Ws9lZWWFnvd4PHrggQf05ptvKj09Xeedd55++9vfKjc3N7T/mDFjdMUVV2jhwoVKS0vTZZddpmeeeUbl5eWmtBVA20DgBYAmqtmTG3T8+HGNGTNGn3zyie655x69/vrrWrt2rR544AFJkt/vP+X7OhyOOrcbDZhFsjmvjYRbbrlFe/bs0aJFixQXF6d58+apf//+2rp1q6TAQLxXXnlFGzZs0MyZM3Xw4EFde+21GjZsGNOiAWgwAi8AmGj9+vX69ttv9eyzz2rWrFn6n//5H40dOzasRCGSOnfurLi4OH3++ee1nqtrW1P07NlTkrR79+5az+3evTv0fFCfPn106623as2aNdq+fbsqKir04IMPhu1z1lln6b777tOmTZu0dOlS7dixQ8uWLTOlvQBiH4EXAEwU7GGt2aNaUVGhP/3pT5FqUhiHw6GxY8cqJydHhw4dCm3//PPP9eabb5pyjOHDh6tz585asmRJWOnBm2++qZ07d2r8+PGSAvMWl5WVhb22T58+ateuXeh1x44dq9U7PXToUEmirAFAgzEtGQCYaPTo0erQoYOmTp2qm2++WTabTc8//7ylSgruvvturVmzRmeffbZ+/vOfy+fz6bHHHtPAgQO1bdu2Br2H1+vVr3/961rbO3bsqBtvvFEPPPCApk+frjFjxmjy5Mmhacl69eqlX/ziF5KkPXv26IILLtCPf/xjDRgwQE6nUytWrFBeXp6uvPJKSdJf//pX/elPf9LEiRPVp08fFRUV6cknn1RycrIuueQS064JgNhG4AUAE6WmpuqNN97QrbfeqrvuuksdOnTQVVddpQsuuEDjxo2LdPMkScOGDdObb76pX/7yl5o3b566d++ue+65Rzt37mzQLBJSoNd63rx5tbb36dNHN954o6ZNm6aEhATdf//9uv3225WYmKiJEyfqgQceCM280L17d02ePFnr1q3T888/L6fTqaysLL388su64oorJAUGrW3cuFHLli1TXl6eUlJSNHLkSC1dulS9e/c27ZoAiG02w0rdDgCAiJkwYYJ27NihvXv3RropAGAqangBoA0qLS0Ne7x3716tWrVK559/fmQaBAAtiB5eAGiDunTpomnTpum0007Tvn37tHjxYpWXl2vr1q3q27dvpJsHAKaihhcA2qCLLrpIf/vb35SbmyuPx6Ps7Gz95je/IewCiEn08AIAACCmUcMLAACAmEbgBQAAQEyjhrcOfr9fhw4dUrt27WSz2SLdHAAAAHyHYRgqKipSZmam7PaT9+ESeOtw6NAhde/ePdLNAAAAwCkcOHBA3bp1O+k+BN46tGvXTlLgAiYnJ0e4NQAAAPiuwsJCde/ePZTbTobAW4dgGUNycjKBFwAAwMIaUn7KoDUAAADENAIvAAAAYhqBFwAAADGNwAsAAICYRuAFAABATCPwAgAAIKYReAEAABDTCLwAAACIaQReAAAAxDQCLwAAAGIagRcAAAAxjcALAACAmEbgBQAAQEwj8AIAACCmEXgBAAAQ0wi8AAAAiGnOSDcA0gefH1FBqVejendUapIn0s0BAACIKfTwWsD817brxqVbtDf/RKSbAgAAEHMIvBbgdjokSV6fP8ItAQAAiD0EXgtwO2ySCLwAAAAtgcBrAS5H4I+hopLACwAAYDYCrwWEAq/PiHBLAAAAYg+B1wJczsAfg5ceXgAAANMReC3AXdXDSw0vAACA+Qi8FuB2MmgNAACgpRB4LSBYw1tOSQMAAIDpCLwW4AqVNDBoDQAAwGwEXgtwO6nhBQAAaCkEXgtg0BoAAEDLIfBagKtqpTUWngAAADAfgdcCqheeIPACAACYjcBrAdTwAgAAtBwCrwWEZmmoZJYGAAAAsxF4LYBBawAAAC2HwGsBwUFr5QReAAAA0xF4LcAVrOFllgYAAADTEXgtgJIGAACAlkPgtYDqWRoYtAYAAGA2Aq8FhObhpaQBAADAdAReC2DhCQAAgJZD4LUAFp4AAABoOQReCwhOS0bgBQAAMB+B1wKqZ2lg0BoAAIDZCLwWwKA1AACAlkPgtQAGrQEAALQcAq8FMGgNAACg5RB4LSBUw0tJAwAAgOkIvBbgcgZmaaCkAQAAwHwEXgtw1ZilwTCYqQEAAMBMBF4LCNbwSkxNBgAAYDYCrwUEa3glBq4BAACYjcBrAa4agZe5eAEAAMxF4LUAh90me2DcGj28AAAAJiPwWgSLTwAAALQMAq9FVC8+waA1AAAAMxF4LSK0+AQ9vAAAAKYi8FpEqKSBQWsAAACmIvBaBKutAQAAtAwCr0WEShro4QUAADAVgdciai4vDAAAAPMQeC0iOEtDhc8X4ZYAAADEFgKvRVQPWqOHFwAAwEwEXotgWjIAAICWQeC1CJeTwAsAANASCLwW4XYEpiUj8AIAAJiLwGsRLDwBAADQMgi8FhEKvExLBgAAYCoCr0W4qeEFAABoEQRei3Cx0hoAAECLIPBaRHDQWgU9vAAAAKYi8FpEdQ0vgRcAAMBMBF6LCNXwstIaAACAqQi8FuFipTUAAIAWQeC1CGZpAAAAaBkEXotwBQetMUsDAACAqQi8FsGgNQAAgJZB4LUIShoAAABaBoHXIqoHrTFLAwAAgJkIvBbhDpY0UMMLAABgKgKvRVDDCwAA0DIIvBZBDS8AAEDLIPBaRHBaMgIvAACAuQi8FkENLwAAQMsg8FqEy8ksDQAAAC2BwGsR9PACAAC0DAKvRVTPw0vgBQAAMBOB1yLcTgatAQAAtAQCr0W4KGkAAABoEQRei2BpYQAAgJYR8cD7+OOPq1evXoqLi9OoUaO0cePGk+6/fPlyZWVlKS4uToMGDdKqVavCnj9x4oRmzpypbt26KT4+XgMGDNCSJUta8hRMEVx4osLnl2EQegEAAMwS0cD70ksvafbs2VqwYIG2bNmiIUOGaNy4ccrPz69z/w8//FCTJ0/Wddddp61bt2rChAmaMGGCtm/fHtpn9uzZWr16tV544QXt3LlTt9xyi2bOnKmVK1e21mk1SbCHV5Iq/QReAAAAs0Q08D700EP66U9/qunTp4d6YhMSEvT000/Xuf8jjzyiiy66SLfddpv69++ve++9V2eeeaYee+yx0D4ffvihpk6dqvPPP1+9evXS9ddfryFDhpyy5zjS3DUCL3W8AAAA5nFG6sAVFRXavHmz5syZE9pmt9s1duxYbdiwoc7XbNiwQbNnzw7bNm7cOOXk5IQejx49WitXrtS1116rzMxMrV+/Xnv27NEf/vCHettSXl6u8vLy0OPCwkJJktfrldfrbcrpNZ6/OuSWlFXIbaeXFwAAoD6NyWgRC7xHjhyRz+dTenp62Pb09HTt2rWrztfk5ubWuX9ubm7o8aOPPqrrr79e3bp1k9PplN1u15NPPqnzzjuv3rYsWrRICxcurLV9zZo1SkhIaMxpNYtNDhmyafWatUp2t9phAQAAok5JSUmD941Y4G0pjz76qD766COtXLlSPXv21D/+8Q/NmDFDmZmZGjt2bJ2vmTNnTljPcWFhobp3764LL7xQycnJrdV0/erjt1Ve6dd5539fme3jW+24AAAA0Sb4P/INEbHAm5aWJofDoby8vLDteXl5ysjIqPM1GRkZJ92/tLRUc+fO1YoVKzR+/HhJ0uDBg7Vt2zb9/ve/rzfwejweeTyeWttdLpdcLlejz62p3A67yiv9MmyOVj0uAABAtGlMVorYoDW3261hw4Zp3bp1oW1+v1/r1q1TdnZ2na/Jzs4O21+S1q5dG9o/WHNrt4eflsPhkN9v/YFgrhpTkwEAAMAcES1pmD17tqZOnarhw4dr5MiRevjhh1VcXKzp06dLkq655hp17dpVixYtkiTNmjVLY8aM0YMPPqjx48dr2bJl2rRpk5544glJUnJyssaMGaPbbrtN8fHx6tmzp9577z0999xzeuihhyJ2ng3lcgSWF2aWBgAAAPNENPBOmjRJhw8f1vz585Wbm6uhQ4dq9erVoYFp+/fvD+utHT16tF588UXdddddmjt3rvr27aucnBwNHDgwtM+yZcs0Z84cTZkyRUePHlXPnj1133336YYbbmj182us4OITXnp4AQAATGMzWNarlsLCQqWkpKigoKBVB63994Pr9eXhYr38s2yN7N2x1Y4LAAAQbRqT1yK+tDCqBRefoKQBAADAPAReCwkuL0xJAwAAgHkIvBbiZpYGAAAA0xF4LSQ4SwM9vAAAAOYh8FoIJQ0AAADmI/BaCIPWAAAAzEfgtZDqGl5migMAADALgddCQiUN9PACAACYhsBrIdTwAgAAmI/AayFuZ2CWBmp4AQAAzEPgtRB6eAEAAMxH4LWQ0CwNDFoDAAAwDYHXQlxOengBAADMRuC1EEoaAAAAzEfgtRC3g0FrAAAAZiPwWkj1whMEXgAAALMQeC2kuqSBQWsAAABmIfBaCCutAQAAmI/AayHV05IReAEAAMxC4LUQV9VKa8zSAAAAYB4Cr4W4HQ5JzNIAAABgJgKvhbgc9PACAACYjcBrIS6mJQMAADAdgddC3KFZGpiWDAAAwCwEXgsJLjxBSQMAAIB5CLwW4mJaMgAAANMReC2EQWsAAADmI/BaSGjhCaYlAwAAMA2B10Kqa3gZtAYAAGAWAq+FUMMLAABgPgKvhQQDr9fnl2HQywsAAGAGAq+FBGt4DUOq9BN4AQAAzEDgtRCX0xa6z0wNAAAA5iDwWkiwh1ditTUAAACzEHgtxGG3yVbVycvANQAAAHMQeC3EZrOFDVwDAABA8xF4LYbFJwAAAMxF4LWY6sUnCLwAAABmIPBajMsRKOKlhhcAAMAcBF6Lqa7hZZYGAAAAMxB4LYYaXgAAAHMReC2GWRoAAADMReC1mOCgNWp4AQAAzEHgtZjgoDUvJQ0AAACmIPBaDIPWAAAAzEXgtZjqkgZfhFsCAAAQGwi8FhOcpcFbSQ8vAACAGQi8FhMsaWDQGgAAgDkIvBbjYmlhAAAAUxF4LSa0tDCzNAAAAJiCwGsxHnp4AQAATEXgtZjqGl4GrQEAAJiBwGsxLC0MAABgLgKvxYQCLzW8AAAApiDwWow7OGiNHl4AAABTEHgtxs2gNQAAAFMReC0mNGiNldYAAABMQeC1GAatAQAAmIvAazHBldZYeAIAAMAcBF6L8dDDCwAAYCoCr8W4nMzSAAAAYCYCr8VQwwsAAGAuAq/FVM/SQOAFAAAwA4HXYtyhHl6mJQMAADADgddiWHgCAADAXAReiwmVNBB4AQAATEHgtRiXIzBLAz28AAAA5iDwWgyD1gAAAMxF4LUYj5NBawAAAGYi8FpMaB5eengBAABMQeC1GJeTQWsAAABmIvBaTHDQWoXPL8OgrAEAAKC5CLwW43E4JEmGIfn8BF4AAIDmIvBajMtpC91n4BoAAEDzEXgtJjhoTaKOFwAAwAwEXotx2mv28BJ4AQAAmovAazE2m01uFp8AAAAwDYHXgtyhxScIvAAAAM1F4LWg4NRkBF4AAIDmI/BakCtU0sAsDQAAAM1F4LWgUOClhxcAAKDZCLwW5KGGFwAAwDQEXgsK9vB6maUBAACg2Qi8FhRcbY2SBgAAgOYj8FpQqIeXpYUBAACajcBrQS4WngAAADANgdeCGLQGAABgnogH3scff1y9evVSXFycRo0apY0bN550/+XLlysrK0txcXEaNGiQVq1aVWufnTt36tJLL1VKSooSExM1YsQI7d+/v6VOwXRMSwYAAGCeiAbel156SbNnz9aCBQu0ZcsWDRkyROPGjVN+fn6d+3/44YeaPHmyrrvuOm3dulUTJkzQhAkTtH379tA+X3zxhc455xxlZWVp/fr1+vTTTzVv3jzFxcW11mk1GyutAQAAmMdmGEbERkaNGjVKI0aM0GOPPSZJ8vv96t69u2666SbdcccdtfafNGmSiouL9cYbb4S2nXXWWRo6dKiWLFkiSbryyivlcrn0/PPPN7gd5eXlKi8vDz0uLCxU9+7ddeTIESUnJzf19Jrslpc+1d+35+quS/ppanbPVj8+AACA1RUWFiotLU0FBQWnzGvOVmpTLRUVFdq8ebPmzJkT2ma32zV27Fht2LChztds2LBBs2fPDts2btw45eTkSAoE5r///e/61a9+pXHjxmnr1q3q3bu35syZowkTJtTblkWLFmnhwoW1tq9Zs0YJCQmNP7lmys+zS7Lrsx3/1qpjO1r9+AAAAFZXUlLS4H0jFniPHDkin8+n9PT0sO3p6enatWtXna/Jzc2tc//c3FxJUn5+vk6cOKH7779fv/71r/XAAw9o9erVuvzyy/Xuu+9qzJgxdb7vnDlzwoJ0sIf3wgsvjEgP7wc5O/Tx4YPq07efLhlzWqsfHwAAwOoKCwsbvG/EAm9L8PsDNa+XXXaZfvGLX0iShg4dqg8//FBLliypN/B6PB55PJ5a210ul1wuV8s1uB4eV+CPxWfYInJ8AAAAq2tMRorYoLW0tDQ5HA7l5eWFbc/Ly1NGRkadr8nIyDjp/mlpaXI6nRowYEDYPv3794/KWRoYtAYAANB8EQu8brdbw4YN07p160Lb/H6/1q1bp+zs7Dpfk52dHba/JK1duza0v9vt1ogRI7R79+6wffbs2aOePaNn8JfbycITAAAAZoloScPs2bM1depUDR8+XCNHjtTDDz+s4uJiTZ8+XZJ0zTXXqGvXrlq0aJEkadasWRozZowefPBBjR8/XsuWLdOmTZv0xBNPhN7ztttu06RJk3Teeefp+9//vlavXq3XX39d69evj8QpNombackAAABME9HAO2nSJB0+fFjz589Xbm6uhg4dqtWrV4cGpu3fv192e3Un9OjRo/Xiiy/qrrvu0ty5c9W3b1/l5ORo4MCBoX0mTpyoJUuWaNGiRbr55pvVr18//b//9/90zjnntPr5NVX1whMRmzEOAAAgZkR0Hl6rKiwsVEpKSoPmdWsJS977Qve/uUs/GtZNv//fIa1+fAAAAKtrTF6L+NLCqC3Uw0sNLwAAQLMReC0oOGiNGl4AAIDmI/BaEIPWAAAAzEPgtSAGrQEAAJiHwGtB1TW8vgi3BAAAIPoReC2ouoaXHl4AAIDmIvBakJulhQEAAExD4LUgpiUDAAAwD4HXglzM0gAAAGAaAq8FuZzBWRoIvAAAAM1F4LWgUA1vJYPWAAAAmovAa0GstAYAAGAeAq8FVS88QeAFAABoLgKvBQUHrTFLAwAAQPMReC2IkgYAAADzEHgtKDhozW9IPj8D1wAAAJqDwGtBwRpeiV5eAACA5iLwWlDNwMvANQAAgOZpUuA9cOCA/vOf/4Qeb9y4UbfccoueeOIJ0xrWlgUHrUkMXAMAAGiuJgXen/zkJ3r33XclSbm5ufrBD36gjRs36s4779Q999xjagPbIpvNVr34BD28AAAAzdKkwLt9+3aNHDlSkvTyyy9r4MCB+vDDD7V06VI9++yzZravzQr28rLaGgAAQPM0KfB6vV55PB5J0ttvv61LL71UkpSVlaVvvvnGvNa1YS4ni08AAACYoUmB94wzztCSJUv0z3/+U2vXrtVFF10kSTp06JBSU1NNbWBbFVptjRpeAACAZmlS4H3ggQf05z//Weeff74mT56sIUOGSJJWrlwZKnVA81DDCwAAYA5nU150/vnn68iRIyosLFSHDh1C26+//nolJCSY1ri2jNXWAAAAzNGkHt7S0lKVl5eHwu6+ffv08MMPa/fu3ercubOpDWyrgoPWqOEFAABoniYF3ssuu0zPPfecJOn48eMaNWqUHnzwQU2YMEGLFy82tYFtlStU0sAsDQAAAM3RpMC7ZcsWnXvuuZKkV155Renp6dq3b5+ee+45/fGPfzS1gW1VsKSBQWsAAADN06TAW1JSonbt2kmS1qxZo8svv1x2u11nnXWW9u3bZ2oD2yoXg9YAAABM0aTAe/rppysnJ0cHDhzQW2+9pQsvvFCSlJ+fr+TkZFMb2FYxSwMAAIA5mhR458+fr1/+8pfq1auXRo4cqezsbEmB3t7vfe97pjawrQoNWqOkAQAAoFmaNC3Zj370I51zzjn65ptvQnPwStIFF1ygiRMnmta4tiy08AQ9vAAAAM3SpMArSRkZGcrIyNB//vMfSVK3bt1YdMJEoXl46eEFAABoliaVNPj9ft1zzz1KSUlRz5491bNnT7Vv31733nuv/H4CmhncTEsGAABgiib18N5555166qmndP/99+vss8+WJL3//vu6++67VVZWpvvuu8/URrZFlDQAAACYo0mB969//av+8pe/6NJLLw1tGzx4sLp27aobb7yRwGsCl5NBawAAAGZoUknD0aNHlZWVVWt7VlaWjh492uxGQXI7HJKYlgwAAKC5mhR4hwwZoscee6zW9scee0yDBw9udqNQ3cNL4AUAAGieJpU0/Pa3v9X48eP19ttvh+bg3bBhgw4cOKBVq1aZ2sC2ikFrAAAA5mhSD++YMWO0Z88eTZw4UcePH9fx48d1+eWXa8eOHXr++efNbmObxKA1AAAAczR5Ht7MzMxag9M++eQTPfXUU3riiSea3bC2LhR4GbQGAADQLE3q4UXLCy08QQ8vAABAsxB4LcrtYNAaAACAGQi8FlVd0sCgNQAAgOZoVA3v5ZdfftLnjx8/3py2oAYGrQEAAJijUYE3JSXllM9fc801zWoQAkI1vAxaAwAAaJZGBd5nnnmmpdqB73A5GLQGAABgBmp4LcrNSmsAAACmIPBaVHUNL4PWAAAAmoPAa1Hu0CwNvgi3BAAAILoReC3KFVp4gh5eAACA5iDwWpSbQWsAAACmIPBaFLM0AAAAmIPAa1GuqqWFy5mHFwAAoFkIvBYVWniCHl4AAIBmIfBaVHUNL4PWAAAAmoPAa1HBGl6f35DPT+gFAABoKgKvRQWnJZMoawAAAGgOAq9FBUsaJKmCwAsAANBkBF6LCs7SIEleZmoAAABoMgKvRdlstlDoZeAaAABA0xF4LYzFJwAAAJqPwGthwcDL4hMAAABNR+C1MBafAAAAaD4Cr4W5KWkAAABoNgKvhVUPWiPwAgAANBWB18KCNbwVlczSAAAA0FQEXgsL1vCy8AQAAEDTEXgtLDQtGbM0AAAANBmB18IYtAYAANB8BF4LczkDg9YoaQAAAGg6Aq+FuUOD1gi8AAAATUXgtbDqpYWZpQEAAKCpCLwW5mKlNQAAgGYj8FoYg9YAAACaj8BrYcGV1sqp4QUAAGgyAq+FuSlpAAAAaDYCr4W5KGkAAABoNgKvhbmZpQEAAKDZCLwW5mIeXgAAgGYj8FpYsIaXldYAAACajsBrYaEaXnp4AQAAmozAa2HBackYtAYAANB0BF4Lq56WjEFrAAAATUXgtbBgSQMLTwAAADQdgdfCWFoYAACg+SwReB9//HH16tVLcXFxGjVqlDZu3HjS/ZcvX66srCzFxcVp0KBBWrVqVb373nDDDbLZbHr44YdNbnXLc7HSGgAAQLNFPPC+9NJLmj17thYsWKAtW7ZoyJAhGjdunPLz8+vc/8MPP9TkyZN13XXXaevWrZowYYImTJig7du319p3xYoV+uijj5SZmdnSp9Ei3AxaAwAAaLaIB96HHnpIP/3pTzV9+nQNGDBAS5YsUUJCgp5++uk693/kkUd00UUX6bbbblP//v1177336swzz9Rjjz0Wtt/Bgwd10003aenSpXK5XK1xKqYLLTzBoDUAAIAmc0by4BUVFdq8ebPmzJkT2ma32zV27Fht2LChztds2LBBs2fPDts2btw45eTkhB77/X5dffXVuu2223TGGWecsh3l5eUqLy8PPS4sLJQkeb1eeb3expySqewKBN1yry+i7QAAALCaxmSjiAbeI0eOyOfzKT09PWx7enq6du3aVedrcnNz69w/Nzc39PiBBx6Q0+nUzTff3KB2LFq0SAsXLqy1fc2aNUpISGjQe7SEzwskyaljBYUnrVMGAABoa0pKShq8b0QDb0vYvHmzHnnkEW3ZskU2m61Br5kzZ05Yr3FhYaG6d++uCy+8UMnJyS3V1FPauv+4Hv33RnniE3TJJedGrB0AAABWE/wf+YaIaOBNS0uTw+FQXl5e2Pa8vDxlZGTU+ZqMjIyT7v/Pf/5T+fn56tGjR+h5n8+nW2+9VQ8//LC+/vrrWu/p8Xjk8XhqbXe5XBGt/433uCVJlT4jauuQAQAAWkJjslFEB6253W4NGzZM69atC23z+/1at26dsrOz63xNdnZ22P6StHbt2tD+V199tT799FNt27Yt9JOZmanbbrtNb731VsudTAsIrrRWwSwNAAAATRbxkobZs2dr6tSpGj58uEaOHKmHH35YxcXFmj59uiTpmmuuUdeuXbVo0SJJ0qxZszRmzBg9+OCDGj9+vJYtW6ZNmzbpiSeekCSlpqYqNTU17Bgul0sZGRnq169f655cM7mqpiWrYKU1AACAJot44J00aZIOHz6s+fPnKzc3V0OHDtXq1atDA9P2798vu726I3r06NF68cUXddddd2nu3Lnq27evcnJyNHDgwEidQotxhVZaY1oyAACAprIZhkGa+o7CwkKlpKSooKAgooPW8grLNOo36+S02/T5by6JWDsAAACspjF5LeILT6B+wR7eSr8hv5/vJQAAAE1B4LWw4KA1iYFrAAAATUXgtbDgoDVJ8hJ4AQAAmoTAa2GuGoP1GLgGAADQNAReC7PbbXLaA7289PACAAA0DYHX4kKLTzAXLwAAQJMQeC0uOFMDg9YAAACahsBrcdWLTxB4AQAAmoLAa3HuqpkavJUMWgMAAGgKAq/FuZyUNAAAADQHgdfi3A4GrQEAADQHgdfiqOEFAABoHgKvxQVLGgi8AAAATUPgtbjQoDUCLwAAQJMQeC0uuPBEOTW8AAAATULgtTgXg9YAAACahcBrcUkepySpqKwywi0BAACITgRei+vUziNJyi8qj3BLAAAAohOB1+I6t4uTJOUXlUW4JQAAANGJwGtxnat6eA/TwwsAANAkBF6L60TgBQAAaBYCr8V1TibwAgAANAeB1+I6JQUC77fFFSw+AQAA0AQEXovrkOCW0x5Ybe3ICXp5AQAAGovAa3F2u01pSZQ1AAAANBWBNwoE63jzCwm8AAAAjUXgjQKhqckoaQAAAGg0Am8UCK22Rg8vAABAoxF4o0AnVlsDAABoMgJvFGDxCQAAgKYj8EaBYA1vPoEXAACg0Qi8UaAzPbwAAABNRuCNAjVLGgzDiHBrAAAAoguBNwoEA2+Fz6+CUm+EWwMAABBdCLxRwON0KCXeJYmyBgAAgMYi8EYJBq4BAAA0DYE3SgSXF6aHFwAAoHEIvFGiU1Kwh5fFJwAAABqDwBslOidXrbbG8sIAAACNQuCNEsEe3sMnCLwAAACNQeCNEsEaXnp4AQAAGofAGyXo4QUAAGgaAm+UqO7hZdAaAABAYxB4o0SndoFBa4VllSrz+iLcGgAAgOhB4I0SyXFOuZ2BPy7m4gUAAGg4Am+UsNlsrLYGAADQBATeKNKpHautAQAANBaBN4p0DgVeBq4BAAA0FIE3inSuGrhGSQMAAEDDEXijCCUNAAAAjUfgjSIMWgMAAGg8Am8UoYcXAACg8Qi8UaS6hpdBawAAAA1F4I0iwR7eIycq5PMbEW4NAABAdCDwRpG0JLdsNsnnN3SspCLSzQEAAIgKBN4o4nTYlZroliTlF1LHCwAA0BAE3iiTllQ1cO0EgRcAAKAhCLxRpnNy1cC1QgauAQAANASBN8p0SmIuXgAAgMYg8EaZzsnMxQsAANAYBN4o05nFJwAAABqFwBtlWG0NAACgcQi8UYbV1gAAABqHwBtlgj28DFoDAABoGAJvlAnW8JZU+FRcXhnh1gAAAFgfgTfKJHqcSnQ7JNHLCwAA0BAE3ijEwDUAAICGI/BGIQauAQAANByBNwqFBq4V0sMLAABwKgTeKBQqaThB4AUAADgVAm8UoocXAACg4Qi8UagzPbwAAAANRuCNQp2TqwatFTJoDQAA4FQIvFGoUxLTkgEAADQUgTcKdU4OBN6jJRXy+vwRbg0AAIC1EXijUMcEtxx2mwxD+vZERaSbAwAAYGkE3ihkt9uUluSWRFkDAADAqRB4oxSrrQEAADQMgTdKhebipYcXAADgpAi8USo0Fy+BFwAA4KQIvFGquoeXkgYAAICTIfBGKXp4AQAAGobAG6Wo4QUAAGgYAm+U6hScpaGQwAsAAHAyBN4oFSppOFEuwzAi3BoAAADrIvBGqWBJQ0WlX4WllRFuDQAAgHVZIvA+/vjj6tWrl+Li4jRq1Cht3LjxpPsvX75cWVlZiouL06BBg7Rq1arQc16vV7fffrsGDRqkxMREZWZm6pprrtGhQ4da+jRaVZzLoeQ4pyTp8AlmagAAAKhPxAPvSy+9pNmzZ2vBggXasmWLhgwZonHjxik/P7/O/T/88ENNnjxZ1113nbZu3aoJEyZowoQJ2r59uySppKREW7Zs0bx587Rlyxa9+uqr2r17ty699NLWPK1WERq4Rh0vAABAvWxGhAtAR40apREjRuixxx6TJPn9fnXv3l033XST7rjjjlr7T5o0ScXFxXrjjTdC28466ywNHTpUS5YsqfMYH3/8sUaOHKl9+/apR48ep2xTYWGhUlJSVFBQoOTk5CaeWcub/MRH2vDlt3p40lBN+F7XSDcHAACg1TQmrzlbqU11qqio0ObNmzVnzpzQNrvdrrFjx2rDhg11vmbDhg2aPXt22LZx48YpJyen3uMUFBTIZrOpffv2dT5fXl6u8vLqXtLCwkJJgfIIr9fbwLNpfWlJLklSbkGJpdsJAABgtsZkn4gG3iNHjsjn8yk9PT1se3p6unbt2lXna3Jzc+vcPzc3t879y8rKdPvtt2vy5Mn1pv9FixZp4cKFtbavWbNGCQkJDTmViCj/1i7JrtUf71KXgn9HujkAAACtpqSkpMH7RjTwtjSv16sf//jHMgxDixcvrne/OXPmhPUaFxYWqnv37rrwwgstXdLQ81Ch1iz+SDsLnDr3v89Xu7iY/uMEAAAICf6PfENENCGlpaXJ4XAoLy8vbHteXp4yMjLqfE1GRkaD9g+G3X379umdd945aXD1eDzyeDy1trtcLrlcroaeTqsb0qOj+nRK1BeHi7Vu9xH97/DukW4SAABAq2hMRovoLA1ut1vDhg3TunXrQtv8fr/WrVun7OzsOl+TnZ0dtr8krV27Nmz/YNjdu3ev3n77baWmprbMCUSYzWbThKGBwWqvbYutadcAAADMEvFpyWbPnq0nn3xSf/3rX7Vz5079/Oc/V3FxsaZPny5Juuaaa8IGtc2aNUurV6/Wgw8+qF27dunuu+/Wpk2bNHPmTEmBsPujH/1ImzZt0tKlS+Xz+ZSbm6vc3FxVVFRE5Bxb0mVVgffDL44ov5D5eAEAAL4r4kWfkyZN0uHDhzV//nzl5uZq6NChWr16dWhg2v79+2W3V+fy0aNH68UXX9Rdd92luXPnqm/fvsrJydHAgQMlSQcPHtTKlSslSUOHDg071rvvvqvzzz+/Vc6rtfRITdCZPdpry/7jWvnJIf3fuadFukkAAACWEvF5eK0oWubhDXpuw9ea/9oODeqaotdvOifSzQEAAGhxjclrES9pQPONH9RFDrtNnx0s0BeHT0S6OQAAAJZC4I0BqUkendc3TZL02taDEW4NAACAtRB4Y0RwaeGcbYdElQoAAEA1Am+M+MGAdCW4Hdp/tERbDxyPdHMAAAAsg8AbIxLcTl04IDCzBWUNAAAA1Qi8MeSyqrKGNz79Rl6fP8KtAQAAsAYCbww59/Q0pSa69W1xhd7//EikmwMAAGAJBN4Y4nTY9cMhmZKkHMoaAAAAJBF4Y85lQwOBd82OPBWXV0a4NQAAAJFH4I0xQ7u3V8/UBJV6fVr777xINwcAACDiCLwxxmaz6bKhwTl5KWsAAAAg8MagCVVlDf/ce0RHTpRHuDUAAACRReCNQad1StLgbiny+Q29tu1QpJsDAAAQUQTeGHXFmd0kSb9dvUsffsEUZQAAoO0i8Maon4zqobH9O6u80q//++smbfr6aKSbBAAAEBEE3hjlctj12E/O1Ll901RS4dP0Zz7Wp/85HulmAQAAtDoCbwyLczn0xNXDNap3RxWVV+rqpzbq34cKI90sAACAVkXgjXHxboeemjZCZ/Zor4JSr65+6l/am1cU6WYBAAC0GgJvG5DkceqZ6SM1sGuyvi2u0JS//EtfHymOdLMAAABaBYG3jUiJd+n5a0cpK6Od8ovK9ZMnP9KBoyWRbhYAAECLI/C2IR0S3Xr+ulHq0ylRhwrKNO7hf+iRt/eqpKIy0k0DAABoMQTeNqZTO4+W/t9ZGtq9vUoqfPrD23t0/u/Wa9nG/fL5jUg3DwAAwHQ2wzBIOd9RWFiolJQUFRQUKDk5OdLNaRGGYeiNT7/Rb9/apQNHSyVJ/5WepDkX99f5/TrJZrNFuIUAAAD1a0xeI/DWoS0E3qDySp+e37BPj77zuQpKvZKk0X1S9dPzTtOQbu3VMdEd4RYCAADURuBtprYUeIMKSrx6fP3nevaDr1Xh84e2d+sQr8HdUjSwa4oGd22vQV1TlJLgimBLAQAACLzN1hYDb9CBoyX60/rP9dGXR/VVPVOXdesQr6yMduqX0U79MpKVldFOvdMS5XJQEg4AAFoHgbeZ2nLgramg1KsdBwv02cECfXqwQNsPFmjft3VPZeZ22HVap0SdkZmi4b06aESvjurTKZFaYAAA0CIIvM1E4K1fQYlXO3MLteubQu3OK9Ku3CLtyS1ScYWv1r6pie5Q+B3Zu6MGdEmWk15gAABgAgJvMxF4G8fvN3TweKl25RbpkwPHtfHro9p24LgqKv1h+8W7HDojM1mDuqVoUNcUDe6Wot5pSXLY6QUGAACNQ+BtJgJv85VX+rT9YIE2fnVMH399VJu+PqrCstoLXCS4HRqYmaIzuibrtE5J6pWaoF6pieqSEkdvMAAAqBeBt5kIvObz+w19cfiEPquqCf7sPwXacahQpd7apRCS5HLY1L1DgnqmJqhnaqJSE91qn+BSSoJb7eNd6pAQfOxSO4+TWmEAANoYAm8zEXhbhy8Ygv9ToH9/U6h93xbr629LtP/bkrCp0U4lwe1Q1/bxymwfr64d4tW1fby6dQg87t4hQZ3beWSnbAIAgJhC4G0mAm9k+fyGcgvLtO9IIAAfOFaiY8UVOl7i1fHSqtuq+2XeUwdjt9Oubh0C4bdHx8BP947xykiJV2qiW6lJbiW4na1wZgAAwCyNyWv8Kw/Lcdht6to+0FM7+vST71ta4dM3BaU6eLxUB4+V6tDxUv2n6v7B46X6pqBMFZV+fXm4WF8ernteYUmKc9mVmuhRx0S3Oia6lRLvksdpl8dlV5zTIY/LLo/TIY/TrgSPU53bedS5nUfpyXHq1M7DHMQAAFgYgRdRLd7t0GmdknRap6Q6n6/0+fVNQZn2Hy3RgaOB3uL9R0t14GiJ8gvL9G1xhcor/Srz+gOh+Xhpk9qRmuhWp6oAnJEcp4yUqp/kOKUnx6lLSpzaJ7ioNQYAIAIIvIhpTodd3TsmqHvHhDqfNwxDJRU+HS2u0LfFFTpaXK4jJypUVFapikq/yrw+lVf6VV5Zdev1q6jMq/yich0uKld+UZm8PkPfVr1+V25RvW1xO+xqF+dUgsehRLdTiZ7AT5LHoQS3Uy6HXS6HTU571W3VfbfTruR4lzolBUJ1WlLgJ9HDX18AABqCfzHRptlstlDwrC8Un4zfb+h4qVd5hWXKLypXXkGZcgurfgoCP3lVPckVPn9VMDan7fEuhzq18yg1ya3URI/SkgLlGKlJ1feT41xyOQKh2V1163LYqm7tctptctht9DwDAGIagRdoBrvdFqr77d+l/v3KK306XFSu4nKfTpRXqqSiUsXllSou96m4olInyivlrTRU6ffL6zNU6fOr0m/I6/PL6/PreIlXR06U6/CJch0pqlCp16dSr0/7j5Zo/9G6l3tujGDwddptclYF444JgfPqmORWamJ1mE6tqnFOjnMpJT7w0y7OyUwYAADLIvACrcDjdKhbh8b3INenuLwyEICLAiUYR4sr9O2Jcn1bXKEjJ8p1tOq2uDxQiuH1+VVRdVvprz0xS6XfUKXfULkkKTA38uGi8ga3x2aTkjxOJce55HbaZbcFBh/abYEg7agRqAO39qqSjarHDruS3E61T3CpfdUcyx1q3E+Oc1WVfzhZmQ8A0GgEXiAKBcsweqYmNvq1vqqe4wqfX36/Ia/PkM8f6F32VQXf0gqfjpUEg3SFvi0uD90/VlKhglKvCkq9KiytVKnXJ8OQisoqVVTHanpmi3PZlVR1/olup+JcdtlsNtltkk02yabQfbtdgXBdFaxdDnsoeLudgZrq5DiXkuNdSo6vcT/OpQS3Q3Euh+LdDsW7HARtAIhiBF6gjQn0tgbCnBnKK30qLK1UQalXRWVeVfoDAdrvN+Qzqu4bhip9gdvqgF1dulHp8+tEeaWOl3h1rMSrgtIKHSvx6lhJYN7lojKvvL5Az3SZ168yb4WOnKgwpf0N5XbaFe+qP/wGy6DDe7MDNdPBx3GuwIDFpLhAb3WSJ3A/EN4doanv4lzBqfAC0+G5HNXHq2vidIctvBfdXqM3Pd7lYJluAG0egRdAs3icDnVqFxhA15LKK32BmufyQM1z8Daw+IghwwiEQcOQ/IYhQ4FBhcHe62AQDwTuQIlHUVmlCsuqe6sLy7wqLPWqsKxSpRW+sKWvKyoDryko9bboebYEt9OuBHcgbMe7HUqo6rX2uBxy1xjE6HbY5aoa4BgM8PUtTRQM2IGylUDotlf1nMc5A1+o4lyB8B7vqp7LOnCMQG+7y15932m3BXrog2retVWHenvoVgy2BNBgBF4AUSHQ++lQx0R3qx3TMAyVef2hQYKlFT6VeX2BQF0VBI2q/Wrer6zRi12zN7us0qcTZZU6Ue7TiXKvist9Kiqr1Ilyr0oqglPg+VUenA6v6rbC51d90S4U7Kt60wM96uH7BMP68ZLoC+snEwzdHoc9bHEYt9Muj6vqviNQLx6c9i8QrgP37VXB2W4LBGkpeF9Vz1WFebu9KnAHtruqpgsMHstd1RMfnAUlGOCDteqBXn57qPc9eExbjWPXPGbNNhHuAXMQeAGgHjabLVDD6zan/KO1GIYRVo9d4vWppLxSJRW+qp/A/YqqMB0c1FgRvK2sXrI7mLOCva82W6AH3ecP3tYoW/Eb8lb6VVY1h3X1T9XjSp8qfYFe9uAMJIGfpq1wHzx2RaVfjRhjGZWcVTXowd54T40pBh12e41gHqhbD9avh4d6herdg4HaVmObTYHtqupRD/b2u0JfGALHdwaDud0mR3CAavALgu3koT7weao6rgLHDtwG5k132QPHDZ6vy1E9wNVuq/0lJThA1iabbHaFfWGwVdXy1zxW4Og1Ptd8kTBNQYlXB46VqNTr04heHSPdnFoIvAAQY2y2qoVLHFKcy6EOkW7QKQQDeujxd54P9qjXVR8eDNnfXSCmvDIQtCv9wRlKjND9yqqQHHxfI1gCYwR6x4Pbvxvm/aGymOovB8Fe+YrQra9Gr351OU1lVcgP/i9AzeM0RGAmlfAyGzRfYCrGQK994O9MIHQ7HFXh/TuhPXS/KlwHg7Q97ItD6Fti6KZmjX9wIG1wcSFnVZ1/8Hh2e/gXk+pjBI9f9UXhO4FeqvsL6ncH7NYcYxD8EhJ6fylw/Kr3lcLPy2YLlDnlF5XpwNFS/edYiQ4cC9wGBy33Sk3Q+tu+38J/co1H4AUARFQwoLdFRjBcV90GQncgEPv8RujLQLBXvKLGFIPB3nhfjUBe8zYY1qvDdfV9vxEohQluM2q0JRjwK2v0xAf/J8BbGdjmNwz5gu9Vo5SmZvuN4H1/9Xaj5rGksC8cwePVnIM8uC14Pfw1rldjvjDUJzglY5n8p94Zp5SW5FbndnEyDMNyvecEXgAAIiTYU2evt0obJxMe4oM99uHBW4ZkVP2/QTBwS9U9+KFwXXU/0DP/3S8INb+QhH85+O4Xiuq2Vd3WOHZwppqaM9RU1viCIgW+iPir2lzzi0Pg9YHthlF97nUdp+b1qTmW4Lsz5NT1PxzBcwsep+YXleC17NTOo24dEtStQ7y6V91265Bg6fIvAi8AAIhKNltVHTFfGHAKTM4IAACAmEbgBQAAQEwj8AIAACCmEXgBAAAQ0wi8AAAAiGkEXgAAAMQ0Ai8AAABiGoEXAAAAMY3ACwAAgJhG4AUAAEBMI/ACAAAgphF4AQAAENMIvAAAAIhpBF4AAADENAIvAAAAYhqBFwAAADGNwAsAAICYRuAFAABATHNGugFWZBiGJKmwsDDCLQEAAEBdgjktmNtOhsBbh6KiIklS9+7dI9wSAAAAnExRUZFSUlJOuo/NaEgsbmP8fr8OHTqkdu3ayWaztfjxCgsL1b17dx04cEDJycktfrxow/WpH9emflybk+P61I9rUz+uzclxferXEtfGMAwVFRUpMzNTdvvJq3Tp4a2D3W5Xt27dWv24ycnJ/AU5Ca5P/bg29ePanBzXp35cm/pxbU6O61M/s6/NqXp2gxi0BgAAgJhG4AUAAEBMI/BagMfj0YIFC+TxeCLdFEvi+tSPa1M/rs3JcX3qx7WpH9fm5Lg+9Yv0tWHQGgAAAGIaPbwAAACIaQReAAAAxDQCLwAAAGIagRcAAAAxjcBrAY8//rh69eqluLg4jRo1Shs3box0k1rdP/7xD/3whz9UZmambDabcnJywp43DEPz589Xly5dFB8fr7Fjx2rv3r2RaWwrW7RokUaMGKF27dqpc+fOmjBhgnbv3h22T1lZmWbMmKHU1FQlJSXpiiuuUF5eXoRa3LoWL16swYMHhyYzz87O1ptvvhl6vi1fm++6//77ZbPZdMstt4S2tdXrc/fdd8tms4X9ZGVlhZ5vq9cl6ODBg7rqqquUmpqq+Ph4DRo0SJs2bQo935Z/J/fq1avWZ8dms2nGjBmS2vZnx+fzad68eerdu7fi4+PVp08f3Xvvvao5P0LEPjsGImrZsmWG2+02nn76aWPHjh3GT3/6U6N9+/ZGXl5epJvWqlatWmXceeedxquvvmpIMlasWBH2/P3332+kpKQYOTk5xieffGJceumlRu/evY3S0tLINLgVjRs3znjmmWeM7du3G9u2bTMuueQSo0ePHsaJEydC+9xwww1G9+7djXXr1hmbNm0yzjrrLGP06NERbHXrWblypfH3v//d2LNnj7F7925j7ty5hsvlMrZv324YRtu+NjVt3LjR6NWrlzF48GBj1qxZoe1t9fosWLDAOOOMM4xvvvkm9HP48OHQ8231uhiGYRw9etTo2bOnMW3aNONf//qX8eWXXxpvvfWW8fnnn4f2acu/k/Pz88M+N2vXrjUkGe+++65hGG37s3PfffcZqampxhtvvGF89dVXxvLly42kpCTjkUceCe0Tqc8OgTfCRo4cacyYMSP02OfzGZmZmcaiRYsi2KrI+m7g9fv9RkZGhvG73/0utO348eOGx+Mx/va3v0WghZGVn59vSDLee+89wzAC18LlchnLly8P7bNz505DkrFhw4ZINTOiOnToYPzlL3/h2lQpKioy+vbta6xdu9YYM2ZMKPC25euzYMECY8iQIXU+15avi2EYxu23326cc8459T7P7+Rws2bNMvr06WP4/f42/9kZP368ce2114Ztu/zyy40pU6YYhhHZzw4lDRFUUVGhzZs3a+zYsaFtdrtdY8eO1YYNGyLYMmv56quvlJubG3adUlJSNGrUqDZ5nQoKCiRJHTt2lCRt3rxZXq837PpkZWWpR48ebe76+Hw+LVu2TMXFxcrOzubaVJkxY4bGjx8fdh0kPjt79+5VZmamTjvtNE2ZMkX79++XxHVZuXKlhg8frv/93/9V586d9b3vfU9PPvlk6Hl+J1erqKjQCy+8oGuvvVY2m63Nf3ZGjx6tdevWac+ePZKkTz75RO+//74uvvhiSZH97Dhb9N1xUkeOHJHP51N6enrY9vT0dO3atStCrbKe3NxcSarzOgWfayv8fr9uueUWnX322Ro4cKCkwPVxu91q37592L5t6fp89tlnys7OVllZmZKSkrRixQoNGDBA27Zta/PXZtmyZdqyZYs+/vjjWs+15c/OqFGj9Oyzz6pfv3765ptvtHDhQp177rnavn17m74ukvTll19q8eLFmj17tubOnauPP/5YN998s9xut6ZOncrv5BpycnJ0/PhxTZs2TVLb/jslSXfccYcKCwuVlZUlh8Mhn8+n++67T1OmTJEU2X/PCbxAFJkxY4a2b9+u999/P9JNsZR+/fpp27ZtKigo0CuvvKKpU6fqvffei3SzIu7AgQOaNWuW1q5dq7i4uEg3x1KCPU6SNHjwYI0aNUo9e/bUyy+/rPj4+Ai2LPL8fr+GDx+u3/zmN5Kk733ve9q+fbuWLFmiqVOnRrh11vLUU0/p4osvVmZmZqSbYgkvv/yyli5dqhdffFFnnHGGtm3bpltuuUWZmZkR/+xQ0hBBaWlpcjgctUZv5uXlKSMjI0Ktsp7gtWjr12nmzJl644039O6776pbt26h7RkZGaqoqNDx48fD9m9L18ftduv000/XsGHDtGjRIg0ZMkSPPPJIm782mzdvVn5+vs4880w5nU45nU699957+uMf/yin06n09PQ2fX1qat++vf7rv/5Ln3/+eZv/3HTp0kUDBgwI29a/f/9QyQe/kwP27dunt99+W//3f/8X2tbWPzu33Xab7rjjDl155ZUaNGiQrr76av3iF7/QokWLJEX2s0PgjSC3261hw4Zp3bp1oW1+v1/r1q1TdnZ2BFtmLb1791ZGRkbYdSosLNS//vWvNnGdDMPQzJkztWLFCr3zzjvq3bt32PPDhg2Ty+UKuz67d+/W/v3728T1qYvf71d5eXmbvzYXXHCBPvvsM23bti30M3z4cE2ZMiV0vy1fn5pOnDihL774Ql26dGnzn5uzzz671tSHe/bsUc+ePSXxOznomWeeUefOnTV+/PjQtrb+2SkpKZHdHh4tHQ6H/H6/pAh/dlp0SBxOadmyZYbH4zGeffZZ49///rdx/fXXG+3btzdyc3Mj3bRWVVRUZGzdutXYunWrIcl46KGHjK1btxr79u0zDCMwjUn79u2N1157zfj000+Nyy67rM1MgfPzn//cSElJMdavXx82FU5JSUlonxtuuMHo0aOH8c477xibNm0ysrOzjezs7Ai2uvXccccdxnvvvWd89dVXxqeffmrccccdhs1mM9asWWMYRtu+NnWpOUuDYbTd63Prrbca69evN7766ivjgw8+MMaOHWukpaUZ+fn5hmG03etiGIEp7JxOp3HfffcZe/fuNZYuXWokJCQYL7zwQmiftvw72TACMyr16NHDuP3222s915Y/O1OnTjW6du0ampbs1VdfNdLS0oxf/epXoX0i9dkh8FrAo48+avTo0cNwu93GyJEjjY8++ijSTWp17777riGp1s/UqVMNwwhMZTJv3jwjPT3d8Hg8xgUXXGDs3r07so1uJXVdF0nGM888E9qntLTUuPHGG40OHToYCQkJxsSJE41vvvkmco1uRddee63Rs2dPw+12G506dTIuuOCCUNg1jLZ9bery3cDbVq/PpEmTjC5duhhut9vo2rWrMWnSpLB5ZtvqdQl6/fXXjYEDBxoej8fIysoynnjiibDn2/LvZMMwjLfeesuQVOc5t+XPTmFhoTFr1iyjR48eRlxcnHHaaacZd955p1FeXh7aJ1KfHZth1Fj+AgAAAIgx1PACAAAgphF4AQAAENMIvAAAAIhpBF4AAADENAIvAAAAYhqBFwAAADGNwAsAAICYRuAFAABATCPwAgDqZbPZlJOTE+lmAECzEHgBwKKmTZsmm81W6+eiiy6KdNMAIKo4I90AAED9LrroIj3zzDNh2zweT4RaAwDRiR5eALAwj8ejjIyMsJ8OHTpICpQbLF68WBdffLHi4+N12mmn6ZVXXgl7/Weffab//u//Vnx8vFJTU3X99dfrxIkTYfs8/fTTOuOMM+TxeNSlSxfNnDkz7PkjR45o4sSJSkhIUN++fbVy5cqWPWkAMBmBFwCi2Lx583TFFVfok08+0ZQpU3TllVdq586dkqTi4mKNGzdOHTp00Mcff6zly5fr7bffDgu0ixcv1owZM3T99dfrs88+08qVK3X66aeHHWPhwoX68Y9/rE8//VSXXHKJpkyZoqNHj7bqeQJAc9gMwzAi3QgAQG3Tpk3TCy+8oLi4uLDtc+fO1dy5c2Wz2XTDDTdo8eLFoefOOussnXnmmfrTn/6kJ598UrfffrsOHDigxMRESdKqVav0wx/+UIcOHVJ6erq6du2q6dOn69e//nWdbbDZbLrrrrt07733SgqE6KSkJL355pvUEgOIGtTwAoCFff/73w8LtJLUsWPH0P3s7Oyw57Kzs7Vt2zZJ0s6dOzVkyJBQ2JWks88+W36/X7t375bNZtOhQ4d0wQUXnLQNgwcPDt1PTExUcnKy8vPzm3pKANDqCLwAYGGJiYm1SgzMEh8f36D9XC5X2GObzSa/398STQKAFkENLwBEsY8++qjW4/79+0uS+vfvr08++UTFxcWh5z/44APZ7Xb169dP7dq1U69evbRu3bpWbTMAtDZ6eAHAwsrLy5Wbmxu2zel0Ki0tTZK0fPlyDR8+XOecc46WLl2qjRs36qmnnpIkTZkyRQsWLNDUqVN199136/Dhw7rpppt09dVXKz09XZJ0991364YbblDnzp118cUXq6ioSB988IFuuumm1j1RAGhBBF4AsLDVq1erS5cuYdv69eunXbt2SQrMoLBs2TLdeOON6tKli/72t79pwIABkqSEhAS99dZbmjVrlkaMGKGEhARdccUVeuihh0LvNXXqVJWVlekPf/iDfvnLXyotLU0/+tGPWu8EAaAVMEsDAEQpm82mFStWaMKECZFuCgBYGjW8AAAAiGkEXgAAAMQ0angBIEpRkQYADUMPLwAAAGIagRcAAAAxjcALAACAmEbgBQAAQEwj8AIAACCmEXgBAAAQ0wi8AAAAiGkEXgAAAMS0/w8C5ULXqKFpjgAAAABJRU5ErkJggg==",
      "text/plain": [
       "<Figure size 800x600 with 1 Axes>"
      ]
     },
     "metadata": {},
     "output_type": "display_data"
    }
   ],
   "source": [
    "fig, ax = plt.subplots(1, 1, figsize=(8, 6))\n",
    "\n",
    "ax.plot([loss_history[i*len(train_dl):((i+1)*len(train_dl) if i<EPOCHS-1 else -1)].mean() for i in range(EPOCHS)])\n",
    "#ax.set_ylim(0, 0.3)\n",
    "ax.set_xlabel('Epoch')\n",
    "ax.set_ylabel('Loss')\n",
    "ax.set_title('Training Loss')\n",
    "ax.grid(axis='y')\n",
    "\n",
    "fig.savefig(f'models/loss_history_{now.strftime(\"%Y%m%d-%H%M%S\")}.png')"
   ]
  },
  {
   "cell_type": "code",
   "execution_count": 45,
   "metadata": {},
   "outputs": [],
   "source": [
    "def get_predictions(model, device, dl, dtype=torch.complex128, disable_pbar=False):\n",
    "\n",
    "    model.eval()\n",
    "    model.to(device)\n",
    "    predictions = []\n",
    "    with torch.no_grad():\n",
    "        for data in tqdm(dl, total=len(dl), position=0, desc='test', disable=disable_pbar):\n",
    "            images, labels = data\n",
    "            images, labels = images.to(device, dtype=dtype).squeeze(), labels.to(device)\n",
    "            outputs = model(images)\n",
    "            probs = torch.real(torch.pow(outputs, 2))\n",
    "            #probs = probs / torch.sum(probs)\n",
    "            predictions.append(probs.squeeze().detach().cpu())\n",
    "\n",
    "    return torch.concat(predictions, dim=0)\n",
    "\n",
    "\n",
    "def get_output(model, device, dl, dtype=torch.complex128, disable_pbar=False):\n",
    "\n",
    "    model.eval()\n",
    "    model.to(device)\n",
    "    outputs = []\n",
    "    with torch.no_grad():\n",
    "        for data in tqdm(dl, total=len(dl), position=0, desc='test', disable=disable_pbar):\n",
    "            images, labels = data\n",
    "            images, labels = images.to(device, dtype=dtype).squeeze(), labels.to(device)\n",
    "            outputs.append(model(images).squeeze().detach().cpu())\n",
    "\n",
    "    return torch.concat(outputs, dim=0)"
   ]
  },
  {
   "cell_type": "code",
   "execution_count": 46,
   "metadata": {},
   "outputs": [
    {
     "name": "stderr",
     "output_type": "stream",
     "text": [
      "test: 100%|██████████| 15/15 [00:00<00:00, 82.11it/s]\n",
      "test: 100%|██████████| 4/4 [00:00<00:00, 1055.64it/s]\n"
     ]
    },
    {
     "ename": "ValueError",
     "evalue": "x must have 2 or fewer dimensions",
     "output_type": "error",
     "traceback": [
      "\u001b[0;31m---------------------------------------------------------------------------\u001b[0m",
      "\u001b[0;31mValueError\u001b[0m                                Traceback (most recent call last)",
      "Cell \u001b[0;32mIn[46], line 6\u001b[0m\n\u001b[1;32m      3\u001b[0m FS\u001b[38;5;241m=\u001b[39m\u001b[38;5;241m16\u001b[39m\n\u001b[1;32m      4\u001b[0m fig, ax \u001b[38;5;241m=\u001b[39m plt\u001b[38;5;241m.\u001b[39msubplots(\u001b[38;5;241m1\u001b[39m, \u001b[38;5;241m1\u001b[39m, figsize\u001b[38;5;241m=\u001b[39m(\u001b[38;5;241m8\u001b[39m, \u001b[38;5;241m6\u001b[39m))\n\u001b[0;32m----> 6\u001b[0m \u001b[43max\u001b[49m\u001b[38;5;241;43m.\u001b[39;49m\u001b[43mhist\u001b[49m\u001b[43m(\u001b[49m\u001b[43m[\u001b[49m\u001b[43mtrain_pred\u001b[49m\u001b[43m,\u001b[49m\u001b[43m \u001b[49m\u001b[43mtest_pred\u001b[49m\u001b[43m]\u001b[49m\u001b[43m,\u001b[49m\u001b[43m \u001b[49m\u001b[43mbins\u001b[49m\u001b[38;5;241;43m=\u001b[39;49m\u001b[38;5;241;43m25\u001b[39;49m\u001b[43m,\u001b[49m\u001b[43m \u001b[49m\u001b[43mlabel\u001b[49m\u001b[38;5;241;43m=\u001b[39;49m\u001b[43m[\u001b[49m\u001b[38;5;124;43m'\u001b[39;49m\u001b[38;5;124;43mtrain\u001b[39;49m\u001b[38;5;124;43m'\u001b[39;49m\u001b[43m,\u001b[49m\u001b[43m \u001b[49m\u001b[38;5;124;43m'\u001b[39;49m\u001b[38;5;124;43mtest\u001b[39;49m\u001b[38;5;124;43m'\u001b[39;49m\u001b[43m]\u001b[49m\u001b[43m,\u001b[49m\u001b[43m \u001b[49m\u001b[43mstacked\u001b[49m\u001b[38;5;241;43m=\u001b[39;49m\u001b[38;5;28;43;01mTrue\u001b[39;49;00m\u001b[43m,\u001b[49m\u001b[43m \u001b[49m\u001b[43medgecolor\u001b[49m\u001b[38;5;241;43m=\u001b[39;49m\u001b[38;5;124;43m'\u001b[39;49m\u001b[38;5;124;43mwhite\u001b[39;49m\u001b[38;5;124;43m'\u001b[39;49m\u001b[43m)\u001b[49m\n\u001b[1;32m      7\u001b[0m ax\u001b[38;5;241m.\u001b[39mlegend()\n\u001b[1;32m      8\u001b[0m ax\u001b[38;5;241m.\u001b[39mset_xlabel(\u001b[38;5;124m'\u001b[39m\u001b[38;5;124mPrediction\u001b[39m\u001b[38;5;124m'\u001b[39m, fontsize\u001b[38;5;241m=\u001b[39mFS)\n",
      "File \u001b[0;32m~/Desktop/Thesis/TN4HEP/.ttn_venv/lib/python3.11/site-packages/matplotlib/__init__.py:1465\u001b[0m, in \u001b[0;36m_preprocess_data.<locals>.inner\u001b[0;34m(ax, data, *args, **kwargs)\u001b[0m\n\u001b[1;32m   1462\u001b[0m \u001b[38;5;129m@functools\u001b[39m\u001b[38;5;241m.\u001b[39mwraps(func)\n\u001b[1;32m   1463\u001b[0m \u001b[38;5;28;01mdef\u001b[39;00m \u001b[38;5;21minner\u001b[39m(ax, \u001b[38;5;241m*\u001b[39margs, data\u001b[38;5;241m=\u001b[39m\u001b[38;5;28;01mNone\u001b[39;00m, \u001b[38;5;241m*\u001b[39m\u001b[38;5;241m*\u001b[39mkwargs):\n\u001b[1;32m   1464\u001b[0m     \u001b[38;5;28;01mif\u001b[39;00m data \u001b[38;5;129;01mis\u001b[39;00m \u001b[38;5;28;01mNone\u001b[39;00m:\n\u001b[0;32m-> 1465\u001b[0m         \u001b[38;5;28;01mreturn\u001b[39;00m \u001b[43mfunc\u001b[49m\u001b[43m(\u001b[49m\u001b[43max\u001b[49m\u001b[43m,\u001b[49m\u001b[43m \u001b[49m\u001b[38;5;241;43m*\u001b[39;49m\u001b[38;5;28;43mmap\u001b[39;49m\u001b[43m(\u001b[49m\u001b[43msanitize_sequence\u001b[49m\u001b[43m,\u001b[49m\u001b[43m \u001b[49m\u001b[43margs\u001b[49m\u001b[43m)\u001b[49m\u001b[43m,\u001b[49m\u001b[43m \u001b[49m\u001b[38;5;241;43m*\u001b[39;49m\u001b[38;5;241;43m*\u001b[39;49m\u001b[43mkwargs\u001b[49m\u001b[43m)\u001b[49m\n\u001b[1;32m   1467\u001b[0m     bound \u001b[38;5;241m=\u001b[39m new_sig\u001b[38;5;241m.\u001b[39mbind(ax, \u001b[38;5;241m*\u001b[39margs, \u001b[38;5;241m*\u001b[39m\u001b[38;5;241m*\u001b[39mkwargs)\n\u001b[1;32m   1468\u001b[0m     auto_label \u001b[38;5;241m=\u001b[39m (bound\u001b[38;5;241m.\u001b[39marguments\u001b[38;5;241m.\u001b[39mget(label_namer)\n\u001b[1;32m   1469\u001b[0m                   \u001b[38;5;129;01mor\u001b[39;00m bound\u001b[38;5;241m.\u001b[39mkwargs\u001b[38;5;241m.\u001b[39mget(label_namer))\n",
      "File \u001b[0;32m~/Desktop/Thesis/TN4HEP/.ttn_venv/lib/python3.11/site-packages/matplotlib/axes/_axes.py:6767\u001b[0m, in \u001b[0;36mAxes.hist\u001b[0;34m(self, x, bins, range, density, weights, cumulative, bottom, histtype, align, orientation, rwidth, log, color, label, stacked, **kwargs)\u001b[0m\n\u001b[1;32m   6764\u001b[0m     stacked \u001b[38;5;241m=\u001b[39m \u001b[38;5;28;01mTrue\u001b[39;00m\n\u001b[1;32m   6766\u001b[0m \u001b[38;5;66;03m# Massage 'x' for processing.\u001b[39;00m\n\u001b[0;32m-> 6767\u001b[0m x \u001b[38;5;241m=\u001b[39m \u001b[43mcbook\u001b[49m\u001b[38;5;241;43m.\u001b[39;49m\u001b[43m_reshape_2D\u001b[49m\u001b[43m(\u001b[49m\u001b[43mx\u001b[49m\u001b[43m,\u001b[49m\u001b[43m \u001b[49m\u001b[38;5;124;43m'\u001b[39;49m\u001b[38;5;124;43mx\u001b[39;49m\u001b[38;5;124;43m'\u001b[39;49m\u001b[43m)\u001b[49m\n\u001b[1;32m   6768\u001b[0m nx \u001b[38;5;241m=\u001b[39m \u001b[38;5;28mlen\u001b[39m(x)  \u001b[38;5;66;03m# number of datasets\u001b[39;00m\n\u001b[1;32m   6770\u001b[0m \u001b[38;5;66;03m# Process unit information.  _process_unit_info sets the unit and\u001b[39;00m\n\u001b[1;32m   6771\u001b[0m \u001b[38;5;66;03m# converts the first dataset; then we convert each following dataset\u001b[39;00m\n\u001b[1;32m   6772\u001b[0m \u001b[38;5;66;03m# one at a time.\u001b[39;00m\n",
      "File \u001b[0;32m~/Desktop/Thesis/TN4HEP/.ttn_venv/lib/python3.11/site-packages/matplotlib/cbook.py:1412\u001b[0m, in \u001b[0;36m_reshape_2D\u001b[0;34m(X, name)\u001b[0m\n\u001b[1;32m   1410\u001b[0m     nd \u001b[38;5;241m=\u001b[39m np\u001b[38;5;241m.\u001b[39mndim(xi)\n\u001b[1;32m   1411\u001b[0m     \u001b[38;5;28;01mif\u001b[39;00m nd \u001b[38;5;241m>\u001b[39m \u001b[38;5;241m1\u001b[39m:\n\u001b[0;32m-> 1412\u001b[0m         \u001b[38;5;28;01mraise\u001b[39;00m \u001b[38;5;167;01mValueError\u001b[39;00m(\u001b[38;5;124mf\u001b[39m\u001b[38;5;124m'\u001b[39m\u001b[38;5;132;01m{\u001b[39;00mname\u001b[38;5;132;01m}\u001b[39;00m\u001b[38;5;124m must have 2 or fewer dimensions\u001b[39m\u001b[38;5;124m'\u001b[39m)\n\u001b[1;32m   1413\u001b[0m     result\u001b[38;5;241m.\u001b[39mappend(xi\u001b[38;5;241m.\u001b[39mreshape(\u001b[38;5;241m-\u001b[39m\u001b[38;5;241m1\u001b[39m))\n\u001b[1;32m   1415\u001b[0m \u001b[38;5;28;01mif\u001b[39;00m is_1d:\n\u001b[1;32m   1416\u001b[0m     \u001b[38;5;66;03m# 1D array of scalars: directly return it.\u001b[39;00m\n",
      "\u001b[0;31mValueError\u001b[0m: x must have 2 or fewer dimensions"
     ]
    },
    {
     "data": {
      "image/png": "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",
      "text/plain": [
       "<Figure size 800x600 with 1 Axes>"
      ]
     },
     "metadata": {},
     "output_type": "display_data"
    }
   ],
   "source": [
    "train_pred = get_predictions(model, DEVICE, train_dl, DTYPE)\n",
    "test_pred = get_predictions(model, DEVICE, test_dl, DTYPE)\n",
    "FS=16\n",
    "fig, ax = plt.subplots(1, 1, figsize=(8, 6))\n",
    "\n",
    "ax.hist([train_pred, test_pred], bins=25, label=['train', 'test'], stacked=True, edgecolor='white')\n",
    "ax.legend()\n",
    "ax.set_xlabel('Prediction', fontsize=FS)\n",
    "ax.set_ylabel('Counts', fontsize=FS)\n",
    "ax.set_title('Predictions distribution', fontsize=FS+2)\n",
    "\n",
    "fig.savefig(f'models/predictions_dist_{now.strftime(\"%Y%m%d-%H%M%S\")}.png')"
   ]
  },
  {
   "cell_type": "code",
   "execution_count": 48,
   "metadata": {},
   "outputs": [
    {
     "name": "stderr",
     "output_type": "stream",
     "text": [
      "test: 100%|██████████| 15/15 [00:00<00:00, 92.27it/s]\n",
      "test: 100%|██████████| 4/4 [00:00<00:00, 1377.33it/s]\n"
     ]
    }
   ],
   "source": [
    "# save model output\n",
    "train_out = get_output(model, DEVICE, train_dl, DTYPE)\n",
    "test_out = get_output(model, DEVICE, test_dl, DTYPE)\n",
    "np.save(f'models/train_out_{now.strftime(\"%Y%m%d-%H%M%S\")}.npy', train_out)\n",
    "np.save(f'models/test_out_{now.strftime(\"%Y%m%d-%H%M%S\")}.npy', test_out)"
   ]
  },
  {
   "cell_type": "code",
   "execution_count": 59,
   "metadata": {},
   "outputs": [
    {
     "data": {
      "text/plain": [
       "tensor([[ 0.8753],\n",
       "        [ 0.1982],\n",
       "        [ 0.4921],\n",
       "        [ 1.1066],\n",
       "        [-0.1208],\n",
       "        [ 0.9554],\n",
       "        [ 0.7106],\n",
       "        [-0.0356]], device='cuda:0', dtype=torch.float64,\n",
       "       grad_fn=<ViewBackward0>)"
      ]
     },
     "execution_count": 59,
     "metadata": {},
     "output_type": "execute_result"
    }
   ],
   "source": [
    "data = torch.tensor(np.load('../data/iris/iris_embedded.npy')[80:88]).to(DEVICE, dtype=DTYPE)\n",
    "model(data)"
   ]
  },
  {
   "cell_type": "code",
   "execution_count": 60,
   "metadata": {},
   "outputs": [
    {
     "data": {
      "text/plain": [
       "tensor([ 0.8753,  0.1982,  0.4921,  1.1066, -0.1208,  0.9554,  0.7106, -0.0356,\n",
       "        -0.1550,  0.5700,  0.9094,  1.0298,  0.2796, -0.3584,  1.0068,  0.5912,\n",
       "         0.4615,  0.3426,  0.4464,  0.3763], dtype=torch.float64)"
      ]
     },
     "execution_count": 60,
     "metadata": {},
     "output_type": "execute_result"
    }
   ],
   "source": [
    "test_out"
   ]
  },
  {
   "cell_type": "code",
   "execution_count": 49,
   "metadata": {},
   "outputs": [],
   "source": [
    "#save model weights\n",
    "np.savez(f'models/weights_{now.strftime(\"%Y%m%d-%H%M%S\")}.npz', **{key.name : value.cpu().detach() for key, value in model._TTN__tensor_map.items()})"
   ]
  },
  {
   "cell_type": "code",
   "execution_count": 26,
   "metadata": {},
   "outputs": [
    {
     "data": {
      "text/plain": [
       "array([[[ 0.92676304],\n",
       "        [ 0.16776162],\n",
       "        [-0.34247022],\n",
       "        [ 0.91754829]],\n",
       "\n",
       "       [[-0.29305835],\n",
       "        [ 0.11300487],\n",
       "        [-0.11165282],\n",
       "        [ 0.07450146]],\n",
       "\n",
       "       [[ 0.12491639],\n",
       "        [ 0.5886701 ],\n",
       "        [ 0.63739822],\n",
       "        [ 0.20972033]],\n",
       "\n",
       "       [[ 0.51550485],\n",
       "        [ 0.02084619],\n",
       "        [-0.47648278],\n",
       "        [ 0.22286643]]])"
      ]
     },
     "execution_count": 26,
     "metadata": {},
     "output_type": "execute_result"
    }
   ],
   "source": [
    "np.load(f'models/weights_{now.strftime(\"%Y%m%d-%H%M%S\")}.npz', allow_pickle=True)['0.0']"
   ]
  },
  {
   "cell_type": "code",
   "execution_count": 27,
   "metadata": {},
   "outputs": [],
   "source": [
    "import pandas as pd\n",
    "from utils import quantize\n",
    "dataframe = pd.read_csv('../data' + '/iris/Iris.csv')\n",
    "labels = ['Iris-virginica', 'Iris-versicolor']\n",
    "\n",
    "#dataframe = dataframe.sample(frac=1).reset_index(drop=True)\n",
    "\n",
    "dataframe['SepalLengthCm'] = dataframe['SepalLengthCm'] / dataframe['SepalLengthCm'].max()\n",
    "dataframe['SepalWidthCm'] = dataframe['SepalWidthCm'] / dataframe['SepalWidthCm'].max()\n",
    "dataframe['PetalLengthCm'] = dataframe['PetalLengthCm'] / dataframe['PetalLengthCm'].max()\n",
    "dataframe['PetalWidthCm'] = dataframe['PetalWidthCm'] / dataframe['PetalWidthCm'].max()\n",
    "dataframe = dataframe[dataframe['Species'].isin(labels)]\n",
    "labels = dataframe['Species'].to_numpy()\n",
    "labels = np.where(labels == labels[0], 0, 1)\n",
    "np.save('../data/iris/iris_labels.npy', labels)\n",
    "labels = torch.tensor(labels)\n",
    "\n",
    "\n",
    "data = dataframe.drop(columns=['Id', 'Species']).to_numpy()\n",
    "np.save('../data/iris/iris_normalized.npy', data)\n",
    "data = torch.tensor(data)\n",
    "train_size = int(0.8 * len(data))\n",
    "data = quantize(data)\n",
    "np.save('../data/iris/iris_embedded.npy', data.numpy())"
   ]
  },
  {
   "cell_type": "code",
   "execution_count": 34,
   "metadata": {},
   "outputs": [
    {
     "data": {
      "text/plain": [
       "array([120,  63, 105, 118, 112, 143, 134, 126,  93,  95, 115,  84, 149,\n",
       "       139, 116, 148, 113,  75,  71,  51, 131, 129,  69, 121, 110,  54,\n",
       "        53,  64, 109,  88,  78,  59,  62, 104, 136,  67, 140,  61,  65,\n",
       "       122, 100,  85, 111,  81, 146, 107,  99,  87, 127,  77,  70, 144,\n",
       "       132, 117, 141, 123,  60,  76,  66,  57,  79,  83,  89,  97,  72,\n",
       "        82, 106, 133, 101,  90,  96,  55,  52, 108, 103, 130,  56, 119,\n",
       "        68,  58,  91, 145, 125,  94, 135,  73, 128, 124, 114,  80,  86,\n",
       "       142, 137, 102,  50, 138,  74, 147,  92,  98])"
      ]
     },
     "execution_count": 34,
     "metadata": {},
     "output_type": "execute_result"
    }
   ],
   "source": [
    "dataframe.sample(frac=1).index.to_numpy()"
   ]
  },
  {
   "cell_type": "code",
   "execution_count": 58,
   "metadata": {},
   "outputs": [
    {
     "data": {
      "text/plain": [
       "(100, 4)"
      ]
     },
     "execution_count": 58,
     "metadata": {},
     "output_type": "execute_result"
    }
   ],
   "source": [
    "np.load('../data/iris/iris_normalized.npy').shape"
   ]
  },
  {
   "cell_type": "code",
   "execution_count": 24,
   "metadata": {},
   "outputs": [],
   "source": [
    "import pandas as pd\n",
    "\n",
    "dataframe = pd.DataFrame(columns=['feat', 'bond_dim', 'train_acc', 'test_acc', 'loss', 'time', 'date'])"
   ]
  },
  {
   "cell_type": "code",
   "execution_count": 25,
   "metadata": {},
   "outputs": [],
   "source": [
    "dataframe[0] = [64, 32, 0.95, 0.9, 0.1, 10, 25]"
   ]
  },
  {
   "cell_type": "code",
   "execution_count": 27,
   "metadata": {},
   "outputs": [
    {
     "data": {
      "text/plain": [
       "0    64\n",
       "1    32\n",
       "Name: feat, dtype: int64"
      ]
     },
     "execution_count": 27,
     "metadata": {},
     "output_type": "execute_result"
    }
   ],
   "source": [
    "series = pd.Series(name='feat')\n",
    "series[0] = 64\n",
    "series[1] = 32\n",
    "series"
   ]
  },
  {
   "cell_type": "code",
   "execution_count": 33,
   "metadata": {},
   "outputs": [],
   "source": [
    "series2 = pd.Series(name='bond_dim')\n",
    "series2[0] = 32\n",
    "series2[1] = 16"
   ]
  },
  {
   "cell_type": "code",
   "execution_count": 38,
   "metadata": {},
   "outputs": [
    {
     "data": {
      "text/html": [
       "<div>\n",
       "<style scoped>\n",
       "    .dataframe tbody tr th:only-of-type {\n",
       "        vertical-align: middle;\n",
       "    }\n",
       "\n",
       "    .dataframe tbody tr th {\n",
       "        vertical-align: top;\n",
       "    }\n",
       "\n",
       "    .dataframe thead th {\n",
       "        text-align: right;\n",
       "    }\n",
       "</style>\n",
       "<table border=\"1\" class=\"dataframe\">\n",
       "  <thead>\n",
       "    <tr style=\"text-align: right;\">\n",
       "      <th></th>\n",
       "      <th>feat</th>\n",
       "      <th>bond_dim</th>\n",
       "    </tr>\n",
       "  </thead>\n",
       "  <tbody>\n",
       "    <tr>\n",
       "      <th>0</th>\n",
       "      <td>64</td>\n",
       "      <td>32</td>\n",
       "    </tr>\n",
       "    <tr>\n",
       "      <th>1</th>\n",
       "      <td>32</td>\n",
       "      <td>16</td>\n",
       "    </tr>\n",
       "  </tbody>\n",
       "</table>\n",
       "</div>"
      ],
      "text/plain": [
       "   feat  bond_dim\n",
       "0    64        32\n",
       "1    32        16"
      ]
     },
     "execution_count": 38,
     "metadata": {},
     "output_type": "execute_result"
    }
   ],
   "source": [
    "df = pd.DataFrame()\n",
    "df['feat'] = series\n",
    "df['bond_dim'] = series2\n",
    "df"
   ]
  },
  {
   "cell_type": "code",
   "execution_count": 40,
   "metadata": {},
   "outputs": [
    {
     "data": {
      "text/plain": [
       "array([[64, 32],\n",
       "       [32, 16]])"
      ]
     },
     "execution_count": 40,
     "metadata": {},
     "output_type": "execute_result"
    }
   ],
   "source": [
    "df.to_numpy()"
   ]
  },
  {
   "cell_type": "code",
   "execution_count": 39,
   "metadata": {},
   "outputs": [
    {
     "data": {
      "text/plain": [
       "0    64\n",
       "1    32\n",
       "Name: feat, dtype: int64"
      ]
     },
     "execution_count": 39,
     "metadata": {},
     "output_type": "execute_result"
    }
   ],
   "source": [
    "pd.Series(name='feat', data=[64, 32])"
   ]
  },
  {
   "cell_type": "code",
   "execution_count": 3,
   "metadata": {},
   "outputs": [
    {
     "data": {
      "text/html": [
       "<div>\n",
       "<style scoped>\n",
       "    .dataframe tbody tr th:only-of-type {\n",
       "        vertical-align: middle;\n",
       "    }\n",
       "\n",
       "    .dataframe tbody tr th {\n",
       "        vertical-align: top;\n",
       "    }\n",
       "\n",
       "    .dataframe thead th {\n",
       "        text-align: right;\n",
       "    }\n",
       "</style>\n",
       "<table border=\"1\" class=\"dataframe\">\n",
       "  <thead>\n",
       "    <tr style=\"text-align: right;\">\n",
       "      <th></th>\n",
       "      <th>feat</th>\n",
       "      <th>bond_dim</th>\n",
       "      <th>train_acc</th>\n",
       "      <th>test_acc</th>\n",
       "      <th>loss</th>\n",
       "      <th>time</th>\n",
       "      <th>date</th>\n",
       "      <th>0</th>\n",
       "    </tr>\n",
       "  </thead>\n",
       "  <tbody>\n",
       "    <tr>\n",
       "      <th>0</th>\n",
       "      <td>NaN</td>\n",
       "      <td>NaN</td>\n",
       "      <td>NaN</td>\n",
       "      <td>NaN</td>\n",
       "      <td>NaN</td>\n",
       "      <td>NaN</td>\n",
       "      <td>NaN</td>\n",
       "      <td>1</td>\n",
       "    </tr>\n",
       "    <tr>\n",
       "      <th>1</th>\n",
       "      <td>NaN</td>\n",
       "      <td>NaN</td>\n",
       "      <td>NaN</td>\n",
       "      <td>NaN</td>\n",
       "      <td>NaN</td>\n",
       "      <td>NaN</td>\n",
       "      <td>NaN</td>\n",
       "      <td>2</td>\n",
       "    </tr>\n",
       "    <tr>\n",
       "      <th>2</th>\n",
       "      <td>NaN</td>\n",
       "      <td>NaN</td>\n",
       "      <td>NaN</td>\n",
       "      <td>NaN</td>\n",
       "      <td>NaN</td>\n",
       "      <td>NaN</td>\n",
       "      <td>NaN</td>\n",
       "      <td>3</td>\n",
       "    </tr>\n",
       "    <tr>\n",
       "      <th>3</th>\n",
       "      <td>NaN</td>\n",
       "      <td>NaN</td>\n",
       "      <td>NaN</td>\n",
       "      <td>NaN</td>\n",
       "      <td>NaN</td>\n",
       "      <td>NaN</td>\n",
       "      <td>NaN</td>\n",
       "      <td>4</td>\n",
       "    </tr>\n",
       "    <tr>\n",
       "      <th>4</th>\n",
       "      <td>NaN</td>\n",
       "      <td>NaN</td>\n",
       "      <td>NaN</td>\n",
       "      <td>NaN</td>\n",
       "      <td>NaN</td>\n",
       "      <td>NaN</td>\n",
       "      <td>NaN</td>\n",
       "      <td>5</td>\n",
       "    </tr>\n",
       "    <tr>\n",
       "      <th>5</th>\n",
       "      <td>NaN</td>\n",
       "      <td>NaN</td>\n",
       "      <td>NaN</td>\n",
       "      <td>NaN</td>\n",
       "      <td>NaN</td>\n",
       "      <td>NaN</td>\n",
       "      <td>NaN</td>\n",
       "      <td>6</td>\n",
       "    </tr>\n",
       "    <tr>\n",
       "      <th>6</th>\n",
       "      <td>NaN</td>\n",
       "      <td>NaN</td>\n",
       "      <td>NaN</td>\n",
       "      <td>NaN</td>\n",
       "      <td>NaN</td>\n",
       "      <td>NaN</td>\n",
       "      <td>NaN</td>\n",
       "      <td>7</td>\n",
       "    </tr>\n",
       "  </tbody>\n",
       "</table>\n",
       "</div>"
      ],
      "text/plain": [
       "  feat bond_dim train_acc test_acc loss time date  0\n",
       "0  NaN      NaN       NaN      NaN  NaN  NaN  NaN  1\n",
       "1  NaN      NaN       NaN      NaN  NaN  NaN  NaN  2\n",
       "2  NaN      NaN       NaN      NaN  NaN  NaN  NaN  3\n",
       "3  NaN      NaN       NaN      NaN  NaN  NaN  NaN  4\n",
       "4  NaN      NaN       NaN      NaN  NaN  NaN  NaN  5\n",
       "5  NaN      NaN       NaN      NaN  NaN  NaN  NaN  6\n",
       "6  NaN      NaN       NaN      NaN  NaN  NaN  NaN  7"
      ]
     },
     "execution_count": 3,
     "metadata": {},
     "output_type": "execute_result"
    }
   ],
   "source": [
    "dataframe"
   ]
  },
  {
   "cell_type": "markdown",
   "metadata": {},
   "source": [
    "## Get weights distribution"
   ]
  },
  {
   "cell_type": "code",
   "execution_count": 66,
   "metadata": {},
   "outputs": [],
   "source": [
    "def get_weights_population(n, disable_pbar=False):\n",
    "    weights_ls = []\n",
    "    DEVICE = 'cuda'\n",
    "    BOND_DIM = 4\n",
    "    DTYPE = torch.double\n",
    "    INIT_EPOCHS = 5\n",
    "    LR = 0.05\n",
    "    EPOCHS = 80\n",
    "    SCHEDULER_STEPS = 4\n",
    "    train_dl, test_dl, h = get_iris_data_loaders(batch_size=BATCH_SIZE, labels=['Iris-virginica', 'Iris-versicolor'])\n",
    "    features = h**2\n",
    "    pbar = tqdm(total=n*EPOCHS*len(train_dl), position=0, desc='weights population', leave=True, disable=disable_pbar)\n",
    "    for _ in range(n):        \n",
    "        model = TTNModel(features, bond_dim=BOND_DIM, n_labels=1, device=DEVICE, dtype=DTYPE)\n",
    "        model.initialize(True, train_dl, loss, INIT_EPOCHS, disable_pbar=True)\n",
    "        model.train()\n",
    "        model.to(DEVICE)\n",
    "        optimizer = torch.optim.Adam(model.parameters(), lr=LR, weight_decay=1e-4)\n",
    "        schedulers = [torch.optim.lr_scheduler.ExponentialLR(optimizer, 0.9, last_epoch=-1, verbose=False), torch.optim.lr_scheduler.CosineAnnealingLR(optimizer, 10, eta_min=1e-5)]\n",
    "        scheduler = schedulers[0]\n",
    "        tot_loss_history = []\n",
    "        for epoch in range(EPOCHS):\n",
    "            loss_history = train_one_epoch(model, DEVICE, train_dl, loss, optimizer, pbar=pbar, disable_pbar=disable_pbar)\n",
    "            tot_loss_history += loss_history\n",
    "            if epoch % SCHEDULER_STEPS == SCHEDULER_STEPS-1:\n",
    "                scheduler.step()\n",
    "\n",
    "        loss_history = np.array(tot_loss_history)\n",
    "        print('Accuracy on train and test set:', accuracy(model, DEVICE, train_dl, test_dl, DTYPE, disable_pbar=True))\n",
    "\n",
    "        weights = [tensor.detach().cpu().flatten() for tensor in model.tensors]\n",
    "        weights_ls.append(torch.concat(weights, dim=0))\n",
    "        train_dl, test_dl, h = get_iris_data_loaders(batch_size=BATCH_SIZE, labels=['Iris-virginica', 'Iris-versicolor'])\n",
    "    return torch.stack(weights_ls)"
   ]
  },
  {
   "cell_type": "code",
   "execution_count": 67,
   "metadata": {},
   "outputs": [
    {
     "name": "stderr",
     "output_type": "stream",
     "text": [
      "weights population:  10%|█         | 800/8000 [00:16<02:22, 50.68it/s, current loss=0.0137, batches 0-10 loss=0.0227, epoch mean loss=0.0227]"
     ]
    },
    {
     "name": "stdout",
     "output_type": "stream",
     "text": [
      "Accuracy on train and test set: (0.9625, 1.0)\n"
     ]
    },
    {
     "name": "stderr",
     "output_type": "stream",
     "text": [
      "weights population:  20%|██        | 1600/8000 [00:33<02:02, 52.16it/s, current loss=0.028, batches 0-10 loss=0.0185, epoch mean loss=0.0185] "
     ]
    },
    {
     "name": "stdout",
     "output_type": "stream",
     "text": [
      "Accuracy on train and test set: (0.975, 0.9)\n"
     ]
    },
    {
     "name": "stderr",
     "output_type": "stream",
     "text": [
      "weights population:  30%|███       | 2400/8000 [00:50<01:47, 52.17it/s, current loss=0.00728, batches 0-10 loss=0.0198, epoch mean loss=0.0198]"
     ]
    },
    {
     "name": "stdout",
     "output_type": "stream",
     "text": [
      "Accuracy on train and test set: (0.95, 0.9)\n"
     ]
    },
    {
     "name": "stderr",
     "output_type": "stream",
     "text": [
      "weights population:  40%|████      | 3200/8000 [01:07<01:38, 48.96it/s, current loss=0.0119, batches 0-10 loss=0.0211, epoch mean loss=0.0211] "
     ]
    },
    {
     "name": "stdout",
     "output_type": "stream",
     "text": [
      "Accuracy on train and test set: (0.975, 0.95)\n"
     ]
    },
    {
     "name": "stderr",
     "output_type": "stream",
     "text": [
      "weights population:  50%|█████     | 4000/8000 [01:24<01:15, 53.08it/s, current loss=0.0118, batches 0-10 loss=0.0194, epoch mean loss=0.0194]"
     ]
    },
    {
     "name": "stdout",
     "output_type": "stream",
     "text": [
      "Accuracy on train and test set: (0.975, 1.0)\n"
     ]
    },
    {
     "name": "stderr",
     "output_type": "stream",
     "text": [
      "weights population:  60%|██████    | 4800/8000 [01:42<01:01, 52.33it/s, current loss=0.0198, batches 0-10 loss=0.0201, epoch mean loss=0.0201]"
     ]
    },
    {
     "name": "stdout",
     "output_type": "stream",
     "text": [
      "Accuracy on train and test set: (0.975, 0.9)\n"
     ]
    },
    {
     "name": "stderr",
     "output_type": "stream",
     "text": [
      "weights population:  70%|███████   | 5600/8000 [01:59<00:46, 51.19it/s, current loss=0.0024, batches 0-10 loss=0.0142, epoch mean loss=0.0142] "
     ]
    },
    {
     "name": "stdout",
     "output_type": "stream",
     "text": [
      "Accuracy on train and test set: (0.9875, 0.95)\n"
     ]
    },
    {
     "name": "stderr",
     "output_type": "stream",
     "text": [
      "weights population:  80%|████████  | 6400/8000 [02:17<00:34, 46.68it/s, current loss=0.0299, batches 0-10 loss=0.0224, epoch mean loss=0.0224]"
     ]
    },
    {
     "name": "stdout",
     "output_type": "stream",
     "text": [
      "Accuracy on train and test set: (0.9625, 0.95)\n"
     ]
    },
    {
     "name": "stderr",
     "output_type": "stream",
     "text": [
      "weights population:  90%|█████████ | 7200/8000 [02:37<00:15, 50.12it/s, current loss=0.0233, batches 0-10 loss=0.0143, epoch mean loss=0.0143]"
     ]
    },
    {
     "name": "stdout",
     "output_type": "stream",
     "text": [
      "Accuracy on train and test set: (0.975, 0.9)\n"
     ]
    },
    {
     "name": "stderr",
     "output_type": "stream",
     "text": [
      "weights population: 100%|██████████| 8000/8000 [02:55<00:00, 45.55it/s, current loss=0.0119, batches 0-10 loss=0.0172, epoch mean loss=0.0172]"
     ]
    },
    {
     "name": "stdout",
     "output_type": "stream",
     "text": [
      "Accuracy on train and test set: (0.975, 1.0)\n"
     ]
    },
    {
     "name": "stderr",
     "output_type": "stream",
     "text": [
      "\n"
     ]
    }
   ],
   "source": [
    "weights = get_weights_population(10)"
   ]
  },
  {
   "cell_type": "code",
   "execution_count": 71,
   "metadata": {},
   "outputs": [
    {
     "name": "stderr",
     "output_type": "stream",
     "text": [
      "/tmp/ipykernel_22197/1537947305.py:9: UserWarning: set_ticklabels() should only be used with a fixed number of ticks, i.e. after set_ticks() or using a FixedLocator.\n",
      "  ax.set_xticklabels(ax.get_xticks(), fontsize=FS-2)\n",
      "/tmp/ipykernel_22197/1537947305.py:10: UserWarning: set_ticklabels() should only be used with a fixed number of ticks, i.e. after set_ticks() or using a FixedLocator.\n",
      "  ax.set_yticklabels(ax.get_yticks(), fontsize=FS-2)\n"
     ]
    },
    {
     "data": {
      "image/png": "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",
      "text/plain": [
       "<Figure size 800x600 with 1 Axes>"
      ]
     },
     "metadata": {},
     "output_type": "display_data"
    }
   ],
   "source": [
    "weights_plt = weights.flatten().numpy()\n",
    "np.save(f'models/weights_{now.strftime(\"%Y%m%d-%H%M%S\")}.npy', weights.numpy())\n",
    "FS = 16\n",
    "fig, ax = plt.subplots(1, 1, figsize=(8, 6))\n",
    "ax.hist(weights_plt, bins=40)\n",
    "ax.set_xlabel('Weight', fontsize=FS)\n",
    "ax.set_ylabel('Counts', fontsize=FS)\n",
    "ax.set_title('Weights Distribution', fontsize=FS+2)\n",
    "ax.set_xticklabels(ax.get_xticks(), fontsize=FS-2)\n",
    "ax.set_yticklabels(ax.get_yticks(), fontsize=FS-2)\n",
    "\n",
    "fig.savefig(f'models/weight_distribution_{now.strftime(\"%Y%m%d-%H%M%S\")}.svg')"
   ]
  },
  {
   "cell_type": "code",
   "execution_count": 72,
   "metadata": {},
   "outputs": [
    {
     "name": "stdout",
     "output_type": "stream",
     "text": [
      "min\n",
      "0.005510216305244167\n",
      "max\n",
      "1.701940465427285\n"
     ]
    }
   ],
   "source": [
    "print('min', np.abs(weights.numpy()).min(), 'max', np.abs(weights.numpy()).max(), sep='\\n')"
   ]
  },
  {
   "cell_type": "code",
   "execution_count": null,
   "metadata": {},
   "outputs": [],
   "source": []
  }
 ],
 "metadata": {
  "kernelspec": {
   "display_name": ".ttn_venv",
   "language": "python",
   "name": "python3"
  },
  "language_info": {
   "codemirror_mode": {
    "name": "ipython",
    "version": 3
   },
   "file_extension": ".py",
   "mimetype": "text/x-python",
   "name": "python",
   "nbconvert_exporter": "python",
   "pygments_lexer": "ipython3",
   "version": "3.10.12"
  }
 },
 "nbformat": 4,
 "nbformat_minor": 2
}
