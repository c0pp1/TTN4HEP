{
 "cells": [
  {
   "cell_type": "markdown",
   "metadata": {},
   "source": [
    "# My TTN library\n",
    "In this notebook I try to develop my personal library to handle TTNs, their definition, properties, automatic contraction and training."
   ]
  },
  {
   "cell_type": "code",
   "execution_count": 1,
   "metadata": {},
   "outputs": [],
   "source": [
    "import torch\n",
    "import numpy as np\n",
    "from typing import Sequence, List, Tuple, ValuesView\n",
    "import graphviz\n",
    "graphviz.set_jupyter_format('png')\n",
    "from matplotlib import colormaps, colors\n",
    "import matplotlib.pyplot as plt\n",
    "import colorsys\n",
    "from tqdm import tqdm, trange\n",
    "from string import ascii_letters\n",
    "from timeit import timeit\n",
    "from datetime import datetime\n",
    "from algebra import contract_up, sep_partial_dm, kron\n",
    "from utils import adjust_lightness, get_mnist_data_loaders, accuracy, get_stripeimage_data_loaders, get_iris_data_loaders, get_higgs_data_loaders, train_one_epoch\n",
    "from torchinfo import summary"
   ]
  },
  {
   "cell_type": "markdown",
   "metadata": {},
   "source": [
    "## Automatic contractions\n",
    "Try to develop methods to do automatic contractions, also based on the network structure (separability of states)\n",
    "### Network description"
   ]
  },
  {
   "cell_type": "code",
   "execution_count": 2,
   "metadata": {},
   "outputs": [],
   "source": [
    "from __future__ import annotations\n",
    "from collections import UserString\n",
    "\n",
    "class TIndex:\n",
    "    def __init__(self, name, inds: Sequence[str] | np.ndarray):\n",
    "        self.__name = name\n",
    "        self.__tindices = np.array(inds, dtype=np.str_) # problems with string lenghts\n",
    "        self.__ndims = len(inds)\n",
    "    \n",
    "    def __getitem__(self, key: int) -> str:\n",
    "        return self.__tindices[key]\n",
    "    \n",
    "    def __setitem__(self, key: int, value: str):\n",
    "        old_len = self.__tindices.dtype.itemsize / 4\n",
    "        new_len = max(old_len, len(value))\n",
    "        self.__tindices = self.__tindices.astype(f\"<U{new_len:.0f}\")\n",
    "        self.__tindices[key] = value\n",
    "    \n",
    "    @property\n",
    "    def name(self):\n",
    "        return self.__name \n",
    "\n",
    "    @property\n",
    "    def indices(self):\n",
    "        return self.__tindices\n",
    "    \n",
    "    @property\n",
    "    def ndims(self):\n",
    "        return self.__ndims\n",
    "    \n",
    "    ''' I do not want them to be changed by design   \n",
    "    @indices.setter\n",
    "    def indices(self, value: Sequence[str]):\n",
    "        self.__indices = value\n",
    "    '''\n",
    "    \n",
    "    def __eq__(self, __value: TIndex | str) -> bool:\n",
    "        if isinstance(__value, str):\n",
    "            return self.__name == __value\n",
    "        return self.__name == __value.name and np.all(self.__tindices == __value.indices)\n",
    "    \n",
    "    def __gt__(self, __value: TIndex | str) -> bool:\n",
    "        compare = __value if isinstance(__value, str) else __value.name\n",
    "        try:    compare_layer = int(compare.split('.')[0])\n",
    "        except: compare_layer = np.inf\n",
    "        try:    self_layer = int(self.__name.split('.')[0])\n",
    "        except: self_layer = np.inf\n",
    "\n",
    "        if self_layer > compare_layer:\n",
    "            return True\n",
    "        elif self_layer == compare_layer:\n",
    "            return int(self.__name.split('.')[1]) > int(compare.split('.')[1])\n",
    "        return False\n",
    "    \n",
    "    def __lt__(self, __value: TIndex | str) -> bool:\n",
    "        compare = __value if isinstance(__value, str) else __value.name\n",
    "        try:    compare_layer = int(compare.split('.')[0])\n",
    "        except: compare_layer = np.inf\n",
    "        try:    self_layer = int(self.__name.split('.')[0])\n",
    "        except: self_layer = np.inf\n",
    "\n",
    "        if self_layer < compare_layer:\n",
    "            return True\n",
    "        elif self_layer == compare_layer:\n",
    "            return int(self.__name.split('.')[1]) < int(compare.split('.')[1])\n",
    "        return False\n",
    "    \n",
    "    def __ge__(self, __value: TIndex | str) -> bool:\n",
    "        return self.__gt__(__value) or self.__eq__(__value)\n",
    "    \n",
    "    def __le__(self, __value: TIndex | str) -> bool:\n",
    "        return self.__lt__(__value) or self.__eq__(__value)\n",
    "    \n",
    "    def __hash__(self):\n",
    "        return hash(self.__name)\n",
    "    \n",
    "    def __str__(self) -> str:\n",
    "        return self.__name\n",
    "    \n",
    "    def __repr__(self) -> str:\n",
    "        return 'TIndex: ' + self.__name\n",
    "    \n",
    "    def _repr_markdown_(self):\n",
    "        return f'**{self.__repr__()}**'\n",
    "    \n",
    "    def _repr_html_(self):\n",
    "        markdown_str = f'<details><summary><b style=\"color:#0088d9; font-size:100%; font-family: verdana, sans-serif\">{self.__repr__()} </b></summary>'\n",
    "        for index in self.__tindices:\n",
    "            markdown_str += f'&emsp;&ensp; <b style=\"color:#be00d9\">{index}</b><br>'\n",
    "        return markdown_str + '</details>'\n",
    "    \n",
    "class TTNIndex(TIndex):\n",
    "    def __init__(self, layer: int, layer_index: int):\n",
    "\n",
    "        self.__layer = layer\n",
    "        self.__layer_index = layer_index\n",
    "        super(TTNIndex, self).__init__(f\"{layer}.{layer_index}\",\n",
    "                                       [f\"{layer+1}.{2*layer_index}\", f\"{layer+1}.{2*layer_index+1}\", f\"{layer}.{layer_index}\"], \n",
    "                                       )\n",
    "    \n",
    "    def __repr__(self) -> str:\n",
    "        return f\"TTNIndex: {self.__layer}.{self.__layer_index}\"\n",
    "    \n",
    "# class which represent the link between two tensors in the TTN\n",
    "class TLink:\n",
    "    def __init__(self, source: TIndex, target: TIndex, dim: int, dependencies: List[TIndex] = [], name: str = None):\n",
    "        self.__source = source\n",
    "        self.__target = target\n",
    "        self.__dim = dim\n",
    "        self.__vector = None\n",
    "        self.__has_updated_vector = False\n",
    "        self.__name = name if name is not None else f\"{source.name}\"\n",
    "        self.__dependencies = dependencies\n",
    "\n",
    "    @property\n",
    "    def source(self):\n",
    "        return self.__source\n",
    "    \n",
    "    @property\n",
    "    def target(self):\n",
    "        return self.__target\n",
    "    \n",
    "    @property\n",
    "    def name(self):\n",
    "        return self.__name\n",
    "    \n",
    "    @property\n",
    "    def vector(self):\n",
    "        if self.__has_updated_vector:\n",
    "            return self.__vector\n",
    "        elif self.__vector is not None:\n",
    "            raise ValueError(f\"No vector is set for TLink {self.__name}.\")\n",
    "        else:\n",
    "            raise ValueError(f\"TLink {self.__name} vector is not updated.\")\n",
    "        \n",
    "    @vector.setter\n",
    "    def vector(self, value):\n",
    "        self.__vector = value\n",
    "        self.__has_updated_vector = True\n",
    "\n",
    "    @property\n",
    "    def is_updated(self):\n",
    "        return self.__has_updated_vector\n",
    "    \n",
    "    def depends_on(self, __value: TIndex | str) -> bool:\n",
    "        return __value in self.__dependencies\n",
    "\n",
    "    \n"
   ]
  },
  {
   "cell_type": "code",
   "execution_count": 14,
   "metadata": {},
   "outputs": [],
   "source": [
    "def one_epoch_one_tensor_torch(tensor, data_batched, train_dl, optimizer, loss_fn, device='cuda', pbar=None, disable_pbar=False):\n",
    "    # perform one epoch of optimization of a single tensor\n",
    "    # given the data_tn and the optimizer\n",
    "    tot_data = 0\n",
    "    lossess = []\n",
    "    if pbar is None:\n",
    "        pbar = tqdm(data_batched, total=len(data_batched),position=0, disable=disable_pbar)\n",
    "    with torch.autograd.set_detect_anomaly(True):\n",
    "        for data, batch in zip(data_batched, train_dl):\n",
    "            optimizer.zero_grad()\n",
    "            labels = batch[1].to(device=device)\n",
    "            \n",
    "            outputs = contract_up(tensor, data.unbind(1))\n",
    "            \n",
    "            probs = torch.real(torch.pow(outputs, 2))\n",
    "            probs = probs / torch.sum(probs)\n",
    "            loss = loss_fn(labels, probs, [tensor])\n",
    "\n",
    "            loss.backward()\n",
    "            optimizer.step()\n",
    "            lossess.append(loss.cpu())\n",
    "            tot_data += labels.shape[0]\n",
    "            pbar.update()\n",
    "            pbar.set_postfix_str(f'loss: {loss.item():.3f}')\n",
    "    \n",
    "    pbar.set_postfix({'loss': loss.item(), 'epoch mean loss': np.array([loss.item() for loss in lossess]).mean()})\n",
    "    pbar.close()\n",
    "    return lossess"
   ]
  },
  {
   "cell_type": "markdown",
   "metadata": {},
   "source": [
    "#### Reimplement initialization"
   ]
  },
  {
   "cell_type": "code",
   "execution_count": 4,
   "metadata": {},
   "outputs": [],
   "source": [
    "def sep_partial_dm_torch(\n",
    "    keep_index,\n",
    "    sep_states: torch.utils.data.DataLoader | torch.Tensor, # TODO: support also list of tensors with eventually different shapes\n",
    "    skip_norm=False,\n",
    "    device=\"cpu\",\n",
    "):\n",
    "    if not isinstance(keep_index, torch.Tensor):\n",
    "        keep_index = torch.tensor(keep_index, device=device, dtype=torch.int64)\n",
    "    if isinstance(sep_states, torch.utils.data.DataLoader):\n",
    "        discard_index = torch.ones(\n",
    "            next(iter(sep_states))[0].shape[-2], dtype=torch.bool\n",
    "        )\n",
    "        discard_index[keep_index] = False\n",
    "        rho_list = []\n",
    "        for batch in tqdm(sep_states, desc=\"sep_partial_dm\", position=1):\n",
    "            batch = batch[0].to(device)\n",
    "            if skip_norm:\n",
    "                norm_factor = torch.eye(1, device=device)\n",
    "            else:\n",
    "                norm_factor = torch.prod(\n",
    "                    torch.sum(batch[..., discard_index, :] ** 2, dim=-1), dim=-1\n",
    "                ).squeeze()\n",
    "\n",
    "            rhos = torch.einsum(\n",
    "                \"...i,...j->...ij\",\n",
    "                batch[..., keep_index, :].conj(),\n",
    "                batch[..., keep_index, :],\n",
    "            )\n",
    "            rho = torch.eye(1, device=device, dtype=torch.complex128)\n",
    "\n",
    "            for i in (\n",
    "                keep_index - keep_index.min()\n",
    "            ):  # strange way to index but in this way we can get the partial density matrix also for different permutations of the sites\n",
    "                rho = kron(rho, rhos[..., i, :, :], batchs=batch.shape[0])\n",
    "\n",
    "            rho_list.append(\n",
    "                rho * norm_factor.view([-1] + [1] * (rho.ndim - norm_factor.ndim))\n",
    "            )\n",
    "        return torch.concat(rho_list, dim=0)\n",
    "    \n",
    "    elif isinstance(sep_states, torch.Tensor):\n",
    "        # sep_states is a tensor of separable states with shape B x N x d \n",
    "        # (B is optional batch dimension, N is number of sites, d is local dimension)\n",
    "        batch = sep_states.to(device)\n",
    "        if skip_norm:\n",
    "            norm_factor = torch.eye(1, device=device, dtype=sep_states.dtype)\n",
    "        else:\n",
    "            discard_index = torch.ones(sep_states.shape[-2], dtype=torch.bool)\n",
    "            discard_index[keep_index] = False\n",
    "            norm_factor = torch.prod(\n",
    "                torch.sum(batch[..., discard_index, :] ** 2, dim=-1), dim=-1\n",
    "            ).squeeze()\n",
    "\n",
    "        # get rhos of single sites\n",
    "        rhos = torch.einsum(\n",
    "            \"...i,...j->...ij\",\n",
    "            batch[..., keep_index, :].conj(),\n",
    "            batch[..., keep_index, :],\n",
    "        )\n",
    "        rho = torch.eye(1, device=device)\n",
    "\n",
    "        # tensor product of rhos of single sites if they are selected\n",
    "        for i in keep_index - keep_index.min():\n",
    "            rho = kron(rho, rhos[..., i, :, :], batchs=batch.shape[0])\n",
    "\n",
    "        return rho * norm_factor.view([-1] + [1] * (rho.ndim - norm_factor.ndim))\n",
    "    \n",
    "    else:\n",
    "        raise TypeError(\n",
    "            f\"sep_states must be one of torch.utils.data.DataLoader, torch.Tensor or quimb.tensor.TensorNetwork, got: {type(sep_states)}\"\n",
    "        )\n"
   ]
  },
  {
   "cell_type": "markdown",
   "metadata": {},
   "source": [
    "#### TTN class"
   ]
  },
  {
   "cell_type": "code",
   "execution_count": 5,
   "metadata": {},
   "outputs": [],
   "source": [
    "class TTN:\n",
    "    def __init__(\n",
    "        self,\n",
    "        n_features,\n",
    "        n_phys=2,\n",
    "        n_labels=2,\n",
    "        label_tag=\"label\",\n",
    "        bond_dim=4,\n",
    "        dtype=torch.cdouble,\n",
    "        device=\"cpu\",\n",
    "    ):\n",
    "        if (n_features % 2) != 0:\n",
    "            raise ValueError(f\"n_features must be  power of 2, got: {n_features}\")\n",
    "\n",
    "        self.n_features = n_features\n",
    "        self.n_phys     = n_phys\n",
    "        self.n_labels   = n_labels\n",
    "        self.label_tag  = label_tag\n",
    "        self.bond_dim   = bond_dim\n",
    "        self.device     = device\n",
    "\n",
    "        self.__dtype    = dtype\n",
    "        self.__n_layers = int(np.log2(n_features))\n",
    "        self.__tensors  = []\n",
    "        self.__indices  = [TTNIndex(l, i) for l in range(self.__n_layers) for i in range(2**l)]\n",
    "        # label top edge as label\n",
    "        self.__indices[0][2] = label_tag\n",
    "        # label bottom edges as data\n",
    "        for ttnindex in self.__indices[-2**(self.__n_layers-1):]:\n",
    "            ttnindex[0] = f'data.{ttnindex[0].split(\".\")[1]}'\n",
    "            ttnindex[1] = f'data.{ttnindex[1].split(\".\")[1]}'\n",
    "        # convert to numpy array for easier indexing\n",
    "        self.__indices = np.asarray(self.__indices)\n",
    "\n",
    "        self.__initialized = False\n",
    "\n",
    "        ## INITIALIZE TENSORS ##\n",
    "        # add first tensor with special index\n",
    "        if not (self.__n_layers - 1):\n",
    "            self.__tensors.append(\n",
    "                torch.rand(\n",
    "                    size=(self.n_phys, self.n_phys, self.n_labels),\n",
    "                    dtype=self.__dtype,\n",
    "                    device=self.device\n",
    "                )\n",
    "            )\n",
    "        else:\n",
    "            dim = min(self.n_phys**2**(self.__n_layers-1), self.bond_dim)\n",
    "            self.__tensors.append(\n",
    "                torch.rand(\n",
    "                    size=(dim, dim, self.n_labels),\n",
    "                    dtype=self.__dtype,\n",
    "                    device=self.device\n",
    "                )\n",
    "            )\n",
    "\n",
    "        for l in range(1, self.__n_layers - 1):  # constructing the ttn starting from the top\n",
    "            dim_pre = min(self.n_phys**2**(self.__n_layers - l - 1), self.bond_dim)\n",
    "            dim_post = min(self.n_phys **2** (self.__n_layers - l ), self.bond_dim)\n",
    "            self.__tensors.extend(\n",
    "                [\n",
    "                    torch.rand(\n",
    "                        size=[dim_pre] * 2 + [dim_post],\n",
    "                        dtype=self.__dtype,\n",
    "                        device=self.device\n",
    "                    )\n",
    "                    if np.random.rand() < 0.5\n",
    "                    else torch.eye(\n",
    "                        dim_pre**2, \n",
    "                        dtype=self.__dtype,\n",
    "                        device=self.device)\n",
    "                        .reshape(dim_pre, dim_pre, -1)[:, :, :dim_post]\n",
    "                    for i in range(2**l)\n",
    "                ]\n",
    "            )\n",
    "\n",
    "        dim = min(self.n_phys**2, self.bond_dim)\n",
    "        self.__tensors.extend(\n",
    "            [\n",
    "                torch.rand(\n",
    "                    size=[self.n_phys] * 2 + [dim],\n",
    "                    dtype=self.__dtype,\n",
    "                    device=self.device\n",
    "                )\n",
    "                for i in range(2 ** (self.__n_layers - 1))\n",
    "            ]\n",
    "        )\n",
    "        ########################\n",
    "        self.__tensor_map = dict(zip(self.__indices, self.__tensors))\n",
    "    \n",
    "    def __getitem__(self, key: Sequence[TTNIndex | str] | str | int | slice) -> dict[TTNIndex, torch.Tensor]:\n",
    "\n",
    "        if isinstance(key, int):\n",
    "            return {self.__indices[key]: self.__tensor_map[self.__indices[key]]}\n",
    "        elif isinstance(key, str):\n",
    "            return {self.__indices[self.__indices==key].item(): self.__tensor_map[key]}\n",
    "        elif isinstance(key, Sequence):\n",
    "            return {k if isinstance(k, TTNIndex) else self.__indices[self.__indices==k].item(): self.__tensor_map[k] for k in key}\n",
    "        elif isinstance(key, slice):\n",
    "            return {k: self.__tensor_map[k] for k in self.__indices[key]}\n",
    "        else:\n",
    "            raise TypeError(f\"Invalid argument type: {type(key)}\")\n",
    "        \n",
    "    @property\n",
    "    def indices(self):\n",
    "        return self.__indices\n",
    "    \n",
    "    @property\n",
    "    def tensors(self):\n",
    "        return self.__tensors\n",
    "    \n",
    "    @tensors.setter\n",
    "    def tensors(self, value: Sequence[torch.Tensor] | torch.nn.ParameterList):\n",
    "        self.__tensor_map = dict(zip(self.__indices, value))    # had to put this line before because the setter stops the execution of the rest of the function\n",
    "        self.__tensors = value\n",
    "\n",
    "    @property\n",
    "    def dtype(self):\n",
    "        return self.__dtype\n",
    "    \n",
    "    @property\n",
    "    def n_layers(self):\n",
    "        return self.__n_layers\n",
    "    \n",
    "    @property\n",
    "    def initialized(self):\n",
    "        return self.__initialized\n",
    "        \n",
    "    def __repr__(self) -> str:\n",
    "        return f\"TTN\"\n",
    "    \n",
    "    def _repr_html_(self):\n",
    "        markdown_str = f'<details><summary><b style=\"color:#d95100; font-size:100%; font-family: verdana, sans-serif\">{self.__repr__()} </b></summary>'\n",
    "        for tindex in self.__indices:\n",
    "            markdown_str += f'{tindex._repr_html_()}'\n",
    "        return markdown_str + '</details>'\n",
    "    \n",
    "    def get_branch(self, tindex: TTNIndex | str, till: str='data') -> dict[TTNIndex, torch.Tensor]:\n",
    "        \"\"\"\n",
    "        Returns a dictionary of tensors and indices of the branch starting at tindex, going down to the bottom of the TTN.\n",
    "        \"\"\"\n",
    "        if isinstance(tindex, str):\n",
    "            tindex = self.__indices[self.__indices==tindex].item()\n",
    "        branch_indices = [tindex]\n",
    "        branch_layer   = [tindex]\n",
    "        while till not in branch_layer[0][0]:\n",
    "            branch_layer = [self.__indices[self.__indices==tindex[i]].item() for tindex in branch_layer for i in range(tindex.ndims-1)] \n",
    "            branch_indices.extend(branch_layer) \n",
    "\n",
    "        return self.__getitem__(branch_indices)\n",
    "    \n",
    "    def get_layer(self, layer: int) -> dict[TTNIndex, torch.Tensor]:\n",
    "        \"\"\"\n",
    "        Returns a dictionary of tensors and indices of the layer layer.\n",
    "        \"\"\"\n",
    "        return {tindex: self.__tensor_map[tindex] for tindex in self.__indices if int(tindex.name.split('.')[0]) == layer}\n",
    "    \n",
    "    \n",
    "    def _propagate_data_through_branch_(self, data: dict[TIndex, torch.Tensor], branch: dict[TTNIndex, torch.Tensor], keep=False, pbar=None) -> dict[TIndex, torch.Tensor] :\n",
    "        \"\"\"\n",
    "        Propagates data through a branch of the TTN.\n",
    "        \"\"\"\n",
    "\n",
    "        sorted_branch_keys = sorted(branch.keys(), reverse=True)\n",
    "        last_idx = sorted_branch_keys[-1]\n",
    "        branch_data = data | branch\n",
    "        for tindex in sorted_branch_keys:\n",
    "            if pbar is not None:\n",
    "                pbar.set_postfix_str(f\"contracting {tindex.name}\")\n",
    "            branch_data[tindex] = contract_up(branch_data[tindex].contiguous(), [branch_data[tindex[0]], branch_data[tindex[1]]])\n",
    "            if pbar is not None:\n",
    "                pbar.update(1)\n",
    "                pbar.set_postfix_str(f\"contracted {tindex.name}\")\n",
    "                \n",
    "\n",
    "        if not keep:\n",
    "            result = branch_data[last_idx].clone()\n",
    "            del branch_data\n",
    "\n",
    "        return {key: branch_data[key] for key in sorted_branch_keys} if keep else {TIndex(last_idx.name, last_idx[2]): result}\n",
    "\n",
    "    \n",
    "    def draw(self, name='TTN', cmap='viridis', fontsize=11):\n",
    "        cmap = colormaps.get_cmap(cmap)\n",
    "        categories = np.linspace(0.2, 1, self.__n_layers)\n",
    "        dot = graphviz.Digraph(name, comment='TTN: ' + name, format='svg', engine='dot', renderer='cairo', graph_attr={'bgcolour': 'transparent', 'rankdir': 'LR', 'splines':'false', 'size':'16,14', 'ratio':'compress', 'fontname':'Arial'})\n",
    "        dot.attr('node', shape='circle', width='0.35', fixedsize='true', fontsize=str(fontsize))\n",
    "        dot.attr('edge', color='#bfbfbf', fontsize=str(fontsize-2))\n",
    "        dot.edge('0.0', 'hide', label=self.label_tag)\n",
    "        dot.node('hide', '', shape='plaintext')\n",
    "        for tindex in self.__indices:\n",
    "            c_rgba = list(cmap(categories[int(tindex.name.split('.')[0])]))\n",
    "\n",
    "            dot.node(tindex.name, tindex.name, fillcolor=colors.rgb2hex(c_rgba), style='filled', color=colors.rgb2hex(adjust_lightness(c_rgba, amount=0.8)), penwidth='4')\n",
    "            \n",
    "            dot.edge(tindex[0], tindex.name, label=tindex[0]+f' [{self.__tensor_map[tindex].shape[0]}]', weight=str((int(tindex.name.split('.')[0])+1)**2))\n",
    "            dot.edge(tindex[1], tindex.name, label=tindex[1]+f' [{self.__tensor_map[tindex].shape[1]}]', weight=str((int(tindex.name.split('.')[0])+1)**2))\n",
    "        \n",
    "        for i in range(2**self.__n_layers):\n",
    "            dot.node(f'data.{i}', '', shape='plaintext', width='0.1', height='0.1')\n",
    "        return dot\n",
    "    \n",
    "    def initialize(self, train_dl: torch.utils.data.DataLoader, loss_fn, epochs = 5, disable_pbar=False):\n",
    "        # now we want to run across the ttn, layer by layer\n",
    "        # and initialize the tensors by getting the partial dm\n",
    "        # of two sites of the previous layer, diagonalizing it,\n",
    "        # and isometrizing the rotation matrix (with n eigenvectors\n",
    "        # corresponding to the n=bond_dim greatest eigenvalues)\n",
    "        \n",
    "        data = [data_batch.squeeze().to(self.device, dtype=self.__dtype) for data_batch, _ in train_dl]\n",
    "        data_indices = [TIndex(f'data.{i}', [f'data.{i}']) for i in range(data[0].shape[1])]\n",
    "        \n",
    "        pbar = tqdm(\n",
    "            total=(self.n_layers - 1) * len(train_dl)\n",
    "                  + 2 * (2 ** (self.n_layers - 1) - 1),\n",
    "            desc=\"ttn unsupervised init\",\n",
    "            position=0,\n",
    "            leave=True,\n",
    "            disable=disable_pbar,\n",
    "        )\n",
    "        for layer in range(self.n_layers - 1, 0, -1):  # do this for all layers except the uppermost one\n",
    "            pbar.set_postfix_str(f\"doing layer {layer}\")\n",
    "            next_layer_list = []\n",
    "            ttn_curr_layer = self.get_layer(layer)\n",
    "            # perform initialization of current layer with partial dm\n",
    "            # of state at previous layer\n",
    "            for tindex, tensor in ttn_curr_layer.items():\n",
    "                pbar.set_postfix_str(f\"doing layer {layer}, tensor {tindex.name.split('.')[1]}/{2**layer}\")\n",
    "                sel_sites = [int(index.split(\".\")[-1]) for index in tindex.indices[:2]]\n",
    "                partial_dm = 0\n",
    "                \n",
    "                for data_batch in data:\n",
    "                    partial_dm += sep_partial_dm_torch(sel_sites, data_batch, skip_norm=True, device=self.device).sum(dim=0)\n",
    "                partial_dm /= np.prod([data_batch.shape[0] for data_batch in data], dtype=np.float64)\n",
    "                # now we have to diagonalize the partial dm\n",
    "                eigvecs = torch.linalg.eigh(partial_dm)[1].to(dtype=self.__dtype)\n",
    "                del partial_dm\n",
    "                # the eigenvectors matrix should be isometrized, but let's check it first\n",
    "                if not torch.allclose(torch.eye(eigvecs.shape[0], device=self.device), torch.matmul(eigvecs , eigvecs.T.conj()).float()):\n",
    "                    raise ValueError(f\"eigenvectors matrix is not isometrized for tensor {tindex.name}\")\n",
    "\n",
    "                # now we have to select the n eigenvectors corresponding to the n greatest eigenvalues\n",
    "                # and reshape, as the physical indices of the two sites are fused in the first index\n",
    "                self.__tensor_map[tindex] = eigvecs[:, -tensor.shape[-1]:].reshape(tensor.shape)\n",
    "                del eigvecs\n",
    "                pbar.update(1)\n",
    "\n",
    "            # calculate next propagation of data to this layer\n",
    "            # with the updated tensors\n",
    "            pbar.set_postfix_str(f\"doing layer {layer}, propagating data\")\n",
    "            for data_batch in data:\n",
    "                new_data_layer = self._propagate_data_through_branch_(dict(zip(data_indices, data_batch.unbind(1))), ttn_curr_layer, keep=True).values()\n",
    "                next_layer_list.append(torch.stack(list(new_data_layer), 1))\n",
    "\n",
    "                pbar.update(1)\n",
    "            del data\n",
    "            data = next_layer_list\n",
    "            data_indices = [TIndex(tindex.name, tindex.indices[-1:]) for tindex in ttn_curr_layer.keys()]\n",
    "        pbar.set_postfix_str(f'done unsupervised init!')\n",
    "        pbar.close()\n",
    "        \n",
    "        # now we want to initialize the top tensor\n",
    "        pbar = tqdm(data, total=len(data), desc='ttn supervised init',position=0, disable=disable_pbar)\n",
    "        top_tensor = self.__tensor_map['0.0']\n",
    "        top_parameter = torch.nn.Parameter(top_tensor, requires_grad=True)\n",
    "        for epoch in range(epochs):\n",
    "            pbar.set_postfix_str(f\"doing epoch {epoch+1}/{epochs}\")\n",
    "            one_epoch_one_tensor_torch(top_parameter, data, train_dl, torch.optim.Adam([top_parameter]), loss_fn, device=self.device, disable_pbar=disable_pbar)\n",
    "        self.__tensor_map['0.0'] = top_parameter.detach()\n",
    "        \n",
    "        self.__tensors = [self.__tensor_map[idx] for idx in self.__indices] # ? this is a bit of a hack, but it works\n",
    "        self.__initialized = True"
   ]
  },
  {
   "cell_type": "code",
   "execution_count": 6,
   "metadata": {},
   "outputs": [],
   "source": [
    "def check_correct_init(model: TTN):\n",
    "    # gives true if correctly initialized and also the number of errors\n",
    "    result_list = []\n",
    "    for layer in range(model.n_layers-1,0,-1):\n",
    "        layer_tensors = model.get_layer(layer)\n",
    "        for tidx, tensor in enumerate(layer_tensors.values()):\n",
    "            matrix = tensor.reshape(-1, tensor.shape[-1])\n",
    "            contr = torch.matmul(matrix.T.conj(), matrix)\n",
    "            result = torch.allclose(contr.data, torch.eye(contr.shape[-1], dtype=model.dtype, device='cuda'))\n",
    "            if not result:\n",
    "                print(f'Layer {layer}, tensor {tidx} is not initialized correctly')\n",
    "            result_list.append(not result)\n",
    "    \n",
    "    n_errors = torch.tensor(result_list, dtype=torch.bool).sum().item()\n",
    "    return n_errors == 0, n_errors"
   ]
  },
  {
   "cell_type": "code",
   "execution_count": 7,
   "metadata": {},
   "outputs": [
    {
     "data": {
      "image/png": "[encoded data removed]",
      "text/plain": [
       "<graphviz.graphs.Digraph at 0x7f55acfee5d0>"
      ]
     },
     "execution_count": 7,
     "metadata": {},
     "output_type": "execute_result"
    }
   ],
   "source": [
    "DEVICE = 'cuda'\n",
    "DTYPE = torch.double\n",
    "N_FEAT = 4\n",
    "ttn = TTN(N_FEAT, bond_dim=8, n_labels=2, device=DEVICE, dtype=DTYPE)\n",
    "ttn.draw()"
   ]
  },
  {
   "cell_type": "markdown",
   "metadata": {},
   "source": [
    "### Basic operations\n",
    "General purpose contraction, not optimized"
   ]
  },
  {
   "cell_type": "code",
   "execution_count": 8,
   "metadata": {},
   "outputs": [],
   "source": [
    "def contract(\n",
    "        tensors : Sequence[torch.Tensor] | ValuesView[torch.Tensor], \n",
    "        tindices: Sequence[TTNIndex | TIndex], \n",
    "        keep    : Sequence[str] | None=None, \n",
    "        outname : str | None=None\n",
    "):\n",
    "    \"\"\"\n",
    "    Contract two tensors along the matching TIndices in indices, except for the indices in keep.\n",
    "    \"\"\"\n",
    "    if len(tindices) != len(tensors):\n",
    "        raise ValueError(f\"Expected tensors and tindices to have same lenght, got {len(tensors)} and {len(tindices)}\")\n",
    "\n",
    "    if keep is None:\n",
    "        keep = []\n",
    "    elif isinstance(keep, str):\n",
    "        keep = [keep]\n",
    "    elif not isinstance(keep, Sequence):\n",
    "        raise TypeError(f\"Expected keep to be None, str or Sequence, got {type(keep)}\")\n",
    "\n",
    "    keep = list(keep)\n",
    "    unique_inds, counts = np.unique(np.concatenate([tindex.indices for tindex in tindices]), return_counts=True)\n",
    "    if np.any(np.isin(keep, unique_inds, invert=True)):\n",
    "        raise ValueError(f\"keep contains indices that are not in tindices: {np.asarray(keep)[np.where(np.isin(keep, unique_inds, invert=True))[0]]}\")\n",
    "    if len(unique_inds) > len(ascii_letters):\n",
    "        raise ValueError(f\"Too many indices to contract: {len(unique_inds)} > {len(ascii_letters)}\")\n",
    "\n",
    "    # find output indices (all indices that are not contracted or kept)\n",
    "    output_inds = unique_inds[np.isin(unique_inds, keep) | (counts == 1)]\n",
    "    \n",
    "    # map indices to letters\n",
    "    idx_to_char_map = {tind: ascii_letters[i] for i, tind in enumerate(unique_inds)}\n",
    "    \n",
    "    # contraction strings\n",
    "    ## tensor indices\n",
    "    tindices_str = [\"...\"+\"\".join([idx_to_char_map[i] for i in tindex.indices]) for tindex in tindices] # the ellipsis is for batch dimension\n",
    "    ## output indices\n",
    "    outinds_str = \"...\"+\"\".join([idx_to_char_map[i] for i in output_inds])\n",
    "\n",
    "    #print(tindices_str,'\\n' ,outinds_str)\n",
    "    # contract\n",
    "    C = torch.einsum(f\"{','.join(tindices_str)}->{outinds_str}\", *tensors)\n",
    "\n",
    "    return C, TIndex(f\"{min(tindices)}\" if outname is None else outname, output_inds)\n",
    "\n",
    "    "
   ]
  },
  {
   "cell_type": "markdown",
   "metadata": {},
   "source": [
    "Let's exploit the TTN topology to optimize contractions, i.e. make them go from bottom to top"
   ]
  },
  {
   "cell_type": "code",
   "execution_count": 9,
   "metadata": {},
   "outputs": [],
   "source": [
    "def contract_up(tensor: torch.Tensor, data_tensors: Sequence[torch.Tensor]):\n",
    "    # this function is the fundamental block for TTN contractions:\n",
    "    # it takes a ttn tensor and two data vectors and contracts them to a new vector\n",
    "    \n",
    "    left = torch.matmul(data_tensors[0], tensor.view(tensor.shape[0], -1))              # left contraction with data (b x p) @ (p x d) -> (b x d) where d is m*n\n",
    "    right = torch.bmm(data_tensors[1].unsqueeze(1), left.view(-1, *tensor.shape[1:]))   # right contraction with data (b x 1 x m) @ (b x m x n) -> (b x n) \n",
    "\n",
    "    return right.view(-1, tensor.shape[2])\n",
    "\n",
    "def contract_up_einsum(tensor: torch.Tensor, data_tensors: Sequence[torch.Tensor]):\n",
    "    # this function is the fundamental block for TTN contractions:\n",
    "    # it takes a ttn tensor and two data vectors and contracts them to a new vector\n",
    "\n",
    "    return torch.einsum('bi,ijk,bj->bk', data_tensors[0], tensor, data_tensors[1])"
   ]
  },
  {
   "cell_type": "markdown",
   "metadata": {},
   "source": [
    "### Tests"
   ]
  },
  {
   "cell_type": "code",
   "execution_count": 10,
   "metadata": {},
   "outputs": [
    {
     "data": {
      "text/plain": [
       "(0.5945519819999845, 3.796682803000067, 2.1301921270001003)"
      ]
     },
     "execution_count": 10,
     "metadata": {},
     "output_type": "execute_result"
    }
   ],
   "source": [
    "data = torch.rand(N_FEAT, 10, 2, dtype=DTYPE, device=DEVICE).unbind(0)\n",
    "data_indices = [TIndex(f\"{ttn.n_layers}.{i}\", [f\"data.{i}\"]) for i in range(N_FEAT)]\n",
    "\n",
    "time1 = timeit(lambda: contract_up(ttn.tensors[-1], data[:2]), number=10000)\n",
    "time2 = timeit(lambda: contract((ttn.tensors[-1],) + data[:2], [ttn.indices[-1]]+data_indices[:2]), number=10000)\n",
    "time3 = timeit(lambda: contract_up_einsum(ttn.tensors[-1], data[:2]), number=10000)\n",
    "time1, time2, time3"
   ]
  },
  {
   "cell_type": "code",
   "execution_count": 11,
   "metadata": {},
   "outputs": [
    {
     "name": "stdout",
     "output_type": "stream",
     "text": [
      "0.01178560599987577 0.009249413000134155 0.017834674000141604\n"
     ]
    }
   ],
   "source": [
    "data = torch.rand(N_FEAT, 64, 2, dtype=DTYPE, device=DEVICE).unbind(0)\n",
    "data_indices = [TIndex(f\"data.{i}\", [f\"data.{i}\"]) for i in range(N_FEAT)]\n",
    "i=1\n",
    "time1 = timeit(lambda: ttn._propagate_data_through_branch_(dict(zip(data_indices, data)), ttn.get_branch('1.0')), number=100)\n",
    "time2 = timeit(lambda: ttn._propagate_data_through_branch_(dict(zip(data_indices, data)), ttn.get_branch('1.0'), keep=True), number=100)\n",
    "time3 = timeit(lambda: contract(list(ttn.get_branch(f'1.{i}').values()) + list(data[16*i:16*(i+1)]), list(ttn.get_branch(f'1.{i}').keys())+data_indices[16*i:16*(i+1)]), number=100)\n",
    "print(time1, time2, time3)"
   ]
  },
  {
   "cell_type": "markdown",
   "metadata": {},
   "source": [
    "TEST the contraction scheme by a synthetic dataset and the TTN initialized to identities"
   ]
  },
  {
   "cell_type": "code",
   "execution_count": 12,
   "metadata": {},
   "outputs": [
    {
     "name": "stderr",
     "output_type": "stream",
     "text": [
      "ttn test: 100%|██████████| 3/3 [00:00<00:00, 627.42it/s, contracted 0.0] \n"
     ]
    },
    {
     "data": {
      "text/plain": [
       "tensor([1., 0.], dtype=torch.float64)"
      ]
     },
     "execution_count": 12,
     "metadata": {},
     "output_type": "execute_result"
    }
   ],
   "source": [
    "def generate_i_state(n_sites, i, dtype=torch.double):\n",
    "    \"\"\"\n",
    "    Generates a separable state wich would be represented \n",
    "    as a vector with 1 at i-th position in the full form.\n",
    "    \"\"\"\n",
    "    sites = []\n",
    "    bin_str = f'{i:b}'\n",
    "    bin_str = '0'*(n_sites-len(bin_str)) + bin_str\n",
    "    for char in bin_str:\n",
    "        if char == '0':\n",
    "            sites.append(torch.as_tensor([1.0, 0.0], dtype=dtype))\n",
    "        else:\n",
    "            sites.append(torch.as_tensor([0.0, 1.0], dtype=dtype))\n",
    " \n",
    "    state = torch.stack(sites)\n",
    "\n",
    "    return state\n",
    "\n",
    "\n",
    "# create general purpose identity tensor\n",
    "# this is a 3d tensor with 1 on the diagonal\n",
    "ID = torch.zeros([4, 4, 4], dtype=DTYPE)\n",
    "for i in range(ID.shape[0]):\n",
    "    ID[i, i, i] = 1.0\n",
    "# create data\n",
    "# you can choose from different states\n",
    "I = 0 # position of 1 in the resulting state (starting from 0)\n",
    "test_states = {'up': [1, 0], 'down': [0, 1], 'plus': [1/(2**0.5), 1/(2**0.5)], 'minus': [1/(2**0.5), -1/(2**0.5)], 'i': generate_i_state(N_FEAT, I)}\n",
    "data = torch.expand_copy(torch.as_tensor(test_states['i'], dtype=DTYPE), [64, N_FEAT, 2])\n",
    "\n",
    "# transform to data dictionary to pass to _propagate_data_through_branch_\n",
    "data_dict = {TIndex(f\"data.{i}\", [f\"data.{i}\"]): datum for i, datum in enumerate(data.unbind(1))}\n",
    "# set TTN tensors to identity\n",
    "ttn.tensors = [torch.eye(tensor.shape[0]**2, dtype=DTYPE).reshape(*tensor.shape[:2], -1)[:,:,:tensor.shape[-1]] for tensor in ttn.tensors] #[ID[:tensor.shape[0], :tensor.shape[1], :tensor.shape[2]] for tensor in ttn.tensors]\n",
    "# contract\n",
    "pbar = tqdm(total=len(ttn.tensors), desc='ttn test', position=0)\n",
    "result = ttn._propagate_data_through_branch_(data_dict, ttn.get_branch('0.0'), keep=True, pbar=pbar)['0.0']\n",
    "pbar.close()\n",
    "result[0]"
   ]
  },
  {
   "cell_type": "markdown",
   "metadata": {},
   "source": [
    "## Torch Model"
   ]
  },
  {
   "cell_type": "code",
   "execution_count": 9,
   "metadata": {},
   "outputs": [],
   "source": [
    "\n",
    "class TTNModel(torch.nn.Module, TTN):\n",
    "    def __init__(\n",
    "            self,\n",
    "            n_features,\n",
    "            n_phys=2,\n",
    "            n_labels=2,\n",
    "            label_tag=\"label\",\n",
    "            bond_dim=8,\n",
    "            dtype=torch.cdouble,\n",
    "            device=\"cpu\"\n",
    "    ):\n",
    "        torch.nn.Module.__init__(self)\n",
    "        TTN.__init__(self, n_features, n_phys, n_labels, label_tag, bond_dim, dtype, device)\n",
    "\n",
    "    def initialize(self, dm_init=False, train_dl: torch.utils.data.Dataloader = None, loss_fn = None, epochs=5, disable_pbar=False):\n",
    "        if dm_init:\n",
    "            if (train_dl is None) or (loss_fn is None):\n",
    "                raise ValueError(f\"The unsupervised and supervised initialization were invoked but the dataloader was: {train_dl}\\n and the loss function was: {loss_fn}\")\n",
    "            else:\n",
    "                TTN.initialize(self, train_dl, loss_fn, epochs, disable_pbar=disable_pbar)\n",
    "        \n",
    "        super(TTNModel, type(self)).tensors.fset(self, torch.nn.ParameterList([torch.nn.Parameter(t, requires_grad=True) for t in self.tensors]))\n",
    "        self.model_init = True\n",
    "\n",
    "    def draw(self):\n",
    "        return TTN.draw(self)\n",
    "\n",
    "    def forward_old(self, x: torch.Tensor):\n",
    "        if not self.initialized:\n",
    "            raise RuntimeError(\"TTNModel not initialized\")\n",
    "        data = x.unbind(0)\n",
    "        data_indices = tuple([TIndex(f\"{self.n_layers}.{i}\", [f\"data.{i}\"]) for i in range(len(data))])\n",
    "    \n",
    "        # propagate data (max 4 layers at once)\n",
    "        skip = 2\n",
    "        for i in range(self.n_layers, 0, -skip):\n",
    "            layer = i-skip if i > skip else 0\n",
    "            print('propagating', layer, i)\n",
    "            propagated = [contract(tuple(self.get_branch(f'{layer}.{j}', till=f'{i if i!=self.n_layers else \"data\"}').values()) + data[2**(i-1)*j:2*(i-1)*(j+1)], \n",
    "                                   tuple(self.get_branch(f'{layer}.{j}', till=f'{i if i!=self.n_layers else \"data\"}').keys()) + data_indices[2**(i-1)*j:2*(i-1)*(j+1)]) for j in range(2**layer)]\n",
    "            data, data_indices = zip(*propagated)\n",
    "            print('done', i, type(data), type(data_indices))\n",
    "\n",
    "        return data[0]\n",
    "    \n",
    "    def forward(self, x: torch.Tensor):\n",
    "        if not self.model_init:\n",
    "            raise RuntimeError(\"TTNModel not initialized\")\n",
    "        data_dict = {TIndex(f\"data.{i}\", [f\"data.{i}\"]): datum for i, datum in enumerate(x.unbind(1))}\n",
    "\n",
    "        return self._propagate_data_through_branch_(data_dict, self.get_branch('0.0'), keep=True)['0.0']\n"
   ]
  },
  {
   "cell_type": "markdown",
   "metadata": {},
   "source": [
    "# Test the model"
   ]
  },
  {
   "cell_type": "code",
   "execution_count": 10,
   "metadata": {},
   "outputs": [],
   "source": [
    "h = 2\n",
    "features = h**2\n",
    "BATCH_SIZE = 128\n",
    "DATASET = 'higgs'\n",
    "\n",
    "if DATASET == 'mnist':\n",
    "    train_dl, test_dl, train_visual = get_mnist_data_loaders(h, batch_size=BATCH_SIZE)\n",
    "elif DATASET == 'stripe':\n",
    "    train_dl, test_dl, features = get_stripeimage_data_loaders(4, h, batch_size=BATCH_SIZE)\n",
    "elif DATASET == 'iris':\n",
    "    # worst performance with iris-versicolor and iris-virginica\n",
    "    train_dl, test_dl, features = get_iris_data_loaders(batch_size=BATCH_SIZE, sel_labels=['Iris-virginica', 'Iris-versicolor', 'Iris-setosa'])\n",
    "elif DATASET == 'higgs':\n",
    "    train_dl, test_dl, features = get_higgs_data_loaders(batch_size=BATCH_SIZE)"
   ]
  },
  {
   "cell_type": "code",
   "execution_count": 37,
   "metadata": {},
   "outputs": [],
   "source": [
    "def loss(labels, output, weights, l=0.1):\n",
    "    if l > 0.:\n",
    "        norm = 0\n",
    "        for tensor in weights:\n",
    "            norm += torch.norm(tensor)\n",
    "        norm /= len(weights)\n",
    "        return torch.mean((output.squeeze() - labels)**2)/2 + l*(norm-1.)**2\n",
    "    else:\n",
    "        return torch.mean((output.squeeze() - labels)**2)/2"
   ]
  },
  {
   "cell_type": "code",
   "execution_count": 40,
   "metadata": {},
   "outputs": [
    {
     "data": {
      "image/png": "[encoded data removed]",
      "text/plain": [
       "<graphviz.graphs.Digraph at 0x7f55500d1ed0>"
      ]
     },
     "execution_count": 40,
     "metadata": {},
     "output_type": "execute_result"
    }
   ],
   "source": [
    "DEVICE = 'cuda'\n",
    "BOND_DIM = 10\n",
    "DTYPE = torch.double\n",
    "N_LABELS = 1\n",
    "\n",
    "model = TTNModel(features, bond_dim=BOND_DIM, n_labels=N_LABELS, device=DEVICE, dtype=DTYPE)\n",
    "model.draw()"
   ]
  },
  {
   "cell_type": "code",
   "execution_count": 41,
   "metadata": {},
   "outputs": [
    {
     "name": "stderr",
     "output_type": "stream",
     "text": [
      "ttn unsupervised init: 100%|██████████| 164/164 [00:00<00:00, 662.11it/s, done unsupervised init!]       \n",
      "100%|██████████| 79/79 [00:02<00:00, 29.60it/s, loss=1.79, epoch mean loss=2.03]\n",
      "100%|██████████| 79/79 [00:02<00:00, 31.63it/s, loss=1.4, epoch mean loss=1.55]\n",
      "100%|██████████| 79/79 [00:02<00:00, 28.39it/s, loss=1.04, epoch mean loss=1.16]\n",
      "ttn supervised init:   0%|          | 0/79 [00:07<?, ?it/s, doing epoch 3/3]\n"
     ]
    }
   ],
   "source": [
    "INIT_EPOCHS = 3\n",
    "\n",
    "model.initialize(True, train_dl, loss, INIT_EPOCHS)"
   ]
  },
  {
   "cell_type": "code",
   "execution_count": 42,
   "metadata": {},
   "outputs": [
    {
     "data": {
      "text/plain": [
       "==========================================================================================\n",
       "Layer (type:depth-idx)                   Output Shape              Param #\n",
       "==========================================================================================\n",
       "TTNModel                                 [128, 1]                  484\n",
       "==========================================================================================\n",
       "Total params: 484\n",
       "Trainable params: 484\n",
       "Non-trainable params: 0\n",
       "Total mult-adds (Units.MEGABYTES): 0\n",
       "==========================================================================================\n",
       "Input size (MB): 0.02\n",
       "Forward/backward pass size (MB): 0.00\n",
       "Params size (MB): 0.00\n",
       "Estimated Total Size (MB): 0.02\n",
       "=========================================================================================="
      ]
     },
     "execution_count": 42,
     "metadata": {},
     "output_type": "execute_result"
    }
   ],
   "source": [
    "#print(check_correct_init(model))\n",
    "summary(model, input_size=(BATCH_SIZE, features, 2), dtypes=[DTYPE], device=DEVICE)"
   ]
  },
  {
   "cell_type": "code",
   "execution_count": null,
   "metadata": {},
   "outputs": [
    {
     "data": {
      "text/plain": [
       "0.5351169240893796"
      ]
     },
     "execution_count": 45,
     "metadata": {},
     "output_type": "execute_result"
    }
   ],
   "source": [
    "data = torch.rand(256, features, 2, dtype=DTYPE, device=DEVICE)\n",
    "with torch.no_grad():\n",
    "    result = timeit(lambda: model(data), number=1000)\n",
    "result"
   ]
  },
  {
   "cell_type": "code",
   "execution_count": 43,
   "metadata": {},
   "outputs": [],
   "source": [
    "\n",
    "def train_one_epoch(model, device, train_dl, loss_fn, optimizer, pbar=None, disable_pbar=False):\n",
    "    running_loss = 0.\n",
    "    last_loss = 0.\n",
    "    last_batch = 0\n",
    "    loss_history = []\n",
    "    close_pbar = False\n",
    "    if pbar is None:\n",
    "        close_pbar = True\n",
    "        pbar = tqdm(enumerate(train_dl), total=len(train_dl),position=0, leave=True, disable=disable_pbar)\n",
    "    for i, data in enumerate(train_dl):\n",
    "\n",
    "        # Every data instance is an input + label pair\n",
    "        inputs, labels = data\n",
    "        inputs, labels = inputs.squeeze().to(device, dtype=DTYPE, non_blocking=True), labels.to(device)\n",
    "\n",
    "        # Zero your gradients for every batch!\n",
    "        optimizer.zero_grad()\n",
    "\n",
    "        # Make predictions for this batch\n",
    "        outputs = model(inputs)\n",
    "        probs = torch.pow(outputs, 2)\n",
    "        if DTYPE == torch.cdouble:\n",
    "            probs = torch.real(probs)\n",
    "\n",
    "        #probs = probs / torch.sum(probs, -1)\n",
    "        \n",
    "        # Compute the loss and its gradients\n",
    "        loss = loss_fn(labels, probs, model.tensors, l=LAMBDA)\n",
    "        loss.backward()\n",
    "        \n",
    "        # Adjust learning weights\n",
    "        optimizer.step()\n",
    "\n",
    "        # Gather data and report\n",
    "        running_loss += loss.item()\n",
    "        loss_history.append(loss.item())\n",
    "        if i % 10 == 9:\n",
    "            last_batch = i+1\n",
    "            last_loss = running_loss / 10 # mean loss over 10 batches\n",
    "            running_loss = 0.  \n",
    "        pbar.update()\n",
    "        pbar.set_postfix({'current loss': loss.item(), \n",
    "                          f'batches {last_batch-10}-{last_batch} loss': last_loss, \n",
    "                          'weight_norm': torch.as_tensor([torch.norm(tensor) for tensor in model.tensors]).mean(0).item()})\n",
    "        \n",
    "    pbar.set_postfix({'current loss': loss.item(), f'batches {last_batch-10}-{last_batch} loss': last_loss, 'epoch mean loss': np.array(loss_history).mean()}) # not correct as the last batch is averaged on less samples\n",
    "    if close_pbar:\n",
    "        pbar.close()\n",
    "    return loss_history\n"
   ]
  },
  {
   "cell_type": "code",
   "execution_count": 44,
   "metadata": {},
   "outputs": [],
   "source": [
    "LR = 0.02\n",
    "EPOCHS = 80\n",
    "LAMBDA = 0.1\n",
    "SCHEDULER_STEPS = 4\n",
    "\n",
    "\n",
    "model.train()\n",
    "model.to(DEVICE)\n",
    "optimizer = torch.optim.Adam(model.parameters(), lr=LR, weight_decay=1e-4)\n",
    "schedulers = [torch.optim.lr_scheduler.ExponentialLR(optimizer, 0.9, last_epoch=-1, verbose=False), torch.optim.lr_scheduler.CosineAnnealingLR(optimizer, 10, eta_min=1e-5)]\n",
    "scheduler = schedulers[0]"
   ]
  },
  {
   "cell_type": "code",
   "execution_count": 45,
   "metadata": {},
   "outputs": [
    {
     "name": "stderr",
     "output_type": "stream",
     "text": [
      "100%|██████████| 79/79 [00:00<00:00, 92.28it/s, current loss=0.125, batches 60-70 loss=0.128, epoch mean loss=0.165] \n",
      "100%|██████████| 79/79 [00:00<00:00, 103.05it/s, current loss=0.124, batches 60-70 loss=0.122, epoch mean loss=0.122]\n",
      "100%|██████████| 79/79 [00:00<00:00, 102.70it/s, current loss=0.117, batches 60-70 loss=0.12, epoch mean loss=0.121]\n",
      "100%|██████████| 79/79 [00:00<00:00, 105.86it/s, current loss=0.104, batches 60-70 loss=0.122, epoch mean loss=0.122]\n",
      "100%|██████████| 79/79 [00:00<00:00, 106.26it/s, current loss=0.123, batches 60-70 loss=0.118, epoch mean loss=0.121]\n",
      "100%|██████████| 79/79 [00:00<00:00, 104.21it/s, current loss=0.131, batches 60-70 loss=0.119, epoch mean loss=0.119]\n",
      "100%|██████████| 79/79 [00:00<00:00, 100.01it/s, current loss=0.113, batches 60-70 loss=0.121, epoch mean loss=0.12]\n",
      "100%|██████████| 79/79 [00:00<00:00, 106.15it/s, current loss=0.118, batches 60-70 loss=0.118, epoch mean loss=0.119]\n",
      "100%|██████████| 79/79 [00:00<00:00, 103.49it/s, current loss=0.115, batches 60-70 loss=0.117, epoch mean loss=0.119]\n",
      "100%|██████████| 79/79 [00:00<00:00, 102.62it/s, current loss=0.0924, batches 60-70 loss=0.119, epoch mean loss=0.119]\n",
      "100%|██████████| 79/79 [00:00<00:00, 103.84it/s, current loss=0.137, batches 60-70 loss=0.119, epoch mean loss=0.121]\n",
      "100%|██████████| 79/79 [00:00<00:00, 101.22it/s, current loss=0.127, batches 60-70 loss=0.119, epoch mean loss=0.119]\n",
      "100%|██████████| 79/79 [00:00<00:00, 106.21it/s, current loss=0.127, batches 60-70 loss=0.117, epoch mean loss=0.12]\n",
      "100%|██████████| 79/79 [00:00<00:00, 104.40it/s, current loss=0.124, batches 60-70 loss=0.122, epoch mean loss=0.12]\n",
      "100%|██████████| 79/79 [00:00<00:00, 103.77it/s, current loss=0.139, batches 60-70 loss=0.122, epoch mean loss=0.12]\n",
      "100%|██████████| 79/79 [00:00<00:00, 103.56it/s, current loss=0.112, batches 60-70 loss=0.124, epoch mean loss=0.12]\n",
      "100%|██████████| 79/79 [00:00<00:00, 96.81it/s, current loss=0.125, batches 60-70 loss=0.12, epoch mean loss=0.121] \n",
      "100%|██████████| 79/79 [00:00<00:00, 102.83it/s, current loss=0.117, batches 60-70 loss=0.119, epoch mean loss=0.119]\n",
      "100%|██████████| 79/79 [00:00<00:00, 104.24it/s, current loss=0.118, batches 60-70 loss=0.121, epoch mean loss=0.119]\n",
      "100%|██████████| 79/79 [00:00<00:00, 101.90it/s, current loss=0.125, batches 60-70 loss=0.12, epoch mean loss=0.118]\n",
      "100%|██████████| 79/79 [00:00<00:00, 102.36it/s, current loss=0.108, batches 60-70 loss=0.12, epoch mean loss=0.118]\n",
      "100%|██████████| 79/79 [00:00<00:00, 98.47it/s, current loss=0.112, batches 60-70 loss=0.12, epoch mean loss=0.12] \n",
      "100%|██████████| 79/79 [00:00<00:00, 103.18it/s, current loss=0.12, batches 60-70 loss=0.119, epoch mean loss=0.12]\n",
      "100%|██████████| 79/79 [00:00<00:00, 102.72it/s, current loss=0.117, batches 60-70 loss=0.12, epoch mean loss=0.119]\n",
      "100%|██████████| 79/79 [00:00<00:00, 98.78it/s, current loss=0.103, batches 60-70 loss=0.12, epoch mean loss=0.119] \n",
      "100%|██████████| 79/79 [00:00<00:00, 101.29it/s, current loss=0.131, batches 60-70 loss=0.119, epoch mean loss=0.118]\n",
      "100%|██████████| 79/79 [00:00<00:00, 100.66it/s, current loss=0.118, batches 60-70 loss=0.122, epoch mean loss=0.119]\n",
      "100%|██████████| 79/79 [00:00<00:00, 102.03it/s, current loss=0.117, batches 60-70 loss=0.121, epoch mean loss=0.12]\n",
      "100%|██████████| 79/79 [00:00<00:00, 98.17it/s, current loss=0.106, batches 60-70 loss=0.118, epoch mean loss=0.119] \n",
      "100%|██████████| 79/79 [00:00<00:00, 101.42it/s, current loss=0.126, batches 60-70 loss=0.117, epoch mean loss=0.118]\n",
      "100%|██████████| 79/79 [00:00<00:00, 94.63it/s, current loss=0.11, batches 60-70 loss=0.118, epoch mean loss=0.118] \n",
      "100%|██████████| 79/79 [00:00<00:00, 98.82it/s, current loss=0.115, batches 60-70 loss=0.121, epoch mean loss=0.119] \n",
      "100%|██████████| 79/79 [00:00<00:00, 101.05it/s, current loss=0.109, batches 60-70 loss=0.118, epoch mean loss=0.118]\n",
      "100%|██████████| 79/79 [00:00<00:00, 99.47it/s, current loss=0.116, batches 60-70 loss=0.122, epoch mean loss=0.12] \n",
      "100%|██████████| 79/79 [00:00<00:00, 100.15it/s, current loss=0.105, batches 60-70 loss=0.118, epoch mean loss=0.118]\n",
      "100%|██████████| 79/79 [00:00<00:00, 101.57it/s, current loss=0.154, batches 60-70 loss=0.119, epoch mean loss=0.119]\n",
      "100%|██████████| 79/79 [00:00<00:00, 102.19it/s, current loss=0.104, batches 60-70 loss=0.118, epoch mean loss=0.118]\n",
      "100%|██████████| 79/79 [00:00<00:00, 100.86it/s, current loss=0.101, batches 60-70 loss=0.117, epoch mean loss=0.119]\n",
      "100%|██████████| 79/79 [00:00<00:00, 100.18it/s, current loss=0.117, batches 60-70 loss=0.116, epoch mean loss=0.118]\n",
      "100%|██████████| 79/79 [00:00<00:00, 97.46it/s, current loss=0.119, batches 60-70 loss=0.117, epoch mean loss=0.118] \n",
      "100%|██████████| 79/79 [00:00<00:00, 99.85it/s, current loss=0.0896, batches 60-70 loss=0.119, epoch mean loss=0.119] \n",
      "100%|██████████| 79/79 [00:00<00:00, 103.01it/s, current loss=0.107, batches 60-70 loss=0.121, epoch mean loss=0.119]\n",
      "100%|██████████| 79/79 [00:00<00:00, 98.22it/s, current loss=0.137, batches 60-70 loss=0.119, epoch mean loss=0.118] \n",
      "100%|██████████| 79/79 [00:00<00:00, 102.29it/s, current loss=0.11, batches 60-70 loss=0.119, epoch mean loss=0.119]\n",
      "100%|██████████| 79/79 [00:00<00:00, 101.21it/s, current loss=0.114, batches 60-70 loss=0.116, epoch mean loss=0.118]\n",
      "100%|██████████| 79/79 [00:00<00:00, 99.43it/s, current loss=0.114, batches 60-70 loss=0.117, epoch mean loss=0.118] \n",
      "100%|██████████| 79/79 [00:00<00:00, 98.89it/s, current loss=0.114, batches 60-70 loss=0.119, epoch mean loss=0.118] \n",
      "100%|██████████| 79/79 [00:00<00:00, 99.09it/s, current loss=0.127, batches 60-70 loss=0.12, epoch mean loss=0.119] \n",
      "100%|██████████| 79/79 [00:00<00:00, 102.31it/s, current loss=0.119, batches 60-70 loss=0.118, epoch mean loss=0.118]\n",
      "100%|██████████| 79/79 [00:00<00:00, 98.94it/s, current loss=0.122, batches 60-70 loss=0.116, epoch mean loss=0.118] \n",
      "100%|██████████| 79/79 [00:00<00:00, 100.06it/s, current loss=0.11, batches 60-70 loss=0.118, epoch mean loss=0.119]\n",
      "100%|██████████| 79/79 [00:00<00:00, 101.00it/s, current loss=0.114, batches 60-70 loss=0.118, epoch mean loss=0.118]\n",
      "100%|██████████| 79/79 [00:00<00:00, 94.51it/s, current loss=0.12, batches 60-70 loss=0.12, epoch mean loss=0.118] \n",
      "100%|██████████| 79/79 [00:00<00:00, 101.17it/s, current loss=0.121, batches 60-70 loss=0.118, epoch mean loss=0.119]\n",
      "100%|██████████| 79/79 [00:00<00:00, 98.48it/s, current loss=0.0981, batches 60-70 loss=0.119, epoch mean loss=0.118] \n",
      "100%|██████████| 79/79 [00:00<00:00, 93.84it/s, current loss=0.0895, batches 60-70 loss=0.118, epoch mean loss=0.118] \n",
      "100%|██████████| 79/79 [00:00<00:00, 99.30it/s, current loss=0.115, batches 60-70 loss=0.118, epoch mean loss=0.119] \n",
      "100%|██████████| 79/79 [00:00<00:00, 100.78it/s, current loss=0.127, batches 60-70 loss=0.118, epoch mean loss=0.118]\n",
      "100%|██████████| 79/79 [00:00<00:00, 100.65it/s, current loss=0.118, batches 60-70 loss=0.119, epoch mean loss=0.119]\n",
      "100%|██████████| 79/79 [00:00<00:00, 101.05it/s, current loss=0.122, batches 60-70 loss=0.118, epoch mean loss=0.118]\n",
      "100%|██████████| 79/79 [00:00<00:00, 99.45it/s, current loss=0.123, batches 60-70 loss=0.118, epoch mean loss=0.118] \n",
      "100%|██████████| 79/79 [00:00<00:00, 100.72it/s, current loss=0.0912, batches 60-70 loss=0.12, epoch mean loss=0.118]\n",
      "100%|██████████| 79/79 [00:00<00:00, 99.68it/s, current loss=0.115, batches 60-70 loss=0.117, epoch mean loss=0.118] \n",
      "100%|██████████| 79/79 [00:00<00:00, 100.99it/s, current loss=0.139, batches 60-70 loss=0.116, epoch mean loss=0.118]\n",
      "100%|██████████| 79/79 [00:00<00:00, 101.10it/s, current loss=0.115, batches 60-70 loss=0.118, epoch mean loss=0.118]\n",
      "100%|██████████| 79/79 [00:00<00:00, 98.85it/s, current loss=0.106, batches 60-70 loss=0.117, epoch mean loss=0.118] \n",
      "100%|██████████| 79/79 [00:00<00:00, 100.82it/s, current loss=0.116, batches 60-70 loss=0.118, epoch mean loss=0.118]\n",
      "100%|██████████| 79/79 [00:00<00:00, 101.75it/s, current loss=0.118, batches 60-70 loss=0.118, epoch mean loss=0.118]\n",
      "100%|██████████| 79/79 [00:00<00:00, 97.76it/s, current loss=0.118, batches 60-70 loss=0.117, epoch mean loss=0.118] \n",
      "100%|██████████| 79/79 [00:00<00:00, 102.71it/s, current loss=0.0918, batches 60-70 loss=0.118, epoch mean loss=0.118]\n",
      "100%|██████████| 79/79 [00:00<00:00, 98.14it/s, current loss=0.123, batches 60-70 loss=0.117, epoch mean loss=0.118] \n",
      "100%|██████████| 79/79 [00:00<00:00, 95.82it/s, current loss=0.127, batches 60-70 loss=0.116, epoch mean loss=0.118] \n",
      "100%|██████████| 79/79 [00:00<00:00, 100.88it/s, current loss=0.11, batches 60-70 loss=0.12, epoch mean loss=0.118]\n",
      "100%|██████████| 79/79 [00:00<00:00, 101.72it/s, current loss=0.138, batches 60-70 loss=0.12, epoch mean loss=0.118]\n",
      "100%|██████████| 79/79 [00:00<00:00, 100.51it/s, current loss=0.113, batches 60-70 loss=0.116, epoch mean loss=0.118]\n",
      "100%|██████████| 79/79 [00:00<00:00, 96.93it/s, current loss=0.12, batches 60-70 loss=0.119, epoch mean loss=0.118] \n",
      "100%|██████████| 79/79 [00:00<00:00, 103.12it/s, current loss=0.132, batches 60-70 loss=0.118, epoch mean loss=0.118]\n",
      "100%|██████████| 79/79 [00:00<00:00, 94.07it/s, current loss=0.145, batches 60-70 loss=0.117, epoch mean loss=0.118] \n",
      "100%|██████████| 79/79 [00:00<00:00, 101.64it/s, current loss=0.0958, batches 60-70 loss=0.119, epoch mean loss=0.118]\n",
      "100%|██████████| 79/79 [00:00<00:00, 90.53it/s, current loss=0.113, batches 60-70 loss=0.119, epoch mean loss=0.118] \n",
      "epochs: 100%|██████████| 80/80 [01:14<00:00,  1.07it/s]\n"
     ]
    }
   ],
   "source": [
    "\n",
    "tot_loss_history = []\n",
    "now = datetime.now()\n",
    "for epoch in trange(EPOCHS, desc='epochs', position=0):\n",
    "    loss_history = train_one_epoch(model, DEVICE, train_dl, loss, optimizer)\n",
    "    tot_loss_history += loss_history\n",
    "    if epoch % SCHEDULER_STEPS == SCHEDULER_STEPS-1:\n",
    "        scheduler.step()\n",
    "\n",
    "    \n",
    "loss_history = np.array(tot_loss_history)"
   ]
  },
  {
   "cell_type": "code",
   "execution_count": 46,
   "metadata": {},
   "outputs": [
    {
     "name": "stderr",
     "output_type": "stream",
     "text": [
      "test: 100%|██████████| 8/8 [00:00<00:00, 362.42it/s]\n",
      "train: 100%|██████████| 79/79 [00:00<00:00, 184.38it/s]\n"
     ]
    },
    {
     "data": {
      "text/plain": [
       "(0.6135, 0.493)"
      ]
     },
     "execution_count": 46,
     "metadata": {},
     "output_type": "execute_result"
    }
   ],
   "source": [
    "accuracy(model, DEVICE, train_dl, test_dl, DTYPE)"
   ]
  },
  {
   "cell_type": "code",
   "execution_count": 24,
   "metadata": {},
   "outputs": [],
   "source": [
    "torch.save(model.state_dict, f'models/trainedmodel_{DATASET}_bond{BOND_DIM}_type{str(DTYPE).split(\".\")[1]}_{now.strftime(\"%Y%m%d-%H%M%S\")}.dict')\n",
    "np.save(f'models/loss_history_{now.strftime(\"%Y%m%d-%H%M%S\")}.npy', loss_history)"
   ]
  },
  {
   "cell_type": "code",
   "execution_count": 25,
   "metadata": {},
   "outputs": [
    {
     "name": "stdout",
     "output_type": "stream",
     "text": [
      "0.11339518863459504\n"
     ]
    },
    {
     "data": {
      "image/png": "[encoded data removed]",
      "text/plain": [
       "<Figure size 640x480 with 1 Axes>"
      ]
     },
     "metadata": {},
     "output_type": "display_data"
    }
   ],
   "source": [
    "plt.plot(range(len(loss_history)), loss_history)\n",
    "#plt.ylim(0, 2)\n",
    "print(np.mean(loss_history[-10:]))"
   ]
  },
  {
   "cell_type": "code",
   "execution_count": 26,
   "metadata": {},
   "outputs": [
    {
     "data": {
      "image/png": "[encoded data removed]",
      "text/plain": [
       "<Figure size 800x600 with 1 Axes>"
      ]
     },
     "metadata": {},
     "output_type": "display_data"
    }
   ],
   "source": [
    "fig, ax = plt.subplots(1, 1, figsize=(8, 6))\n",
    "\n",
    "ax.plot([loss_history[i*len(train_dl):((i+1)*len(train_dl) if i<EPOCHS-1 else -1)].mean() for i in range(EPOCHS)])\n",
    "#ax.set_ylim(0, 0.3)\n",
    "ax.set_xlabel('Epoch')\n",
    "ax.set_ylabel('Loss')\n",
    "ax.set_title('Training Loss')\n",
    "ax.grid(axis='y')\n",
    "\n",
    "fig.savefig(f'models/loss_history_{now.strftime(\"%Y%m%d-%H%M%S\")}.png')"
   ]
  },
  {
   "cell_type": "code",
   "execution_count": 48,
   "metadata": {},
   "outputs": [],
   "source": [
    "def get_predictions(model, device, dl, dtype=torch.complex128, disable_pbar=False):\n",
    "\n",
    "    model.eval()\n",
    "    model.to(device)\n",
    "    predictions = []\n",
    "    with torch.no_grad():\n",
    "        for data in tqdm(dl, total=len(dl), position=0, desc='test', disable=disable_pbar):\n",
    "            images, labels = data\n",
    "            images, labels = images.to(device, dtype=dtype).squeeze(), labels.to(device)\n",
    "            outputs = model(images)\n",
    "            probs = torch.real(torch.pow(outputs, 2))\n",
    "            #probs = probs / torch.sum(probs)\n",
    "            predictions.append(probs.squeeze().detach().cpu())\n",
    "\n",
    "    return torch.concat(predictions, dim=0)\n",
    "\n",
    "\n",
    "def get_output(model, device, dl, dtype=torch.complex128, disable_pbar=False):\n",
    "\n",
    "    model.eval()\n",
    "    model.to(device)\n",
    "    outputs = []\n",
    "    with torch.no_grad():\n",
    "        for data in tqdm(dl, total=len(dl), position=0, desc='test', disable=disable_pbar):\n",
    "            images, labels = data\n",
    "            images, labels = images.to(device, dtype=dtype).squeeze(), labels.to(device)\n",
    "            outputs.append(model(images).squeeze().detach().cpu())\n",
    "\n",
    "    return torch.concat(outputs, dim=0)"
   ]
  },
  {
   "cell_type": "code",
   "execution_count": 49,
   "metadata": {},
   "outputs": [
    {
     "name": "stderr",
     "output_type": "stream",
     "text": [
      "test: 100%|██████████| 79/79 [00:00<00:00, 246.23it/s]\n",
      "test: 100%|██████████| 8/8 [00:00<00:00, 491.11it/s]\n"
     ]
    },
    {
     "data": {
      "image/png": "[encoded data removed]",
      "text/plain": [
       "<Figure size 800x600 with 1 Axes>"
      ]
     },
     "metadata": {},
     "output_type": "display_data"
    }
   ],
   "source": [
    "train_pred = get_predictions(model, DEVICE, train_dl, DTYPE)\n",
    "test_pred = get_predictions(model, DEVICE, test_dl, DTYPE)\n",
    "FS=16\n",
    "fig, ax = plt.subplots(1, 1, figsize=(8, 6))\n",
    "\n",
    "ax.hist([train_pred, test_pred], bins=50, label=['train', 'test'], stacked=True, edgecolor='white')\n",
    "ax.legend()\n",
    "ax.set_xlabel('Prediction', fontsize=FS)\n",
    "ax.set_ylabel('Counts', fontsize=FS)\n",
    "ax.set_title('Predictions distribution', fontsize=FS+2)\n",
    "\n",
    "fig.savefig(f'models/predictions_dist_{now.strftime(\"%Y%m%d-%H%M%S\")}.png')"
   ]
  },
  {
   "cell_type": "code",
   "execution_count": 30,
   "metadata": {},
   "outputs": [
    {
     "name": "stderr",
     "output_type": "stream",
     "text": [
      "test:   0%|          | 0/79 [00:00<?, ?it/s]"
     ]
    },
    {
     "name": "stderr",
     "output_type": "stream",
     "text": [
      "test: 100%|██████████| 79/79 [00:00<00:00, 269.54it/s]\n",
      "test: 100%|██████████| 8/8 [00:00<00:00, 647.31it/s]\n"
     ]
    }
   ],
   "source": [
    "# save model output\n",
    "train_out = get_output(model, DEVICE, train_dl, DTYPE)\n",
    "test_out = get_output(model, DEVICE, test_dl, DTYPE)\n",
    "np.save(f'models/train_out_{now.strftime(\"%Y%m%d-%H%M%S\")}.npy', train_out)\n",
    "np.save(f'models/test_out_{now.strftime(\"%Y%m%d-%H%M%S\")}.npy', test_out)"
   ]
  },
  {
   "cell_type": "code",
   "execution_count": 59,
   "metadata": {},
   "outputs": [
    {
     "data": {
      "text/plain": [
       "tensor([[ 0.8753],\n",
       "        [ 0.1982],\n",
       "        [ 0.4921],\n",
       "        [ 1.1066],\n",
       "        [-0.1208],\n",
       "        [ 0.9554],\n",
       "        [ 0.7106],\n",
       "        [-0.0356]], device='cuda:0', dtype=torch.float64,\n",
       "       grad_fn=<ViewBackward0>)"
      ]
     },
     "execution_count": 59,
     "metadata": {},
     "output_type": "execute_result"
    }
   ],
   "source": [
    "data = torch.tensor(np.load('../data/iris/iris_embedded.npy')[80:88]).to(DEVICE, dtype=DTYPE)\n",
    "model(data)"
   ]
  },
  {
   "cell_type": "code",
   "execution_count": 60,
   "metadata": {},
   "outputs": [
    {
     "data": {
      "text/plain": [
       "tensor([ 0.8753,  0.1982,  0.4921,  1.1066, -0.1208,  0.9554,  0.7106, -0.0356,\n",
       "        -0.1550,  0.5700,  0.9094,  1.0298,  0.2796, -0.3584,  1.0068,  0.5912,\n",
       "         0.4615,  0.3426,  0.4464,  0.3763], dtype=torch.float64)"
      ]
     },
     "execution_count": 60,
     "metadata": {},
     "output_type": "execute_result"
    }
   ],
   "source": [
    "test_out"
   ]
  },
  {
   "cell_type": "code",
   "execution_count": 31,
   "metadata": {},
   "outputs": [],
   "source": [
    "#save model weights\n",
    "np.savez(f'models/weights_{now.strftime(\"%Y%m%d-%H%M%S\")}.npz', **{key.name : value.cpu().detach() for key, value in model._TTN__tensor_map.items()})"
   ]
  },
  {
   "cell_type": "code",
   "execution_count": 27,
   "metadata": {},
   "outputs": [],
   "source": [
    "import pandas as pd\n",
    "from utils import quantize\n",
    "dataframe = pd.read_csv('../data' + '/iris/Iris.csv')\n",
    "labels = ['Iris-virginica', 'Iris-versicolor']\n",
    "\n",
    "#dataframe = dataframe.sample(frac=1).reset_index(drop=True)\n",
    "\n",
    "dataframe['SepalLengthCm'] = dataframe['SepalLengthCm'] / dataframe['SepalLengthCm'].max()\n",
    "dataframe['SepalWidthCm'] = dataframe['SepalWidthCm'] / dataframe['SepalWidthCm'].max()\n",
    "dataframe['PetalLengthCm'] = dataframe['PetalLengthCm'] / dataframe['PetalLengthCm'].max()\n",
    "dataframe['PetalWidthCm'] = dataframe['PetalWidthCm'] / dataframe['PetalWidthCm'].max()\n",
    "dataframe = dataframe[dataframe['Species'].isin(labels)]\n",
    "labels = dataframe['Species'].to_numpy()\n",
    "labels = np.where(labels == labels[0], 0, 1)\n",
    "np.save('../data/iris/iris_labels.npy', labels)\n",
    "labels = torch.tensor(labels)\n",
    "\n",
    "\n",
    "data = dataframe.drop(columns=['Id', 'Species']).to_numpy()\n",
    "np.save('../data/iris/iris_normalized.npy', data)\n",
    "data = torch.tensor(data)\n",
    "train_size = int(0.8 * len(data))\n",
    "data = quantize(data)\n",
    "np.save('../data/iris/iris_embedded.npy', data.numpy())"
   ]
  },
  {
   "cell_type": "markdown",
   "metadata": {},
   "source": [
    "## Get weights distribution"
   ]
  },
  {
   "cell_type": "code",
   "execution_count": 50,
   "metadata": {},
   "outputs": [],
   "source": [
    "def get_weights_population(n, dataloader, disable_pbar=False, **kws):\n",
    "    weights_ls = []\n",
    "    DEVICE = 'cuda'\n",
    "    BATCH_SIZE = 64\n",
    "    DTYPE = torch.double\n",
    "    INIT_EPOCHS = 4\n",
    "    LR = 0.05\n",
    "    EPOCHS = 80\n",
    "    SCHEDULER_STEPS = 4\n",
    "    train_dl, test_dl, features = dataloader(batch_size=BATCH_SIZE, **kws)\n",
    "    \n",
    "    pbar = tqdm(total=n*EPOCHS*len(train_dl), position=0, desc='weights population', leave=True, disable=disable_pbar)\n",
    "    for _ in range(n):        \n",
    "        model = TTNModel(features, bond_dim=BOND_DIM, n_labels=1, device=DEVICE, dtype=DTYPE)\n",
    "        model.initialize(True, train_dl, loss, INIT_EPOCHS, disable_pbar=True)\n",
    "        model.train()\n",
    "        model.to(DEVICE)\n",
    "        optimizer = torch.optim.Adam(model.parameters(), lr=LR, weight_decay=1e-4)\n",
    "        schedulers = [torch.optim.lr_scheduler.ExponentialLR(optimizer, 0.9, last_epoch=-1, verbose=False), torch.optim.lr_scheduler.CosineAnnealingLR(optimizer, 10, eta_min=1e-5)]\n",
    "        scheduler = schedulers[0]\n",
    "        tot_loss_history = []\n",
    "        for epoch in range(EPOCHS):\n",
    "            loss_history = train_one_epoch(model, DEVICE, train_dl, loss, optimizer, pbar=pbar, disable_pbar=disable_pbar)\n",
    "            tot_loss_history += loss_history\n",
    "            if epoch % SCHEDULER_STEPS == SCHEDULER_STEPS-1:\n",
    "                scheduler.step()\n",
    "\n",
    "        loss_history = np.array(tot_loss_history)\n",
    "        print('Accuracy on train and test set:', accuracy(model, DEVICE, train_dl, test_dl, DTYPE, disable_pbar=True))\n",
    "\n",
    "        weights = [tensor.detach().cpu().flatten() for tensor in model.tensors]\n",
    "        weights_ls.append(torch.concat(weights, dim=0))\n",
    "        train_dl, test_dl, h = dataloader(batch_size=BATCH_SIZE, **kws)\n",
    "    return torch.stack(weights_ls)"
   ]
  },
  {
   "cell_type": "code",
   "execution_count": 51,
   "metadata": {},
   "outputs": [
    {
     "name": "stderr",
     "output_type": "stream",
     "text": [
      "weights population: 100%|██████████| 12560/12560 [02:08<00:00, 98.09it/s, current loss=0.111, batches 140-150 loss=0.119, epoch mean loss=0.119] "
     ]
    },
    {
     "name": "stdout",
     "output_type": "stream",
     "text": [
      "Accuracy on train and test set: (0.6123, 0.561)\n"
     ]
    },
    {
     "name": "stderr",
     "output_type": "stream",
     "text": [
      "\n"
     ]
    }
   ],
   "source": [
    "BOND_DIM = 10\n",
    "weights = get_weights_population(1, get_higgs_data_loaders)"
   ]
  },
  {
   "cell_type": "code",
   "execution_count": 52,
   "metadata": {},
   "outputs": [
    {
     "name": "stderr",
     "output_type": "stream",
     "text": [
      "/tmp/ipykernel_59376/1777258636.py:9: UserWarning: set_ticklabels() should only be used with a fixed number of ticks, i.e. after set_ticks() or using a FixedLocator.\n",
      "  ax.set_xticklabels(ax.get_xticks(), fontsize=FS-2)\n",
      "/tmp/ipykernel_59376/1777258636.py:10: UserWarning: set_ticklabels() should only be used with a fixed number of ticks, i.e. after set_ticks() or using a FixedLocator.\n",
      "  ax.set_yticklabels(ax.get_yticks(), fontsize=FS-2)\n"
     ]
    },
    {
     "data": {
      "image/png": "[encoded data removed]",
      "text/plain": [
       "<Figure size 800x600 with 1 Axes>"
      ]
     },
     "metadata": {},
     "output_type": "display_data"
    }
   ],
   "source": [
    "weights_plt = weights.flatten().numpy()\n",
    "np.save(f'models/weights_{BOND_DIM}_{now.strftime(\"%Y%m%d-%H%M%S\")}.npy', weights.numpy())\n",
    "FS = 16\n",
    "fig, ax = plt.subplots(1, 1, figsize=(8, 6))\n",
    "ax.hist(weights_plt, bins=40)\n",
    "ax.set_xlabel('Weight', fontsize=FS)\n",
    "ax.set_ylabel('Counts', fontsize=FS)\n",
    "ax.set_title('Weights Distribution', fontsize=FS+2)\n",
    "ax.set_xticklabels(ax.get_xticks(), fontsize=FS-2)\n",
    "ax.set_yticklabels(ax.get_yticks(), fontsize=FS-2)\n",
    "\n",
    "fig.savefig(f'models/weight_distribution_{BOND_DIM}_{now.strftime(\"%Y%m%d-%H%M%S\")}.svg')"
   ]
  },
  {
   "cell_type": "code",
   "execution_count": 53,
   "metadata": {},
   "outputs": [
    {
     "name": "stdout",
     "output_type": "stream",
     "text": [
      "min\n",
      "1.282119190084947e-46\n",
      "max\n",
      "0.8243593144441241\n"
     ]
    }
   ],
   "source": [
    "print('min', np.abs(weights.numpy()).min(), 'max', np.abs(weights.numpy()).max(), sep='\\n')"
   ]
  },
  {
   "cell_type": "code",
   "execution_count": null,
   "metadata": {},
   "outputs": [],
   "source": []
  }
 ],
 "metadata": {
  "kernelspec": {
   "display_name": ".ttn_venv",
   "language": "python",
   "name": "python3"
  },
  "language_info": {
   "codemirror_mode": {
    "name": "ipython",
    "version": 3
   },
   "file_extension": ".py",
   "mimetype": "text/x-python",
   "name": "python",
   "nbconvert_exporter": "python",
   "pygments_lexer": "ipython3",
   "version": "3.11.6"
  }
 },
 "nbformat": 4,
 "nbformat_minor": 2
}
